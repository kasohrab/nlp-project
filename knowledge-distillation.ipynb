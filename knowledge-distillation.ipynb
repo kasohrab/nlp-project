{
  "cells": [
    {
      "cell_type": "markdown",
      "metadata": {
        "id": "89yAdQC7WUmj"
      },
      "source": [
        "# Task-specific knowledge distillation for BERT using Hugging Face Transformers\n",
        "### Text Classification Example using `BERT-Base` as Teacher and `BERT-Tiny` as Student"
      ]
    },
    {
      "cell_type": "markdown",
      "metadata": {
        "id": "uedP34NSWUml"
      },
      "source": [
        "Welcome to our end-to-end task-specific knowledge distilattion Text-Classification example using Transformers, PyTorch & Amazon SageMaker. Distillation is the process of training a small \"student\" to mimic a larger \"teacher\". In this example, we will use [BERT-base](https://huggingface.co/textattack/bert-base-uncased-SST-2) as Teacher and [BERT-Tiny](https://huggingface.co/google/bert_uncased_L-2_H-128_A-2) as Student. We will use [Text-Classification](https://huggingface.co/tasks/text-classification) as task-specific knowledge distillation task and the [Stanford Sentiment Treebank v2 (SST-2)](https://paperswithcode.com/dataset/sst) dataset for training.\n",
        "\n",
        "\n",
        "They are two different types of knowledge distillation, the Task-agnostic knowledge distillation (right) and the Task-specific knowledge distillation (left). In this example we are going to use the Task-specific knowledge distillation.\n",
        "\n",
        "![knowledge-distillation](./imgs/knowledge-distillation.png)\n",
        "_Task-specific distillation (left) versus task-agnostic distillation (right). Figure from FastFormers by Y. Kim and H. Awadalla [arXiv:2010.13382]._\n",
        "\n",
        "\n",
        "In Task-specific knowledge distillation a \"second step of distillation\" is used to \"fine-tune\" the model on a given dataset. This idea comes from the [DistilBERT paper](https://arxiv.org/pdf/1910.01108.pdf) where it was shown that a student performed better than simply finetuning the distilled language model:\n",
        "\n",
        "> We also studied whether we could add another step of distillation during the adaptation phase by fine-tuning DistilBERT on SQuAD using a BERT model previously fine-tuned on SQuAD as a teacher for an additional term in the loss (knowledge distillation). In this setting, there are thus two successive steps of distillation, one during the pre-training phase and one during the adaptation phase. In this case, we were able to reach interesting performances given the size of the model:79.8 F1 and 70.4 EM, i.e. within 3 points of the full model.\n",
        "\n",
        "If you are more interested in those topics you should defintely read:\n",
        "* [DistilBERT, a distilled version of BERT: smaller, faster, cheaper and lighter](https://arxiv.org/abs/1910.01108)\n",
        "* [FastFormers: Highly Efficient Transformer Models for Natural Language Understanding](https://arxiv.org/abs/2010.13382)\n",
        "\n",
        "Especially the [FastFormers paper](https://arxiv.org/abs/2010.13382) contains great research on what works and doesn't work when using knowledge distillation.\n",
        "\n",
        "---\n",
        "\n",
        "Huge thanks to [Lewis Tunstall](https://www.linkedin.com/in/lewis-tunstall/) and his great [Weeknotes: Distilling distilled transformers](https://lewtun.github.io/blog/weeknotes/nlp/huggingface/transformers/2021/01/17/wknotes-distillation-and-generation.html#fn-1)\n"
      ]
    },
    {
      "cell_type": "markdown",
      "metadata": {
        "id": "gfB3W7vWWUmn"
      },
      "source": [
        "## Installation"
      ]
    },
    {
      "cell_type": "code",
      "execution_count": 1,
      "metadata": {
        "colab": {
          "base_uri": "https://localhost:8080/"
        },
        "id": "cTgDfPYuWUmn",
        "outputId": "400a408d-6e0e-4bba-c359-a52d284dfd9d"
      },
      "outputs": [
        {
          "name": "stdout",
          "output_type": "stream",
          "text": [
            "Requirement already satisfied: transformers in c:\\users\\kasra sohrab\\.conda\\envs\\nlp\\lib\\site-packages (4.40.1)\n",
            "Requirement already satisfied: datasets in c:\\users\\kasra sohrab\\.conda\\envs\\nlp\\lib\\site-packages (2.19.0)\n",
            "Requirement already satisfied: tensorboard in c:\\users\\kasra sohrab\\.conda\\envs\\nlp\\lib\\site-packages (2.16.2)\n",
            "Requirement already satisfied: filelock in c:\\users\\kasra sohrab\\.conda\\envs\\nlp\\lib\\site-packages (from transformers) (3.13.1)\n",
            "Requirement already satisfied: huggingface-hub<1.0,>=0.19.3 in c:\\users\\kasra sohrab\\.conda\\envs\\nlp\\lib\\site-packages (from transformers) (0.22.2)\n",
            "Requirement already satisfied: numpy>=1.17 in c:\\users\\kasra sohrab\\.conda\\envs\\nlp\\lib\\site-packages (from transformers) (1.26.3)\n",
            "Requirement already satisfied: packaging>=20.0 in c:\\users\\kasra sohrab\\appdata\\roaming\\python\\python311\\site-packages (from transformers) (23.2)\n",
            "Requirement already satisfied: pyyaml>=5.1 in c:\\users\\kasra sohrab\\.conda\\envs\\nlp\\lib\\site-packages (from transformers) (6.0.1)\n",
            "Requirement already satisfied: regex!=2019.12.17 in c:\\users\\kasra sohrab\\.conda\\envs\\nlp\\lib\\site-packages (from transformers) (2023.10.3)\n",
            "Requirement already satisfied: requests in c:\\users\\kasra sohrab\\.conda\\envs\\nlp\\lib\\site-packages (from transformers) (2.31.0)\n",
            "Requirement already satisfied: tokenizers<0.20,>=0.19 in c:\\users\\kasra sohrab\\.conda\\envs\\nlp\\lib\\site-packages (from transformers) (0.19.1)\n",
            "Requirement already satisfied: safetensors>=0.4.1 in c:\\users\\kasra sohrab\\.conda\\envs\\nlp\\lib\\site-packages (from transformers) (0.4.2)\n",
            "Requirement already satisfied: tqdm>=4.27 in c:\\users\\kasra sohrab\\.conda\\envs\\nlp\\lib\\site-packages (from transformers) (4.65.0)\n",
            "Requirement already satisfied: pyarrow>=12.0.0 in c:\\users\\kasra sohrab\\.conda\\envs\\nlp\\lib\\site-packages (from datasets) (15.0.2)\n",
            "Requirement already satisfied: pyarrow-hotfix in c:\\users\\kasra sohrab\\.conda\\envs\\nlp\\lib\\site-packages (from datasets) (0.6)\n",
            "Requirement already satisfied: dill<0.3.9,>=0.3.0 in c:\\users\\kasra sohrab\\.conda\\envs\\nlp\\lib\\site-packages (from datasets) (0.3.8)\n",
            "Requirement already satisfied: pandas in c:\\users\\kasra sohrab\\.conda\\envs\\nlp\\lib\\site-packages (from datasets) (2.1.4)\n",
            "Requirement already satisfied: xxhash in c:\\users\\kasra sohrab\\.conda\\envs\\nlp\\lib\\site-packages (from datasets) (3.4.1)\n",
            "Requirement already satisfied: multiprocess in c:\\users\\kasra sohrab\\.conda\\envs\\nlp\\lib\\site-packages (from datasets) (0.70.16)\n",
            "Requirement already satisfied: fsspec<=2024.3.1,>=2023.1.0 in c:\\users\\kasra sohrab\\.conda\\envs\\nlp\\lib\\site-packages (from fsspec[http]<=2024.3.1,>=2023.1.0->datasets) (2024.2.0)\n",
            "Requirement already satisfied: aiohttp in c:\\users\\kasra sohrab\\.conda\\envs\\nlp\\lib\\site-packages (from datasets) (3.9.4)\n",
            "Requirement already satisfied: absl-py>=0.4 in c:\\users\\kasra sohrab\\.conda\\envs\\nlp\\lib\\site-packages (from tensorboard) (2.1.0)\n",
            "Requirement already satisfied: grpcio>=1.48.2 in c:\\users\\kasra sohrab\\.conda\\envs\\nlp\\lib\\site-packages (from tensorboard) (1.62.1)\n",
            "Requirement already satisfied: markdown>=2.6.8 in c:\\users\\kasra sohrab\\.conda\\envs\\nlp\\lib\\site-packages (from tensorboard) (3.6)\n",
            "Requirement already satisfied: protobuf!=4.24.0,>=3.19.6 in c:\\users\\kasra sohrab\\.conda\\envs\\nlp\\lib\\site-packages (from tensorboard) (5.26.1)\n",
            "Requirement already satisfied: setuptools>=41.0.0 in c:\\users\\kasra sohrab\\.conda\\envs\\nlp\\lib\\site-packages (from tensorboard) (68.2.2)\n",
            "Requirement already satisfied: six>1.9 in c:\\users\\kasra sohrab\\appdata\\roaming\\python\\python311\\site-packages (from tensorboard) (1.16.0)\n",
            "Requirement already satisfied: tensorboard-data-server<0.8.0,>=0.7.0 in c:\\users\\kasra sohrab\\.conda\\envs\\nlp\\lib\\site-packages (from tensorboard) (0.7.2)\n",
            "Requirement already satisfied: werkzeug>=1.0.1 in c:\\users\\kasra sohrab\\.conda\\envs\\nlp\\lib\\site-packages (from tensorboard) (3.0.2)\n",
            "Requirement already satisfied: aiosignal>=1.1.2 in c:\\users\\kasra sohrab\\.conda\\envs\\nlp\\lib\\site-packages (from aiohttp->datasets) (1.3.1)\n",
            "Requirement already satisfied: attrs>=17.3.0 in c:\\users\\kasra sohrab\\.conda\\envs\\nlp\\lib\\site-packages (from aiohttp->datasets) (23.1.0)\n",
            "Requirement already satisfied: frozenlist>=1.1.1 in c:\\users\\kasra sohrab\\.conda\\envs\\nlp\\lib\\site-packages (from aiohttp->datasets) (1.4.1)\n",
            "Requirement already satisfied: multidict<7.0,>=4.5 in c:\\users\\kasra sohrab\\.conda\\envs\\nlp\\lib\\site-packages (from aiohttp->datasets) (6.0.5)\n",
            "Requirement already satisfied: yarl<2.0,>=1.0 in c:\\users\\kasra sohrab\\.conda\\envs\\nlp\\lib\\site-packages (from aiohttp->datasets) (1.9.4)\n",
            "Requirement already satisfied: typing-extensions>=3.7.4.3 in c:\\users\\kasra sohrab\\.conda\\envs\\nlp\\lib\\site-packages (from huggingface-hub<1.0,>=0.19.3->transformers) (4.9.0)\n",
            "Requirement already satisfied: charset-normalizer<4,>=2 in c:\\users\\kasra sohrab\\.conda\\envs\\nlp\\lib\\site-packages (from requests->transformers) (2.0.4)\n",
            "Requirement already satisfied: idna<4,>=2.5 in c:\\users\\kasra sohrab\\.conda\\envs\\nlp\\lib\\site-packages (from requests->transformers) (3.4)\n",
            "Requirement already satisfied: urllib3<3,>=1.21.1 in c:\\users\\kasra sohrab\\.conda\\envs\\nlp\\lib\\site-packages (from requests->transformers) (2.1.0)\n",
            "Requirement already satisfied: certifi>=2017.4.17 in c:\\users\\kasra sohrab\\.conda\\envs\\nlp\\lib\\site-packages (from requests->transformers) (2024.2.2)\n",
            "Requirement already satisfied: colorama in c:\\users\\kasra sohrab\\appdata\\roaming\\python\\python311\\site-packages (from tqdm>=4.27->transformers) (0.4.6)\n",
            "Requirement already satisfied: MarkupSafe>=2.1.1 in c:\\users\\kasra sohrab\\.conda\\envs\\nlp\\lib\\site-packages (from werkzeug>=1.0.1->tensorboard) (2.1.3)\n",
            "Requirement already satisfied: python-dateutil>=2.8.2 in c:\\users\\kasra sohrab\\appdata\\roaming\\python\\python311\\site-packages (from pandas->datasets) (2.8.2)\n",
            "Requirement already satisfied: pytz>=2020.1 in c:\\users\\kasra sohrab\\.conda\\envs\\nlp\\lib\\site-packages (from pandas->datasets) (2023.3.post1)\n",
            "Requirement already satisfied: tzdata>=2022.1 in c:\\users\\kasra sohrab\\.conda\\envs\\nlp\\lib\\site-packages (from pandas->datasets) (2023.3)\n",
            "Note: you may need to restart the kernel to use updated packages.\n"
          ]
        },
        {
          "name": "stderr",
          "output_type": "stream",
          "text": [
            "'sudo' is not recognized as an internal or external command,\n",
            "operable program or batch file.\n"
          ]
        }
      ],
      "source": [
        "#%pip install \"pytorch==1.10.1\"\n",
        "%pip install transformers datasets tensorboard --upgrade\n",
        "\n",
        "!sudo apt-get install git-lfs"
      ]
    },
    {
      "cell_type": "code",
      "execution_count": 2,
      "metadata": {
        "colab": {
          "base_uri": "https://localhost:8080/"
        },
        "id": "gy1AmnkeYiUD",
        "outputId": "d136cb2a-f37d-4755-927e-5d4fb568bb64"
      },
      "outputs": [
        {
          "name": "stdout",
          "output_type": "stream",
          "text": [
            "Requirement already satisfied: accelerate==0.15.0 in c:\\users\\kasra sohrab\\.conda\\envs\\nlp\\lib\\site-packages (0.15.0)\n",
            "Requirement already satisfied: numpy>=1.17 in c:\\users\\kasra sohrab\\.conda\\envs\\nlp\\lib\\site-packages (from accelerate==0.15.0) (1.26.3)\n",
            "Requirement already satisfied: packaging>=20.0 in c:\\users\\kasra sohrab\\appdata\\roaming\\python\\python311\\site-packages (from accelerate==0.15.0) (23.2)\n",
            "Requirement already satisfied: psutil in c:\\users\\kasra sohrab\\appdata\\roaming\\python\\python311\\site-packages (from accelerate==0.15.0) (5.9.8)\n",
            "Requirement already satisfied: pyyaml in c:\\users\\kasra sohrab\\.conda\\envs\\nlp\\lib\\site-packages (from accelerate==0.15.0) (6.0.1)\n",
            "Requirement already satisfied: torch>=1.4.0 in c:\\users\\kasra sohrab\\.conda\\envs\\nlp\\lib\\site-packages (from accelerate==0.15.0) (2.2.0)\n",
            "Requirement already satisfied: filelock in c:\\users\\kasra sohrab\\.conda\\envs\\nlp\\lib\\site-packages (from torch>=1.4.0->accelerate==0.15.0) (3.13.1)\n",
            "Requirement already satisfied: typing-extensions>=4.8.0 in c:\\users\\kasra sohrab\\.conda\\envs\\nlp\\lib\\site-packages (from torch>=1.4.0->accelerate==0.15.0) (4.9.0)\n",
            "Requirement already satisfied: sympy in c:\\users\\kasra sohrab\\.conda\\envs\\nlp\\lib\\site-packages (from torch>=1.4.0->accelerate==0.15.0) (1.12)\n",
            "Requirement already satisfied: networkx in c:\\users\\kasra sohrab\\.conda\\envs\\nlp\\lib\\site-packages (from torch>=1.4.0->accelerate==0.15.0) (3.1)\n",
            "Requirement already satisfied: jinja2 in c:\\users\\kasra sohrab\\.conda\\envs\\nlp\\lib\\site-packages (from torch>=1.4.0->accelerate==0.15.0) (3.1.3)\n",
            "Requirement already satisfied: fsspec in c:\\users\\kasra sohrab\\.conda\\envs\\nlp\\lib\\site-packages (from torch>=1.4.0->accelerate==0.15.0) (2024.2.0)\n",
            "Requirement already satisfied: MarkupSafe>=2.0 in c:\\users\\kasra sohrab\\.conda\\envs\\nlp\\lib\\site-packages (from jinja2->torch>=1.4.0->accelerate==0.15.0) (2.1.3)\n",
            "Requirement already satisfied: mpmath>=0.19 in c:\\users\\kasra sohrab\\.conda\\envs\\nlp\\lib\\site-packages (from sympy->torch>=1.4.0->accelerate==0.15.0) (1.3.0)\n",
            "Note: you may need to restart the kernel to use updated packages.\n",
            "Collecting transformers==4.28.1 (from transformers[torch]==4.28.1)\n",
            "  Using cached transformers-4.28.1-py3-none-any.whl.metadata (109 kB)\n",
            "Requirement already satisfied: filelock in c:\\users\\kasra sohrab\\.conda\\envs\\nlp\\lib\\site-packages (from transformers==4.28.1->transformers[torch]==4.28.1) (3.13.1)\n",
            "Requirement already satisfied: huggingface-hub<1.0,>=0.11.0 in c:\\users\\kasra sohrab\\.conda\\envs\\nlp\\lib\\site-packages (from transformers==4.28.1->transformers[torch]==4.28.1) (0.22.2)\n",
            "Requirement already satisfied: numpy>=1.17 in c:\\users\\kasra sohrab\\.conda\\envs\\nlp\\lib\\site-packages (from transformers==4.28.1->transformers[torch]==4.28.1) (1.26.3)\n",
            "Requirement already satisfied: packaging>=20.0 in c:\\users\\kasra sohrab\\appdata\\roaming\\python\\python311\\site-packages (from transformers==4.28.1->transformers[torch]==4.28.1) (23.2)\n",
            "Requirement already satisfied: pyyaml>=5.1 in c:\\users\\kasra sohrab\\.conda\\envs\\nlp\\lib\\site-packages (from transformers==4.28.1->transformers[torch]==4.28.1) (6.0.1)\n",
            "Requirement already satisfied: regex!=2019.12.17 in c:\\users\\kasra sohrab\\.conda\\envs\\nlp\\lib\\site-packages (from transformers==4.28.1->transformers[torch]==4.28.1) (2023.10.3)\n",
            "Requirement already satisfied: requests in c:\\users\\kasra sohrab\\.conda\\envs\\nlp\\lib\\site-packages (from transformers==4.28.1->transformers[torch]==4.28.1) (2.31.0)\n",
            "Collecting tokenizers!=0.11.3,<0.14,>=0.11.1 (from transformers==4.28.1->transformers[torch]==4.28.1)\n",
            "  Using cached tokenizers-0.13.3-cp311-cp311-win_amd64.whl.metadata (6.9 kB)\n",
            "Requirement already satisfied: tqdm>=4.27 in c:\\users\\kasra sohrab\\.conda\\envs\\nlp\\lib\\site-packages (from transformers==4.28.1->transformers[torch]==4.28.1) (4.65.0)\n",
            "Requirement already satisfied: torch!=1.12.0,>=1.9 in c:\\users\\kasra sohrab\\.conda\\envs\\nlp\\lib\\site-packages (from transformers[torch]==4.28.1) (2.2.0)\n",
            "Requirement already satisfied: fsspec>=2023.5.0 in c:\\users\\kasra sohrab\\.conda\\envs\\nlp\\lib\\site-packages (from huggingface-hub<1.0,>=0.11.0->transformers==4.28.1->transformers[torch]==4.28.1) (2024.2.0)\n",
            "Requirement already satisfied: typing-extensions>=3.7.4.3 in c:\\users\\kasra sohrab\\.conda\\envs\\nlp\\lib\\site-packages (from huggingface-hub<1.0,>=0.11.0->transformers==4.28.1->transformers[torch]==4.28.1) (4.9.0)\n",
            "Requirement already satisfied: sympy in c:\\users\\kasra sohrab\\.conda\\envs\\nlp\\lib\\site-packages (from torch!=1.12.0,>=1.9->transformers[torch]==4.28.1) (1.12)\n",
            "Requirement already satisfied: networkx in c:\\users\\kasra sohrab\\.conda\\envs\\nlp\\lib\\site-packages (from torch!=1.12.0,>=1.9->transformers[torch]==4.28.1) (3.1)\n",
            "Requirement already satisfied: jinja2 in c:\\users\\kasra sohrab\\.conda\\envs\\nlp\\lib\\site-packages (from torch!=1.12.0,>=1.9->transformers[torch]==4.28.1) (3.1.3)\n",
            "Requirement already satisfied: colorama in c:\\users\\kasra sohrab\\appdata\\roaming\\python\\python311\\site-packages (from tqdm>=4.27->transformers==4.28.1->transformers[torch]==4.28.1) (0.4.6)\n",
            "Requirement already satisfied: charset-normalizer<4,>=2 in c:\\users\\kasra sohrab\\.conda\\envs\\nlp\\lib\\site-packages (from requests->transformers==4.28.1->transformers[torch]==4.28.1) (2.0.4)\n",
            "Requirement already satisfied: idna<4,>=2.5 in c:\\users\\kasra sohrab\\.conda\\envs\\nlp\\lib\\site-packages (from requests->transformers==4.28.1->transformers[torch]==4.28.1) (3.4)\n",
            "Requirement already satisfied: urllib3<3,>=1.21.1 in c:\\users\\kasra sohrab\\.conda\\envs\\nlp\\lib\\site-packages (from requests->transformers==4.28.1->transformers[torch]==4.28.1) (2.1.0)\n",
            "Requirement already satisfied: certifi>=2017.4.17 in c:\\users\\kasra sohrab\\.conda\\envs\\nlp\\lib\\site-packages (from requests->transformers==4.28.1->transformers[torch]==4.28.1) (2024.2.2)\n",
            "Requirement already satisfied: MarkupSafe>=2.0 in c:\\users\\kasra sohrab\\.conda\\envs\\nlp\\lib\\site-packages (from jinja2->torch!=1.12.0,>=1.9->transformers[torch]==4.28.1) (2.1.3)\n",
            "Requirement already satisfied: mpmath>=0.19 in c:\\users\\kasra sohrab\\.conda\\envs\\nlp\\lib\\site-packages (from sympy->torch!=1.12.0,>=1.9->transformers[torch]==4.28.1) (1.3.0)\n",
            "Using cached transformers-4.28.1-py3-none-any.whl (7.0 MB)\n",
            "Using cached tokenizers-0.13.3-cp311-cp311-win_amd64.whl (3.5 MB)\n",
            "Installing collected packages: tokenizers, transformers\n",
            "  Attempting uninstall: tokenizers\n",
            "    Found existing installation: tokenizers 0.19.1\n",
            "    Uninstalling tokenizers-0.19.1:\n",
            "      Successfully uninstalled tokenizers-0.19.1\n",
            "  Attempting uninstall: transformers\n",
            "    Found existing installation: transformers 4.40.1\n",
            "    Uninstalling transformers-4.40.1:\n",
            "      Successfully uninstalled transformers-4.40.1\n",
            "Successfully installed tokenizers-0.13.3 transformers-4.28.1\n",
            "Note: you may need to restart the kernel to use updated packages.\n",
            "Requirement already satisfied: prettytable in c:\\users\\kasra sohrab\\.conda\\envs\\nlp\\lib\\site-packages (3.10.0)\n",
            "Requirement already satisfied: wcwidth in c:\\users\\kasra sohrab\\appdata\\roaming\\python\\python311\\site-packages (from prettytable) (0.2.13)\n",
            "Note: you may need to restart the kernel to use updated packages.\n"
          ]
        }
      ],
      "source": [
        "%pip install accelerate==0.15.0 -U\n",
        "%pip install transformers[torch]==4.28.1\n",
        "%pip install prettytable"
      ]
    },
    {
      "cell_type": "markdown",
      "metadata": {
        "id": "m2nFSh15WUmo"
      },
      "source": [
        "This example will use the [Hugging Face Hub](https://huggingface.co/models) as remote model versioning service. To be able to push our model to the Hub, you need to register on the [Hugging Face](https://huggingface.co/join).\n",
        "If you already have an account you can skip this step.\n",
        "After you have an account, we will use the `notebook_login` util from the `huggingface_hub` package to log into our account and store our token (access key) on the disk."
      ]
    },
    {
      "cell_type": "code",
      "execution_count": 1,
      "metadata": {
        "colab": {
          "base_uri": "https://localhost:8080/",
          "height": 162,
          "referenced_widgets": [
            "65aeb1709dac40cb8c3acff48d6bf8c7",
            "b519349b4e0d4af5afe42c8d783b1fda",
            "7e184fff97e343d98fc796b4f8b2becb",
            "dcff94c81c66445cadb2c4460d874f77",
            "a92d4b93ac4b46bf87b55df2b8b0a26e",
            "6b8a5658df464265a9ea668589b81fce",
            "90863fa6255f4028979011cdab205911",
            "ca6393fd366f4bc9a2e96f258c8e81e9",
            "96ec4f9c9a5f405a9f5a1653c796737d",
            "4d29ce11d52645418244d97c7c0c81fd",
            "f550c88ce6c749768709dc3b036ea74d",
            "61042a78bcdc469aa64004a2dc06f9d1",
            "4dcf79d3709443bcbd2ad98b93053e5f",
            "875e43ba54e34fdea92cfacd468da428",
            "befcac90f8b644789a79b3a2b6417cbe",
            "86344ab381e648f1be45b11a7645bb3b",
            "be6552d4178f40ff98ccb1afacdf178d",
            "7cd43b81abb146659c01adeb85fb738b",
            "b0614165e3f54323810e1f3675b3ede9",
            "2980c8d97aca482fbb6d3c6f6ead1ac1",
            "16c05d05e4cf4a7c8f36c1eac453ef38",
            "7d71644a85264693a1bf9a1f63ce6e7a",
            "92cf1f584e2f427aa711280b8b3856bc",
            "8e184b5019be4893bb44b02d0cfe54eb",
            "c314ba991d254babbef8b47c7cbccd29",
            "d457cb617d114a1ea1ac3cd43752d5cd",
            "175aac9a69f7403f96c381e5bff7d27f",
            "d82a0bf64a404bd78abec3e408879ff3",
            "62128a0618b64d6bbbda57b890fc17e4",
            "89131bcc6db04ff3873299637446b244",
            "ce930f28aa6341ef8661122a1b20b85a",
            "66e9400a54fc4293ad361dc7bf7fb02f"
          ]
        },
        "id": "kxPvBz5cWUmp",
        "outputId": "632beabf-22d2-41ba-893b-97db3645eb9c"
      },
      "outputs": [
        {
          "data": {
            "application/vnd.jupyter.widget-view+json": {
              "model_id": "a69ae67930334988b0ffd6e579e11b04",
              "version_major": 2,
              "version_minor": 0
            },
            "text/plain": [
              "VBox(children=(HTML(value='<center> <img\\nsrc=https://huggingface.co/front/assets/huggingface_logo-noborder.sv…"
            ]
          },
          "metadata": {},
          "output_type": "display_data"
        }
      ],
      "source": [
        "from huggingface_hub import notebook_login\n",
        "\n",
        "notebook_login()\n"
      ]
    },
    {
      "cell_type": "markdown",
      "metadata": {
        "id": "QfYD75pqWUmp"
      },
      "source": [
        "## Setup & Configuration\n",
        "\n",
        "In this step we will define global configurations and paramters, which are used across the whole end-to-end fine-tuning proccess, e.g. `teacher` and `studen` we will use.\n",
        "\n",
        "In this example, we will use [BERT-base](textattack/bert-base-uncased-SST-2) as Teacher and [BERT-Tiny](https://huggingface.co/google/bert_uncased_L-2_H-128_A-2) as Student. Our Teacher is already fine-tuned on our dataset, which makes it easy for us to directly start the distillation training job rather than fine-tuning the teacher first to then distill it afterwards.\n",
        "\n",
        "_**IMPORTANT**: This example will only work with a `Teacher` & `Student` combination where the Tokenizer is creating the same output._\n",
        "\n",
        "Additionally, describes the [FastFormers: Highly Efficient Transformer Models for Natural Language Understanding](https://arxiv.org/abs/2010.13382) paper an additional phenomenon.\n",
        "> In our experiments, we have observed that dis-\n",
        "tilled models do not work well when distilled to a\n",
        "different model type. Therefore, we restricted our\n",
        "setup to avoid distilling RoBERTa model to BERT\n",
        "or vice versa. The major difference between the\n",
        "two model groups is the input token (sub-word) em-\n",
        "bedding. We think that different input embedding\n",
        "spaces result in different output embedding spaces,\n",
        "and knowledge transfer with different spaces does\n",
        "not work well"
      ]
    },
    {
      "cell_type": "code",
      "execution_count": 2,
      "metadata": {
        "id": "snacNRQhWUmp"
      },
      "outputs": [],
      "source": [
        "import collections\n",
        "from typing import Union, List\n",
        "import numpy as np\n",
        "from tqdm.auto import tqdm\n",
        "from transformers.trainer_utils import PredictionOutput\n",
        "from transformers.tokenization_utils import PreTrainedTokenizer\n",
        "from transformers import TrainingArguments, Trainer, EvalPrediction, default_data_collator\n",
        "from datasets import load_metric\n",
        "student_id = \"google/electra-small-discriminator\"\n",
        "teacher_id = \"ahotrod/electra_large_discriminator_squad2_512\"\n",
        "\n",
        "# name for our repository on the hub\n",
        "repo_name = \"electra-distilled-qa\""
      ]
    },
    {
      "cell_type": "markdown",
      "metadata": {
        "id": "k_hfERN7WUmp"
      },
      "source": [
        "Below are some checks to make sure the `Teacher` & `Student` are creating the same output."
      ]
    },
    {
      "cell_type": "code",
      "execution_count": 3,
      "metadata": {
        "colab": {
          "base_uri": "https://localhost:8080/",
          "height": 461,
          "referenced_widgets": [
            "dd285285afae4a288d1c806e3077ac98",
            "078b17f60fe74ff18f0f814e9aab184a",
            "c3129fe7f55044f38661d4ca46d3833f",
            "ef853bd6a29e4a7f9297444478c785f6",
            "6cf56192558241e5b9afd5ed6a9b6bb8",
            "d64d58b97416469c9158c4b07e4b1f88",
            "63bc6690d2d0426eb37f9e64dd86f4e3",
            "161ae2d5ba4446a1b9c14519c61e5d0d",
            "171c561e05c3426d955e115bc3f43329",
            "a0c9fb05ddc74739b1acae1428a428ae",
            "af4e6a908e274dccb98013ecdf5f1734",
            "79e5a117c7a34c9f9efeb2907f57f13b",
            "f3d9e41a989a4e12a1af15c2047be16c",
            "73a31513d96a482e8037d3bc4b689107",
            "6f325fcd67b14da1b4471b4c3e1e1af9",
            "5cf367d59ba54c96a9ae24a8cd524a2b",
            "dfa406263df2423492e83c306822045a",
            "9347132674b24e7aa9f85eda49e8dc6f",
            "e57f079c527148a581b10a5756d18f34",
            "3f0b43e1e09443b29f89391dacbeefd8",
            "8f79718a265648dca56ec1ca67e47c44",
            "6612f24a50f84737984efbf9fc2dbed9",
            "60bc05452d6a4e71b23af24cba3c7e38",
            "a701c33d17da476981d46f25535839da",
            "eb79f4115de84ef494619a6c3dda7346",
            "ef829a3ee4dd489f8a3c947d8ce7c452",
            "a53ef8d95925430b8ac0d853820879ff",
            "bff65059965a42489f9afaea32e3ca68",
            "197472b385914ce2b8a513b0e7aac24c",
            "b28d77eaa121420fa55c27de982cc90c",
            "af24c14339c7420dae15b9eabdfaad6d",
            "5cf0b18bc257451f9d0472cfe8e8570a",
            "9021eade7c84492ba3f4530689e157f9",
            "f24eccdeae5e45e9bc0da817ec12786f",
            "2138576532f2423bb2f91157f0ed1657",
            "0d1ad79601444daeb23aa542d3695adc",
            "284ef9fbd6f849259f88f9d0d8b2172b",
            "6bf1e17c628840a1b34afeff4aea1651",
            "640d337288144eef9dfaa1f08c6e3937",
            "58dd512d05dd4a3fb012332943bcdfad",
            "8f59c441f3544d178147ba1c6975cb52",
            "d32e2332d5f04b6c8a9a5330d66a981b",
            "55431bd06c8b49db942fdd97b3612de8",
            "4f7a4820f51f497390b881ff32752db7",
            "3164702194ac43f4aca01ae3177bfcc3",
            "43845b852dcc4d2c87e3cfc44f3ebd8c",
            "8e7565b8b10f43b9a1b3aff7381b7e0c",
            "0b2febb114af4f2b834a1c88b9eb81a8",
            "701bb93a1e0d4f479cf33024f2291fa9",
            "cd8eb9c10200409db5a172348ecb334b",
            "a6181c3ec687493bae295e8bc2beca8e",
            "e4f4885bfa7c4282beff25e78f3a0f11",
            "3d138cd844f24e839b02abe673cd666b",
            "295d2c231f644e12932abed31df98f78",
            "e707975264844c768e3e17b94fd1699b",
            "d46d6b320e344f1e8056e67d66ef4c5d",
            "00179b771d35489a9d1f846d48a79456",
            "074d9372a6f045a6b1a84556428951b2",
            "6f35f346cb2844aab69f683099827329",
            "09369b7b00c34b3ea015a0c23e28185e",
            "e50c7ed29550431ea4565e6b09375fec",
            "e69a6270959e4a71b65dd6f9886f5648",
            "e74468672d6d44279181e7a380c85942",
            "040e3e6e95994504a2d4791b9a024eca",
            "0ab9509f7c1e42cf8b842d0b037b6312",
            "95ce9782a41844e69acafe4d00d4416c",
            "48d566d1763c403394bceac83294c7bf",
            "8e583457cdca4ab5a6124359f742e877",
            "a7bcd857f6e34cc0b6383c7fa57cb7b3",
            "886a9a9f39b243d3a4e23064e168c9b2",
            "4aa02cb82774499c94997980fe73fe2b",
            "61e4ef79822e43cdb405355a9aa0d6ef",
            "3e219b20c5c8464e8861cd1e6d0becb2",
            "32d6fde335de43acb28c79ff77671b9c",
            "56f7ea4660bb497b9f0798b7226fb2e3",
            "7450f856f9bf4a739784cfd9c2d8befd",
            "e8a9e336c6864211b85d2e911338a5db",
            "5de50e9247a640f392b5c6bc75e0a973",
            "671f92ed2235413f8879128a1b6795c7",
            "87a9ba9ae982434ea871f8473304b6f3",
            "db740aedfc8c4d80b7e903020a86a327",
            "8cf288edeb4a494eb619d0865e0b21da",
            "5c511a3d257d43ae8f4a96877b290492",
            "58a5ad57ec784642b12635442e1d47c2",
            "bf96238c5a69488bb02f9c51195d5ac6",
            "3abfeff5ce604b0d9cea0915054477d7",
            "3c7aa1da33c44004a4a02f82447f70a7",
            "30c7ec995a46478397ed052742aa2d80",
            "028078eceecf47949ca3c761726c7b27",
            "a6e5b45fd17b43f0964131c5e6c7d321",
            "bc8fd27de9a24a159c3baa371e9c5bad",
            "56a00f8340f84bc4a86a0e123ab6f3c8",
            "8b4f6dc3e61540efb5e454efdbefef68",
            "a70d8f3cd4194d90b2660744252ce752",
            "a5b13b61a9964e5a87a5c62d9210ffb0",
            "54f7b195fcd34d4b97c9f156778a1da2",
            "6eba2872eb94464fbd90e05992a7daa0",
            "bcb5ae2b306c443e887bd92476510cd4",
            "34d0737c380a4a2a9e51663299a1b16b",
            "e25ef403fdd64f8c856e20388424e7df",
            "64cf50ff0902453e9c35574c5304a208",
            "5fdfc6034df24ac09e3085bae57ea2a0",
            "87e5326accfb447c8e1e5170c535bf59",
            "22d598fe6667421f922c61dc2591d30d",
            "208e0dadf4724d76a29f71220e7c2432",
            "781239c163a64d1a9bfbca13de4310d2",
            "afd5b314c15a4878a17815b464ee7aa2",
            "c8e5cb2a72154108ba5c76a98d2cc14a",
            "97c2e4ea29584c7094814fa516eccfea",
            "3afe710b428146a28634240d1d2718b7"
          ]
        },
        "id": "0uWAdHOWWUmq",
        "outputId": "1ecfc340-dc61-423b-efae-32219d524c66"
      },
      "outputs": [],
      "source": [
        "from transformers import AutoTokenizer\n",
        "\n",
        "# init tokenizer\n",
        "teacher_tokenizer = AutoTokenizer.from_pretrained(teacher_id)\n",
        "student_tokenizer = AutoTokenizer.from_pretrained(student_id)\n",
        "\n",
        "# sample input\n",
        "sample = \"This is a basic example, with different words to test.\"\n",
        "\n",
        "# assert results\n",
        "assert teacher_tokenizer(sample) == student_tokenizer(sample), \"Tokenizers haven't created the same output\"\n"
      ]
    },
    {
      "cell_type": "markdown",
      "metadata": {
        "id": "KyqYuCbPWUmq"
      },
      "source": [
        "## Dataset & Pre-processing\n",
        "\n",
        "https://huggingface.co/learn/nlp-course/en/chapter7/7"
      ]
    },
    {
      "cell_type": "code",
      "execution_count": 4,
      "metadata": {},
      "outputs": [],
      "source": [
        "def prepare_train_features(examples: Union[str, List[str], List[List[str]]], tokenizer: PreTrainedTokenizer, \n",
        "                           pad_on_right: bool, max_length: int=512, doc_stride: int=128):\n",
        "    \"Tokenize and encode training examples in the SQuAD format\"\n",
        "    tokenized_examples = tokenizer(\n",
        "        examples[\"question\" if pad_on_right else \"context\"],\n",
        "        examples[\"context\" if pad_on_right else \"question\"],\n",
        "        truncation=\"only_second\" if pad_on_right else \"only_first\",\n",
        "        max_length=max_length,\n",
        "        stride=doc_stride,\n",
        "        return_overflowing_tokens=True,\n",
        "        return_offsets_mapping=True,\n",
        "        padding=\"max_length\",\n",
        "    )\n",
        "    sample_mapping = tokenized_examples.pop(\"overflow_to_sample_mapping\")\n",
        "    offset_mapping = tokenized_examples.pop(\"offset_mapping\")\n",
        "    tokenized_examples[\"start_positions\"] = []\n",
        "    tokenized_examples[\"end_positions\"] = []\n",
        "\n",
        "    for i, offsets in enumerate(offset_mapping):\n",
        "        # label impossible answers with the index of the CLS token\n",
        "        input_ids = tokenized_examples[\"input_ids\"][i]\n",
        "        cls_index = input_ids.index(tokenizer.cls_token_id)\n",
        "        sequence_ids = tokenized_examples.sequence_ids(i)\n",
        "        sample_index = sample_mapping[i]\n",
        "        answers = examples[\"answers\"][sample_index]\n",
        "        if len(answers[\"answer_start\"]) == 0:\n",
        "            tokenized_examples[\"start_positions\"].append(cls_index)\n",
        "            tokenized_examples[\"end_positions\"].append(cls_index)\n",
        "        else:\n",
        "            start_char = answers[\"answer_start\"][0]\n",
        "            end_char = start_char + len(answers[\"text\"][0])\n",
        "            token_start_index = 0\n",
        "            while sequence_ids[token_start_index] != (1 if pad_on_right else 0):\n",
        "                token_start_index += 1\n",
        "            token_end_index = len(input_ids) - 1\n",
        "            while sequence_ids[token_end_index] != (1 if pad_on_right else 0):\n",
        "                token_end_index -= 1\n",
        "            if not (offsets[token_start_index][0] <= start_char and offsets[token_end_index][1] >= end_char):\n",
        "                tokenized_examples[\"start_positions\"].append(cls_index)\n",
        "                tokenized_examples[\"end_positions\"].append(cls_index)\n",
        "            else:\n",
        "                while token_start_index < len(offsets) and offsets[token_start_index][0] <= start_char:\n",
        "                    token_start_index += 1\n",
        "                tokenized_examples[\"start_positions\"].append(token_start_index - 1)\n",
        "                while offsets[token_end_index][1] >= end_char:\n",
        "                    token_end_index -= 1\n",
        "                tokenized_examples[\"end_positions\"].append(token_end_index + 1)\n",
        "\n",
        "    return tokenized_examples\n",
        "\n",
        "def prepare_validation_features(examples, tokenizer, pad_on_right, max_length, doc_stride):\n",
        "    \"Tokenize and encode validation examples in the SQuAD format\"\n",
        "    tokenized_examples = tokenizer(\n",
        "        examples['question' if pad_on_right else 'context'],\n",
        "        examples['context' if pad_on_right else 'question'],\n",
        "        truncation=\"only_second\" if pad_on_right else \"only_first\",\n",
        "        max_length=max_length,\n",
        "        stride=doc_stride,\n",
        "        return_overflowing_tokens=True,\n",
        "        return_offsets_mapping=True,\n",
        "        padding=\"max_length\",\n",
        "    )\n",
        "    sample_mapping = tokenized_examples.pop(\"overflow_to_sample_mapping\")\n",
        "    tokenized_examples[\"example_id\"] = []\n",
        "\n",
        "    for i in range(len(tokenized_examples[\"input_ids\"])):\n",
        "        sequence_ids = tokenized_examples.sequence_ids(i)\n",
        "        context_index = 1 if pad_on_right else 0\n",
        "        sample_index = sample_mapping[i]\n",
        "        tokenized_examples[\"example_id\"].append(examples[\"id\"][sample_index])\n",
        "        tokenized_examples[\"offset_mapping\"][i] = [\n",
        "            (o if sequence_ids[k] == context_index else None)\n",
        "            for k, o in enumerate(tokenized_examples[\"offset_mapping\"][i])\n",
        "        ]\n",
        "\n",
        "    return tokenized_examples\n",
        "\n",
        "def convert_examples_to_features(dataset, tokenizer, num_train_examples, num_eval_examples, \n",
        "                                 max_length=512, doc_stride=128, seed=42):\n",
        "    \"Tokenize and encode the training and validation examples in the SQuAD format\"\n",
        "    max_length = max_length \n",
        "    doc_stride = doc_stride \n",
        "    pad_on_right = tokenizer.padding_side == \"right\"\n",
        "    fn_kwargs = {\n",
        "        \"tokenizer\": tokenizer,\n",
        "        \"max_length\": max_length,\n",
        "        \"doc_stride\": doc_stride,\n",
        "        \"pad_on_right\": pad_on_right\n",
        "    }\n",
        "    train_enc = (dataset['train']\n",
        "                 .shuffle(seed=seed)\n",
        "                 .select(range(num_train_examples))\n",
        "                 .map(prepare_train_features, fn_kwargs=fn_kwargs, batched=True, remove_columns=dataset[\"train\"].column_names)\n",
        "                )\n",
        "    eval_enc = (dataset['validation']\n",
        "                .shuffle(seed=seed)\n",
        "                .select(range(num_eval_examples))\n",
        "                .map(prepare_validation_features, fn_kwargs=fn_kwargs, batched=True, remove_columns=dataset[\"validation\"].column_names)\n",
        "               )\n",
        "    eval_examples = dataset['validation'].shuffle(seed=seed).select(range(num_eval_examples))\n",
        "\n",
        "    return train_enc, eval_enc, eval_examples"
      ]
    },
    {
      "cell_type": "code",
      "execution_count": 5,
      "metadata": {
        "id": "y0MegLgmWUmq"
      },
      "outputs": [],
      "source": [
        "dataset_id=\"squad_v2\"\n",
        "dataset_config=\"sst2\""
      ]
    },
    {
      "cell_type": "markdown",
      "metadata": {
        "id": "t3WWW2RYWUmq"
      },
      "source": [
        "To load the `sst2` dataset, we use the `load_dataset()` method from the 🤗 Datasets library.\n"
      ]
    },
    {
      "cell_type": "code",
      "execution_count": 6,
      "metadata": {
        "colab": {
          "base_uri": "https://localhost:8080/",
          "height": 484,
          "referenced_widgets": [
            "e46a9dea79d64131a07bd6be2244f9c4",
            "4766b3f21eb14763ae3bbf23bdb9974e",
            "f2b0a9ca80be4987b594af665e8b3794",
            "14c1506f33354a4f93a831f5171b630f",
            "0b8f011ba03b4621b0a67b9c4f3b8ad5",
            "9441cb5090294b8ea192546490aa184d",
            "14f0df72d9414710883f28c7fdcc9836",
            "3413da231f9e4dc48f2d2b1626c37c61",
            "5cfed66a92a74a2285ed2aeb6b2c0ac5",
            "e3147a7bd94e455a985365fef2aa61c0",
            "370ca777f4ac46f7b251eb788bd20426",
            "13825de7e69e44fdb1e1b24b34ce56b2",
            "3da4ebb34e9047789cd8ff758cb18d9f",
            "c6a49a4279b542dc99daa91685c373c2",
            "9beb03182389477cafdb73b9c93b528c",
            "2d0ea65e259f4050b48d42e86a0a4d71",
            "66e7a28553c44fc49984134bf2a2b7d2",
            "4ff040c7fb764b1cbe724b377f61ecfe",
            "afe508e5a18b48dd839070b3469c7a3f",
            "03edeeefb37a491285e45f73213a2756",
            "1ec6205ef95d4c24941c21f046097747",
            "c7f40de6e98248cc954eae613776b02a",
            "5b2accb4b05d4fdca6e0acf110955d13",
            "15dbcf49e4ea4545944cff6149a7060b",
            "17afd06a7f3c4639954aa1c233f91a7e",
            "123cf77379654da5a66a897e3c2711f7",
            "70b1282cae68426f9d2f2f900a8978be",
            "0701b5fa25c2456fb430a797b2367a58",
            "53279e2e935b490c90cf2ee63891b9de",
            "c9bc152d321a48a1aee4aa85faadcd31",
            "82ab9beda4704abeb035e3b93f8e387d",
            "a4be5db2d7ec45f8bb83c45489c1c4ff",
            "fd8f921d370c41dabb4ba467a86d6a9d",
            "73e0b60e875c49ed81774942faec8e3a",
            "72ef1dc828f84e739bafbf96b6157736",
            "f441917ec26942fd999b5e6bd293a9bc",
            "627c8e6344824699abb58321d7adbfaf",
            "a63bbffe40a241fd906ac5a6c598dde0",
            "ca0be6d5029c4799bd9c8583f1776b43",
            "8941b27e926d4dac9b23324c12b1c9da",
            "b975d8ff24084df1b1530cf647eb9ac2",
            "c5d3885ed2e841c38b91e17ae8968f28",
            "aff90594d2e04db3992d03a2c8150987",
            "50e1c9a1d2e3481d8a54aa40eeac0391",
            "14f1337b004c4a98960807e973621bb2",
            "3ee219834f2d4399a7dc08820da15fd5",
            "65b77893a3d849c28d39e0a86cbc737a",
            "7d3733ba09234c12b1dafc6319fb7f6c",
            "61fdeed54cac4d9e9789fbb51ae24bb4",
            "40fc38bedd6f48b185845636948e33e1",
            "8493e7c94f304137b91bd306126322a9",
            "c740224fe93546be97a66fb3a191a70b",
            "82d3b8fdf67e472eab1203de92e1371d",
            "6826a773e53445e581915ade1ce38d4d",
            "15c4afb2eadd4480b32561a9b9561b66",
            "3556cc25aa1145d1a7475c508e593385",
            "61c238367cbe4436b99904db918995c5",
            "0b89c7d1c7474e15a08e4992470f705f",
            "ec981c3e767f4160a6e3df3dcd61b326",
            "b6c399a18b3c4c1e8715456820875fae",
            "c69d8204cddd4ad59ddffe72a6cf7cc0",
            "8e1496bf5bcf4e8099899fa7fffde28f",
            "bd32aaf052014e56ac6c639b947e2e77",
            "8f203a1b633441cd9929ae6c603da4e7",
            "3037614818da4e3d9fc034883db0b56f",
            "83a3229fea864e97ad6481acd095ef77",
            "740806e7ea234f82b434023a881bc073",
            "0b904d186b724a2e9cfa71a61351ae1e",
            "8c45f4edaea54474b96f0869a04643b9",
            "461593ca1e524d7c9ae1ca1f8ebbb107",
            "c0abb3c2c21b4e54b55747d166a33516",
            "e3955a50236049428918cbbf4380307d",
            "b89ad4ceea834f35906fb2c2ad875f47",
            "59d934fe91e14fde978507afa7d5036a",
            "f94fe4707f1e4a499fb32665a4c61529",
            "6562ce4e80f04798b7ec4492493b6fe5",
            "88b028fd82c34ce5addfd19954d7088e"
          ]
        },
        "id": "GZMZPoxyWUmr",
        "outputId": "9ff3ea07-add1-44dd-fa0c-fd7c0a7a5aae"
      },
      "outputs": [
        {
          "data": {
            "text/plain": [
              "DatasetDict({\n",
              "    train: Dataset({\n",
              "        features: ['id', 'title', 'context', 'question', 'answers'],\n",
              "        num_rows: 130319\n",
              "    })\n",
              "    validation: Dataset({\n",
              "        features: ['id', 'title', 'context', 'question', 'answers'],\n",
              "        num_rows: 11873\n",
              "    })\n",
              "})"
            ]
          },
          "execution_count": 6,
          "metadata": {},
          "output_type": "execute_result"
        }
      ],
      "source": [
        "from datasets import load_dataset\n",
        "\n",
        "dataset = load_dataset(dataset_id)\n",
        "dataset"
      ]
    },
    {
      "cell_type": "markdown",
      "metadata": {
        "id": "2JYsWTnfWUmr"
      },
      "source": [
        "### Pre-processing & Tokenization\n",
        "\n",
        "To distill our model we need to convert our \"Natural Language\" to token IDs. This is done by a 🤗 Transformers Tokenizer which will tokenize the inputs (including converting the tokens to their corresponding IDs in the pretrained vocabulary). If you are not sure what this means check out [chapter 6](https://huggingface.co/course/chapter6/1?fw=tf) of the Hugging Face Course.\n",
        "\n",
        "We are going to use the tokenizer of the `Teacher`, but since both are creating same output you could also go with the `Student` tokenizer.\n"
      ]
    },
    {
      "cell_type": "code",
      "execution_count": 9,
      "metadata": {
        "id": "lsHX-EPoWUms"
      },
      "outputs": [],
      "source": [
        "from transformers import AutoTokenizer\n",
        "\n",
        "tokenizer = AutoTokenizer.from_pretrained(teacher_id)"
      ]
    },
    {
      "cell_type": "markdown",
      "metadata": {
        "id": "TtVQ0CUwWUms"
      },
      "source": [
        "Additionally we add the `truncation=True` and `max_length=512` to align the length and truncate texts that are bigger than the maximum size allowed by the model."
      ]
    },
    {
      "cell_type": "code",
      "execution_count": 10,
      "metadata": {
        "colab": {
          "base_uri": "https://localhost:8080/",
          "height": 200,
          "referenced_widgets": [
            "dde79822e62e45d98965f997009c376a",
            "4a7cf6dc44d94cf2b144534af57a2aac",
            "f8d5de2feffc4a73896701b585102e8d",
            "411ce105bc7140ac904b1eacf31a529d",
            "8d3fa3243f8b491a83404cdd3227e9a2",
            "57d36a48be704a2ab38af7dbfb6c443a",
            "a4c5edbe5551435db833ae533255ecac",
            "bfd182d1bd554d9c973b7877b225e436",
            "007a4d62721c4b31a0912ba270cc5d4f",
            "08d4f1458d7b45a08a6329145514d34b",
            "76e3b76bd3724815bb2eff127700632f",
            "76e022bb4e784f1fb4cacb260872caf9",
            "cf3558ab970542319c66c8b7f07fe709",
            "7f1e775bd35c4261982e1a5ec31fe012",
            "8164b6cb0d134838bea0da62ea9e6fdb",
            "4b9c09b4d7d44f4fa4a0bd9f6a40aba7",
            "afe23af3ad364b699690e1edce90f5b5",
            "433b2e9391a64f8c8cd670a3e4829691",
            "40a043df48a1449ea04027cb60ccee0a",
            "6aad578766084abeab4f3e8ea6c174bf",
            "95956e995ce64c368014de741a809def",
            "4a73adeceb18494c8619476e174b7b8b",
            "96153b0969e1429cac936888bd0d7827",
            "71c70a8979bc416d9877ff009bed746a",
            "d8e652e973c4440b97c7b79330a6ff59",
            "0f7c4f1b1a7f4990ba161c14ebb0ec15",
            "9f99df91f86641f097e02ff7150f3911",
            "1dd2bf8b1ccb4203afce2e2ecda58ec7",
            "d0325b942f634a12ae01d69aecf7f503",
            "d8220fc994dd4348ae7f3db53e9b6c71",
            "2abc66af1122455da48a44b23666c8be",
            "e3d95afa52c44684affcbe125a4a6582",
            "31e9fc5387134e68870436d02f1752c9"
          ]
        },
        "id": "jaQX77rIWUms",
        "outputId": "43e30959-dfea-4361-958b-9bdfcbbbb263"
      },
      "outputs": [],
      "source": [
        "num_train_examples = 3200\n",
        "num_eval_examples = 320\n",
        "train_ds, eval_ds, eval_examples = convert_examples_to_features(dataset, tokenizer, num_train_examples, num_eval_examples)\n",
        "assert eval_examples.num_rows == num_eval_examples"
      ]
    },
    {
      "cell_type": "code",
      "execution_count": 11,
      "metadata": {},
      "outputs": [
        {
          "name": "stderr",
          "output_type": "stream",
          "text": [
            "C:\\Users\\Kasra Sohrab\\AppData\\Local\\Temp\\ipykernel_7080\\936429260.py:1: FutureWarning: load_metric is deprecated and will be removed in the next major version of datasets. Use 'evaluate.load' instead, from the new library 🤗 Evaluate: https://huggingface.co/docs/evaluate\n",
            "  metric = load_metric(\"squad_v2\")\n",
            "c:\\Users\\Kasra Sohrab\\.conda\\envs\\nlp\\Lib\\site-packages\\datasets\\load.py:759: FutureWarning: The repository for squad_v2 contains custom code which must be executed to correctly load the metric. You can inspect the repository content at https://raw.githubusercontent.com/huggingface/datasets/2.19.0/metrics/squad_v2/squad_v2.py\n",
            "You can avoid this message in future by passing the argument `trust_remote_code=True`.\n",
            "Passing `trust_remote_code=True` will be mandatory to load this metric from the next major release of `datasets`.\n",
            "  warnings.warn(\n"
          ]
        }
      ],
      "source": [
        "metric = load_metric(\"squad_v2\")\n",
        "\n",
        "def squad_metrics(p: EvalPrediction):\n",
        "    \"Compute the Exact Match and F1-score metrics on SQuAD\"\n",
        "    return metric.compute(predictions=p.predictions, references=p.label_ids)"
      ]
    },
    {
      "cell_type": "markdown",
      "metadata": {
        "id": "h6s8BnPvWUms"
      },
      "source": [
        "## Distilling the model using `PyTorch` and `DistillationTrainer`\n",
        "\n",
        "\n",
        "Now that our `dataset` is processed, we can distill it. Normally, when fine-tuning a transformer model using PyTorch you should go with the `Trainer-API`. The [Trainer](https://huggingface.co/docs/transformers/v4.16.1/en/main_classes/trainer#transformers.Trainer) class provides an API for feature-complete training in PyTorch for most standard use cases.\n",
        "\n",
        "In our example we cannot use the `Trainer` out-of-the-box, since we need to pass in two models, the `Teacher` and the `Student` and compute the loss for both. But we can subclass the `Trainer` to create a `DistillationTrainer` which will take care of it and only overwrite the [compute_loss](https://github.com/huggingface/transformers/blob/c4ad38e5ac69e6d96116f39df789a2369dd33c21/src/transformers/trainer.py#L1962) method as well as the `init` method. In addition to this we also need to subclass the `TrainingArguments` to include the our distillation hyperparameters.\n"
      ]
    },
    {
      "cell_type": "code",
      "execution_count": 13,
      "metadata": {
        "id": "rhxWtPYEWUms"
      },
      "outputs": [],
      "source": [
        "from transformers import TrainingArguments, Trainer\n",
        "import torch\n",
        "import torch.nn as nn\n",
        "import torch.nn.functional as F\n",
        "\n",
        "class QuestionAnsweringTrainingArguments(TrainingArguments):\n",
        "    def __init__(self, *args, max_length=384, doc_stride=128, version_2_with_negative=True, \n",
        "                 null_score_diff_threshold=0., n_best_size=20, max_answer_length=30,  alpha=.5, temperature=4, **kwargs):\n",
        "        super().__init__(*args, **kwargs)\n",
        "        \n",
        "        self.max_length = max_length\n",
        "        self.doc_stride = doc_stride\n",
        "        self.version_2_with_negative = version_2_with_negative\n",
        "        self.null_score_diff_threshold = null_score_diff_threshold\n",
        "        self.n_best_size = n_best_size\n",
        "        self.max_answer_length = max_answer_length\n",
        "        self.disable_tqdm = False\n",
        "        self.alpha = alpha\n",
        "        self.temperature = temperature\n",
        "     \n",
        "\n",
        "#export\n",
        "class QuestionAnsweringTrainer(Trainer):\n",
        "    def __init__(self, *args, eval_examples=None, teacher_model=None, **kwargs):\n",
        "        super().__init__(*args, **kwargs)\n",
        "        self.eval_examples = eval_examples\n",
        "        self.data_collator = default_data_collator\n",
        "        self.compute_metrics = squad_metrics\n",
        "        self.teacher = teacher_model\n",
        "        # place teacher on same device as student\n",
        "        self._move_model_to_device(self.teacher,self.model.device)\n",
        "        self.teacher.eval()\n",
        "\n",
        "    def compute_loss(self, model, inputs, return_outputs=False):\n",
        "        # compute student output\n",
        "        outputs_student = model(**inputs)\n",
        "        student_loss=outputs_student.loss\n",
        "        \n",
        "        \n",
        "        # compute teacher output\n",
        "        with torch.no_grad():\n",
        "          outputs_teacher = self.teacher(**inputs)\n",
        "        assert outputs_student.start_logits.size() == outputs_teacher.start_logits.size()\n",
        "        assert outputs_student.end_logits.size() == outputs_teacher.end_logits.size()\n",
        "        # Soften probabilities and compute distillation loss\n",
        "        loss_function = nn.KLDivLoss(reduction=\"batchmean\")\n",
        "        kl_loss = dict()\n",
        "        kl_loss['start_logits'] = loss_function(\n",
        "            F.log_softmax(outputs_student.start_logits / self.args.temperature, dim=-1),\n",
        "            F.softmax(outputs_teacher.start_logits / self.args.temperature, dim=-1)) * (self.args.temperature ** 2)\n",
        "        kl_loss['end_logits'] = loss_function(\n",
        "            F.log_softmax(outputs_student.end_logits / self.args.temperature, dim=-1),\n",
        "            F.softmax(outputs_teacher.end_logits / self.args.temperature, dim=-1)) * (self.args.temperature ** 2)\n",
        "        \n",
        "        loss = student_loss * self.args.alpha + ((kl_loss['start_logits'] + kl_loss[\"end_logits\"]) / 2) * (1. - self.args.alpha)\n",
        "\n",
        "        return (loss, outputs_student) if return_outputs else loss\n",
        "        \n",
        "    def evaluate(self, eval_dataset=None, eval_examples=None, ignore_keys=None):\n",
        "        eval_dataset = self.eval_dataset if eval_dataset is None else eval_dataset\n",
        "        eval_dataloader = self.get_eval_dataloader(eval_dataset)\n",
        "        eval_examples = self.eval_examples if eval_examples is None else eval_examples\n",
        "\n",
        "        compute_metrics = self.compute_metrics\n",
        "        self.compute_metrics = None\n",
        "        try:\n",
        "            output = self.prediction_loop(\n",
        "                eval_dataloader,\n",
        "                description=\"Evaluation\",\n",
        "                prediction_loss_only=True if compute_metrics is None else None,\n",
        "                ignore_keys=ignore_keys,\n",
        "            )\n",
        "        finally:\n",
        "            self.compute_metrics = compute_metrics\n",
        "        eval_dataset.set_format(type=eval_dataset.format[\"type\"], columns=list(eval_dataset.features.keys()))\n",
        "\n",
        "        if self.compute_metrics is not None:\n",
        "            eval_preds = self._post_process_function(eval_examples, eval_dataset, output.predictions)\n",
        "            metrics = self.compute_metrics(eval_preds)\n",
        "            # For some reason the eval_loss is not returned in output's metrics\n",
        "            # Work around since NotebookProgressCallback assumes eval_loss key exists\n",
        "            metrics['eval_loss'] = 'No log'\n",
        "\n",
        "            self.log(metrics)\n",
        "        else:\n",
        "            metrics = {}\n",
        "            \n",
        "        for key in list(metrics.keys()):\n",
        "            if not key.startswith(f\"eval_\"):\n",
        "                metrics[f\"eval_{key}\"] = metrics.pop(key)\n",
        "\n",
        "        self.control = self.callback_handler.on_evaluate(self.args, self.state, self.control, metrics)\n",
        "        return metrics\n",
        "\n",
        "    def predict(self, test_dataset, test_examples, ignore_keys=None):\n",
        "        test_dataloader = self.get_test_dataloader(test_dataset)\n",
        "        compute_metrics = self.compute_metrics\n",
        "        self.compute_metrics = None\n",
        "        try:\n",
        "            output = self.prediction_loop(\n",
        "                test_dataloader,\n",
        "                description=\"Evaluation\",\n",
        "                prediction_loss_only=True if compute_metrics is None else None,\n",
        "                ignore_keys=ignore_keys,\n",
        "            )\n",
        "        finally:\n",
        "            self.compute_metrics = compute_metrics\n",
        "\n",
        "        if self.compute_metrics is None:\n",
        "            return output\n",
        "\n",
        "        test_dataset.set_format(type=test_dataset.format[\"type\"], columns=list(test_dataset.features.keys()))\n",
        "        eval_preds = self._post_process_function(test_examples, test_dataset, output.predictions)\n",
        "        metrics = self.compute_metrics(eval_preds)\n",
        "\n",
        "        return PredictionOutput(predictions=eval_preds.predictions, label_ids=eval_preds.label_ids, metrics=metrics)\n",
        "    \n",
        "    \n",
        "    def _post_process_function(self, examples, features, predictions):\n",
        "        predictions = self._postprocess_qa_predictions(\n",
        "            examples=examples,\n",
        "            features=features,\n",
        "            predictions=predictions,\n",
        "            version_2_with_negative=self.args.version_2_with_negative,\n",
        "            n_best_size=self.args.n_best_size,\n",
        "            max_answer_length=self.args.max_answer_length,\n",
        "            null_score_diff_threshold=self.args.null_score_diff_threshold,\n",
        "            output_dir=self.args.output_dir,\n",
        "            is_world_process_zero=self.is_world_process_zero(),\n",
        "        )\n",
        "        if self.args.version_2_with_negative:\n",
        "            formatted_predictions = [\n",
        "                {\"id\": k, \"prediction_text\": v, \"no_answer_probability\": 0.0} for k, v in predictions.items()\n",
        "            ]\n",
        "        else:\n",
        "            formatted_predictions = [{\"id\": k, \"prediction_text\": v} for k, v in predictions.items()]\n",
        "        references = [{\"id\": ex[\"id\"], \"answers\": ex['answers']} for ex in self.eval_examples]\n",
        "        return EvalPrediction(predictions=formatted_predictions, label_ids=references)\n",
        "    \n",
        "    \n",
        "    def _postprocess_qa_predictions(\n",
        "        self,\n",
        "        examples,\n",
        "        features,\n",
        "        predictions,\n",
        "        version_2_with_negative= False,\n",
        "        n_best_size = None,\n",
        "        max_answer_length = None,\n",
        "        null_score_diff_threshold = None,\n",
        "        output_dir = None,\n",
        "        prefix = None,\n",
        "        is_world_process_zero = True,\n",
        "    ):\n",
        "        assert len(predictions) == 2, \"`predictions` should be a tuple with two elements (start_logits, end_logits).\"\n",
        "        all_start_logits, all_end_logits = predictions\n",
        "        assert len(predictions[0]) == len(features), f\"Got {len(predictions[0])} predictions and {len(features)} features.\"\n",
        "\n",
        "        example_id_to_index = {k: i for i, k in enumerate(examples[\"id\"])}\n",
        "        features_per_example = collections.defaultdict(list)\n",
        "        for i, feature in enumerate(features):\n",
        "            features_per_example[example_id_to_index[feature[\"example_id\"]]].append(i)\n",
        "\n",
        "        all_predictions = collections.OrderedDict()\n",
        "\n",
        "        for example_index, example in enumerate(tqdm(examples)):\n",
        "            feature_indices = features_per_example[example_index]\n",
        "            min_null_prediction = None\n",
        "            prelim_predictions = []\n",
        "\n",
        "            for feature_index in feature_indices:\n",
        "                start_logits = all_start_logits[feature_index]\n",
        "                end_logits = all_end_logits[feature_index]\n",
        "                offset_mapping = features[feature_index][\"offset_mapping\"]\n",
        "                token_is_max_context = features[feature_index].get(\"token_is_max_context\", None)\n",
        "                feature_null_score = start_logits[0] + end_logits[0]\n",
        "                if min_null_prediction is None or min_null_prediction[\"score\"] > feature_null_score:\n",
        "                    min_null_prediction = {\n",
        "                        \"offsets\": (0, 0),\n",
        "                        \"score\": feature_null_score,\n",
        "                        \"start_logit\": start_logits[0],\n",
        "                        \"end_logit\": end_logits[0],\n",
        "                    }\n",
        "\n",
        "                start_indexes = np.argsort(start_logits)[-1 : -self.args.n_best_size - 1 : -1].tolist()\n",
        "                end_indexes = np.argsort(end_logits)[-1 : -self.args.n_best_size - 1 : -1].tolist()\n",
        "                for start_index in start_indexes:\n",
        "                    for end_index in end_indexes:\n",
        "                        if (\n",
        "                            start_index >= len(offset_mapping)\n",
        "                            or end_index >= len(offset_mapping)\n",
        "                            or offset_mapping[start_index] is None\n",
        "                            or offset_mapping[end_index] is None\n",
        "                        ):\n",
        "                            continue\n",
        "                        if end_index < start_index or end_index - start_index + 1 > self.args.max_answer_length:\n",
        "                            continue\n",
        "                        if token_is_max_context is not None and not token_is_max_context.get(str(start_index), False):\n",
        "                            continue\n",
        "                        prelim_predictions.append(\n",
        "                            {\n",
        "                                \"offsets\": (offset_mapping[start_index][0], offset_mapping[end_index][1]),\n",
        "                                \"score\": start_logits[start_index] + end_logits[end_index],\n",
        "                                \"start_logit\": start_logits[start_index],\n",
        "                                \"end_logit\": end_logits[end_index],\n",
        "                            }\n",
        "                        )\n",
        "            if self.args.version_2_with_negative:\n",
        "                prelim_predictions.append(min_null_prediction)\n",
        "                null_score = min_null_prediction[\"score\"]\n",
        "\n",
        "            predictions = sorted(prelim_predictions, key=lambda x: x[\"score\"], reverse=True)[:self.args.n_best_size]\n",
        "            if self.args.version_2_with_negative and not any(p[\"offsets\"] == (0, 0) for p in predictions):\n",
        "                predictions.append(min_null_prediction)\n",
        "\n",
        "            context = example[\"context\"]\n",
        "            for pred in predictions:\n",
        "                offsets = pred[\"offsets\"]\n",
        "                pred[\"text\"] = context[offsets[0] : offsets[1]]\n",
        "\n",
        "            if len(predictions) == 0 or (len(predictions) == 1 and predictions[0][\"text\"] == \"\"):\n",
        "                predictions.insert(0, {\"text\": \"empty\", \"start_logit\": 0.0, \"end_logit\": 0.0, \"score\": 0.0})\n",
        "\n",
        "            scores = np.array([pred.pop(\"score\") for pred in predictions])\n",
        "            exp_scores = np.exp(scores - np.max(scores))\n",
        "            probs = exp_scores / exp_scores.sum()\n",
        "\n",
        "            for prob, pred in zip(probs, predictions):\n",
        "                pred[\"probability\"] = prob\n",
        "\n",
        "            if not self.args.version_2_with_negative:\n",
        "                all_predictions[example[\"id\"]] = predictions[0][\"text\"]\n",
        "            else:\n",
        "                i = 0\n",
        "                while predictions[i][\"text\"] == \"\":\n",
        "                    i += 1\n",
        "                best_non_null_pred = predictions[i]\n",
        "\n",
        "                score_diff = null_score - best_non_null_pred[\"start_logit\"] - best_non_null_pred[\"end_logit\"]\n",
        "                if score_diff > self.args.null_score_diff_threshold:\n",
        "                    all_predictions[example[\"id\"]] = \"\"\n",
        "                else:\n",
        "                    all_predictions[example[\"id\"]] = best_non_null_pred[\"text\"]\n",
        "        return all_predictions"
      ]
    },
    {
      "cell_type": "markdown",
      "metadata": {
        "id": "Xu7KbZObWUmt"
      },
      "source": [
        "### Hyperparameter Definition, Model Loading"
      ]
    },
    {
      "cell_type": "code",
      "execution_count": 14,
      "metadata": {
        "colab": {
          "base_uri": "https://localhost:8080/",
          "height": 205,
          "referenced_widgets": [
            "a1b1a21e63564deeb5f7d5143a25cea8",
            "6147740699854bef973a9abcbcec313e",
            "a0b49aab16fc4f37ad55bb93a1fd418f",
            "c60a87b197924b5c98f643c7cefc7653",
            "3df228c2404d4053939f0690f2ede90d",
            "249c9787032c4f329ddedc3697c49e8c",
            "53872d287c834d4da264ff63f42c8148",
            "b12f4f536f74455e817ec019aab1fe37",
            "78ec31e861f1449baece3b65f58f0008",
            "e442552df7024cb78e45ba65462c83c3",
            "8421bda6dea94db8bffd28f8ac219724",
            "8e1c4d9fe14646f7ac3042aca26297b1",
            "eecb4a55363b4f71a543c0514dae3106",
            "fe1c5241dc9c458da141246ba6976b80",
            "753e498303c5458b8ac84438fc6d643a",
            "e650245b4d744ae393f52703fe01c453",
            "18d5928f9cd7461987884d0cb15f2948",
            "b1b5abc4ada24781bb97b1ba436bc68c",
            "10ca367557774eadbd71bfe630d0f51e",
            "477ede82bf6d4eeeac448809add6eeb9",
            "ae693345a6034caf8be60f76d324c033",
            "8219e6aee25c48fe9e941a71be79e300"
          ]
        },
        "id": "BNy4JAgiWUmt",
        "outputId": "d00e95e4-4d62-4fde-948b-4b106b7b6d05"
      },
      "outputs": [
        {
          "name": "stderr",
          "output_type": "stream",
          "text": [
            "Some weights of the model checkpoint at google/electra-small-discriminator were not used when initializing ElectraForQuestionAnswering: ['discriminator_predictions.dense.weight', 'discriminator_predictions.dense_prediction.bias', 'discriminator_predictions.dense_prediction.weight', 'discriminator_predictions.dense.bias']\n",
            "- This IS expected if you are initializing ElectraForQuestionAnswering from the checkpoint of a model trained on another task or with another architecture (e.g. initializing a BertForSequenceClassification model from a BertForPreTraining model).\n",
            "- This IS NOT expected if you are initializing ElectraForQuestionAnswering from the checkpoint of a model that you expect to be exactly identical (initializing a BertForSequenceClassification model from a BertForSequenceClassification model).\n",
            "Some weights of ElectraForQuestionAnswering were not initialized from the model checkpoint at google/electra-small-discriminator and are newly initialized: ['qa_outputs.weight', 'qa_outputs.bias']\n",
            "You should probably TRAIN this model on a down-stream task to be able to use it for predictions and inference.\n",
            "c:\\Users\\Kasra Sohrab\\.conda\\envs\\nlp\\Lib\\site-packages\\huggingface_hub\\utils\\_deprecation.py:131: FutureWarning: 'Repository' (from 'huggingface_hub.repository') is deprecated and will be removed from version '1.0'. Please prefer the http-based alternatives instead. Given its large adoption in legacy code, the complete removal is only planned on next major release.\n",
            "For more details, please read https://huggingface.co/docs/huggingface_hub/concepts/git_vs_http.\n",
            "  warnings.warn(warning_message, FutureWarning)\n",
            "c:\\Users\\Kasra Sohrab\\GeorgiaTech\\Classes\\CS4650\\ProjectNLP\\nlp-project\\electra-distilled-qa is already a clone of https://huggingface.co/kasohrab/electra-distilled-qa. Make sure you pull the latest changes with `repo.git_pull()`.\n"
          ]
        }
      ],
      "source": [
        "from huggingface_hub import HfFolder\n",
        "import torch\n",
        "from transformers import AutoModelForQuestionAnswering\n",
        "\n",
        "def model_init():\n",
        "    return AutoModelForQuestionAnswering.from_pretrained(student_id)\n",
        "\n",
        "args = QuestionAnsweringTrainingArguments(\n",
        "    output_dir=repo_name,\n",
        "    num_train_epochs=3,\n",
        "    per_device_train_batch_size=128,\n",
        "    per_device_eval_batch_size=128,\n",
        "    fp16=True,\n",
        "    learning_rate=6e-5,\n",
        "    seed=33,\n",
        "    # logging & evaluation strategies\n",
        "    logging_dir=f\"{repo_name}/logs\",\n",
        "    logging_strategy=\"epoch\", # to get more information to TB\n",
        "    evaluation_strategy='epoch',\n",
        "    save_strategy=\"epoch\",\n",
        "    report_to=\"tensorboard\",\n",
        "    # push to hub parameters\n",
        "    push_to_hub=True,\n",
        "    hub_strategy=\"every_save\",\n",
        "    hub_model_id=repo_name,\n",
        "    hub_token=HfFolder.get_token(),\n",
        "    # distilation parameters\n",
        "    alpha=0.5,\n",
        "    temperature=4.0\n",
        ")\n",
        "\n",
        "# define model\n",
        "teacher_model = AutoModelForQuestionAnswering.from_pretrained(\n",
        "    teacher_id,\n",
        ")\n",
        "\n",
        "trainer = QuestionAnsweringTrainer(\n",
        "    args=args,\n",
        "    model_init=model_init,\n",
        "    teacher_model=teacher_model,\n",
        "    train_dataset=train_ds,\n",
        "    eval_dataset=eval_ds,\n",
        "    eval_examples=eval_examples,\n",
        "    tokenizer=tokenizer\n",
        ")"
      ]
    },
    {
      "cell_type": "code",
      "execution_count": 15,
      "metadata": {},
      "outputs": [
        {
          "name": "stderr",
          "output_type": "stream",
          "text": [
            "Some weights of the model checkpoint at google/electra-small-discriminator were not used when initializing ElectraForQuestionAnswering: ['discriminator_predictions.dense.weight', 'discriminator_predictions.dense_prediction.bias', 'discriminator_predictions.dense_prediction.weight', 'discriminator_predictions.dense.bias']\n",
            "- This IS expected if you are initializing ElectraForQuestionAnswering from the checkpoint of a model trained on another task or with another architecture (e.g. initializing a BertForSequenceClassification model from a BertForPreTraining model).\n",
            "- This IS NOT expected if you are initializing ElectraForQuestionAnswering from the checkpoint of a model that you expect to be exactly identical (initializing a BertForSequenceClassification model from a BertForSequenceClassification model).\n",
            "Some weights of ElectraForQuestionAnswering were not initialized from the model checkpoint at google/electra-small-discriminator and are newly initialized: ['qa_outputs.weight', 'qa_outputs.bias']\n",
            "You should probably TRAIN this model on a down-stream task to be able to use it for predictions and inference.\n",
            "c:\\Users\\Kasra Sohrab\\.conda\\envs\\nlp\\Lib\\site-packages\\transformers\\optimization.py:391: FutureWarning: This implementation of AdamW is deprecated and will be removed in a future version. Use the PyTorch implementation torch.optim.AdamW instead, or set `no_deprecation_warning=True` to disable this warning\n",
            "  warnings.warn(\n"
          ]
        },
        {
          "data": {
            "application/vnd.jupyter.widget-view+json": {
              "model_id": "e8b0e93d1c0143709018afe41336fab7",
              "version_major": 2,
              "version_minor": 0
            },
            "text/plain": [
              "  0%|          | 0/78 [00:00<?, ?it/s]"
            ]
          },
          "metadata": {},
          "output_type": "display_data"
        },
        {
          "name": "stdout",
          "output_type": "stream",
          "text": [
            "{'loss': 4.4486, 'learning_rate': 4.0769230769230773e-05, 'epoch': 1.0}\n"
          ]
        },
        {
          "name": "stderr",
          "output_type": "stream",
          "text": [
            "c:\\Users\\Kasra Sohrab\\.conda\\envs\\nlp\\Lib\\site-packages\\transformers\\trainer_pt_utils.py:411: FutureWarning: DistributedTensorGatherer is deprecated and will be removed in v5 of Transformers.\n",
            "  warnings.warn(\n"
          ]
        },
        {
          "data": {
            "application/vnd.jupyter.widget-view+json": {
              "model_id": "47e9ee41111449d1819c4ceb52e4e13c",
              "version_major": 2,
              "version_minor": 0
            },
            "text/plain": [
              "  0%|          | 0/3 [00:00<?, ?it/s]"
            ]
          },
          "metadata": {},
          "output_type": "display_data"
        },
        {
          "data": {
            "application/vnd.jupyter.widget-view+json": {
              "model_id": "6d03269d13e8499da3a45135eda5a179",
              "version_major": 2,
              "version_minor": 0
            },
            "text/plain": [
              "  0%|          | 0/320 [00:00<?, ?it/s]"
            ]
          },
          "metadata": {},
          "output_type": "display_data"
        },
        {
          "name": "stderr",
          "output_type": "stream",
          "text": [
            "Trainer is attempting to log a value of \"No log\" of type <class 'str'> for key \"eval/loss\" as a scalar. This invocation of Tensorboard's writer.add_scalar() is incorrect so we dropped this attribute.\n"
          ]
        },
        {
          "name": "stdout",
          "output_type": "stream",
          "text": [
            "[{'id': '5733ea04d058e614000b6595', 'prediction_text': '', 'no_answer_probability': 0.0}, {'id': '5ad26a5fd7d075001a42931b', 'prediction_text': '', 'no_answer_probability': 0.0}, {'id': '5a664447c2b11c001a425eef', 'prediction_text': '', 'no_answer_probability': 0.0}, {'id': '5ad3ff1b604f3c001a3ffc74', 'prediction_text': '', 'no_answer_probability': 0.0}, {'id': '5ad25d39d7d075001a428eda', 'prediction_text': '', 'no_answer_probability': 0.0}, {'id': '5ad265d2d7d075001a4291c6', 'prediction_text': '', 'no_answer_probability': 0.0}, {'id': '5a1c8ea7b4fb5d00187146d1', 'prediction_text': '', 'no_answer_probability': 0.0}, {'id': '5a57c667770dc0001aeefd69', 'prediction_text': '', 'no_answer_probability': 0.0}, {'id': '5705fd8475f01819005e7841', 'prediction_text': '', 'no_answer_probability': 0.0}, {'id': '5726431d271a42140099d7f9', 'prediction_text': '', 'no_answer_probability': 0.0}, {'id': '5a8929e43b2508001a72a4de', 'prediction_text': '', 'no_answer_probability': 0.0}, {'id': '5706143575f01819005e7952', 'prediction_text': '', 'no_answer_probability': 0.0}, {'id': '5ad570b25b96ef001a10aede', 'prediction_text': '', 'no_answer_probability': 0.0}, {'id': '5ad04f7977cf76001a686fbb', 'prediction_text': '', 'no_answer_probability': 0.0}, {'id': '5726545f708984140094c2a5', 'prediction_text': '', 'no_answer_probability': 0.0}, {'id': '5733a2a9d058e614000b5f2b', 'prediction_text': '', 'no_answer_probability': 0.0}, {'id': '57337f6ad058e614000b5bce', 'prediction_text': '', 'no_answer_probability': 0.0}, {'id': '5a892d303b2508001a72a4ee', 'prediction_text': '', 'no_answer_probability': 0.0}, {'id': '5ad40b9a604f3c001a40001a', 'prediction_text': '', 'no_answer_probability': 0.0}, {'id': '573368044776f41900660a29', 'prediction_text': '', 'no_answer_probability': 0.0}, {'id': '5726f48df1498d1400e8f0de', 'prediction_text': '', 'no_answer_probability': 0.0}, {'id': '5a7b05cd21c2de001afe9cdc', 'prediction_text': '', 'no_answer_probability': 0.0}, {'id': '57265d08708984140094c398', 'prediction_text': '', 'no_answer_probability': 0.0}, {'id': '5acff63377cf76001a68665d', 'prediction_text': '', 'no_answer_probability': 0.0}, {'id': '5ad0313b77cf76001a686dd5', 'prediction_text': '', 'no_answer_probability': 0.0}, {'id': '572f55e8a23a5019007fc56b', 'prediction_text': '', 'no_answer_probability': 0.0}, {'id': '5729fb003f37b31900478629', 'prediction_text': '', 'no_answer_probability': 0.0}, {'id': '5725c95f38643c19005accf7', 'prediction_text': '', 'no_answer_probability': 0.0}, {'id': '572fdd03a23a5019007fca9e', 'prediction_text': '', 'no_answer_probability': 0.0}, {'id': '572facb0a23a5019007fc866', 'prediction_text': '', 'no_answer_probability': 0.0}, {'id': '5ad3b147604f3c001a3fecd6', 'prediction_text': '', 'no_answer_probability': 0.0}, {'id': '57339dd94776f41900660ecd', 'prediction_text': '', 'no_answer_probability': 0.0}, {'id': '5a1c8aedb4fb5d00187146a2', 'prediction_text': '', 'no_answer_probability': 0.0}, {'id': '572a1046af94a219006aa78e', 'prediction_text': '', 'no_answer_probability': 0.0}, {'id': '5725f00938643c19005aced7', 'prediction_text': '', 'no_answer_probability': 0.0}, {'id': '5711163bb654c5140001fb13', 'prediction_text': '', 'no_answer_probability': 0.0}, {'id': '5ad13ef3645df0001a2d138d', 'prediction_text': '', 'no_answer_probability': 0.0}, {'id': '5728e8212ca10214002daa6e', 'prediction_text': '', 'no_answer_probability': 0.0}, {'id': '5ad03c2977cf76001a686eb4', 'prediction_text': '', 'no_answer_probability': 0.0}, {'id': '57286bf84b864d19001649d2', 'prediction_text': '', 'no_answer_probability': 0.0}, {'id': '5ad10f94645df0001a2d0bc6', 'prediction_text': '', 'no_answer_probability': 0.0}, {'id': '572a20816aef0514001552e6', 'prediction_text': '', 'no_answer_probability': 0.0}, {'id': '57264684708984140094c124', 'prediction_text': '', 'no_answer_probability': 0.0}, {'id': '5a67dedd8476ee001a58a74d', 'prediction_text': '', 'no_answer_probability': 0.0}, {'id': '57265700dd62a815002e8212', 'prediction_text': '', 'no_answer_probability': 0.0}, {'id': '5a835b42e60761001a2eb60d', 'prediction_text': '', 'no_answer_probability': 0.0}, {'id': '5a8235a931013a001a3352d8', 'prediction_text': '', 'no_answer_probability': 0.0}, {'id': '5ad2442bd7d075001a428a3c', 'prediction_text': '', 'no_answer_probability': 0.0}, {'id': '573408ef4776f41900661757', 'prediction_text': '', 'no_answer_probability': 0.0}, {'id': '5a2eb84ba83784001a7d2423', 'prediction_text': '', 'no_answer_probability': 0.0}, {'id': '5a234eef82b03a001a4aa76b', 'prediction_text': '', 'no_answer_probability': 0.0}, {'id': '5ad11097645df0001a2d0be2', 'prediction_text': '', 'no_answer_probability': 0.0}, {'id': '572a1a5c6aef051400155284', 'prediction_text': '', 'no_answer_probability': 0.0}, {'id': '5ad5719f5b96ef001a10aef0', 'prediction_text': '', 'no_answer_probability': 0.0}, {'id': '5a2c0a5abfd06b001a5ae993', 'prediction_text': '', 'no_answer_probability': 0.0}, {'id': '5a57f0ea770dc0001aeefee3', 'prediction_text': '', 'no_answer_probability': 0.0}, {'id': '5a81f28431013a001a334fb5', 'prediction_text': '', 'no_answer_probability': 0.0}, {'id': '5ad3a38c604f3c001a3fea63', 'prediction_text': '', 'no_answer_probability': 0.0}, {'id': '5ad3ad01604f3c001a3febd3', 'prediction_text': '', 'no_answer_probability': 0.0}, {'id': '57108073b654c5140001f927', 'prediction_text': '', 'no_answer_probability': 0.0}, {'id': '571caac55efbb31900334dc9', 'prediction_text': '', 'no_answer_probability': 0.0}, {'id': '57296f293f37b319004783a6', 'prediction_text': '', 'no_answer_probability': 0.0}, {'id': '5ad509615b96ef001a10aa7c', 'prediction_text': '', 'no_answer_probability': 0.0}, {'id': '5729d51d3f37b3190047858f', 'prediction_text': '', 'no_answer_probability': 0.0}, {'id': '5ad400f0604f3c001a3ffcf3', 'prediction_text': '', 'no_answer_probability': 0.0}, {'id': '5a7b12a421c2de001afe9d51', 'prediction_text': '', 'no_answer_probability': 0.0}, {'id': '571c9074dd7acb1400e4c103', 'prediction_text': '', 'no_answer_probability': 0.0}, {'id': '571cd11add7acb1400e4c170', 'prediction_text': '', 'no_answer_probability': 0.0}, {'id': '570d2f5bfed7b91900d45cd3', 'prediction_text': '', 'no_answer_probability': 0.0}, {'id': '57300c67947a6a140053cff2', 'prediction_text': '', 'no_answer_probability': 0.0}, {'id': '5ad14f5a645df0001a2d1710', 'prediction_text': '', 'no_answer_probability': 0.0}, {'id': '5a6647d2c2b11c001a425f1e', 'prediction_text': '', 'no_answer_probability': 0.0}, {'id': '5725c337271a42140099d167', 'prediction_text': '', 'no_answer_probability': 0.0}, {'id': '5ad4e4425b96ef001a10a575', 'prediction_text': '', 'no_answer_probability': 0.0}, {'id': '5ad3b260604f3c001a3fed06', 'prediction_text': '', 'no_answer_probability': 0.0}, {'id': '572fd6aa04bcaa1900d76da0', 'prediction_text': '', 'no_answer_probability': 0.0}, {'id': '573755afc3c5551400e51eb3', 'prediction_text': '', 'no_answer_probability': 0.0}, {'id': '572ffce5a23a5019007fcc18', 'prediction_text': '', 'no_answer_probability': 0.0}, {'id': '5ad3cc47604f3c001a3ff146', 'prediction_text': '', 'no_answer_probability': 0.0}, {'id': '5a67a898f038b7001ab0c3f5', 'prediction_text': '', 'no_answer_probability': 0.0}, {'id': '5ad23fded7d075001a4288fd', 'prediction_text': '', 'no_answer_probability': 0.0}, {'id': '571a4b0f10f8ca1400304fd7', 'prediction_text': '', 'no_answer_probability': 0.0}, {'id': '5a893a003b2508001a72a53f', 'prediction_text': '', 'no_answer_probability': 0.0}, {'id': '5ad546c75b96ef001a10ac11', 'prediction_text': '', 'no_answer_probability': 0.0}, {'id': '573011de04bcaa1900d770fc', 'prediction_text': '', 'no_answer_probability': 0.0}, {'id': '5729a26d6aef05140015505c', 'prediction_text': '', 'no_answer_probability': 0.0}, {'id': '5ad15170645df0001a2d1735', 'prediction_text': '', 'no_answer_probability': 0.0}, {'id': '5ad26235d7d075001a429082', 'prediction_text': '', 'no_answer_probability': 0.0}, {'id': '5acf98ad77cf76001a6853c6', 'prediction_text': '', 'no_answer_probability': 0.0}, {'id': '5ad28173d7d075001a4297fd', 'prediction_text': '', 'no_answer_probability': 0.0}, {'id': '5ad24600d7d075001a428aca', 'prediction_text': '', 'no_answer_probability': 0.0}, {'id': '5ad4d2855b96ef001a10a1de', 'prediction_text': '', 'no_answer_probability': 0.0}, {'id': '5725f2c838643c19005aceee', 'prediction_text': '', 'no_answer_probability': 0.0}, {'id': '5a6695e8f038b7001ab0c01a', 'prediction_text': '', 'no_answer_probability': 0.0}, {'id': '5727e21e4b864d1900163f36', 'prediction_text': '', 'no_answer_probability': 0.0}, {'id': '572745c6708984140094db9a', 'prediction_text': '', 'no_answer_probability': 0.0}, {'id': '572fec30947a6a140053cdf3', 'prediction_text': '', 'no_answer_probability': 0.0}, {'id': '5710e8c8a58dae1900cd6b2a', 'prediction_text': '', 'no_answer_probability': 0.0}, {'id': '572fbf21a23a5019007fc93b', 'prediction_text': '', 'no_answer_probability': 0.0}, {'id': '572665ff708984140094c4c5', 'prediction_text': '', 'no_answer_probability': 0.0}, {'id': '5a75066297ca42001a521ded', 'prediction_text': '', 'no_answer_probability': 0.0}, {'id': '5705e63175f01819005e7720', 'prediction_text': '', 'no_answer_probability': 0.0}, {'id': '5a2eb95ca83784001a7d242c', 'prediction_text': '', 'no_answer_probability': 0.0}, {'id': '57299ec43f37b3190047850f', 'prediction_text': '', 'no_answer_probability': 0.0}, {'id': '5a823e6f31013a001a335330', 'prediction_text': '', 'no_answer_probability': 0.0}, {'id': '5ad40219604f3c001a3ffd47', 'prediction_text': '', 'no_answer_probability': 0.0}, {'id': '572991943f37b319004784a3', 'prediction_text': '', 'no_answer_probability': 0.0}, {'id': '57308ddc396df919000961a4', 'prediction_text': '', 'no_answer_probability': 0.0}, {'id': '57106185b654c5140001f8dc', 'prediction_text': '', 'no_answer_probability': 0.0}, {'id': '5726241189a1e219009ac2df', 'prediction_text': '', 'no_answer_probability': 0.0}, {'id': '5737a25ac3c5551400e51f51', 'prediction_text': '', 'no_answer_probability': 0.0}, {'id': '5a8398bbe60761001a2eb805', 'prediction_text': '', 'no_answer_probability': 0.0}, {'id': '5ad11288645df0001a2d0c34', 'prediction_text': '', 'no_answer_probability': 0.0}, {'id': '5ad0383677cf76001a686e39', 'prediction_text': '', 'no_answer_probability': 0.0}, {'id': '572fe41e04bcaa1900d76e4c', 'prediction_text': '', 'no_answer_probability': 0.0}, {'id': '57376a1bc3c5551400e51ec4', 'prediction_text': '', 'no_answer_probability': 0.0}, {'id': '5726a3c6f1498d1400e8e5b2', 'prediction_text': '', 'no_answer_probability': 0.0}, {'id': '5a0c807ff5590b0018dab452', 'prediction_text': '', 'no_answer_probability': 0.0}, {'id': '5ad14966645df0001a2d1582', 'prediction_text': '', 'no_answer_probability': 0.0}, {'id': '5a665870846392001a1e1af6', 'prediction_text': '', 'no_answer_probability': 0.0}, {'id': '5a668d25f038b7001ab0bfb0', 'prediction_text': '', 'no_answer_probability': 0.0}, {'id': '5728eff82ca10214002daade', 'prediction_text': '', 'no_answer_probability': 0.0}, {'id': '573027d6a23a5019007fcea1', 'prediction_text': '', 'no_answer_probability': 0.0}, {'id': '572648ed5951b619008f6f07', 'prediction_text': '', 'no_answer_probability': 0.0}, {'id': '57281bb84b864d190016449c', 'prediction_text': '', 'no_answer_probability': 0.0}, {'id': '5ad3fc1f604f3c001a3ffb7c', 'prediction_text': '', 'no_answer_probability': 0.0}, {'id': '5728eb1a3acd2414000e01c5', 'prediction_text': '', 'no_answer_probability': 0.0}, {'id': '5ad404a6604f3c001a3ffde3', 'prediction_text': '', 'no_answer_probability': 0.0}, {'id': '5a2c16e3bfd06b001a5ae9e8', 'prediction_text': '', 'no_answer_probability': 0.0}, {'id': '572fb42904bcaa1900d76c15', 'prediction_text': '', 'no_answer_probability': 0.0}, {'id': '5726b58f5951b619008f7b58', 'prediction_text': '', 'no_answer_probability': 0.0}, {'id': '5ad14573645df0001a2d14b2', 'prediction_text': '', 'no_answer_probability': 0.0}, {'id': '57273a465951b619008f86ff', 'prediction_text': '', 'no_answer_probability': 0.0}, {'id': '5ad2605dd7d075001a428fc7', 'prediction_text': '', 'no_answer_probability': 0.0}, {'id': '571ce6655efbb31900334e34', 'prediction_text': '', 'no_answer_probability': 0.0}, {'id': '572940973f37b319004781a8', 'prediction_text': '', 'no_answer_probability': 0.0}, {'id': '56e16839cd28a01900c67888', 'prediction_text': '', 'no_answer_probability': 0.0}, {'id': '5733266d4776f41900660713', 'prediction_text': '', 'no_answer_probability': 0.0}, {'id': '5a8221dc31013a001a335231', 'prediction_text': '', 'no_answer_probability': 0.0}, {'id': '5ad25963d7d075001a428e0c', 'prediction_text': '', 'no_answer_probability': 0.0}, {'id': '57265c10f1498d1400e8dd39', 'prediction_text': '', 'no_answer_probability': 0.0}, {'id': '5ad24f27d7d075001a428c88', 'prediction_text': '', 'no_answer_probability': 0.0}, {'id': '5ad4d9be5b96ef001a10a3b0', 'prediction_text': '', 'no_answer_probability': 0.0}, {'id': '5a836496e60761001a2eb65b', 'prediction_text': '', 'no_answer_probability': 0.0}, {'id': '5a592b593e1742001a15cfce', 'prediction_text': '', 'no_answer_probability': 0.0}, {'id': '57378862c3c5551400e51f22', 'prediction_text': '', 'no_answer_probability': 0.0}, {'id': '571090abb654c5140001f996', 'prediction_text': '', 'no_answer_probability': 0.0}, {'id': '5a592e733e1742001a15cff7', 'prediction_text': '', 'no_answer_probability': 0.0}, {'id': '5ad418fb604f3c001a400433', 'prediction_text': '', 'no_answer_probability': 0.0}, {'id': '5ad4ea425b96ef001a10a62a', 'prediction_text': '', 'no_answer_probability': 0.0}, {'id': '57268e2bf1498d1400e8e3b1', 'prediction_text': '', 'no_answer_probability': 0.0}, {'id': '5728d7c54b864d1900164f4d', 'prediction_text': '', 'no_answer_probability': 0.0}, {'id': '5a6ce55e4eec6b001a80a693', 'prediction_text': '', 'no_answer_probability': 0.0}, {'id': '572a019f3f37b31900478643', 'prediction_text': '', 'no_answer_probability': 0.0}, {'id': '572663a9f1498d1400e8ddf2', 'prediction_text': '', 'no_answer_probability': 0.0}, {'id': '5a3e42de378766001a00252b', 'prediction_text': '', 'no_answer_probability': 0.0}, {'id': '5ad3b9cd604f3c001a3fee89', 'prediction_text': '', 'no_answer_probability': 0.0}, {'id': '572648ed5951b619008f6f03', 'prediction_text': '', 'no_answer_probability': 0.0}, {'id': '5ad25dd3d7d075001a428f03', 'prediction_text': '', 'no_answer_probability': 0.0}, {'id': '57286010ff5b5019007da1cc', 'prediction_text': '', 'no_answer_probability': 0.0}, {'id': '5a7b3f0f21c2de001afe9e03', 'prediction_text': '', 'no_answer_probability': 0.0}, {'id': '5ad4d55f5b96ef001a10a277', 'prediction_text': '', 'no_answer_probability': 0.0}, {'id': '56de1563cffd8e1900b4b5c3', 'prediction_text': '', 'no_answer_probability': 0.0}, {'id': '572ff83ab2c2fd1400568683', 'prediction_text': '', 'no_answer_probability': 0.0}, {'id': '571cca4add7acb1400e4c154', 'prediction_text': '', 'no_answer_probability': 0.0}, {'id': '5a669d5cf038b7001ab0c05e', 'prediction_text': '', 'no_answer_probability': 0.0}, {'id': '572881704b864d1900164a50', 'prediction_text': '', 'no_answer_probability': 0.0}, {'id': '5ad2b1e1d7d075001a429f6c', 'prediction_text': '', 'no_answer_probability': 0.0}, {'id': '5ad265d2d7d075001a4291c9', 'prediction_text': '', 'no_answer_probability': 0.0}, {'id': '5a2ed246a83784001a7d24e3', 'prediction_text': '', 'no_answer_probability': 0.0}, {'id': '57266c015951b619008f7238', 'prediction_text': '', 'no_answer_probability': 0.0}, {'id': '572941273f37b319004781ae', 'prediction_text': '', 'no_answer_probability': 0.0}, {'id': '5ad50c9f5b96ef001a10aae1', 'prediction_text': '', 'no_answer_probability': 0.0}, {'id': '5729517d6aef051400154cc9', 'prediction_text': '', 'no_answer_probability': 0.0}, {'id': '572659535951b619008f703f', 'prediction_text': '', 'no_answer_probability': 0.0}, {'id': '57115b8b50c2381900b54a8b', 'prediction_text': '', 'no_answer_probability': 0.0}, {'id': '57287f6a3acd2414000dfa52', 'prediction_text': '', 'no_answer_probability': 0.0}, {'id': '5a8919843b2508001a72a4c0', 'prediction_text': '', 'no_answer_probability': 0.0}, {'id': '5ad4cc135b96ef001a10a0f6', 'prediction_text': '', 'no_answer_probability': 0.0}, {'id': '572885c44b864d1900164a78', 'prediction_text': '', 'no_answer_probability': 0.0}, {'id': '5a7b11bb21c2de001afe9d48', 'prediction_text': '', 'no_answer_probability': 0.0}, {'id': '5ad3b781604f3c001a3fee27', 'prediction_text': '', 'no_answer_probability': 0.0}, {'id': '5ad53e615b96ef001a10abdb', 'prediction_text': '', 'no_answer_probability': 0.0}, {'id': '572f5703a23a5019007fc575', 'prediction_text': '', 'no_answer_probability': 0.0}, {'id': '5a89473c3b2508001a72a59b', 'prediction_text': '', 'no_answer_probability': 0.0}, {'id': '5ad25e99d7d075001a428f31', 'prediction_text': '', 'no_answer_probability': 0.0}, {'id': '5728742cff5b5019007da246', 'prediction_text': '', 'no_answer_probability': 0.0}, {'id': '56e1febfe3433e1400423236', 'prediction_text': '', 'no_answer_probability': 0.0}, {'id': '5726f2375951b619008f830f', 'prediction_text': '', 'no_answer_probability': 0.0}, {'id': '5705f09e75f01819005e77a7', 'prediction_text': '', 'no_answer_probability': 0.0}, {'id': '5ad55ee35b96ef001a10ace4', 'prediction_text': '', 'no_answer_probability': 0.0}, {'id': '5a669a2cf038b7001ab0c046', 'prediction_text': '', 'no_answer_probability': 0.0}, {'id': '5ad2b1e1d7d075001a429f6a', 'prediction_text': '', 'no_answer_probability': 0.0}, {'id': '56de0ffd4396321400ee258d', 'prediction_text': '', 'no_answer_probability': 0.0}, {'id': '5ad53e615b96ef001a10abdc', 'prediction_text': '', 'no_answer_probability': 0.0}, {'id': '5a668632f038b7001ab0bf47', 'prediction_text': '', 'no_answer_probability': 0.0}, {'id': '5ad2424cd7d075001a42898c', 'prediction_text': '', 'no_answer_probability': 0.0}, {'id': '5ad4f4d95b96ef001a10a794', 'prediction_text': '', 'no_answer_probability': 0.0}, {'id': '572fffb404bcaa1900d76fef', 'prediction_text': '', 'no_answer_probability': 0.0}, {'id': '5a7b33b821c2de001afe9dbd', 'prediction_text': '', 'no_answer_probability': 0.0}, {'id': '5a6ce55e4eec6b001a80a691', 'prediction_text': '', 'no_answer_probability': 0.0}, {'id': '572881d34b864d1900164a5c', 'prediction_text': '', 'no_answer_probability': 0.0}, {'id': '5ad3cc47604f3c001a3ff147', 'prediction_text': '', 'no_answer_probability': 0.0}, {'id': '571127a5a58dae1900cd6cc8', 'prediction_text': '', 'no_answer_probability': 0.0}, {'id': '5ad4fe635b96ef001a10a8b8', 'prediction_text': '', 'no_answer_probability': 0.0}, {'id': '5a1c539bb4fb5d00187145fb', 'prediction_text': '', 'no_answer_probability': 0.0}, {'id': '5ad2461ad7d075001a428ad2', 'prediction_text': '', 'no_answer_probability': 0.0}, {'id': '5ad5648b5b96ef001a10ad95', 'prediction_text': '', 'no_answer_probability': 0.0}, {'id': '5a3e3de4378766001a002514', 'prediction_text': '', 'no_answer_probability': 0.0}, {'id': '5725d34089a1e219009abf50', 'prediction_text': '', 'no_answer_probability': 0.0}, {'id': '5725cb33271a42140099d1df', 'prediction_text': '', 'no_answer_probability': 0.0}, {'id': '57094a79efce8f15003a7dc6', 'prediction_text': '', 'no_answer_probability': 0.0}, {'id': '5a822bc531013a001a335281', 'prediction_text': '', 'no_answer_probability': 0.0}, {'id': '57265700dd62a815002e8211', 'prediction_text': '', 'no_answer_probability': 0.0}, {'id': '5733e5a14776f4190066145d', 'prediction_text': '', 'no_answer_probability': 0.0}, {'id': '5ad039be77cf76001a686e60', 'prediction_text': '', 'no_answer_probability': 0.0}, {'id': '5a6ce6164eec6b001a80a69c', 'prediction_text': '', 'no_answer_probability': 0.0}, {'id': '5730131c947a6a140053d056', 'prediction_text': '', 'no_answer_probability': 0.0}, {'id': '572fff45947a6a140053cf2a', 'prediction_text': '', 'no_answer_probability': 0.0}, {'id': '5ad3bd30604f3c001a3fef11', 'prediction_text': '', 'no_answer_probability': 0.0}, {'id': '5a3e3de4378766001a002513', 'prediction_text': '', 'no_answer_probability': 0.0}, {'id': '57115c7450c2381900b54aa0', 'prediction_text': '', 'no_answer_probability': 0.0}, {'id': '5ad3cd43604f3c001a3ff186', 'prediction_text': '', 'no_answer_probability': 0.0}, {'id': '5727dc473acd2414000dee44', 'prediction_text': '', 'no_answer_probability': 0.0}, {'id': '57268f2bf1498d1400e8e3c7', 'prediction_text': '', 'no_answer_probability': 0.0}, {'id': '572647d0708984140094c14c', 'prediction_text': '', 'no_answer_probability': 0.0}, {'id': '5727db85ff5b5019007d96fc', 'prediction_text': '', 'no_answer_probability': 0.0}, {'id': '5acff5b077cf76001a68662a', 'prediction_text': '', 'no_answer_probability': 0.0}, {'id': '5ad4c94f5b96ef001a10a09c', 'prediction_text': '', 'no_answer_probability': 0.0}, {'id': '5733140a4776f419006606e2', 'prediction_text': '', 'no_answer_probability': 0.0}, {'id': '573368e54776f41900660a55', 'prediction_text': '', 'no_answer_probability': 0.0}, {'id': '5727cebc2ca10214002d96f3', 'prediction_text': '', 'no_answer_probability': 0.0}, {'id': '5729f4b41d0469140077968c', 'prediction_text': '', 'no_answer_probability': 0.0}, {'id': '57308cf88ab72b1400f9c576', 'prediction_text': '', 'no_answer_probability': 0.0}, {'id': '5a2c14b4bfd06b001a5ae9d4', 'prediction_text': '', 'no_answer_probability': 0.0}, {'id': '5705f09e75f01819005e77a6', 'prediction_text': '', 'no_answer_probability': 0.0}, {'id': '5ad3d689604f3c001a3ff311', 'prediction_text': '', 'no_answer_probability': 0.0}, {'id': '5ad0301577cf76001a686db6', 'prediction_text': '', 'no_answer_probability': 0.0}, {'id': '5ad5036c5b96ef001a10a984', 'prediction_text': '', 'no_answer_probability': 0.0}, {'id': '5ad400b0604f3c001a3ffcdf', 'prediction_text': '', 'no_answer_probability': 0.0}, {'id': '5a2ed0a0a83784001a7d24d1', 'prediction_text': '', 'no_answer_probability': 0.0}, {'id': '57281d494b864d19001644c1', 'prediction_text': '', 'no_answer_probability': 0.0}, {'id': '572671a5f1498d1400e8dfe4', 'prediction_text': '', 'no_answer_probability': 0.0}, {'id': '572824f13acd2414000df58f', 'prediction_text': '', 'no_answer_probability': 0.0}, {'id': '57299326af94a219006aa516', 'prediction_text': '', 'no_answer_probability': 0.0}, {'id': '573060b48ab72b1400f9c4c9', 'prediction_text': '', 'no_answer_probability': 0.0}, {'id': '5a6391c268151a001a92238d', 'prediction_text': '', 'no_answer_probability': 0.0}, {'id': '5a38aa28a4b263001a8c1881', 'prediction_text': '', 'no_answer_probability': 0.0}, {'id': '5ad3a21d604f3c001a3fea21', 'prediction_text': '', 'no_answer_probability': 0.0}, {'id': '572649d8f1498d1400e8db36', 'prediction_text': '', 'no_answer_probability': 0.0}, {'id': '572a1a5c6aef051400155285', 'prediction_text': '', 'no_answer_probability': 0.0}, {'id': '5a63981168151a001a9223b7', 'prediction_text': '', 'no_answer_probability': 0.0}, {'id': '5727d3843acd2414000ded69', 'prediction_text': '', 'no_answer_probability': 0.0}, {'id': '5ad3c57a604f3c001a3feff4', 'prediction_text': '', 'no_answer_probability': 0.0}, {'id': '5ad27e30d7d075001a429703', 'prediction_text': '', 'no_answer_probability': 0.0}, {'id': '5a2c3a5cbfd06b001a5aea7b', 'prediction_text': '', 'no_answer_probability': 0.0}, {'id': '5728f9882ca10214002dab5b', 'prediction_text': '', 'no_answer_probability': 0.0}, {'id': '571cd88ddd7acb1400e4c18f', 'prediction_text': '', 'no_answer_probability': 0.0}, {'id': '5a6cb7ce4eec6b001a80a639', 'prediction_text': '', 'no_answer_probability': 0.0}, {'id': '5a666b43846392001a1e1c0f', 'prediction_text': '', 'no_answer_probability': 0.0}, {'id': '572684365951b619008f7540', 'prediction_text': '', 'no_answer_probability': 0.0}, {'id': '5a7b3b3121c2de001afe9df1', 'prediction_text': '', 'no_answer_probability': 0.0}, {'id': '5a551328134fea001a0e18d8', 'prediction_text': '', 'no_answer_probability': 0.0}, {'id': '5a60556eeae51e001ab14d17', 'prediction_text': '', 'no_answer_probability': 0.0}, {'id': '57107932a58dae1900cd69cc', 'prediction_text': '', 'no_answer_probability': 0.0}, {'id': '570d32e4fed7b91900d45d02', 'prediction_text': '', 'no_answer_probability': 0.0}, {'id': '5728455bff5b5019007da07b', 'prediction_text': '', 'no_answer_probability': 0.0}, {'id': '5acfe91c77cf76001a686438', 'prediction_text': '', 'no_answer_probability': 0.0}, {'id': '57268a37f1498d1400e8e340', 'prediction_text': '', 'no_answer_probability': 0.0}, {'id': '572650325951b619008f6faa', 'prediction_text': '', 'no_answer_probability': 0.0}, {'id': '572867543acd2414000df9a2', 'prediction_text': '', 'no_answer_probability': 0.0}, {'id': '5a668b1df038b7001ab0bf88', 'prediction_text': '', 'no_answer_probability': 0.0}, {'id': '572fce13a23a5019007fca14', 'prediction_text': '', 'no_answer_probability': 0.0}, {'id': '5ad29d35d7d075001a429c12', 'prediction_text': '', 'no_answer_probability': 0.0}, {'id': '572a05eb3f37b31900478656', 'prediction_text': '', 'no_answer_probability': 0.0}, {'id': '5728683b3acd2414000df9b2', 'prediction_text': '', 'no_answer_probability': 0.0}, {'id': '5a7b456121c2de001afe9e2c', 'prediction_text': '', 'no_answer_probability': 0.0}, {'id': '57097b50200fba140036804e', 'prediction_text': '', 'no_answer_probability': 0.0}, {'id': '5737a4511c456719005744df', 'prediction_text': '', 'no_answer_probability': 0.0}, {'id': '5ad3a342604f3c001a3fea5b', 'prediction_text': '', 'no_answer_probability': 0.0}, {'id': '57107932a58dae1900cd69ce', 'prediction_text': '', 'no_answer_probability': 0.0}, {'id': '57264fe65951b619008f6fa1', 'prediction_text': '', 'no_answer_probability': 0.0}, {'id': '5a25f133c93d92001a400351', 'prediction_text': '', 'no_answer_probability': 0.0}, {'id': '572f55e8a23a5019007fc56c', 'prediction_text': '', 'no_answer_probability': 0.0}, {'id': '5a6790dbf038b7001ab0c2d1', 'prediction_text': '', 'no_answer_probability': 0.0}, {'id': '5ad40397604f3c001a3ffd86', 'prediction_text': '', 'no_answer_probability': 0.0}, {'id': '5ad25a8bd7d075001a428e32', 'prediction_text': '', 'no_answer_probability': 0.0}, {'id': '5726ea985951b619008f8261', 'prediction_text': '', 'no_answer_probability': 0.0}, {'id': '5ad24600d7d075001a428ac9', 'prediction_text': '', 'no_answer_probability': 0.0}, {'id': '5a6799adf038b7001ab0c31e', 'prediction_text': '', 'no_answer_probability': 0.0}, {'id': '5ad561c85b96ef001a10ad3c', 'prediction_text': '', 'no_answer_probability': 0.0}, {'id': '5a3e2f07378766001a0024ce', 'prediction_text': '', 'no_answer_probability': 0.0}, {'id': '5a6790dbf038b7001ab0c2d2', 'prediction_text': '', 'no_answer_probability': 0.0}, {'id': '5a668d25f038b7001ab0bfac', 'prediction_text': '', 'no_answer_probability': 0.0}, {'id': '5ad14a28645df0001a2d15a2', 'prediction_text': '', 'no_answer_probability': 0.0}, {'id': '5a89117e19b91f001a626f2e', 'prediction_text': '', 'no_answer_probability': 0.0}, {'id': '5ad25f35d7d075001a428f6a', 'prediction_text': '', 'no_answer_probability': 0.0}, {'id': '5ad4f4d95b96ef001a10a793', 'prediction_text': '', 'no_answer_probability': 0.0}, {'id': '57338255d058e614000b5c0d', 'prediction_text': '', 'no_answer_probability': 0.0}, {'id': '56e1ec83cd28a01900c67c0c', 'prediction_text': '', 'no_answer_probability': 0.0}, {'id': '5a6381d868151a001a922322', 'prediction_text': '', 'no_answer_probability': 0.0}, {'id': '5a836273e60761001a2eb643', 'prediction_text': '', 'no_answer_probability': 0.0}, {'id': '5729a03f1d04691400779595', 'prediction_text': '', 'no_answer_probability': 0.0}, {'id': '5a550e6f134fea001a0e187e', 'prediction_text': '', 'no_answer_probability': 0.0}, {'id': '572750e8dd62a815002e9af3', 'prediction_text': '', 'no_answer_probability': 0.0}, {'id': '5a8919843b2508001a72a4bd', 'prediction_text': '', 'no_answer_probability': 0.0}, {'id': '5ad248f7d7d075001a428b8f', 'prediction_text': '', 'no_answer_probability': 0.0}, {'id': '5ad25dd3d7d075001a428f00', 'prediction_text': '', 'no_answer_probability': 0.0}, {'id': '5a8391c7e60761001a2eb7db', 'prediction_text': '', 'no_answer_probability': 0.0}, {'id': '5a7b0fae21c2de001afe9d2c', 'prediction_text': '', 'no_answer_probability': 0.0}, {'id': '5ad22cd0d7d075001a42861b', 'prediction_text': '', 'no_answer_probability': 0.0}, {'id': '5ad4ca605b96ef001a10a0cd', 'prediction_text': '', 'no_answer_probability': 0.0}, {'id': '5ad25f82d7d075001a428f87', 'prediction_text': '', 'no_answer_probability': 0.0}, {'id': '570d32e4fed7b91900d45d03', 'prediction_text': '', 'no_answer_probability': 0.0}, {'id': '571112ada58dae1900cd6bcf', 'prediction_text': '', 'no_answer_probability': 0.0}, {'id': '5729f39a6aef05140015514e', 'prediction_text': '', 'no_answer_probability': 0.0}, {'id': '5a894a483b2508001a72a5ae', 'prediction_text': '', 'no_answer_probability': 0.0}, {'id': '5ad4bcc45b96ef001a109e9e', 'prediction_text': '', 'no_answer_probability': 0.0}, {'id': '5ad03b4677cf76001a686ea4', 'prediction_text': '', 'no_answer_probability': 0.0}, {'id': '5a2ecb43a83784001a7d248b', 'prediction_text': '', 'no_answer_probability': 0.0}]\n",
            "[{'id': '5733ea04d058e614000b6595', 'answers': {'text': ['Fort Presque Isle (near present-day Erie, Pennsylvania', 'Fort Presque Isle', 'near present-day Erie, Pennsylvania', 'Fort Presque Isle', 'near present-day Erie, Pennsylvania'], 'answer_start': [425, 425, 444, 425, 444]}}, {'id': '5ad26a5fd7d075001a42931b', 'answers': {'text': [], 'answer_start': []}}, {'id': '5a664447c2b11c001a425eef', 'answers': {'text': [], 'answer_start': []}}, {'id': '5ad3ff1b604f3c001a3ffc74', 'answers': {'text': [], 'answer_start': []}}, {'id': '5ad25d39d7d075001a428eda', 'answers': {'text': [], 'answer_start': []}}, {'id': '5ad265d2d7d075001a4291c6', 'answers': {'text': [], 'answer_start': []}}, {'id': '5a1c8ea7b4fb5d00187146d1', 'answers': {'text': [], 'answer_start': []}}, {'id': '5a57c667770dc0001aeefd69', 'answers': {'text': [], 'answer_start': []}}, {'id': '5705fd8475f01819005e7841', 'answers': {'text': ['Pacific Ocean', 'Pacific Ocean', 'Pacific Ocean'], 'answer_start': [222, 222, 222]}}, {'id': '5726431d271a42140099d7f9', 'answers': {'text': ['introduction of Beroe', 'accidental introduction of Beroe'], 'answer_start': [805, 794]}}, {'id': '5a8929e43b2508001a72a4de', 'answers': {'text': [], 'answer_start': []}}, {'id': '5706143575f01819005e7952', 'answers': {'text': ['MLB', 'MLB', 'MLB'], 'answer_start': [164, 164, 164]}}, {'id': '5ad570b25b96ef001a10aede', 'answers': {'text': [], 'answer_start': []}}, {'id': '5ad04f7977cf76001a686fbb', 'answers': {'text': [], 'answer_start': []}}, {'id': '5726545f708984140094c2a5', 'answers': {'text': ['different ministers of the member states', 'ministers', 'different ministers of the member states', 'different ministers of the member states'], 'answer_start': [70, 80, 70, 70]}}, {'id': '5733a2a9d058e614000b5f2b', 'answers': {'text': ['Polish and international artists', 'modern art by Polish and international artists', 'Polish and international artists a'], 'answer_start': [395, 381, 395]}}, {'id': '57337f6ad058e614000b5bce', 'answers': {'text': ['as better', 'thought of themselves as better', 'better'], 'answer_start': [715, 693, 718]}}, {'id': '5a892d303b2508001a72a4ee', 'answers': {'text': [], 'answer_start': []}}, {'id': '5ad40b9a604f3c001a40001a', 'answers': {'text': [], 'answer_start': []}}, {'id': '573368044776f41900660a29', 'answers': {'text': ['green', 'green', 'green'], 'answer_start': [6, 6, 6]}}, {'id': '5726f48df1498d1400e8f0de', 'answers': {'text': ['form business partnerships with physicians or give them \"kickback\" payments', 'form business partnerships with physicians', 'pharmacists cannot form business partnerships with physicians or give them \"kickback\" payments'], 'answer_start': [248, 248, 229]}}, {'id': '5a7b05cd21c2de001afe9cdc', 'answers': {'text': [], 'answer_start': []}}, {'id': '57265d08708984140094c398', 'answers': {'text': ['the crust and rigid uppermost portion of the upper mantle', 'crust and rigid uppermost portion of the upper mantle', 'crust and rigid uppermost portion of the upper mantle', 'crust and rigid uppermost portion of the upper mantle'], 'answer_start': [143, 147, 147, 147]}}, {'id': '5acff63377cf76001a68665d', 'answers': {'text': [], 'answer_start': []}}, {'id': '5ad0313b77cf76001a686dd5', 'answers': {'text': [], 'answer_start': []}}, {'id': '572f55e8a23a5019007fc56b', 'answers': {'text': ['Gaulish name Rēnos', 'Rēnos', 'the Gaulish name Rēnos', 'Rēnos', 'Rēnos'], 'answer_start': [88, 101, 84, 101, 101]}}, {'id': '5729fb003f37b31900478629', 'answers': {'text': ['hormones', 'hormones', 'hormones'], 'answer_start': [166, 166, 166]}}, {'id': '5725c95f38643c19005accf7', 'answers': {'text': ['5 million', '5 million', '5 million'], 'answer_start': [655, 655, 655]}}, {'id': '572fdd03a23a5019007fca9e', 'answers': {'text': ['domestic legislation of the Scottish Parliament', 'domestic legislation of the Scottish Parliament.', 'domestic legislation of the Scottish Parliament'], 'answer_start': [322, 322, 322]}}, {'id': '572facb0a23a5019007fc866', 'answers': {'text': ['the late 1960s', 'late 1960s', 'late 1960s'], 'answer_start': [454, 458, 458]}}, {'id': '5ad3b147604f3c001a3fecd6', 'answers': {'text': [], 'answer_start': []}}, {'id': '57339dd94776f41900660ecd', 'answers': {'text': ['thousands', 'thousands', 'thousands'], 'answer_start': [66, 66, 66]}}, {'id': '5a1c8aedb4fb5d00187146a2', 'answers': {'text': [], 'answer_start': []}}, {'id': '572a1046af94a219006aa78e', 'answers': {'text': ['by limiting aggregate demand', 'limiting aggregate demand', 'limiting aggregate demand'], 'answer_start': [128, 131, 131]}}, {'id': '5725f00938643c19005aced7', 'answers': {'text': ['M. Theo Kearney', 'M. Theo Kearney', 'M. Theo Kearney'], 'answer_start': [105, 105, 105]}}, {'id': '5711163bb654c5140001fb13', 'answers': {'text': ['Westchester', 'Westchester', 'Westchester'], 'answer_start': [39, 39, 39]}}, {'id': '5ad13ef3645df0001a2d138d', 'answers': {'text': [], 'answer_start': []}}, {'id': '5728e8212ca10214002daa6e', 'answers': {'text': [\"suspect's talking to criminal investigators\", \"responding to investigators' questions\", \"responding to investigators' questions\", 'grant a consent search of his property,', 'talking to criminal investigators', \"responding to investigators' questions\"], 'answer_start': [398, 565, 565, 200, 408, 565]}}, {'id': '5ad03c2977cf76001a686eb4', 'answers': {'text': [], 'answer_start': []}}, {'id': '57286bf84b864d19001649d2', 'answers': {'text': ['Lauren Oliver', 'Lauren Oliver', 'Lauren Oliver'], 'answer_start': [69, 69, 69]}}, {'id': '5ad10f94645df0001a2d0bc6', 'answers': {'text': [], 'answer_start': []}}, {'id': '572a20816aef0514001552e6', 'answers': {'text': ['force', 'force'], 'answer_start': [184, 184]}}, {'id': '57264684708984140094c124', 'answers': {'text': ['merchant ships.', 'merchant ships', 'Silk Road'], 'answer_start': [270, 270, 116]}}, {'id': '5a67dedd8476ee001a58a74d', 'answers': {'text': [], 'answer_start': []}}, {'id': '57265700dd62a815002e8212', 'answers': {'text': ['1720 in Marseille.', '1720', '1720'], 'answer_start': [674, 674, 674]}}, {'id': '5a835b42e60761001a2eb60d', 'answers': {'text': [], 'answer_start': []}}, {'id': '5a8235a931013a001a3352d8', 'answers': {'text': [], 'answer_start': []}}, {'id': '5ad2442bd7d075001a428a3c', 'answers': {'text': [], 'answer_start': []}}, {'id': '573408ef4776f41900661757', 'answers': {'text': ['signing of the Treaty of Paris on 10 February 1763', '10 February 1763', '10 February 1763', '10 February 1763', '10 February 1763'], 'answer_start': [51, 85, 85, 85, 85]}}, {'id': '5a2eb84ba83784001a7d2423', 'answers': {'text': [], 'answer_start': []}}, {'id': '5a234eef82b03a001a4aa76b', 'answers': {'text': [], 'answer_start': []}}, {'id': '5ad11097645df0001a2d0be2', 'answers': {'text': [], 'answer_start': []}}, {'id': '572a1a5c6aef051400155284', 'answers': {'text': ['special efforts', 'special efforts', 'special efforts'], 'answer_start': [243, 243, 243]}}, {'id': '5ad5719f5b96ef001a10aef0', 'answers': {'text': [], 'answer_start': []}}, {'id': '5a2c0a5abfd06b001a5ae993', 'answers': {'text': [], 'answer_start': []}}, {'id': '5a57f0ea770dc0001aeefee3', 'answers': {'text': [], 'answer_start': []}}, {'id': '5a81f28431013a001a334fb5', 'answers': {'text': [], 'answer_start': []}}, {'id': '5ad3a38c604f3c001a3fea63', 'answers': {'text': [], 'answer_start': []}}, {'id': '5ad3ad01604f3c001a3febd3', 'answers': {'text': [], 'answer_start': []}}, {'id': '57108073b654c5140001f927', 'answers': {'text': ['between 1621 and 1629', 'between 1621 and 1629', 'between 1621 and 1629'], 'answer_start': [205, 205, 205]}}, {'id': '571caac55efbb31900334dc9', 'answers': {'text': ['few drops', 'a few drops', 'a few drops', 'a few drops', 'Only a few drops'], 'answer_start': [594, 592, 592, 592, 587]}}, {'id': '57296f293f37b319004783a6', 'answers': {'text': ['the AKS primality test', 'AKS primality test', 'AKS primality test', 'AKS primality test', 'AKS primality test'], 'answer_start': [448, 452, 452, 452, 452]}}, {'id': '5ad509615b96ef001a10aa7c', 'answers': {'text': [], 'answer_start': []}}, {'id': '5729d51d3f37b3190047858f', 'answers': {'text': ['differences in value added by labor, capital and land', 'differences in value added by labor, capital and land', 'differences in value added by labor, capital and land'], 'answer_start': [88, 88, 88]}}, {'id': '5ad400f0604f3c001a3ffcf3', 'answers': {'text': [], 'answer_start': []}}, {'id': '5a7b12a421c2de001afe9d51', 'answers': {'text': [], 'answer_start': []}}, {'id': '571c9074dd7acb1400e4c103', 'answers': {'text': ['protective radiation shield', 'protective radiation shield', 'protective radiation shield', 'radiation shield', 'a protective radiation shield'], 'answer_start': [375, 375, 375, 386, 373]}}, {'id': '571cd11add7acb1400e4c170', 'answers': {'text': ['performance', 'performance', 'performance', 'performance', 'a \"boost\" in performance'], 'answer_start': [406, 406, 406, 406, 393]}}, {'id': '570d2f5bfed7b91900d45cd3', 'answers': {'text': ['Victoria Constitution Act 1855', 'the Victoria Constitution Act 1855', 'Victoria Constitution Act 185'], 'answer_start': [145, 141, 145]}}, {'id': '57300c67947a6a140053cff2', 'answers': {'text': ['1,320 kilometres (820 miles)', '1,320 kilometres', '1,320 kilometres'], 'answer_start': [156, 156, 156]}}, {'id': '5ad14f5a645df0001a2d1710', 'answers': {'text': [], 'answer_start': []}}, {'id': '5a6647d2c2b11c001a425f1e', 'answers': {'text': [], 'answer_start': []}}, {'id': '5725c337271a42140099d167', 'answers': {'text': ['groups of large, stiffened cilia', 'stiffened cilia', 'stiffened cilia'], 'answer_start': [896, 913, 913]}}, {'id': '5ad4e4425b96ef001a10a575', 'answers': {'text': [], 'answer_start': []}}, {'id': '5ad3b260604f3c001a3fed06', 'answers': {'text': [], 'answer_start': []}}, {'id': '572fd6aa04bcaa1900d76da0', 'answers': {'text': ['May', 'May', 'May'], 'answer_start': [118, 971, 118]}}, {'id': '573755afc3c5551400e51eb3', 'answers': {'text': ['center of mass', 'center of mass', 'the center of mass', 'the center of mass', 'the center of mass'], 'answer_start': [421, 421, 417, 417, 417]}}, {'id': '572ffce5a23a5019007fcc18', 'answers': {'text': ['northwest', 'northwest', 'northwest'], 'answer_start': [326, 326, 326]}}, {'id': '5ad3cc47604f3c001a3ff146', 'answers': {'text': [], 'answer_start': []}}, {'id': '5a67a898f038b7001ab0c3f5', 'answers': {'text': [], 'answer_start': []}}, {'id': '5ad23fded7d075001a4288fd', 'answers': {'text': [], 'answer_start': []}}, {'id': '571a4b0f10f8ca1400304fd7', 'answers': {'text': ['nitroaereus', 'nitroaereus', 'nitroaereus', 'nitroaereus'], 'answer_start': [485, 485, 485, 485]}}, {'id': '5a893a003b2508001a72a53f', 'answers': {'text': [], 'answer_start': []}}, {'id': '5ad546c75b96ef001a10ac11', 'answers': {'text': [], 'answer_start': []}}, {'id': '573011de04bcaa1900d770fc', 'answers': {'text': ['Fringe or splinter', 'Fringe or splinter movements', 'Fringe'], 'answer_start': [235, 235, 235]}}, {'id': '5729a26d6aef05140015505c', 'answers': {'text': ['the absolute value', 'the absolute value', 'absolute value', 'the absolute value'], 'answer_start': [223, 223, 227, 223]}}, {'id': '5ad15170645df0001a2d1735', 'answers': {'text': [], 'answer_start': []}}, {'id': '5ad26235d7d075001a429082', 'answers': {'text': [], 'answer_start': []}}, {'id': '5acf98ad77cf76001a6853c6', 'answers': {'text': [], 'answer_start': []}}, {'id': '5ad28173d7d075001a4297fd', 'answers': {'text': [], 'answer_start': []}}, {'id': '5ad24600d7d075001a428aca', 'answers': {'text': [], 'answer_start': []}}, {'id': '5ad4d2855b96ef001a10a1de', 'answers': {'text': [], 'answer_start': []}}, {'id': '5725f2c838643c19005aceee', 'answers': {'text': ['300 acres', '300', '300'], 'answer_start': [454, 454, 454]}}, {'id': '5a6695e8f038b7001ab0c01a', 'answers': {'text': [], 'answer_start': []}}, {'id': '5727e21e4b864d1900163f36', 'answers': {'text': ['Stephen Greenblatt', 'Stephen Greenblatt', 'Stephen Greenblatt'], 'answer_start': [290, 290, 290]}}, {'id': '572745c6708984140094db9a', 'answers': {'text': ['plan the physical proceedings, and to integrate those proceedings with the other parts', 'plan the physical proceedings, and to integrate those proceedings with the other parts', 'plan the physical proceedings, and to integrate those proceedings with the other parts'], 'answer_start': [148, 148, 148]}}, {'id': '572fec30947a6a140053cdf3', 'answers': {'text': ['Rhine knee', 'Rhine knee', 'Rhine knee'], 'answer_start': [90, 90, 90]}}, {'id': '5710e8c8a58dae1900cd6b2a', 'answers': {'text': ['1702 and 1709', '1702 and 1709', '1702 and 1709'], 'answer_start': [699, 699, 699]}}, {'id': '572fbf21a23a5019007fc93b', 'answers': {'text': ['a glass case suspended from the lid', 'glass case', 'a glass case'], 'answer_start': [608, 610, 608]}}, {'id': '572665ff708984140094c4c5', 'answers': {'text': ['the key bed', 'key bed', 'key bed'], 'answer_start': [401, 405, 405]}}, {'id': '5a75066297ca42001a521ded', 'answers': {'text': [], 'answer_start': []}}, {'id': '5705e63175f01819005e7720', 'answers': {'text': ['California', 'California', 'California'], 'answer_start': [16, 16, 16]}}, {'id': '5a2eb95ca83784001a7d242c', 'answers': {'text': [], 'answer_start': []}}, {'id': '57299ec43f37b3190047850f', 'answers': {'text': ['algebraic number theory', 'algebraic', 'algebraic', 'algebraic'], 'answer_start': [276, 276, 276, 276]}}, {'id': '5a823e6f31013a001a335330', 'answers': {'text': [], 'answer_start': []}}, {'id': '5ad40219604f3c001a3ffd47', 'answers': {'text': [], 'answer_start': []}}, {'id': '572991943f37b319004784a3', 'answers': {'text': [\"Polignac's conjecture\", \"Polignac's\", \"Polignac's conjecture\", \"Polignac's\"], 'answer_start': [197, 197, 197, 197]}}, {'id': '57308ddc396df919000961a4', 'answers': {'text': ['the British Empire', 'Terra nullius', 'the British Empire', 'British Empire', 'British'], 'answer_start': [87, 247, 87, 91, 91]}}, {'id': '57106185b654c5140001f8dc', 'answers': {'text': ['Besançon Hugues', 'Besançon Hugues', 'Besançon Hugues'], 'answer_start': [177, 177, 177]}}, {'id': '5726241189a1e219009ac2df', 'answers': {'text': ['automobiles', 'automobiles', 'automobiles', 'automobiles', 'automobiles'], 'answer_start': [237, 237, 237, 237, 237]}}, {'id': '5737a25ac3c5551400e51f51', 'answers': {'text': ['stress tensor', 'stress tensor', 'deformations', 'The stress tensor'], 'answer_start': [376, 376, 434, 372]}}, {'id': '5a8398bbe60761001a2eb805', 'answers': {'text': [], 'answer_start': []}}, {'id': '5ad11288645df0001a2d0c34', 'answers': {'text': [], 'answer_start': []}}, {'id': '5ad0383677cf76001a686e39', 'answers': {'text': [], 'answer_start': []}}, {'id': '572fe41e04bcaa1900d76e4c', 'answers': {'text': ['86 km', '86 km', '86 km long', '86 km', '86 km'], 'answer_start': [172, 172, 172, 172, 172]}}, {'id': '57376a1bc3c5551400e51ec4', 'answers': {'text': ['magnitude and direction', 'magnitude and direction', 'magnitude and direction', 'magnitude and direction', 'magnitude and direction'], 'answer_start': [248, 248, 248, 248, 248]}}, {'id': '5726a3c6f1498d1400e8e5b2', 'answers': {'text': ['40', '40', '40'], 'answer_start': [784, 784, 784]}}, {'id': '5a0c807ff5590b0018dab452', 'answers': {'text': [], 'answer_start': []}}, {'id': '5ad14966645df0001a2d1582', 'answers': {'text': [], 'answer_start': []}}, {'id': '5a665870846392001a1e1af6', 'answers': {'text': [], 'answer_start': []}}, {'id': '5a668d25f038b7001ab0bfb0', 'answers': {'text': [], 'answer_start': []}}, {'id': '5728eff82ca10214002daade', 'answers': {'text': ['neuroimmune system', 'neuroimmune', 'neuroimmune', 'neuroimmune system'], 'answer_start': [655, 655, 655, 655]}}, {'id': '573027d6a23a5019007fcea1', 'answers': {'text': ['American attack on Iraq', 'the American attack on Iraq', 'American attack on Iraq'], 'answer_start': [598, 594, 598]}}, {'id': '572648ed5951b619008f6f07', 'answers': {'text': ['1349', '1349', '1349'], 'answer_start': [225, 225, 225]}}, {'id': '57281bb84b864d190016449c', 'answers': {'text': ['annexing outlying communities', 'annexing outlying communities', 'annexing outlying communities'], 'answer_start': [345, 345, 345]}}, {'id': '5ad3fc1f604f3c001a3ffb7c', 'answers': {'text': [], 'answer_start': []}}, {'id': '5728eb1a3acd2414000e01c5', 'answers': {'text': ['accept punishment', 'accept punishment', 'punishment', 'punishment', 'punishment'], 'answer_start': [58, 58, 65, 65, 65]}}, {'id': '5ad404a6604f3c001a3ffde3', 'answers': {'text': [], 'answer_start': []}}, {'id': '5a2c16e3bfd06b001a5ae9e8', 'answers': {'text': [], 'answer_start': []}}, {'id': '572fb42904bcaa1900d76c15', 'answers': {'text': ['one MSP', 'MSP', 'MSP'], 'answer_start': [114, 118, 118]}}, {'id': '5726b58f5951b619008f7b58', 'answers': {'text': ['free trade', 'free trade', 'free trade'], 'answer_start': [1975, 1975, 1975]}}, {'id': '5ad14573645df0001a2d14b2', 'answers': {'text': [], 'answer_start': []}}, {'id': '57273a465951b619008f86ff', 'answers': {'text': ['Construction', 'Construction', 'Construction'], 'answer_start': [0, 0, 0]}}, {'id': '5ad2605dd7d075001a428fc7', 'answers': {'text': [], 'answer_start': []}}, {'id': '571ce6655efbb31900334e34', 'answers': {'text': ['at elevated partial pressures', 'elevated partial pressures', 'at elevated partial pressures', 'at elevated partial pressures', 'elevated partial pressures'], 'answer_start': [30, 33, 30, 30, 33]}}, {'id': '572940973f37b319004781a8', 'answers': {'text': ['\"Variations of Snow and Ice in the past and at present on a Global and Regional Scale\"', 'the IPCC from the WWF report', 'the WWF report'], 'answer_start': [433, 352, 366]}}, {'id': '56e16839cd28a01900c67888', 'answers': {'text': ['mathematical models of computation', 'mathematical models of computation', 'mathematical models of computation'], 'answer_start': [176, 176, 176]}}, {'id': '5733266d4776f41900660713', 'answers': {'text': ['1569', '1569', '1569'], 'answer_start': [87, 87, 87]}}, {'id': '5a8221dc31013a001a335231', 'answers': {'text': [], 'answer_start': []}}, {'id': '5ad25963d7d075001a428e0c', 'answers': {'text': [], 'answer_start': []}}, {'id': '57265c10f1498d1400e8dd39', 'answers': {'text': ['water disturbances created by the cilia', 'water disturbances created by the cilia', 'water disturbances created by the cilia'], 'answer_start': [701, 701, 701]}}, {'id': '5ad24f27d7d075001a428c88', 'answers': {'text': [], 'answer_start': []}}, {'id': '5ad4d9be5b96ef001a10a3b0', 'answers': {'text': [], 'answer_start': []}}, {'id': '5a836496e60761001a2eb65b', 'answers': {'text': [], 'answer_start': []}}, {'id': '5a592b593e1742001a15cfce', 'answers': {'text': [], 'answer_start': []}}, {'id': '57378862c3c5551400e51f22', 'answers': {'text': ['Henry Cavendish', 'Henry Cavendish', 'Henry Cavendish', 'Henry Cavendish'], 'answer_start': [245, 245, 245, 245]}}, {'id': '571090abb654c5140001f996', 'answers': {'text': ['The Weavers', 'The Weavers', 'The Weavers'], 'answer_start': [191, 191, 191]}}, {'id': '5a592e733e1742001a15cff7', 'answers': {'text': [], 'answer_start': []}}, {'id': '5ad418fb604f3c001a400433', 'answers': {'text': [], 'answer_start': []}}, {'id': '5ad4ea425b96ef001a10a62a', 'answers': {'text': [], 'answer_start': []}}, {'id': '57268e2bf1498d1400e8e3b1', 'answers': {'text': ['1992', '1992', '1992', '1992'], 'answer_start': [237, 237, 237, 237]}}, {'id': '5728d7c54b864d1900164f4d', 'answers': {'text': ['voluminous literature', 'voluminous', 'voluminous', 'voluminous'], 'answer_start': [150, 150, 150, 150]}}, {'id': '5a6ce55e4eec6b001a80a693', 'answers': {'text': [], 'answer_start': []}}, {'id': '572a019f3f37b31900478643', 'answers': {'text': ['enzymes', 'enzymes', 'enzymes'], 'answer_start': [291, 291, 291]}}, {'id': '572663a9f1498d1400e8ddf2', 'answers': {'text': ['second scale shows the most recent eon with an expanded scale', 'compresses the most recent era', 'compresses the most recent era'], 'answer_start': [195, 275, 275]}}, {'id': '5a3e42de378766001a00252b', 'answers': {'text': [], 'answer_start': []}}, {'id': '5ad3b9cd604f3c001a3fee89', 'answers': {'text': [], 'answer_start': []}}, {'id': '572648ed5951b619008f6f03', 'answers': {'text': ['northwest across Europe', 'northwest', 'northwest'], 'answer_start': [31, 31, 31]}}, {'id': '5ad25dd3d7d075001a428f03', 'answers': {'text': [], 'answer_start': []}}, {'id': '57286010ff5b5019007da1cc', 'answers': {'text': ['Miller–Urey experiment', 'Miller–Urey experiment', 'Chicago Pile-1'], 'answer_start': [872, 872, 537]}}, {'id': '5a7b3f0f21c2de001afe9e03', 'answers': {'text': [], 'answer_start': []}}, {'id': '5ad4d55f5b96ef001a10a277', 'answers': {'text': [], 'answer_start': []}}, {'id': '56de1563cffd8e1900b4b5c3', 'answers': {'text': ['Dyrrachium', 'Dyrrachium', 'Dyrrachium'], 'answer_start': [125, 205, 205]}}, {'id': '572ff83ab2c2fd1400568683', 'answers': {'text': ['Merwede-Oude Maas', 'Merwede-Oude Maas', 'North Sea'], 'answer_start': [85, 85, 110]}}, {'id': '571cca4add7acb1400e4c154', 'answers': {'text': ['3–2.7 billion years ago', '3–2.7 billion years ago', '3–2.7 billion years ago', '3–2.7 billion years ago', '3–2.7 billion years ago'], 'answer_start': [510, 510, 510, 510, 510]}}, {'id': '5a669d5cf038b7001ab0c05e', 'answers': {'text': [], 'answer_start': []}}, {'id': '572881704b864d1900164a50', 'answers': {'text': ['four', 'Four', 'Four'], 'answer_start': [117, 47, 47]}}, {'id': '5ad2b1e1d7d075001a429f6c', 'answers': {'text': [], 'answer_start': []}}, {'id': '5ad265d2d7d075001a4291c9', 'answers': {'text': [], 'answer_start': []}}, {'id': '5a2ed246a83784001a7d24e3', 'answers': {'text': [], 'answer_start': []}}, {'id': '57266c015951b619008f7238', 'answers': {'text': ['stratigraphic correlation', 'stratigraphic', 'stratigraphic', 'stratigraphic'], 'answer_start': [311, 311, 311, 311]}}, {'id': '572941273f37b319004781ae', 'answers': {'text': ['making it seem like climate change is more serious by overstating the impact', 'the direction of making it seem like climate change is more serious', 'making it seem like climate change is more serious by overstating the impact'], 'answer_start': [102, 85, 102]}}, {'id': '5ad50c9f5b96ef001a10aae1', 'answers': {'text': [], 'answer_start': []}}, {'id': '5729517d6aef051400154cc9', 'answers': {'text': ['significant new evidence or events that change our understanding of climate science', 'significant new evidence or events that change our understanding', 'significant new evidence or events that change our understanding of climate science'], 'answer_start': [311, 311, 311]}}, {'id': '572659535951b619008f703f', 'answers': {'text': ['A decade after the 1973', '1981', '1981', 'A decade after the 1973 oil crisis', '1981'], 'answer_start': [413, 491, 491, 413, 491]}}, {'id': '57115b8b50c2381900b54a8b', 'answers': {'text': ['1802', '1802', '1802', '1802'], 'answer_start': [170, 170, 170, 170]}}, {'id': '57287f6a3acd2414000dfa52', 'answers': {'text': ['painting, poetry, and calligraphy', 'painting, poetry, and calligraphy', 'painting, poetry, and calligraphy'], 'answer_start': [294, 294, 294]}}, {'id': '5a8919843b2508001a72a4c0', 'answers': {'text': [], 'answer_start': []}}, {'id': '5ad4cc135b96ef001a10a0f6', 'answers': {'text': [], 'answer_start': []}}, {'id': '572885c44b864d1900164a78', 'answers': {'text': ['The Central Region', 'Central Region', 'Central'], 'answer_start': [0, 4, 4]}}, {'id': '5a7b11bb21c2de001afe9d48', 'answers': {'text': [], 'answer_start': []}}, {'id': '5ad3b781604f3c001a3fee27', 'answers': {'text': [], 'answer_start': []}}, {'id': '5ad53e615b96ef001a10abdb', 'answers': {'text': [], 'answer_start': []}}, {'id': '572f5703a23a5019007fc575', 'answers': {'text': ['Rhine Valley', 'Rhine Valley', 'Rhine Valley', 'Rhine Valley', 'Rhine Valley'], 'answer_start': [289, 289, 289, 289, 289]}}, {'id': '5a89473c3b2508001a72a59b', 'answers': {'text': [], 'answer_start': []}}, {'id': '5ad25e99d7d075001a428f31', 'answers': {'text': [], 'answer_start': []}}, {'id': '5728742cff5b5019007da246', 'answers': {'text': ['James Henry Breasted', 'James Henry Breasted', 'James Henry Breasted'], 'answer_start': [45, 45, 45]}}, {'id': '56e1febfe3433e1400423236', 'answers': {'text': ['Presburger arithmetic', 'Presburger', 'Presburger arithmetic'], 'answer_start': [219, 219, 219]}}, {'id': '5726f2375951b619008f830f', 'answers': {'text': ['pharmacy practice science and applied information science', 'pharmacy practice science and applied information science', 'pharmacy practice science and applied information science'], 'answer_start': [43, 43, 43]}}, {'id': '5705f09e75f01819005e77a7', 'answers': {'text': ['75', '75%', '75'], 'answer_start': [470, 470, 470]}}, {'id': '5ad55ee35b96ef001a10ace4', 'answers': {'text': [], 'answer_start': []}}, {'id': '5a669a2cf038b7001ab0c046', 'answers': {'text': [], 'answer_start': []}}, {'id': '5ad2b1e1d7d075001a429f6a', 'answers': {'text': [], 'answer_start': []}}, {'id': '56de0ffd4396321400ee258d', 'answers': {'text': ['1050s', 'in the 1050s', 'in the 1050s'], 'answer_start': [85, 78, 78]}}, {'id': '5ad53e615b96ef001a10abdc', 'answers': {'text': [], 'answer_start': []}}, {'id': '5a668632f038b7001ab0bf47', 'answers': {'text': [], 'answer_start': []}}, {'id': '5ad2424cd7d075001a42898c', 'answers': {'text': [], 'answer_start': []}}, {'id': '5ad4f4d95b96ef001a10a794', 'answers': {'text': [], 'answer_start': []}}, {'id': '572fffb404bcaa1900d76fef', 'answers': {'text': ['22,000 years ago', '22,000 years ago', '22,000 years ago'], 'answer_start': [49, 49, 49]}}, {'id': '5a7b33b821c2de001afe9dbd', 'answers': {'text': [], 'answer_start': []}}, {'id': '5a6ce55e4eec6b001a80a691', 'answers': {'text': [], 'answer_start': []}}, {'id': '572881d34b864d1900164a5c', 'answers': {'text': ['1263', '1263', '1263'], 'answer_start': [241, 241, 241]}}, {'id': '5ad3cc47604f3c001a3ff147', 'answers': {'text': [], 'answer_start': []}}, {'id': '571127a5a58dae1900cd6cc8', 'answers': {'text': ['south', 'south', 'south'], 'answer_start': [322, 322, 322]}}, {'id': '5ad4fe635b96ef001a10a8b8', 'answers': {'text': [], 'answer_start': []}}, {'id': '5a1c539bb4fb5d00187145fb', 'answers': {'text': [], 'answer_start': []}}, {'id': '5ad2461ad7d075001a428ad2', 'answers': {'text': [], 'answer_start': []}}, {'id': '5ad5648b5b96ef001a10ad95', 'answers': {'text': [], 'answer_start': []}}, {'id': '5a3e3de4378766001a002514', 'answers': {'text': [], 'answer_start': []}}, {'id': '5725d34089a1e219009abf50', 'answers': {'text': ['Paul Baran developed the concept Distributed Adaptive Message Block Switching', 'the concept Distributed Adaptive Message Block Switching', 'Distributed Adaptive Message Block Switching'], 'answer_start': [56, 77, 89]}}, {'id': '5725cb33271a42140099d1df', 'answers': {'text': ['colloblasts', 'colloblasts', 'colloblasts'], 'answer_start': [456, 456, 456]}}, {'id': '57094a79efce8f15003a7dc6', 'answers': {'text': ['Sky', 'Sky', 'Sky'], 'answer_start': [370, 370, 370]}}, {'id': '5a822bc531013a001a335281', 'answers': {'text': [], 'answer_start': []}}, {'id': '57265700dd62a815002e8211', 'answers': {'text': ['Sweden v. Russia and allies', 'Sweden v. Russia and allies', 'Sweden v. Russia and allies'], 'answer_start': [440, 440, 440]}}, {'id': '5733e5a14776f4190066145d', 'answers': {'text': ['Christopher Gist', 'Christopher Gist', 'Christopher Gist', 'Christopher Gist', 'Christopher Gist'], 'answer_start': [393, 393, 393, 393, 393]}}, {'id': '5ad039be77cf76001a686e60', 'answers': {'text': [], 'answer_start': []}}, {'id': '5a6ce6164eec6b001a80a69c', 'answers': {'text': [], 'answer_start': []}}, {'id': '5730131c947a6a140053d056', 'answers': {'text': ['political figures', 'political figures', 'political figures'], 'answer_start': [782, 782, 782]}}, {'id': '572fff45947a6a140053cf2a', 'answers': {'text': ['loess', 'loess', 'loess'], 'answer_start': [436, 436, 436]}}, {'id': '5ad3bd30604f3c001a3fef11', 'answers': {'text': [], 'answer_start': []}}, {'id': '5a3e3de4378766001a002513', 'answers': {'text': [], 'answer_start': []}}, {'id': '57115c7450c2381900b54aa0', 'answers': {'text': ['wet', 'wet', 'wet'], 'answer_start': [476, 476, 476]}}, {'id': '5ad3cd43604f3c001a3ff186', 'answers': {'text': [], 'answer_start': []}}, {'id': '5727dc473acd2414000dee44', 'answers': {'text': ['Malkin Athletic Center', 'Malkin Athletic Center', 'Malkin Athletic Center'], 'answer_start': [140, 140, 140]}}, {'id': '57268f2bf1498d1400e8e3c7', 'answers': {'text': ['the Lisbon Treaty', 'the Lisbon Treaty', 'the Lisbon Treaty', 'the Lisbon Treaty'], 'answer_start': [372, 372, 372, 372]}}, {'id': '572647d0708984140094c14c', 'answers': {'text': ['diploblastic', 'ctenophores', 'diploblastic'], 'answer_start': [337, 29, 337]}}, {'id': '5727db85ff5b5019007d96fc', 'answers': {'text': ['1875', '1875', '1875'], 'answer_start': [164, 164, 164]}}, {'id': '5acff5b077cf76001a68662a', 'answers': {'text': [], 'answer_start': []}}, {'id': '5ad4c94f5b96ef001a10a09c', 'answers': {'text': [], 'answer_start': []}}, {'id': '5733140a4776f419006606e2', 'answers': {'text': ['1596', '1596', '1596'], 'answer_start': [390, 390, 390]}}, {'id': '573368e54776f41900660a55', 'answers': {'text': ['Masovian Primeval Forest', 'Masovian Primeval Forest', 'Masovian Primeval Forest'], 'answer_start': [416, 416, 416]}}, {'id': '5727cebc2ca10214002d96f3', 'answers': {'text': ['1875', '1875', '1875'], 'answer_start': [309, 309, 309]}}, {'id': '5729f4b41d0469140077968c', 'answers': {'text': ['around 200–300', 'around 200–300', 'around 200–300'], 'answer_start': [416, 416, 416]}}, {'id': '57308cf88ab72b1400f9c576', 'answers': {'text': ['environmental determinism', 'environmental determinism', 'environmental determinism', 'environmental determinism', 'environmental determinism'], 'answer_start': [30, 30, 30, 30, 30]}}, {'id': '5a2c14b4bfd06b001a5ae9d4', 'answers': {'text': [], 'answer_start': []}}, {'id': '5705f09e75f01819005e77a6', 'answers': {'text': ['three', 'three', 'three'], 'answer_start': [179, 179, 179]}}, {'id': '5ad3d689604f3c001a3ff311', 'answers': {'text': [], 'answer_start': []}}, {'id': '5ad0301577cf76001a686db6', 'answers': {'text': [], 'answer_start': []}}, {'id': '5ad5036c5b96ef001a10a984', 'answers': {'text': [], 'answer_start': []}}, {'id': '5ad400b0604f3c001a3ffcdf', 'answers': {'text': [], 'answer_start': []}}, {'id': '5a2ed0a0a83784001a7d24d1', 'answers': {'text': [], 'answer_start': []}}, {'id': '57281d494b864d19001644c1', 'answers': {'text': ['public high schools lost their accreditation', 'high schools lost their accreditation', 'public high schools lost their accreditation'], 'answer_start': [570, 577, 570]}}, {'id': '572671a5f1498d1400e8dfe4', 'answers': {'text': ['Extension', 'Extension', 'Extension'], 'answer_start': [0, 0, 0]}}, {'id': '572824f13acd2414000df58f', 'answers': {'text': ['Hurricane Dora', 'Hurricane Dora', 'Hurricane Dora'], 'answer_start': [534, 534, 534]}}, {'id': '57299326af94a219006aa516', 'answers': {'text': ['G. H. Hardy', 'G. H. Hardy', 'G. H. Hardy', 'G. H. Hardy'], 'answer_start': [360, 360, 360, 360]}}, {'id': '573060b48ab72b1400f9c4c9', 'answers': {'text': ['Japan', 'Japan', 'Japanese', 'Japanese', 'Japan'], 'answer_start': [450, 450, 450, 450, 450]}}, {'id': '5a6391c268151a001a92238d', 'answers': {'text': [], 'answer_start': []}}, {'id': '5a38aa28a4b263001a8c1881', 'answers': {'text': [], 'answer_start': []}}, {'id': '5ad3a21d604f3c001a3fea21', 'answers': {'text': [], 'answer_start': []}}, {'id': '572649d8f1498d1400e8db36', 'answers': {'text': ['UK', 'UK', 'UK', 'the UK', 'UK'], 'answer_start': [56, 56, 56, 52, 56]}}, {'id': '572a1a5c6aef051400155285', 'answers': {'text': ['existing level of inequality', 'existing level of inequality', 'existing level of inequality'], 'answer_start': [459, 459, 459]}}, {'id': '5a63981168151a001a9223b7', 'answers': {'text': [], 'answer_start': []}}, {'id': '5727d3843acd2414000ded69', 'answers': {'text': ['core curriculum of seven classes', 'seven', 'seven'], 'answer_start': [232, 251, 251]}}, {'id': '5ad3c57a604f3c001a3feff4', 'answers': {'text': [], 'answer_start': []}}, {'id': '5ad27e30d7d075001a429703', 'answers': {'text': [], 'answer_start': []}}, {'id': '5a2c3a5cbfd06b001a5aea7b', 'answers': {'text': [], 'answer_start': []}}, {'id': '5728f9882ca10214002dab5b', 'answers': {'text': ['innate immune system', 'innate immune system', 'The innate immune'], 'answer_start': [656, 656, 652]}}, {'id': '571cd88ddd7acb1400e4c18f', 'answers': {'text': ['exothermic', 'exothermic', 'exothermic', 'exothermic', 'exothermic reaction'], 'answer_start': [595, 595, 595, 595, 595]}}, {'id': '5a6cb7ce4eec6b001a80a639', 'answers': {'text': [], 'answer_start': []}}, {'id': '5a666b43846392001a1e1c0f', 'answers': {'text': [], 'answer_start': []}}, {'id': '572684365951b619008f7540', 'answers': {'text': ['among the plankton', 'among the plankton', 'among the plankton'], 'answer_start': [462, 462, 462]}}, {'id': '5a7b3b3121c2de001afe9df1', 'answers': {'text': [], 'answer_start': []}}, {'id': '5a551328134fea001a0e18d8', 'answers': {'text': [], 'answer_start': []}}, {'id': '5a60556eeae51e001ab14d17', 'answers': {'text': [], 'answer_start': []}}, {'id': '57107932a58dae1900cd69cc', 'answers': {'text': [\"L'Église française à la Nouvelle-Amsterdam\", \"L'Église française à la Nouvelle-Amsterdam\", \"L'Église française à la Nouvelle-Amsterdam (the French church in New Amsterdam)\"], 'answer_start': [482, 482, 482]}}, {'id': '570d32e4fed7b91900d45d02', 'answers': {'text': ['Victoria Department of Education', 'the Victoria Department of Education', 'Victoria Department of Education'], 'answer_start': [153, 149, 153]}}, {'id': '5728455bff5b5019007da07b', 'answers': {'text': ['132 million tons', '132 million tons', '132 million tons'], 'answer_start': [441, 441, 441]}}, {'id': '5acfe91c77cf76001a686438', 'answers': {'text': [], 'answer_start': []}}, {'id': '57268a37f1498d1400e8e340', 'answers': {'text': ['ctenophores,', 'ctenophores', 'ctenophores'], 'answer_start': [682, 682, 682]}}, {'id': '572650325951b619008f6faa', 'answers': {'text': ['market and technology realities', 'market and technology realities', 'market and technology realities', 'market and technology realities', 'market and technology realities'], 'answer_start': [290, 290, 290, 290, 290]}}, {'id': '572867543acd2414000df9a2', 'answers': {'text': ['seven', 'seven', 'seven'], 'answer_start': [35, 35, 35]}}, {'id': '5a668b1df038b7001ab0bf88', 'answers': {'text': [], 'answer_start': []}}, {'id': '572fce13a23a5019007fca14', 'answers': {'text': ['in the relevant committee or committees', 'committee', 'the whole Parliament'], 'answer_start': [571, 587, 636]}}, {'id': '5ad29d35d7d075001a429c12', 'answers': {'text': [], 'answer_start': []}}, {'id': '572a05eb3f37b31900478656', 'answers': {'text': ['Unemployment', 'Unemployment', 'Unemployment'], 'answer_start': [318, 318, 318]}}, {'id': '5728683b3acd2414000df9b2', 'answers': {'text': ['Kuviasungnerk/Kangeiko', 'Kuviasungnerk/Kangeiko', 'Kuviasungnerk/Kangeiko'], 'answer_start': [382, 382, 382]}}, {'id': '5a7b456121c2de001afe9e2c', 'answers': {'text': [], 'answer_start': []}}, {'id': '57097b50200fba140036804e', 'answers': {'text': ['25m', '25m people', '36% of households'], 'answer_start': [287, 287, 222]}}, {'id': '5737a4511c456719005744df', 'answers': {'text': ['rotational equivalent for position', 'rotation', 'rotational inertia', 'angle is the rotational equivalent for position'], 'answer_start': [77, 14, 242, 64]}}, {'id': '5ad3a342604f3c001a3fea5b', 'answers': {'text': [], 'answer_start': []}}, {'id': '57107932a58dae1900cd69ce', 'answers': {'text': ['Brooklyn', 'Brooklyn', 'Brooklyn'], 'answer_start': [954, 954, 954]}}, {'id': '57264fe65951b619008f6fa1', 'answers': {'text': ['confirmed and amended', 'confirmed and amended', 'confirmed and amended'], 'answer_start': [49, 49, 49]}}, {'id': '5a25f133c93d92001a400351', 'answers': {'text': [], 'answer_start': []}}, {'id': '572f55e8a23a5019007fc56c', 'answers': {'text': ['Rhin', 'Rhin', 'Rhin', 'Rhin', 'Rhin'], 'answer_start': [290, 290, 290, 290, 290]}}, {'id': '5a6790dbf038b7001ab0c2d1', 'answers': {'text': [], 'answer_start': []}}, {'id': '5ad40397604f3c001a3ffd86', 'answers': {'text': [], 'answer_start': []}}, {'id': '5ad25a8bd7d075001a428e32', 'answers': {'text': [], 'answer_start': []}}, {'id': '5726ea985951b619008f8261', 'answers': {'text': ['medication regimen review', 'medication regimen review', 'medication regimen review'], 'answer_start': [45, 45, 45]}}, {'id': '5ad24600d7d075001a428ac9', 'answers': {'text': [], 'answer_start': []}}, {'id': '5a6799adf038b7001ab0c31e', 'answers': {'text': [], 'answer_start': []}}, {'id': '5ad561c85b96ef001a10ad3c', 'answers': {'text': [], 'answer_start': []}}, {'id': '5a3e2f07378766001a0024ce', 'answers': {'text': [], 'answer_start': []}}, {'id': '5a6790dbf038b7001ab0c2d2', 'answers': {'text': [], 'answer_start': []}}, {'id': '5a668d25f038b7001ab0bfac', 'answers': {'text': [], 'answer_start': []}}, {'id': '5ad14a28645df0001a2d15a2', 'answers': {'text': [], 'answer_start': []}}, {'id': '5a89117e19b91f001a626f2e', 'answers': {'text': [], 'answer_start': []}}, {'id': '5ad25f35d7d075001a428f6a', 'answers': {'text': [], 'answer_start': []}}, {'id': '5ad4f4d95b96ef001a10a793', 'answers': {'text': [], 'answer_start': []}}, {'id': '57338255d058e614000b5c0d', 'answers': {'text': ['President', 'President', 'President'], 'answer_start': [30, 30, 30]}}, {'id': '56e1ec83cd28a01900c67c0c', 'answers': {'text': ['modern cryptographic systems', 'modern cryptographic systems', 'RSA algorithm'], 'answer_start': [323, 323, 365]}}, {'id': '5a6381d868151a001a922322', 'answers': {'text': [], 'answer_start': []}}, {'id': '5a836273e60761001a2eb643', 'answers': {'text': [], 'answer_start': []}}, {'id': '5729a03f1d04691400779595', 'answers': {'text': ['ring of integers of quadratic number fields', 'integers of quadratic number fields', 'integers of quadratic number fields', 'the ring of integers of quadratic number fields'], 'answer_start': [538, 546, 546, 534]}}, {'id': '5a550e6f134fea001a0e187e', 'answers': {'text': [], 'answer_start': []}}, {'id': '572750e8dd62a815002e9af3', 'answers': {'text': ['things that are a matter of custom or expectation', 'things that are a matter of custom or expectation', 'things that are a matter of custom or expectation'], 'answer_start': [372, 372, 372]}}, {'id': '5a8919843b2508001a72a4bd', 'answers': {'text': [], 'answer_start': []}}, {'id': '5ad248f7d7d075001a428b8f', 'answers': {'text': [], 'answer_start': []}}, {'id': '5ad25dd3d7d075001a428f00', 'answers': {'text': [], 'answer_start': []}}, {'id': '5a8391c7e60761001a2eb7db', 'answers': {'text': [], 'answer_start': []}}, {'id': '5a7b0fae21c2de001afe9d2c', 'answers': {'text': [], 'answer_start': []}}, {'id': '5ad22cd0d7d075001a42861b', 'answers': {'text': [], 'answer_start': []}}, {'id': '5ad4ca605b96ef001a10a0cd', 'answers': {'text': [], 'answer_start': []}}, {'id': '5ad25f82d7d075001a428f87', 'answers': {'text': [], 'answer_start': []}}, {'id': '570d32e4fed7b91900d45d03', 'answers': {'text': ['some extra costs', 'some extra costs are levied', 'extra costs'], 'answer_start': [226, 226, 231]}}, {'id': '571112ada58dae1900cd6bcf', 'answers': {'text': ['little Hugos, or those who want Hugo', 'little Hugos', 'little Hugos, or those who want Hugo.'], 'answer_start': [555, 555, 555]}}, {'id': '5729f39a6aef05140015514e', 'answers': {'text': ['CD8', 'CD8', 'CD8'], 'answer_start': [465, 465, 465]}}, {'id': '5a894a483b2508001a72a5ae', 'answers': {'text': [], 'answer_start': []}}, {'id': '5ad4bcc45b96ef001a109e9e', 'answers': {'text': [], 'answer_start': []}}, {'id': '5ad03b4677cf76001a686ea4', 'answers': {'text': [], 'answer_start': []}}, {'id': '5a2ecb43a83784001a7d248b', 'answers': {'text': [], 'answer_start': []}}]\n",
            "{'exact': 53.125, 'f1': 53.125, 'total': 320, 'HasAns_exact': 0.0, 'HasAns_f1': 0.0, 'HasAns_total': 150, 'NoAns_exact': 100.0, 'NoAns_f1': 100.0, 'NoAns_total': 170, 'best_exact': 53.125, 'best_exact_thresh': 0.0, 'best_f1': 53.125, 'best_f1_thresh': 0.0, 'eval_loss': 'No log', 'epoch': 1.0}\n",
            "{'loss': 3.5644, 'learning_rate': 2.076923076923077e-05, 'epoch': 2.0}\n"
          ]
        },
        {
          "name": "stderr",
          "output_type": "stream",
          "text": [
            "c:\\Users\\Kasra Sohrab\\.conda\\envs\\nlp\\Lib\\site-packages\\transformers\\trainer_pt_utils.py:411: FutureWarning: DistributedTensorGatherer is deprecated and will be removed in v5 of Transformers.\n",
            "  warnings.warn(\n"
          ]
        },
        {
          "data": {
            "application/vnd.jupyter.widget-view+json": {
              "model_id": "0096973584ae40aa904c3aae0d2b31e8",
              "version_major": 2,
              "version_minor": 0
            },
            "text/plain": [
              "  0%|          | 0/3 [00:00<?, ?it/s]"
            ]
          },
          "metadata": {},
          "output_type": "display_data"
        },
        {
          "data": {
            "application/vnd.jupyter.widget-view+json": {
              "model_id": "003da3bda9534f44a609713e7812aa66",
              "version_major": 2,
              "version_minor": 0
            },
            "text/plain": [
              "  0%|          | 0/320 [00:00<?, ?it/s]"
            ]
          },
          "metadata": {},
          "output_type": "display_data"
        },
        {
          "name": "stderr",
          "output_type": "stream",
          "text": [
            "Trainer is attempting to log a value of \"No log\" of type <class 'str'> for key \"eval/loss\" as a scalar. This invocation of Tensorboard's writer.add_scalar() is incorrect so we dropped this attribute.\n"
          ]
        },
        {
          "name": "stdout",
          "output_type": "stream",
          "text": [
            "[{'id': '5733ea04d058e614000b6595', 'prediction_text': '', 'no_answer_probability': 0.0}, {'id': '5ad26a5fd7d075001a42931b', 'prediction_text': '', 'no_answer_probability': 0.0}, {'id': '5a664447c2b11c001a425eef', 'prediction_text': '', 'no_answer_probability': 0.0}, {'id': '5ad3ff1b604f3c001a3ffc74', 'prediction_text': '', 'no_answer_probability': 0.0}, {'id': '5ad25d39d7d075001a428eda', 'prediction_text': '', 'no_answer_probability': 0.0}, {'id': '5ad265d2d7d075001a4291c6', 'prediction_text': '', 'no_answer_probability': 0.0}, {'id': '5a1c8ea7b4fb5d00187146d1', 'prediction_text': '', 'no_answer_probability': 0.0}, {'id': '5a57c667770dc0001aeefd69', 'prediction_text': '', 'no_answer_probability': 0.0}, {'id': '5705fd8475f01819005e7841', 'prediction_text': '', 'no_answer_probability': 0.0}, {'id': '5726431d271a42140099d7f9', 'prediction_text': '', 'no_answer_probability': 0.0}, {'id': '5a8929e43b2508001a72a4de', 'prediction_text': '', 'no_answer_probability': 0.0}, {'id': '5706143575f01819005e7952', 'prediction_text': '', 'no_answer_probability': 0.0}, {'id': '5ad570b25b96ef001a10aede', 'prediction_text': '', 'no_answer_probability': 0.0}, {'id': '5ad04f7977cf76001a686fbb', 'prediction_text': '', 'no_answer_probability': 0.0}, {'id': '5726545f708984140094c2a5', 'prediction_text': '', 'no_answer_probability': 0.0}, {'id': '5733a2a9d058e614000b5f2b', 'prediction_text': '', 'no_answer_probability': 0.0}, {'id': '57337f6ad058e614000b5bce', 'prediction_text': '', 'no_answer_probability': 0.0}, {'id': '5a892d303b2508001a72a4ee', 'prediction_text': '', 'no_answer_probability': 0.0}, {'id': '5ad40b9a604f3c001a40001a', 'prediction_text': '', 'no_answer_probability': 0.0}, {'id': '573368044776f41900660a29', 'prediction_text': '', 'no_answer_probability': 0.0}, {'id': '5726f48df1498d1400e8f0de', 'prediction_text': '', 'no_answer_probability': 0.0}, {'id': '5a7b05cd21c2de001afe9cdc', 'prediction_text': '', 'no_answer_probability': 0.0}, {'id': '57265d08708984140094c398', 'prediction_text': '', 'no_answer_probability': 0.0}, {'id': '5acff63377cf76001a68665d', 'prediction_text': '', 'no_answer_probability': 0.0}, {'id': '5ad0313b77cf76001a686dd5', 'prediction_text': '', 'no_answer_probability': 0.0}, {'id': '572f55e8a23a5019007fc56b', 'prediction_text': '', 'no_answer_probability': 0.0}, {'id': '5729fb003f37b31900478629', 'prediction_text': '', 'no_answer_probability': 0.0}, {'id': '5725c95f38643c19005accf7', 'prediction_text': '', 'no_answer_probability': 0.0}, {'id': '572fdd03a23a5019007fca9e', 'prediction_text': '', 'no_answer_probability': 0.0}, {'id': '572facb0a23a5019007fc866', 'prediction_text': '', 'no_answer_probability': 0.0}, {'id': '5ad3b147604f3c001a3fecd6', 'prediction_text': '', 'no_answer_probability': 0.0}, {'id': '57339dd94776f41900660ecd', 'prediction_text': '', 'no_answer_probability': 0.0}, {'id': '5a1c8aedb4fb5d00187146a2', 'prediction_text': '', 'no_answer_probability': 0.0}, {'id': '572a1046af94a219006aa78e', 'prediction_text': '', 'no_answer_probability': 0.0}, {'id': '5725f00938643c19005aced7', 'prediction_text': '', 'no_answer_probability': 0.0}, {'id': '5711163bb654c5140001fb13', 'prediction_text': '', 'no_answer_probability': 0.0}, {'id': '5ad13ef3645df0001a2d138d', 'prediction_text': '', 'no_answer_probability': 0.0}, {'id': '5728e8212ca10214002daa6e', 'prediction_text': '', 'no_answer_probability': 0.0}, {'id': '5ad03c2977cf76001a686eb4', 'prediction_text': '', 'no_answer_probability': 0.0}, {'id': '57286bf84b864d19001649d2', 'prediction_text': '', 'no_answer_probability': 0.0}, {'id': '5ad10f94645df0001a2d0bc6', 'prediction_text': '', 'no_answer_probability': 0.0}, {'id': '572a20816aef0514001552e6', 'prediction_text': '', 'no_answer_probability': 0.0}, {'id': '57264684708984140094c124', 'prediction_text': '', 'no_answer_probability': 0.0}, {'id': '5a67dedd8476ee001a58a74d', 'prediction_text': '', 'no_answer_probability': 0.0}, {'id': '57265700dd62a815002e8212', 'prediction_text': '', 'no_answer_probability': 0.0}, {'id': '5a835b42e60761001a2eb60d', 'prediction_text': '', 'no_answer_probability': 0.0}, {'id': '5a8235a931013a001a3352d8', 'prediction_text': '', 'no_answer_probability': 0.0}, {'id': '5ad2442bd7d075001a428a3c', 'prediction_text': '', 'no_answer_probability': 0.0}, {'id': '573408ef4776f41900661757', 'prediction_text': '', 'no_answer_probability': 0.0}, {'id': '5a2eb84ba83784001a7d2423', 'prediction_text': '', 'no_answer_probability': 0.0}, {'id': '5a234eef82b03a001a4aa76b', 'prediction_text': '', 'no_answer_probability': 0.0}, {'id': '5ad11097645df0001a2d0be2', 'prediction_text': '', 'no_answer_probability': 0.0}, {'id': '572a1a5c6aef051400155284', 'prediction_text': '', 'no_answer_probability': 0.0}, {'id': '5ad5719f5b96ef001a10aef0', 'prediction_text': '', 'no_answer_probability': 0.0}, {'id': '5a2c0a5abfd06b001a5ae993', 'prediction_text': '', 'no_answer_probability': 0.0}, {'id': '5a57f0ea770dc0001aeefee3', 'prediction_text': '', 'no_answer_probability': 0.0}, {'id': '5a81f28431013a001a334fb5', 'prediction_text': '', 'no_answer_probability': 0.0}, {'id': '5ad3a38c604f3c001a3fea63', 'prediction_text': '', 'no_answer_probability': 0.0}, {'id': '5ad3ad01604f3c001a3febd3', 'prediction_text': '', 'no_answer_probability': 0.0}, {'id': '57108073b654c5140001f927', 'prediction_text': '', 'no_answer_probability': 0.0}, {'id': '571caac55efbb31900334dc9', 'prediction_text': '', 'no_answer_probability': 0.0}, {'id': '57296f293f37b319004783a6', 'prediction_text': '', 'no_answer_probability': 0.0}, {'id': '5ad509615b96ef001a10aa7c', 'prediction_text': '', 'no_answer_probability': 0.0}, {'id': '5729d51d3f37b3190047858f', 'prediction_text': '', 'no_answer_probability': 0.0}, {'id': '5ad400f0604f3c001a3ffcf3', 'prediction_text': '', 'no_answer_probability': 0.0}, {'id': '5a7b12a421c2de001afe9d51', 'prediction_text': '', 'no_answer_probability': 0.0}, {'id': '571c9074dd7acb1400e4c103', 'prediction_text': '', 'no_answer_probability': 0.0}, {'id': '571cd11add7acb1400e4c170', 'prediction_text': '', 'no_answer_probability': 0.0}, {'id': '570d2f5bfed7b91900d45cd3', 'prediction_text': '', 'no_answer_probability': 0.0}, {'id': '57300c67947a6a140053cff2', 'prediction_text': '', 'no_answer_probability': 0.0}, {'id': '5ad14f5a645df0001a2d1710', 'prediction_text': '', 'no_answer_probability': 0.0}, {'id': '5a6647d2c2b11c001a425f1e', 'prediction_text': '', 'no_answer_probability': 0.0}, {'id': '5725c337271a42140099d167', 'prediction_text': '', 'no_answer_probability': 0.0}, {'id': '5ad4e4425b96ef001a10a575', 'prediction_text': '', 'no_answer_probability': 0.0}, {'id': '5ad3b260604f3c001a3fed06', 'prediction_text': '', 'no_answer_probability': 0.0}, {'id': '572fd6aa04bcaa1900d76da0', 'prediction_text': '', 'no_answer_probability': 0.0}, {'id': '573755afc3c5551400e51eb3', 'prediction_text': '', 'no_answer_probability': 0.0}, {'id': '572ffce5a23a5019007fcc18', 'prediction_text': '', 'no_answer_probability': 0.0}, {'id': '5ad3cc47604f3c001a3ff146', 'prediction_text': '', 'no_answer_probability': 0.0}, {'id': '5a67a898f038b7001ab0c3f5', 'prediction_text': '', 'no_answer_probability': 0.0}, {'id': '5ad23fded7d075001a4288fd', 'prediction_text': '', 'no_answer_probability': 0.0}, {'id': '571a4b0f10f8ca1400304fd7', 'prediction_text': '', 'no_answer_probability': 0.0}, {'id': '5a893a003b2508001a72a53f', 'prediction_text': '', 'no_answer_probability': 0.0}, {'id': '5ad546c75b96ef001a10ac11', 'prediction_text': '', 'no_answer_probability': 0.0}, {'id': '573011de04bcaa1900d770fc', 'prediction_text': '', 'no_answer_probability': 0.0}, {'id': '5729a26d6aef05140015505c', 'prediction_text': '', 'no_answer_probability': 0.0}, {'id': '5ad15170645df0001a2d1735', 'prediction_text': '', 'no_answer_probability': 0.0}, {'id': '5ad26235d7d075001a429082', 'prediction_text': '', 'no_answer_probability': 0.0}, {'id': '5acf98ad77cf76001a6853c6', 'prediction_text': '', 'no_answer_probability': 0.0}, {'id': '5ad28173d7d075001a4297fd', 'prediction_text': '', 'no_answer_probability': 0.0}, {'id': '5ad24600d7d075001a428aca', 'prediction_text': '', 'no_answer_probability': 0.0}, {'id': '5ad4d2855b96ef001a10a1de', 'prediction_text': '', 'no_answer_probability': 0.0}, {'id': '5725f2c838643c19005aceee', 'prediction_text': '', 'no_answer_probability': 0.0}, {'id': '5a6695e8f038b7001ab0c01a', 'prediction_text': '', 'no_answer_probability': 0.0}, {'id': '5727e21e4b864d1900163f36', 'prediction_text': '', 'no_answer_probability': 0.0}, {'id': '572745c6708984140094db9a', 'prediction_text': '', 'no_answer_probability': 0.0}, {'id': '572fec30947a6a140053cdf3', 'prediction_text': '', 'no_answer_probability': 0.0}, {'id': '5710e8c8a58dae1900cd6b2a', 'prediction_text': '', 'no_answer_probability': 0.0}, {'id': '572fbf21a23a5019007fc93b', 'prediction_text': '', 'no_answer_probability': 0.0}, {'id': '572665ff708984140094c4c5', 'prediction_text': '', 'no_answer_probability': 0.0}, {'id': '5a75066297ca42001a521ded', 'prediction_text': '', 'no_answer_probability': 0.0}, {'id': '5705e63175f01819005e7720', 'prediction_text': '', 'no_answer_probability': 0.0}, {'id': '5a2eb95ca83784001a7d242c', 'prediction_text': '', 'no_answer_probability': 0.0}, {'id': '57299ec43f37b3190047850f', 'prediction_text': '', 'no_answer_probability': 0.0}, {'id': '5a823e6f31013a001a335330', 'prediction_text': '', 'no_answer_probability': 0.0}, {'id': '5ad40219604f3c001a3ffd47', 'prediction_text': '', 'no_answer_probability': 0.0}, {'id': '572991943f37b319004784a3', 'prediction_text': '', 'no_answer_probability': 0.0}, {'id': '57308ddc396df919000961a4', 'prediction_text': '', 'no_answer_probability': 0.0}, {'id': '57106185b654c5140001f8dc', 'prediction_text': '', 'no_answer_probability': 0.0}, {'id': '5726241189a1e219009ac2df', 'prediction_text': '', 'no_answer_probability': 0.0}, {'id': '5737a25ac3c5551400e51f51', 'prediction_text': '', 'no_answer_probability': 0.0}, {'id': '5a8398bbe60761001a2eb805', 'prediction_text': '', 'no_answer_probability': 0.0}, {'id': '5ad11288645df0001a2d0c34', 'prediction_text': '', 'no_answer_probability': 0.0}, {'id': '5ad0383677cf76001a686e39', 'prediction_text': '', 'no_answer_probability': 0.0}, {'id': '572fe41e04bcaa1900d76e4c', 'prediction_text': '', 'no_answer_probability': 0.0}, {'id': '57376a1bc3c5551400e51ec4', 'prediction_text': '', 'no_answer_probability': 0.0}, {'id': '5726a3c6f1498d1400e8e5b2', 'prediction_text': '', 'no_answer_probability': 0.0}, {'id': '5a0c807ff5590b0018dab452', 'prediction_text': '', 'no_answer_probability': 0.0}, {'id': '5ad14966645df0001a2d1582', 'prediction_text': '', 'no_answer_probability': 0.0}, {'id': '5a665870846392001a1e1af6', 'prediction_text': '', 'no_answer_probability': 0.0}, {'id': '5a668d25f038b7001ab0bfb0', 'prediction_text': '', 'no_answer_probability': 0.0}, {'id': '5728eff82ca10214002daade', 'prediction_text': '', 'no_answer_probability': 0.0}, {'id': '573027d6a23a5019007fcea1', 'prediction_text': '', 'no_answer_probability': 0.0}, {'id': '572648ed5951b619008f6f07', 'prediction_text': '', 'no_answer_probability': 0.0}, {'id': '57281bb84b864d190016449c', 'prediction_text': '', 'no_answer_probability': 0.0}, {'id': '5ad3fc1f604f3c001a3ffb7c', 'prediction_text': '', 'no_answer_probability': 0.0}, {'id': '5728eb1a3acd2414000e01c5', 'prediction_text': '', 'no_answer_probability': 0.0}, {'id': '5ad404a6604f3c001a3ffde3', 'prediction_text': '', 'no_answer_probability': 0.0}, {'id': '5a2c16e3bfd06b001a5ae9e8', 'prediction_text': '', 'no_answer_probability': 0.0}, {'id': '572fb42904bcaa1900d76c15', 'prediction_text': '', 'no_answer_probability': 0.0}, {'id': '5726b58f5951b619008f7b58', 'prediction_text': '', 'no_answer_probability': 0.0}, {'id': '5ad14573645df0001a2d14b2', 'prediction_text': '', 'no_answer_probability': 0.0}, {'id': '57273a465951b619008f86ff', 'prediction_text': '', 'no_answer_probability': 0.0}, {'id': '5ad2605dd7d075001a428fc7', 'prediction_text': '', 'no_answer_probability': 0.0}, {'id': '571ce6655efbb31900334e34', 'prediction_text': '', 'no_answer_probability': 0.0}, {'id': '572940973f37b319004781a8', 'prediction_text': '', 'no_answer_probability': 0.0}, {'id': '56e16839cd28a01900c67888', 'prediction_text': '', 'no_answer_probability': 0.0}, {'id': '5733266d4776f41900660713', 'prediction_text': '', 'no_answer_probability': 0.0}, {'id': '5a8221dc31013a001a335231', 'prediction_text': '', 'no_answer_probability': 0.0}, {'id': '5ad25963d7d075001a428e0c', 'prediction_text': '', 'no_answer_probability': 0.0}, {'id': '57265c10f1498d1400e8dd39', 'prediction_text': '', 'no_answer_probability': 0.0}, {'id': '5ad24f27d7d075001a428c88', 'prediction_text': '', 'no_answer_probability': 0.0}, {'id': '5ad4d9be5b96ef001a10a3b0', 'prediction_text': '', 'no_answer_probability': 0.0}, {'id': '5a836496e60761001a2eb65b', 'prediction_text': '', 'no_answer_probability': 0.0}, {'id': '5a592b593e1742001a15cfce', 'prediction_text': '', 'no_answer_probability': 0.0}, {'id': '57378862c3c5551400e51f22', 'prediction_text': '', 'no_answer_probability': 0.0}, {'id': '571090abb654c5140001f996', 'prediction_text': '', 'no_answer_probability': 0.0}, {'id': '5a592e733e1742001a15cff7', 'prediction_text': '', 'no_answer_probability': 0.0}, {'id': '5ad418fb604f3c001a400433', 'prediction_text': '', 'no_answer_probability': 0.0}, {'id': '5ad4ea425b96ef001a10a62a', 'prediction_text': '', 'no_answer_probability': 0.0}, {'id': '57268e2bf1498d1400e8e3b1', 'prediction_text': '', 'no_answer_probability': 0.0}, {'id': '5728d7c54b864d1900164f4d', 'prediction_text': '', 'no_answer_probability': 0.0}, {'id': '5a6ce55e4eec6b001a80a693', 'prediction_text': '', 'no_answer_probability': 0.0}, {'id': '572a019f3f37b31900478643', 'prediction_text': '', 'no_answer_probability': 0.0}, {'id': '572663a9f1498d1400e8ddf2', 'prediction_text': '', 'no_answer_probability': 0.0}, {'id': '5a3e42de378766001a00252b', 'prediction_text': '', 'no_answer_probability': 0.0}, {'id': '5ad3b9cd604f3c001a3fee89', 'prediction_text': '', 'no_answer_probability': 0.0}, {'id': '572648ed5951b619008f6f03', 'prediction_text': '', 'no_answer_probability': 0.0}, {'id': '5ad25dd3d7d075001a428f03', 'prediction_text': '', 'no_answer_probability': 0.0}, {'id': '57286010ff5b5019007da1cc', 'prediction_text': '', 'no_answer_probability': 0.0}, {'id': '5a7b3f0f21c2de001afe9e03', 'prediction_text': '', 'no_answer_probability': 0.0}, {'id': '5ad4d55f5b96ef001a10a277', 'prediction_text': '', 'no_answer_probability': 0.0}, {'id': '56de1563cffd8e1900b4b5c3', 'prediction_text': '', 'no_answer_probability': 0.0}, {'id': '572ff83ab2c2fd1400568683', 'prediction_text': '', 'no_answer_probability': 0.0}, {'id': '571cca4add7acb1400e4c154', 'prediction_text': '', 'no_answer_probability': 0.0}, {'id': '5a669d5cf038b7001ab0c05e', 'prediction_text': '', 'no_answer_probability': 0.0}, {'id': '572881704b864d1900164a50', 'prediction_text': '', 'no_answer_probability': 0.0}, {'id': '5ad2b1e1d7d075001a429f6c', 'prediction_text': '', 'no_answer_probability': 0.0}, {'id': '5ad265d2d7d075001a4291c9', 'prediction_text': '', 'no_answer_probability': 0.0}, {'id': '5a2ed246a83784001a7d24e3', 'prediction_text': '', 'no_answer_probability': 0.0}, {'id': '57266c015951b619008f7238', 'prediction_text': '', 'no_answer_probability': 0.0}, {'id': '572941273f37b319004781ae', 'prediction_text': '', 'no_answer_probability': 0.0}, {'id': '5ad50c9f5b96ef001a10aae1', 'prediction_text': '', 'no_answer_probability': 0.0}, {'id': '5729517d6aef051400154cc9', 'prediction_text': '', 'no_answer_probability': 0.0}, {'id': '572659535951b619008f703f', 'prediction_text': '', 'no_answer_probability': 0.0}, {'id': '57115b8b50c2381900b54a8b', 'prediction_text': '', 'no_answer_probability': 0.0}, {'id': '57287f6a3acd2414000dfa52', 'prediction_text': '', 'no_answer_probability': 0.0}, {'id': '5a8919843b2508001a72a4c0', 'prediction_text': '', 'no_answer_probability': 0.0}, {'id': '5ad4cc135b96ef001a10a0f6', 'prediction_text': '', 'no_answer_probability': 0.0}, {'id': '572885c44b864d1900164a78', 'prediction_text': '', 'no_answer_probability': 0.0}, {'id': '5a7b11bb21c2de001afe9d48', 'prediction_text': '', 'no_answer_probability': 0.0}, {'id': '5ad3b781604f3c001a3fee27', 'prediction_text': '', 'no_answer_probability': 0.0}, {'id': '5ad53e615b96ef001a10abdb', 'prediction_text': '', 'no_answer_probability': 0.0}, {'id': '572f5703a23a5019007fc575', 'prediction_text': '', 'no_answer_probability': 0.0}, {'id': '5a89473c3b2508001a72a59b', 'prediction_text': '', 'no_answer_probability': 0.0}, {'id': '5ad25e99d7d075001a428f31', 'prediction_text': '', 'no_answer_probability': 0.0}, {'id': '5728742cff5b5019007da246', 'prediction_text': '', 'no_answer_probability': 0.0}, {'id': '56e1febfe3433e1400423236', 'prediction_text': '', 'no_answer_probability': 0.0}, {'id': '5726f2375951b619008f830f', 'prediction_text': '', 'no_answer_probability': 0.0}, {'id': '5705f09e75f01819005e77a7', 'prediction_text': '', 'no_answer_probability': 0.0}, {'id': '5ad55ee35b96ef001a10ace4', 'prediction_text': '', 'no_answer_probability': 0.0}, {'id': '5a669a2cf038b7001ab0c046', 'prediction_text': '', 'no_answer_probability': 0.0}, {'id': '5ad2b1e1d7d075001a429f6a', 'prediction_text': '', 'no_answer_probability': 0.0}, {'id': '56de0ffd4396321400ee258d', 'prediction_text': '', 'no_answer_probability': 0.0}, {'id': '5ad53e615b96ef001a10abdc', 'prediction_text': '', 'no_answer_probability': 0.0}, {'id': '5a668632f038b7001ab0bf47', 'prediction_text': '', 'no_answer_probability': 0.0}, {'id': '5ad2424cd7d075001a42898c', 'prediction_text': '', 'no_answer_probability': 0.0}, {'id': '5ad4f4d95b96ef001a10a794', 'prediction_text': '', 'no_answer_probability': 0.0}, {'id': '572fffb404bcaa1900d76fef', 'prediction_text': '', 'no_answer_probability': 0.0}, {'id': '5a7b33b821c2de001afe9dbd', 'prediction_text': '', 'no_answer_probability': 0.0}, {'id': '5a6ce55e4eec6b001a80a691', 'prediction_text': '', 'no_answer_probability': 0.0}, {'id': '572881d34b864d1900164a5c', 'prediction_text': '', 'no_answer_probability': 0.0}, {'id': '5ad3cc47604f3c001a3ff147', 'prediction_text': '', 'no_answer_probability': 0.0}, {'id': '571127a5a58dae1900cd6cc8', 'prediction_text': '', 'no_answer_probability': 0.0}, {'id': '5ad4fe635b96ef001a10a8b8', 'prediction_text': '', 'no_answer_probability': 0.0}, {'id': '5a1c539bb4fb5d00187145fb', 'prediction_text': '', 'no_answer_probability': 0.0}, {'id': '5ad2461ad7d075001a428ad2', 'prediction_text': '', 'no_answer_probability': 0.0}, {'id': '5ad5648b5b96ef001a10ad95', 'prediction_text': '', 'no_answer_probability': 0.0}, {'id': '5a3e3de4378766001a002514', 'prediction_text': '', 'no_answer_probability': 0.0}, {'id': '5725d34089a1e219009abf50', 'prediction_text': '', 'no_answer_probability': 0.0}, {'id': '5725cb33271a42140099d1df', 'prediction_text': '', 'no_answer_probability': 0.0}, {'id': '57094a79efce8f15003a7dc6', 'prediction_text': '', 'no_answer_probability': 0.0}, {'id': '5a822bc531013a001a335281', 'prediction_text': '', 'no_answer_probability': 0.0}, {'id': '57265700dd62a815002e8211', 'prediction_text': '', 'no_answer_probability': 0.0}, {'id': '5733e5a14776f4190066145d', 'prediction_text': '', 'no_answer_probability': 0.0}, {'id': '5ad039be77cf76001a686e60', 'prediction_text': '', 'no_answer_probability': 0.0}, {'id': '5a6ce6164eec6b001a80a69c', 'prediction_text': '', 'no_answer_probability': 0.0}, {'id': '5730131c947a6a140053d056', 'prediction_text': '', 'no_answer_probability': 0.0}, {'id': '572fff45947a6a140053cf2a', 'prediction_text': '', 'no_answer_probability': 0.0}, {'id': '5ad3bd30604f3c001a3fef11', 'prediction_text': '', 'no_answer_probability': 0.0}, {'id': '5a3e3de4378766001a002513', 'prediction_text': '', 'no_answer_probability': 0.0}, {'id': '57115c7450c2381900b54aa0', 'prediction_text': '', 'no_answer_probability': 0.0}, {'id': '5ad3cd43604f3c001a3ff186', 'prediction_text': '', 'no_answer_probability': 0.0}, {'id': '5727dc473acd2414000dee44', 'prediction_text': '', 'no_answer_probability': 0.0}, {'id': '57268f2bf1498d1400e8e3c7', 'prediction_text': '', 'no_answer_probability': 0.0}, {'id': '572647d0708984140094c14c', 'prediction_text': '', 'no_answer_probability': 0.0}, {'id': '5727db85ff5b5019007d96fc', 'prediction_text': '', 'no_answer_probability': 0.0}, {'id': '5acff5b077cf76001a68662a', 'prediction_text': '', 'no_answer_probability': 0.0}, {'id': '5ad4c94f5b96ef001a10a09c', 'prediction_text': '', 'no_answer_probability': 0.0}, {'id': '5733140a4776f419006606e2', 'prediction_text': '', 'no_answer_probability': 0.0}, {'id': '573368e54776f41900660a55', 'prediction_text': '', 'no_answer_probability': 0.0}, {'id': '5727cebc2ca10214002d96f3', 'prediction_text': '', 'no_answer_probability': 0.0}, {'id': '5729f4b41d0469140077968c', 'prediction_text': '', 'no_answer_probability': 0.0}, {'id': '57308cf88ab72b1400f9c576', 'prediction_text': '', 'no_answer_probability': 0.0}, {'id': '5a2c14b4bfd06b001a5ae9d4', 'prediction_text': '', 'no_answer_probability': 0.0}, {'id': '5705f09e75f01819005e77a6', 'prediction_text': '', 'no_answer_probability': 0.0}, {'id': '5ad3d689604f3c001a3ff311', 'prediction_text': '', 'no_answer_probability': 0.0}, {'id': '5ad0301577cf76001a686db6', 'prediction_text': '', 'no_answer_probability': 0.0}, {'id': '5ad5036c5b96ef001a10a984', 'prediction_text': '', 'no_answer_probability': 0.0}, {'id': '5ad400b0604f3c001a3ffcdf', 'prediction_text': '', 'no_answer_probability': 0.0}, {'id': '5a2ed0a0a83784001a7d24d1', 'prediction_text': '', 'no_answer_probability': 0.0}, {'id': '57281d494b864d19001644c1', 'prediction_text': '', 'no_answer_probability': 0.0}, {'id': '572671a5f1498d1400e8dfe4', 'prediction_text': '', 'no_answer_probability': 0.0}, {'id': '572824f13acd2414000df58f', 'prediction_text': '', 'no_answer_probability': 0.0}, {'id': '57299326af94a219006aa516', 'prediction_text': '', 'no_answer_probability': 0.0}, {'id': '573060b48ab72b1400f9c4c9', 'prediction_text': '', 'no_answer_probability': 0.0}, {'id': '5a6391c268151a001a92238d', 'prediction_text': '', 'no_answer_probability': 0.0}, {'id': '5a38aa28a4b263001a8c1881', 'prediction_text': '', 'no_answer_probability': 0.0}, {'id': '5ad3a21d604f3c001a3fea21', 'prediction_text': '', 'no_answer_probability': 0.0}, {'id': '572649d8f1498d1400e8db36', 'prediction_text': '', 'no_answer_probability': 0.0}, {'id': '572a1a5c6aef051400155285', 'prediction_text': '', 'no_answer_probability': 0.0}, {'id': '5a63981168151a001a9223b7', 'prediction_text': '', 'no_answer_probability': 0.0}, {'id': '5727d3843acd2414000ded69', 'prediction_text': '', 'no_answer_probability': 0.0}, {'id': '5ad3c57a604f3c001a3feff4', 'prediction_text': '', 'no_answer_probability': 0.0}, {'id': '5ad27e30d7d075001a429703', 'prediction_text': '', 'no_answer_probability': 0.0}, {'id': '5a2c3a5cbfd06b001a5aea7b', 'prediction_text': '', 'no_answer_probability': 0.0}, {'id': '5728f9882ca10214002dab5b', 'prediction_text': '', 'no_answer_probability': 0.0}, {'id': '571cd88ddd7acb1400e4c18f', 'prediction_text': '', 'no_answer_probability': 0.0}, {'id': '5a6cb7ce4eec6b001a80a639', 'prediction_text': '', 'no_answer_probability': 0.0}, {'id': '5a666b43846392001a1e1c0f', 'prediction_text': '', 'no_answer_probability': 0.0}, {'id': '572684365951b619008f7540', 'prediction_text': '', 'no_answer_probability': 0.0}, {'id': '5a7b3b3121c2de001afe9df1', 'prediction_text': '', 'no_answer_probability': 0.0}, {'id': '5a551328134fea001a0e18d8', 'prediction_text': '', 'no_answer_probability': 0.0}, {'id': '5a60556eeae51e001ab14d17', 'prediction_text': '', 'no_answer_probability': 0.0}, {'id': '57107932a58dae1900cd69cc', 'prediction_text': '', 'no_answer_probability': 0.0}, {'id': '570d32e4fed7b91900d45d02', 'prediction_text': '', 'no_answer_probability': 0.0}, {'id': '5728455bff5b5019007da07b', 'prediction_text': '', 'no_answer_probability': 0.0}, {'id': '5acfe91c77cf76001a686438', 'prediction_text': '', 'no_answer_probability': 0.0}, {'id': '57268a37f1498d1400e8e340', 'prediction_text': '', 'no_answer_probability': 0.0}, {'id': '572650325951b619008f6faa', 'prediction_text': '', 'no_answer_probability': 0.0}, {'id': '572867543acd2414000df9a2', 'prediction_text': '', 'no_answer_probability': 0.0}, {'id': '5a668b1df038b7001ab0bf88', 'prediction_text': '', 'no_answer_probability': 0.0}, {'id': '572fce13a23a5019007fca14', 'prediction_text': '', 'no_answer_probability': 0.0}, {'id': '5ad29d35d7d075001a429c12', 'prediction_text': '', 'no_answer_probability': 0.0}, {'id': '572a05eb3f37b31900478656', 'prediction_text': '', 'no_answer_probability': 0.0}, {'id': '5728683b3acd2414000df9b2', 'prediction_text': '', 'no_answer_probability': 0.0}, {'id': '5a7b456121c2de001afe9e2c', 'prediction_text': '', 'no_answer_probability': 0.0}, {'id': '57097b50200fba140036804e', 'prediction_text': '', 'no_answer_probability': 0.0}, {'id': '5737a4511c456719005744df', 'prediction_text': '', 'no_answer_probability': 0.0}, {'id': '5ad3a342604f3c001a3fea5b', 'prediction_text': '', 'no_answer_probability': 0.0}, {'id': '57107932a58dae1900cd69ce', 'prediction_text': '', 'no_answer_probability': 0.0}, {'id': '57264fe65951b619008f6fa1', 'prediction_text': '', 'no_answer_probability': 0.0}, {'id': '5a25f133c93d92001a400351', 'prediction_text': '', 'no_answer_probability': 0.0}, {'id': '572f55e8a23a5019007fc56c', 'prediction_text': '', 'no_answer_probability': 0.0}, {'id': '5a6790dbf038b7001ab0c2d1', 'prediction_text': '', 'no_answer_probability': 0.0}, {'id': '5ad40397604f3c001a3ffd86', 'prediction_text': '', 'no_answer_probability': 0.0}, {'id': '5ad25a8bd7d075001a428e32', 'prediction_text': '', 'no_answer_probability': 0.0}, {'id': '5726ea985951b619008f8261', 'prediction_text': '', 'no_answer_probability': 0.0}, {'id': '5ad24600d7d075001a428ac9', 'prediction_text': '', 'no_answer_probability': 0.0}, {'id': '5a6799adf038b7001ab0c31e', 'prediction_text': '', 'no_answer_probability': 0.0}, {'id': '5ad561c85b96ef001a10ad3c', 'prediction_text': '', 'no_answer_probability': 0.0}, {'id': '5a3e2f07378766001a0024ce', 'prediction_text': '', 'no_answer_probability': 0.0}, {'id': '5a6790dbf038b7001ab0c2d2', 'prediction_text': '', 'no_answer_probability': 0.0}, {'id': '5a668d25f038b7001ab0bfac', 'prediction_text': '', 'no_answer_probability': 0.0}, {'id': '5ad14a28645df0001a2d15a2', 'prediction_text': '', 'no_answer_probability': 0.0}, {'id': '5a89117e19b91f001a626f2e', 'prediction_text': '', 'no_answer_probability': 0.0}, {'id': '5ad25f35d7d075001a428f6a', 'prediction_text': '', 'no_answer_probability': 0.0}, {'id': '5ad4f4d95b96ef001a10a793', 'prediction_text': '', 'no_answer_probability': 0.0}, {'id': '57338255d058e614000b5c0d', 'prediction_text': '', 'no_answer_probability': 0.0}, {'id': '56e1ec83cd28a01900c67c0c', 'prediction_text': '', 'no_answer_probability': 0.0}, {'id': '5a6381d868151a001a922322', 'prediction_text': '', 'no_answer_probability': 0.0}, {'id': '5a836273e60761001a2eb643', 'prediction_text': '', 'no_answer_probability': 0.0}, {'id': '5729a03f1d04691400779595', 'prediction_text': '', 'no_answer_probability': 0.0}, {'id': '5a550e6f134fea001a0e187e', 'prediction_text': '', 'no_answer_probability': 0.0}, {'id': '572750e8dd62a815002e9af3', 'prediction_text': '', 'no_answer_probability': 0.0}, {'id': '5a8919843b2508001a72a4bd', 'prediction_text': '', 'no_answer_probability': 0.0}, {'id': '5ad248f7d7d075001a428b8f', 'prediction_text': '', 'no_answer_probability': 0.0}, {'id': '5ad25dd3d7d075001a428f00', 'prediction_text': '', 'no_answer_probability': 0.0}, {'id': '5a8391c7e60761001a2eb7db', 'prediction_text': '', 'no_answer_probability': 0.0}, {'id': '5a7b0fae21c2de001afe9d2c', 'prediction_text': '', 'no_answer_probability': 0.0}, {'id': '5ad22cd0d7d075001a42861b', 'prediction_text': '', 'no_answer_probability': 0.0}, {'id': '5ad4ca605b96ef001a10a0cd', 'prediction_text': '', 'no_answer_probability': 0.0}, {'id': '5ad25f82d7d075001a428f87', 'prediction_text': '', 'no_answer_probability': 0.0}, {'id': '570d32e4fed7b91900d45d03', 'prediction_text': '', 'no_answer_probability': 0.0}, {'id': '571112ada58dae1900cd6bcf', 'prediction_text': '', 'no_answer_probability': 0.0}, {'id': '5729f39a6aef05140015514e', 'prediction_text': '', 'no_answer_probability': 0.0}, {'id': '5a894a483b2508001a72a5ae', 'prediction_text': '', 'no_answer_probability': 0.0}, {'id': '5ad4bcc45b96ef001a109e9e', 'prediction_text': '', 'no_answer_probability': 0.0}, {'id': '5ad03b4677cf76001a686ea4', 'prediction_text': '', 'no_answer_probability': 0.0}, {'id': '5a2ecb43a83784001a7d248b', 'prediction_text': '', 'no_answer_probability': 0.0}]\n",
            "[{'id': '5733ea04d058e614000b6595', 'answers': {'text': ['Fort Presque Isle (near present-day Erie, Pennsylvania', 'Fort Presque Isle', 'near present-day Erie, Pennsylvania', 'Fort Presque Isle', 'near present-day Erie, Pennsylvania'], 'answer_start': [425, 425, 444, 425, 444]}}, {'id': '5ad26a5fd7d075001a42931b', 'answers': {'text': [], 'answer_start': []}}, {'id': '5a664447c2b11c001a425eef', 'answers': {'text': [], 'answer_start': []}}, {'id': '5ad3ff1b604f3c001a3ffc74', 'answers': {'text': [], 'answer_start': []}}, {'id': '5ad25d39d7d075001a428eda', 'answers': {'text': [], 'answer_start': []}}, {'id': '5ad265d2d7d075001a4291c6', 'answers': {'text': [], 'answer_start': []}}, {'id': '5a1c8ea7b4fb5d00187146d1', 'answers': {'text': [], 'answer_start': []}}, {'id': '5a57c667770dc0001aeefd69', 'answers': {'text': [], 'answer_start': []}}, {'id': '5705fd8475f01819005e7841', 'answers': {'text': ['Pacific Ocean', 'Pacific Ocean', 'Pacific Ocean'], 'answer_start': [222, 222, 222]}}, {'id': '5726431d271a42140099d7f9', 'answers': {'text': ['introduction of Beroe', 'accidental introduction of Beroe'], 'answer_start': [805, 794]}}, {'id': '5a8929e43b2508001a72a4de', 'answers': {'text': [], 'answer_start': []}}, {'id': '5706143575f01819005e7952', 'answers': {'text': ['MLB', 'MLB', 'MLB'], 'answer_start': [164, 164, 164]}}, {'id': '5ad570b25b96ef001a10aede', 'answers': {'text': [], 'answer_start': []}}, {'id': '5ad04f7977cf76001a686fbb', 'answers': {'text': [], 'answer_start': []}}, {'id': '5726545f708984140094c2a5', 'answers': {'text': ['different ministers of the member states', 'ministers', 'different ministers of the member states', 'different ministers of the member states'], 'answer_start': [70, 80, 70, 70]}}, {'id': '5733a2a9d058e614000b5f2b', 'answers': {'text': ['Polish and international artists', 'modern art by Polish and international artists', 'Polish and international artists a'], 'answer_start': [395, 381, 395]}}, {'id': '57337f6ad058e614000b5bce', 'answers': {'text': ['as better', 'thought of themselves as better', 'better'], 'answer_start': [715, 693, 718]}}, {'id': '5a892d303b2508001a72a4ee', 'answers': {'text': [], 'answer_start': []}}, {'id': '5ad40b9a604f3c001a40001a', 'answers': {'text': [], 'answer_start': []}}, {'id': '573368044776f41900660a29', 'answers': {'text': ['green', 'green', 'green'], 'answer_start': [6, 6, 6]}}, {'id': '5726f48df1498d1400e8f0de', 'answers': {'text': ['form business partnerships with physicians or give them \"kickback\" payments', 'form business partnerships with physicians', 'pharmacists cannot form business partnerships with physicians or give them \"kickback\" payments'], 'answer_start': [248, 248, 229]}}, {'id': '5a7b05cd21c2de001afe9cdc', 'answers': {'text': [], 'answer_start': []}}, {'id': '57265d08708984140094c398', 'answers': {'text': ['the crust and rigid uppermost portion of the upper mantle', 'crust and rigid uppermost portion of the upper mantle', 'crust and rigid uppermost portion of the upper mantle', 'crust and rigid uppermost portion of the upper mantle'], 'answer_start': [143, 147, 147, 147]}}, {'id': '5acff63377cf76001a68665d', 'answers': {'text': [], 'answer_start': []}}, {'id': '5ad0313b77cf76001a686dd5', 'answers': {'text': [], 'answer_start': []}}, {'id': '572f55e8a23a5019007fc56b', 'answers': {'text': ['Gaulish name Rēnos', 'Rēnos', 'the Gaulish name Rēnos', 'Rēnos', 'Rēnos'], 'answer_start': [88, 101, 84, 101, 101]}}, {'id': '5729fb003f37b31900478629', 'answers': {'text': ['hormones', 'hormones', 'hormones'], 'answer_start': [166, 166, 166]}}, {'id': '5725c95f38643c19005accf7', 'answers': {'text': ['5 million', '5 million', '5 million'], 'answer_start': [655, 655, 655]}}, {'id': '572fdd03a23a5019007fca9e', 'answers': {'text': ['domestic legislation of the Scottish Parliament', 'domestic legislation of the Scottish Parliament.', 'domestic legislation of the Scottish Parliament'], 'answer_start': [322, 322, 322]}}, {'id': '572facb0a23a5019007fc866', 'answers': {'text': ['the late 1960s', 'late 1960s', 'late 1960s'], 'answer_start': [454, 458, 458]}}, {'id': '5ad3b147604f3c001a3fecd6', 'answers': {'text': [], 'answer_start': []}}, {'id': '57339dd94776f41900660ecd', 'answers': {'text': ['thousands', 'thousands', 'thousands'], 'answer_start': [66, 66, 66]}}, {'id': '5a1c8aedb4fb5d00187146a2', 'answers': {'text': [], 'answer_start': []}}, {'id': '572a1046af94a219006aa78e', 'answers': {'text': ['by limiting aggregate demand', 'limiting aggregate demand', 'limiting aggregate demand'], 'answer_start': [128, 131, 131]}}, {'id': '5725f00938643c19005aced7', 'answers': {'text': ['M. Theo Kearney', 'M. Theo Kearney', 'M. Theo Kearney'], 'answer_start': [105, 105, 105]}}, {'id': '5711163bb654c5140001fb13', 'answers': {'text': ['Westchester', 'Westchester', 'Westchester'], 'answer_start': [39, 39, 39]}}, {'id': '5ad13ef3645df0001a2d138d', 'answers': {'text': [], 'answer_start': []}}, {'id': '5728e8212ca10214002daa6e', 'answers': {'text': [\"suspect's talking to criminal investigators\", \"responding to investigators' questions\", \"responding to investigators' questions\", 'grant a consent search of his property,', 'talking to criminal investigators', \"responding to investigators' questions\"], 'answer_start': [398, 565, 565, 200, 408, 565]}}, {'id': '5ad03c2977cf76001a686eb4', 'answers': {'text': [], 'answer_start': []}}, {'id': '57286bf84b864d19001649d2', 'answers': {'text': ['Lauren Oliver', 'Lauren Oliver', 'Lauren Oliver'], 'answer_start': [69, 69, 69]}}, {'id': '5ad10f94645df0001a2d0bc6', 'answers': {'text': [], 'answer_start': []}}, {'id': '572a20816aef0514001552e6', 'answers': {'text': ['force', 'force'], 'answer_start': [184, 184]}}, {'id': '57264684708984140094c124', 'answers': {'text': ['merchant ships.', 'merchant ships', 'Silk Road'], 'answer_start': [270, 270, 116]}}, {'id': '5a67dedd8476ee001a58a74d', 'answers': {'text': [], 'answer_start': []}}, {'id': '57265700dd62a815002e8212', 'answers': {'text': ['1720 in Marseille.', '1720', '1720'], 'answer_start': [674, 674, 674]}}, {'id': '5a835b42e60761001a2eb60d', 'answers': {'text': [], 'answer_start': []}}, {'id': '5a8235a931013a001a3352d8', 'answers': {'text': [], 'answer_start': []}}, {'id': '5ad2442bd7d075001a428a3c', 'answers': {'text': [], 'answer_start': []}}, {'id': '573408ef4776f41900661757', 'answers': {'text': ['signing of the Treaty of Paris on 10 February 1763', '10 February 1763', '10 February 1763', '10 February 1763', '10 February 1763'], 'answer_start': [51, 85, 85, 85, 85]}}, {'id': '5a2eb84ba83784001a7d2423', 'answers': {'text': [], 'answer_start': []}}, {'id': '5a234eef82b03a001a4aa76b', 'answers': {'text': [], 'answer_start': []}}, {'id': '5ad11097645df0001a2d0be2', 'answers': {'text': [], 'answer_start': []}}, {'id': '572a1a5c6aef051400155284', 'answers': {'text': ['special efforts', 'special efforts', 'special efforts'], 'answer_start': [243, 243, 243]}}, {'id': '5ad5719f5b96ef001a10aef0', 'answers': {'text': [], 'answer_start': []}}, {'id': '5a2c0a5abfd06b001a5ae993', 'answers': {'text': [], 'answer_start': []}}, {'id': '5a57f0ea770dc0001aeefee3', 'answers': {'text': [], 'answer_start': []}}, {'id': '5a81f28431013a001a334fb5', 'answers': {'text': [], 'answer_start': []}}, {'id': '5ad3a38c604f3c001a3fea63', 'answers': {'text': [], 'answer_start': []}}, {'id': '5ad3ad01604f3c001a3febd3', 'answers': {'text': [], 'answer_start': []}}, {'id': '57108073b654c5140001f927', 'answers': {'text': ['between 1621 and 1629', 'between 1621 and 1629', 'between 1621 and 1629'], 'answer_start': [205, 205, 205]}}, {'id': '571caac55efbb31900334dc9', 'answers': {'text': ['few drops', 'a few drops', 'a few drops', 'a few drops', 'Only a few drops'], 'answer_start': [594, 592, 592, 592, 587]}}, {'id': '57296f293f37b319004783a6', 'answers': {'text': ['the AKS primality test', 'AKS primality test', 'AKS primality test', 'AKS primality test', 'AKS primality test'], 'answer_start': [448, 452, 452, 452, 452]}}, {'id': '5ad509615b96ef001a10aa7c', 'answers': {'text': [], 'answer_start': []}}, {'id': '5729d51d3f37b3190047858f', 'answers': {'text': ['differences in value added by labor, capital and land', 'differences in value added by labor, capital and land', 'differences in value added by labor, capital and land'], 'answer_start': [88, 88, 88]}}, {'id': '5ad400f0604f3c001a3ffcf3', 'answers': {'text': [], 'answer_start': []}}, {'id': '5a7b12a421c2de001afe9d51', 'answers': {'text': [], 'answer_start': []}}, {'id': '571c9074dd7acb1400e4c103', 'answers': {'text': ['protective radiation shield', 'protective radiation shield', 'protective radiation shield', 'radiation shield', 'a protective radiation shield'], 'answer_start': [375, 375, 375, 386, 373]}}, {'id': '571cd11add7acb1400e4c170', 'answers': {'text': ['performance', 'performance', 'performance', 'performance', 'a \"boost\" in performance'], 'answer_start': [406, 406, 406, 406, 393]}}, {'id': '570d2f5bfed7b91900d45cd3', 'answers': {'text': ['Victoria Constitution Act 1855', 'the Victoria Constitution Act 1855', 'Victoria Constitution Act 185'], 'answer_start': [145, 141, 145]}}, {'id': '57300c67947a6a140053cff2', 'answers': {'text': ['1,320 kilometres (820 miles)', '1,320 kilometres', '1,320 kilometres'], 'answer_start': [156, 156, 156]}}, {'id': '5ad14f5a645df0001a2d1710', 'answers': {'text': [], 'answer_start': []}}, {'id': '5a6647d2c2b11c001a425f1e', 'answers': {'text': [], 'answer_start': []}}, {'id': '5725c337271a42140099d167', 'answers': {'text': ['groups of large, stiffened cilia', 'stiffened cilia', 'stiffened cilia'], 'answer_start': [896, 913, 913]}}, {'id': '5ad4e4425b96ef001a10a575', 'answers': {'text': [], 'answer_start': []}}, {'id': '5ad3b260604f3c001a3fed06', 'answers': {'text': [], 'answer_start': []}}, {'id': '572fd6aa04bcaa1900d76da0', 'answers': {'text': ['May', 'May', 'May'], 'answer_start': [118, 971, 118]}}, {'id': '573755afc3c5551400e51eb3', 'answers': {'text': ['center of mass', 'center of mass', 'the center of mass', 'the center of mass', 'the center of mass'], 'answer_start': [421, 421, 417, 417, 417]}}, {'id': '572ffce5a23a5019007fcc18', 'answers': {'text': ['northwest', 'northwest', 'northwest'], 'answer_start': [326, 326, 326]}}, {'id': '5ad3cc47604f3c001a3ff146', 'answers': {'text': [], 'answer_start': []}}, {'id': '5a67a898f038b7001ab0c3f5', 'answers': {'text': [], 'answer_start': []}}, {'id': '5ad23fded7d075001a4288fd', 'answers': {'text': [], 'answer_start': []}}, {'id': '571a4b0f10f8ca1400304fd7', 'answers': {'text': ['nitroaereus', 'nitroaereus', 'nitroaereus', 'nitroaereus'], 'answer_start': [485, 485, 485, 485]}}, {'id': '5a893a003b2508001a72a53f', 'answers': {'text': [], 'answer_start': []}}, {'id': '5ad546c75b96ef001a10ac11', 'answers': {'text': [], 'answer_start': []}}, {'id': '573011de04bcaa1900d770fc', 'answers': {'text': ['Fringe or splinter', 'Fringe or splinter movements', 'Fringe'], 'answer_start': [235, 235, 235]}}, {'id': '5729a26d6aef05140015505c', 'answers': {'text': ['the absolute value', 'the absolute value', 'absolute value', 'the absolute value'], 'answer_start': [223, 223, 227, 223]}}, {'id': '5ad15170645df0001a2d1735', 'answers': {'text': [], 'answer_start': []}}, {'id': '5ad26235d7d075001a429082', 'answers': {'text': [], 'answer_start': []}}, {'id': '5acf98ad77cf76001a6853c6', 'answers': {'text': [], 'answer_start': []}}, {'id': '5ad28173d7d075001a4297fd', 'answers': {'text': [], 'answer_start': []}}, {'id': '5ad24600d7d075001a428aca', 'answers': {'text': [], 'answer_start': []}}, {'id': '5ad4d2855b96ef001a10a1de', 'answers': {'text': [], 'answer_start': []}}, {'id': '5725f2c838643c19005aceee', 'answers': {'text': ['300 acres', '300', '300'], 'answer_start': [454, 454, 454]}}, {'id': '5a6695e8f038b7001ab0c01a', 'answers': {'text': [], 'answer_start': []}}, {'id': '5727e21e4b864d1900163f36', 'answers': {'text': ['Stephen Greenblatt', 'Stephen Greenblatt', 'Stephen Greenblatt'], 'answer_start': [290, 290, 290]}}, {'id': '572745c6708984140094db9a', 'answers': {'text': ['plan the physical proceedings, and to integrate those proceedings with the other parts', 'plan the physical proceedings, and to integrate those proceedings with the other parts', 'plan the physical proceedings, and to integrate those proceedings with the other parts'], 'answer_start': [148, 148, 148]}}, {'id': '572fec30947a6a140053cdf3', 'answers': {'text': ['Rhine knee', 'Rhine knee', 'Rhine knee'], 'answer_start': [90, 90, 90]}}, {'id': '5710e8c8a58dae1900cd6b2a', 'answers': {'text': ['1702 and 1709', '1702 and 1709', '1702 and 1709'], 'answer_start': [699, 699, 699]}}, {'id': '572fbf21a23a5019007fc93b', 'answers': {'text': ['a glass case suspended from the lid', 'glass case', 'a glass case'], 'answer_start': [608, 610, 608]}}, {'id': '572665ff708984140094c4c5', 'answers': {'text': ['the key bed', 'key bed', 'key bed'], 'answer_start': [401, 405, 405]}}, {'id': '5a75066297ca42001a521ded', 'answers': {'text': [], 'answer_start': []}}, {'id': '5705e63175f01819005e7720', 'answers': {'text': ['California', 'California', 'California'], 'answer_start': [16, 16, 16]}}, {'id': '5a2eb95ca83784001a7d242c', 'answers': {'text': [], 'answer_start': []}}, {'id': '57299ec43f37b3190047850f', 'answers': {'text': ['algebraic number theory', 'algebraic', 'algebraic', 'algebraic'], 'answer_start': [276, 276, 276, 276]}}, {'id': '5a823e6f31013a001a335330', 'answers': {'text': [], 'answer_start': []}}, {'id': '5ad40219604f3c001a3ffd47', 'answers': {'text': [], 'answer_start': []}}, {'id': '572991943f37b319004784a3', 'answers': {'text': [\"Polignac's conjecture\", \"Polignac's\", \"Polignac's conjecture\", \"Polignac's\"], 'answer_start': [197, 197, 197, 197]}}, {'id': '57308ddc396df919000961a4', 'answers': {'text': ['the British Empire', 'Terra nullius', 'the British Empire', 'British Empire', 'British'], 'answer_start': [87, 247, 87, 91, 91]}}, {'id': '57106185b654c5140001f8dc', 'answers': {'text': ['Besançon Hugues', 'Besançon Hugues', 'Besançon Hugues'], 'answer_start': [177, 177, 177]}}, {'id': '5726241189a1e219009ac2df', 'answers': {'text': ['automobiles', 'automobiles', 'automobiles', 'automobiles', 'automobiles'], 'answer_start': [237, 237, 237, 237, 237]}}, {'id': '5737a25ac3c5551400e51f51', 'answers': {'text': ['stress tensor', 'stress tensor', 'deformations', 'The stress tensor'], 'answer_start': [376, 376, 434, 372]}}, {'id': '5a8398bbe60761001a2eb805', 'answers': {'text': [], 'answer_start': []}}, {'id': '5ad11288645df0001a2d0c34', 'answers': {'text': [], 'answer_start': []}}, {'id': '5ad0383677cf76001a686e39', 'answers': {'text': [], 'answer_start': []}}, {'id': '572fe41e04bcaa1900d76e4c', 'answers': {'text': ['86 km', '86 km', '86 km long', '86 km', '86 km'], 'answer_start': [172, 172, 172, 172, 172]}}, {'id': '57376a1bc3c5551400e51ec4', 'answers': {'text': ['magnitude and direction', 'magnitude and direction', 'magnitude and direction', 'magnitude and direction', 'magnitude and direction'], 'answer_start': [248, 248, 248, 248, 248]}}, {'id': '5726a3c6f1498d1400e8e5b2', 'answers': {'text': ['40', '40', '40'], 'answer_start': [784, 784, 784]}}, {'id': '5a0c807ff5590b0018dab452', 'answers': {'text': [], 'answer_start': []}}, {'id': '5ad14966645df0001a2d1582', 'answers': {'text': [], 'answer_start': []}}, {'id': '5a665870846392001a1e1af6', 'answers': {'text': [], 'answer_start': []}}, {'id': '5a668d25f038b7001ab0bfb0', 'answers': {'text': [], 'answer_start': []}}, {'id': '5728eff82ca10214002daade', 'answers': {'text': ['neuroimmune system', 'neuroimmune', 'neuroimmune', 'neuroimmune system'], 'answer_start': [655, 655, 655, 655]}}, {'id': '573027d6a23a5019007fcea1', 'answers': {'text': ['American attack on Iraq', 'the American attack on Iraq', 'American attack on Iraq'], 'answer_start': [598, 594, 598]}}, {'id': '572648ed5951b619008f6f07', 'answers': {'text': ['1349', '1349', '1349'], 'answer_start': [225, 225, 225]}}, {'id': '57281bb84b864d190016449c', 'answers': {'text': ['annexing outlying communities', 'annexing outlying communities', 'annexing outlying communities'], 'answer_start': [345, 345, 345]}}, {'id': '5ad3fc1f604f3c001a3ffb7c', 'answers': {'text': [], 'answer_start': []}}, {'id': '5728eb1a3acd2414000e01c5', 'answers': {'text': ['accept punishment', 'accept punishment', 'punishment', 'punishment', 'punishment'], 'answer_start': [58, 58, 65, 65, 65]}}, {'id': '5ad404a6604f3c001a3ffde3', 'answers': {'text': [], 'answer_start': []}}, {'id': '5a2c16e3bfd06b001a5ae9e8', 'answers': {'text': [], 'answer_start': []}}, {'id': '572fb42904bcaa1900d76c15', 'answers': {'text': ['one MSP', 'MSP', 'MSP'], 'answer_start': [114, 118, 118]}}, {'id': '5726b58f5951b619008f7b58', 'answers': {'text': ['free trade', 'free trade', 'free trade'], 'answer_start': [1975, 1975, 1975]}}, {'id': '5ad14573645df0001a2d14b2', 'answers': {'text': [], 'answer_start': []}}, {'id': '57273a465951b619008f86ff', 'answers': {'text': ['Construction', 'Construction', 'Construction'], 'answer_start': [0, 0, 0]}}, {'id': '5ad2605dd7d075001a428fc7', 'answers': {'text': [], 'answer_start': []}}, {'id': '571ce6655efbb31900334e34', 'answers': {'text': ['at elevated partial pressures', 'elevated partial pressures', 'at elevated partial pressures', 'at elevated partial pressures', 'elevated partial pressures'], 'answer_start': [30, 33, 30, 30, 33]}}, {'id': '572940973f37b319004781a8', 'answers': {'text': ['\"Variations of Snow and Ice in the past and at present on a Global and Regional Scale\"', 'the IPCC from the WWF report', 'the WWF report'], 'answer_start': [433, 352, 366]}}, {'id': '56e16839cd28a01900c67888', 'answers': {'text': ['mathematical models of computation', 'mathematical models of computation', 'mathematical models of computation'], 'answer_start': [176, 176, 176]}}, {'id': '5733266d4776f41900660713', 'answers': {'text': ['1569', '1569', '1569'], 'answer_start': [87, 87, 87]}}, {'id': '5a8221dc31013a001a335231', 'answers': {'text': [], 'answer_start': []}}, {'id': '5ad25963d7d075001a428e0c', 'answers': {'text': [], 'answer_start': []}}, {'id': '57265c10f1498d1400e8dd39', 'answers': {'text': ['water disturbances created by the cilia', 'water disturbances created by the cilia', 'water disturbances created by the cilia'], 'answer_start': [701, 701, 701]}}, {'id': '5ad24f27d7d075001a428c88', 'answers': {'text': [], 'answer_start': []}}, {'id': '5ad4d9be5b96ef001a10a3b0', 'answers': {'text': [], 'answer_start': []}}, {'id': '5a836496e60761001a2eb65b', 'answers': {'text': [], 'answer_start': []}}, {'id': '5a592b593e1742001a15cfce', 'answers': {'text': [], 'answer_start': []}}, {'id': '57378862c3c5551400e51f22', 'answers': {'text': ['Henry Cavendish', 'Henry Cavendish', 'Henry Cavendish', 'Henry Cavendish'], 'answer_start': [245, 245, 245, 245]}}, {'id': '571090abb654c5140001f996', 'answers': {'text': ['The Weavers', 'The Weavers', 'The Weavers'], 'answer_start': [191, 191, 191]}}, {'id': '5a592e733e1742001a15cff7', 'answers': {'text': [], 'answer_start': []}}, {'id': '5ad418fb604f3c001a400433', 'answers': {'text': [], 'answer_start': []}}, {'id': '5ad4ea425b96ef001a10a62a', 'answers': {'text': [], 'answer_start': []}}, {'id': '57268e2bf1498d1400e8e3b1', 'answers': {'text': ['1992', '1992', '1992', '1992'], 'answer_start': [237, 237, 237, 237]}}, {'id': '5728d7c54b864d1900164f4d', 'answers': {'text': ['voluminous literature', 'voluminous', 'voluminous', 'voluminous'], 'answer_start': [150, 150, 150, 150]}}, {'id': '5a6ce55e4eec6b001a80a693', 'answers': {'text': [], 'answer_start': []}}, {'id': '572a019f3f37b31900478643', 'answers': {'text': ['enzymes', 'enzymes', 'enzymes'], 'answer_start': [291, 291, 291]}}, {'id': '572663a9f1498d1400e8ddf2', 'answers': {'text': ['second scale shows the most recent eon with an expanded scale', 'compresses the most recent era', 'compresses the most recent era'], 'answer_start': [195, 275, 275]}}, {'id': '5a3e42de378766001a00252b', 'answers': {'text': [], 'answer_start': []}}, {'id': '5ad3b9cd604f3c001a3fee89', 'answers': {'text': [], 'answer_start': []}}, {'id': '572648ed5951b619008f6f03', 'answers': {'text': ['northwest across Europe', 'northwest', 'northwest'], 'answer_start': [31, 31, 31]}}, {'id': '5ad25dd3d7d075001a428f03', 'answers': {'text': [], 'answer_start': []}}, {'id': '57286010ff5b5019007da1cc', 'answers': {'text': ['Miller–Urey experiment', 'Miller–Urey experiment', 'Chicago Pile-1'], 'answer_start': [872, 872, 537]}}, {'id': '5a7b3f0f21c2de001afe9e03', 'answers': {'text': [], 'answer_start': []}}, {'id': '5ad4d55f5b96ef001a10a277', 'answers': {'text': [], 'answer_start': []}}, {'id': '56de1563cffd8e1900b4b5c3', 'answers': {'text': ['Dyrrachium', 'Dyrrachium', 'Dyrrachium'], 'answer_start': [125, 205, 205]}}, {'id': '572ff83ab2c2fd1400568683', 'answers': {'text': ['Merwede-Oude Maas', 'Merwede-Oude Maas', 'North Sea'], 'answer_start': [85, 85, 110]}}, {'id': '571cca4add7acb1400e4c154', 'answers': {'text': ['3–2.7 billion years ago', '3–2.7 billion years ago', '3–2.7 billion years ago', '3–2.7 billion years ago', '3–2.7 billion years ago'], 'answer_start': [510, 510, 510, 510, 510]}}, {'id': '5a669d5cf038b7001ab0c05e', 'answers': {'text': [], 'answer_start': []}}, {'id': '572881704b864d1900164a50', 'answers': {'text': ['four', 'Four', 'Four'], 'answer_start': [117, 47, 47]}}, {'id': '5ad2b1e1d7d075001a429f6c', 'answers': {'text': [], 'answer_start': []}}, {'id': '5ad265d2d7d075001a4291c9', 'answers': {'text': [], 'answer_start': []}}, {'id': '5a2ed246a83784001a7d24e3', 'answers': {'text': [], 'answer_start': []}}, {'id': '57266c015951b619008f7238', 'answers': {'text': ['stratigraphic correlation', 'stratigraphic', 'stratigraphic', 'stratigraphic'], 'answer_start': [311, 311, 311, 311]}}, {'id': '572941273f37b319004781ae', 'answers': {'text': ['making it seem like climate change is more serious by overstating the impact', 'the direction of making it seem like climate change is more serious', 'making it seem like climate change is more serious by overstating the impact'], 'answer_start': [102, 85, 102]}}, {'id': '5ad50c9f5b96ef001a10aae1', 'answers': {'text': [], 'answer_start': []}}, {'id': '5729517d6aef051400154cc9', 'answers': {'text': ['significant new evidence or events that change our understanding of climate science', 'significant new evidence or events that change our understanding', 'significant new evidence or events that change our understanding of climate science'], 'answer_start': [311, 311, 311]}}, {'id': '572659535951b619008f703f', 'answers': {'text': ['A decade after the 1973', '1981', '1981', 'A decade after the 1973 oil crisis', '1981'], 'answer_start': [413, 491, 491, 413, 491]}}, {'id': '57115b8b50c2381900b54a8b', 'answers': {'text': ['1802', '1802', '1802', '1802'], 'answer_start': [170, 170, 170, 170]}}, {'id': '57287f6a3acd2414000dfa52', 'answers': {'text': ['painting, poetry, and calligraphy', 'painting, poetry, and calligraphy', 'painting, poetry, and calligraphy'], 'answer_start': [294, 294, 294]}}, {'id': '5a8919843b2508001a72a4c0', 'answers': {'text': [], 'answer_start': []}}, {'id': '5ad4cc135b96ef001a10a0f6', 'answers': {'text': [], 'answer_start': []}}, {'id': '572885c44b864d1900164a78', 'answers': {'text': ['The Central Region', 'Central Region', 'Central'], 'answer_start': [0, 4, 4]}}, {'id': '5a7b11bb21c2de001afe9d48', 'answers': {'text': [], 'answer_start': []}}, {'id': '5ad3b781604f3c001a3fee27', 'answers': {'text': [], 'answer_start': []}}, {'id': '5ad53e615b96ef001a10abdb', 'answers': {'text': [], 'answer_start': []}}, {'id': '572f5703a23a5019007fc575', 'answers': {'text': ['Rhine Valley', 'Rhine Valley', 'Rhine Valley', 'Rhine Valley', 'Rhine Valley'], 'answer_start': [289, 289, 289, 289, 289]}}, {'id': '5a89473c3b2508001a72a59b', 'answers': {'text': [], 'answer_start': []}}, {'id': '5ad25e99d7d075001a428f31', 'answers': {'text': [], 'answer_start': []}}, {'id': '5728742cff5b5019007da246', 'answers': {'text': ['James Henry Breasted', 'James Henry Breasted', 'James Henry Breasted'], 'answer_start': [45, 45, 45]}}, {'id': '56e1febfe3433e1400423236', 'answers': {'text': ['Presburger arithmetic', 'Presburger', 'Presburger arithmetic'], 'answer_start': [219, 219, 219]}}, {'id': '5726f2375951b619008f830f', 'answers': {'text': ['pharmacy practice science and applied information science', 'pharmacy practice science and applied information science', 'pharmacy practice science and applied information science'], 'answer_start': [43, 43, 43]}}, {'id': '5705f09e75f01819005e77a7', 'answers': {'text': ['75', '75%', '75'], 'answer_start': [470, 470, 470]}}, {'id': '5ad55ee35b96ef001a10ace4', 'answers': {'text': [], 'answer_start': []}}, {'id': '5a669a2cf038b7001ab0c046', 'answers': {'text': [], 'answer_start': []}}, {'id': '5ad2b1e1d7d075001a429f6a', 'answers': {'text': [], 'answer_start': []}}, {'id': '56de0ffd4396321400ee258d', 'answers': {'text': ['1050s', 'in the 1050s', 'in the 1050s'], 'answer_start': [85, 78, 78]}}, {'id': '5ad53e615b96ef001a10abdc', 'answers': {'text': [], 'answer_start': []}}, {'id': '5a668632f038b7001ab0bf47', 'answers': {'text': [], 'answer_start': []}}, {'id': '5ad2424cd7d075001a42898c', 'answers': {'text': [], 'answer_start': []}}, {'id': '5ad4f4d95b96ef001a10a794', 'answers': {'text': [], 'answer_start': []}}, {'id': '572fffb404bcaa1900d76fef', 'answers': {'text': ['22,000 years ago', '22,000 years ago', '22,000 years ago'], 'answer_start': [49, 49, 49]}}, {'id': '5a7b33b821c2de001afe9dbd', 'answers': {'text': [], 'answer_start': []}}, {'id': '5a6ce55e4eec6b001a80a691', 'answers': {'text': [], 'answer_start': []}}, {'id': '572881d34b864d1900164a5c', 'answers': {'text': ['1263', '1263', '1263'], 'answer_start': [241, 241, 241]}}, {'id': '5ad3cc47604f3c001a3ff147', 'answers': {'text': [], 'answer_start': []}}, {'id': '571127a5a58dae1900cd6cc8', 'answers': {'text': ['south', 'south', 'south'], 'answer_start': [322, 322, 322]}}, {'id': '5ad4fe635b96ef001a10a8b8', 'answers': {'text': [], 'answer_start': []}}, {'id': '5a1c539bb4fb5d00187145fb', 'answers': {'text': [], 'answer_start': []}}, {'id': '5ad2461ad7d075001a428ad2', 'answers': {'text': [], 'answer_start': []}}, {'id': '5ad5648b5b96ef001a10ad95', 'answers': {'text': [], 'answer_start': []}}, {'id': '5a3e3de4378766001a002514', 'answers': {'text': [], 'answer_start': []}}, {'id': '5725d34089a1e219009abf50', 'answers': {'text': ['Paul Baran developed the concept Distributed Adaptive Message Block Switching', 'the concept Distributed Adaptive Message Block Switching', 'Distributed Adaptive Message Block Switching'], 'answer_start': [56, 77, 89]}}, {'id': '5725cb33271a42140099d1df', 'answers': {'text': ['colloblasts', 'colloblasts', 'colloblasts'], 'answer_start': [456, 456, 456]}}, {'id': '57094a79efce8f15003a7dc6', 'answers': {'text': ['Sky', 'Sky', 'Sky'], 'answer_start': [370, 370, 370]}}, {'id': '5a822bc531013a001a335281', 'answers': {'text': [], 'answer_start': []}}, {'id': '57265700dd62a815002e8211', 'answers': {'text': ['Sweden v. Russia and allies', 'Sweden v. Russia and allies', 'Sweden v. Russia and allies'], 'answer_start': [440, 440, 440]}}, {'id': '5733e5a14776f4190066145d', 'answers': {'text': ['Christopher Gist', 'Christopher Gist', 'Christopher Gist', 'Christopher Gist', 'Christopher Gist'], 'answer_start': [393, 393, 393, 393, 393]}}, {'id': '5ad039be77cf76001a686e60', 'answers': {'text': [], 'answer_start': []}}, {'id': '5a6ce6164eec6b001a80a69c', 'answers': {'text': [], 'answer_start': []}}, {'id': '5730131c947a6a140053d056', 'answers': {'text': ['political figures', 'political figures', 'political figures'], 'answer_start': [782, 782, 782]}}, {'id': '572fff45947a6a140053cf2a', 'answers': {'text': ['loess', 'loess', 'loess'], 'answer_start': [436, 436, 436]}}, {'id': '5ad3bd30604f3c001a3fef11', 'answers': {'text': [], 'answer_start': []}}, {'id': '5a3e3de4378766001a002513', 'answers': {'text': [], 'answer_start': []}}, {'id': '57115c7450c2381900b54aa0', 'answers': {'text': ['wet', 'wet', 'wet'], 'answer_start': [476, 476, 476]}}, {'id': '5ad3cd43604f3c001a3ff186', 'answers': {'text': [], 'answer_start': []}}, {'id': '5727dc473acd2414000dee44', 'answers': {'text': ['Malkin Athletic Center', 'Malkin Athletic Center', 'Malkin Athletic Center'], 'answer_start': [140, 140, 140]}}, {'id': '57268f2bf1498d1400e8e3c7', 'answers': {'text': ['the Lisbon Treaty', 'the Lisbon Treaty', 'the Lisbon Treaty', 'the Lisbon Treaty'], 'answer_start': [372, 372, 372, 372]}}, {'id': '572647d0708984140094c14c', 'answers': {'text': ['diploblastic', 'ctenophores', 'diploblastic'], 'answer_start': [337, 29, 337]}}, {'id': '5727db85ff5b5019007d96fc', 'answers': {'text': ['1875', '1875', '1875'], 'answer_start': [164, 164, 164]}}, {'id': '5acff5b077cf76001a68662a', 'answers': {'text': [], 'answer_start': []}}, {'id': '5ad4c94f5b96ef001a10a09c', 'answers': {'text': [], 'answer_start': []}}, {'id': '5733140a4776f419006606e2', 'answers': {'text': ['1596', '1596', '1596'], 'answer_start': [390, 390, 390]}}, {'id': '573368e54776f41900660a55', 'answers': {'text': ['Masovian Primeval Forest', 'Masovian Primeval Forest', 'Masovian Primeval Forest'], 'answer_start': [416, 416, 416]}}, {'id': '5727cebc2ca10214002d96f3', 'answers': {'text': ['1875', '1875', '1875'], 'answer_start': [309, 309, 309]}}, {'id': '5729f4b41d0469140077968c', 'answers': {'text': ['around 200–300', 'around 200–300', 'around 200–300'], 'answer_start': [416, 416, 416]}}, {'id': '57308cf88ab72b1400f9c576', 'answers': {'text': ['environmental determinism', 'environmental determinism', 'environmental determinism', 'environmental determinism', 'environmental determinism'], 'answer_start': [30, 30, 30, 30, 30]}}, {'id': '5a2c14b4bfd06b001a5ae9d4', 'answers': {'text': [], 'answer_start': []}}, {'id': '5705f09e75f01819005e77a6', 'answers': {'text': ['three', 'three', 'three'], 'answer_start': [179, 179, 179]}}, {'id': '5ad3d689604f3c001a3ff311', 'answers': {'text': [], 'answer_start': []}}, {'id': '5ad0301577cf76001a686db6', 'answers': {'text': [], 'answer_start': []}}, {'id': '5ad5036c5b96ef001a10a984', 'answers': {'text': [], 'answer_start': []}}, {'id': '5ad400b0604f3c001a3ffcdf', 'answers': {'text': [], 'answer_start': []}}, {'id': '5a2ed0a0a83784001a7d24d1', 'answers': {'text': [], 'answer_start': []}}, {'id': '57281d494b864d19001644c1', 'answers': {'text': ['public high schools lost their accreditation', 'high schools lost their accreditation', 'public high schools lost their accreditation'], 'answer_start': [570, 577, 570]}}, {'id': '572671a5f1498d1400e8dfe4', 'answers': {'text': ['Extension', 'Extension', 'Extension'], 'answer_start': [0, 0, 0]}}, {'id': '572824f13acd2414000df58f', 'answers': {'text': ['Hurricane Dora', 'Hurricane Dora', 'Hurricane Dora'], 'answer_start': [534, 534, 534]}}, {'id': '57299326af94a219006aa516', 'answers': {'text': ['G. H. Hardy', 'G. H. Hardy', 'G. H. Hardy', 'G. H. Hardy'], 'answer_start': [360, 360, 360, 360]}}, {'id': '573060b48ab72b1400f9c4c9', 'answers': {'text': ['Japan', 'Japan', 'Japanese', 'Japanese', 'Japan'], 'answer_start': [450, 450, 450, 450, 450]}}, {'id': '5a6391c268151a001a92238d', 'answers': {'text': [], 'answer_start': []}}, {'id': '5a38aa28a4b263001a8c1881', 'answers': {'text': [], 'answer_start': []}}, {'id': '5ad3a21d604f3c001a3fea21', 'answers': {'text': [], 'answer_start': []}}, {'id': '572649d8f1498d1400e8db36', 'answers': {'text': ['UK', 'UK', 'UK', 'the UK', 'UK'], 'answer_start': [56, 56, 56, 52, 56]}}, {'id': '572a1a5c6aef051400155285', 'answers': {'text': ['existing level of inequality', 'existing level of inequality', 'existing level of inequality'], 'answer_start': [459, 459, 459]}}, {'id': '5a63981168151a001a9223b7', 'answers': {'text': [], 'answer_start': []}}, {'id': '5727d3843acd2414000ded69', 'answers': {'text': ['core curriculum of seven classes', 'seven', 'seven'], 'answer_start': [232, 251, 251]}}, {'id': '5ad3c57a604f3c001a3feff4', 'answers': {'text': [], 'answer_start': []}}, {'id': '5ad27e30d7d075001a429703', 'answers': {'text': [], 'answer_start': []}}, {'id': '5a2c3a5cbfd06b001a5aea7b', 'answers': {'text': [], 'answer_start': []}}, {'id': '5728f9882ca10214002dab5b', 'answers': {'text': ['innate immune system', 'innate immune system', 'The innate immune'], 'answer_start': [656, 656, 652]}}, {'id': '571cd88ddd7acb1400e4c18f', 'answers': {'text': ['exothermic', 'exothermic', 'exothermic', 'exothermic', 'exothermic reaction'], 'answer_start': [595, 595, 595, 595, 595]}}, {'id': '5a6cb7ce4eec6b001a80a639', 'answers': {'text': [], 'answer_start': []}}, {'id': '5a666b43846392001a1e1c0f', 'answers': {'text': [], 'answer_start': []}}, {'id': '572684365951b619008f7540', 'answers': {'text': ['among the plankton', 'among the plankton', 'among the plankton'], 'answer_start': [462, 462, 462]}}, {'id': '5a7b3b3121c2de001afe9df1', 'answers': {'text': [], 'answer_start': []}}, {'id': '5a551328134fea001a0e18d8', 'answers': {'text': [], 'answer_start': []}}, {'id': '5a60556eeae51e001ab14d17', 'answers': {'text': [], 'answer_start': []}}, {'id': '57107932a58dae1900cd69cc', 'answers': {'text': [\"L'Église française à la Nouvelle-Amsterdam\", \"L'Église française à la Nouvelle-Amsterdam\", \"L'Église française à la Nouvelle-Amsterdam (the French church in New Amsterdam)\"], 'answer_start': [482, 482, 482]}}, {'id': '570d32e4fed7b91900d45d02', 'answers': {'text': ['Victoria Department of Education', 'the Victoria Department of Education', 'Victoria Department of Education'], 'answer_start': [153, 149, 153]}}, {'id': '5728455bff5b5019007da07b', 'answers': {'text': ['132 million tons', '132 million tons', '132 million tons'], 'answer_start': [441, 441, 441]}}, {'id': '5acfe91c77cf76001a686438', 'answers': {'text': [], 'answer_start': []}}, {'id': '57268a37f1498d1400e8e340', 'answers': {'text': ['ctenophores,', 'ctenophores', 'ctenophores'], 'answer_start': [682, 682, 682]}}, {'id': '572650325951b619008f6faa', 'answers': {'text': ['market and technology realities', 'market and technology realities', 'market and technology realities', 'market and technology realities', 'market and technology realities'], 'answer_start': [290, 290, 290, 290, 290]}}, {'id': '572867543acd2414000df9a2', 'answers': {'text': ['seven', 'seven', 'seven'], 'answer_start': [35, 35, 35]}}, {'id': '5a668b1df038b7001ab0bf88', 'answers': {'text': [], 'answer_start': []}}, {'id': '572fce13a23a5019007fca14', 'answers': {'text': ['in the relevant committee or committees', 'committee', 'the whole Parliament'], 'answer_start': [571, 587, 636]}}, {'id': '5ad29d35d7d075001a429c12', 'answers': {'text': [], 'answer_start': []}}, {'id': '572a05eb3f37b31900478656', 'answers': {'text': ['Unemployment', 'Unemployment', 'Unemployment'], 'answer_start': [318, 318, 318]}}, {'id': '5728683b3acd2414000df9b2', 'answers': {'text': ['Kuviasungnerk/Kangeiko', 'Kuviasungnerk/Kangeiko', 'Kuviasungnerk/Kangeiko'], 'answer_start': [382, 382, 382]}}, {'id': '5a7b456121c2de001afe9e2c', 'answers': {'text': [], 'answer_start': []}}, {'id': '57097b50200fba140036804e', 'answers': {'text': ['25m', '25m people', '36% of households'], 'answer_start': [287, 287, 222]}}, {'id': '5737a4511c456719005744df', 'answers': {'text': ['rotational equivalent for position', 'rotation', 'rotational inertia', 'angle is the rotational equivalent for position'], 'answer_start': [77, 14, 242, 64]}}, {'id': '5ad3a342604f3c001a3fea5b', 'answers': {'text': [], 'answer_start': []}}, {'id': '57107932a58dae1900cd69ce', 'answers': {'text': ['Brooklyn', 'Brooklyn', 'Brooklyn'], 'answer_start': [954, 954, 954]}}, {'id': '57264fe65951b619008f6fa1', 'answers': {'text': ['confirmed and amended', 'confirmed and amended', 'confirmed and amended'], 'answer_start': [49, 49, 49]}}, {'id': '5a25f133c93d92001a400351', 'answers': {'text': [], 'answer_start': []}}, {'id': '572f55e8a23a5019007fc56c', 'answers': {'text': ['Rhin', 'Rhin', 'Rhin', 'Rhin', 'Rhin'], 'answer_start': [290, 290, 290, 290, 290]}}, {'id': '5a6790dbf038b7001ab0c2d1', 'answers': {'text': [], 'answer_start': []}}, {'id': '5ad40397604f3c001a3ffd86', 'answers': {'text': [], 'answer_start': []}}, {'id': '5ad25a8bd7d075001a428e32', 'answers': {'text': [], 'answer_start': []}}, {'id': '5726ea985951b619008f8261', 'answers': {'text': ['medication regimen review', 'medication regimen review', 'medication regimen review'], 'answer_start': [45, 45, 45]}}, {'id': '5ad24600d7d075001a428ac9', 'answers': {'text': [], 'answer_start': []}}, {'id': '5a6799adf038b7001ab0c31e', 'answers': {'text': [], 'answer_start': []}}, {'id': '5ad561c85b96ef001a10ad3c', 'answers': {'text': [], 'answer_start': []}}, {'id': '5a3e2f07378766001a0024ce', 'answers': {'text': [], 'answer_start': []}}, {'id': '5a6790dbf038b7001ab0c2d2', 'answers': {'text': [], 'answer_start': []}}, {'id': '5a668d25f038b7001ab0bfac', 'answers': {'text': [], 'answer_start': []}}, {'id': '5ad14a28645df0001a2d15a2', 'answers': {'text': [], 'answer_start': []}}, {'id': '5a89117e19b91f001a626f2e', 'answers': {'text': [], 'answer_start': []}}, {'id': '5ad25f35d7d075001a428f6a', 'answers': {'text': [], 'answer_start': []}}, {'id': '5ad4f4d95b96ef001a10a793', 'answers': {'text': [], 'answer_start': []}}, {'id': '57338255d058e614000b5c0d', 'answers': {'text': ['President', 'President', 'President'], 'answer_start': [30, 30, 30]}}, {'id': '56e1ec83cd28a01900c67c0c', 'answers': {'text': ['modern cryptographic systems', 'modern cryptographic systems', 'RSA algorithm'], 'answer_start': [323, 323, 365]}}, {'id': '5a6381d868151a001a922322', 'answers': {'text': [], 'answer_start': []}}, {'id': '5a836273e60761001a2eb643', 'answers': {'text': [], 'answer_start': []}}, {'id': '5729a03f1d04691400779595', 'answers': {'text': ['ring of integers of quadratic number fields', 'integers of quadratic number fields', 'integers of quadratic number fields', 'the ring of integers of quadratic number fields'], 'answer_start': [538, 546, 546, 534]}}, {'id': '5a550e6f134fea001a0e187e', 'answers': {'text': [], 'answer_start': []}}, {'id': '572750e8dd62a815002e9af3', 'answers': {'text': ['things that are a matter of custom or expectation', 'things that are a matter of custom or expectation', 'things that are a matter of custom or expectation'], 'answer_start': [372, 372, 372]}}, {'id': '5a8919843b2508001a72a4bd', 'answers': {'text': [], 'answer_start': []}}, {'id': '5ad248f7d7d075001a428b8f', 'answers': {'text': [], 'answer_start': []}}, {'id': '5ad25dd3d7d075001a428f00', 'answers': {'text': [], 'answer_start': []}}, {'id': '5a8391c7e60761001a2eb7db', 'answers': {'text': [], 'answer_start': []}}, {'id': '5a7b0fae21c2de001afe9d2c', 'answers': {'text': [], 'answer_start': []}}, {'id': '5ad22cd0d7d075001a42861b', 'answers': {'text': [], 'answer_start': []}}, {'id': '5ad4ca605b96ef001a10a0cd', 'answers': {'text': [], 'answer_start': []}}, {'id': '5ad25f82d7d075001a428f87', 'answers': {'text': [], 'answer_start': []}}, {'id': '570d32e4fed7b91900d45d03', 'answers': {'text': ['some extra costs', 'some extra costs are levied', 'extra costs'], 'answer_start': [226, 226, 231]}}, {'id': '571112ada58dae1900cd6bcf', 'answers': {'text': ['little Hugos, or those who want Hugo', 'little Hugos', 'little Hugos, or those who want Hugo.'], 'answer_start': [555, 555, 555]}}, {'id': '5729f39a6aef05140015514e', 'answers': {'text': ['CD8', 'CD8', 'CD8'], 'answer_start': [465, 465, 465]}}, {'id': '5a894a483b2508001a72a5ae', 'answers': {'text': [], 'answer_start': []}}, {'id': '5ad4bcc45b96ef001a109e9e', 'answers': {'text': [], 'answer_start': []}}, {'id': '5ad03b4677cf76001a686ea4', 'answers': {'text': [], 'answer_start': []}}, {'id': '5a2ecb43a83784001a7d248b', 'answers': {'text': [], 'answer_start': []}}]\n",
            "{'exact': 53.125, 'f1': 53.125, 'total': 320, 'HasAns_exact': 0.0, 'HasAns_f1': 0.0, 'HasAns_total': 150, 'NoAns_exact': 100.0, 'NoAns_f1': 100.0, 'NoAns_total': 170, 'best_exact': 53.125, 'best_exact_thresh': 0.0, 'best_f1': 53.125, 'best_f1_thresh': 0.0, 'eval_loss': 'No log', 'epoch': 2.0}\n"
          ]
        }
      ],
      "source": [
        "trainer.train()"
      ]
    },
    {
      "cell_type": "markdown",
      "metadata": {
        "id": "8luK0HpYWUmt"
      },
      "source": [
        "### Evaluation metric\n",
        "\n",
        "we can create a `compute_metrics` function to evaluate our model on the test set. This function will be used during the training process to compute the `accuracy` & `f1` of our model."
      ]
    },
    {
      "cell_type": "code",
      "execution_count": null,
      "metadata": {
        "colab": {
          "base_uri": "https://localhost:8080/",
          "height": 173,
          "referenced_widgets": [
            "908646b8545840debe3d3bab1f955ded",
            "db7ab168c5c64e458b0e9820ad02fa0a",
            "4d1ca4fd686841c4a43d874575001b2f",
            "255e25d714944313ba51a247f77dee2d",
            "35cfb2bdec0c4490ac4c6d7f11c83d74",
            "5eedbfccbee54d43b41608896bc9b7ab",
            "f1819a759d734bfd94d88fb2fa2f717b",
            "978880cd16014b39b2f83deb305abd58",
            "47782a07642f41a4bd8de16bebff5a38",
            "89508370116540b88ededed3021190d0",
            "29b5e88112ca4c9f9595b03dec2cdfec"
          ]
        },
        "id": "NPNdTMJGWUmt",
        "outputId": "7d23371f-1489-47f8-ce17-2913f7e4476d"
      },
      "outputs": [
        {
          "name": "stderr",
          "output_type": "stream",
          "text": [
            "c:\\Users\\Kasra Sohrab\\.conda\\envs\\nlp\\Lib\\site-packages\\datasets\\load.py:759: FutureWarning: The repository for accuracy contains custom code which must be executed to correctly load the metric. You can inspect the repository content at https://raw.githubusercontent.com/huggingface/datasets/2.19.0/metrics/accuracy/accuracy.py\n",
            "You can avoid this message in future by passing the argument `trust_remote_code=True`.\n",
            "Passing `trust_remote_code=True` will be mandatory to load this metric from the next major release of `datasets`.\n",
            "  warnings.warn(\n",
            "c:\\Users\\Kasra Sohrab\\.conda\\envs\\nlp\\Lib\\site-packages\\datasets\\load.py:759: FutureWarning: The repository for f1 contains custom code which must be executed to correctly load the metric. You can inspect the repository content at https://raw.githubusercontent.com/huggingface/datasets/2.19.0/metrics/f1/f1.py\n",
            "You can avoid this message in future by passing the argument `trust_remote_code=True`.\n",
            "Passing `trust_remote_code=True` will be mandatory to load this metric from the next major release of `datasets`.\n",
            "  warnings.warn(\n"
          ]
        },
        {
          "name": "stdout",
          "output_type": "stream",
          "text": [
            "334094338\n",
            "13483522\n"
          ]
        }
      ],
      "source": [
        "from datasets import load_metric\n",
        "import numpy as np\n",
        "\n",
        "def count_parameters(model):\n",
        "    pytorch_total_params = sum(p.numel() for p in model.parameters())\n",
        "    trainable_pytorch_total_params = sum(p.numel() for p in model.parameters() if p.requires_grad)\n",
        "    return pytorch_total_params\n",
        "\n",
        "print(count_parameters(teacher_model))\n",
        "print(count_parameters(trainer.model))"
      ]
    },
    {
      "cell_type": "code",
      "execution_count": 110,
      "metadata": {},
      "outputs": [
        {
          "name": "stderr",
          "output_type": "stream",
          "text": [
            "c:\\Users\\Kasra Sohrab\\.conda\\envs\\nlp\\Lib\\site-packages\\transformers\\trainer_pt_utils.py:411: FutureWarning: DistributedTensorGatherer is deprecated and will be removed in v5 of Transformers.\n",
            "  warnings.warn(\n"
          ]
        },
        {
          "data": {
            "application/vnd.jupyter.widget-view+json": {
              "model_id": "f6d11f50a27d42a88264d8b1af5bde65",
              "version_major": 2,
              "version_minor": 0
            },
            "text/plain": [
              "  0%|          | 0/3 [00:00<?, ?it/s]"
            ]
          },
          "metadata": {},
          "output_type": "display_data"
        },
        {
          "name": "stdout",
          "output_type": "stream",
          "text": [
            "<function squad_metrics at 0x000001D8B0AC14E0>\n"
          ]
        },
        {
          "data": {
            "application/vnd.jupyter.widget-view+json": {
              "model_id": "574ac35e7c02427087cb9734f5ae40b9",
              "version_major": 2,
              "version_minor": 0
            },
            "text/plain": [
              "  0%|          | 0/320 [00:00<?, ?it/s]"
            ]
          },
          "metadata": {},
          "output_type": "display_data"
        },
        {
          "name": "stdout",
          "output_type": "stream",
          "text": [
            "<transformers.trainer_utils.EvalPrediction object at 0x000001DB25C6ED90>\n",
            "[{'id': '5733ea04d058e614000b6595', 'prediction_text': '', 'no_answer_probability': 0.0}, {'id': '5ad26a5fd7d075001a42931b', 'prediction_text': '', 'no_answer_probability': 0.0}, {'id': '5a664447c2b11c001a425eef', 'prediction_text': '', 'no_answer_probability': 0.0}, {'id': '5ad3ff1b604f3c001a3ffc74', 'prediction_text': '', 'no_answer_probability': 0.0}, {'id': '5ad25d39d7d075001a428eda', 'prediction_text': '', 'no_answer_probability': 0.0}, {'id': '5ad265d2d7d075001a4291c6', 'prediction_text': '', 'no_answer_probability': 0.0}, {'id': '5a1c8ea7b4fb5d00187146d1', 'prediction_text': '', 'no_answer_probability': 0.0}, {'id': '5a57c667770dc0001aeefd69', 'prediction_text': '', 'no_answer_probability': 0.0}, {'id': '5705fd8475f01819005e7841', 'prediction_text': '', 'no_answer_probability': 0.0}, {'id': '5726431d271a42140099d7f9', 'prediction_text': '', 'no_answer_probability': 0.0}, {'id': '5a8929e43b2508001a72a4de', 'prediction_text': '', 'no_answer_probability': 0.0}, {'id': '5706143575f01819005e7952', 'prediction_text': '', 'no_answer_probability': 0.0}, {'id': '5ad570b25b96ef001a10aede', 'prediction_text': '', 'no_answer_probability': 0.0}, {'id': '5ad04f7977cf76001a686fbb', 'prediction_text': '', 'no_answer_probability': 0.0}, {'id': '5726545f708984140094c2a5', 'prediction_text': '', 'no_answer_probability': 0.0}, {'id': '5733a2a9d058e614000b5f2b', 'prediction_text': '', 'no_answer_probability': 0.0}, {'id': '57337f6ad058e614000b5bce', 'prediction_text': '', 'no_answer_probability': 0.0}, {'id': '5a892d303b2508001a72a4ee', 'prediction_text': '', 'no_answer_probability': 0.0}, {'id': '5ad40b9a604f3c001a40001a', 'prediction_text': '', 'no_answer_probability': 0.0}, {'id': '573368044776f41900660a29', 'prediction_text': '', 'no_answer_probability': 0.0}, {'id': '5726f48df1498d1400e8f0de', 'prediction_text': '', 'no_answer_probability': 0.0}, {'id': '5a7b05cd21c2de001afe9cdc', 'prediction_text': '', 'no_answer_probability': 0.0}, {'id': '57265d08708984140094c398', 'prediction_text': '', 'no_answer_probability': 0.0}, {'id': '5acff63377cf76001a68665d', 'prediction_text': '', 'no_answer_probability': 0.0}, {'id': '5ad0313b77cf76001a686dd5', 'prediction_text': '', 'no_answer_probability': 0.0}, {'id': '572f55e8a23a5019007fc56b', 'prediction_text': 'empty', 'no_answer_probability': 0.0}, {'id': '5729fb003f37b31900478629', 'prediction_text': '', 'no_answer_probability': 0.0}, {'id': '5725c95f38643c19005accf7', 'prediction_text': '', 'no_answer_probability': 0.0}, {'id': '572fdd03a23a5019007fca9e', 'prediction_text': '', 'no_answer_probability': 0.0}, {'id': '572facb0a23a5019007fc866', 'prediction_text': '', 'no_answer_probability': 0.0}, {'id': '5ad3b147604f3c001a3fecd6', 'prediction_text': '', 'no_answer_probability': 0.0}, {'id': '57339dd94776f41900660ecd', 'prediction_text': '', 'no_answer_probability': 0.0}, {'id': '5a1c8aedb4fb5d00187146a2', 'prediction_text': '', 'no_answer_probability': 0.0}, {'id': '572a1046af94a219006aa78e', 'prediction_text': '', 'no_answer_probability': 0.0}, {'id': '5725f00938643c19005aced7', 'prediction_text': '', 'no_answer_probability': 0.0}, {'id': '5711163bb654c5140001fb13', 'prediction_text': '', 'no_answer_probability': 0.0}, {'id': '5ad13ef3645df0001a2d138d', 'prediction_text': '', 'no_answer_probability': 0.0}, {'id': '5728e8212ca10214002daa6e', 'prediction_text': '', 'no_answer_probability': 0.0}, {'id': '5ad03c2977cf76001a686eb4', 'prediction_text': '', 'no_answer_probability': 0.0}, {'id': '57286bf84b864d19001649d2', 'prediction_text': '', 'no_answer_probability': 0.0}, {'id': '5ad10f94645df0001a2d0bc6', 'prediction_text': '', 'no_answer_probability': 0.0}, {'id': '572a20816aef0514001552e6', 'prediction_text': '', 'no_answer_probability': 0.0}, {'id': '57264684708984140094c124', 'prediction_text': '', 'no_answer_probability': 0.0}, {'id': '5a67dedd8476ee001a58a74d', 'prediction_text': '', 'no_answer_probability': 0.0}, {'id': '57265700dd62a815002e8212', 'prediction_text': '', 'no_answer_probability': 0.0}, {'id': '5a835b42e60761001a2eb60d', 'prediction_text': '', 'no_answer_probability': 0.0}, {'id': '5a8235a931013a001a3352d8', 'prediction_text': '', 'no_answer_probability': 0.0}, {'id': '5ad2442bd7d075001a428a3c', 'prediction_text': '', 'no_answer_probability': 0.0}, {'id': '573408ef4776f41900661757', 'prediction_text': '', 'no_answer_probability': 0.0}, {'id': '5a2eb84ba83784001a7d2423', 'prediction_text': '', 'no_answer_probability': 0.0}, {'id': '5a234eef82b03a001a4aa76b', 'prediction_text': '', 'no_answer_probability': 0.0}, {'id': '5ad11097645df0001a2d0be2', 'prediction_text': '', 'no_answer_probability': 0.0}, {'id': '572a1a5c6aef051400155284', 'prediction_text': '', 'no_answer_probability': 0.0}, {'id': '5ad5719f5b96ef001a10aef0', 'prediction_text': '', 'no_answer_probability': 0.0}, {'id': '5a2c0a5abfd06b001a5ae993', 'prediction_text': '', 'no_answer_probability': 0.0}, {'id': '5a57f0ea770dc0001aeefee3', 'prediction_text': '', 'no_answer_probability': 0.0}, {'id': '5a81f28431013a001a334fb5', 'prediction_text': '', 'no_answer_probability': 0.0}, {'id': '5ad3a38c604f3c001a3fea63', 'prediction_text': '', 'no_answer_probability': 0.0}, {'id': '5ad3ad01604f3c001a3febd3', 'prediction_text': '', 'no_answer_probability': 0.0}, {'id': '57108073b654c5140001f927', 'prediction_text': '', 'no_answer_probability': 0.0}, {'id': '571caac55efbb31900334dc9', 'prediction_text': '', 'no_answer_probability': 0.0}, {'id': '57296f293f37b319004783a6', 'prediction_text': '', 'no_answer_probability': 0.0}, {'id': '5ad509615b96ef001a10aa7c', 'prediction_text': '', 'no_answer_probability': 0.0}, {'id': '5729d51d3f37b3190047858f', 'prediction_text': '', 'no_answer_probability': 0.0}, {'id': '5ad400f0604f3c001a3ffcf3', 'prediction_text': '', 'no_answer_probability': 0.0}, {'id': '5a7b12a421c2de001afe9d51', 'prediction_text': '', 'no_answer_probability': 0.0}, {'id': '571c9074dd7acb1400e4c103', 'prediction_text': '', 'no_answer_probability': 0.0}, {'id': '571cd11add7acb1400e4c170', 'prediction_text': '', 'no_answer_probability': 0.0}, {'id': '570d2f5bfed7b91900d45cd3', 'prediction_text': '', 'no_answer_probability': 0.0}, {'id': '57300c67947a6a140053cff2', 'prediction_text': '', 'no_answer_probability': 0.0}, {'id': '5ad14f5a645df0001a2d1710', 'prediction_text': '', 'no_answer_probability': 0.0}, {'id': '5a6647d2c2b11c001a425f1e', 'prediction_text': '', 'no_answer_probability': 0.0}, {'id': '5725c337271a42140099d167', 'prediction_text': '', 'no_answer_probability': 0.0}, {'id': '5ad4e4425b96ef001a10a575', 'prediction_text': '', 'no_answer_probability': 0.0}, {'id': '5ad3b260604f3c001a3fed06', 'prediction_text': '', 'no_answer_probability': 0.0}, {'id': '572fd6aa04bcaa1900d76da0', 'prediction_text': '', 'no_answer_probability': 0.0}, {'id': '573755afc3c5551400e51eb3', 'prediction_text': '', 'no_answer_probability': 0.0}, {'id': '572ffce5a23a5019007fcc18', 'prediction_text': '', 'no_answer_probability': 0.0}, {'id': '5ad3cc47604f3c001a3ff146', 'prediction_text': '', 'no_answer_probability': 0.0}, {'id': '5a67a898f038b7001ab0c3f5', 'prediction_text': '', 'no_answer_probability': 0.0}, {'id': '5ad23fded7d075001a4288fd', 'prediction_text': '', 'no_answer_probability': 0.0}, {'id': '571a4b0f10f8ca1400304fd7', 'prediction_text': '', 'no_answer_probability': 0.0}, {'id': '5a893a003b2508001a72a53f', 'prediction_text': '', 'no_answer_probability': 0.0}, {'id': '5ad546c75b96ef001a10ac11', 'prediction_text': '', 'no_answer_probability': 0.0}, {'id': '573011de04bcaa1900d770fc', 'prediction_text': '', 'no_answer_probability': 0.0}, {'id': '5729a26d6aef05140015505c', 'prediction_text': '', 'no_answer_probability': 0.0}, {'id': '5ad15170645df0001a2d1735', 'prediction_text': '', 'no_answer_probability': 0.0}, {'id': '5ad26235d7d075001a429082', 'prediction_text': '', 'no_answer_probability': 0.0}, {'id': '5acf98ad77cf76001a6853c6', 'prediction_text': '', 'no_answer_probability': 0.0}, {'id': '5ad28173d7d075001a4297fd', 'prediction_text': '', 'no_answer_probability': 0.0}, {'id': '5ad24600d7d075001a428aca', 'prediction_text': '', 'no_answer_probability': 0.0}, {'id': '5ad4d2855b96ef001a10a1de', 'prediction_text': '', 'no_answer_probability': 0.0}, {'id': '5725f2c838643c19005aceee', 'prediction_text': '', 'no_answer_probability': 0.0}, {'id': '5a6695e8f038b7001ab0c01a', 'prediction_text': '', 'no_answer_probability': 0.0}, {'id': '5727e21e4b864d1900163f36', 'prediction_text': '', 'no_answer_probability': 0.0}, {'id': '572745c6708984140094db9a', 'prediction_text': '', 'no_answer_probability': 0.0}, {'id': '572fec30947a6a140053cdf3', 'prediction_text': 'empty', 'no_answer_probability': 0.0}, {'id': '5710e8c8a58dae1900cd6b2a', 'prediction_text': '', 'no_answer_probability': 0.0}, {'id': '572fbf21a23a5019007fc93b', 'prediction_text': '', 'no_answer_probability': 0.0}, {'id': '572665ff708984140094c4c5', 'prediction_text': '', 'no_answer_probability': 0.0}, {'id': '5a75066297ca42001a521ded', 'prediction_text': '', 'no_answer_probability': 0.0}, {'id': '5705e63175f01819005e7720', 'prediction_text': '', 'no_answer_probability': 0.0}, {'id': '5a2eb95ca83784001a7d242c', 'prediction_text': '', 'no_answer_probability': 0.0}, {'id': '57299ec43f37b3190047850f', 'prediction_text': '', 'no_answer_probability': 0.0}, {'id': '5a823e6f31013a001a335330', 'prediction_text': '', 'no_answer_probability': 0.0}, {'id': '5ad40219604f3c001a3ffd47', 'prediction_text': '', 'no_answer_probability': 0.0}, {'id': '572991943f37b319004784a3', 'prediction_text': '', 'no_answer_probability': 0.0}, {'id': '57308ddc396df919000961a4', 'prediction_text': '', 'no_answer_probability': 0.0}, {'id': '57106185b654c5140001f8dc', 'prediction_text': '', 'no_answer_probability': 0.0}, {'id': '5726241189a1e219009ac2df', 'prediction_text': '', 'no_answer_probability': 0.0}, {'id': '5737a25ac3c5551400e51f51', 'prediction_text': '', 'no_answer_probability': 0.0}, {'id': '5a8398bbe60761001a2eb805', 'prediction_text': '', 'no_answer_probability': 0.0}, {'id': '5ad11288645df0001a2d0c34', 'prediction_text': '', 'no_answer_probability': 0.0}, {'id': '5ad0383677cf76001a686e39', 'prediction_text': '', 'no_answer_probability': 0.0}, {'id': '572fe41e04bcaa1900d76e4c', 'prediction_text': '', 'no_answer_probability': 0.0}, {'id': '57376a1bc3c5551400e51ec4', 'prediction_text': '', 'no_answer_probability': 0.0}, {'id': '5726a3c6f1498d1400e8e5b2', 'prediction_text': '', 'no_answer_probability': 0.0}, {'id': '5a0c807ff5590b0018dab452', 'prediction_text': '', 'no_answer_probability': 0.0}, {'id': '5ad14966645df0001a2d1582', 'prediction_text': '', 'no_answer_probability': 0.0}, {'id': '5a665870846392001a1e1af6', 'prediction_text': '', 'no_answer_probability': 0.0}, {'id': '5a668d25f038b7001ab0bfb0', 'prediction_text': '', 'no_answer_probability': 0.0}, {'id': '5728eff82ca10214002daade', 'prediction_text': '', 'no_answer_probability': 0.0}, {'id': '573027d6a23a5019007fcea1', 'prediction_text': '', 'no_answer_probability': 0.0}, {'id': '572648ed5951b619008f6f07', 'prediction_text': '', 'no_answer_probability': 0.0}, {'id': '57281bb84b864d190016449c', 'prediction_text': '', 'no_answer_probability': 0.0}, {'id': '5ad3fc1f604f3c001a3ffb7c', 'prediction_text': '', 'no_answer_probability': 0.0}, {'id': '5728eb1a3acd2414000e01c5', 'prediction_text': '', 'no_answer_probability': 0.0}, {'id': '5ad404a6604f3c001a3ffde3', 'prediction_text': '', 'no_answer_probability': 0.0}, {'id': '5a2c16e3bfd06b001a5ae9e8', 'prediction_text': '', 'no_answer_probability': 0.0}, {'id': '572fb42904bcaa1900d76c15', 'prediction_text': '', 'no_answer_probability': 0.0}, {'id': '5726b58f5951b619008f7b58', 'prediction_text': '', 'no_answer_probability': 0.0}, {'id': '5ad14573645df0001a2d14b2', 'prediction_text': '', 'no_answer_probability': 0.0}, {'id': '57273a465951b619008f86ff', 'prediction_text': '', 'no_answer_probability': 0.0}, {'id': '5ad2605dd7d075001a428fc7', 'prediction_text': '', 'no_answer_probability': 0.0}, {'id': '571ce6655efbb31900334e34', 'prediction_text': '', 'no_answer_probability': 0.0}, {'id': '572940973f37b319004781a8', 'prediction_text': '', 'no_answer_probability': 0.0}, {'id': '56e16839cd28a01900c67888', 'prediction_text': '', 'no_answer_probability': 0.0}, {'id': '5733266d4776f41900660713', 'prediction_text': '', 'no_answer_probability': 0.0}, {'id': '5a8221dc31013a001a335231', 'prediction_text': '', 'no_answer_probability': 0.0}, {'id': '5ad25963d7d075001a428e0c', 'prediction_text': '', 'no_answer_probability': 0.0}, {'id': '57265c10f1498d1400e8dd39', 'prediction_text': '', 'no_answer_probability': 0.0}, {'id': '5ad24f27d7d075001a428c88', 'prediction_text': '', 'no_answer_probability': 0.0}, {'id': '5ad4d9be5b96ef001a10a3b0', 'prediction_text': '', 'no_answer_probability': 0.0}, {'id': '5a836496e60761001a2eb65b', 'prediction_text': '', 'no_answer_probability': 0.0}, {'id': '5a592b593e1742001a15cfce', 'prediction_text': '', 'no_answer_probability': 0.0}, {'id': '57378862c3c5551400e51f22', 'prediction_text': '', 'no_answer_probability': 0.0}, {'id': '571090abb654c5140001f996', 'prediction_text': '', 'no_answer_probability': 0.0}, {'id': '5a592e733e1742001a15cff7', 'prediction_text': '', 'no_answer_probability': 0.0}, {'id': '5ad418fb604f3c001a400433', 'prediction_text': '', 'no_answer_probability': 0.0}, {'id': '5ad4ea425b96ef001a10a62a', 'prediction_text': '', 'no_answer_probability': 0.0}, {'id': '57268e2bf1498d1400e8e3b1', 'prediction_text': '', 'no_answer_probability': 0.0}, {'id': '5728d7c54b864d1900164f4d', 'prediction_text': '', 'no_answer_probability': 0.0}, {'id': '5a6ce55e4eec6b001a80a693', 'prediction_text': '', 'no_answer_probability': 0.0}, {'id': '572a019f3f37b31900478643', 'prediction_text': '', 'no_answer_probability': 0.0}, {'id': '572663a9f1498d1400e8ddf2', 'prediction_text': '', 'no_answer_probability': 0.0}, {'id': '5a3e42de378766001a00252b', 'prediction_text': '', 'no_answer_probability': 0.0}, {'id': '5ad3b9cd604f3c001a3fee89', 'prediction_text': '', 'no_answer_probability': 0.0}, {'id': '572648ed5951b619008f6f03', 'prediction_text': '', 'no_answer_probability': 0.0}, {'id': '5ad25dd3d7d075001a428f03', 'prediction_text': '', 'no_answer_probability': 0.0}, {'id': '57286010ff5b5019007da1cc', 'prediction_text': '', 'no_answer_probability': 0.0}, {'id': '5a7b3f0f21c2de001afe9e03', 'prediction_text': '', 'no_answer_probability': 0.0}, {'id': '5ad4d55f5b96ef001a10a277', 'prediction_text': '', 'no_answer_probability': 0.0}, {'id': '56de1563cffd8e1900b4b5c3', 'prediction_text': '', 'no_answer_probability': 0.0}, {'id': '572ff83ab2c2fd1400568683', 'prediction_text': '', 'no_answer_probability': 0.0}, {'id': '571cca4add7acb1400e4c154', 'prediction_text': '', 'no_answer_probability': 0.0}, {'id': '5a669d5cf038b7001ab0c05e', 'prediction_text': '', 'no_answer_probability': 0.0}, {'id': '572881704b864d1900164a50', 'prediction_text': '', 'no_answer_probability': 0.0}, {'id': '5ad2b1e1d7d075001a429f6c', 'prediction_text': '', 'no_answer_probability': 0.0}, {'id': '5ad265d2d7d075001a4291c9', 'prediction_text': '', 'no_answer_probability': 0.0}, {'id': '5a2ed246a83784001a7d24e3', 'prediction_text': '', 'no_answer_probability': 0.0}, {'id': '57266c015951b619008f7238', 'prediction_text': '', 'no_answer_probability': 0.0}, {'id': '572941273f37b319004781ae', 'prediction_text': '', 'no_answer_probability': 0.0}, {'id': '5ad50c9f5b96ef001a10aae1', 'prediction_text': '', 'no_answer_probability': 0.0}, {'id': '5729517d6aef051400154cc9', 'prediction_text': '', 'no_answer_probability': 0.0}, {'id': '572659535951b619008f703f', 'prediction_text': '', 'no_answer_probability': 0.0}, {'id': '57115b8b50c2381900b54a8b', 'prediction_text': '', 'no_answer_probability': 0.0}, {'id': '57287f6a3acd2414000dfa52', 'prediction_text': '', 'no_answer_probability': 0.0}, {'id': '5a8919843b2508001a72a4c0', 'prediction_text': '', 'no_answer_probability': 0.0}, {'id': '5ad4cc135b96ef001a10a0f6', 'prediction_text': '', 'no_answer_probability': 0.0}, {'id': '572885c44b864d1900164a78', 'prediction_text': '', 'no_answer_probability': 0.0}, {'id': '5a7b11bb21c2de001afe9d48', 'prediction_text': '', 'no_answer_probability': 0.0}, {'id': '5ad3b781604f3c001a3fee27', 'prediction_text': '', 'no_answer_probability': 0.0}, {'id': '5ad53e615b96ef001a10abdb', 'prediction_text': '', 'no_answer_probability': 0.0}, {'id': '572f5703a23a5019007fc575', 'prediction_text': '', 'no_answer_probability': 0.0}, {'id': '5a89473c3b2508001a72a59b', 'prediction_text': '', 'no_answer_probability': 0.0}, {'id': '5ad25e99d7d075001a428f31', 'prediction_text': '', 'no_answer_probability': 0.0}, {'id': '5728742cff5b5019007da246', 'prediction_text': '', 'no_answer_probability': 0.0}, {'id': '56e1febfe3433e1400423236', 'prediction_text': '', 'no_answer_probability': 0.0}, {'id': '5726f2375951b619008f830f', 'prediction_text': '', 'no_answer_probability': 0.0}, {'id': '5705f09e75f01819005e77a7', 'prediction_text': '', 'no_answer_probability': 0.0}, {'id': '5ad55ee35b96ef001a10ace4', 'prediction_text': '', 'no_answer_probability': 0.0}, {'id': '5a669a2cf038b7001ab0c046', 'prediction_text': '', 'no_answer_probability': 0.0}, {'id': '5ad2b1e1d7d075001a429f6a', 'prediction_text': '', 'no_answer_probability': 0.0}, {'id': '56de0ffd4396321400ee258d', 'prediction_text': '', 'no_answer_probability': 0.0}, {'id': '5ad53e615b96ef001a10abdc', 'prediction_text': '', 'no_answer_probability': 0.0}, {'id': '5a668632f038b7001ab0bf47', 'prediction_text': '', 'no_answer_probability': 0.0}, {'id': '5ad2424cd7d075001a42898c', 'prediction_text': '', 'no_answer_probability': 0.0}, {'id': '5ad4f4d95b96ef001a10a794', 'prediction_text': '', 'no_answer_probability': 0.0}, {'id': '572fffb404bcaa1900d76fef', 'prediction_text': '', 'no_answer_probability': 0.0}, {'id': '5a7b33b821c2de001afe9dbd', 'prediction_text': '', 'no_answer_probability': 0.0}, {'id': '5a6ce55e4eec6b001a80a691', 'prediction_text': '', 'no_answer_probability': 0.0}, {'id': '572881d34b864d1900164a5c', 'prediction_text': '', 'no_answer_probability': 0.0}, {'id': '5ad3cc47604f3c001a3ff147', 'prediction_text': '', 'no_answer_probability': 0.0}, {'id': '571127a5a58dae1900cd6cc8', 'prediction_text': '', 'no_answer_probability': 0.0}, {'id': '5ad4fe635b96ef001a10a8b8', 'prediction_text': '', 'no_answer_probability': 0.0}, {'id': '5a1c539bb4fb5d00187145fb', 'prediction_text': '', 'no_answer_probability': 0.0}, {'id': '5ad2461ad7d075001a428ad2', 'prediction_text': '', 'no_answer_probability': 0.0}, {'id': '5ad5648b5b96ef001a10ad95', 'prediction_text': '', 'no_answer_probability': 0.0}, {'id': '5a3e3de4378766001a002514', 'prediction_text': '', 'no_answer_probability': 0.0}, {'id': '5725d34089a1e219009abf50', 'prediction_text': '', 'no_answer_probability': 0.0}, {'id': '5725cb33271a42140099d1df', 'prediction_text': '', 'no_answer_probability': 0.0}, {'id': '57094a79efce8f15003a7dc6', 'prediction_text': '', 'no_answer_probability': 0.0}, {'id': '5a822bc531013a001a335281', 'prediction_text': '', 'no_answer_probability': 0.0}, {'id': '57265700dd62a815002e8211', 'prediction_text': '', 'no_answer_probability': 0.0}, {'id': '5733e5a14776f4190066145d', 'prediction_text': '', 'no_answer_probability': 0.0}, {'id': '5ad039be77cf76001a686e60', 'prediction_text': '', 'no_answer_probability': 0.0}, {'id': '5a6ce6164eec6b001a80a69c', 'prediction_text': '', 'no_answer_probability': 0.0}, {'id': '5730131c947a6a140053d056', 'prediction_text': '', 'no_answer_probability': 0.0}, {'id': '572fff45947a6a140053cf2a', 'prediction_text': '', 'no_answer_probability': 0.0}, {'id': '5ad3bd30604f3c001a3fef11', 'prediction_text': '', 'no_answer_probability': 0.0}, {'id': '5a3e3de4378766001a002513', 'prediction_text': '', 'no_answer_probability': 0.0}, {'id': '57115c7450c2381900b54aa0', 'prediction_text': '', 'no_answer_probability': 0.0}, {'id': '5ad3cd43604f3c001a3ff186', 'prediction_text': '', 'no_answer_probability': 0.0}, {'id': '5727dc473acd2414000dee44', 'prediction_text': '', 'no_answer_probability': 0.0}, {'id': '57268f2bf1498d1400e8e3c7', 'prediction_text': '', 'no_answer_probability': 0.0}, {'id': '572647d0708984140094c14c', 'prediction_text': '', 'no_answer_probability': 0.0}, {'id': '5727db85ff5b5019007d96fc', 'prediction_text': '', 'no_answer_probability': 0.0}, {'id': '5acff5b077cf76001a68662a', 'prediction_text': '', 'no_answer_probability': 0.0}, {'id': '5ad4c94f5b96ef001a10a09c', 'prediction_text': '', 'no_answer_probability': 0.0}, {'id': '5733140a4776f419006606e2', 'prediction_text': '', 'no_answer_probability': 0.0}, {'id': '573368e54776f41900660a55', 'prediction_text': '', 'no_answer_probability': 0.0}, {'id': '5727cebc2ca10214002d96f3', 'prediction_text': '', 'no_answer_probability': 0.0}, {'id': '5729f4b41d0469140077968c', 'prediction_text': '', 'no_answer_probability': 0.0}, {'id': '57308cf88ab72b1400f9c576', 'prediction_text': '', 'no_answer_probability': 0.0}, {'id': '5a2c14b4bfd06b001a5ae9d4', 'prediction_text': '', 'no_answer_probability': 0.0}, {'id': '5705f09e75f01819005e77a6', 'prediction_text': '', 'no_answer_probability': 0.0}, {'id': '5ad3d689604f3c001a3ff311', 'prediction_text': '', 'no_answer_probability': 0.0}, {'id': '5ad0301577cf76001a686db6', 'prediction_text': '', 'no_answer_probability': 0.0}, {'id': '5ad5036c5b96ef001a10a984', 'prediction_text': '', 'no_answer_probability': 0.0}, {'id': '5ad400b0604f3c001a3ffcdf', 'prediction_text': '', 'no_answer_probability': 0.0}, {'id': '5a2ed0a0a83784001a7d24d1', 'prediction_text': '', 'no_answer_probability': 0.0}, {'id': '57281d494b864d19001644c1', 'prediction_text': '', 'no_answer_probability': 0.0}, {'id': '572671a5f1498d1400e8dfe4', 'prediction_text': '', 'no_answer_probability': 0.0}, {'id': '572824f13acd2414000df58f', 'prediction_text': '', 'no_answer_probability': 0.0}, {'id': '57299326af94a219006aa516', 'prediction_text': '', 'no_answer_probability': 0.0}, {'id': '573060b48ab72b1400f9c4c9', 'prediction_text': '', 'no_answer_probability': 0.0}, {'id': '5a6391c268151a001a92238d', 'prediction_text': '', 'no_answer_probability': 0.0}, {'id': '5a38aa28a4b263001a8c1881', 'prediction_text': '', 'no_answer_probability': 0.0}, {'id': '5ad3a21d604f3c001a3fea21', 'prediction_text': '', 'no_answer_probability': 0.0}, {'id': '572649d8f1498d1400e8db36', 'prediction_text': '', 'no_answer_probability': 0.0}, {'id': '572a1a5c6aef051400155285', 'prediction_text': '', 'no_answer_probability': 0.0}, {'id': '5a63981168151a001a9223b7', 'prediction_text': '', 'no_answer_probability': 0.0}, {'id': '5727d3843acd2414000ded69', 'prediction_text': '', 'no_answer_probability': 0.0}, {'id': '5ad3c57a604f3c001a3feff4', 'prediction_text': '', 'no_answer_probability': 0.0}, {'id': '5ad27e30d7d075001a429703', 'prediction_text': '', 'no_answer_probability': 0.0}, {'id': '5a2c3a5cbfd06b001a5aea7b', 'prediction_text': '', 'no_answer_probability': 0.0}, {'id': '5728f9882ca10214002dab5b', 'prediction_text': '', 'no_answer_probability': 0.0}, {'id': '571cd88ddd7acb1400e4c18f', 'prediction_text': '', 'no_answer_probability': 0.0}, {'id': '5a6cb7ce4eec6b001a80a639', 'prediction_text': '', 'no_answer_probability': 0.0}, {'id': '5a666b43846392001a1e1c0f', 'prediction_text': '', 'no_answer_probability': 0.0}, {'id': '572684365951b619008f7540', 'prediction_text': '', 'no_answer_probability': 0.0}, {'id': '5a7b3b3121c2de001afe9df1', 'prediction_text': '', 'no_answer_probability': 0.0}, {'id': '5a551328134fea001a0e18d8', 'prediction_text': '', 'no_answer_probability': 0.0}, {'id': '5a60556eeae51e001ab14d17', 'prediction_text': '', 'no_answer_probability': 0.0}, {'id': '57107932a58dae1900cd69cc', 'prediction_text': '', 'no_answer_probability': 0.0}, {'id': '570d32e4fed7b91900d45d02', 'prediction_text': '', 'no_answer_probability': 0.0}, {'id': '5728455bff5b5019007da07b', 'prediction_text': '', 'no_answer_probability': 0.0}, {'id': '5acfe91c77cf76001a686438', 'prediction_text': '', 'no_answer_probability': 0.0}, {'id': '57268a37f1498d1400e8e340', 'prediction_text': '', 'no_answer_probability': 0.0}, {'id': '572650325951b619008f6faa', 'prediction_text': '', 'no_answer_probability': 0.0}, {'id': '572867543acd2414000df9a2', 'prediction_text': '', 'no_answer_probability': 0.0}, {'id': '5a668b1df038b7001ab0bf88', 'prediction_text': '', 'no_answer_probability': 0.0}, {'id': '572fce13a23a5019007fca14', 'prediction_text': '', 'no_answer_probability': 0.0}, {'id': '5ad29d35d7d075001a429c12', 'prediction_text': '', 'no_answer_probability': 0.0}, {'id': '572a05eb3f37b31900478656', 'prediction_text': '', 'no_answer_probability': 0.0}, {'id': '5728683b3acd2414000df9b2', 'prediction_text': '', 'no_answer_probability': 0.0}, {'id': '5a7b456121c2de001afe9e2c', 'prediction_text': '', 'no_answer_probability': 0.0}, {'id': '57097b50200fba140036804e', 'prediction_text': '', 'no_answer_probability': 0.0}, {'id': '5737a4511c456719005744df', 'prediction_text': '', 'no_answer_probability': 0.0}, {'id': '5ad3a342604f3c001a3fea5b', 'prediction_text': '', 'no_answer_probability': 0.0}, {'id': '57107932a58dae1900cd69ce', 'prediction_text': '', 'no_answer_probability': 0.0}, {'id': '57264fe65951b619008f6fa1', 'prediction_text': '', 'no_answer_probability': 0.0}, {'id': '5a25f133c93d92001a400351', 'prediction_text': '', 'no_answer_probability': 0.0}, {'id': '572f55e8a23a5019007fc56c', 'prediction_text': 'empty', 'no_answer_probability': 0.0}, {'id': '5a6790dbf038b7001ab0c2d1', 'prediction_text': '', 'no_answer_probability': 0.0}, {'id': '5ad40397604f3c001a3ffd86', 'prediction_text': '', 'no_answer_probability': 0.0}, {'id': '5ad25a8bd7d075001a428e32', 'prediction_text': '', 'no_answer_probability': 0.0}, {'id': '5726ea985951b619008f8261', 'prediction_text': '', 'no_answer_probability': 0.0}, {'id': '5ad24600d7d075001a428ac9', 'prediction_text': '', 'no_answer_probability': 0.0}, {'id': '5a6799adf038b7001ab0c31e', 'prediction_text': 'aided or an unaided school. So,', 'no_answer_probability': 0.0}, {'id': '5ad561c85b96ef001a10ad3c', 'prediction_text': '', 'no_answer_probability': 0.0}, {'id': '5a3e2f07378766001a0024ce', 'prediction_text': '', 'no_answer_probability': 0.0}, {'id': '5a6790dbf038b7001ab0c2d2', 'prediction_text': '', 'no_answer_probability': 0.0}, {'id': '5a668d25f038b7001ab0bfac', 'prediction_text': '', 'no_answer_probability': 0.0}, {'id': '5ad14a28645df0001a2d15a2', 'prediction_text': '', 'no_answer_probability': 0.0}, {'id': '5a89117e19b91f001a626f2e', 'prediction_text': 'composite number. For example, 5 is prime because 1 and 5 are its only positive integer factors, whereas', 'no_answer_probability': 0.0}, {'id': '5ad25f35d7d075001a428f6a', 'prediction_text': '', 'no_answer_probability': 0.0}, {'id': '5ad4f4d95b96ef001a10a793', 'prediction_text': '', 'no_answer_probability': 0.0}, {'id': '57338255d058e614000b5c0d', 'prediction_text': '', 'no_answer_probability': 0.0}, {'id': '56e1ec83cd28a01900c67c0c', 'prediction_text': '', 'no_answer_probability': 0.0}, {'id': '5a6381d868151a001a922322', 'prediction_text': '', 'no_answer_probability': 0.0}, {'id': '5a836273e60761001a2eb643', 'prediction_text': '', 'no_answer_probability': 0.0}, {'id': '5729a03f1d04691400779595', 'prediction_text': '', 'no_answer_probability': 0.0}, {'id': '5a550e6f134fea001a0e187e', 'prediction_text': 'cum', 'no_answer_probability': 0.0}, {'id': '572750e8dd62a815002e9af3', 'prediction_text': '', 'no_answer_probability': 0.0}, {'id': '5a8919843b2508001a72a4bd', 'prediction_text': '', 'no_answer_probability': 0.0}, {'id': '5ad248f7d7d075001a428b8f', 'prediction_text': '', 'no_answer_probability': 0.0}, {'id': '5ad25dd3d7d075001a428f00', 'prediction_text': '', 'no_answer_probability': 0.0}, {'id': '5a8391c7e60761001a2eb7db', 'prediction_text': '', 'no_answer_probability': 0.0}, {'id': '5a7b0fae21c2de001afe9d2c', 'prediction_text': '', 'no_answer_probability': 0.0}, {'id': '5ad22cd0d7d075001a42861b', 'prediction_text': '', 'no_answer_probability': 0.0}, {'id': '5ad4ca605b96ef001a10a0cd', 'prediction_text': '', 'no_answer_probability': 0.0}, {'id': '5ad25f82d7d075001a428f87', 'prediction_text': '', 'no_answer_probability': 0.0}, {'id': '570d32e4fed7b91900d45d03', 'prediction_text': '', 'no_answer_probability': 0.0}, {'id': '571112ada58dae1900cd6bcf', 'prediction_text': '', 'no_answer_probability': 0.0}, {'id': '5729f39a6aef05140015514e', 'prediction_text': '', 'no_answer_probability': 0.0}, {'id': '5a894a483b2508001a72a5ae', 'prediction_text': '', 'no_answer_probability': 0.0}, {'id': '5ad4bcc45b96ef001a109e9e', 'prediction_text': '', 'no_answer_probability': 0.0}, {'id': '5ad03b4677cf76001a686ea4', 'prediction_text': '', 'no_answer_probability': 0.0}, {'id': '5a2ecb43a83784001a7d248b', 'prediction_text': '', 'no_answer_probability': 0.0}]\n",
            "[{'id': '5733ea04d058e614000b6595', 'answers': {'text': ['Fort Presque Isle (near present-day Erie, Pennsylvania', 'Fort Presque Isle', 'near present-day Erie, Pennsylvania', 'Fort Presque Isle', 'near present-day Erie, Pennsylvania'], 'answer_start': [425, 425, 444, 425, 444]}}, {'id': '5ad26a5fd7d075001a42931b', 'answers': {'text': [], 'answer_start': []}}, {'id': '5a664447c2b11c001a425eef', 'answers': {'text': [], 'answer_start': []}}, {'id': '5ad3ff1b604f3c001a3ffc74', 'answers': {'text': [], 'answer_start': []}}, {'id': '5ad25d39d7d075001a428eda', 'answers': {'text': [], 'answer_start': []}}, {'id': '5ad265d2d7d075001a4291c6', 'answers': {'text': [], 'answer_start': []}}, {'id': '5a1c8ea7b4fb5d00187146d1', 'answers': {'text': [], 'answer_start': []}}, {'id': '5a57c667770dc0001aeefd69', 'answers': {'text': [], 'answer_start': []}}, {'id': '5705fd8475f01819005e7841', 'answers': {'text': ['Pacific Ocean', 'Pacific Ocean', 'Pacific Ocean'], 'answer_start': [222, 222, 222]}}, {'id': '5726431d271a42140099d7f9', 'answers': {'text': ['introduction of Beroe', 'accidental introduction of Beroe'], 'answer_start': [805, 794]}}, {'id': '5a8929e43b2508001a72a4de', 'answers': {'text': [], 'answer_start': []}}, {'id': '5706143575f01819005e7952', 'answers': {'text': ['MLB', 'MLB', 'MLB'], 'answer_start': [164, 164, 164]}}, {'id': '5ad570b25b96ef001a10aede', 'answers': {'text': [], 'answer_start': []}}, {'id': '5ad04f7977cf76001a686fbb', 'answers': {'text': [], 'answer_start': []}}, {'id': '5726545f708984140094c2a5', 'answers': {'text': ['different ministers of the member states', 'ministers', 'different ministers of the member states', 'different ministers of the member states'], 'answer_start': [70, 80, 70, 70]}}, {'id': '5733a2a9d058e614000b5f2b', 'answers': {'text': ['Polish and international artists', 'modern art by Polish and international artists', 'Polish and international artists a'], 'answer_start': [395, 381, 395]}}, {'id': '57337f6ad058e614000b5bce', 'answers': {'text': ['as better', 'thought of themselves as better', 'better'], 'answer_start': [715, 693, 718]}}, {'id': '5a892d303b2508001a72a4ee', 'answers': {'text': [], 'answer_start': []}}, {'id': '5ad40b9a604f3c001a40001a', 'answers': {'text': [], 'answer_start': []}}, {'id': '573368044776f41900660a29', 'answers': {'text': ['green', 'green', 'green'], 'answer_start': [6, 6, 6]}}, {'id': '5726f48df1498d1400e8f0de', 'answers': {'text': ['form business partnerships with physicians or give them \"kickback\" payments', 'form business partnerships with physicians', 'pharmacists cannot form business partnerships with physicians or give them \"kickback\" payments'], 'answer_start': [248, 248, 229]}}, {'id': '5a7b05cd21c2de001afe9cdc', 'answers': {'text': [], 'answer_start': []}}, {'id': '57265d08708984140094c398', 'answers': {'text': ['the crust and rigid uppermost portion of the upper mantle', 'crust and rigid uppermost portion of the upper mantle', 'crust and rigid uppermost portion of the upper mantle', 'crust and rigid uppermost portion of the upper mantle'], 'answer_start': [143, 147, 147, 147]}}, {'id': '5acff63377cf76001a68665d', 'answers': {'text': [], 'answer_start': []}}, {'id': '5ad0313b77cf76001a686dd5', 'answers': {'text': [], 'answer_start': []}}, {'id': '572f55e8a23a5019007fc56b', 'answers': {'text': ['Gaulish name Rēnos', 'Rēnos', 'the Gaulish name Rēnos', 'Rēnos', 'Rēnos'], 'answer_start': [88, 101, 84, 101, 101]}}, {'id': '5729fb003f37b31900478629', 'answers': {'text': ['hormones', 'hormones', 'hormones'], 'answer_start': [166, 166, 166]}}, {'id': '5725c95f38643c19005accf7', 'answers': {'text': ['5 million', '5 million', '5 million'], 'answer_start': [655, 655, 655]}}, {'id': '572fdd03a23a5019007fca9e', 'answers': {'text': ['domestic legislation of the Scottish Parliament', 'domestic legislation of the Scottish Parliament.', 'domestic legislation of the Scottish Parliament'], 'answer_start': [322, 322, 322]}}, {'id': '572facb0a23a5019007fc866', 'answers': {'text': ['the late 1960s', 'late 1960s', 'late 1960s'], 'answer_start': [454, 458, 458]}}, {'id': '5ad3b147604f3c001a3fecd6', 'answers': {'text': [], 'answer_start': []}}, {'id': '57339dd94776f41900660ecd', 'answers': {'text': ['thousands', 'thousands', 'thousands'], 'answer_start': [66, 66, 66]}}, {'id': '5a1c8aedb4fb5d00187146a2', 'answers': {'text': [], 'answer_start': []}}, {'id': '572a1046af94a219006aa78e', 'answers': {'text': ['by limiting aggregate demand', 'limiting aggregate demand', 'limiting aggregate demand'], 'answer_start': [128, 131, 131]}}, {'id': '5725f00938643c19005aced7', 'answers': {'text': ['M. Theo Kearney', 'M. Theo Kearney', 'M. Theo Kearney'], 'answer_start': [105, 105, 105]}}, {'id': '5711163bb654c5140001fb13', 'answers': {'text': ['Westchester', 'Westchester', 'Westchester'], 'answer_start': [39, 39, 39]}}, {'id': '5ad13ef3645df0001a2d138d', 'answers': {'text': [], 'answer_start': []}}, {'id': '5728e8212ca10214002daa6e', 'answers': {'text': [\"suspect's talking to criminal investigators\", \"responding to investigators' questions\", \"responding to investigators' questions\", 'grant a consent search of his property,', 'talking to criminal investigators', \"responding to investigators' questions\"], 'answer_start': [398, 565, 565, 200, 408, 565]}}, {'id': '5ad03c2977cf76001a686eb4', 'answers': {'text': [], 'answer_start': []}}, {'id': '57286bf84b864d19001649d2', 'answers': {'text': ['Lauren Oliver', 'Lauren Oliver', 'Lauren Oliver'], 'answer_start': [69, 69, 69]}}, {'id': '5ad10f94645df0001a2d0bc6', 'answers': {'text': [], 'answer_start': []}}, {'id': '572a20816aef0514001552e6', 'answers': {'text': ['force', 'force'], 'answer_start': [184, 184]}}, {'id': '57264684708984140094c124', 'answers': {'text': ['merchant ships.', 'merchant ships', 'Silk Road'], 'answer_start': [270, 270, 116]}}, {'id': '5a67dedd8476ee001a58a74d', 'answers': {'text': [], 'answer_start': []}}, {'id': '57265700dd62a815002e8212', 'answers': {'text': ['1720 in Marseille.', '1720', '1720'], 'answer_start': [674, 674, 674]}}, {'id': '5a835b42e60761001a2eb60d', 'answers': {'text': [], 'answer_start': []}}, {'id': '5a8235a931013a001a3352d8', 'answers': {'text': [], 'answer_start': []}}, {'id': '5ad2442bd7d075001a428a3c', 'answers': {'text': [], 'answer_start': []}}, {'id': '573408ef4776f41900661757', 'answers': {'text': ['signing of the Treaty of Paris on 10 February 1763', '10 February 1763', '10 February 1763', '10 February 1763', '10 February 1763'], 'answer_start': [51, 85, 85, 85, 85]}}, {'id': '5a2eb84ba83784001a7d2423', 'answers': {'text': [], 'answer_start': []}}, {'id': '5a234eef82b03a001a4aa76b', 'answers': {'text': [], 'answer_start': []}}, {'id': '5ad11097645df0001a2d0be2', 'answers': {'text': [], 'answer_start': []}}, {'id': '572a1a5c6aef051400155284', 'answers': {'text': ['special efforts', 'special efforts', 'special efforts'], 'answer_start': [243, 243, 243]}}, {'id': '5ad5719f5b96ef001a10aef0', 'answers': {'text': [], 'answer_start': []}}, {'id': '5a2c0a5abfd06b001a5ae993', 'answers': {'text': [], 'answer_start': []}}, {'id': '5a57f0ea770dc0001aeefee3', 'answers': {'text': [], 'answer_start': []}}, {'id': '5a81f28431013a001a334fb5', 'answers': {'text': [], 'answer_start': []}}, {'id': '5ad3a38c604f3c001a3fea63', 'answers': {'text': [], 'answer_start': []}}, {'id': '5ad3ad01604f3c001a3febd3', 'answers': {'text': [], 'answer_start': []}}, {'id': '57108073b654c5140001f927', 'answers': {'text': ['between 1621 and 1629', 'between 1621 and 1629', 'between 1621 and 1629'], 'answer_start': [205, 205, 205]}}, {'id': '571caac55efbb31900334dc9', 'answers': {'text': ['few drops', 'a few drops', 'a few drops', 'a few drops', 'Only a few drops'], 'answer_start': [594, 592, 592, 592, 587]}}, {'id': '57296f293f37b319004783a6', 'answers': {'text': ['the AKS primality test', 'AKS primality test', 'AKS primality test', 'AKS primality test', 'AKS primality test'], 'answer_start': [448, 452, 452, 452, 452]}}, {'id': '5ad509615b96ef001a10aa7c', 'answers': {'text': [], 'answer_start': []}}, {'id': '5729d51d3f37b3190047858f', 'answers': {'text': ['differences in value added by labor, capital and land', 'differences in value added by labor, capital and land', 'differences in value added by labor, capital and land'], 'answer_start': [88, 88, 88]}}, {'id': '5ad400f0604f3c001a3ffcf3', 'answers': {'text': [], 'answer_start': []}}, {'id': '5a7b12a421c2de001afe9d51', 'answers': {'text': [], 'answer_start': []}}, {'id': '571c9074dd7acb1400e4c103', 'answers': {'text': ['protective radiation shield', 'protective radiation shield', 'protective radiation shield', 'radiation shield', 'a protective radiation shield'], 'answer_start': [375, 375, 375, 386, 373]}}, {'id': '571cd11add7acb1400e4c170', 'answers': {'text': ['performance', 'performance', 'performance', 'performance', 'a \"boost\" in performance'], 'answer_start': [406, 406, 406, 406, 393]}}, {'id': '570d2f5bfed7b91900d45cd3', 'answers': {'text': ['Victoria Constitution Act 1855', 'the Victoria Constitution Act 1855', 'Victoria Constitution Act 185'], 'answer_start': [145, 141, 145]}}, {'id': '57300c67947a6a140053cff2', 'answers': {'text': ['1,320 kilometres (820 miles)', '1,320 kilometres', '1,320 kilometres'], 'answer_start': [156, 156, 156]}}, {'id': '5ad14f5a645df0001a2d1710', 'answers': {'text': [], 'answer_start': []}}, {'id': '5a6647d2c2b11c001a425f1e', 'answers': {'text': [], 'answer_start': []}}, {'id': '5725c337271a42140099d167', 'answers': {'text': ['groups of large, stiffened cilia', 'stiffened cilia', 'stiffened cilia'], 'answer_start': [896, 913, 913]}}, {'id': '5ad4e4425b96ef001a10a575', 'answers': {'text': [], 'answer_start': []}}, {'id': '5ad3b260604f3c001a3fed06', 'answers': {'text': [], 'answer_start': []}}, {'id': '572fd6aa04bcaa1900d76da0', 'answers': {'text': ['May', 'May', 'May'], 'answer_start': [118, 971, 118]}}, {'id': '573755afc3c5551400e51eb3', 'answers': {'text': ['center of mass', 'center of mass', 'the center of mass', 'the center of mass', 'the center of mass'], 'answer_start': [421, 421, 417, 417, 417]}}, {'id': '572ffce5a23a5019007fcc18', 'answers': {'text': ['northwest', 'northwest', 'northwest'], 'answer_start': [326, 326, 326]}}, {'id': '5ad3cc47604f3c001a3ff146', 'answers': {'text': [], 'answer_start': []}}, {'id': '5a67a898f038b7001ab0c3f5', 'answers': {'text': [], 'answer_start': []}}, {'id': '5ad23fded7d075001a4288fd', 'answers': {'text': [], 'answer_start': []}}, {'id': '571a4b0f10f8ca1400304fd7', 'answers': {'text': ['nitroaereus', 'nitroaereus', 'nitroaereus', 'nitroaereus'], 'answer_start': [485, 485, 485, 485]}}, {'id': '5a893a003b2508001a72a53f', 'answers': {'text': [], 'answer_start': []}}, {'id': '5ad546c75b96ef001a10ac11', 'answers': {'text': [], 'answer_start': []}}, {'id': '573011de04bcaa1900d770fc', 'answers': {'text': ['Fringe or splinter', 'Fringe or splinter movements', 'Fringe'], 'answer_start': [235, 235, 235]}}, {'id': '5729a26d6aef05140015505c', 'answers': {'text': ['the absolute value', 'the absolute value', 'absolute value', 'the absolute value'], 'answer_start': [223, 223, 227, 223]}}, {'id': '5ad15170645df0001a2d1735', 'answers': {'text': [], 'answer_start': []}}, {'id': '5ad26235d7d075001a429082', 'answers': {'text': [], 'answer_start': []}}, {'id': '5acf98ad77cf76001a6853c6', 'answers': {'text': [], 'answer_start': []}}, {'id': '5ad28173d7d075001a4297fd', 'answers': {'text': [], 'answer_start': []}}, {'id': '5ad24600d7d075001a428aca', 'answers': {'text': [], 'answer_start': []}}, {'id': '5ad4d2855b96ef001a10a1de', 'answers': {'text': [], 'answer_start': []}}, {'id': '5725f2c838643c19005aceee', 'answers': {'text': ['300 acres', '300', '300'], 'answer_start': [454, 454, 454]}}, {'id': '5a6695e8f038b7001ab0c01a', 'answers': {'text': [], 'answer_start': []}}, {'id': '5727e21e4b864d1900163f36', 'answers': {'text': ['Stephen Greenblatt', 'Stephen Greenblatt', 'Stephen Greenblatt'], 'answer_start': [290, 290, 290]}}, {'id': '572745c6708984140094db9a', 'answers': {'text': ['plan the physical proceedings, and to integrate those proceedings with the other parts', 'plan the physical proceedings, and to integrate those proceedings with the other parts', 'plan the physical proceedings, and to integrate those proceedings with the other parts'], 'answer_start': [148, 148, 148]}}, {'id': '572fec30947a6a140053cdf3', 'answers': {'text': ['Rhine knee', 'Rhine knee', 'Rhine knee'], 'answer_start': [90, 90, 90]}}, {'id': '5710e8c8a58dae1900cd6b2a', 'answers': {'text': ['1702 and 1709', '1702 and 1709', '1702 and 1709'], 'answer_start': [699, 699, 699]}}, {'id': '572fbf21a23a5019007fc93b', 'answers': {'text': ['a glass case suspended from the lid', 'glass case', 'a glass case'], 'answer_start': [608, 610, 608]}}, {'id': '572665ff708984140094c4c5', 'answers': {'text': ['the key bed', 'key bed', 'key bed'], 'answer_start': [401, 405, 405]}}, {'id': '5a75066297ca42001a521ded', 'answers': {'text': [], 'answer_start': []}}, {'id': '5705e63175f01819005e7720', 'answers': {'text': ['California', 'California', 'California'], 'answer_start': [16, 16, 16]}}, {'id': '5a2eb95ca83784001a7d242c', 'answers': {'text': [], 'answer_start': []}}, {'id': '57299ec43f37b3190047850f', 'answers': {'text': ['algebraic number theory', 'algebraic', 'algebraic', 'algebraic'], 'answer_start': [276, 276, 276, 276]}}, {'id': '5a823e6f31013a001a335330', 'answers': {'text': [], 'answer_start': []}}, {'id': '5ad40219604f3c001a3ffd47', 'answers': {'text': [], 'answer_start': []}}, {'id': '572991943f37b319004784a3', 'answers': {'text': [\"Polignac's conjecture\", \"Polignac's\", \"Polignac's conjecture\", \"Polignac's\"], 'answer_start': [197, 197, 197, 197]}}, {'id': '57308ddc396df919000961a4', 'answers': {'text': ['the British Empire', 'Terra nullius', 'the British Empire', 'British Empire', 'British'], 'answer_start': [87, 247, 87, 91, 91]}}, {'id': '57106185b654c5140001f8dc', 'answers': {'text': ['Besançon Hugues', 'Besançon Hugues', 'Besançon Hugues'], 'answer_start': [177, 177, 177]}}, {'id': '5726241189a1e219009ac2df', 'answers': {'text': ['automobiles', 'automobiles', 'automobiles', 'automobiles', 'automobiles'], 'answer_start': [237, 237, 237, 237, 237]}}, {'id': '5737a25ac3c5551400e51f51', 'answers': {'text': ['stress tensor', 'stress tensor', 'deformations', 'The stress tensor'], 'answer_start': [376, 376, 434, 372]}}, {'id': '5a8398bbe60761001a2eb805', 'answers': {'text': [], 'answer_start': []}}, {'id': '5ad11288645df0001a2d0c34', 'answers': {'text': [], 'answer_start': []}}, {'id': '5ad0383677cf76001a686e39', 'answers': {'text': [], 'answer_start': []}}, {'id': '572fe41e04bcaa1900d76e4c', 'answers': {'text': ['86 km', '86 km', '86 km long', '86 km', '86 km'], 'answer_start': [172, 172, 172, 172, 172]}}, {'id': '57376a1bc3c5551400e51ec4', 'answers': {'text': ['magnitude and direction', 'magnitude and direction', 'magnitude and direction', 'magnitude and direction', 'magnitude and direction'], 'answer_start': [248, 248, 248, 248, 248]}}, {'id': '5726a3c6f1498d1400e8e5b2', 'answers': {'text': ['40', '40', '40'], 'answer_start': [784, 784, 784]}}, {'id': '5a0c807ff5590b0018dab452', 'answers': {'text': [], 'answer_start': []}}, {'id': '5ad14966645df0001a2d1582', 'answers': {'text': [], 'answer_start': []}}, {'id': '5a665870846392001a1e1af6', 'answers': {'text': [], 'answer_start': []}}, {'id': '5a668d25f038b7001ab0bfb0', 'answers': {'text': [], 'answer_start': []}}, {'id': '5728eff82ca10214002daade', 'answers': {'text': ['neuroimmune system', 'neuroimmune', 'neuroimmune', 'neuroimmune system'], 'answer_start': [655, 655, 655, 655]}}, {'id': '573027d6a23a5019007fcea1', 'answers': {'text': ['American attack on Iraq', 'the American attack on Iraq', 'American attack on Iraq'], 'answer_start': [598, 594, 598]}}, {'id': '572648ed5951b619008f6f07', 'answers': {'text': ['1349', '1349', '1349'], 'answer_start': [225, 225, 225]}}, {'id': '57281bb84b864d190016449c', 'answers': {'text': ['annexing outlying communities', 'annexing outlying communities', 'annexing outlying communities'], 'answer_start': [345, 345, 345]}}, {'id': '5ad3fc1f604f3c001a3ffb7c', 'answers': {'text': [], 'answer_start': []}}, {'id': '5728eb1a3acd2414000e01c5', 'answers': {'text': ['accept punishment', 'accept punishment', 'punishment', 'punishment', 'punishment'], 'answer_start': [58, 58, 65, 65, 65]}}, {'id': '5ad404a6604f3c001a3ffde3', 'answers': {'text': [], 'answer_start': []}}, {'id': '5a2c16e3bfd06b001a5ae9e8', 'answers': {'text': [], 'answer_start': []}}, {'id': '572fb42904bcaa1900d76c15', 'answers': {'text': ['one MSP', 'MSP', 'MSP'], 'answer_start': [114, 118, 118]}}, {'id': '5726b58f5951b619008f7b58', 'answers': {'text': ['free trade', 'free trade', 'free trade'], 'answer_start': [1975, 1975, 1975]}}, {'id': '5ad14573645df0001a2d14b2', 'answers': {'text': [], 'answer_start': []}}, {'id': '57273a465951b619008f86ff', 'answers': {'text': ['Construction', 'Construction', 'Construction'], 'answer_start': [0, 0, 0]}}, {'id': '5ad2605dd7d075001a428fc7', 'answers': {'text': [], 'answer_start': []}}, {'id': '571ce6655efbb31900334e34', 'answers': {'text': ['at elevated partial pressures', 'elevated partial pressures', 'at elevated partial pressures', 'at elevated partial pressures', 'elevated partial pressures'], 'answer_start': [30, 33, 30, 30, 33]}}, {'id': '572940973f37b319004781a8', 'answers': {'text': ['\"Variations of Snow and Ice in the past and at present on a Global and Regional Scale\"', 'the IPCC from the WWF report', 'the WWF report'], 'answer_start': [433, 352, 366]}}, {'id': '56e16839cd28a01900c67888', 'answers': {'text': ['mathematical models of computation', 'mathematical models of computation', 'mathematical models of computation'], 'answer_start': [176, 176, 176]}}, {'id': '5733266d4776f41900660713', 'answers': {'text': ['1569', '1569', '1569'], 'answer_start': [87, 87, 87]}}, {'id': '5a8221dc31013a001a335231', 'answers': {'text': [], 'answer_start': []}}, {'id': '5ad25963d7d075001a428e0c', 'answers': {'text': [], 'answer_start': []}}, {'id': '57265c10f1498d1400e8dd39', 'answers': {'text': ['water disturbances created by the cilia', 'water disturbances created by the cilia', 'water disturbances created by the cilia'], 'answer_start': [701, 701, 701]}}, {'id': '5ad24f27d7d075001a428c88', 'answers': {'text': [], 'answer_start': []}}, {'id': '5ad4d9be5b96ef001a10a3b0', 'answers': {'text': [], 'answer_start': []}}, {'id': '5a836496e60761001a2eb65b', 'answers': {'text': [], 'answer_start': []}}, {'id': '5a592b593e1742001a15cfce', 'answers': {'text': [], 'answer_start': []}}, {'id': '57378862c3c5551400e51f22', 'answers': {'text': ['Henry Cavendish', 'Henry Cavendish', 'Henry Cavendish', 'Henry Cavendish'], 'answer_start': [245, 245, 245, 245]}}, {'id': '571090abb654c5140001f996', 'answers': {'text': ['The Weavers', 'The Weavers', 'The Weavers'], 'answer_start': [191, 191, 191]}}, {'id': '5a592e733e1742001a15cff7', 'answers': {'text': [], 'answer_start': []}}, {'id': '5ad418fb604f3c001a400433', 'answers': {'text': [], 'answer_start': []}}, {'id': '5ad4ea425b96ef001a10a62a', 'answers': {'text': [], 'answer_start': []}}, {'id': '57268e2bf1498d1400e8e3b1', 'answers': {'text': ['1992', '1992', '1992', '1992'], 'answer_start': [237, 237, 237, 237]}}, {'id': '5728d7c54b864d1900164f4d', 'answers': {'text': ['voluminous literature', 'voluminous', 'voluminous', 'voluminous'], 'answer_start': [150, 150, 150, 150]}}, {'id': '5a6ce55e4eec6b001a80a693', 'answers': {'text': [], 'answer_start': []}}, {'id': '572a019f3f37b31900478643', 'answers': {'text': ['enzymes', 'enzymes', 'enzymes'], 'answer_start': [291, 291, 291]}}, {'id': '572663a9f1498d1400e8ddf2', 'answers': {'text': ['second scale shows the most recent eon with an expanded scale', 'compresses the most recent era', 'compresses the most recent era'], 'answer_start': [195, 275, 275]}}, {'id': '5a3e42de378766001a00252b', 'answers': {'text': [], 'answer_start': []}}, {'id': '5ad3b9cd604f3c001a3fee89', 'answers': {'text': [], 'answer_start': []}}, {'id': '572648ed5951b619008f6f03', 'answers': {'text': ['northwest across Europe', 'northwest', 'northwest'], 'answer_start': [31, 31, 31]}}, {'id': '5ad25dd3d7d075001a428f03', 'answers': {'text': [], 'answer_start': []}}, {'id': '57286010ff5b5019007da1cc', 'answers': {'text': ['Miller–Urey experiment', 'Miller–Urey experiment', 'Chicago Pile-1'], 'answer_start': [872, 872, 537]}}, {'id': '5a7b3f0f21c2de001afe9e03', 'answers': {'text': [], 'answer_start': []}}, {'id': '5ad4d55f5b96ef001a10a277', 'answers': {'text': [], 'answer_start': []}}, {'id': '56de1563cffd8e1900b4b5c3', 'answers': {'text': ['Dyrrachium', 'Dyrrachium', 'Dyrrachium'], 'answer_start': [125, 205, 205]}}, {'id': '572ff83ab2c2fd1400568683', 'answers': {'text': ['Merwede-Oude Maas', 'Merwede-Oude Maas', 'North Sea'], 'answer_start': [85, 85, 110]}}, {'id': '571cca4add7acb1400e4c154', 'answers': {'text': ['3–2.7 billion years ago', '3–2.7 billion years ago', '3–2.7 billion years ago', '3–2.7 billion years ago', '3–2.7 billion years ago'], 'answer_start': [510, 510, 510, 510, 510]}}, {'id': '5a669d5cf038b7001ab0c05e', 'answers': {'text': [], 'answer_start': []}}, {'id': '572881704b864d1900164a50', 'answers': {'text': ['four', 'Four', 'Four'], 'answer_start': [117, 47, 47]}}, {'id': '5ad2b1e1d7d075001a429f6c', 'answers': {'text': [], 'answer_start': []}}, {'id': '5ad265d2d7d075001a4291c9', 'answers': {'text': [], 'answer_start': []}}, {'id': '5a2ed246a83784001a7d24e3', 'answers': {'text': [], 'answer_start': []}}, {'id': '57266c015951b619008f7238', 'answers': {'text': ['stratigraphic correlation', 'stratigraphic', 'stratigraphic', 'stratigraphic'], 'answer_start': [311, 311, 311, 311]}}, {'id': '572941273f37b319004781ae', 'answers': {'text': ['making it seem like climate change is more serious by overstating the impact', 'the direction of making it seem like climate change is more serious', 'making it seem like climate change is more serious by overstating the impact'], 'answer_start': [102, 85, 102]}}, {'id': '5ad50c9f5b96ef001a10aae1', 'answers': {'text': [], 'answer_start': []}}, {'id': '5729517d6aef051400154cc9', 'answers': {'text': ['significant new evidence or events that change our understanding of climate science', 'significant new evidence or events that change our understanding', 'significant new evidence or events that change our understanding of climate science'], 'answer_start': [311, 311, 311]}}, {'id': '572659535951b619008f703f', 'answers': {'text': ['A decade after the 1973', '1981', '1981', 'A decade after the 1973 oil crisis', '1981'], 'answer_start': [413, 491, 491, 413, 491]}}, {'id': '57115b8b50c2381900b54a8b', 'answers': {'text': ['1802', '1802', '1802', '1802'], 'answer_start': [170, 170, 170, 170]}}, {'id': '57287f6a3acd2414000dfa52', 'answers': {'text': ['painting, poetry, and calligraphy', 'painting, poetry, and calligraphy', 'painting, poetry, and calligraphy'], 'answer_start': [294, 294, 294]}}, {'id': '5a8919843b2508001a72a4c0', 'answers': {'text': [], 'answer_start': []}}, {'id': '5ad4cc135b96ef001a10a0f6', 'answers': {'text': [], 'answer_start': []}}, {'id': '572885c44b864d1900164a78', 'answers': {'text': ['The Central Region', 'Central Region', 'Central'], 'answer_start': [0, 4, 4]}}, {'id': '5a7b11bb21c2de001afe9d48', 'answers': {'text': [], 'answer_start': []}}, {'id': '5ad3b781604f3c001a3fee27', 'answers': {'text': [], 'answer_start': []}}, {'id': '5ad53e615b96ef001a10abdb', 'answers': {'text': [], 'answer_start': []}}, {'id': '572f5703a23a5019007fc575', 'answers': {'text': ['Rhine Valley', 'Rhine Valley', 'Rhine Valley', 'Rhine Valley', 'Rhine Valley'], 'answer_start': [289, 289, 289, 289, 289]}}, {'id': '5a89473c3b2508001a72a59b', 'answers': {'text': [], 'answer_start': []}}, {'id': '5ad25e99d7d075001a428f31', 'answers': {'text': [], 'answer_start': []}}, {'id': '5728742cff5b5019007da246', 'answers': {'text': ['James Henry Breasted', 'James Henry Breasted', 'James Henry Breasted'], 'answer_start': [45, 45, 45]}}, {'id': '56e1febfe3433e1400423236', 'answers': {'text': ['Presburger arithmetic', 'Presburger', 'Presburger arithmetic'], 'answer_start': [219, 219, 219]}}, {'id': '5726f2375951b619008f830f', 'answers': {'text': ['pharmacy practice science and applied information science', 'pharmacy practice science and applied information science', 'pharmacy practice science and applied information science'], 'answer_start': [43, 43, 43]}}, {'id': '5705f09e75f01819005e77a7', 'answers': {'text': ['75', '75%', '75'], 'answer_start': [470, 470, 470]}}, {'id': '5ad55ee35b96ef001a10ace4', 'answers': {'text': [], 'answer_start': []}}, {'id': '5a669a2cf038b7001ab0c046', 'answers': {'text': [], 'answer_start': []}}, {'id': '5ad2b1e1d7d075001a429f6a', 'answers': {'text': [], 'answer_start': []}}, {'id': '56de0ffd4396321400ee258d', 'answers': {'text': ['1050s', 'in the 1050s', 'in the 1050s'], 'answer_start': [85, 78, 78]}}, {'id': '5ad53e615b96ef001a10abdc', 'answers': {'text': [], 'answer_start': []}}, {'id': '5a668632f038b7001ab0bf47', 'answers': {'text': [], 'answer_start': []}}, {'id': '5ad2424cd7d075001a42898c', 'answers': {'text': [], 'answer_start': []}}, {'id': '5ad4f4d95b96ef001a10a794', 'answers': {'text': [], 'answer_start': []}}, {'id': '572fffb404bcaa1900d76fef', 'answers': {'text': ['22,000 years ago', '22,000 years ago', '22,000 years ago'], 'answer_start': [49, 49, 49]}}, {'id': '5a7b33b821c2de001afe9dbd', 'answers': {'text': [], 'answer_start': []}}, {'id': '5a6ce55e4eec6b001a80a691', 'answers': {'text': [], 'answer_start': []}}, {'id': '572881d34b864d1900164a5c', 'answers': {'text': ['1263', '1263', '1263'], 'answer_start': [241, 241, 241]}}, {'id': '5ad3cc47604f3c001a3ff147', 'answers': {'text': [], 'answer_start': []}}, {'id': '571127a5a58dae1900cd6cc8', 'answers': {'text': ['south', 'south', 'south'], 'answer_start': [322, 322, 322]}}, {'id': '5ad4fe635b96ef001a10a8b8', 'answers': {'text': [], 'answer_start': []}}, {'id': '5a1c539bb4fb5d00187145fb', 'answers': {'text': [], 'answer_start': []}}, {'id': '5ad2461ad7d075001a428ad2', 'answers': {'text': [], 'answer_start': []}}, {'id': '5ad5648b5b96ef001a10ad95', 'answers': {'text': [], 'answer_start': []}}, {'id': '5a3e3de4378766001a002514', 'answers': {'text': [], 'answer_start': []}}, {'id': '5725d34089a1e219009abf50', 'answers': {'text': ['Paul Baran developed the concept Distributed Adaptive Message Block Switching', 'the concept Distributed Adaptive Message Block Switching', 'Distributed Adaptive Message Block Switching'], 'answer_start': [56, 77, 89]}}, {'id': '5725cb33271a42140099d1df', 'answers': {'text': ['colloblasts', 'colloblasts', 'colloblasts'], 'answer_start': [456, 456, 456]}}, {'id': '57094a79efce8f15003a7dc6', 'answers': {'text': ['Sky', 'Sky', 'Sky'], 'answer_start': [370, 370, 370]}}, {'id': '5a822bc531013a001a335281', 'answers': {'text': [], 'answer_start': []}}, {'id': '57265700dd62a815002e8211', 'answers': {'text': ['Sweden v. Russia and allies', 'Sweden v. Russia and allies', 'Sweden v. Russia and allies'], 'answer_start': [440, 440, 440]}}, {'id': '5733e5a14776f4190066145d', 'answers': {'text': ['Christopher Gist', 'Christopher Gist', 'Christopher Gist', 'Christopher Gist', 'Christopher Gist'], 'answer_start': [393, 393, 393, 393, 393]}}, {'id': '5ad039be77cf76001a686e60', 'answers': {'text': [], 'answer_start': []}}, {'id': '5a6ce6164eec6b001a80a69c', 'answers': {'text': [], 'answer_start': []}}, {'id': '5730131c947a6a140053d056', 'answers': {'text': ['political figures', 'political figures', 'political figures'], 'answer_start': [782, 782, 782]}}, {'id': '572fff45947a6a140053cf2a', 'answers': {'text': ['loess', 'loess', 'loess'], 'answer_start': [436, 436, 436]}}, {'id': '5ad3bd30604f3c001a3fef11', 'answers': {'text': [], 'answer_start': []}}, {'id': '5a3e3de4378766001a002513', 'answers': {'text': [], 'answer_start': []}}, {'id': '57115c7450c2381900b54aa0', 'answers': {'text': ['wet', 'wet', 'wet'], 'answer_start': [476, 476, 476]}}, {'id': '5ad3cd43604f3c001a3ff186', 'answers': {'text': [], 'answer_start': []}}, {'id': '5727dc473acd2414000dee44', 'answers': {'text': ['Malkin Athletic Center', 'Malkin Athletic Center', 'Malkin Athletic Center'], 'answer_start': [140, 140, 140]}}, {'id': '57268f2bf1498d1400e8e3c7', 'answers': {'text': ['the Lisbon Treaty', 'the Lisbon Treaty', 'the Lisbon Treaty', 'the Lisbon Treaty'], 'answer_start': [372, 372, 372, 372]}}, {'id': '572647d0708984140094c14c', 'answers': {'text': ['diploblastic', 'ctenophores', 'diploblastic'], 'answer_start': [337, 29, 337]}}, {'id': '5727db85ff5b5019007d96fc', 'answers': {'text': ['1875', '1875', '1875'], 'answer_start': [164, 164, 164]}}, {'id': '5acff5b077cf76001a68662a', 'answers': {'text': [], 'answer_start': []}}, {'id': '5ad4c94f5b96ef001a10a09c', 'answers': {'text': [], 'answer_start': []}}, {'id': '5733140a4776f419006606e2', 'answers': {'text': ['1596', '1596', '1596'], 'answer_start': [390, 390, 390]}}, {'id': '573368e54776f41900660a55', 'answers': {'text': ['Masovian Primeval Forest', 'Masovian Primeval Forest', 'Masovian Primeval Forest'], 'answer_start': [416, 416, 416]}}, {'id': '5727cebc2ca10214002d96f3', 'answers': {'text': ['1875', '1875', '1875'], 'answer_start': [309, 309, 309]}}, {'id': '5729f4b41d0469140077968c', 'answers': {'text': ['around 200–300', 'around 200–300', 'around 200–300'], 'answer_start': [416, 416, 416]}}, {'id': '57308cf88ab72b1400f9c576', 'answers': {'text': ['environmental determinism', 'environmental determinism', 'environmental determinism', 'environmental determinism', 'environmental determinism'], 'answer_start': [30, 30, 30, 30, 30]}}, {'id': '5a2c14b4bfd06b001a5ae9d4', 'answers': {'text': [], 'answer_start': []}}, {'id': '5705f09e75f01819005e77a6', 'answers': {'text': ['three', 'three', 'three'], 'answer_start': [179, 179, 179]}}, {'id': '5ad3d689604f3c001a3ff311', 'answers': {'text': [], 'answer_start': []}}, {'id': '5ad0301577cf76001a686db6', 'answers': {'text': [], 'answer_start': []}}, {'id': '5ad5036c5b96ef001a10a984', 'answers': {'text': [], 'answer_start': []}}, {'id': '5ad400b0604f3c001a3ffcdf', 'answers': {'text': [], 'answer_start': []}}, {'id': '5a2ed0a0a83784001a7d24d1', 'answers': {'text': [], 'answer_start': []}}, {'id': '57281d494b864d19001644c1', 'answers': {'text': ['public high schools lost their accreditation', 'high schools lost their accreditation', 'public high schools lost their accreditation'], 'answer_start': [570, 577, 570]}}, {'id': '572671a5f1498d1400e8dfe4', 'answers': {'text': ['Extension', 'Extension', 'Extension'], 'answer_start': [0, 0, 0]}}, {'id': '572824f13acd2414000df58f', 'answers': {'text': ['Hurricane Dora', 'Hurricane Dora', 'Hurricane Dora'], 'answer_start': [534, 534, 534]}}, {'id': '57299326af94a219006aa516', 'answers': {'text': ['G. H. Hardy', 'G. H. Hardy', 'G. H. Hardy', 'G. H. Hardy'], 'answer_start': [360, 360, 360, 360]}}, {'id': '573060b48ab72b1400f9c4c9', 'answers': {'text': ['Japan', 'Japan', 'Japanese', 'Japanese', 'Japan'], 'answer_start': [450, 450, 450, 450, 450]}}, {'id': '5a6391c268151a001a92238d', 'answers': {'text': [], 'answer_start': []}}, {'id': '5a38aa28a4b263001a8c1881', 'answers': {'text': [], 'answer_start': []}}, {'id': '5ad3a21d604f3c001a3fea21', 'answers': {'text': [], 'answer_start': []}}, {'id': '572649d8f1498d1400e8db36', 'answers': {'text': ['UK', 'UK', 'UK', 'the UK', 'UK'], 'answer_start': [56, 56, 56, 52, 56]}}, {'id': '572a1a5c6aef051400155285', 'answers': {'text': ['existing level of inequality', 'existing level of inequality', 'existing level of inequality'], 'answer_start': [459, 459, 459]}}, {'id': '5a63981168151a001a9223b7', 'answers': {'text': [], 'answer_start': []}}, {'id': '5727d3843acd2414000ded69', 'answers': {'text': ['core curriculum of seven classes', 'seven', 'seven'], 'answer_start': [232, 251, 251]}}, {'id': '5ad3c57a604f3c001a3feff4', 'answers': {'text': [], 'answer_start': []}}, {'id': '5ad27e30d7d075001a429703', 'answers': {'text': [], 'answer_start': []}}, {'id': '5a2c3a5cbfd06b001a5aea7b', 'answers': {'text': [], 'answer_start': []}}, {'id': '5728f9882ca10214002dab5b', 'answers': {'text': ['innate immune system', 'innate immune system', 'The innate immune'], 'answer_start': [656, 656, 652]}}, {'id': '571cd88ddd7acb1400e4c18f', 'answers': {'text': ['exothermic', 'exothermic', 'exothermic', 'exothermic', 'exothermic reaction'], 'answer_start': [595, 595, 595, 595, 595]}}, {'id': '5a6cb7ce4eec6b001a80a639', 'answers': {'text': [], 'answer_start': []}}, {'id': '5a666b43846392001a1e1c0f', 'answers': {'text': [], 'answer_start': []}}, {'id': '572684365951b619008f7540', 'answers': {'text': ['among the plankton', 'among the plankton', 'among the plankton'], 'answer_start': [462, 462, 462]}}, {'id': '5a7b3b3121c2de001afe9df1', 'answers': {'text': [], 'answer_start': []}}, {'id': '5a551328134fea001a0e18d8', 'answers': {'text': [], 'answer_start': []}}, {'id': '5a60556eeae51e001ab14d17', 'answers': {'text': [], 'answer_start': []}}, {'id': '57107932a58dae1900cd69cc', 'answers': {'text': [\"L'Église française à la Nouvelle-Amsterdam\", \"L'Église française à la Nouvelle-Amsterdam\", \"L'Église française à la Nouvelle-Amsterdam (the French church in New Amsterdam)\"], 'answer_start': [482, 482, 482]}}, {'id': '570d32e4fed7b91900d45d02', 'answers': {'text': ['Victoria Department of Education', 'the Victoria Department of Education', 'Victoria Department of Education'], 'answer_start': [153, 149, 153]}}, {'id': '5728455bff5b5019007da07b', 'answers': {'text': ['132 million tons', '132 million tons', '132 million tons'], 'answer_start': [441, 441, 441]}}, {'id': '5acfe91c77cf76001a686438', 'answers': {'text': [], 'answer_start': []}}, {'id': '57268a37f1498d1400e8e340', 'answers': {'text': ['ctenophores,', 'ctenophores', 'ctenophores'], 'answer_start': [682, 682, 682]}}, {'id': '572650325951b619008f6faa', 'answers': {'text': ['market and technology realities', 'market and technology realities', 'market and technology realities', 'market and technology realities', 'market and technology realities'], 'answer_start': [290, 290, 290, 290, 290]}}, {'id': '572867543acd2414000df9a2', 'answers': {'text': ['seven', 'seven', 'seven'], 'answer_start': [35, 35, 35]}}, {'id': '5a668b1df038b7001ab0bf88', 'answers': {'text': [], 'answer_start': []}}, {'id': '572fce13a23a5019007fca14', 'answers': {'text': ['in the relevant committee or committees', 'committee', 'the whole Parliament'], 'answer_start': [571, 587, 636]}}, {'id': '5ad29d35d7d075001a429c12', 'answers': {'text': [], 'answer_start': []}}, {'id': '572a05eb3f37b31900478656', 'answers': {'text': ['Unemployment', 'Unemployment', 'Unemployment'], 'answer_start': [318, 318, 318]}}, {'id': '5728683b3acd2414000df9b2', 'answers': {'text': ['Kuviasungnerk/Kangeiko', 'Kuviasungnerk/Kangeiko', 'Kuviasungnerk/Kangeiko'], 'answer_start': [382, 382, 382]}}, {'id': '5a7b456121c2de001afe9e2c', 'answers': {'text': [], 'answer_start': []}}, {'id': '57097b50200fba140036804e', 'answers': {'text': ['25m', '25m people', '36% of households'], 'answer_start': [287, 287, 222]}}, {'id': '5737a4511c456719005744df', 'answers': {'text': ['rotational equivalent for position', 'rotation', 'rotational inertia', 'angle is the rotational equivalent for position'], 'answer_start': [77, 14, 242, 64]}}, {'id': '5ad3a342604f3c001a3fea5b', 'answers': {'text': [], 'answer_start': []}}, {'id': '57107932a58dae1900cd69ce', 'answers': {'text': ['Brooklyn', 'Brooklyn', 'Brooklyn'], 'answer_start': [954, 954, 954]}}, {'id': '57264fe65951b619008f6fa1', 'answers': {'text': ['confirmed and amended', 'confirmed and amended', 'confirmed and amended'], 'answer_start': [49, 49, 49]}}, {'id': '5a25f133c93d92001a400351', 'answers': {'text': [], 'answer_start': []}}, {'id': '572f55e8a23a5019007fc56c', 'answers': {'text': ['Rhin', 'Rhin', 'Rhin', 'Rhin', 'Rhin'], 'answer_start': [290, 290, 290, 290, 290]}}, {'id': '5a6790dbf038b7001ab0c2d1', 'answers': {'text': [], 'answer_start': []}}, {'id': '5ad40397604f3c001a3ffd86', 'answers': {'text': [], 'answer_start': []}}, {'id': '5ad25a8bd7d075001a428e32', 'answers': {'text': [], 'answer_start': []}}, {'id': '5726ea985951b619008f8261', 'answers': {'text': ['medication regimen review', 'medication regimen review', 'medication regimen review'], 'answer_start': [45, 45, 45]}}, {'id': '5ad24600d7d075001a428ac9', 'answers': {'text': [], 'answer_start': []}}, {'id': '5a6799adf038b7001ab0c31e', 'answers': {'text': [], 'answer_start': []}}, {'id': '5ad561c85b96ef001a10ad3c', 'answers': {'text': [], 'answer_start': []}}, {'id': '5a3e2f07378766001a0024ce', 'answers': {'text': [], 'answer_start': []}}, {'id': '5a6790dbf038b7001ab0c2d2', 'answers': {'text': [], 'answer_start': []}}, {'id': '5a668d25f038b7001ab0bfac', 'answers': {'text': [], 'answer_start': []}}, {'id': '5ad14a28645df0001a2d15a2', 'answers': {'text': [], 'answer_start': []}}, {'id': '5a89117e19b91f001a626f2e', 'answers': {'text': [], 'answer_start': []}}, {'id': '5ad25f35d7d075001a428f6a', 'answers': {'text': [], 'answer_start': []}}, {'id': '5ad4f4d95b96ef001a10a793', 'answers': {'text': [], 'answer_start': []}}, {'id': '57338255d058e614000b5c0d', 'answers': {'text': ['President', 'President', 'President'], 'answer_start': [30, 30, 30]}}, {'id': '56e1ec83cd28a01900c67c0c', 'answers': {'text': ['modern cryptographic systems', 'modern cryptographic systems', 'RSA algorithm'], 'answer_start': [323, 323, 365]}}, {'id': '5a6381d868151a001a922322', 'answers': {'text': [], 'answer_start': []}}, {'id': '5a836273e60761001a2eb643', 'answers': {'text': [], 'answer_start': []}}, {'id': '5729a03f1d04691400779595', 'answers': {'text': ['ring of integers of quadratic number fields', 'integers of quadratic number fields', 'integers of quadratic number fields', 'the ring of integers of quadratic number fields'], 'answer_start': [538, 546, 546, 534]}}, {'id': '5a550e6f134fea001a0e187e', 'answers': {'text': [], 'answer_start': []}}, {'id': '572750e8dd62a815002e9af3', 'answers': {'text': ['things that are a matter of custom or expectation', 'things that are a matter of custom or expectation', 'things that are a matter of custom or expectation'], 'answer_start': [372, 372, 372]}}, {'id': '5a8919843b2508001a72a4bd', 'answers': {'text': [], 'answer_start': []}}, {'id': '5ad248f7d7d075001a428b8f', 'answers': {'text': [], 'answer_start': []}}, {'id': '5ad25dd3d7d075001a428f00', 'answers': {'text': [], 'answer_start': []}}, {'id': '5a8391c7e60761001a2eb7db', 'answers': {'text': [], 'answer_start': []}}, {'id': '5a7b0fae21c2de001afe9d2c', 'answers': {'text': [], 'answer_start': []}}, {'id': '5ad22cd0d7d075001a42861b', 'answers': {'text': [], 'answer_start': []}}, {'id': '5ad4ca605b96ef001a10a0cd', 'answers': {'text': [], 'answer_start': []}}, {'id': '5ad25f82d7d075001a428f87', 'answers': {'text': [], 'answer_start': []}}, {'id': '570d32e4fed7b91900d45d03', 'answers': {'text': ['some extra costs', 'some extra costs are levied', 'extra costs'], 'answer_start': [226, 226, 231]}}, {'id': '571112ada58dae1900cd6bcf', 'answers': {'text': ['little Hugos, or those who want Hugo', 'little Hugos', 'little Hugos, or those who want Hugo.'], 'answer_start': [555, 555, 555]}}, {'id': '5729f39a6aef05140015514e', 'answers': {'text': ['CD8', 'CD8', 'CD8'], 'answer_start': [465, 465, 465]}}, {'id': '5a894a483b2508001a72a5ae', 'answers': {'text': [], 'answer_start': []}}, {'id': '5ad4bcc45b96ef001a109e9e', 'answers': {'text': [], 'answer_start': []}}, {'id': '5ad03b4677cf76001a686ea4', 'answers': {'text': [], 'answer_start': []}}, {'id': '5a2ecb43a83784001a7d248b', 'answers': {'text': [], 'answer_start': []}}]\n"
          ]
        },
        {
          "name": "stderr",
          "output_type": "stream",
          "text": [
            "Trainer is attempting to log a value of \"No log\" of type <class 'str'> for key \"eval/loss\" as a scalar. This invocation of Tensorboard's writer.add_scalar() is incorrect so we dropped this attribute.\n"
          ]
        },
        {
          "data": {
            "text/plain": [
              "{'eval_loss': 'No log',\n",
              " 'eval_exact': 52.1875,\n",
              " 'eval_f1': 52.1875,\n",
              " 'eval_total': 320,\n",
              " 'eval_HasAns_exact': 0.0,\n",
              " 'eval_HasAns_f1': 0.0,\n",
              " 'eval_HasAns_total': 150,\n",
              " 'eval_NoAns_exact': 98.23529411764706,\n",
              " 'eval_NoAns_f1': 98.23529411764706,\n",
              " 'eval_NoAns_total': 170,\n",
              " 'eval_best_exact': 53.125,\n",
              " 'eval_best_exact_thresh': 0.0,\n",
              " 'eval_best_f1': 53.125,\n",
              " 'eval_best_f1_thresh': 0.0}"
            ]
          },
          "execution_count": 110,
          "metadata": {},
          "output_type": "execute_result"
        }
      ],
      "source": [
        "trainer.evaluate()"
      ]
    },
    {
      "cell_type": "markdown",
      "metadata": {
        "id": "JxRzMY8vWUmu"
      },
      "source": [
        "## Training\n",
        "\n",
        "Start training with calling `trainer.train`"
      ]
    },
    {
      "cell_type": "code",
      "execution_count": 14,
      "metadata": {
        "colab": {
          "base_uri": "https://localhost:8080/"
        },
        "id": "ZVhFB6wbWUmu",
        "outputId": "4642576e-fbcd-4d1e-b2e6-b968da350d68"
      },
      "outputs": [
        {
          "data": {
            "text/plain": [
              "'\\ntrainer = DistillationTrainer(\\n    student_model,\\n    training_args,\\n    teacher_model=teacher_model,\\n    train_dataset=tokenized_datasets[\"train\"],\\n    eval_dataset=tokenized_datasets[\"validation\"],\\n    data_collator=data_collator,\\n    tokenizer=tokenizer,\\n    compute_metrics=compute_metrics,\\n)\\n'"
            ]
          },
          "execution_count": 14,
          "metadata": {},
          "output_type": "execute_result"
        }
      ],
      "source": [
        "\"\"\"\n",
        "trainer = DistillationTrainer(\n",
        "    student_model,\n",
        "    training_args,\n",
        "    teacher_model=teacher_model,\n",
        "    train_dataset=tokenized_datasets[\"train\"],\n",
        "    eval_dataset=tokenized_datasets[\"validation\"],\n",
        "    data_collator=data_collator,\n",
        "    tokenizer=tokenizer,\n",
        "    compute_metrics=compute_metrics,\n",
        ")\n",
        "\"\"\""
      ]
    },
    {
      "cell_type": "markdown",
      "metadata": {
        "id": "vvmWNbbCWUmu"
      },
      "source": [
        "start training using the `DistillationTrainer`."
      ]
    },
    {
      "cell_type": "markdown",
      "metadata": {
        "id": "W2j-HzWgWUmu"
      },
      "source": [
        "## Hyperparameter Search for Distillation parameter `alpha` & `temperature` with optuna\n",
        "\n",
        "The parameter `alpha` & `temparature` in the `DistillationTrainer` can also be used when doing Hyperparamter search to maxizime our \"knowledge extraction\". As Hyperparamter Optimization framework are we using [Optuna](https://optuna.org/), which has a integration into the `Trainer-API`. Since we the `DistillationTrainer` is a sublcass of the `Trainer` we can use the `hyperparameter_search` without any code changes.\n"
      ]
    },
    {
      "cell_type": "code",
      "execution_count": 16,
      "metadata": {
        "id": "1HSzKAosWUmv"
      },
      "outputs": [
        {
          "name": "stdout",
          "output_type": "stream",
          "text": [
            "Requirement already satisfied: optuna in c:\\users\\kasra sohrab\\.conda\\envs\\nlp\\lib\\site-packages (3.6.1)\n",
            "Requirement already satisfied: alembic>=1.5.0 in c:\\users\\kasra sohrab\\.conda\\envs\\nlp\\lib\\site-packages (from optuna) (1.13.1)\n",
            "Requirement already satisfied: colorlog in c:\\users\\kasra sohrab\\.conda\\envs\\nlp\\lib\\site-packages (from optuna) (6.8.2)\n",
            "Requirement already satisfied: numpy in c:\\users\\kasra sohrab\\.conda\\envs\\nlp\\lib\\site-packages (from optuna) (1.26.3)\n",
            "Requirement already satisfied: packaging>=20.0 in c:\\users\\kasra sohrab\\appdata\\roaming\\python\\python311\\site-packages (from optuna) (23.2)\n",
            "Requirement already satisfied: sqlalchemy>=1.3.0 in c:\\users\\kasra sohrab\\.conda\\envs\\nlp\\lib\\site-packages (from optuna) (2.0.29)\n",
            "Requirement already satisfied: tqdm in c:\\users\\kasra sohrab\\.conda\\envs\\nlp\\lib\\site-packages (from optuna) (4.65.0)\n",
            "Requirement already satisfied: PyYAML in c:\\users\\kasra sohrab\\.conda\\envs\\nlp\\lib\\site-packages (from optuna) (6.0.1)\n",
            "Requirement already satisfied: Mako in c:\\users\\kasra sohrab\\.conda\\envs\\nlp\\lib\\site-packages (from alembic>=1.5.0->optuna) (1.3.3)\n",
            "Requirement already satisfied: typing-extensions>=4 in c:\\users\\kasra sohrab\\.conda\\envs\\nlp\\lib\\site-packages (from alembic>=1.5.0->optuna) (4.9.0)\n",
            "Requirement already satisfied: greenlet!=0.4.17 in c:\\users\\kasra sohrab\\.conda\\envs\\nlp\\lib\\site-packages (from sqlalchemy>=1.3.0->optuna) (3.0.3)\n",
            "Requirement already satisfied: colorama in c:\\users\\kasra sohrab\\appdata\\roaming\\python\\python311\\site-packages (from colorlog->optuna) (0.4.6)\n",
            "Requirement already satisfied: MarkupSafe>=0.9.2 in c:\\users\\kasra sohrab\\.conda\\envs\\nlp\\lib\\site-packages (from Mako->alembic>=1.5.0->optuna) (2.1.3)\n",
            "Note: you may need to restart the kernel to use updated packages.\n"
          ]
        }
      ],
      "source": [
        "%pip install optuna"
      ]
    },
    {
      "cell_type": "markdown",
      "metadata": {
        "id": "lpeeC3qBWUmv"
      },
      "source": [
        "To do Hyperparameter Optimization using `optuna` we need to define our hyperparameter space. In this example we are trying to optimize/maximize the `num_train_epochs`, `learning_rate`, `alpha` & `temperature` for our `student_model`."
      ]
    },
    {
      "cell_type": "code",
      "execution_count": 17,
      "metadata": {
        "id": "KunjyvXlWUmv"
      },
      "outputs": [],
      "source": [
        "def hp_space(trial):\n",
        "    return {\n",
        "      \"num_train_epochs\": trial.suggest_int(\"num_train_epochs\", 2, 10),\n",
        "      \"learning_rate\": trial.suggest_float(\"learning_rate\", 1e-5, 1e-3 ,log=True),\n",
        "      \"alpha\": trial.suggest_float(\"alpha\", 0, 1),\n",
        "      \"temperature\": trial.suggest_int(\"temperature\", 2, 30),\n",
        "      }"
      ]
    },
    {
      "cell_type": "markdown",
      "metadata": {
        "id": "qABOYnPwWUmv"
      },
      "source": [
        "To start our Hyperparmeter search we just need to call `hyperparameter_search` provide our `hp_space` and number of trials to run."
      ]
    },
    {
      "cell_type": "code",
      "execution_count": 18,
      "metadata": {
        "id": "D870SQnfWUmv"
      },
      "outputs": [
        {
          "name": "stderr",
          "output_type": "stream",
          "text": [
            "Some weights of ElectraForSequenceClassification were not initialized from the model checkpoint at google/electra-small-discriminator and are newly initialized: ['classifier.dense.bias', 'classifier.dense.weight', 'classifier.out_proj.bias', 'classifier.out_proj.weight']\n",
            "You should probably TRAIN this model on a down-stream task to be able to use it for predictions and inference.\n",
            "[I 2024-04-19 01:25:51,439] A new study created in memory with name: no-name-11c6ea15-9913-4e54-8f02-6ebaaab6fbbb\n",
            "Some weights of ElectraForSequenceClassification were not initialized from the model checkpoint at google/electra-small-discriminator and are newly initialized: ['classifier.dense.bias', 'classifier.dense.weight', 'classifier.out_proj.bias', 'classifier.out_proj.weight']\n",
            "You should probably TRAIN this model on a down-stream task to be able to use it for predictions and inference.\n"
          ]
        },
        {
          "data": {
            "application/vnd.jupyter.widget-view+json": {
              "model_id": "935567d50f864f99a7e865b9847a2ef1",
              "version_major": 2,
              "version_minor": 0
            },
            "text/plain": [
              "  0%|          | 0/1581 [00:00<?, ?it/s]"
            ]
          },
          "metadata": {},
          "output_type": "display_data"
        },
        {
          "name": "stdout",
          "output_type": "stream",
          "text": [
            "{'loss': 1.4461, 'grad_norm': 32.83808898925781, 'learning_rate': 5.9109468466799715e-05, 'epoch': 1.0}\n"
          ]
        },
        {
          "data": {
            "application/vnd.jupyter.widget-view+json": {
              "model_id": "a6243b0badd84416b0214f4e71ced39c",
              "version_major": 2,
              "version_minor": 0
            },
            "text/plain": [
              "  0%|          | 0/7 [00:00<?, ?it/s]"
            ]
          },
          "metadata": {},
          "output_type": "display_data"
        },
        {
          "name": "stdout",
          "output_type": "stream",
          "text": [
            "{'eval_loss': 0.8842347860336304, 'eval_accuracy': 0.9151376146788991, 'eval_runtime': 1.4618, 'eval_samples_per_second': 596.511, 'eval_steps_per_second': 4.789, 'epoch': 1.0}\n",
            "{'loss': 0.7, 'grad_norm': 52.87685775756836, 'learning_rate': 2.96107091088419e-05, 'epoch': 2.0}\n"
          ]
        },
        {
          "data": {
            "application/vnd.jupyter.widget-view+json": {
              "model_id": "52b7dc9cf1764e76b7806cb44e952972",
              "version_major": 2,
              "version_minor": 0
            },
            "text/plain": [
              "  0%|          | 0/7 [00:00<?, ?it/s]"
            ]
          },
          "metadata": {},
          "output_type": "display_data"
        },
        {
          "name": "stdout",
          "output_type": "stream",
          "text": [
            "{'eval_loss': 1.0896263122558594, 'eval_accuracy': 0.8967889908256881, 'eval_runtime': 1.4481, 'eval_samples_per_second': 602.175, 'eval_steps_per_second': 4.834, 'epoch': 2.0}\n",
            "{'loss': 0.494, 'grad_norm': 13.138901710510254, 'learning_rate': 1.1194975088409036e-07, 'epoch': 3.0}\n"
          ]
        },
        {
          "data": {
            "application/vnd.jupyter.widget-view+json": {
              "model_id": "357530eb19c14b42aef2de6895de2e3d",
              "version_major": 2,
              "version_minor": 0
            },
            "text/plain": [
              "  0%|          | 0/7 [00:00<?, ?it/s]"
            ]
          },
          "metadata": {},
          "output_type": "display_data"
        },
        {
          "name": "stdout",
          "output_type": "stream",
          "text": [
            "{'eval_loss': 1.0067952871322632, 'eval_accuracy': 0.9151376146788991, 'eval_runtime': 1.4498, 'eval_samples_per_second': 601.446, 'eval_steps_per_second': 4.828, 'epoch': 3.0}\n",
            "{'train_runtime': 337.9113, 'train_samples_per_second': 597.929, 'train_steps_per_second': 4.679, 'train_loss': 0.8800290111949518, 'epoch': 3.0}\n"
          ]
        },
        {
          "name": "stderr",
          "output_type": "stream",
          "text": [
            "[I 2024-04-19 01:32:06,884] Trial 0 finished with value: 0.9151376146788991 and parameters: {'num_train_epochs': 3, 'learning_rate': 8.849627807387343e-05, 'alpha': 0.1559830125797934, 'temperature': 3}. Best is trial 0 with value: 0.9151376146788991.\n",
            "Some weights of ElectraForSequenceClassification were not initialized from the model checkpoint at google/electra-small-discriminator and are newly initialized: ['classifier.dense.bias', 'classifier.dense.weight', 'classifier.out_proj.bias', 'classifier.out_proj.weight']\n",
            "You should probably TRAIN this model on a down-stream task to be able to use it for predictions and inference.\n"
          ]
        },
        {
          "data": {
            "application/vnd.jupyter.widget-view+json": {
              "model_id": "13f3b7cabaed44d6bb5028d4849512a1",
              "version_major": 2,
              "version_minor": 0
            },
            "text/plain": [
              "  0%|          | 0/2635 [00:00<?, ?it/s]"
            ]
          },
          "metadata": {},
          "output_type": "display_data"
        },
        {
          "name": "stdout",
          "output_type": "stream",
          "text": [
            "{'loss': 2.5183, 'grad_norm': 66.74252319335938, 'learning_rate': 0.0002000029100592468, 'epoch': 1.0}\n"
          ]
        },
        {
          "data": {
            "application/vnd.jupyter.widget-view+json": {
              "model_id": "228cbfb46f054e4888bf568308b87660",
              "version_major": 2,
              "version_minor": 0
            },
            "text/plain": [
              "  0%|          | 0/7 [00:00<?, ?it/s]"
            ]
          },
          "metadata": {},
          "output_type": "display_data"
        },
        {
          "name": "stdout",
          "output_type": "stream",
          "text": [
            "{'eval_loss': 2.3820443153381348, 'eval_accuracy': 0.875, 'eval_runtime': 1.4493, 'eval_samples_per_second': 601.689, 'eval_steps_per_second': 4.83, 'epoch': 1.0}\n",
            "{'loss': 1.237, 'grad_norm': 67.3247299194336, 'learning_rate': 0.00015007323994971434, 'epoch': 2.0}\n"
          ]
        },
        {
          "data": {
            "application/vnd.jupyter.widget-view+json": {
              "model_id": "24401c1ad61c4c0a957a0ee31e39ce8d",
              "version_major": 2,
              "version_minor": 0
            },
            "text/plain": [
              "  0%|          | 0/7 [00:00<?, ?it/s]"
            ]
          },
          "metadata": {},
          "output_type": "display_data"
        },
        {
          "name": "stdout",
          "output_type": "stream",
          "text": [
            "{'eval_loss': 2.0578901767730713, 'eval_accuracy': 0.8910550458715596, 'eval_runtime': 1.4579, 'eval_samples_per_second': 598.133, 'eval_steps_per_second': 4.802, 'epoch': 2.0}\n",
            "{'loss': 0.8517, 'grad_norm': 9.862482070922852, 'learning_rate': 0.00010014356984018184, 'epoch': 3.0}\n"
          ]
        },
        {
          "data": {
            "application/vnd.jupyter.widget-view+json": {
              "model_id": "67088390ac6b495f9162854bebcd0008",
              "version_major": 2,
              "version_minor": 0
            },
            "text/plain": [
              "  0%|          | 0/7 [00:00<?, ?it/s]"
            ]
          },
          "metadata": {},
          "output_type": "display_data"
        },
        {
          "name": "stdout",
          "output_type": "stream",
          "text": [
            "{'eval_loss': 2.112179756164551, 'eval_accuracy': 0.8841743119266054, 'eval_runtime': 1.4398, 'eval_samples_per_second': 605.639, 'eval_steps_per_second': 4.862, 'epoch': 3.0}\n",
            "{'loss': 0.62, 'grad_norm': 9.713326454162598, 'learning_rate': 5.021389973064936e-05, 'epoch': 4.0}\n"
          ]
        },
        {
          "data": {
            "application/vnd.jupyter.widget-view+json": {
              "model_id": "8b14dcbcc604439d8a96e53f921bb817",
              "version_major": 2,
              "version_minor": 0
            },
            "text/plain": [
              "  0%|          | 0/7 [00:00<?, ?it/s]"
            ]
          },
          "metadata": {},
          "output_type": "display_data"
        },
        {
          "name": "stdout",
          "output_type": "stream",
          "text": [
            "{'eval_loss': 2.1044843196868896, 'eval_accuracy': 0.8784403669724771, 'eval_runtime': 1.4493, 'eval_samples_per_second': 601.685, 'eval_steps_per_second': 4.83, 'epoch': 4.0}\n",
            "{'loss': 0.4638, 'grad_norm': 34.83477020263672, 'learning_rate': 2.842296211168832e-07, 'epoch': 5.0}\n"
          ]
        },
        {
          "data": {
            "application/vnd.jupyter.widget-view+json": {
              "model_id": "569c0b71a3c342a695ee0ca023611940",
              "version_major": 2,
              "version_minor": 0
            },
            "text/plain": [
              "  0%|          | 0/7 [00:00<?, ?it/s]"
            ]
          },
          "metadata": {},
          "output_type": "display_data"
        },
        {
          "name": "stdout",
          "output_type": "stream",
          "text": [
            "{'eval_loss': 2.0922484397888184, 'eval_accuracy': 0.8910550458715596, 'eval_runtime': 1.4483, 'eval_samples_per_second': 602.09, 'eval_steps_per_second': 4.833, 'epoch': 5.0}\n",
            "{'train_runtime': 563.9714, 'train_samples_per_second': 597.096, 'train_steps_per_second': 4.672, 'train_loss': 1.1381755618940494, 'epoch': 5.0}\n"
          ]
        },
        {
          "name": "stderr",
          "output_type": "stream",
          "text": [
            "[I 2024-04-19 01:42:09,194] Trial 1 finished with value: 0.8910550458715596 and parameters: {'num_train_epochs': 5, 'learning_rate': 0.0002496483505476624, 'alpha': 0.15523880635662113, 'temperature': 16}. Best is trial 0 with value: 0.9151376146788991.\n",
            "Some weights of ElectraForSequenceClassification were not initialized from the model checkpoint at google/electra-small-discriminator and are newly initialized: ['classifier.dense.bias', 'classifier.dense.weight', 'classifier.out_proj.bias', 'classifier.out_proj.weight']\n",
            "You should probably TRAIN this model on a down-stream task to be able to use it for predictions and inference.\n"
          ]
        },
        {
          "data": {
            "application/vnd.jupyter.widget-view+json": {
              "model_id": "208855bba569478e9a2b93a3d4921cfa",
              "version_major": 2,
              "version_minor": 0
            },
            "text/plain": [
              "  0%|          | 0/3162 [00:00<?, ?it/s]"
            ]
          },
          "metadata": {},
          "output_type": "display_data"
        },
        {
          "name": "stdout",
          "output_type": "stream",
          "text": [
            "{'loss': 4.9041, 'grad_norm': 3.510751485824585, 'learning_rate': 0.0007235764985208607, 'epoch': 1.0}\n"
          ]
        },
        {
          "data": {
            "application/vnd.jupyter.widget-view+json": {
              "model_id": "baa5023946834345b85f5aea98804698",
              "version_major": 2,
              "version_minor": 0
            },
            "text/plain": [
              "  0%|          | 0/7 [00:00<?, ?it/s]"
            ]
          },
          "metadata": {},
          "output_type": "display_data"
        },
        {
          "name": "stdout",
          "output_type": "stream",
          "text": [
            "{'eval_loss': 4.841418266296387, 'eval_accuracy': 0.5091743119266054, 'eval_runtime': 1.4537, 'eval_samples_per_second': 599.861, 'eval_steps_per_second': 4.815, 'epoch': 1.0}\n",
            "{'loss': 4.9002, 'grad_norm': 0.5188323259353638, 'learning_rate': 0.0005789160983992775, 'epoch': 2.0}\n"
          ]
        },
        {
          "data": {
            "application/vnd.jupyter.widget-view+json": {
              "model_id": "cb8a811a67564f8589c5d9492ccc9ca2",
              "version_major": 2,
              "version_minor": 0
            },
            "text/plain": [
              "  0%|          | 0/7 [00:00<?, ?it/s]"
            ]
          },
          "metadata": {},
          "output_type": "display_data"
        },
        {
          "name": "stdout",
          "output_type": "stream",
          "text": [
            "{'eval_loss': 4.816441059112549, 'eval_accuracy': 0.5091743119266054, 'eval_runtime': 1.4412, 'eval_samples_per_second': 605.042, 'eval_steps_per_second': 4.857, 'epoch': 2.0}\n",
            "{'loss': 4.9, 'grad_norm': 1.3247452974319458, 'learning_rate': 0.00043425569827769417, 'epoch': 3.0}\n"
          ]
        },
        {
          "data": {
            "application/vnd.jupyter.widget-view+json": {
              "model_id": "ae3f575e03e04e1a840e80952390dd9c",
              "version_major": 2,
              "version_minor": 0
            },
            "text/plain": [
              "  0%|          | 0/7 [00:00<?, ?it/s]"
            ]
          },
          "metadata": {},
          "output_type": "display_data"
        },
        {
          "name": "stdout",
          "output_type": "stream",
          "text": [
            "{'eval_loss': 4.82835054397583, 'eval_accuracy': 0.5091743119266054, 'eval_runtime': 1.4366, 'eval_samples_per_second': 606.994, 'eval_steps_per_second': 4.873, 'epoch': 3.0}\n",
            "{'loss': 4.893, 'grad_norm': 0.6336215734481812, 'learning_rate': 0.0002895952981561108, 'epoch': 4.0}\n"
          ]
        },
        {
          "data": {
            "application/vnd.jupyter.widget-view+json": {
              "model_id": "4e875c18b5d245a3a19055b0ab887beb",
              "version_major": 2,
              "version_minor": 0
            },
            "text/plain": [
              "  0%|          | 0/7 [00:00<?, ?it/s]"
            ]
          },
          "metadata": {},
          "output_type": "display_data"
        },
        {
          "name": "stdout",
          "output_type": "stream",
          "text": [
            "{'eval_loss': 4.868070602416992, 'eval_accuracy': 0.5091743119266054, 'eval_runtime': 1.4415, 'eval_samples_per_second': 604.928, 'eval_steps_per_second': 4.856, 'epoch': 4.0}\n",
            "{'loss': 4.8991, 'grad_norm': 1.2643113136291504, 'learning_rate': 0.0001449348980345275, 'epoch': 5.0}\n"
          ]
        },
        {
          "data": {
            "application/vnd.jupyter.widget-view+json": {
              "model_id": "9291dfc168894457b1e45cd78abee44a",
              "version_major": 2,
              "version_minor": 0
            },
            "text/plain": [
              "  0%|          | 0/7 [00:00<?, ?it/s]"
            ]
          },
          "metadata": {},
          "output_type": "display_data"
        },
        {
          "name": "stdout",
          "output_type": "stream",
          "text": [
            "{'eval_loss': 4.832038879394531, 'eval_accuracy': 0.5091743119266054, 'eval_runtime': 1.448, 'eval_samples_per_second': 602.191, 'eval_steps_per_second': 4.834, 'epoch': 5.0}\n",
            "{'loss': 4.8938, 'grad_norm': 1.2564785480499268, 'learning_rate': 2.744979129441809e-07, 'epoch': 6.0}\n"
          ]
        },
        {
          "data": {
            "application/vnd.jupyter.widget-view+json": {
              "model_id": "3732e23a5adf4a7b9820379181bb20d4",
              "version_major": 2,
              "version_minor": 0
            },
            "text/plain": [
              "  0%|          | 0/7 [00:00<?, ?it/s]"
            ]
          },
          "metadata": {},
          "output_type": "display_data"
        },
        {
          "name": "stdout",
          "output_type": "stream",
          "text": [
            "{'eval_loss': 4.896666526794434, 'eval_accuracy': 0.5091743119266054, 'eval_runtime': 1.4438, 'eval_samples_per_second': 603.96, 'eval_steps_per_second': 4.848, 'epoch': 6.0}\n",
            "{'train_runtime': 676.7939, 'train_samples_per_second': 597.071, 'train_steps_per_second': 4.672, 'train_loss': 4.898371948010555, 'epoch': 6.0}\n"
          ]
        },
        {
          "name": "stderr",
          "output_type": "stream",
          "text": [
            "[I 2024-04-19 01:54:05,044] Trial 2 finished with value: 0.5091743119266054 and parameters: {'num_train_epochs': 6, 'learning_rate': 0.0008679624007294999, 'alpha': 0.2011698337552854, 'temperature': 5}. Best is trial 0 with value: 0.9151376146788991.\n",
            "Some weights of ElectraForSequenceClassification were not initialized from the model checkpoint at google/electra-small-discriminator and are newly initialized: ['classifier.dense.bias', 'classifier.dense.weight', 'classifier.out_proj.bias', 'classifier.out_proj.weight']\n",
            "You should probably TRAIN this model on a down-stream task to be able to use it for predictions and inference.\n"
          ]
        },
        {
          "data": {
            "application/vnd.jupyter.widget-view+json": {
              "model_id": "0617b3b793d447cdba18cc509462598d",
              "version_major": 2,
              "version_minor": 0
            },
            "text/plain": [
              "  0%|          | 0/1054 [00:00<?, ?it/s]"
            ]
          },
          "metadata": {},
          "output_type": "display_data"
        },
        {
          "name": "stdout",
          "output_type": "stream",
          "text": [
            "{'loss': 1.4419, 'grad_norm': 20.69542694091797, 'learning_rate': 1.4084477147380312e-05, 'epoch': 1.0}\n"
          ]
        },
        {
          "data": {
            "application/vnd.jupyter.widget-view+json": {
              "model_id": "83e8f284bb3c41638d2389f2b9568a6f",
              "version_major": 2,
              "version_minor": 0
            },
            "text/plain": [
              "  0%|          | 0/7 [00:00<?, ?it/s]"
            ]
          },
          "metadata": {},
          "output_type": "display_data"
        },
        {
          "name": "stdout",
          "output_type": "stream",
          "text": [
            "{'eval_loss': 0.8999464511871338, 'eval_accuracy': 0.8704128440366973, 'eval_runtime': 1.4417, 'eval_samples_per_second': 604.854, 'eval_steps_per_second': 4.855, 'epoch': 1.0}\n",
            "{'loss': 0.8235, 'grad_norm': inf, 'learning_rate': 5.335029222492542e-08, 'epoch': 2.0}\n"
          ]
        },
        {
          "data": {
            "application/vnd.jupyter.widget-view+json": {
              "model_id": "4f4137e4709c48d6b5bce1a7c64fc621",
              "version_major": 2,
              "version_minor": 0
            },
            "text/plain": [
              "  0%|          | 0/7 [00:00<?, ?it/s]"
            ]
          },
          "metadata": {},
          "output_type": "display_data"
        },
        {
          "name": "stdout",
          "output_type": "stream",
          "text": [
            "{'eval_loss': 0.7633256912231445, 'eval_accuracy': 0.9013761467889908, 'eval_runtime': 1.4453, 'eval_samples_per_second': 603.342, 'eval_steps_per_second': 4.843, 'epoch': 2.0}\n",
            "{'train_runtime': 225.2115, 'train_samples_per_second': 598.095, 'train_steps_per_second': 4.68, 'train_loss': 1.132694425347634, 'epoch': 2.0}\n"
          ]
        },
        {
          "name": "stderr",
          "output_type": "stream",
          "text": [
            "[I 2024-04-19 01:58:30,262] Trial 3 finished with value: 0.9013761467889908 and parameters: {'num_train_epochs': 2, 'learning_rate': 2.8115604002535698e-05, 'alpha': 0.7273510251657795, 'temperature': 7}. Best is trial 0 with value: 0.9151376146788991.\n",
            "Some weights of ElectraForSequenceClassification were not initialized from the model checkpoint at google/electra-small-discriminator and are newly initialized: ['classifier.dense.bias', 'classifier.dense.weight', 'classifier.out_proj.bias', 'classifier.out_proj.weight']\n",
            "You should probably TRAIN this model on a down-stream task to be able to use it for predictions and inference.\n"
          ]
        },
        {
          "data": {
            "application/vnd.jupyter.widget-view+json": {
              "model_id": "64cf1466af284f4a8a21e6641fb0d13e",
              "version_major": 2,
              "version_minor": 0
            },
            "text/plain": [
              "  0%|          | 0/1054 [00:00<?, ?it/s]"
            ]
          },
          "metadata": {},
          "output_type": "display_data"
        },
        {
          "name": "stdout",
          "output_type": "stream",
          "text": [
            "{'loss': 1.7548, 'grad_norm': 26.105838775634766, 'learning_rate': 2.1019516058113692e-05, 'epoch': 1.0}\n"
          ]
        },
        {
          "data": {
            "application/vnd.jupyter.widget-view+json": {
              "model_id": "80cd47bd1a0a4bf49aaabd2a71554982",
              "version_major": 2,
              "version_minor": 0
            },
            "text/plain": [
              "  0%|          | 0/7 [00:00<?, ?it/s]"
            ]
          },
          "metadata": {},
          "output_type": "display_data"
        },
        {
          "name": "stdout",
          "output_type": "stream",
          "text": [
            "{'eval_loss': 0.9411500692367554, 'eval_accuracy': 0.8922018348623854, 'eval_runtime': 1.4396, 'eval_samples_per_second': 605.724, 'eval_steps_per_second': 4.862, 'epoch': 1.0}\n",
            "{'loss': 0.93, 'grad_norm': inf, 'learning_rate': 1.1942906851200962e-07, 'epoch': 2.0}\n"
          ]
        },
        {
          "data": {
            "application/vnd.jupyter.widget-view+json": {
              "model_id": "239f0575557f48e4849281e4b5113402",
              "version_major": 2,
              "version_minor": 0
            },
            "text/plain": [
              "  0%|          | 0/7 [00:00<?, ?it/s]"
            ]
          },
          "metadata": {},
          "output_type": "display_data"
        },
        {
          "name": "stdout",
          "output_type": "stream",
          "text": [
            "{'eval_loss': 0.9139881730079651, 'eval_accuracy': 0.9071100917431193, 'eval_runtime': 1.4435, 'eval_samples_per_second': 604.075, 'eval_steps_per_second': 4.849, 'epoch': 2.0}\n",
            "{'train_runtime': 225.0715, 'train_samples_per_second': 598.468, 'train_steps_per_second': 4.683, 'train_loss': 1.3423719315646496, 'epoch': 2.0}\n"
          ]
        },
        {
          "name": "stderr",
          "output_type": "stream",
          "text": [
            "[I 2024-04-19 02:02:55,823] Trial 4 finished with value: 0.9071100917431193 and parameters: {'num_train_epochs': 2, 'learning_rate': 4.195941273721938e-05, 'alpha': 0.4067254850025479, 'temperature': 4}. Best is trial 0 with value: 0.9151376146788991.\n",
            "Some weights of ElectraForSequenceClassification were not initialized from the model checkpoint at google/electra-small-discriminator and are newly initialized: ['classifier.dense.bias', 'classifier.dense.weight', 'classifier.out_proj.bias', 'classifier.out_proj.weight']\n",
            "You should probably TRAIN this model on a down-stream task to be able to use it for predictions and inference.\n"
          ]
        },
        {
          "data": {
            "application/vnd.jupyter.widget-view+json": {
              "model_id": "8cd06a76d4844103ac517929e9cff744",
              "version_major": 2,
              "version_minor": 0
            },
            "text/plain": [
              "  0%|          | 0/3689 [00:00<?, ?it/s]"
            ]
          },
          "metadata": {},
          "output_type": "display_data"
        },
        {
          "name": "stdout",
          "output_type": "stream",
          "text": [
            "{'loss': 1.2835, 'grad_norm': 13.014893531799316, 'learning_rate': 0.00020745409608256818, 'epoch': 1.0}\n"
          ]
        },
        {
          "data": {
            "application/vnd.jupyter.widget-view+json": {
              "model_id": "2e40f300f18c4e1e970991545211b723",
              "version_major": 2,
              "version_minor": 0
            },
            "text/plain": [
              "  0%|          | 0/7 [00:00<?, ?it/s]"
            ]
          },
          "metadata": {},
          "output_type": "display_data"
        },
        {
          "name": "stderr",
          "output_type": "stream",
          "text": [
            "[I 2024-04-19 02:04:48,981] Trial 5 pruned. \n"
          ]
        },
        {
          "name": "stdout",
          "output_type": "stream",
          "text": [
            "{'eval_loss': 1.5194565057754517, 'eval_accuracy': 0.8555045871559633, 'eval_runtime': 1.4482, 'eval_samples_per_second': 602.145, 'eval_steps_per_second': 4.834, 'epoch': 1.0}\n"
          ]
        },
        {
          "name": "stderr",
          "output_type": "stream",
          "text": [
            "Some weights of ElectraForSequenceClassification were not initialized from the model checkpoint at google/electra-small-discriminator and are newly initialized: ['classifier.dense.bias', 'classifier.dense.weight', 'classifier.out_proj.bias', 'classifier.out_proj.weight']\n",
            "You should probably TRAIN this model on a down-stream task to be able to use it for predictions and inference.\n"
          ]
        },
        {
          "data": {
            "application/vnd.jupyter.widget-view+json": {
              "model_id": "352ce48b8d0e4b198bf1042ae1684da0",
              "version_major": 2,
              "version_minor": 0
            },
            "text/plain": [
              "  0%|          | 0/4743 [00:00<?, ?it/s]"
            ]
          },
          "metadata": {},
          "output_type": "display_data"
        },
        {
          "name": "stdout",
          "output_type": "stream",
          "text": [
            "{'loss': 1.6952, 'grad_norm': 17.92670440673828, 'learning_rate': 2.010330074098376e-05, 'epoch': 1.0}\n"
          ]
        },
        {
          "data": {
            "application/vnd.jupyter.widget-view+json": {
              "model_id": "cee35f498d5349d1973824181885a4eb",
              "version_major": 2,
              "version_minor": 0
            },
            "text/plain": [
              "  0%|          | 0/7 [00:00<?, ?it/s]"
            ]
          },
          "metadata": {},
          "output_type": "display_data"
        },
        {
          "name": "stdout",
          "output_type": "stream",
          "text": [
            "{'eval_loss': 0.9234904050827026, 'eval_accuracy': 0.8910550458715596, 'eval_runtime': 1.446, 'eval_samples_per_second': 603.052, 'eval_steps_per_second': 4.841, 'epoch': 1.0}\n",
            "{'loss': 0.8731, 'grad_norm': 43.87211990356445, 'learning_rate': 1.759575125325375e-05, 'epoch': 2.0}\n"
          ]
        },
        {
          "data": {
            "application/vnd.jupyter.widget-view+json": {
              "model_id": "6560f680c0e94de2a74a0a51148cf591",
              "version_major": 2,
              "version_minor": 0
            },
            "text/plain": [
              "  0%|          | 0/7 [00:00<?, ?it/s]"
            ]
          },
          "metadata": {},
          "output_type": "display_data"
        },
        {
          "name": "stdout",
          "output_type": "stream",
          "text": [
            "{'eval_loss': 0.770187258720398, 'eval_accuracy': 0.9059633027522935, 'eval_runtime': 1.4489, 'eval_samples_per_second': 601.851, 'eval_steps_per_second': 4.831, 'epoch': 2.0}\n",
            "{'loss': 0.6622, 'grad_norm': 13.310898780822754, 'learning_rate': 1.508343456117444e-05, 'epoch': 3.0}\n"
          ]
        },
        {
          "data": {
            "application/vnd.jupyter.widget-view+json": {
              "model_id": "a5263f14a6ce4c0ca5846d92d72e23e3",
              "version_major": 2,
              "version_minor": 0
            },
            "text/plain": [
              "  0%|          | 0/7 [00:00<?, ?it/s]"
            ]
          },
          "metadata": {},
          "output_type": "display_data"
        },
        {
          "name": "stdout",
          "output_type": "stream",
          "text": [
            "{'eval_loss': 0.7737818956375122, 'eval_accuracy': 0.9139908256880734, 'eval_runtime': 1.4497, 'eval_samples_per_second': 601.516, 'eval_steps_per_second': 4.829, 'epoch': 3.0}\n",
            "{'loss': 0.5443, 'grad_norm': 12.57313060760498, 'learning_rate': 1.2571117869095134e-05, 'epoch': 4.0}\n"
          ]
        },
        {
          "data": {
            "application/vnd.jupyter.widget-view+json": {
              "model_id": "6b2b9ca3977744d6842778f592f4098b",
              "version_major": 2,
              "version_minor": 0
            },
            "text/plain": [
              "  0%|          | 0/7 [00:00<?, ?it/s]"
            ]
          },
          "metadata": {},
          "output_type": "display_data"
        },
        {
          "name": "stdout",
          "output_type": "stream",
          "text": [
            "{'eval_loss': 0.7234447598457336, 'eval_accuracy': 0.926605504587156, 'eval_runtime': 1.451, 'eval_samples_per_second': 600.977, 'eval_steps_per_second': 4.824, 'epoch': 4.0}\n",
            "{'loss': 0.48, 'grad_norm': 28.64960289001465, 'learning_rate': 1.0058801177015824e-05, 'epoch': 5.0}\n"
          ]
        },
        {
          "data": {
            "application/vnd.jupyter.widget-view+json": {
              "model_id": "48a62418fef04a1b8db41b29e4cdac37",
              "version_major": 2,
              "version_minor": 0
            },
            "text/plain": [
              "  0%|          | 0/7 [00:00<?, ?it/s]"
            ]
          },
          "metadata": {},
          "output_type": "display_data"
        },
        {
          "name": "stdout",
          "output_type": "stream",
          "text": [
            "{'eval_loss': 0.7743226289749146, 'eval_accuracy': 0.9174311926605505, 'eval_runtime': 1.4478, 'eval_samples_per_second': 602.308, 'eval_steps_per_second': 4.835, 'epoch': 5.0}\n",
            "{'loss': 0.4283, 'grad_norm': 10.863966941833496, 'learning_rate': 7.546484484936517e-06, 'epoch': 6.0}\n"
          ]
        },
        {
          "data": {
            "application/vnd.jupyter.widget-view+json": {
              "model_id": "52b61d8127f84023b83125ee4291c9bb",
              "version_major": 2,
              "version_minor": 0
            },
            "text/plain": [
              "  0%|          | 0/7 [00:00<?, ?it/s]"
            ]
          },
          "metadata": {},
          "output_type": "display_data"
        },
        {
          "name": "stdout",
          "output_type": "stream",
          "text": [
            "{'eval_loss': 0.7562010288238525, 'eval_accuracy': 0.9220183486238532, 'eval_runtime': 1.4492, 'eval_samples_per_second': 601.691, 'eval_steps_per_second': 4.83, 'epoch': 6.0}\n",
            "{'loss': 0.3886, 'grad_norm': 25.16184425354004, 'learning_rate': 5.038934997206505e-06, 'epoch': 7.0}\n"
          ]
        },
        {
          "data": {
            "application/vnd.jupyter.widget-view+json": {
              "model_id": "87f763357dce4d2bb3887ed7332db297",
              "version_major": 2,
              "version_minor": 0
            },
            "text/plain": [
              "  0%|          | 0/7 [00:00<?, ?it/s]"
            ]
          },
          "metadata": {},
          "output_type": "display_data"
        },
        {
          "name": "stdout",
          "output_type": "stream",
          "text": [
            "{'eval_loss': 0.7708072662353516, 'eval_accuracy': 0.9197247706422018, 'eval_runtime': 1.4413, 'eval_samples_per_second': 604.999, 'eval_steps_per_second': 4.857, 'epoch': 7.0}\n",
            "{'loss': 0.373, 'grad_norm': 19.518695831298828, 'learning_rate': 2.5266183051271976e-06, 'epoch': 8.0}\n"
          ]
        },
        {
          "data": {
            "application/vnd.jupyter.widget-view+json": {
              "model_id": "e519516bd9144871915b1d81e22ad89b",
              "version_major": 2,
              "version_minor": 0
            },
            "text/plain": [
              "  0%|          | 0/7 [00:00<?, ?it/s]"
            ]
          },
          "metadata": {},
          "output_type": "display_data"
        },
        {
          "name": "stdout",
          "output_type": "stream",
          "text": [
            "{'eval_loss': 0.8256669640541077, 'eval_accuracy': 0.9185779816513762, 'eval_runtime': 1.4454, 'eval_samples_per_second': 603.301, 'eval_steps_per_second': 4.843, 'epoch': 8.0}\n",
            "{'loss': 0.3533, 'grad_norm': 73.0574951171875, 'learning_rate': 1.4301613047889797e-08, 'epoch': 9.0}\n"
          ]
        },
        {
          "data": {
            "application/vnd.jupyter.widget-view+json": {
              "model_id": "96b81916b2094e19ad889ebbcad38400",
              "version_major": 2,
              "version_minor": 0
            },
            "text/plain": [
              "  0%|          | 0/7 [00:00<?, ?it/s]"
            ]
          },
          "metadata": {},
          "output_type": "display_data"
        },
        {
          "name": "stdout",
          "output_type": "stream",
          "text": [
            "{'eval_loss': 0.8148481845855713, 'eval_accuracy': 0.9162844036697247, 'eval_runtime': 1.4457, 'eval_samples_per_second': 603.149, 'eval_steps_per_second': 4.842, 'epoch': 9.0}\n",
            "{'train_runtime': 1014.8133, 'train_samples_per_second': 597.293, 'train_steps_per_second': 4.674, 'train_loss': 0.6442346221003733, 'epoch': 9.0}\n"
          ]
        },
        {
          "name": "stderr",
          "output_type": "stream",
          "text": [
            "[I 2024-04-19 02:22:30,284] Trial 6 finished with value: 0.9162844036697247 and parameters: {'num_train_epochs': 9, 'learning_rate': 2.261085022871377e-05, 'alpha': 0.7277023096419001, 'temperature': 29}. Best is trial 6 with value: 0.9162844036697247.\n",
            "Some weights of ElectraForSequenceClassification were not initialized from the model checkpoint at google/electra-small-discriminator and are newly initialized: ['classifier.dense.bias', 'classifier.dense.weight', 'classifier.out_proj.bias', 'classifier.out_proj.weight']\n",
            "You should probably TRAIN this model on a down-stream task to be able to use it for predictions and inference.\n"
          ]
        },
        {
          "data": {
            "application/vnd.jupyter.widget-view+json": {
              "model_id": "c02908402c9d4aaba9a218d58534ba59",
              "version_major": 2,
              "version_minor": 0
            },
            "text/plain": [
              "  0%|          | 0/2108 [00:00<?, ?it/s]"
            ]
          },
          "metadata": {},
          "output_type": "display_data"
        },
        {
          "name": "stdout",
          "output_type": "stream",
          "text": [
            "{'loss': 2.4433, 'grad_norm': 58.061771392822266, 'learning_rate': 0.00017850057789948383, 'epoch': 1.0}\n"
          ]
        },
        {
          "data": {
            "application/vnd.jupyter.widget-view+json": {
              "model_id": "fcedb4feed594025a0901ed356ae0f63",
              "version_major": 2,
              "version_minor": 0
            },
            "text/plain": [
              "  0%|          | 0/7 [00:00<?, ?it/s]"
            ]
          },
          "metadata": {},
          "output_type": "display_data"
        },
        {
          "name": "stderr",
          "output_type": "stream",
          "text": [
            "[I 2024-04-19 02:24:23,497] Trial 7 pruned. \n"
          ]
        },
        {
          "name": "stdout",
          "output_type": "stream",
          "text": [
            "{'eval_loss': 2.149305820465088, 'eval_accuracy': 0.8784403669724771, 'eval_runtime': 1.4541, 'eval_samples_per_second': 599.695, 'eval_steps_per_second': 4.814, 'epoch': 1.0}\n"
          ]
        },
        {
          "name": "stderr",
          "output_type": "stream",
          "text": [
            "Some weights of ElectraForSequenceClassification were not initialized from the model checkpoint at google/electra-small-discriminator and are newly initialized: ['classifier.dense.bias', 'classifier.dense.weight', 'classifier.out_proj.bias', 'classifier.out_proj.weight']\n",
            "You should probably TRAIN this model on a down-stream task to be able to use it for predictions and inference.\n"
          ]
        },
        {
          "data": {
            "application/vnd.jupyter.widget-view+json": {
              "model_id": "937f86c673524a39af10ef4f88b46e7f",
              "version_major": 2,
              "version_minor": 0
            },
            "text/plain": [
              "  0%|          | 0/5270 [00:00<?, ?it/s]"
            ]
          },
          "metadata": {},
          "output_type": "display_data"
        },
        {
          "name": "stdout",
          "output_type": "stream",
          "text": [
            "{'loss': 0.94, 'grad_norm': 25.336427688598633, 'learning_rate': 8.271664431386432e-05, 'epoch': 1.0}\n"
          ]
        },
        {
          "data": {
            "application/vnd.jupyter.widget-view+json": {
              "model_id": "2451839160274f73a9235df299a43477",
              "version_major": 2,
              "version_minor": 0
            },
            "text/plain": [
              "  0%|          | 0/7 [00:00<?, ?it/s]"
            ]
          },
          "metadata": {},
          "output_type": "display_data"
        },
        {
          "name": "stdout",
          "output_type": "stream",
          "text": [
            "{'eval_loss': 0.6703569889068604, 'eval_accuracy': 0.9036697247706422, 'eval_runtime': 1.4486, 'eval_samples_per_second': 601.968, 'eval_steps_per_second': 4.832, 'epoch': 1.0}\n",
            "{'loss': 0.4737, 'grad_norm': 11.467299461364746, 'learning_rate': 7.352784339619853e-05, 'epoch': 2.0}\n"
          ]
        },
        {
          "data": {
            "application/vnd.jupyter.widget-view+json": {
              "model_id": "7c40183e392b469481a61ac5e8163792",
              "version_major": 2,
              "version_minor": 0
            },
            "text/plain": [
              "  0%|          | 0/7 [00:00<?, ?it/s]"
            ]
          },
          "metadata": {},
          "output_type": "display_data"
        },
        {
          "name": "stdout",
          "output_type": "stream",
          "text": [
            "{'eval_loss': 0.8164154887199402, 'eval_accuracy': 0.8990825688073395, 'eval_runtime': 1.4496, 'eval_samples_per_second': 601.528, 'eval_steps_per_second': 4.829, 'epoch': 2.0}\n",
            "{'loss': 0.3435, 'grad_norm': 44.32056427001953, 'learning_rate': 6.433904247853274e-05, 'epoch': 3.0}\n"
          ]
        },
        {
          "data": {
            "application/vnd.jupyter.widget-view+json": {
              "model_id": "f501a7410fae4072b4dbd6f8168c8ed4",
              "version_major": 2,
              "version_minor": 0
            },
            "text/plain": [
              "  0%|          | 0/7 [00:00<?, ?it/s]"
            ]
          },
          "metadata": {},
          "output_type": "display_data"
        },
        {
          "name": "stdout",
          "output_type": "stream",
          "text": [
            "{'eval_loss': 0.8911434412002563, 'eval_accuracy': 0.8979357798165137, 'eval_runtime': 1.4479, 'eval_samples_per_second': 602.254, 'eval_steps_per_second': 4.835, 'epoch': 3.0}\n",
            "{'loss': 0.2599, 'grad_norm': 6.458914756774902, 'learning_rate': 5.515024156086696e-05, 'epoch': 4.0}\n"
          ]
        },
        {
          "data": {
            "application/vnd.jupyter.widget-view+json": {
              "model_id": "e1637ef411e84860876d020aee510383",
              "version_major": 2,
              "version_minor": 0
            },
            "text/plain": [
              "  0%|          | 0/7 [00:00<?, ?it/s]"
            ]
          },
          "metadata": {},
          "output_type": "display_data"
        },
        {
          "name": "stdout",
          "output_type": "stream",
          "text": [
            "{'eval_loss': 0.7757946252822876, 'eval_accuracy': 0.9151376146788991, 'eval_runtime': 1.446, 'eval_samples_per_second': 603.064, 'eval_steps_per_second': 4.841, 'epoch': 4.0}\n",
            "{'loss': 0.2156, 'grad_norm': inf, 'learning_rate': 4.5978876698073397e-05, 'epoch': 5.0}\n"
          ]
        },
        {
          "data": {
            "application/vnd.jupyter.widget-view+json": {
              "model_id": "658744856fef495c93a6d3bdeb4153a5",
              "version_major": 2,
              "version_minor": 0
            },
            "text/plain": [
              "  0%|          | 0/7 [00:00<?, ?it/s]"
            ]
          },
          "metadata": {},
          "output_type": "display_data"
        },
        {
          "name": "stdout",
          "output_type": "stream",
          "text": [
            "{'eval_loss': 0.7059925198554993, 'eval_accuracy': 0.9162844036697247, 'eval_runtime': 1.4472, 'eval_samples_per_second': 602.529, 'eval_steps_per_second': 4.837, 'epoch': 5.0}\n",
            "{'loss': 0.1789, 'grad_norm': 26.35287857055664, 'learning_rate': 3.679007578040761e-05, 'epoch': 6.0}\n"
          ]
        },
        {
          "data": {
            "application/vnd.jupyter.widget-view+json": {
              "model_id": "4f1e9b2879614dfa9a2998b795d00214",
              "version_major": 2,
              "version_minor": 0
            },
            "text/plain": [
              "  0%|          | 0/7 [00:00<?, ?it/s]"
            ]
          },
          "metadata": {},
          "output_type": "display_data"
        },
        {
          "name": "stdout",
          "output_type": "stream",
          "text": [
            "{'eval_loss': 0.6810566186904907, 'eval_accuracy': 0.9185779816513762, 'eval_runtime': 1.4505, 'eval_samples_per_second': 601.155, 'eval_steps_per_second': 4.826, 'epoch': 6.0}\n",
            "{'loss': 0.1465, 'grad_norm': 32.874847412109375, 'learning_rate': 2.7601274862741822e-05, 'epoch': 7.0}\n"
          ]
        },
        {
          "data": {
            "application/vnd.jupyter.widget-view+json": {
              "model_id": "6c410856609448ac9aea14b104746690",
              "version_major": 2,
              "version_minor": 0
            },
            "text/plain": [
              "  0%|          | 0/7 [00:00<?, ?it/s]"
            ]
          },
          "metadata": {},
          "output_type": "display_data"
        },
        {
          "name": "stderr",
          "output_type": "stream",
          "text": [
            "[I 2024-04-19 02:37:33,896] Trial 8 pruned. \n"
          ]
        },
        {
          "name": "stdout",
          "output_type": "stream",
          "text": [
            "{'eval_loss': 0.8203569650650024, 'eval_accuracy': 0.911697247706422, 'eval_runtime': 1.4518, 'eval_samples_per_second': 600.629, 'eval_steps_per_second': 4.822, 'epoch': 7.0}\n"
          ]
        },
        {
          "name": "stderr",
          "output_type": "stream",
          "text": [
            "Some weights of ElectraForSequenceClassification were not initialized from the model checkpoint at google/electra-small-discriminator and are newly initialized: ['classifier.dense.bias', 'classifier.dense.weight', 'classifier.out_proj.bias', 'classifier.out_proj.weight']\n",
            "You should probably TRAIN this model on a down-stream task to be able to use it for predictions and inference.\n"
          ]
        },
        {
          "data": {
            "application/vnd.jupyter.widget-view+json": {
              "model_id": "bc6800991af44059a1cb46cc94bfba09",
              "version_major": 2,
              "version_minor": 0
            },
            "text/plain": [
              "  0%|          | 0/2108 [00:00<?, ?it/s]"
            ]
          },
          "metadata": {},
          "output_type": "display_data"
        },
        {
          "name": "stdout",
          "output_type": "stream",
          "text": [
            "{'loss': 3.928, 'grad_norm': 7.340507507324219, 'learning_rate': 0.00037036253158777396, 'epoch': 1.0}\n"
          ]
        },
        {
          "data": {
            "application/vnd.jupyter.widget-view+json": {
              "model_id": "35211477005b452388068a0bec35f7e6",
              "version_major": 2,
              "version_minor": 0
            },
            "text/plain": [
              "  0%|          | 0/7 [00:00<?, ?it/s]"
            ]
          },
          "metadata": {},
          "output_type": "display_data"
        },
        {
          "name": "stderr",
          "output_type": "stream",
          "text": [
            "[I 2024-04-19 02:39:27,032] Trial 9 pruned. \n"
          ]
        },
        {
          "name": "stdout",
          "output_type": "stream",
          "text": [
            "{'eval_loss': 5.1592206954956055, 'eval_accuracy': 0.6628440366972477, 'eval_runtime': 1.4517, 'eval_samples_per_second': 600.659, 'eval_steps_per_second': 4.822, 'epoch': 1.0}\n"
          ]
        },
        {
          "name": "stderr",
          "output_type": "stream",
          "text": [
            "Some weights of ElectraForSequenceClassification were not initialized from the model checkpoint at google/electra-small-discriminator and are newly initialized: ['classifier.dense.bias', 'classifier.dense.weight', 'classifier.out_proj.bias', 'classifier.out_proj.weight']\n",
            "You should probably TRAIN this model on a down-stream task to be able to use it for predictions and inference.\n"
          ]
        },
        {
          "data": {
            "application/vnd.jupyter.widget-view+json": {
              "model_id": "10f1ed24b39f4cc3b7599d101902e52d",
              "version_major": 2,
              "version_minor": 0
            },
            "text/plain": [
              "  0%|          | 0/5270 [00:00<?, ?it/s]"
            ]
          },
          "metadata": {},
          "output_type": "display_data"
        },
        {
          "name": "stdout",
          "output_type": "stream",
          "text": [
            "{'loss': 0.5695, 'grad_norm': 7.445520401000977, 'learning_rate': 1.0787054225555717e-05, 'epoch': 1.0}\n"
          ]
        },
        {
          "data": {
            "application/vnd.jupyter.widget-view+json": {
              "model_id": "2d6fe38fca0748b19407bb0780a4c130",
              "version_major": 2,
              "version_minor": 0
            },
            "text/plain": [
              "  0%|          | 0/7 [00:00<?, ?it/s]"
            ]
          },
          "metadata": {},
          "output_type": "display_data"
        },
        {
          "name": "stderr",
          "output_type": "stream",
          "text": [
            "[I 2024-04-19 02:41:19,719] Trial 10 pruned. \n"
          ]
        },
        {
          "name": "stdout",
          "output_type": "stream",
          "text": [
            "{'eval_loss': 0.4069703221321106, 'eval_accuracy': 0.8727064220183486, 'eval_runtime': 1.4502, 'eval_samples_per_second': 601.316, 'eval_steps_per_second': 4.827, 'epoch': 1.0}\n"
          ]
        },
        {
          "name": "stderr",
          "output_type": "stream",
          "text": [
            "Some weights of ElectraForSequenceClassification were not initialized from the model checkpoint at google/electra-small-discriminator and are newly initialized: ['classifier.dense.bias', 'classifier.dense.weight', 'classifier.out_proj.bias', 'classifier.out_proj.weight']\n",
            "You should probably TRAIN this model on a down-stream task to be able to use it for predictions and inference.\n"
          ]
        },
        {
          "data": {
            "application/vnd.jupyter.widget-view+json": {
              "model_id": "9208cc3aeeb3454a884dfd9ad787b1da",
              "version_major": 2,
              "version_minor": 0
            },
            "text/plain": [
              "  0%|          | 0/4216 [00:00<?, ?it/s]"
            ]
          },
          "metadata": {},
          "output_type": "display_data"
        },
        {
          "name": "stdout",
          "output_type": "stream",
          "text": [
            "{'loss': 0.5621, 'grad_norm': 14.338537216186523, 'learning_rate': 5.0174854029835415e-05, 'epoch': 1.0}\n"
          ]
        },
        {
          "data": {
            "application/vnd.jupyter.widget-view+json": {
              "model_id": "d2c2b48a26864638a1fd30e9d1d66405",
              "version_major": 2,
              "version_minor": 0
            },
            "text/plain": [
              "  0%|          | 0/7 [00:00<?, ?it/s]"
            ]
          },
          "metadata": {},
          "output_type": "display_data"
        },
        {
          "name": "stdout",
          "output_type": "stream",
          "text": [
            "{'eval_loss': 0.39338329434394836, 'eval_accuracy': 0.9071100917431193, 'eval_runtime': 1.4401, 'eval_samples_per_second': 605.519, 'eval_steps_per_second': 4.861, 'epoch': 1.0}\n",
            "{'loss': 0.3067, 'grad_norm': 21.374542236328125, 'learning_rate': 4.302061894724029e-05, 'epoch': 2.0}\n"
          ]
        },
        {
          "data": {
            "application/vnd.jupyter.widget-view+json": {
              "model_id": "c93fe60ce40a4d99b7f0e8ca9343015e",
              "version_major": 2,
              "version_minor": 0
            },
            "text/plain": [
              "  0%|          | 0/7 [00:00<?, ?it/s]"
            ]
          },
          "metadata": {},
          "output_type": "display_data"
        },
        {
          "name": "stdout",
          "output_type": "stream",
          "text": [
            "{'eval_loss': 0.45042580366134644, 'eval_accuracy': 0.9185779816513762, 'eval_runtime': 1.461, 'eval_samples_per_second': 596.848, 'eval_steps_per_second': 4.791, 'epoch': 2.0}\n",
            "{'loss': 0.2271, 'grad_norm': 5.032501697540283, 'learning_rate': 3.5852782657263795e-05, 'epoch': 3.0}\n"
          ]
        },
        {
          "data": {
            "application/vnd.jupyter.widget-view+json": {
              "model_id": "6811b5f8360f4fbaba2c678cb0bcab58",
              "version_major": 2,
              "version_minor": 0
            },
            "text/plain": [
              "  0%|          | 0/7 [00:00<?, ?it/s]"
            ]
          },
          "metadata": {},
          "output_type": "display_data"
        },
        {
          "name": "stdout",
          "output_type": "stream",
          "text": [
            "{'eval_loss': 0.42918458580970764, 'eval_accuracy': 0.9208715596330275, 'eval_runtime': 1.4441, 'eval_samples_per_second': 603.85, 'eval_steps_per_second': 4.847, 'epoch': 3.0}\n",
            "{'loss': 0.176, 'grad_norm': 5.360136985778809, 'learning_rate': 2.868494636728731e-05, 'epoch': 4.0}\n"
          ]
        },
        {
          "data": {
            "application/vnd.jupyter.widget-view+json": {
              "model_id": "c1d2932b8fca42d281d46d8423320c01",
              "version_major": 2,
              "version_minor": 0
            },
            "text/plain": [
              "  0%|          | 0/7 [00:00<?, ?it/s]"
            ]
          },
          "metadata": {},
          "output_type": "display_data"
        },
        {
          "name": "stdout",
          "output_type": "stream",
          "text": [
            "{'eval_loss': 0.4744165539741516, 'eval_accuracy': 0.9208715596330275, 'eval_runtime': 1.4509, 'eval_samples_per_second': 601.02, 'eval_steps_per_second': 4.825, 'epoch': 4.0}\n",
            "{'loss': 0.1486, 'grad_norm': 11.912830352783203, 'learning_rate': 2.1517110077310823e-05, 'epoch': 5.0}\n"
          ]
        },
        {
          "data": {
            "application/vnd.jupyter.widget-view+json": {
              "model_id": "65a06ba2113a441593ce0319df24be4d",
              "version_major": 2,
              "version_minor": 0
            },
            "text/plain": [
              "  0%|          | 0/7 [00:00<?, ?it/s]"
            ]
          },
          "metadata": {},
          "output_type": "display_data"
        },
        {
          "name": "stdout",
          "output_type": "stream",
          "text": [
            "{'eval_loss': 0.4420042037963867, 'eval_accuracy': 0.9185779816513762, 'eval_runtime': 1.4442, 'eval_samples_per_second': 603.815, 'eval_steps_per_second': 4.847, 'epoch': 5.0}\n",
            "{'loss': 0.1268, 'grad_norm': 6.889047622680664, 'learning_rate': 1.4349273787334336e-05, 'epoch': 6.0}\n"
          ]
        },
        {
          "data": {
            "application/vnd.jupyter.widget-view+json": {
              "model_id": "701845ff495c4d49ad9b5721d9b67b8d",
              "version_major": 2,
              "version_minor": 0
            },
            "text/plain": [
              "  0%|          | 0/7 [00:00<?, ?it/s]"
            ]
          },
          "metadata": {},
          "output_type": "display_data"
        },
        {
          "name": "stdout",
          "output_type": "stream",
          "text": [
            "{'eval_loss': 0.4492184817790985, 'eval_accuracy': 0.9277522935779816, 'eval_runtime': 1.4504, 'eval_samples_per_second': 601.225, 'eval_steps_per_second': 4.826, 'epoch': 6.0}\n",
            "{'loss': 0.1059, 'grad_norm': 15.968618392944336, 'learning_rate': 7.195038704739208e-06, 'epoch': 7.0}\n"
          ]
        },
        {
          "data": {
            "application/vnd.jupyter.widget-view+json": {
              "model_id": "c10f80e81d2a4678879cc47465d6534a",
              "version_major": 2,
              "version_minor": 0
            },
            "text/plain": [
              "  0%|          | 0/7 [00:00<?, ?it/s]"
            ]
          },
          "metadata": {},
          "output_type": "display_data"
        },
        {
          "name": "stdout",
          "output_type": "stream",
          "text": [
            "{'eval_loss': 0.47401389479637146, 'eval_accuracy': 0.9254587155963303, 'eval_runtime': 1.4461, 'eval_samples_per_second': 602.992, 'eval_steps_per_second': 4.841, 'epoch': 7.0}\n",
            "{'loss': 0.0972, 'grad_norm': 5.614753246307373, 'learning_rate': 2.720241476271912e-08, 'epoch': 8.0}\n"
          ]
        },
        {
          "data": {
            "application/vnd.jupyter.widget-view+json": {
              "model_id": "eee489eddd1d479096d1ff1e8e4d1c07",
              "version_major": 2,
              "version_minor": 0
            },
            "text/plain": [
              "  0%|          | 0/7 [00:00<?, ?it/s]"
            ]
          },
          "metadata": {},
          "output_type": "display_data"
        },
        {
          "name": "stdout",
          "output_type": "stream",
          "text": [
            "{'eval_loss': 0.4893525540828705, 'eval_accuracy': 0.9185779816513762, 'eval_runtime': 1.4503, 'eval_samples_per_second': 601.271, 'eval_steps_per_second': 4.827, 'epoch': 8.0}\n",
            "{'train_runtime': 902.0643, 'train_samples_per_second': 597.288, 'train_steps_per_second': 4.674, 'train_loss': 0.2188198389997971, 'epoch': 8.0}\n"
          ]
        },
        {
          "name": "stderr",
          "output_type": "stream",
          "text": [
            "[I 2024-04-19 02:57:53,375] Trial 11 finished with value: 0.9185779816513762 and parameters: {'num_train_epochs': 8, 'learning_rate': 5.73426903198119e-05, 'alpha': 0.9346338538228292, 'temperature': 23}. Best is trial 11 with value: 0.9185779816513762.\n",
            "Some weights of ElectraForSequenceClassification were not initialized from the model checkpoint at google/electra-small-discriminator and are newly initialized: ['classifier.dense.bias', 'classifier.dense.weight', 'classifier.out_proj.bias', 'classifier.out_proj.weight']\n",
            "You should probably TRAIN this model on a down-stream task to be able to use it for predictions and inference.\n"
          ]
        },
        {
          "data": {
            "application/vnd.jupyter.widget-view+json": {
              "model_id": "6b19515262244734b9910ff85a7947fe",
              "version_major": 2,
              "version_minor": 0
            },
            "text/plain": [
              "  0%|          | 0/4216 [00:00<?, ?it/s]"
            ]
          },
          "metadata": {},
          "output_type": "display_data"
        },
        {
          "name": "stdout",
          "output_type": "stream",
          "text": [
            "{'loss': 0.397, 'grad_norm': 7.509405136108398, 'learning_rate': 2.0402991030650117e-05, 'epoch': 1.0}\n"
          ]
        },
        {
          "data": {
            "application/vnd.jupyter.widget-view+json": {
              "model_id": "e910941c508c4f58ae315591ec793186",
              "version_major": 2,
              "version_minor": 0
            },
            "text/plain": [
              "  0%|          | 0/7 [00:00<?, ?it/s]"
            ]
          },
          "metadata": {},
          "output_type": "display_data"
        },
        {
          "name": "stdout",
          "output_type": "stream",
          "text": [
            "{'eval_loss': 0.27017587423324585, 'eval_accuracy': 0.8990825688073395, 'eval_runtime': 1.4468, 'eval_samples_per_second': 602.727, 'eval_steps_per_second': 4.838, 'epoch': 1.0}\n",
            "{'loss': 0.2429, 'grad_norm': 13.322591781616211, 'learning_rate': 1.748827802627153e-05, 'epoch': 2.0}\n"
          ]
        },
        {
          "data": {
            "application/vnd.jupyter.widget-view+json": {
              "model_id": "f04d741da5cc415eb62af96ab2d62ff6",
              "version_major": 2,
              "version_minor": 0
            },
            "text/plain": [
              "  0%|          | 0/7 [00:00<?, ?it/s]"
            ]
          },
          "metadata": {},
          "output_type": "display_data"
        },
        {
          "name": "stderr",
          "output_type": "stream",
          "text": [
            "[I 2024-04-19 03:01:39,211] Trial 12 pruned. \n"
          ]
        },
        {
          "name": "stdout",
          "output_type": "stream",
          "text": [
            "{'eval_loss': 0.2570970952510834, 'eval_accuracy': 0.9002293577981652, 'eval_runtime': 1.4468, 'eval_samples_per_second': 602.705, 'eval_steps_per_second': 4.838, 'epoch': 2.0}\n"
          ]
        },
        {
          "name": "stderr",
          "output_type": "stream",
          "text": [
            "Some weights of ElectraForSequenceClassification were not initialized from the model checkpoint at google/electra-small-discriminator and are newly initialized: ['classifier.dense.bias', 'classifier.dense.weight', 'classifier.out_proj.bias', 'classifier.out_proj.weight']\n",
            "You should probably TRAIN this model on a down-stream task to be able to use it for predictions and inference.\n"
          ]
        },
        {
          "data": {
            "application/vnd.jupyter.widget-view+json": {
              "model_id": "68f83741b75543e0a46114c362edfb26",
              "version_major": 2,
              "version_minor": 0
            },
            "text/plain": [
              "  0%|          | 0/4743 [00:00<?, ?it/s]"
            ]
          },
          "metadata": {},
          "output_type": "display_data"
        },
        {
          "name": "stdout",
          "output_type": "stream",
          "text": [
            "{'loss': 0.8573, 'grad_norm': 22.835023880004883, 'learning_rate': 4.3163581221778226e-05, 'epoch': 1.0}\n"
          ]
        },
        {
          "data": {
            "application/vnd.jupyter.widget-view+json": {
              "model_id": "8867da805b7442e99052bb3007330608",
              "version_major": 2,
              "version_minor": 0
            },
            "text/plain": [
              "  0%|          | 0/7 [00:00<?, ?it/s]"
            ]
          },
          "metadata": {},
          "output_type": "display_data"
        },
        {
          "name": "stdout",
          "output_type": "stream",
          "text": [
            "{'eval_loss': 0.5491362810134888, 'eval_accuracy': 0.9162844036697247, 'eval_runtime': 1.4473, 'eval_samples_per_second': 602.517, 'eval_steps_per_second': 4.837, 'epoch': 1.0}\n",
            "{'loss': 0.4496, 'grad_norm': 38.72591018676758, 'learning_rate': 3.7769413020716535e-05, 'epoch': 2.0}\n"
          ]
        },
        {
          "data": {
            "application/vnd.jupyter.widget-view+json": {
              "model_id": "a4dca60581df4a8986abe240197d5ada",
              "version_major": 2,
              "version_minor": 0
            },
            "text/plain": [
              "  0%|          | 0/7 [00:00<?, ?it/s]"
            ]
          },
          "metadata": {},
          "output_type": "display_data"
        },
        {
          "name": "stdout",
          "output_type": "stream",
          "text": [
            "{'eval_loss': 0.5399537682533264, 'eval_accuracy': 0.9105504587155964, 'eval_runtime': 1.4499, 'eval_samples_per_second': 601.429, 'eval_steps_per_second': 4.828, 'epoch': 2.0}\n",
            "{'loss': 0.3331, 'grad_norm': 6.218717575073242, 'learning_rate': 3.237524481965485e-05, 'epoch': 3.0}\n"
          ]
        },
        {
          "data": {
            "application/vnd.jupyter.widget-view+json": {
              "model_id": "05c0c6ee3b1648549ce82e544b0f8e01",
              "version_major": 2,
              "version_minor": 0
            },
            "text/plain": [
              "  0%|          | 0/7 [00:00<?, ?it/s]"
            ]
          },
          "metadata": {},
          "output_type": "display_data"
        },
        {
          "name": "stdout",
          "output_type": "stream",
          "text": [
            "{'eval_loss': 0.5268839001655579, 'eval_accuracy': 0.9208715596330275, 'eval_runtime': 1.4424, 'eval_samples_per_second': 604.54, 'eval_steps_per_second': 4.853, 'epoch': 3.0}\n",
            "{'loss': 0.2593, 'grad_norm': 4.019476890563965, 'learning_rate': 2.6981076618593168e-05, 'epoch': 4.0}\n"
          ]
        },
        {
          "data": {
            "application/vnd.jupyter.widget-view+json": {
              "model_id": "1f095d154cc74a3fb69da456212f8aac",
              "version_major": 2,
              "version_minor": 0
            },
            "text/plain": [
              "  0%|          | 0/7 [00:00<?, ?it/s]"
            ]
          },
          "metadata": {},
          "output_type": "display_data"
        },
        {
          "name": "stdout",
          "output_type": "stream",
          "text": [
            "{'eval_loss': 0.5509608387947083, 'eval_accuracy': 0.9174311926605505, 'eval_runtime': 1.453, 'eval_samples_per_second': 600.123, 'eval_steps_per_second': 4.818, 'epoch': 4.0}\n",
            "{'loss': 0.2191, 'grad_norm': 19.7722110748291, 'learning_rate': 2.1586908417531485e-05, 'epoch': 5.0}\n"
          ]
        },
        {
          "data": {
            "application/vnd.jupyter.widget-view+json": {
              "model_id": "d79371e6bd26477da61247e449fc7fdf",
              "version_major": 2,
              "version_minor": 0
            },
            "text/plain": [
              "  0%|          | 0/7 [00:00<?, ?it/s]"
            ]
          },
          "metadata": {},
          "output_type": "display_data"
        },
        {
          "name": "stdout",
          "output_type": "stream",
          "text": [
            "{'eval_loss': 0.5370484590530396, 'eval_accuracy': 0.9162844036697247, 'eval_runtime': 1.4546, 'eval_samples_per_second': 599.496, 'eval_steps_per_second': 4.812, 'epoch': 5.0}\n",
            "{'loss': 0.1874, 'grad_norm': 12.621796607971191, 'learning_rate': 1.6202975829754548e-05, 'epoch': 6.0}\n"
          ]
        },
        {
          "data": {
            "application/vnd.jupyter.widget-view+json": {
              "model_id": "9bee21f7f67144698e55631bd3c6faea",
              "version_major": 2,
              "version_minor": 0
            },
            "text/plain": [
              "  0%|          | 0/7 [00:00<?, ?it/s]"
            ]
          },
          "metadata": {},
          "output_type": "display_data"
        },
        {
          "name": "stdout",
          "output_type": "stream",
          "text": [
            "{'eval_loss': 0.572212815284729, 'eval_accuracy': 0.926605504587156, 'eval_runtime': 1.4456, 'eval_samples_per_second': 603.228, 'eval_steps_per_second': 4.842, 'epoch': 6.0}\n",
            "{'loss': 0.1614, 'grad_norm': 12.125116348266602, 'learning_rate': 1.0808807628692863e-05, 'epoch': 7.0}\n"
          ]
        },
        {
          "data": {
            "application/vnd.jupyter.widget-view+json": {
              "model_id": "b0452956ce3c4c37ba0fe0136277b236",
              "version_major": 2,
              "version_minor": 0
            },
            "text/plain": [
              "  0%|          | 0/7 [00:00<?, ?it/s]"
            ]
          },
          "metadata": {},
          "output_type": "display_data"
        },
        {
          "name": "stdout",
          "output_type": "stream",
          "text": [
            "{'eval_loss': 0.5944486260414124, 'eval_accuracy': 0.9197247706422018, 'eval_runtime': 1.4613, 'eval_samples_per_second': 596.712, 'eval_steps_per_second': 4.79, 'epoch': 7.0}\n",
            "{'loss': 0.1463, 'grad_norm': 7.69290828704834, 'learning_rate': 5.414639427631178e-06, 'epoch': 8.0}\n"
          ]
        },
        {
          "data": {
            "application/vnd.jupyter.widget-view+json": {
              "model_id": "d58e93a8ef4d43248c29a1316eb0065a",
              "version_major": 2,
              "version_minor": 0
            },
            "text/plain": [
              "  0%|          | 0/7 [00:00<?, ?it/s]"
            ]
          },
          "metadata": {},
          "output_type": "display_data"
        },
        {
          "name": "stdout",
          "output_type": "stream",
          "text": [
            "{'eval_loss': 0.652703046798706, 'eval_accuracy': 0.9208715596330275, 'eval_runtime': 1.4499, 'eval_samples_per_second': 601.423, 'eval_steps_per_second': 4.828, 'epoch': 8.0}\n",
            "{'loss': 0.1339, 'grad_norm': 29.435096740722656, 'learning_rate': 2.0471226569494057e-08, 'epoch': 9.0}\n"
          ]
        },
        {
          "data": {
            "application/vnd.jupyter.widget-view+json": {
              "model_id": "80f8a3caa1004e21b53e2dfbe59e7fa1",
              "version_major": 2,
              "version_minor": 0
            },
            "text/plain": [
              "  0%|          | 0/7 [00:00<?, ?it/s]"
            ]
          },
          "metadata": {},
          "output_type": "display_data"
        },
        {
          "name": "stdout",
          "output_type": "stream",
          "text": [
            "{'eval_loss': 0.6081395149230957, 'eval_accuracy': 0.9220183486238532, 'eval_runtime': 1.4498, 'eval_samples_per_second': 601.454, 'eval_steps_per_second': 4.828, 'epoch': 9.0}\n",
            "{'train_runtime': 1015.1206, 'train_samples_per_second': 597.112, 'train_steps_per_second': 4.672, 'train_loss': 0.3052620611285299, 'epoch': 9.0}\n"
          ]
        },
        {
          "name": "stderr",
          "output_type": "stream",
          "text": [
            "[I 2024-04-19 03:19:40,546] Trial 13 finished with value: 0.9220183486238532 and parameters: {'num_train_epochs': 9, 'learning_rate': 4.854751380955516e-05, 'alpha': 0.8585651118406669, 'temperature': 23}. Best is trial 13 with value: 0.9220183486238532.\n",
            "Some weights of ElectraForSequenceClassification were not initialized from the model checkpoint at google/electra-small-discriminator and are newly initialized: ['classifier.dense.bias', 'classifier.dense.weight', 'classifier.out_proj.bias', 'classifier.out_proj.weight']\n",
            "You should probably TRAIN this model on a down-stream task to be able to use it for predictions and inference.\n"
          ]
        },
        {
          "data": {
            "application/vnd.jupyter.widget-view+json": {
              "model_id": "6159731393ce4bbf8775268d19a84ad7",
              "version_major": 2,
              "version_minor": 0
            },
            "text/plain": [
              "  0%|          | 0/4216 [00:00<?, ?it/s]"
            ]
          },
          "metadata": {},
          "output_type": "display_data"
        },
        {
          "name": "stdout",
          "output_type": "stream",
          "text": [
            "{'loss': 0.722, 'grad_norm': 17.319332122802734, 'learning_rate': 4.8198886816999536e-05, 'epoch': 1.0}\n"
          ]
        },
        {
          "data": {
            "application/vnd.jupyter.widget-view+json": {
              "model_id": "fa9e941de92b4cad8d470a1d7d616bcc",
              "version_major": 2,
              "version_minor": 0
            },
            "text/plain": [
              "  0%|          | 0/7 [00:00<?, ?it/s]"
            ]
          },
          "metadata": {},
          "output_type": "display_data"
        },
        {
          "name": "stdout",
          "output_type": "stream",
          "text": [
            "{'eval_loss': 0.4791809618473053, 'eval_accuracy': 0.9071100917431193, 'eval_runtime': 1.4471, 'eval_samples_per_second': 602.582, 'eval_steps_per_second': 4.837, 'epoch': 1.0}\n",
            "{'loss': 0.3851, 'grad_norm': 32.41178894042969, 'learning_rate': 4.131519756156356e-05, 'epoch': 2.0}\n"
          ]
        },
        {
          "data": {
            "application/vnd.jupyter.widget-view+json": {
              "model_id": "88fbd9ecff6f4c5585176e8037e26174",
              "version_major": 2,
              "version_minor": 0
            },
            "text/plain": [
              "  0%|          | 0/7 [00:00<?, ?it/s]"
            ]
          },
          "metadata": {},
          "output_type": "display_data"
        },
        {
          "name": "stdout",
          "output_type": "stream",
          "text": [
            "{'eval_loss': 0.5533952116966248, 'eval_accuracy': 0.9036697247706422, 'eval_runtime': 1.4377, 'eval_samples_per_second': 606.531, 'eval_steps_per_second': 4.869, 'epoch': 2.0}\n",
            "{'loss': 0.2834, 'grad_norm': 11.841134071350098, 'learning_rate': 3.443150830612758e-05, 'epoch': 3.0}\n"
          ]
        },
        {
          "data": {
            "application/vnd.jupyter.widget-view+json": {
              "model_id": "7ce0ef85c61b4eff9c649e9831af344f",
              "version_major": 2,
              "version_minor": 0
            },
            "text/plain": [
              "  0%|          | 0/7 [00:00<?, ?it/s]"
            ]
          },
          "metadata": {},
          "output_type": "display_data"
        },
        {
          "name": "stdout",
          "output_type": "stream",
          "text": [
            "{'eval_loss': 0.513361394405365, 'eval_accuracy': 0.9220183486238532, 'eval_runtime': 1.446, 'eval_samples_per_second': 603.045, 'eval_steps_per_second': 4.841, 'epoch': 3.0}\n",
            "{'loss': 0.2197, 'grad_norm': 5.49588680267334, 'learning_rate': 2.7547819050691604e-05, 'epoch': 4.0}\n"
          ]
        },
        {
          "data": {
            "application/vnd.jupyter.widget-view+json": {
              "model_id": "67f7356bb0a243de813829c82d58c118",
              "version_major": 2,
              "version_minor": 0
            },
            "text/plain": [
              "  0%|          | 0/7 [00:00<?, ?it/s]"
            ]
          },
          "metadata": {},
          "output_type": "display_data"
        },
        {
          "name": "stdout",
          "output_type": "stream",
          "text": [
            "{'eval_loss': 0.5235697031021118, 'eval_accuracy': 0.9208715596330275, 'eval_runtime': 1.4444, 'eval_samples_per_second': 603.71, 'eval_steps_per_second': 4.846, 'epoch': 4.0}\n",
            "{'loss': 0.1838, 'grad_norm': 17.881845474243164, 'learning_rate': 2.0677191824203323e-05, 'epoch': 5.0}\n"
          ]
        },
        {
          "data": {
            "application/vnd.jupyter.widget-view+json": {
              "model_id": "7a8b12186ded462fa62709c5f01d8a0a",
              "version_major": 2,
              "version_minor": 0
            },
            "text/plain": [
              "  0%|          | 0/7 [00:00<?, ?it/s]"
            ]
          },
          "metadata": {},
          "output_type": "display_data"
        },
        {
          "name": "stdout",
          "output_type": "stream",
          "text": [
            "{'eval_loss': 0.5187216997146606, 'eval_accuracy': 0.9174311926605505, 'eval_runtime': 1.4478, 'eval_samples_per_second': 602.286, 'eval_steps_per_second': 4.835, 'epoch': 5.0}\n",
            "{'loss': 0.1587, 'grad_norm': 9.661787033081055, 'learning_rate': 1.3793502568767347e-05, 'epoch': 6.0}\n"
          ]
        },
        {
          "data": {
            "application/vnd.jupyter.widget-view+json": {
              "model_id": "5d0108a3a83a44e5a3dc7b2be56c5dd7",
              "version_major": 2,
              "version_minor": 0
            },
            "text/plain": [
              "  0%|          | 0/7 [00:00<?, ?it/s]"
            ]
          },
          "metadata": {},
          "output_type": "display_data"
        },
        {
          "name": "stderr",
          "output_type": "stream",
          "text": [
            "[I 2024-04-19 03:30:58,583] Trial 14 pruned. \n"
          ]
        },
        {
          "name": "stdout",
          "output_type": "stream",
          "text": [
            "{'eval_loss': 0.5268951058387756, 'eval_accuracy': 0.9220183486238532, 'eval_runtime': 1.4468, 'eval_samples_per_second': 602.727, 'eval_steps_per_second': 4.838, 'epoch': 6.0}\n"
          ]
        },
        {
          "name": "stderr",
          "output_type": "stream",
          "text": [
            "Some weights of ElectraForSequenceClassification were not initialized from the model checkpoint at google/electra-small-discriminator and are newly initialized: ['classifier.dense.bias', 'classifier.dense.weight', 'classifier.out_proj.bias', 'classifier.out_proj.weight']\n",
            "You should probably TRAIN this model on a down-stream task to be able to use it for predictions and inference.\n"
          ]
        },
        {
          "data": {
            "application/vnd.jupyter.widget-view+json": {
              "model_id": "b1dac75680784cd7b61df10800772966",
              "version_major": 2,
              "version_minor": 0
            },
            "text/plain": [
              "  0%|          | 0/4216 [00:00<?, ?it/s]"
            ]
          },
          "metadata": {},
          "output_type": "display_data"
        },
        {
          "name": "stdout",
          "output_type": "stream",
          "text": [
            "{'loss': 0.8727, 'grad_norm': 19.587562561035156, 'learning_rate': 4.871658725828052e-05, 'epoch': 1.0}\n"
          ]
        },
        {
          "data": {
            "application/vnd.jupyter.widget-view+json": {
              "model_id": "3fe931e9263747b6838d5dcd1e4c59d8",
              "version_major": 2,
              "version_minor": 0
            },
            "text/plain": [
              "  0%|          | 0/7 [00:00<?, ?it/s]"
            ]
          },
          "metadata": {},
          "output_type": "display_data"
        },
        {
          "name": "stdout",
          "output_type": "stream",
          "text": [
            "{'eval_loss': 0.579243004322052, 'eval_accuracy': 0.908256880733945, 'eval_runtime': 1.4486, 'eval_samples_per_second': 601.96, 'eval_steps_per_second': 4.832, 'epoch': 1.0}\n",
            "{'loss': 0.4502, 'grad_norm': 29.514617919921875, 'learning_rate': 4.175896083955048e-05, 'epoch': 2.0}\n"
          ]
        },
        {
          "data": {
            "application/vnd.jupyter.widget-view+json": {
              "model_id": "d9f1d3a104b0408d90e52a4b28b38474",
              "version_major": 2,
              "version_minor": 0
            },
            "text/plain": [
              "  0%|          | 0/7 [00:00<?, ?it/s]"
            ]
          },
          "metadata": {},
          "output_type": "display_data"
        },
        {
          "name": "stdout",
          "output_type": "stream",
          "text": [
            "{'eval_loss': 0.6629878878593445, 'eval_accuracy': 0.9013761467889908, 'eval_runtime': 1.4564, 'eval_samples_per_second': 598.751, 'eval_steps_per_second': 4.806, 'epoch': 2.0}\n",
            "{'loss': 0.3289, 'grad_norm': 11.078173637390137, 'learning_rate': 3.4801334420820444e-05, 'epoch': 3.0}\n"
          ]
        },
        {
          "data": {
            "application/vnd.jupyter.widget-view+json": {
              "model_id": "e671ff7a868942a89ecf7d056b4b5067",
              "version_major": 2,
              "version_minor": 0
            },
            "text/plain": [
              "  0%|          | 0/7 [00:00<?, ?it/s]"
            ]
          },
          "metadata": {},
          "output_type": "display_data"
        },
        {
          "name": "stderr",
          "output_type": "stream",
          "text": [
            "[I 2024-04-19 03:36:37,629] Trial 15 pruned. \n"
          ]
        },
        {
          "name": "stdout",
          "output_type": "stream",
          "text": [
            "{'eval_loss': 0.6023737788200378, 'eval_accuracy': 0.9128440366972477, 'eval_runtime': 1.4423, 'eval_samples_per_second': 604.591, 'eval_steps_per_second': 4.853, 'epoch': 3.0}\n"
          ]
        },
        {
          "name": "stderr",
          "output_type": "stream",
          "text": [
            "Some weights of ElectraForSequenceClassification were not initialized from the model checkpoint at google/electra-small-discriminator and are newly initialized: ['classifier.dense.bias', 'classifier.dense.weight', 'classifier.out_proj.bias', 'classifier.out_proj.weight']\n",
            "You should probably TRAIN this model on a down-stream task to be able to use it for predictions and inference.\n"
          ]
        },
        {
          "data": {
            "application/vnd.jupyter.widget-view+json": {
              "model_id": "51818e006bb64d2f878f5fba5ae9a49b",
              "version_major": 2,
              "version_minor": 0
            },
            "text/plain": [
              "  0%|          | 0/3689 [00:00<?, ?it/s]"
            ]
          },
          "metadata": {},
          "output_type": "display_data"
        },
        {
          "name": "stdout",
          "output_type": "stream",
          "text": [
            "{'loss': 1.4683, 'grad_norm': 43.93117141723633, 'learning_rate': 0.0001210915308814829, 'epoch': 1.0}\n"
          ]
        },
        {
          "data": {
            "application/vnd.jupyter.widget-view+json": {
              "model_id": "37b52ca3fde7431e98544f6279894457",
              "version_major": 2,
              "version_minor": 0
            },
            "text/plain": [
              "  0%|          | 0/7 [00:00<?, ?it/s]"
            ]
          },
          "metadata": {},
          "output_type": "display_data"
        },
        {
          "name": "stdout",
          "output_type": "stream",
          "text": [
            "{'eval_loss': 1.163783073425293, 'eval_accuracy': 0.893348623853211, 'eval_runtime': 1.4455, 'eval_samples_per_second': 603.251, 'eval_steps_per_second': 4.843, 'epoch': 1.0}\n",
            "{'loss': 0.7178, 'grad_norm': 19.654346466064453, 'learning_rate': 0.0001009223662877593, 'epoch': 2.0}\n"
          ]
        },
        {
          "data": {
            "application/vnd.jupyter.widget-view+json": {
              "model_id": "94e4166daffc46d5a623bd2488d6072a",
              "version_major": 2,
              "version_minor": 0
            },
            "text/plain": [
              "  0%|          | 0/7 [00:00<?, ?it/s]"
            ]
          },
          "metadata": {},
          "output_type": "display_data"
        },
        {
          "name": "stderr",
          "output_type": "stream",
          "text": [
            "[I 2024-04-19 03:40:23,653] Trial 16 pruned. \n"
          ]
        },
        {
          "name": "stdout",
          "output_type": "stream",
          "text": [
            "{'eval_loss': 1.1105067729949951, 'eval_accuracy': 0.8887614678899083, 'eval_runtime': 1.4481, 'eval_samples_per_second': 602.163, 'eval_steps_per_second': 4.834, 'epoch': 2.0}\n"
          ]
        },
        {
          "name": "stderr",
          "output_type": "stream",
          "text": [
            "Some weights of ElectraForSequenceClassification were not initialized from the model checkpoint at google/electra-small-discriminator and are newly initialized: ['classifier.dense.bias', 'classifier.dense.weight', 'classifier.out_proj.bias', 'classifier.out_proj.weight']\n",
            "You should probably TRAIN this model on a down-stream task to be able to use it for predictions and inference.\n"
          ]
        },
        {
          "data": {
            "application/vnd.jupyter.widget-view+json": {
              "model_id": "84f56a3ba4334d7aaf8c2d8e6bfc75d9",
              "version_major": 2,
              "version_minor": 0
            },
            "text/plain": [
              "  0%|          | 0/4743 [00:00<?, ?it/s]"
            ]
          },
          "metadata": {},
          "output_type": "display_data"
        },
        {
          "name": "stdout",
          "output_type": "stream",
          "text": [
            "{'loss': 1.1526, 'grad_norm': 12.6882963180542, 'learning_rate': 1.161133741291204e-05, 'epoch': 1.0}\n"
          ]
        },
        {
          "data": {
            "application/vnd.jupyter.widget-view+json": {
              "model_id": "5b38f7a47b104a37b158e5ab2b74cf84",
              "version_major": 2,
              "version_minor": 0
            },
            "text/plain": [
              "  0%|          | 0/7 [00:00<?, ?it/s]"
            ]
          },
          "metadata": {},
          "output_type": "display_data"
        },
        {
          "name": "stderr",
          "output_type": "stream",
          "text": [
            "[I 2024-04-19 03:42:16,550] Trial 17 pruned. \n"
          ]
        },
        {
          "name": "stdout",
          "output_type": "stream",
          "text": [
            "{'eval_loss': 0.8052427172660828, 'eval_accuracy': 0.8727064220183486, 'eval_runtime': 1.447, 'eval_samples_per_second': 602.639, 'eval_steps_per_second': 4.838, 'epoch': 1.0}\n"
          ]
        },
        {
          "name": "stderr",
          "output_type": "stream",
          "text": [
            "Some weights of ElectraForSequenceClassification were not initialized from the model checkpoint at google/electra-small-discriminator and are newly initialized: ['classifier.dense.bias', 'classifier.dense.weight', 'classifier.out_proj.bias', 'classifier.out_proj.weight']\n",
            "You should probably TRAIN this model on a down-stream task to be able to use it for predictions and inference.\n"
          ]
        },
        {
          "data": {
            "application/vnd.jupyter.widget-view+json": {
              "model_id": "c849c0bb7b2843c5ab3d20b18e136b47",
              "version_major": 2,
              "version_minor": 0
            },
            "text/plain": [
              "  0%|          | 0/4743 [00:00<?, ?it/s]"
            ]
          },
          "metadata": {},
          "output_type": "display_data"
        },
        {
          "name": "stdout",
          "output_type": "stream",
          "text": [
            "{'loss': 1.6823, 'grad_norm': 30.691499710083008, 'learning_rate': 0.00012903895469071425, 'epoch': 1.0}\n"
          ]
        },
        {
          "data": {
            "application/vnd.jupyter.widget-view+json": {
              "model_id": "9cd5e6315b024fd78becbdf668faa1f6",
              "version_major": 2,
              "version_minor": 0
            },
            "text/plain": [
              "  0%|          | 0/7 [00:00<?, ?it/s]"
            ]
          },
          "metadata": {},
          "output_type": "display_data"
        },
        {
          "name": "stdout",
          "output_type": "stream",
          "text": [
            "{'eval_loss': 1.4031481742858887, 'eval_accuracy': 0.8922018348623854, 'eval_runtime': 1.462, 'eval_samples_per_second': 596.433, 'eval_steps_per_second': 4.788, 'epoch': 1.0}\n",
            "{'loss': 0.8262, 'grad_norm': 63.848548889160156, 'learning_rate': 0.00011291673346690998, 'epoch': 2.0}\n"
          ]
        },
        {
          "data": {
            "application/vnd.jupyter.widget-view+json": {
              "model_id": "72f73793214048db9820d9205300aa9e",
              "version_major": 2,
              "version_minor": 0
            },
            "text/plain": [
              "  0%|          | 0/7 [00:00<?, ?it/s]"
            ]
          },
          "metadata": {},
          "output_type": "display_data"
        },
        {
          "name": "stderr",
          "output_type": "stream",
          "text": [
            "[I 2024-04-19 03:46:02,453] Trial 18 pruned. \n"
          ]
        },
        {
          "name": "stdout",
          "output_type": "stream",
          "text": [
            "{'eval_loss': 1.4074316024780273, 'eval_accuracy': 0.8910550458715596, 'eval_runtime': 1.4452, 'eval_samples_per_second': 603.386, 'eval_steps_per_second': 4.844, 'epoch': 2.0}\n"
          ]
        },
        {
          "name": "stderr",
          "output_type": "stream",
          "text": [
            "Some weights of ElectraForSequenceClassification were not initialized from the model checkpoint at google/electra-small-discriminator and are newly initialized: ['classifier.dense.bias', 'classifier.dense.weight', 'classifier.out_proj.bias', 'classifier.out_proj.weight']\n",
            "You should probably TRAIN this model on a down-stream task to be able to use it for predictions and inference.\n"
          ]
        },
        {
          "data": {
            "application/vnd.jupyter.widget-view+json": {
              "model_id": "f69aa60f46694e329d1264d3c8f61ec6",
              "version_major": 2,
              "version_minor": 0
            },
            "text/plain": [
              "  0%|          | 0/3162 [00:00<?, ?it/s]"
            ]
          },
          "metadata": {},
          "output_type": "display_data"
        },
        {
          "name": "stdout",
          "output_type": "stream",
          "text": [
            "{'loss': 1.0934, 'grad_norm': 20.130027770996094, 'learning_rate': 3.554017689638086e-05, 'epoch': 1.0}\n"
          ]
        },
        {
          "data": {
            "application/vnd.jupyter.widget-view+json": {
              "model_id": "0e8044f9ecc74995bbbc26f6a5cb0936",
              "version_major": 2,
              "version_minor": 0
            },
            "text/plain": [
              "  0%|          | 0/7 [00:00<?, ?it/s]"
            ]
          },
          "metadata": {},
          "output_type": "display_data"
        },
        {
          "name": "stdout",
          "output_type": "stream",
          "text": [
            "{'eval_loss': 0.6624947786331177, 'eval_accuracy': 0.9048165137614679, 'eval_runtime': 1.4531, 'eval_samples_per_second': 600.115, 'eval_steps_per_second': 4.817, 'epoch': 1.0}\n",
            "{'loss': 0.5628, 'grad_norm': 33.143531799316406, 'learning_rate': 2.8434838040389697e-05, 'epoch': 2.0}\n"
          ]
        },
        {
          "data": {
            "application/vnd.jupyter.widget-view+json": {
              "model_id": "169744111ec94f1f891638ec5f1112a1",
              "version_major": 2,
              "version_minor": 0
            },
            "text/plain": [
              "  0%|          | 0/7 [00:00<?, ?it/s]"
            ]
          },
          "metadata": {},
          "output_type": "display_data"
        },
        {
          "name": "stdout",
          "output_type": "stream",
          "text": [
            "{'eval_loss': 0.6784337162971497, 'eval_accuracy': 0.9036697247706422, 'eval_runtime': 1.4531, 'eval_samples_per_second': 600.1, 'eval_steps_per_second': 4.817, 'epoch': 2.0}\n",
            "{'loss': 0.4182, 'grad_norm': 15.539627075195312, 'learning_rate': 2.132949918439853e-05, 'epoch': 3.0}\n"
          ]
        },
        {
          "data": {
            "application/vnd.jupyter.widget-view+json": {
              "model_id": "87230624fdd2437cb6b70542bbc95be4",
              "version_major": 2,
              "version_minor": 0
            },
            "text/plain": [
              "  0%|          | 0/7 [00:00<?, ?it/s]"
            ]
          },
          "metadata": {},
          "output_type": "display_data"
        },
        {
          "name": "stderr",
          "output_type": "stream",
          "text": [
            "[I 2024-04-19 03:51:41,055] Trial 19 pruned. \n"
          ]
        },
        {
          "name": "stdout",
          "output_type": "stream",
          "text": [
            "{'eval_loss': 0.6361051797866821, 'eval_accuracy': 0.9139908256880734, 'eval_runtime': 1.4428, 'eval_samples_per_second': 604.366, 'eval_steps_per_second': 4.852, 'epoch': 3.0}\n"
          ]
        },
        {
          "name": "stderr",
          "output_type": "stream",
          "text": [
            "Some weights of ElectraForSequenceClassification were not initialized from the model checkpoint at google/electra-small-discriminator and are newly initialized: ['classifier.dense.bias', 'classifier.dense.weight', 'classifier.out_proj.bias', 'classifier.out_proj.weight']\n",
            "You should probably TRAIN this model on a down-stream task to be able to use it for predictions and inference.\n"
          ]
        },
        {
          "data": {
            "application/vnd.jupyter.widget-view+json": {
              "model_id": "db3a9e39e3624930ae695836b38f2226",
              "version_major": 2,
              "version_minor": 0
            },
            "text/plain": [
              "  0%|          | 0/3689 [00:00<?, ?it/s]"
            ]
          },
          "metadata": {},
          "output_type": "display_data"
        },
        {
          "name": "stdout",
          "output_type": "stream",
          "text": [
            "{'loss': 1.6431, 'grad_norm': 44.26585006713867, 'learning_rate': 6.064402229159703e-05, 'epoch': 1.0}\n"
          ]
        },
        {
          "data": {
            "application/vnd.jupyter.widget-view+json": {
              "model_id": "489a1383bc4a47988fa0267d828ea1c6",
              "version_major": 2,
              "version_minor": 0
            },
            "text/plain": [
              "  0%|          | 0/7 [00:00<?, ?it/s]"
            ]
          },
          "metadata": {},
          "output_type": "display_data"
        },
        {
          "name": "stdout",
          "output_type": "stream",
          "text": [
            "{'eval_loss': 1.0662537813186646, 'eval_accuracy': 0.8944954128440367, 'eval_runtime': 1.4489, 'eval_samples_per_second': 601.833, 'eval_steps_per_second': 4.831, 'epoch': 1.0}\n",
            "{'loss': 0.778, 'grad_norm': 44.72014617919922, 'learning_rate': 5.054307420446946e-05, 'epoch': 2.0}\n"
          ]
        },
        {
          "data": {
            "application/vnd.jupyter.widget-view+json": {
              "model_id": "393271bbd1ca4c3d8747375648f8f7b5",
              "version_major": 2,
              "version_minor": 0
            },
            "text/plain": [
              "  0%|          | 0/7 [00:00<?, ?it/s]"
            ]
          },
          "metadata": {},
          "output_type": "display_data"
        },
        {
          "name": "stdout",
          "output_type": "stream",
          "text": [
            "{'eval_loss': 1.0714185237884521, 'eval_accuracy': 0.9036697247706422, 'eval_runtime': 1.4519, 'eval_samples_per_second': 600.589, 'eval_steps_per_second': 4.821, 'epoch': 2.0}\n",
            "{'loss': 0.5608, 'grad_norm': 59.29368591308594, 'learning_rate': 4.044212611734189e-05, 'epoch': 3.0}\n"
          ]
        },
        {
          "data": {
            "application/vnd.jupyter.widget-view+json": {
              "model_id": "9f956abc5cf446e79d385e2f9d46fc90",
              "version_major": 2,
              "version_minor": 0
            },
            "text/plain": [
              "  0%|          | 0/7 [00:00<?, ?it/s]"
            ]
          },
          "metadata": {},
          "output_type": "display_data"
        },
        {
          "name": "stderr",
          "output_type": "stream",
          "text": [
            "[I 2024-04-19 03:57:20,480] Trial 20 pruned. \n"
          ]
        },
        {
          "name": "stdout",
          "output_type": "stream",
          "text": [
            "{'eval_loss': 0.9973759651184082, 'eval_accuracy': 0.911697247706422, 'eval_runtime': 1.4463, 'eval_samples_per_second': 602.932, 'eval_steps_per_second': 4.84, 'epoch': 3.0}\n"
          ]
        },
        {
          "name": "stderr",
          "output_type": "stream",
          "text": [
            "Some weights of ElectraForSequenceClassification were not initialized from the model checkpoint at google/electra-small-discriminator and are newly initialized: ['classifier.dense.bias', 'classifier.dense.weight', 'classifier.out_proj.bias', 'classifier.out_proj.weight']\n",
            "You should probably TRAIN this model on a down-stream task to be able to use it for predictions and inference.\n"
          ]
        },
        {
          "data": {
            "application/vnd.jupyter.widget-view+json": {
              "model_id": "0c695078d9864dc3a4d310e95590ff88",
              "version_major": 2,
              "version_minor": 0
            },
            "text/plain": [
              "  0%|          | 0/4743 [00:00<?, ?it/s]"
            ]
          },
          "metadata": {},
          "output_type": "display_data"
        },
        {
          "name": "stdout",
          "output_type": "stream",
          "text": [
            "{'loss': 1.9242, 'grad_norm': 27.675573348999023, 'learning_rate': 1.689625603488882e-05, 'epoch': 1.0}\n"
          ]
        },
        {
          "data": {
            "application/vnd.jupyter.widget-view+json": {
              "model_id": "8c6a9c6cb5e940dd9bfd52536d15694c",
              "version_major": 2,
              "version_minor": 0
            },
            "text/plain": [
              "  0%|          | 0/7 [00:00<?, ?it/s]"
            ]
          },
          "metadata": {},
          "output_type": "display_data"
        },
        {
          "name": "stderr",
          "output_type": "stream",
          "text": [
            "[I 2024-04-19 03:59:13,772] Trial 21 pruned. \n"
          ]
        },
        {
          "name": "stdout",
          "output_type": "stream",
          "text": [
            "{'eval_loss': 1.1285181045532227, 'eval_accuracy': 0.8795871559633027, 'eval_runtime': 1.4541, 'eval_samples_per_second': 599.682, 'eval_steps_per_second': 4.814, 'epoch': 1.0}\n"
          ]
        },
        {
          "name": "stderr",
          "output_type": "stream",
          "text": [
            "Some weights of ElectraForSequenceClassification were not initialized from the model checkpoint at google/electra-small-discriminator and are newly initialized: ['classifier.dense.bias', 'classifier.dense.weight', 'classifier.out_proj.bias', 'classifier.out_proj.weight']\n",
            "You should probably TRAIN this model on a down-stream task to be able to use it for predictions and inference.\n"
          ]
        },
        {
          "data": {
            "application/vnd.jupyter.widget-view+json": {
              "model_id": "d66acce536c54800a5948a6c1a42d0b5",
              "version_major": 2,
              "version_minor": 0
            },
            "text/plain": [
              "  0%|          | 0/5270 [00:00<?, ?it/s]"
            ]
          },
          "metadata": {},
          "output_type": "display_data"
        },
        {
          "name": "stdout",
          "output_type": "stream",
          "text": [
            "{'loss': 0.6671, 'grad_norm': 13.01644229888916, 'learning_rate': 2.7002954057123424e-05, 'epoch': 1.0}\n"
          ]
        },
        {
          "data": {
            "application/vnd.jupyter.widget-view+json": {
              "model_id": "a1632ce289d64ba08b79cf1feeb878af",
              "version_major": 2,
              "version_minor": 0
            },
            "text/plain": [
              "  0%|          | 0/7 [00:00<?, ?it/s]"
            ]
          },
          "metadata": {},
          "output_type": "display_data"
        },
        {
          "name": "stdout",
          "output_type": "stream",
          "text": [
            "{'eval_loss': 0.428321897983551, 'eval_accuracy': 0.9036697247706422, 'eval_runtime': 1.451, 'eval_samples_per_second': 600.984, 'eval_steps_per_second': 4.824, 'epoch': 1.0}\n",
            "{'loss': 0.3779, 'grad_norm': 25.425676345825195, 'learning_rate': 2.4002625828554156e-05, 'epoch': 2.0}\n"
          ]
        },
        {
          "data": {
            "application/vnd.jupyter.widget-view+json": {
              "model_id": "fa01444d83c644d6838fe45a22588c5c",
              "version_major": 2,
              "version_minor": 0
            },
            "text/plain": [
              "  0%|          | 0/7 [00:00<?, ?it/s]"
            ]
          },
          "metadata": {},
          "output_type": "display_data"
        },
        {
          "name": "stdout",
          "output_type": "stream",
          "text": [
            "{'eval_loss': 0.40753328800201416, 'eval_accuracy': 0.9048165137614679, 'eval_runtime': 1.4531, 'eval_samples_per_second': 600.091, 'eval_steps_per_second': 4.817, 'epoch': 2.0}\n",
            "{'loss': 0.2908, 'grad_norm': 7.495176792144775, 'learning_rate': 2.1002297599984884e-05, 'epoch': 3.0}\n"
          ]
        },
        {
          "data": {
            "application/vnd.jupyter.widget-view+json": {
              "model_id": "33aca40c0ca44d0cab4211a2bd544c4f",
              "version_major": 2,
              "version_minor": 0
            },
            "text/plain": [
              "  0%|          | 0/7 [00:00<?, ?it/s]"
            ]
          },
          "metadata": {},
          "output_type": "display_data"
        },
        {
          "name": "stdout",
          "output_type": "stream",
          "text": [
            "{'eval_loss': 0.4330578148365021, 'eval_accuracy': 0.9162844036697247, 'eval_runtime': 1.4523, 'eval_samples_per_second': 600.414, 'eval_steps_per_second': 4.82, 'epoch': 3.0}\n",
            "{'loss': 0.2367, 'grad_norm': 5.248865127563477, 'learning_rate': 1.8007662593860718e-05, 'epoch': 4.0}\n"
          ]
        },
        {
          "data": {
            "application/vnd.jupyter.widget-view+json": {
              "model_id": "0c1248efaac348d9b72d243cd52424e7",
              "version_major": 2,
              "version_minor": 0
            },
            "text/plain": [
              "  0%|          | 0/7 [00:00<?, ?it/s]"
            ]
          },
          "metadata": {},
          "output_type": "display_data"
        },
        {
          "name": "stderr",
          "output_type": "stream",
          "text": [
            "[I 2024-04-19 04:06:46,520] Trial 22 pruned. \n"
          ]
        },
        {
          "name": "stdout",
          "output_type": "stream",
          "text": [
            "{'eval_loss': 0.4434203505516052, 'eval_accuracy': 0.9151376146788991, 'eval_runtime': 1.4564, 'eval_samples_per_second': 598.722, 'eval_steps_per_second': 4.806, 'epoch': 4.0}\n"
          ]
        },
        {
          "name": "stderr",
          "output_type": "stream",
          "text": [
            "Some weights of ElectraForSequenceClassification were not initialized from the model checkpoint at google/electra-small-discriminator and are newly initialized: ['classifier.dense.bias', 'classifier.dense.weight', 'classifier.out_proj.bias', 'classifier.out_proj.weight']\n",
            "You should probably TRAIN this model on a down-stream task to be able to use it for predictions and inference.\n"
          ]
        },
        {
          "data": {
            "application/vnd.jupyter.widget-view+json": {
              "model_id": "90936e0812f045f88e013ad003d88468",
              "version_major": 2,
              "version_minor": 0
            },
            "text/plain": [
              "  0%|          | 0/4743 [00:00<?, ?it/s]"
            ]
          },
          "metadata": {},
          "output_type": "display_data"
        },
        {
          "name": "stdout",
          "output_type": "stream",
          "text": [
            "{'loss': 1.6479, 'grad_norm': 23.717376708984375, 'learning_rate': 1.5081753611293434e-05, 'epoch': 1.0}\n"
          ]
        },
        {
          "data": {
            "application/vnd.jupyter.widget-view+json": {
              "model_id": "5c387c5467a449d4b3f118fa76278ded",
              "version_major": 2,
              "version_minor": 0
            },
            "text/plain": [
              "  0%|          | 0/7 [00:00<?, ?it/s]"
            ]
          },
          "metadata": {},
          "output_type": "display_data"
        },
        {
          "name": "stderr",
          "output_type": "stream",
          "text": [
            "[I 2024-04-19 04:08:39,963] Trial 23 pruned. \n"
          ]
        },
        {
          "name": "stdout",
          "output_type": "stream",
          "text": [
            "{'eval_loss': 1.023799180984497, 'eval_accuracy': 0.8795871559633027, 'eval_runtime': 1.4511, 'eval_samples_per_second': 600.906, 'eval_steps_per_second': 4.824, 'epoch': 1.0}\n"
          ]
        },
        {
          "name": "stderr",
          "output_type": "stream",
          "text": [
            "Some weights of ElectraForSequenceClassification were not initialized from the model checkpoint at google/electra-small-discriminator and are newly initialized: ['classifier.dense.bias', 'classifier.dense.weight', 'classifier.out_proj.bias', 'classifier.out_proj.weight']\n",
            "You should probably TRAIN this model on a down-stream task to be able to use it for predictions and inference.\n"
          ]
        },
        {
          "data": {
            "application/vnd.jupyter.widget-view+json": {
              "model_id": "70da4eaeea8d40c7a17e504dd0468c4f",
              "version_major": 2,
              "version_minor": 0
            },
            "text/plain": [
              "  0%|          | 0/4216 [00:00<?, ?it/s]"
            ]
          },
          "metadata": {},
          "output_type": "display_data"
        },
        {
          "name": "stdout",
          "output_type": "stream",
          "text": [
            "{'loss': 1.7353, 'grad_norm': 29.21723175048828, 'learning_rate': 2.957608242808066e-05, 'epoch': 1.0}\n"
          ]
        },
        {
          "data": {
            "application/vnd.jupyter.widget-view+json": {
              "model_id": "8761ccdb4d14434684bd747df17df991",
              "version_major": 2,
              "version_minor": 0
            },
            "text/plain": [
              "  0%|          | 0/7 [00:00<?, ?it/s]"
            ]
          },
          "metadata": {},
          "output_type": "display_data"
        },
        {
          "name": "stdout",
          "output_type": "stream",
          "text": [
            "{'eval_loss': 0.9055101871490479, 'eval_accuracy': 0.8967889908256881, 'eval_runtime': 1.4428, 'eval_samples_per_second': 604.362, 'eval_steps_per_second': 4.852, 'epoch': 1.0}\n",
            "{'loss': 0.855, 'grad_norm': 32.18894958496094, 'learning_rate': 2.5360088022343416e-05, 'epoch': 2.0}\n"
          ]
        },
        {
          "data": {
            "application/vnd.jupyter.widget-view+json": {
              "model_id": "53ba57fb1698426daf865e913624d95b",
              "version_major": 2,
              "version_minor": 0
            },
            "text/plain": [
              "  0%|          | 0/7 [00:00<?, ?it/s]"
            ]
          },
          "metadata": {},
          "output_type": "display_data"
        },
        {
          "name": "stdout",
          "output_type": "stream",
          "text": [
            "{'eval_loss': 0.8889522552490234, 'eval_accuracy': 0.9059633027522935, 'eval_runtime': 1.4504, 'eval_samples_per_second': 601.197, 'eval_steps_per_second': 4.826, 'epoch': 2.0}\n",
            "{'loss': 0.6404, 'grad_norm': 18.654333114624023, 'learning_rate': 2.113607841811618e-05, 'epoch': 3.0}\n"
          ]
        },
        {
          "data": {
            "application/vnd.jupyter.widget-view+json": {
              "model_id": "a2413ab495e947cb9c548c21f4889b50",
              "version_major": 2,
              "version_minor": 0
            },
            "text/plain": [
              "  0%|          | 0/7 [00:00<?, ?it/s]"
            ]
          },
          "metadata": {},
          "output_type": "display_data"
        },
        {
          "name": "stderr",
          "output_type": "stream",
          "text": [
            "[I 2024-04-19 04:14:19,333] Trial 24 pruned. \n"
          ]
        },
        {
          "name": "stdout",
          "output_type": "stream",
          "text": [
            "{'eval_loss': 0.8922274112701416, 'eval_accuracy': 0.9139908256880734, 'eval_runtime': 1.4556, 'eval_samples_per_second': 599.055, 'eval_steps_per_second': 4.809, 'epoch': 3.0}\n"
          ]
        },
        {
          "name": "stderr",
          "output_type": "stream",
          "text": [
            "Some weights of ElectraForSequenceClassification were not initialized from the model checkpoint at google/electra-small-discriminator and are newly initialized: ['classifier.dense.bias', 'classifier.dense.weight', 'classifier.out_proj.bias', 'classifier.out_proj.weight']\n",
            "You should probably TRAIN this model on a down-stream task to be able to use it for predictions and inference.\n"
          ]
        },
        {
          "data": {
            "application/vnd.jupyter.widget-view+json": {
              "model_id": "7e50828337b8401a81957f652bcfa8f0",
              "version_major": 2,
              "version_minor": 0
            },
            "text/plain": [
              "  0%|          | 0/4743 [00:00<?, ?it/s]"
            ]
          },
          "metadata": {},
          "output_type": "display_data"
        },
        {
          "name": "stdout",
          "output_type": "stream",
          "text": [
            "{'loss': 0.7433, 'grad_norm': 26.669029235839844, 'learning_rate': 0.0001315277347504608, 'epoch': 1.0}\n"
          ]
        },
        {
          "data": {
            "application/vnd.jupyter.widget-view+json": {
              "model_id": "9060fafca638462d8f0596c092c7237a",
              "version_major": 2,
              "version_minor": 0
            },
            "text/plain": [
              "  0%|          | 0/7 [00:00<?, ?it/s]"
            ]
          },
          "metadata": {},
          "output_type": "display_data"
        },
        {
          "name": "stdout",
          "output_type": "stream",
          "text": [
            "{'eval_loss': 0.6285983920097351, 'eval_accuracy': 0.8944954128440367, 'eval_runtime': 1.4456, 'eval_samples_per_second': 603.222, 'eval_steps_per_second': 4.842, 'epoch': 1.0}\n",
            "{'loss': 0.384, 'grad_norm': 12.228119850158691, 'learning_rate': 0.00011509066664197304, 'epoch': 2.0}\n"
          ]
        },
        {
          "data": {
            "application/vnd.jupyter.widget-view+json": {
              "model_id": "70d44508455c4b78a3aac0f389e175d8",
              "version_major": 2,
              "version_minor": 0
            },
            "text/plain": [
              "  0%|          | 0/7 [00:00<?, ?it/s]"
            ]
          },
          "metadata": {},
          "output_type": "display_data"
        },
        {
          "name": "stderr",
          "output_type": "stream",
          "text": [
            "[I 2024-04-19 04:18:05,696] Trial 25 pruned. \n"
          ]
        },
        {
          "name": "stdout",
          "output_type": "stream",
          "text": [
            "{'eval_loss': 0.6967461109161377, 'eval_accuracy': 0.8956422018348624, 'eval_runtime': 1.4516, 'eval_samples_per_second': 600.703, 'eval_steps_per_second': 4.822, 'epoch': 2.0}\n"
          ]
        },
        {
          "name": "stderr",
          "output_type": "stream",
          "text": [
            "Some weights of ElectraForSequenceClassification were not initialized from the model checkpoint at google/electra-small-discriminator and are newly initialized: ['classifier.dense.bias', 'classifier.dense.weight', 'classifier.out_proj.bias', 'classifier.out_proj.weight']\n",
            "You should probably TRAIN this model on a down-stream task to be able to use it for predictions and inference.\n"
          ]
        },
        {
          "data": {
            "application/vnd.jupyter.widget-view+json": {
              "model_id": "06cf68770b3c401d9124233b2cf9528b",
              "version_major": 2,
              "version_minor": 0
            },
            "text/plain": [
              "  0%|          | 0/5270 [00:00<?, ?it/s]"
            ]
          },
          "metadata": {},
          "output_type": "display_data"
        },
        {
          "name": "stdout",
          "output_type": "stream",
          "text": [
            "{'loss': 0.9686, 'grad_norm': 25.633333206176758, 'learning_rate': 5.249775471708889e-05, 'epoch': 1.0}\n"
          ]
        },
        {
          "data": {
            "application/vnd.jupyter.widget-view+json": {
              "model_id": "8a30ddd42292465ba80a7b9a6d0c1eeb",
              "version_major": 2,
              "version_minor": 0
            },
            "text/plain": [
              "  0%|          | 0/7 [00:00<?, ?it/s]"
            ]
          },
          "metadata": {},
          "output_type": "display_data"
        },
        {
          "name": "stdout",
          "output_type": "stream",
          "text": [
            "{'eval_loss': 0.6331567168235779, 'eval_accuracy': 0.9105504587155964, 'eval_runtime': 1.4527, 'eval_samples_per_second': 600.271, 'eval_steps_per_second': 4.819, 'epoch': 1.0}\n",
            "{'loss': 0.4917, 'grad_norm': 32.01615905761719, 'learning_rate': 4.666590043043083e-05, 'epoch': 2.0}\n"
          ]
        },
        {
          "data": {
            "application/vnd.jupyter.widget-view+json": {
              "model_id": "86b9f1f6e13f4622afc094b92dcb0948",
              "version_major": 2,
              "version_minor": 0
            },
            "text/plain": [
              "  0%|          | 0/7 [00:00<?, ?it/s]"
            ]
          },
          "metadata": {},
          "output_type": "display_data"
        },
        {
          "name": "stdout",
          "output_type": "stream",
          "text": [
            "{'eval_loss': 0.6638227105140686, 'eval_accuracy': 0.911697247706422, 'eval_runtime': 1.4467, 'eval_samples_per_second': 602.739, 'eval_steps_per_second': 4.838, 'epoch': 2.0}\n",
            "{'loss': 0.3597, 'grad_norm': 19.456010818481445, 'learning_rate': 4.0834046143772765e-05, 'epoch': 3.0}\n"
          ]
        },
        {
          "data": {
            "application/vnd.jupyter.widget-view+json": {
              "model_id": "5adea235da2d487a899464e48f84a48a",
              "version_major": 2,
              "version_minor": 0
            },
            "text/plain": [
              "  0%|          | 0/7 [00:00<?, ?it/s]"
            ]
          },
          "metadata": {},
          "output_type": "display_data"
        },
        {
          "name": "stdout",
          "output_type": "stream",
          "text": [
            "{'eval_loss': 0.6752657294273376, 'eval_accuracy': 0.9174311926605505, 'eval_runtime': 1.4552, 'eval_samples_per_second': 599.222, 'eval_steps_per_second': 4.81, 'epoch': 3.0}\n",
            "{'loss': 0.2792, 'grad_norm': 7.038837432861328, 'learning_rate': 3.500219185711471e-05, 'epoch': 4.0}\n"
          ]
        },
        {
          "data": {
            "application/vnd.jupyter.widget-view+json": {
              "model_id": "e24e97819df245c69ad3c3863329639a",
              "version_major": 2,
              "version_minor": 0
            },
            "text/plain": [
              "  0%|          | 0/7 [00:00<?, ?it/s]"
            ]
          },
          "metadata": {},
          "output_type": "display_data"
        },
        {
          "name": "stdout",
          "output_type": "stream",
          "text": [
            "{'eval_loss': 0.6751970052719116, 'eval_accuracy': 0.9128440366972477, 'eval_runtime': 1.4453, 'eval_samples_per_second': 603.35, 'eval_steps_per_second': 4.843, 'epoch': 4.0}\n",
            "{'loss': 0.2339, 'grad_norm': 17.21753692626953, 'learning_rate': 2.918140370762298e-05, 'epoch': 5.0}\n"
          ]
        },
        {
          "data": {
            "application/vnd.jupyter.widget-view+json": {
              "model_id": "6c03635714e9469ca65b3247454d982c",
              "version_major": 2,
              "version_minor": 0
            },
            "text/plain": [
              "  0%|          | 0/7 [00:00<?, ?it/s]"
            ]
          },
          "metadata": {},
          "output_type": "display_data"
        },
        {
          "name": "stdout",
          "output_type": "stream",
          "text": [
            "{'eval_loss': 0.6162137389183044, 'eval_accuracy': 0.9220183486238532, 'eval_runtime': 1.4517, 'eval_samples_per_second': 600.678, 'eval_steps_per_second': 4.822, 'epoch': 5.0}\n",
            "{'loss': 0.1981, 'grad_norm': 28.996667861938477, 'learning_rate': 2.3349549420964917e-05, 'epoch': 6.0}\n"
          ]
        },
        {
          "data": {
            "application/vnd.jupyter.widget-view+json": {
              "model_id": "6099ecfa2e25432fb27c294f06c9a435",
              "version_major": 2,
              "version_minor": 0
            },
            "text/plain": [
              "  0%|          | 0/7 [00:00<?, ?it/s]"
            ]
          },
          "metadata": {},
          "output_type": "display_data"
        },
        {
          "name": "stderr",
          "output_type": "stream",
          "text": [
            "[I 2024-04-19 04:29:24,562] Trial 26 pruned. \n"
          ]
        },
        {
          "name": "stdout",
          "output_type": "stream",
          "text": [
            "{'eval_loss': 0.6343953609466553, 'eval_accuracy': 0.9220183486238532, 'eval_runtime': 1.4524, 'eval_samples_per_second': 600.374, 'eval_steps_per_second': 4.82, 'epoch': 6.0}\n"
          ]
        },
        {
          "name": "stderr",
          "output_type": "stream",
          "text": [
            "Some weights of ElectraForSequenceClassification were not initialized from the model checkpoint at google/electra-small-discriminator and are newly initialized: ['classifier.dense.bias', 'classifier.dense.weight', 'classifier.out_proj.bias', 'classifier.out_proj.weight']\n",
            "You should probably TRAIN this model on a down-stream task to be able to use it for predictions and inference.\n"
          ]
        },
        {
          "data": {
            "application/vnd.jupyter.widget-view+json": {
              "model_id": "9331c72db66a4e9eb8461fd235aaaa78",
              "version_major": 2,
              "version_minor": 0
            },
            "text/plain": [
              "  0%|          | 0/3162 [00:00<?, ?it/s]"
            ]
          },
          "metadata": {},
          "output_type": "display_data"
        },
        {
          "name": "stdout",
          "output_type": "stream",
          "text": [
            "{'loss': 0.7426, 'grad_norm': 9.74049186706543, 'learning_rate': 1.698970254360641e-05, 'epoch': 1.0}\n"
          ]
        },
        {
          "data": {
            "application/vnd.jupyter.widget-view+json": {
              "model_id": "2edff95e55c846cc9131dd12a375d218",
              "version_major": 2,
              "version_minor": 0
            },
            "text/plain": [
              "  0%|          | 0/7 [00:00<?, ?it/s]"
            ]
          },
          "metadata": {},
          "output_type": "display_data"
        },
        {
          "name": "stderr",
          "output_type": "stream",
          "text": [
            "[I 2024-04-19 04:31:17,784] Trial 27 pruned. \n"
          ]
        },
        {
          "name": "stdout",
          "output_type": "stream",
          "text": [
            "{'eval_loss': 0.47681862115859985, 'eval_accuracy': 0.8876146788990825, 'eval_runtime': 1.4523, 'eval_samples_per_second': 600.43, 'eval_steps_per_second': 4.82, 'epoch': 1.0}\n"
          ]
        },
        {
          "name": "stderr",
          "output_type": "stream",
          "text": [
            "Some weights of ElectraForSequenceClassification were not initialized from the model checkpoint at google/electra-small-discriminator and are newly initialized: ['classifier.dense.bias', 'classifier.dense.weight', 'classifier.out_proj.bias', 'classifier.out_proj.weight']\n",
            "You should probably TRAIN this model on a down-stream task to be able to use it for predictions and inference.\n"
          ]
        },
        {
          "data": {
            "application/vnd.jupyter.widget-view+json": {
              "model_id": "a70874f35cc9406e85959b09ac3d1964",
              "version_major": 2,
              "version_minor": 0
            },
            "text/plain": [
              "  0%|          | 0/4216 [00:00<?, ?it/s]"
            ]
          },
          "metadata": {},
          "output_type": "display_data"
        },
        {
          "name": "stdout",
          "output_type": "stream",
          "text": [
            "{'loss': 2.1443, 'grad_norm': 33.01731872558594, 'learning_rate': 3.176988118911755e-05, 'epoch': 1.0}\n"
          ]
        },
        {
          "data": {
            "application/vnd.jupyter.widget-view+json": {
              "model_id": "1eda05fd2aa743cda63e836a0c280bc2",
              "version_major": 2,
              "version_minor": 0
            },
            "text/plain": [
              "  0%|          | 0/7 [00:00<?, ?it/s]"
            ]
          },
          "metadata": {},
          "output_type": "display_data"
        },
        {
          "name": "stdout",
          "output_type": "stream",
          "text": [
            "{'eval_loss': 1.0754104852676392, 'eval_accuracy': 0.8967889908256881, 'eval_runtime': 1.4504, 'eval_samples_per_second': 601.214, 'eval_steps_per_second': 4.826, 'epoch': 1.0}\n",
            "{'loss': 1.0288, 'grad_norm': 39.856449127197266, 'learning_rate': 2.7233785988178796e-05, 'epoch': 2.0}\n"
          ]
        },
        {
          "data": {
            "application/vnd.jupyter.widget-view+json": {
              "model_id": "8d4ef70287014e47a4616fa70795b5ec",
              "version_major": 2,
              "version_minor": 0
            },
            "text/plain": [
              "  0%|          | 0/7 [00:00<?, ?it/s]"
            ]
          },
          "metadata": {},
          "output_type": "display_data"
        },
        {
          "name": "stderr",
          "output_type": "stream",
          "text": [
            "[I 2024-04-19 04:35:03,734] Trial 28 pruned. \n"
          ]
        },
        {
          "name": "stdout",
          "output_type": "stream",
          "text": [
            "{'eval_loss': 1.06399405002594, 'eval_accuracy': 0.8967889908256881, 'eval_runtime': 1.451, 'eval_samples_per_second': 600.975, 'eval_steps_per_second': 4.824, 'epoch': 2.0}\n"
          ]
        },
        {
          "name": "stderr",
          "output_type": "stream",
          "text": [
            "Some weights of ElectraForSequenceClassification were not initialized from the model checkpoint at google/electra-small-discriminator and are newly initialized: ['classifier.dense.bias', 'classifier.dense.weight', 'classifier.out_proj.bias', 'classifier.out_proj.weight']\n",
            "You should probably TRAIN this model on a down-stream task to be able to use it for predictions and inference.\n"
          ]
        },
        {
          "data": {
            "application/vnd.jupyter.widget-view+json": {
              "model_id": "3c670911b1764c2d9481ff1772a8761b",
              "version_major": 2,
              "version_minor": 0
            },
            "text/plain": [
              "  0%|          | 0/3689 [00:00<?, ?it/s]"
            ]
          },
          "metadata": {},
          "output_type": "display_data"
        },
        {
          "name": "stdout",
          "output_type": "stream",
          "text": [
            "{'loss': 1.8023, 'grad_norm': 83.0543212890625, 'learning_rate': 9.041775344733817e-05, 'epoch': 1.0}\n"
          ]
        },
        {
          "data": {
            "application/vnd.jupyter.widget-view+json": {
              "model_id": "e4317742424e4f72be215be6b52908a2",
              "version_major": 2,
              "version_minor": 0
            },
            "text/plain": [
              "  0%|          | 0/7 [00:00<?, ?it/s]"
            ]
          },
          "metadata": {},
          "output_type": "display_data"
        },
        {
          "name": "stdout",
          "output_type": "stream",
          "text": [
            "{'eval_loss': 1.2870945930480957, 'eval_accuracy': 0.9013761467889908, 'eval_runtime': 1.4502, 'eval_samples_per_second': 601.284, 'eval_steps_per_second': 4.827, 'epoch': 1.0}\n",
            "{'loss': 0.8676, 'grad_norm': 34.712501525878906, 'learning_rate': 7.535765355266459e-05, 'epoch': 2.0}\n"
          ]
        },
        {
          "data": {
            "application/vnd.jupyter.widget-view+json": {
              "model_id": "964ea070b3c4449b9586ea259245764a",
              "version_major": 2,
              "version_minor": 0
            },
            "text/plain": [
              "  0%|          | 0/7 [00:00<?, ?it/s]"
            ]
          },
          "metadata": {},
          "output_type": "display_data"
        },
        {
          "name": "stderr",
          "output_type": "stream",
          "text": [
            "[I 2024-04-19 04:38:49,674] Trial 29 pruned. \n"
          ]
        },
        {
          "name": "stdout",
          "output_type": "stream",
          "text": [
            "{'eval_loss': 1.2858450412750244, 'eval_accuracy': 0.8979357798165137, 'eval_runtime': 1.4558, 'eval_samples_per_second': 598.996, 'eval_steps_per_second': 4.808, 'epoch': 2.0}\n"
          ]
        },
        {
          "name": "stderr",
          "output_type": "stream",
          "text": [
            "Some weights of ElectraForSequenceClassification were not initialized from the model checkpoint at google/electra-small-discriminator and are newly initialized: ['classifier.dense.bias', 'classifier.dense.weight', 'classifier.out_proj.bias', 'classifier.out_proj.weight']\n",
            "You should probably TRAIN this model on a down-stream task to be able to use it for predictions and inference.\n"
          ]
        },
        {
          "data": {
            "application/vnd.jupyter.widget-view+json": {
              "model_id": "caa95e248a864411aa2333929ccc38f9",
              "version_major": 2,
              "version_minor": 0
            },
            "text/plain": [
              "  0%|          | 0/4743 [00:00<?, ?it/s]"
            ]
          },
          "metadata": {},
          "output_type": "display_data"
        },
        {
          "name": "stdout",
          "output_type": "stream",
          "text": [
            "{'loss': 0.6075, 'grad_norm': 26.225385665893555, 'learning_rate': 6.561713559027068e-05, 'epoch': 1.0}\n"
          ]
        },
        {
          "data": {
            "application/vnd.jupyter.widget-view+json": {
              "model_id": "5602e1edd0e54f2ab6a6c3b53a32002c",
              "version_major": 2,
              "version_minor": 0
            },
            "text/plain": [
              "  0%|          | 0/7 [00:00<?, ?it/s]"
            ]
          },
          "metadata": {},
          "output_type": "display_data"
        },
        {
          "name": "stdout",
          "output_type": "stream",
          "text": [
            "{'eval_loss': 0.47316521406173706, 'eval_accuracy': 0.9139908256880734, 'eval_runtime': 1.4499, 'eval_samples_per_second': 601.43, 'eval_steps_per_second': 4.828, 'epoch': 1.0}\n",
            "{'loss': 0.3214, 'grad_norm': 13.330994606018066, 'learning_rate': 5.741499364148685e-05, 'epoch': 2.0}\n"
          ]
        },
        {
          "data": {
            "application/vnd.jupyter.widget-view+json": {
              "model_id": "3b47f638c1d04392854380ce5069f24b",
              "version_major": 2,
              "version_minor": 0
            },
            "text/plain": [
              "  0%|          | 0/7 [00:00<?, ?it/s]"
            ]
          },
          "metadata": {},
          "output_type": "display_data"
        },
        {
          "name": "stdout",
          "output_type": "stream",
          "text": [
            "{'eval_loss': 0.6051578521728516, 'eval_accuracy': 0.8956422018348624, 'eval_runtime': 1.4493, 'eval_samples_per_second': 601.653, 'eval_steps_per_second': 4.83, 'epoch': 2.0}\n",
            "{'loss': 0.2348, 'grad_norm': 10.15234661102295, 'learning_rate': 4.9212851692703006e-05, 'epoch': 3.0}\n"
          ]
        },
        {
          "data": {
            "application/vnd.jupyter.widget-view+json": {
              "model_id": "09ac8b59c009459292cfc2dc256133e4",
              "version_major": 2,
              "version_minor": 0
            },
            "text/plain": [
              "  0%|          | 0/7 [00:00<?, ?it/s]"
            ]
          },
          "metadata": {},
          "output_type": "display_data"
        },
        {
          "name": "stdout",
          "output_type": "stream",
          "text": [
            "{'eval_loss': 0.4945127069950104, 'eval_accuracy': 0.9197247706422018, 'eval_runtime': 1.4486, 'eval_samples_per_second': 601.961, 'eval_steps_per_second': 4.832, 'epoch': 3.0}\n",
            "{'loss': 0.1824, 'grad_norm': inf, 'learning_rate': 4.1026273580634136e-05, 'epoch': 4.0}\n"
          ]
        },
        {
          "data": {
            "application/vnd.jupyter.widget-view+json": {
              "model_id": "ba78d007bf0343a2bb26e5f3a6e98881",
              "version_major": 2,
              "version_minor": 0
            },
            "text/plain": [
              "  0%|          | 0/7 [00:00<?, ?it/s]"
            ]
          },
          "metadata": {},
          "output_type": "display_data"
        },
        {
          "name": "stdout",
          "output_type": "stream",
          "text": [
            "{'eval_loss': 0.5778486728668213, 'eval_accuracy': 0.9071100917431193, 'eval_runtime': 1.4513, 'eval_samples_per_second': 600.822, 'eval_steps_per_second': 4.823, 'epoch': 4.0}\n",
            "{'loss': 0.1498, 'grad_norm': 21.25727653503418, 'learning_rate': 3.28241316318503e-05, 'epoch': 5.0}\n"
          ]
        },
        {
          "data": {
            "application/vnd.jupyter.widget-view+json": {
              "model_id": "fc9b7956be9b4b2588aef4a593359041",
              "version_major": 2,
              "version_minor": 0
            },
            "text/plain": [
              "  0%|          | 0/7 [00:00<?, ?it/s]"
            ]
          },
          "metadata": {},
          "output_type": "display_data"
        },
        {
          "name": "stdout",
          "output_type": "stream",
          "text": [
            "{'eval_loss': 0.515268087387085, 'eval_accuracy': 0.911697247706422, 'eval_runtime': 1.4401, 'eval_samples_per_second': 605.529, 'eval_steps_per_second': 4.861, 'epoch': 5.0}\n",
            "{'loss': 0.1248, 'grad_norm': 11.034281730651855, 'learning_rate': 2.4621989683066463e-05, 'epoch': 6.0}\n"
          ]
        },
        {
          "data": {
            "application/vnd.jupyter.widget-view+json": {
              "model_id": "88cce1557d8249bf83f1de1b8d5185c2",
              "version_major": 2,
              "version_minor": 0
            },
            "text/plain": [
              "  0%|          | 0/7 [00:00<?, ?it/s]"
            ]
          },
          "metadata": {},
          "output_type": "display_data"
        },
        {
          "name": "stderr",
          "output_type": "stream",
          "text": [
            "[I 2024-04-19 04:50:08,275] Trial 30 pruned. \n"
          ]
        },
        {
          "name": "stdout",
          "output_type": "stream",
          "text": [
            "{'eval_loss': 0.5297892689704895, 'eval_accuracy': 0.9151376146788991, 'eval_runtime': 1.4497, 'eval_samples_per_second': 601.487, 'eval_steps_per_second': 4.828, 'epoch': 6.0}\n"
          ]
        },
        {
          "name": "stderr",
          "output_type": "stream",
          "text": [
            "Some weights of ElectraForSequenceClassification were not initialized from the model checkpoint at google/electra-small-discriminator and are newly initialized: ['classifier.dense.bias', 'classifier.dense.weight', 'classifier.out_proj.bias', 'classifier.out_proj.weight']\n",
            "You should probably TRAIN this model on a down-stream task to be able to use it for predictions and inference.\n"
          ]
        },
        {
          "data": {
            "application/vnd.jupyter.widget-view+json": {
              "model_id": "96d234e057f149aeb4a5253aeb00bdf9",
              "version_major": 2,
              "version_minor": 0
            },
            "text/plain": [
              "  0%|          | 0/1581 [00:00<?, ?it/s]"
            ]
          },
          "metadata": {},
          "output_type": "display_data"
        },
        {
          "name": "stdout",
          "output_type": "stream",
          "text": [
            "{'loss': 0.9669, 'grad_norm': 29.794572830200195, 'learning_rate': 6.431256527502283e-05, 'epoch': 1.0}\n"
          ]
        },
        {
          "data": {
            "application/vnd.jupyter.widget-view+json": {
              "model_id": "a36d2936d8334c61b1743bb6b3c46a79",
              "version_major": 2,
              "version_minor": 0
            },
            "text/plain": [
              "  0%|          | 0/7 [00:00<?, ?it/s]"
            ]
          },
          "metadata": {},
          "output_type": "display_data"
        },
        {
          "name": "stdout",
          "output_type": "stream",
          "text": [
            "{'eval_loss': 0.6668250560760498, 'eval_accuracy': 0.8990825688073395, 'eval_runtime': 1.4508, 'eval_samples_per_second': 601.063, 'eval_steps_per_second': 4.825, 'epoch': 1.0}\n",
            "{'loss': 0.4833, 'grad_norm': 28.9000301361084, 'learning_rate': 3.218676252626735e-05, 'epoch': 2.0}\n"
          ]
        },
        {
          "data": {
            "application/vnd.jupyter.widget-view+json": {
              "model_id": "22614a450ede41359d77a81b17d79e76",
              "version_major": 2,
              "version_minor": 0
            },
            "text/plain": [
              "  0%|          | 0/7 [00:00<?, ?it/s]"
            ]
          },
          "metadata": {},
          "output_type": "display_data"
        },
        {
          "name": "stderr",
          "output_type": "stream",
          "text": [
            "[I 2024-04-19 04:53:54,849] Trial 31 pruned. \n"
          ]
        },
        {
          "name": "stdout",
          "output_type": "stream",
          "text": [
            "{'eval_loss': 0.7747304439544678, 'eval_accuracy': 0.8979357798165137, 'eval_runtime': 1.451, 'eval_samples_per_second': 600.968, 'eval_steps_per_second': 4.824, 'epoch': 2.0}\n"
          ]
        },
        {
          "name": "stderr",
          "output_type": "stream",
          "text": [
            "Some weights of ElectraForSequenceClassification were not initialized from the model checkpoint at google/electra-small-discriminator and are newly initialized: ['classifier.dense.bias', 'classifier.dense.weight', 'classifier.out_proj.bias', 'classifier.out_proj.weight']\n",
            "You should probably TRAIN this model on a down-stream task to be able to use it for predictions and inference.\n"
          ]
        },
        {
          "data": {
            "application/vnd.jupyter.widget-view+json": {
              "model_id": "035dfcea0cb649e7b9d2ada33a203904",
              "version_major": 2,
              "version_minor": 0
            },
            "text/plain": [
              "  0%|          | 0/2635 [00:00<?, ?it/s]"
            ]
          },
          "metadata": {},
          "output_type": "display_data"
        },
        {
          "name": "stdout",
          "output_type": "stream",
          "text": [
            "{'loss': 2.7545, 'grad_norm': 47.12026596069336, 'learning_rate': 4.2569562606597884e-05, 'epoch': 1.0}\n"
          ]
        },
        {
          "data": {
            "application/vnd.jupyter.widget-view+json": {
              "model_id": "6dd8fc559f5a4660b66100776d5ad460",
              "version_major": 2,
              "version_minor": 0
            },
            "text/plain": [
              "  0%|          | 0/7 [00:00<?, ?it/s]"
            ]
          },
          "metadata": {},
          "output_type": "display_data"
        },
        {
          "name": "stdout",
          "output_type": "stream",
          "text": [
            "{'eval_loss': 1.4578064680099487, 'eval_accuracy': 0.8990825688073395, 'eval_runtime': 1.4519, 'eval_samples_per_second': 600.58, 'eval_steps_per_second': 4.821, 'epoch': 1.0}\n",
            "{'loss': 1.283, 'grad_norm': 78.47111511230469, 'learning_rate': 3.1942296148200405e-05, 'epoch': 2.0}\n"
          ]
        },
        {
          "data": {
            "application/vnd.jupyter.widget-view+json": {
              "model_id": "51bc831788074c83aeff1d4c08aca498",
              "version_major": 2,
              "version_minor": 0
            },
            "text/plain": [
              "  0%|          | 0/7 [00:00<?, ?it/s]"
            ]
          },
          "metadata": {},
          "output_type": "display_data"
        },
        {
          "name": "stdout",
          "output_type": "stream",
          "text": [
            "{'eval_loss': 1.441101312637329, 'eval_accuracy': 0.9071100917431193, 'eval_runtime': 1.4585, 'eval_samples_per_second': 597.892, 'eval_steps_per_second': 4.8, 'epoch': 2.0}\n",
            "{'loss': 0.9314, 'grad_norm': 58.518775939941406, 'learning_rate': 2.1315029689802918e-05, 'epoch': 3.0}\n"
          ]
        },
        {
          "data": {
            "application/vnd.jupyter.widget-view+json": {
              "model_id": "c822fd1a5ef548baa616555a66def639",
              "version_major": 2,
              "version_minor": 0
            },
            "text/plain": [
              "  0%|          | 0/7 [00:00<?, ?it/s]"
            ]
          },
          "metadata": {},
          "output_type": "display_data"
        },
        {
          "name": "stdout",
          "output_type": "stream",
          "text": [
            "{'eval_loss': 1.2692312002182007, 'eval_accuracy': 0.9208715596330275, 'eval_runtime': 1.4446, 'eval_samples_per_second': 603.643, 'eval_steps_per_second': 4.846, 'epoch': 3.0}\n",
            "{'loss': 0.7341, 'grad_norm': 19.554431915283203, 'learning_rate': 1.0687763231405437e-05, 'epoch': 4.0}\n"
          ]
        },
        {
          "data": {
            "application/vnd.jupyter.widget-view+json": {
              "model_id": "3724ec2bf1d94745931dcbd92e498175",
              "version_major": 2,
              "version_minor": 0
            },
            "text/plain": [
              "  0%|          | 0/7 [00:00<?, ?it/s]"
            ]
          },
          "metadata": {},
          "output_type": "display_data"
        },
        {
          "name": "stdout",
          "output_type": "stream",
          "text": [
            "{'eval_loss': 1.3720850944519043, 'eval_accuracy': 0.9151376146788991, 'eval_runtime': 1.4488, 'eval_samples_per_second': 601.895, 'eval_steps_per_second': 4.832, 'epoch': 4.0}\n",
            "{'loss': 0.6406, 'grad_norm': 43.02271270751953, 'learning_rate': 8.066236401060707e-08, 'epoch': 5.0}\n"
          ]
        },
        {
          "data": {
            "application/vnd.jupyter.widget-view+json": {
              "model_id": "0cefc69446fd40ba9664082334be26ab",
              "version_major": 2,
              "version_minor": 0
            },
            "text/plain": [
              "  0%|          | 0/7 [00:00<?, ?it/s]"
            ]
          },
          "metadata": {},
          "output_type": "display_data"
        },
        {
          "name": "stdout",
          "output_type": "stream",
          "text": [
            "{'eval_loss': 1.3230271339416504, 'eval_accuracy': 0.9208715596330275, 'eval_runtime': 1.4499, 'eval_samples_per_second': 601.441, 'eval_steps_per_second': 4.828, 'epoch': 5.0}\n",
            "{'train_runtime': 565.5789, 'train_samples_per_second': 595.399, 'train_steps_per_second': 4.659, 'train_loss': 1.2687144559972428, 'epoch': 5.0}\n"
          ]
        },
        {
          "name": "stderr",
          "output_type": "stream",
          "text": [
            "[I 2024-04-19 05:04:12,562] Trial 32 finished with value: 0.9208715596330275 and parameters: {'num_train_epochs': 5, 'learning_rate': 5.313633229198741e-05, 'alpha': 0.2744072380603728, 'temperature': 16}. Best is trial 13 with value: 0.9220183486238532.\n",
            "Some weights of ElectraForSequenceClassification were not initialized from the model checkpoint at google/electra-small-discriminator and are newly initialized: ['classifier.dense.bias', 'classifier.dense.weight', 'classifier.out_proj.bias', 'classifier.out_proj.weight']\n",
            "You should probably TRAIN this model on a down-stream task to be able to use it for predictions and inference.\n"
          ]
        },
        {
          "data": {
            "application/vnd.jupyter.widget-view+json": {
              "model_id": "e1356e2e17f44a34bc786ff1d6f258b8",
              "version_major": 2,
              "version_minor": 0
            },
            "text/plain": [
              "  0%|          | 0/2635 [00:00<?, ?it/s]"
            ]
          },
          "metadata": {},
          "output_type": "display_data"
        },
        {
          "name": "stdout",
          "output_type": "stream",
          "text": [
            "{'loss': 2.7994, 'grad_norm': 53.124794006347656, 'learning_rate': 3.756448770526551e-05, 'epoch': 1.0}\n"
          ]
        },
        {
          "data": {
            "application/vnd.jupyter.widget-view+json": {
              "model_id": "f1ac1282e3144f49b5d6e5bb7ed7805f",
              "version_major": 2,
              "version_minor": 0
            },
            "text/plain": [
              "  0%|          | 0/7 [00:00<?, ?it/s]"
            ]
          },
          "metadata": {},
          "output_type": "display_data"
        },
        {
          "name": "stderr",
          "output_type": "stream",
          "text": [
            "[I 2024-04-19 05:06:05,689] Trial 33 pruned. \n"
          ]
        },
        {
          "name": "stdout",
          "output_type": "stream",
          "text": [
            "{'eval_loss': 1.4240434169769287, 'eval_accuracy': 0.8899082568807339, 'eval_runtime': 1.445, 'eval_samples_per_second': 603.469, 'eval_steps_per_second': 4.844, 'epoch': 1.0}\n"
          ]
        },
        {
          "name": "stderr",
          "output_type": "stream",
          "text": [
            "Some weights of ElectraForSequenceClassification were not initialized from the model checkpoint at google/electra-small-discriminator and are newly initialized: ['classifier.dense.bias', 'classifier.dense.weight', 'classifier.out_proj.bias', 'classifier.out_proj.weight']\n",
            "You should probably TRAIN this model on a down-stream task to be able to use it for predictions and inference.\n"
          ]
        },
        {
          "data": {
            "application/vnd.jupyter.widget-view+json": {
              "model_id": "af6ecf2c5d1742c9b6e9d2353f1b1b96",
              "version_major": 2,
              "version_minor": 0
            },
            "text/plain": [
              "  0%|          | 0/2635 [00:00<?, ?it/s]"
            ]
          },
          "metadata": {},
          "output_type": "display_data"
        },
        {
          "name": "stdout",
          "output_type": "stream",
          "text": [
            "{'loss': 3.6984, 'grad_norm': 32.842525482177734, 'learning_rate': 1.2892322696027265e-05, 'epoch': 1.0}\n"
          ]
        },
        {
          "data": {
            "application/vnd.jupyter.widget-view+json": {
              "model_id": "299b0dd9853f4cc7bf79d5b652073b7a",
              "version_major": 2,
              "version_minor": 0
            },
            "text/plain": [
              "  0%|          | 0/7 [00:00<?, ?it/s]"
            ]
          },
          "metadata": {},
          "output_type": "display_data"
        },
        {
          "name": "stderr",
          "output_type": "stream",
          "text": [
            "[I 2024-04-19 05:07:58,573] Trial 34 pruned. \n"
          ]
        },
        {
          "name": "stdout",
          "output_type": "stream",
          "text": [
            "{'eval_loss': 2.2395052909851074, 'eval_accuracy': 0.8681192660550459, 'eval_runtime': 1.4404, 'eval_samples_per_second': 605.39, 'eval_steps_per_second': 4.86, 'epoch': 1.0}\n"
          ]
        },
        {
          "name": "stderr",
          "output_type": "stream",
          "text": [
            "Some weights of ElectraForSequenceClassification were not initialized from the model checkpoint at google/electra-small-discriminator and are newly initialized: ['classifier.dense.bias', 'classifier.dense.weight', 'classifier.out_proj.bias', 'classifier.out_proj.weight']\n",
            "You should probably TRAIN this model on a down-stream task to be able to use it for predictions and inference.\n"
          ]
        },
        {
          "data": {
            "application/vnd.jupyter.widget-view+json": {
              "model_id": "a3885fb4865040bdb3c1d3feca2964dd",
              "version_major": 2,
              "version_minor": 0
            },
            "text/plain": [
              "  0%|          | 0/2108 [00:00<?, ?it/s]"
            ]
          },
          "metadata": {},
          "output_type": "display_data"
        },
        {
          "name": "stdout",
          "output_type": "stream",
          "text": [
            "{'loss': 3.9518, 'grad_norm': 61.12446212768555, 'learning_rate': 1.9903664448669858e-05, 'epoch': 1.0}\n"
          ]
        },
        {
          "data": {
            "application/vnd.jupyter.widget-view+json": {
              "model_id": "fc4341d185d3448ab61302955baaa863",
              "version_major": 2,
              "version_minor": 0
            },
            "text/plain": [
              "  0%|          | 0/7 [00:00<?, ?it/s]"
            ]
          },
          "metadata": {},
          "output_type": "display_data"
        },
        {
          "name": "stderr",
          "output_type": "stream",
          "text": [
            "[I 2024-04-19 05:09:51,465] Trial 35 pruned. \n"
          ]
        },
        {
          "name": "stdout",
          "output_type": "stream",
          "text": [
            "{'eval_loss': 1.9436157941818237, 'eval_accuracy': 0.8818807339449541, 'eval_runtime': 1.4472, 'eval_samples_per_second': 602.56, 'eval_steps_per_second': 4.837, 'epoch': 1.0}\n"
          ]
        },
        {
          "name": "stderr",
          "output_type": "stream",
          "text": [
            "Some weights of ElectraForSequenceClassification were not initialized from the model checkpoint at google/electra-small-discriminator and are newly initialized: ['classifier.dense.bias', 'classifier.dense.weight', 'classifier.out_proj.bias', 'classifier.out_proj.weight']\n",
            "You should probably TRAIN this model on a down-stream task to be able to use it for predictions and inference.\n"
          ]
        },
        {
          "data": {
            "application/vnd.jupyter.widget-view+json": {
              "model_id": "d9db01c94fb947d1b876527b1d508f58",
              "version_major": 2,
              "version_minor": 0
            },
            "text/plain": [
              "  0%|          | 0/3162 [00:00<?, ?it/s]"
            ]
          },
          "metadata": {},
          "output_type": "display_data"
        },
        {
          "name": "stdout",
          "output_type": "stream",
          "text": [
            "{'loss': 4.839, 'grad_norm': 35.701171875, 'learning_rate': 8.6485284152374e-06, 'epoch': 1.0}\n"
          ]
        },
        {
          "data": {
            "application/vnd.jupyter.widget-view+json": {
              "model_id": "44b0e9de841c416591dc2566c7a17d1d",
              "version_major": 2,
              "version_minor": 0
            },
            "text/plain": [
              "  0%|          | 0/7 [00:00<?, ?it/s]"
            ]
          },
          "metadata": {},
          "output_type": "display_data"
        },
        {
          "name": "stderr",
          "output_type": "stream",
          "text": [
            "[I 2024-04-19 05:11:44,416] Trial 36 pruned. \n"
          ]
        },
        {
          "name": "stdout",
          "output_type": "stream",
          "text": [
            "{'eval_loss': 3.408554792404175, 'eval_accuracy': 0.8497706422018348, 'eval_runtime': 1.4494, 'eval_samples_per_second': 601.625, 'eval_steps_per_second': 4.83, 'epoch': 1.0}\n"
          ]
        },
        {
          "name": "stderr",
          "output_type": "stream",
          "text": [
            "Some weights of ElectraForSequenceClassification were not initialized from the model checkpoint at google/electra-small-discriminator and are newly initialized: ['classifier.dense.bias', 'classifier.dense.weight', 'classifier.out_proj.bias', 'classifier.out_proj.weight']\n",
            "You should probably TRAIN this model on a down-stream task to be able to use it for predictions and inference.\n"
          ]
        },
        {
          "data": {
            "application/vnd.jupyter.widget-view+json": {
              "model_id": "7eb53d0cb5274d73b45b664c0dc49010",
              "version_major": 2,
              "version_minor": 0
            },
            "text/plain": [
              "  0%|          | 0/2635 [00:00<?, ?it/s]"
            ]
          },
          "metadata": {},
          "output_type": "display_data"
        },
        {
          "name": "stdout",
          "output_type": "stream",
          "text": [
            "{'loss': 1.3149, 'grad_norm': 29.725248336791992, 'learning_rate': 5.633928647343514e-05, 'epoch': 1.0}\n"
          ]
        },
        {
          "data": {
            "application/vnd.jupyter.widget-view+json": {
              "model_id": "b6ea2d991e2d4d90b925174f3082993d",
              "version_major": 2,
              "version_minor": 0
            },
            "text/plain": [
              "  0%|          | 0/7 [00:00<?, ?it/s]"
            ]
          },
          "metadata": {},
          "output_type": "display_data"
        },
        {
          "name": "stdout",
          "output_type": "stream",
          "text": [
            "{'eval_loss': 0.8187136054039001, 'eval_accuracy': 0.9094036697247706, 'eval_runtime': 1.4446, 'eval_samples_per_second': 603.645, 'eval_steps_per_second': 4.846, 'epoch': 1.0}\n",
            "{'loss': 0.6381, 'grad_norm': 28.089006423950195, 'learning_rate': 4.226114329112109e-05, 'epoch': 2.0}\n"
          ]
        },
        {
          "data": {
            "application/vnd.jupyter.widget-view+json": {
              "model_id": "2ca36e64b7ec4d5ea014565081a52555",
              "version_major": 2,
              "version_minor": 0
            },
            "text/plain": [
              "  0%|          | 0/7 [00:00<?, ?it/s]"
            ]
          },
          "metadata": {},
          "output_type": "display_data"
        },
        {
          "name": "stdout",
          "output_type": "stream",
          "text": [
            "{'eval_loss': 0.8704111576080322, 'eval_accuracy': 0.9013761467889908, 'eval_runtime': 1.4438, 'eval_samples_per_second': 603.964, 'eval_steps_per_second': 4.848, 'epoch': 2.0}\n",
            "{'loss': 0.4568, 'grad_norm': 12.265154838562012, 'learning_rate': 2.818300010880705e-05, 'epoch': 3.0}\n"
          ]
        },
        {
          "data": {
            "application/vnd.jupyter.widget-view+json": {
              "model_id": "9536c718c1a74dcc8192f3cbac7a70fa",
              "version_major": 2,
              "version_minor": 0
            },
            "text/plain": [
              "  0%|          | 0/7 [00:00<?, ?it/s]"
            ]
          },
          "metadata": {},
          "output_type": "display_data"
        },
        {
          "name": "stdout",
          "output_type": "stream",
          "text": [
            "{'eval_loss': 0.8463584184646606, 'eval_accuracy': 0.9162844036697247, 'eval_runtime': 1.4494, 'eval_samples_per_second': 601.628, 'eval_steps_per_second': 4.83, 'epoch': 3.0}\n",
            "{'loss': 0.3524, 'grad_norm': 7.110481262207031, 'learning_rate': 1.413157067067197e-05, 'epoch': 4.0}\n"
          ]
        },
        {
          "data": {
            "application/vnd.jupyter.widget-view+json": {
              "model_id": "58313f2218a54f0cb93507c150830c1d",
              "version_major": 2,
              "version_minor": 0
            },
            "text/plain": [
              "  0%|          | 0/7 [00:00<?, ?it/s]"
            ]
          },
          "metadata": {},
          "output_type": "display_data"
        },
        {
          "name": "stderr",
          "output_type": "stream",
          "text": [
            "[I 2024-04-19 05:19:17,124] Trial 37 pruned. \n"
          ]
        },
        {
          "name": "stdout",
          "output_type": "stream",
          "text": [
            "{'eval_loss': 0.8207807540893555, 'eval_accuracy': 0.9128440366972477, 'eval_runtime': 1.4555, 'eval_samples_per_second': 599.109, 'eval_steps_per_second': 4.809, 'epoch': 4.0}\n"
          ]
        },
        {
          "name": "stderr",
          "output_type": "stream",
          "text": [
            "Some weights of ElectraForSequenceClassification were not initialized from the model checkpoint at google/electra-small-discriminator and are newly initialized: ['classifier.dense.bias', 'classifier.dense.weight', 'classifier.out_proj.bias', 'classifier.out_proj.weight']\n",
            "You should probably TRAIN this model on a down-stream task to be able to use it for predictions and inference.\n"
          ]
        },
        {
          "data": {
            "application/vnd.jupyter.widget-view+json": {
              "model_id": "1e952a795d904158818dfb8d250cfb95",
              "version_major": 2,
              "version_minor": 0
            },
            "text/plain": [
              "  0%|          | 0/3689 [00:00<?, ?it/s]"
            ]
          },
          "metadata": {},
          "output_type": "display_data"
        },
        {
          "name": "stdout",
          "output_type": "stream",
          "text": [
            "{'loss': 1.2267, 'grad_norm': 28.914613723754883, 'learning_rate': 3.73229259051389e-05, 'epoch': 1.0}\n"
          ]
        },
        {
          "data": {
            "application/vnd.jupyter.widget-view+json": {
              "model_id": "da44714fe4114fee9e34ed490e4d7f9d",
              "version_major": 2,
              "version_minor": 0
            },
            "text/plain": [
              "  0%|          | 0/7 [00:00<?, ?it/s]"
            ]
          },
          "metadata": {},
          "output_type": "display_data"
        },
        {
          "name": "stdout",
          "output_type": "stream",
          "text": [
            "{'eval_loss': 0.7176969051361084, 'eval_accuracy': 0.9013761467889908, 'eval_runtime': 1.4578, 'eval_samples_per_second': 598.142, 'eval_steps_per_second': 4.802, 'epoch': 1.0}\n",
            "{'loss': 0.6211, 'grad_norm': 30.996606826782227, 'learning_rate': 3.110440489596779e-05, 'epoch': 2.0}\n"
          ]
        },
        {
          "data": {
            "application/vnd.jupyter.widget-view+json": {
              "model_id": "1b3c3bca798e4336b313b9af44e3f0f9",
              "version_major": 2,
              "version_minor": 0
            },
            "text/plain": [
              "  0%|          | 0/7 [00:00<?, ?it/s]"
            ]
          },
          "metadata": {},
          "output_type": "display_data"
        },
        {
          "name": "stderr",
          "output_type": "stream",
          "text": [
            "[I 2024-04-19 05:23:03,425] Trial 38 pruned. \n"
          ]
        },
        {
          "name": "stdout",
          "output_type": "stream",
          "text": [
            "{'eval_loss': 0.7066077589988708, 'eval_accuracy': 0.9048165137614679, 'eval_runtime': 1.4514, 'eval_samples_per_second': 600.805, 'eval_steps_per_second': 4.823, 'epoch': 2.0}\n"
          ]
        },
        {
          "name": "stderr",
          "output_type": "stream",
          "text": [
            "Some weights of ElectraForSequenceClassification were not initialized from the model checkpoint at google/electra-small-discriminator and are newly initialized: ['classifier.dense.bias', 'classifier.dense.weight', 'classifier.out_proj.bias', 'classifier.out_proj.weight']\n",
            "You should probably TRAIN this model on a down-stream task to be able to use it for predictions and inference.\n"
          ]
        },
        {
          "data": {
            "application/vnd.jupyter.widget-view+json": {
              "model_id": "953791b9ee9a4c7aae9058333a9b7ff5",
              "version_major": 2,
              "version_minor": 0
            },
            "text/plain": [
              "  0%|          | 0/1581 [00:00<?, ?it/s]"
            ]
          },
          "metadata": {},
          "output_type": "display_data"
        },
        {
          "name": "stdout",
          "output_type": "stream",
          "text": [
            "{'loss': 1.791, 'grad_norm': 42.082271575927734, 'learning_rate': 8.05410721209954e-05, 'epoch': 1.0}\n"
          ]
        },
        {
          "data": {
            "application/vnd.jupyter.widget-view+json": {
              "model_id": "5eff1e96a7d44369affbe0f5eaad7f4b",
              "version_major": 2,
              "version_minor": 0
            },
            "text/plain": [
              "  0%|          | 0/7 [00:00<?, ?it/s]"
            ]
          },
          "metadata": {},
          "output_type": "display_data"
        },
        {
          "name": "stdout",
          "output_type": "stream",
          "text": [
            "{'eval_loss': 1.2406145334243774, 'eval_accuracy': 0.8967889908256881, 'eval_runtime': 1.4497, 'eval_samples_per_second': 601.515, 'eval_steps_per_second': 4.829, 'epoch': 1.0}\n",
            "{'loss': 0.8304, 'grad_norm': 37.11238098144531, 'learning_rate': 4.034680601515773e-05, 'epoch': 2.0}\n"
          ]
        },
        {
          "data": {
            "application/vnd.jupyter.widget-view+json": {
              "model_id": "30d65880f0454b368a3739430be5aeb3",
              "version_major": 2,
              "version_minor": 0
            },
            "text/plain": [
              "  0%|          | 0/7 [00:00<?, ?it/s]"
            ]
          },
          "metadata": {},
          "output_type": "display_data"
        },
        {
          "name": "stderr",
          "output_type": "stream",
          "text": [
            "[I 2024-04-19 05:26:49,392] Trial 39 pruned. \n"
          ]
        },
        {
          "name": "stdout",
          "output_type": "stream",
          "text": [
            "{'eval_loss': 1.3271125555038452, 'eval_accuracy': 0.8899082568807339, 'eval_runtime': 1.4503, 'eval_samples_per_second': 601.264, 'eval_steps_per_second': 4.827, 'epoch': 2.0}\n"
          ]
        },
        {
          "name": "stderr",
          "output_type": "stream",
          "text": [
            "Some weights of ElectraForSequenceClassification were not initialized from the model checkpoint at google/electra-small-discriminator and are newly initialized: ['classifier.dense.bias', 'classifier.dense.weight', 'classifier.out_proj.bias', 'classifier.out_proj.weight']\n",
            "You should probably TRAIN this model on a down-stream task to be able to use it for predictions and inference.\n"
          ]
        },
        {
          "data": {
            "application/vnd.jupyter.widget-view+json": {
              "model_id": "857e803b10cb457d9d6e0c3cbcfcbb2a",
              "version_major": 2,
              "version_minor": 0
            },
            "text/plain": [
              "  0%|          | 0/4216 [00:00<?, ?it/s]"
            ]
          },
          "metadata": {},
          "output_type": "display_data"
        },
        {
          "name": "stdout",
          "output_type": "stream",
          "text": [
            "{'loss': 0.5183, 'grad_norm': 10.066198348999023, 'learning_rate': 2.8944833614944396e-05, 'epoch': 1.0}\n"
          ]
        },
        {
          "data": {
            "application/vnd.jupyter.widget-view+json": {
              "model_id": "c2baeefcf6d2428e87105dc41730640e",
              "version_major": 2,
              "version_minor": 0
            },
            "text/plain": [
              "  0%|          | 0/7 [00:00<?, ?it/s]"
            ]
          },
          "metadata": {},
          "output_type": "display_data"
        },
        {
          "name": "stdout",
          "output_type": "stream",
          "text": [
            "{'eval_loss': 0.3556877672672272, 'eval_accuracy': 0.9036697247706422, 'eval_runtime': 1.4517, 'eval_samples_per_second': 600.659, 'eval_steps_per_second': 4.822, 'epoch': 1.0}\n",
            "{'loss': 0.3017, 'grad_norm': 20.411041259765625, 'learning_rate': 2.4809857384238055e-05, 'epoch': 2.0}\n"
          ]
        },
        {
          "data": {
            "application/vnd.jupyter.widget-view+json": {
              "model_id": "28bdc6fae45c428485320a2b86d75de9",
              "version_major": 2,
              "version_minor": 0
            },
            "text/plain": [
              "  0%|          | 0/7 [00:00<?, ?it/s]"
            ]
          },
          "metadata": {},
          "output_type": "display_data"
        },
        {
          "name": "stderr",
          "output_type": "stream",
          "text": [
            "[I 2024-04-19 05:30:35,473] Trial 40 pruned. \n"
          ]
        },
        {
          "name": "stdout",
          "output_type": "stream",
          "text": [
            "{'eval_loss': 0.3567243814468384, 'eval_accuracy': 0.9036697247706422, 'eval_runtime': 1.4499, 'eval_samples_per_second': 601.416, 'eval_steps_per_second': 4.828, 'epoch': 2.0}\n"
          ]
        },
        {
          "name": "stderr",
          "output_type": "stream",
          "text": [
            "Some weights of ElectraForSequenceClassification were not initialized from the model checkpoint at google/electra-small-discriminator and are newly initialized: ['classifier.dense.bias', 'classifier.dense.weight', 'classifier.out_proj.bias', 'classifier.out_proj.weight']\n",
            "You should probably TRAIN this model on a down-stream task to be able to use it for predictions and inference.\n"
          ]
        },
        {
          "data": {
            "application/vnd.jupyter.widget-view+json": {
              "model_id": "3fb283a53e7b4b73a037b0777ef652c8",
              "version_major": 2,
              "version_minor": 0
            },
            "text/plain": [
              "  0%|          | 0/1581 [00:00<?, ?it/s]"
            ]
          },
          "metadata": {},
          "output_type": "display_data"
        },
        {
          "name": "stdout",
          "output_type": "stream",
          "text": [
            "{'loss': 2.5123, 'grad_norm': 43.335304260253906, 'learning_rate': 5.1826206877294654e-05, 'epoch': 1.0}\n"
          ]
        },
        {
          "data": {
            "application/vnd.jupyter.widget-view+json": {
              "model_id": "e5f9686188d64518858e62e647aee67e",
              "version_major": 2,
              "version_minor": 0
            },
            "text/plain": [
              "  0%|          | 0/7 [00:00<?, ?it/s]"
            ]
          },
          "metadata": {},
          "output_type": "display_data"
        },
        {
          "name": "stdout",
          "output_type": "stream",
          "text": [
            "{'eval_loss': 1.4461896419525146, 'eval_accuracy': 0.9059633027522935, 'eval_runtime': 1.4486, 'eval_samples_per_second': 601.959, 'eval_steps_per_second': 4.832, 'epoch': 1.0}\n",
            "{'loss': 1.1875, 'grad_norm': 75.06561279296875, 'learning_rate': 2.5962181286069005e-05, 'epoch': 2.0}\n"
          ]
        },
        {
          "data": {
            "application/vnd.jupyter.widget-view+json": {
              "model_id": "5bacaf1e6b3846f3aae2271ff2a3809e",
              "version_major": 2,
              "version_minor": 0
            },
            "text/plain": [
              "  0%|          | 0/7 [00:00<?, ?it/s]"
            ]
          },
          "metadata": {},
          "output_type": "display_data"
        },
        {
          "name": "stdout",
          "output_type": "stream",
          "text": [
            "{'eval_loss': 1.6673099994659424, 'eval_accuracy': 0.8944954128440367, 'eval_runtime': 1.452, 'eval_samples_per_second': 600.556, 'eval_steps_per_second': 4.821, 'epoch': 2.0}\n",
            "{'loss': 0.8542, 'grad_norm': 39.55039596557617, 'learning_rate': 9.815569484336108e-08, 'epoch': 3.0}\n"
          ]
        },
        {
          "data": {
            "application/vnd.jupyter.widget-view+json": {
              "model_id": "746090de9eb448eabdbfde0742f17f00",
              "version_major": 2,
              "version_minor": 0
            },
            "text/plain": [
              "  0%|          | 0/7 [00:00<?, ?it/s]"
            ]
          },
          "metadata": {},
          "output_type": "display_data"
        },
        {
          "name": "stderr",
          "output_type": "stream",
          "text": [
            "[I 2024-04-19 05:36:14,558] Trial 41 pruned. \n"
          ]
        },
        {
          "name": "stdout",
          "output_type": "stream",
          "text": [
            "{'eval_loss': 1.4095581769943237, 'eval_accuracy': 0.9128440366972477, 'eval_runtime': 1.4584, 'eval_samples_per_second': 597.936, 'eval_steps_per_second': 4.8, 'epoch': 3.0}\n"
          ]
        },
        {
          "name": "stderr",
          "output_type": "stream",
          "text": [
            "Some weights of ElectraForSequenceClassification were not initialized from the model checkpoint at google/electra-small-discriminator and are newly initialized: ['classifier.dense.bias', 'classifier.dense.weight', 'classifier.out_proj.bias', 'classifier.out_proj.weight']\n",
            "You should probably TRAIN this model on a down-stream task to be able to use it for predictions and inference.\n"
          ]
        },
        {
          "data": {
            "application/vnd.jupyter.widget-view+json": {
              "model_id": "217bbb23eac1463d9e3c5e57b9486aea",
              "version_major": 2,
              "version_minor": 0
            },
            "text/plain": [
              "  0%|          | 0/1054 [00:00<?, ?it/s]"
            ]
          },
          "metadata": {},
          "output_type": "display_data"
        },
        {
          "name": "stdout",
          "output_type": "stream",
          "text": [
            "{'loss': 1.439, 'grad_norm': 38.791255950927734, 'learning_rate': 0.00017028113410210688, 'epoch': 1.0}\n"
          ]
        },
        {
          "data": {
            "application/vnd.jupyter.widget-view+json": {
              "model_id": "7a5e959d7c344b24b07b8cc739777a74",
              "version_major": 2,
              "version_minor": 0
            },
            "text/plain": [
              "  0%|          | 0/7 [00:00<?, ?it/s]"
            ]
          },
          "metadata": {},
          "output_type": "display_data"
        },
        {
          "name": "stderr",
          "output_type": "stream",
          "text": [
            "[I 2024-04-19 05:38:07,811] Trial 42 pruned. \n"
          ]
        },
        {
          "name": "stdout",
          "output_type": "stream",
          "text": [
            "{'eval_loss': 1.6293396949768066, 'eval_accuracy': 0.8532110091743119, 'eval_runtime': 1.4627, 'eval_samples_per_second': 596.162, 'eval_steps_per_second': 4.786, 'epoch': 1.0}\n"
          ]
        },
        {
          "name": "stderr",
          "output_type": "stream",
          "text": [
            "Some weights of ElectraForSequenceClassification were not initialized from the model checkpoint at google/electra-small-discriminator and are newly initialized: ['classifier.dense.bias', 'classifier.dense.weight', 'classifier.out_proj.bias', 'classifier.out_proj.weight']\n",
            "You should probably TRAIN this model on a down-stream task to be able to use it for predictions and inference.\n"
          ]
        },
        {
          "data": {
            "application/vnd.jupyter.widget-view+json": {
              "model_id": "1a78a31d010f49e2acfc6294301802d9",
              "version_major": 2,
              "version_minor": 0
            },
            "text/plain": [
              "  0%|          | 0/2108 [00:00<?, ?it/s]"
            ]
          },
          "metadata": {},
          "output_type": "display_data"
        },
        {
          "name": "stdout",
          "output_type": "stream",
          "text": [
            "{'loss': 1.7178, 'grad_norm': 53.056884765625, 'learning_rate': 0.00014887206977648684, 'epoch': 1.0}\n"
          ]
        },
        {
          "data": {
            "application/vnd.jupyter.widget-view+json": {
              "model_id": "8c4d248bce1d4d068eccc7475a064243",
              "version_major": 2,
              "version_minor": 0
            },
            "text/plain": [
              "  0%|          | 0/7 [00:00<?, ?it/s]"
            ]
          },
          "metadata": {},
          "output_type": "display_data"
        },
        {
          "name": "stdout",
          "output_type": "stream",
          "text": [
            "{'eval_loss': 1.3425756692886353, 'eval_accuracy': 0.8956422018348624, 'eval_runtime': 1.449, 'eval_samples_per_second': 601.801, 'eval_steps_per_second': 4.831, 'epoch': 1.0}\n",
            "{'loss': 0.8117, 'grad_norm': 54.11060333251953, 'learning_rate': 9.931074269360082e-05, 'epoch': 2.0}\n"
          ]
        },
        {
          "data": {
            "application/vnd.jupyter.widget-view+json": {
              "model_id": "2ba90784da6e418b99a5542724af8e1c",
              "version_major": 2,
              "version_minor": 0
            },
            "text/plain": [
              "  0%|          | 0/7 [00:00<?, ?it/s]"
            ]
          },
          "metadata": {},
          "output_type": "display_data"
        },
        {
          "name": "stderr",
          "output_type": "stream",
          "text": [
            "[I 2024-04-19 05:41:54,167] Trial 43 pruned. \n"
          ]
        },
        {
          "name": "stdout",
          "output_type": "stream",
          "text": [
            "{'eval_loss': 1.2254834175109863, 'eval_accuracy': 0.9013761467889908, 'eval_runtime': 1.4593, 'eval_samples_per_second': 597.55, 'eval_steps_per_second': 4.797, 'epoch': 2.0}\n"
          ]
        },
        {
          "name": "stderr",
          "output_type": "stream",
          "text": [
            "Some weights of ElectraForSequenceClassification were not initialized from the model checkpoint at google/electra-small-discriminator and are newly initialized: ['classifier.dense.bias', 'classifier.dense.weight', 'classifier.out_proj.bias', 'classifier.out_proj.weight']\n",
            "You should probably TRAIN this model on a down-stream task to be able to use it for predictions and inference.\n"
          ]
        },
        {
          "data": {
            "application/vnd.jupyter.widget-view+json": {
              "model_id": "f2eb62a205d9467a8b9a181fb960a3d3",
              "version_major": 2,
              "version_minor": 0
            },
            "text/plain": [
              "  0%|          | 0/1054 [00:00<?, ?it/s]"
            ]
          },
          "metadata": {},
          "output_type": "display_data"
        },
        {
          "name": "stdout",
          "output_type": "stream",
          "text": [
            "{'loss': 3.4781, 'grad_norm': 47.874210357666016, 'learning_rate': 2.4172863288960017e-05, 'epoch': 1.0}\n"
          ]
        },
        {
          "data": {
            "application/vnd.jupyter.widget-view+json": {
              "model_id": "7f42b9e7b0404dab949e146ca1c3b306",
              "version_major": 2,
              "version_minor": 0
            },
            "text/plain": [
              "  0%|          | 0/7 [00:00<?, ?it/s]"
            ]
          },
          "metadata": {},
          "output_type": "display_data"
        },
        {
          "name": "stdout",
          "output_type": "stream",
          "text": [
            "{'eval_loss': 1.7304165363311768, 'eval_accuracy': 0.8922018348623854, 'eval_runtime': 1.4497, 'eval_samples_per_second': 601.489, 'eval_steps_per_second': 4.828, 'epoch': 1.0}\n",
            "{'loss': 1.7274, 'grad_norm': 82.40401458740234, 'learning_rate': 1.3682752805071707e-07, 'epoch': 2.0}\n"
          ]
        },
        {
          "data": {
            "application/vnd.jupyter.widget-view+json": {
              "model_id": "7386beac05664c1d9822318522429fee",
              "version_major": 2,
              "version_minor": 0
            },
            "text/plain": [
              "  0%|          | 0/7 [00:00<?, ?it/s]"
            ]
          },
          "metadata": {},
          "output_type": "display_data"
        },
        {
          "name": "stdout",
          "output_type": "stream",
          "text": [
            "{'eval_loss': 1.6832726001739502, 'eval_accuracy': 0.9059633027522935, 'eval_runtime': 1.4506, 'eval_samples_per_second': 601.151, 'eval_steps_per_second': 4.826, 'epoch': 2.0}\n",
            "{'train_runtime': 225.816, 'train_samples_per_second': 596.494, 'train_steps_per_second': 4.668, 'train_loss': 2.602757839369367, 'epoch': 2.0}\n"
          ]
        },
        {
          "name": "stderr",
          "output_type": "stream",
          "text": [
            "[I 2024-04-19 05:46:41,115] Trial 44 finished with value: 0.9059633027522935 and parameters: {'num_train_epochs': 2, 'learning_rate': 4.80720715218186e-05, 'alpha': 0.12166614132948814, 'temperature': 24}. Best is trial 13 with value: 0.9220183486238532.\n",
            "Some weights of ElectraForSequenceClassification were not initialized from the model checkpoint at google/electra-small-discriminator and are newly initialized: ['classifier.dense.bias', 'classifier.dense.weight', 'classifier.out_proj.bias', 'classifier.out_proj.weight']\n",
            "You should probably TRAIN this model on a down-stream task to be able to use it for predictions and inference.\n"
          ]
        },
        {
          "data": {
            "application/vnd.jupyter.widget-view+json": {
              "model_id": "56207fe0b0574d66911acd32a36a535a",
              "version_major": 2,
              "version_minor": 0
            },
            "text/plain": [
              "  0%|          | 0/5270 [00:00<?, ?it/s]"
            ]
          },
          "metadata": {},
          "output_type": "display_data"
        },
        {
          "name": "stdout",
          "output_type": "stream",
          "text": [
            "{'loss': 3.1459, 'grad_norm': 40.29032516479492, 'learning_rate': 2.1517146214571464e-05, 'epoch': 1.0}\n"
          ]
        },
        {
          "data": {
            "application/vnd.jupyter.widget-view+json": {
              "model_id": "44190a62570342deb6a44b17fc55ac0a",
              "version_major": 2,
              "version_minor": 0
            },
            "text/plain": [
              "  0%|          | 0/7 [00:00<?, ?it/s]"
            ]
          },
          "metadata": {},
          "output_type": "display_data"
        },
        {
          "name": "stderr",
          "output_type": "stream",
          "text": [
            "[I 2024-04-19 05:48:34,413] Trial 45 pruned. \n"
          ]
        },
        {
          "name": "stdout",
          "output_type": "stream",
          "text": [
            "{'eval_loss': 1.5859317779541016, 'eval_accuracy': 0.8830275229357798, 'eval_runtime': 1.4459, 'eval_samples_per_second': 603.083, 'eval_steps_per_second': 4.841, 'epoch': 1.0}\n"
          ]
        },
        {
          "name": "stderr",
          "output_type": "stream",
          "text": [
            "Some weights of ElectraForSequenceClassification were not initialized from the model checkpoint at google/electra-small-discriminator and are newly initialized: ['classifier.dense.bias', 'classifier.dense.weight', 'classifier.out_proj.bias', 'classifier.out_proj.weight']\n",
            "You should probably TRAIN this model on a down-stream task to be able to use it for predictions and inference.\n"
          ]
        },
        {
          "data": {
            "application/vnd.jupyter.widget-view+json": {
              "model_id": "af97010bb7c242efbe9acf51bdac126e",
              "version_major": 2,
              "version_minor": 0
            },
            "text/plain": [
              "  0%|          | 0/3162 [00:00<?, ?it/s]"
            ]
          },
          "metadata": {},
          "output_type": "display_data"
        },
        {
          "name": "stdout",
          "output_type": "stream",
          "text": [
            "{'loss': 7.6286, 'grad_norm': inf, 'learning_rate': 0.0007840391316725399, 'epoch': 1.0}\n"
          ]
        },
        {
          "data": {
            "application/vnd.jupyter.widget-view+json": {
              "model_id": "6a82a50b784c4a8594cc7c10561cb1f8",
              "version_major": 2,
              "version_minor": 0
            },
            "text/plain": [
              "  0%|          | 0/7 [00:00<?, ?it/s]"
            ]
          },
          "metadata": {},
          "output_type": "display_data"
        },
        {
          "name": "stderr",
          "output_type": "stream",
          "text": [
            "[I 2024-04-19 05:50:27,462] Trial 46 pruned. \n"
          ]
        },
        {
          "name": "stdout",
          "output_type": "stream",
          "text": [
            "{'eval_loss': 7.621352672576904, 'eval_accuracy': 0.5091743119266054, 'eval_runtime': 1.4505, 'eval_samples_per_second': 601.161, 'eval_steps_per_second': 4.826, 'epoch': 1.0}\n"
          ]
        },
        {
          "name": "stderr",
          "output_type": "stream",
          "text": [
            "Some weights of ElectraForSequenceClassification were not initialized from the model checkpoint at google/electra-small-discriminator and are newly initialized: ['classifier.dense.bias', 'classifier.dense.weight', 'classifier.out_proj.bias', 'classifier.out_proj.weight']\n",
            "You should probably TRAIN this model on a down-stream task to be able to use it for predictions and inference.\n"
          ]
        },
        {
          "data": {
            "application/vnd.jupyter.widget-view+json": {
              "model_id": "9f81f2c676e24e1c804f7d3d24897d14",
              "version_major": 2,
              "version_minor": 0
            },
            "text/plain": [
              "  0%|          | 0/4743 [00:00<?, ?it/s]"
            ]
          },
          "metadata": {},
          "output_type": "display_data"
        },
        {
          "name": "stdout",
          "output_type": "stream",
          "text": [
            "{'loss': 2.4694, 'grad_norm': 79.72722625732422, 'learning_rate': 7.544826842265819e-05, 'epoch': 1.0}\n"
          ]
        },
        {
          "data": {
            "application/vnd.jupyter.widget-view+json": {
              "model_id": "e4a895aaf4ff48448ef43193eb0fda45",
              "version_major": 2,
              "version_minor": 0
            },
            "text/plain": [
              "  0%|          | 0/7 [00:00<?, ?it/s]"
            ]
          },
          "metadata": {},
          "output_type": "display_data"
        },
        {
          "name": "stdout",
          "output_type": "stream",
          "text": [
            "{'eval_loss': 1.513045310974121, 'eval_accuracy': 0.9025229357798165, 'eval_runtime': 1.4476, 'eval_samples_per_second': 602.382, 'eval_steps_per_second': 4.836, 'epoch': 1.0}\n",
            "{'loss': 1.1582, 'grad_norm': 60.853755950927734, 'learning_rate': 6.602394098517517e-05, 'epoch': 2.0}\n"
          ]
        },
        {
          "data": {
            "application/vnd.jupyter.widget-view+json": {
              "model_id": "6721807ac4e443b8a1d3ccfc96d8198c",
              "version_major": 2,
              "version_minor": 0
            },
            "text/plain": [
              "  0%|          | 0/7 [00:00<?, ?it/s]"
            ]
          },
          "metadata": {},
          "output_type": "display_data"
        },
        {
          "name": "stderr",
          "output_type": "stream",
          "text": [
            "[I 2024-04-19 05:54:14,028] Trial 47 pruned. \n"
          ]
        },
        {
          "name": "stdout",
          "output_type": "stream",
          "text": [
            "{'eval_loss': 1.5530725717544556, 'eval_accuracy': 0.9048165137614679, 'eval_runtime': 1.4519, 'eval_samples_per_second': 600.593, 'eval_steps_per_second': 4.821, 'epoch': 2.0}\n"
          ]
        },
        {
          "name": "stderr",
          "output_type": "stream",
          "text": [
            "Some weights of ElectraForSequenceClassification were not initialized from the model checkpoint at google/electra-small-discriminator and are newly initialized: ['classifier.dense.bias', 'classifier.dense.weight', 'classifier.out_proj.bias', 'classifier.out_proj.weight']\n",
            "You should probably TRAIN this model on a down-stream task to be able to use it for predictions and inference.\n"
          ]
        },
        {
          "data": {
            "application/vnd.jupyter.widget-view+json": {
              "model_id": "b1bde575b9ec493086ccabde12af8bf6",
              "version_major": 2,
              "version_minor": 0
            },
            "text/plain": [
              "  0%|          | 0/2635 [00:00<?, ?it/s]"
            ]
          },
          "metadata": {},
          "output_type": "display_data"
        },
        {
          "name": "stdout",
          "output_type": "stream",
          "text": [
            "{'loss': 0.3265, 'grad_norm': 8.276034355163574, 'learning_rate': 4.888681242124731e-05, 'epoch': 1.0}\n"
          ]
        },
        {
          "data": {
            "application/vnd.jupyter.widget-view+json": {
              "model_id": "a4a38394b68c4033893cc987bf23eb5a",
              "version_major": 2,
              "version_minor": 0
            },
            "text/plain": [
              "  0%|          | 0/7 [00:00<?, ?it/s]"
            ]
          },
          "metadata": {},
          "output_type": "display_data"
        },
        {
          "name": "stdout",
          "output_type": "stream",
          "text": [
            "{'eval_loss': 0.2659453749656677, 'eval_accuracy': 0.9036697247706422, 'eval_runtime': 1.4511, 'eval_samples_per_second': 600.924, 'eval_steps_per_second': 4.824, 'epoch': 1.0}\n",
            "{'loss': 0.1866, 'grad_norm': 7.019628524780273, 'learning_rate': 3.6665109315935477e-05, 'epoch': 2.0}\n"
          ]
        },
        {
          "data": {
            "application/vnd.jupyter.widget-view+json": {
              "model_id": "18f98425181f4092be8775e6837e3e58",
              "version_major": 2,
              "version_minor": 0
            },
            "text/plain": [
              "  0%|          | 0/7 [00:00<?, ?it/s]"
            ]
          },
          "metadata": {},
          "output_type": "display_data"
        },
        {
          "name": "stdout",
          "output_type": "stream",
          "text": [
            "{'eval_loss': 0.29601141810417175, 'eval_accuracy': 0.9059633027522935, 'eval_runtime': 1.4476, 'eval_samples_per_second': 602.36, 'eval_steps_per_second': 4.835, 'epoch': 2.0}\n",
            "{'loss': 0.1398, 'grad_norm': 2.9231150150299072, 'learning_rate': 2.4443406210623653e-05, 'epoch': 3.0}\n"
          ]
        },
        {
          "data": {
            "application/vnd.jupyter.widget-view+json": {
              "model_id": "5621d84bb9ed449d98e2fe6dc8102496",
              "version_major": 2,
              "version_minor": 0
            },
            "text/plain": [
              "  0%|          | 0/7 [00:00<?, ?it/s]"
            ]
          },
          "metadata": {},
          "output_type": "display_data"
        },
        {
          "name": "stdout",
          "output_type": "stream",
          "text": [
            "{'eval_loss': 0.27852392196655273, 'eval_accuracy': 0.9208715596330275, 'eval_runtime': 1.4489, 'eval_samples_per_second': 601.827, 'eval_steps_per_second': 4.831, 'epoch': 3.0}\n",
            "{'loss': 0.1103, 'grad_norm': 6.364706039428711, 'learning_rate': 1.2221703105311827e-05, 'epoch': 4.0}\n"
          ]
        },
        {
          "data": {
            "application/vnd.jupyter.widget-view+json": {
              "model_id": "e5ae678d1c3d464a9f7c755a2881eeca",
              "version_major": 2,
              "version_minor": 0
            },
            "text/plain": [
              "  0%|          | 0/7 [00:00<?, ?it/s]"
            ]
          },
          "metadata": {},
          "output_type": "display_data"
        },
        {
          "name": "stdout",
          "output_type": "stream",
          "text": [
            "{'eval_loss': 0.31632736325263977, 'eval_accuracy': 0.9162844036697247, 'eval_runtime': 1.4507, 'eval_samples_per_second': 601.084, 'eval_steps_per_second': 4.825, 'epoch': 4.0}\n",
            "{'loss': 0.094, 'grad_norm': 5.227040767669678, 'learning_rate': 0.0, 'epoch': 5.0}\n"
          ]
        },
        {
          "data": {
            "application/vnd.jupyter.widget-view+json": {
              "model_id": "509851a1855943ee982888cd58ba83ef",
              "version_major": 2,
              "version_minor": 0
            },
            "text/plain": [
              "  0%|          | 0/7 [00:00<?, ?it/s]"
            ]
          },
          "metadata": {},
          "output_type": "display_data"
        },
        {
          "name": "stdout",
          "output_type": "stream",
          "text": [
            "{'eval_loss': 0.3277532458305359, 'eval_accuracy': 0.9197247706422018, 'eval_runtime': 1.4468, 'eval_samples_per_second': 602.714, 'eval_steps_per_second': 4.838, 'epoch': 5.0}\n",
            "{'train_runtime': 567.7945, 'train_samples_per_second': 593.075, 'train_steps_per_second': 4.641, 'train_loss': 0.1714439189411431, 'epoch': 5.0}\n"
          ]
        },
        {
          "name": "stderr",
          "output_type": "stream",
          "text": [
            "[I 2024-04-19 06:04:38,646] Trial 48 finished with value: 0.9197247706422018 and parameters: {'num_train_epochs': 5, 'learning_rate': 6.110851552655913e-05, 'alpha': 0.9947666589577905, 'temperature': 22}. Best is trial 13 with value: 0.9220183486238532.\n",
            "Some weights of ElectraForSequenceClassification were not initialized from the model checkpoint at google/electra-small-discriminator and are newly initialized: ['classifier.dense.bias', 'classifier.dense.weight', 'classifier.out_proj.bias', 'classifier.out_proj.weight']\n",
            "You should probably TRAIN this model on a down-stream task to be able to use it for predictions and inference.\n"
          ]
        },
        {
          "data": {
            "application/vnd.jupyter.widget-view+json": {
              "model_id": "ee3e9e8838894fa1ac1502d888eec5b5",
              "version_major": 2,
              "version_minor": 0
            },
            "text/plain": [
              "  0%|          | 0/2635 [00:00<?, ?it/s]"
            ]
          },
          "metadata": {},
          "output_type": "display_data"
        },
        {
          "name": "stdout",
          "output_type": "stream",
          "text": [
            "{'loss': 0.3762, 'grad_norm': 8.770561218261719, 'learning_rate': 4.952771397331368e-05, 'epoch': 1.0}\n"
          ]
        },
        {
          "data": {
            "application/vnd.jupyter.widget-view+json": {
              "model_id": "e74895cdae434984b3ae8f7e44bcc3c2",
              "version_major": 2,
              "version_minor": 0
            },
            "text/plain": [
              "  0%|          | 0/7 [00:00<?, ?it/s]"
            ]
          },
          "metadata": {},
          "output_type": "display_data"
        },
        {
          "name": "stdout",
          "output_type": "stream",
          "text": [
            "{'eval_loss': 0.28651162981987, 'eval_accuracy': 0.908256880733945, 'eval_runtime': 1.4488, 'eval_samples_per_second': 601.892, 'eval_steps_per_second': 4.832, 'epoch': 1.0}\n",
            "{'loss': 0.2105, 'grad_norm': 11.216989517211914, 'learning_rate': 3.714578547998526e-05, 'epoch': 2.0}\n"
          ]
        },
        {
          "data": {
            "application/vnd.jupyter.widget-view+json": {
              "model_id": "702fc89e96744005a1ced9d7e22d47d7",
              "version_major": 2,
              "version_minor": 0
            },
            "text/plain": [
              "  0%|          | 0/7 [00:00<?, ?it/s]"
            ]
          },
          "metadata": {},
          "output_type": "display_data"
        },
        {
          "name": "stdout",
          "output_type": "stream",
          "text": [
            "{'eval_loss': 0.3472459316253662, 'eval_accuracy': 0.9048165137614679, 'eval_runtime': 1.4467, 'eval_samples_per_second': 602.769, 'eval_steps_per_second': 4.839, 'epoch': 2.0}\n",
            "{'loss': 0.1566, 'grad_norm': 3.215942621231079, 'learning_rate': 2.476385698665684e-05, 'epoch': 3.0}\n"
          ]
        },
        {
          "data": {
            "application/vnd.jupyter.widget-view+json": {
              "model_id": "46ea04f511144d20a4d51574beabdba2",
              "version_major": 2,
              "version_minor": 0
            },
            "text/plain": [
              "  0%|          | 0/7 [00:00<?, ?it/s]"
            ]
          },
          "metadata": {},
          "output_type": "display_data"
        },
        {
          "name": "stdout",
          "output_type": "stream",
          "text": [
            "{'eval_loss': 0.30982208251953125, 'eval_accuracy': 0.9243119266055045, 'eval_runtime': 1.448, 'eval_samples_per_second': 602.203, 'eval_steps_per_second': 4.834, 'epoch': 3.0}\n",
            "{'loss': 0.1221, 'grad_norm': 7.901008129119873, 'learning_rate': 1.238192849332842e-05, 'epoch': 4.0}\n"
          ]
        },
        {
          "data": {
            "application/vnd.jupyter.widget-view+json": {
              "model_id": "31e37ae618ba4c989b7d794f2a1e5a83",
              "version_major": 2,
              "version_minor": 0
            },
            "text/plain": [
              "  0%|          | 0/7 [00:00<?, ?it/s]"
            ]
          },
          "metadata": {},
          "output_type": "display_data"
        },
        {
          "name": "stdout",
          "output_type": "stream",
          "text": [
            "{'eval_loss': 0.3680877685546875, 'eval_accuracy': 0.9174311926605505, 'eval_runtime': 1.4488, 'eval_samples_per_second': 601.891, 'eval_steps_per_second': 4.832, 'epoch': 4.0}\n",
            "{'loss': 0.1029, 'grad_norm': 4.315232753753662, 'learning_rate': 0.0, 'epoch': 5.0}\n"
          ]
        },
        {
          "data": {
            "application/vnd.jupyter.widget-view+json": {
              "model_id": "a36e7b1bf6db42ba95bcadf1eb00634c",
              "version_major": 2,
              "version_minor": 0
            },
            "text/plain": [
              "  0%|          | 0/7 [00:00<?, ?it/s]"
            ]
          },
          "metadata": {},
          "output_type": "display_data"
        },
        {
          "name": "stdout",
          "output_type": "stream",
          "text": [
            "{'eval_loss': 0.37717682123184204, 'eval_accuracy': 0.9174311926605505, 'eval_runtime': 1.4394, 'eval_samples_per_second': 605.794, 'eval_steps_per_second': 4.863, 'epoch': 5.0}\n",
            "{'train_runtime': 567.0988, 'train_samples_per_second': 593.803, 'train_steps_per_second': 4.646, 'train_loss': 0.19365764668589525, 'epoch': 5.0}\n"
          ]
        },
        {
          "name": "stderr",
          "output_type": "stream",
          "text": [
            "[I 2024-04-19 06:15:03,963] Trial 49 finished with value: 0.9174311926605505 and parameters: {'num_train_epochs': 5, 'learning_rate': 6.19096424666421e-05, 'alpha': 0.982936133975336, 'temperature': 22}. Best is trial 13 with value: 0.9220183486238532.\n"
          ]
        },
        {
          "name": "stdout",
          "output_type": "stream",
          "text": [
            "BestRun(run_id='13', objective=0.9220183486238532, hyperparameters={'num_train_epochs': 9, 'learning_rate': 4.854751380955516e-05, 'alpha': 0.8585651118406669, 'temperature': 23}, run_summary=None)\n"
          ]
        }
      ],
      "source": [
        "def student_init():\n",
        "    return AutoModelForQuestionAnswering.from_pretrained(\n",
        "        student_id,\n",
        "    )\n",
        "\n",
        "trainer = DistillationTrainer(\n",
        "    model_init=student_init,\n",
        "    args=training_args,\n",
        "    teacher_model=teacher_model,\n",
        "    train_dataset=tokenized_datasets[\"train\"],\n",
        "    eval_dataset=tokenized_datasets[\"validation\"],\n",
        "    data_collator=data_collator,\n",
        "    tokenizer=tokenizer,\n",
        "    compute_metrics=compute_metrics,\n",
        ")\n",
        "best_run = trainer.hyperparameter_search(\n",
        "    n_trials=50,\n",
        "    direction=\"maximize\",\n",
        "    hp_space=hp_space\n",
        ")\n",
        "\n",
        "print(best_run)"
      ]
    },
    {
      "cell_type": "markdown",
      "metadata": {
        "id": "PvK_kESMWUmw"
      },
      "source": [
        "Since optuna is just finding the best hyperparameters we need to fine-tune our model again using the best hyperparamters from the `best_run`."
      ]
    },
    {
      "cell_type": "code",
      "execution_count": 19,
      "metadata": {
        "id": "vhEu3MoRWUmw"
      },
      "outputs": [],
      "source": [
        "# overwrite initial hyperparameters with from the best_run\n",
        "for k,v in best_run.hyperparameters.items():\n",
        "    setattr(training_args, k, v)\n",
        "\n",
        "# Define a new repository to store our distilled model\n",
        "best_model_ckpt = \"electra-distilled-best-sst\"\n",
        "training_args.output_dir = best_model_ckpt"
      ]
    },
    {
      "cell_type": "markdown",
      "metadata": {},
      "source": [
        "# Data:"
      ]
    },
    {
      "cell_type": "code",
      "execution_count": 20,
      "metadata": {},
      "outputs": [
        {
          "name": "stdout",
          "output_type": "stream",
          "text": [
            "13549314\n"
          ]
        }
      ],
      "source": [
        "print(count_parameters(student_model))"
      ]
    },
    {
      "cell_type": "markdown",
      "metadata": {
        "id": "E03-eFBqWUmw"
      },
      "source": [
        "We have overwritten the default Hyperparameters with the one from our `best_run` and can start the training now."
      ]
    },
    {
      "cell_type": "code",
      "execution_count": 21,
      "metadata": {
        "id": "obBR6BgEWUmw"
      },
      "outputs": [
        {
          "data": {
            "application/vnd.jupyter.widget-view+json": {
              "model_id": "24be8b17f41d432f86cbc86eac37156e",
              "version_major": 2,
              "version_minor": 0
            },
            "text/plain": [
              "  0%|          | 0/4743 [00:00<?, ?it/s]"
            ]
          },
          "metadata": {},
          "output_type": "display_data"
        },
        {
          "name": "stdout",
          "output_type": "stream",
          "text": [
            "{'loss': 0.2625, 'grad_norm': 11.34455394744873, 'learning_rate': 4.3163581221778226e-05, 'epoch': 1.0}\n"
          ]
        },
        {
          "data": {
            "application/vnd.jupyter.widget-view+json": {
              "model_id": "37230144b1974181be5db9e48bb2ad45",
              "version_major": 2,
              "version_minor": 0
            },
            "text/plain": [
              "  0%|          | 0/7 [00:00<?, ?it/s]"
            ]
          },
          "metadata": {},
          "output_type": "display_data"
        },
        {
          "name": "stdout",
          "output_type": "stream",
          "text": [
            "{'eval_loss': 0.5787972807884216, 'eval_accuracy': 0.911697247706422, 'eval_runtime': 1.4545, 'eval_samples_per_second': 599.512, 'eval_steps_per_second': 4.813, 'epoch': 1.0}\n",
            "{'loss': 0.214, 'grad_norm': 29.352754592895508, 'learning_rate': 3.7769413020716535e-05, 'epoch': 2.0}\n"
          ]
        },
        {
          "data": {
            "application/vnd.jupyter.widget-view+json": {
              "model_id": "6943c73d81af4b1aa99e206489b6f277",
              "version_major": 2,
              "version_minor": 0
            },
            "text/plain": [
              "  0%|          | 0/7 [00:00<?, ?it/s]"
            ]
          },
          "metadata": {},
          "output_type": "display_data"
        },
        {
          "name": "stdout",
          "output_type": "stream",
          "text": [
            "{'eval_loss': 0.8082430958747864, 'eval_accuracy': 0.8899082568807339, 'eval_runtime': 1.4519, 'eval_samples_per_second': 600.605, 'eval_steps_per_second': 4.821, 'epoch': 2.0}\n",
            "{'loss': 0.1816, 'grad_norm': 2.591447353363037, 'learning_rate': 3.237524481965485e-05, 'epoch': 3.0}\n"
          ]
        },
        {
          "data": {
            "application/vnd.jupyter.widget-view+json": {
              "model_id": "dd59c1d1c61f4e7dab7bcddc7c5ae3a4",
              "version_major": 2,
              "version_minor": 0
            },
            "text/plain": [
              "  0%|          | 0/7 [00:00<?, ?it/s]"
            ]
          },
          "metadata": {},
          "output_type": "display_data"
        },
        {
          "name": "stdout",
          "output_type": "stream",
          "text": [
            "{'eval_loss': 0.5843978524208069, 'eval_accuracy': 0.9128440366972477, 'eval_runtime': 1.4556, 'eval_samples_per_second': 599.068, 'eval_steps_per_second': 4.809, 'epoch': 3.0}\n",
            "{'loss': 0.1578, 'grad_norm': 16.45197105407715, 'learning_rate': 2.6981076618593168e-05, 'epoch': 4.0}\n"
          ]
        },
        {
          "data": {
            "application/vnd.jupyter.widget-view+json": {
              "model_id": "7fcacbe0ea7d4db0ad7617401a2dea8d",
              "version_major": 2,
              "version_minor": 0
            },
            "text/plain": [
              "  0%|          | 0/7 [00:00<?, ?it/s]"
            ]
          },
          "metadata": {},
          "output_type": "display_data"
        },
        {
          "name": "stdout",
          "output_type": "stream",
          "text": [
            "{'eval_loss': 0.5983200073242188, 'eval_accuracy': 0.9197247706422018, 'eval_runtime': 1.4409, 'eval_samples_per_second': 605.194, 'eval_steps_per_second': 4.858, 'epoch': 4.0}\n",
            "{'loss': 0.1352, 'grad_norm': 1.9843107461929321, 'learning_rate': 2.159714403081623e-05, 'epoch': 5.0}\n"
          ]
        },
        {
          "data": {
            "application/vnd.jupyter.widget-view+json": {
              "model_id": "5f2acf392af649d48d1b55fe0c81bd42",
              "version_major": 2,
              "version_minor": 0
            },
            "text/plain": [
              "  0%|          | 0/7 [00:00<?, ?it/s]"
            ]
          },
          "metadata": {},
          "output_type": "display_data"
        },
        {
          "name": "stdout",
          "output_type": "stream",
          "text": [
            "{'eval_loss': 0.6065379977226257, 'eval_accuracy': 0.9220183486238532, 'eval_runtime': 1.4411, 'eval_samples_per_second': 605.113, 'eval_steps_per_second': 4.858, 'epoch': 5.0}\n",
            "{'loss': 0.1197, 'grad_norm': 21.910747528076172, 'learning_rate': 1.6202975829754548e-05, 'epoch': 6.0}\n"
          ]
        },
        {
          "data": {
            "application/vnd.jupyter.widget-view+json": {
              "model_id": "4880684372a54feaa79e95d6f449a36e",
              "version_major": 2,
              "version_minor": 0
            },
            "text/plain": [
              "  0%|          | 0/7 [00:00<?, ?it/s]"
            ]
          },
          "metadata": {},
          "output_type": "display_data"
        },
        {
          "name": "stdout",
          "output_type": "stream",
          "text": [
            "{'eval_loss': 0.5545653700828552, 'eval_accuracy': 0.9208715596330275, 'eval_runtime': 1.4598, 'eval_samples_per_second': 597.337, 'eval_steps_per_second': 4.795, 'epoch': 6.0}\n",
            "{'loss': 0.1034, 'grad_norm': 5.341484069824219, 'learning_rate': 1.0808807628692863e-05, 'epoch': 7.0}\n"
          ]
        },
        {
          "data": {
            "application/vnd.jupyter.widget-view+json": {
              "model_id": "4b437f6f8b514c83bfd30dd79d2a3de8",
              "version_major": 2,
              "version_minor": 0
            },
            "text/plain": [
              "  0%|          | 0/7 [00:00<?, ?it/s]"
            ]
          },
          "metadata": {},
          "output_type": "display_data"
        },
        {
          "name": "stdout",
          "output_type": "stream",
          "text": [
            "{'eval_loss': 0.619475781917572, 'eval_accuracy': 0.9128440366972477, 'eval_runtime': 1.451, 'eval_samples_per_second': 600.96, 'eval_steps_per_second': 4.824, 'epoch': 7.0}\n",
            "{'loss': 0.096, 'grad_norm': 0.40521571040153503, 'learning_rate': 5.414639427631178e-06, 'epoch': 8.0}\n"
          ]
        },
        {
          "data": {
            "application/vnd.jupyter.widget-view+json": {
              "model_id": "0a487211ed1749ad99c3a135a6c56bb1",
              "version_major": 2,
              "version_minor": 0
            },
            "text/plain": [
              "  0%|          | 0/7 [00:00<?, ?it/s]"
            ]
          },
          "metadata": {},
          "output_type": "display_data"
        },
        {
          "name": "stdout",
          "output_type": "stream",
          "text": [
            "{'eval_loss': 0.5945138335227966, 'eval_accuracy': 0.9220183486238532, 'eval_runtime': 1.448, 'eval_samples_per_second': 602.228, 'eval_steps_per_second': 4.834, 'epoch': 8.0}\n",
            "{'loss': 0.0889, 'grad_norm': 14.889159202575684, 'learning_rate': 3.070683985424109e-08, 'epoch': 9.0}\n"
          ]
        },
        {
          "data": {
            "application/vnd.jupyter.widget-view+json": {
              "model_id": "5db28338b8a940c9965e19c366d1e122",
              "version_major": 2,
              "version_minor": 0
            },
            "text/plain": [
              "  0%|          | 0/7 [00:00<?, ?it/s]"
            ]
          },
          "metadata": {},
          "output_type": "display_data"
        },
        {
          "name": "stdout",
          "output_type": "stream",
          "text": [
            "{'eval_loss': 0.6007155776023865, 'eval_accuracy': 0.9220183486238532, 'eval_runtime': 1.4604, 'eval_samples_per_second': 597.088, 'eval_steps_per_second': 4.793, 'epoch': 9.0}\n",
            "{'train_runtime': 1017.9606, 'train_samples_per_second': 595.446, 'train_steps_per_second': 4.659, 'train_loss': 0.1510109045875995, 'epoch': 9.0}\n"
          ]
        },
        {
          "data": {
            "text/plain": [
              "CommitInfo(commit_url='https://huggingface.co/kasohrab/electra-distilled-sst/commit/593f17c76d2ba59af9f3f6046449f7c743fef377', commit_message='End of training', commit_description='', oid='593f17c76d2ba59af9f3f6046449f7c743fef377', pr_url=None, pr_revision=None, pr_num=None)"
            ]
          },
          "execution_count": 21,
          "metadata": {},
          "output_type": "execute_result"
        }
      ],
      "source": [
        "# Create a new Trainer with optimal parameters\n",
        "optimal_trainer = DistillationTrainer(\n",
        "    student_model,\n",
        "    training_args,\n",
        "    teacher_model=teacher_model,\n",
        "    train_dataset=tokenized_datasets[\"train\"],\n",
        "    eval_dataset=tokenized_datasets[\"validation\"],\n",
        "    data_collator=data_collator,\n",
        "    tokenizer=tokenizer,\n",
        "    compute_metrics=compute_metrics,\n",
        ")\n",
        "\n",
        "optimal_trainer.train()\n",
        "\n",
        "\n",
        "# save best model, metrics and create model card\n",
        "trainer.create_model_card(model_name=training_args.hub_model_id)\n",
        "trainer.push_to_hub()"
      ]
    },
    {
      "cell_type": "code",
      "execution_count": 22,
      "metadata": {
        "id": "g-dRCZSvWUmx"
      },
      "outputs": [
        {
          "name": "stdout",
          "output_type": "stream",
          "text": [
            "https://huggingface.co/kasohrab/electra-distilled-sst\n"
          ]
        }
      ],
      "source": [
        "from huggingface_hub import HfApi\n",
        "\n",
        "whoami = HfApi().whoami()\n",
        "username = whoami['name']\n",
        "\n",
        "print(f\"https://huggingface.co/{username}/{repo_name}\")"
      ]
    },
    {
      "cell_type": "markdown",
      "metadata": {
        "id": "NbSeV3h_WUmx"
      },
      "source": [
        "## Results\n",
        "\n",
        "We were able to achieve a `accuracy` of 0.8337, which is a very good result for our model. Our distilled `Tiny-Bert` has 96% less parameters than the teacher `bert-base` and runs ~46.5x faster while preserving over 90% of BERT’s performances as measured on the SST2 dataset.\n",
        "\n",
        "| model | Parameter | Speed-up | Accuracy |\n",
        "|------------|-----------|----------|----------|\n",
        "| BERT-base  | 109M      | 1x       | 93%      |\n",
        "| tiny-BERT  | 4M        | 46.5x    | 83%      |\n",
        "\n",
        "_Note: The [FastFormers paper](https://arxiv.org/abs/2010.13382) uncovered that the biggest boost in performance is observerd when having 6 or more layers in the student. The [google/bert_uncased_L-2_H-128_A-2](https://huggingface.co/google/bert_uncased_L-2_H-128_A-2) we used only had 2, which means when changing our student to, e.g. `distilbert-base-uncased` we should better performance in terms of accuracy._\n",
        "\n",
        "If you are now planning to implement and add task-specific knowledge distillation to your models. I suggest to take a look at the [sagemaker-distillation](https://github.com/philschmid/knowledge-distillation-transformers-pytorch-sagemaker/blob/master/sagemaker-distillation.ipynb), which shows how to run task-specific knowledge distillation on Amazon SageMaker. For the example i created a script deriving this notebook to make it as easy as possible to use for you. You only need to define your `teacher_id`, `student_id` as well as your `dataset` config to run task-specific knowledge distillation for `text-classification`.\n",
        "\n",
        "```python\n",
        "from sagemaker.huggingface import HuggingFace\n",
        "\n",
        "# hyperparameters, which are passed into the training job\n",
        "hyperparameters={\n",
        "    'teacher_id':'textattack/bert-base-uncased-SST-2',           \n",
        "    'student_id':'google/bert_uncased_L-2_H-128_A-2',           \n",
        "    'dataset_id':'glue',           \n",
        "    'dataset_config':'sst2',             \n",
        "    # distillation parameter\n",
        "    'alpha': 0.5,\n",
        "    'temparature': 4,\n",
        "    # hpo parameter\n",
        "    \"run_hpo\": True,\n",
        "    \"n_trials\": 100,            \n",
        "}\n",
        "\n",
        "# create the Estimator\n",
        "huggingface_estimator = HuggingFace(..., hyperparameters=hyperparameters)\n",
        "\n",
        "# start knwonledge distillation training\n",
        "huggingface_estimator.fit()\n",
        "```"
      ]
    },
    {
      "cell_type": "markdown",
      "metadata": {
        "id": "w3HI-D_HWUmy"
      },
      "source": []
    }
  ],
  "metadata": {
    "accelerator": "GPU",
    "colab": {
      "gpuType": "A100",
      "machine_shape": "hm",
      "provenance": []
    },
    "instance_type": "ml.t3.medium",
    "interpreter": {
      "hash": "ec1370a512a4612a2908be3c3c8b0de1730d00dc30104daff827065aeaf438b7"
    },
    "kernelspec": {
      "display_name": "Python 3",
      "name": "python3"
    },
    "language_info": {
      "codemirror_mode": {
        "name": "ipython",
        "version": 3
      },
      "file_extension": ".py",
      "mimetype": "text/x-python",
      "name": "python",
      "nbconvert_exporter": "python",
      "pygments_lexer": "ipython3",
      "version": "3.11.7"
    },
    "widgets": {
      "application/vnd.jupyter.widget-state+json": {
        "00179b771d35489a9d1f846d48a79456": {
          "model_module": "@jupyter-widgets/controls",
          "model_module_version": "1.5.0",
          "model_name": "HTMLModel",
          "state": {
            "_dom_classes": [],
            "_model_module": "@jupyter-widgets/controls",
            "_model_module_version": "1.5.0",
            "_model_name": "HTMLModel",
            "_view_count": null,
            "_view_module": "@jupyter-widgets/controls",
            "_view_module_version": "1.5.0",
            "_view_name": "HTMLView",
            "description": "",
            "description_tooltip": null,
            "layout": "IPY_MODEL_e50c7ed29550431ea4565e6b09375fec",
            "placeholder": "​",
            "style": "IPY_MODEL_e69a6270959e4a71b65dd6f9886f5648",
            "value": "tokenizer_config.json: 100%"
          }
        },
        "007a4d62721c4b31a0912ba270cc5d4f": {
          "model_module": "@jupyter-widgets/controls",
          "model_module_version": "1.5.0",
          "model_name": "ProgressStyleModel",
          "state": {
            "_model_module": "@jupyter-widgets/controls",
            "_model_module_version": "1.5.0",
            "_model_name": "ProgressStyleModel",
            "_view_count": null,
            "_view_module": "@jupyter-widgets/base",
            "_view_module_version": "1.2.0",
            "_view_name": "StyleView",
            "bar_color": null,
            "description_width": ""
          }
        },
        "028078eceecf47949ca3c761726c7b27": {
          "model_module": "@jupyter-widgets/controls",
          "model_module_version": "1.5.0",
          "model_name": "HBoxModel",
          "state": {
            "_dom_classes": [],
            "_model_module": "@jupyter-widgets/controls",
            "_model_module_version": "1.5.0",
            "_model_name": "HBoxModel",
            "_view_count": null,
            "_view_module": "@jupyter-widgets/controls",
            "_view_module_version": "1.5.0",
            "_view_name": "HBoxView",
            "box_style": "",
            "children": [
              "IPY_MODEL_a6e5b45fd17b43f0964131c5e6c7d321",
              "IPY_MODEL_bc8fd27de9a24a159c3baa371e9c5bad",
              "IPY_MODEL_56a00f8340f84bc4a86a0e123ab6f3c8"
            ],
            "layout": "IPY_MODEL_8b4f6dc3e61540efb5e454efdbefef68"
          }
        },
        "03edeeefb37a491285e45f73213a2756": {
          "model_module": "@jupyter-widgets/controls",
          "model_module_version": "1.5.0",
          "model_name": "ProgressStyleModel",
          "state": {
            "_model_module": "@jupyter-widgets/controls",
            "_model_module_version": "1.5.0",
            "_model_name": "ProgressStyleModel",
            "_view_count": null,
            "_view_module": "@jupyter-widgets/base",
            "_view_module_version": "1.2.0",
            "_view_name": "StyleView",
            "bar_color": null,
            "description_width": ""
          }
        },
        "040e3e6e95994504a2d4791b9a024eca": {
          "model_module": "@jupyter-widgets/controls",
          "model_module_version": "1.5.0",
          "model_name": "ProgressStyleModel",
          "state": {
            "_model_module": "@jupyter-widgets/controls",
            "_model_module_version": "1.5.0",
            "_model_name": "ProgressStyleModel",
            "_view_count": null,
            "_view_module": "@jupyter-widgets/base",
            "_view_module_version": "1.2.0",
            "_view_name": "StyleView",
            "bar_color": null,
            "description_width": ""
          }
        },
        "0701b5fa25c2456fb430a797b2367a58": {
          "model_module": "@jupyter-widgets/base",
          "model_module_version": "1.2.0",
          "model_name": "LayoutModel",
          "state": {
            "_model_module": "@jupyter-widgets/base",
            "_model_module_version": "1.2.0",
            "_model_name": "LayoutModel",
            "_view_count": null,
            "_view_module": "@jupyter-widgets/base",
            "_view_module_version": "1.2.0",
            "_view_name": "LayoutView",
            "align_content": null,
            "align_items": null,
            "align_self": null,
            "border": null,
            "bottom": null,
            "display": null,
            "flex": null,
            "flex_flow": null,
            "grid_area": null,
            "grid_auto_columns": null,
            "grid_auto_flow": null,
            "grid_auto_rows": null,
            "grid_column": null,
            "grid_gap": null,
            "grid_row": null,
            "grid_template_areas": null,
            "grid_template_columns": null,
            "grid_template_rows": null,
            "height": null,
            "justify_content": null,
            "justify_items": null,
            "left": null,
            "margin": null,
            "max_height": null,
            "max_width": null,
            "min_height": null,
            "min_width": null,
            "object_fit": null,
            "object_position": null,
            "order": null,
            "overflow": null,
            "overflow_x": null,
            "overflow_y": null,
            "padding": null,
            "right": null,
            "top": null,
            "visibility": null,
            "width": null
          }
        },
        "074d9372a6f045a6b1a84556428951b2": {
          "model_module": "@jupyter-widgets/controls",
          "model_module_version": "1.5.0",
          "model_name": "FloatProgressModel",
          "state": {
            "_dom_classes": [],
            "_model_module": "@jupyter-widgets/controls",
            "_model_module_version": "1.5.0",
            "_model_name": "FloatProgressModel",
            "_view_count": null,
            "_view_module": "@jupyter-widgets/controls",
            "_view_module_version": "1.5.0",
            "_view_name": "ProgressView",
            "bar_style": "success",
            "description": "",
            "description_tooltip": null,
            "layout": "IPY_MODEL_e74468672d6d44279181e7a380c85942",
            "max": 27,
            "min": 0,
            "orientation": "horizontal",
            "style": "IPY_MODEL_040e3e6e95994504a2d4791b9a024eca",
            "value": 27
          }
        },
        "078b17f60fe74ff18f0f814e9aab184a": {
          "model_module": "@jupyter-widgets/controls",
          "model_module_version": "1.5.0",
          "model_name": "HTMLModel",
          "state": {
            "_dom_classes": [],
            "_model_module": "@jupyter-widgets/controls",
            "_model_module_version": "1.5.0",
            "_model_name": "HTMLModel",
            "_view_count": null,
            "_view_module": "@jupyter-widgets/controls",
            "_view_module_version": "1.5.0",
            "_view_name": "HTMLView",
            "description": "",
            "description_tooltip": null,
            "layout": "IPY_MODEL_d64d58b97416469c9158c4b07e4b1f88",
            "placeholder": "​",
            "style": "IPY_MODEL_63bc6690d2d0426eb37f9e64dd86f4e3",
            "value": "tokenizer_config.json: 100%"
          }
        },
        "08d4f1458d7b45a08a6329145514d34b": {
          "model_module": "@jupyter-widgets/base",
          "model_module_version": "1.2.0",
          "model_name": "LayoutModel",
          "state": {
            "_model_module": "@jupyter-widgets/base",
            "_model_module_version": "1.2.0",
            "_model_name": "LayoutModel",
            "_view_count": null,
            "_view_module": "@jupyter-widgets/base",
            "_view_module_version": "1.2.0",
            "_view_name": "LayoutView",
            "align_content": null,
            "align_items": null,
            "align_self": null,
            "border": null,
            "bottom": null,
            "display": null,
            "flex": null,
            "flex_flow": null,
            "grid_area": null,
            "grid_auto_columns": null,
            "grid_auto_flow": null,
            "grid_auto_rows": null,
            "grid_column": null,
            "grid_gap": null,
            "grid_row": null,
            "grid_template_areas": null,
            "grid_template_columns": null,
            "grid_template_rows": null,
            "height": null,
            "justify_content": null,
            "justify_items": null,
            "left": null,
            "margin": null,
            "max_height": null,
            "max_width": null,
            "min_height": null,
            "min_width": null,
            "object_fit": null,
            "object_position": null,
            "order": null,
            "overflow": null,
            "overflow_x": null,
            "overflow_y": null,
            "padding": null,
            "right": null,
            "top": null,
            "visibility": null,
            "width": null
          }
        },
        "09369b7b00c34b3ea015a0c23e28185e": {
          "model_module": "@jupyter-widgets/base",
          "model_module_version": "1.2.0",
          "model_name": "LayoutModel",
          "state": {
            "_model_module": "@jupyter-widgets/base",
            "_model_module_version": "1.2.0",
            "_model_name": "LayoutModel",
            "_view_count": null,
            "_view_module": "@jupyter-widgets/base",
            "_view_module_version": "1.2.0",
            "_view_name": "LayoutView",
            "align_content": null,
            "align_items": null,
            "align_self": null,
            "border": null,
            "bottom": null,
            "display": null,
            "flex": null,
            "flex_flow": null,
            "grid_area": null,
            "grid_auto_columns": null,
            "grid_auto_flow": null,
            "grid_auto_rows": null,
            "grid_column": null,
            "grid_gap": null,
            "grid_row": null,
            "grid_template_areas": null,
            "grid_template_columns": null,
            "grid_template_rows": null,
            "height": null,
            "justify_content": null,
            "justify_items": null,
            "left": null,
            "margin": null,
            "max_height": null,
            "max_width": null,
            "min_height": null,
            "min_width": null,
            "object_fit": null,
            "object_position": null,
            "order": null,
            "overflow": null,
            "overflow_x": null,
            "overflow_y": null,
            "padding": null,
            "right": null,
            "top": null,
            "visibility": null,
            "width": null
          }
        },
        "0ab9509f7c1e42cf8b842d0b037b6312": {
          "model_module": "@jupyter-widgets/base",
          "model_module_version": "1.2.0",
          "model_name": "LayoutModel",
          "state": {
            "_model_module": "@jupyter-widgets/base",
            "_model_module_version": "1.2.0",
            "_model_name": "LayoutModel",
            "_view_count": null,
            "_view_module": "@jupyter-widgets/base",
            "_view_module_version": "1.2.0",
            "_view_name": "LayoutView",
            "align_content": null,
            "align_items": null,
            "align_self": null,
            "border": null,
            "bottom": null,
            "display": null,
            "flex": null,
            "flex_flow": null,
            "grid_area": null,
            "grid_auto_columns": null,
            "grid_auto_flow": null,
            "grid_auto_rows": null,
            "grid_column": null,
            "grid_gap": null,
            "grid_row": null,
            "grid_template_areas": null,
            "grid_template_columns": null,
            "grid_template_rows": null,
            "height": null,
            "justify_content": null,
            "justify_items": null,
            "left": null,
            "margin": null,
            "max_height": null,
            "max_width": null,
            "min_height": null,
            "min_width": null,
            "object_fit": null,
            "object_position": null,
            "order": null,
            "overflow": null,
            "overflow_x": null,
            "overflow_y": null,
            "padding": null,
            "right": null,
            "top": null,
            "visibility": null,
            "width": null
          }
        },
        "0b2febb114af4f2b834a1c88b9eb81a8": {
          "model_module": "@jupyter-widgets/controls",
          "model_module_version": "1.5.0",
          "model_name": "HTMLModel",
          "state": {
            "_dom_classes": [],
            "_model_module": "@jupyter-widgets/controls",
            "_model_module_version": "1.5.0",
            "_model_name": "HTMLModel",
            "_view_count": null,
            "_view_module": "@jupyter-widgets/controls",
            "_view_module_version": "1.5.0",
            "_view_name": "HTMLView",
            "description": "",
            "description_tooltip": null,
            "layout": "IPY_MODEL_295d2c231f644e12932abed31df98f78",
            "placeholder": "​",
            "style": "IPY_MODEL_e707975264844c768e3e17b94fd1699b",
            "value": " 772/772 [00:00&lt;00:00, 66.6kB/s]"
          }
        },
        "0b89c7d1c7474e15a08e4992470f705f": {
          "model_module": "@jupyter-widgets/controls",
          "model_module_version": "1.5.0",
          "model_name": "FloatProgressModel",
          "state": {
            "_dom_classes": [],
            "_model_module": "@jupyter-widgets/controls",
            "_model_module_version": "1.5.0",
            "_model_name": "FloatProgressModel",
            "_view_count": null,
            "_view_module": "@jupyter-widgets/controls",
            "_view_module_version": "1.5.0",
            "_view_name": "ProgressView",
            "bar_style": "success",
            "description": "",
            "description_tooltip": null,
            "layout": "IPY_MODEL_bd32aaf052014e56ac6c639b947e2e77",
            "max": 872,
            "min": 0,
            "orientation": "horizontal",
            "style": "IPY_MODEL_8f203a1b633441cd9929ae6c603da4e7",
            "value": 872
          }
        },
        "0b8f011ba03b4621b0a67b9c4f3b8ad5": {
          "model_module": "@jupyter-widgets/base",
          "model_module_version": "1.2.0",
          "model_name": "LayoutModel",
          "state": {
            "_model_module": "@jupyter-widgets/base",
            "_model_module_version": "1.2.0",
            "_model_name": "LayoutModel",
            "_view_count": null,
            "_view_module": "@jupyter-widgets/base",
            "_view_module_version": "1.2.0",
            "_view_name": "LayoutView",
            "align_content": null,
            "align_items": null,
            "align_self": null,
            "border": null,
            "bottom": null,
            "display": null,
            "flex": null,
            "flex_flow": null,
            "grid_area": null,
            "grid_auto_columns": null,
            "grid_auto_flow": null,
            "grid_auto_rows": null,
            "grid_column": null,
            "grid_gap": null,
            "grid_row": null,
            "grid_template_areas": null,
            "grid_template_columns": null,
            "grid_template_rows": null,
            "height": null,
            "justify_content": null,
            "justify_items": null,
            "left": null,
            "margin": null,
            "max_height": null,
            "max_width": null,
            "min_height": null,
            "min_width": null,
            "object_fit": null,
            "object_position": null,
            "order": null,
            "overflow": null,
            "overflow_x": null,
            "overflow_y": null,
            "padding": null,
            "right": null,
            "top": null,
            "visibility": null,
            "width": null
          }
        },
        "0b904d186b724a2e9cfa71a61351ae1e": {
          "model_module": "@jupyter-widgets/controls",
          "model_module_version": "1.5.0",
          "model_name": "HTMLModel",
          "state": {
            "_dom_classes": [],
            "_model_module": "@jupyter-widgets/controls",
            "_model_module_version": "1.5.0",
            "_model_name": "HTMLModel",
            "_view_count": null,
            "_view_module": "@jupyter-widgets/controls",
            "_view_module_version": "1.5.0",
            "_view_name": "HTMLView",
            "description": "",
            "description_tooltip": null,
            "layout": "IPY_MODEL_e3955a50236049428918cbbf4380307d",
            "placeholder": "​",
            "style": "IPY_MODEL_b89ad4ceea834f35906fb2c2ad875f47",
            "value": "Generating test split: 100%"
          }
        },
        "0d1ad79601444daeb23aa542d3695adc": {
          "model_module": "@jupyter-widgets/controls",
          "model_module_version": "1.5.0",
          "model_name": "FloatProgressModel",
          "state": {
            "_dom_classes": [],
            "_model_module": "@jupyter-widgets/controls",
            "_model_module_version": "1.5.0",
            "_model_name": "FloatProgressModel",
            "_view_count": null,
            "_view_module": "@jupyter-widgets/controls",
            "_view_module_version": "1.5.0",
            "_view_name": "ProgressView",
            "bar_style": "success",
            "description": "",
            "description_tooltip": null,
            "layout": "IPY_MODEL_8f59c441f3544d178147ba1c6975cb52",
            "max": 456318,
            "min": 0,
            "orientation": "horizontal",
            "style": "IPY_MODEL_d32e2332d5f04b6c8a9a5330d66a981b",
            "value": 456318
          }
        },
        "0f7c4f1b1a7f4990ba161c14ebb0ec15": {
          "model_module": "@jupyter-widgets/controls",
          "model_module_version": "1.5.0",
          "model_name": "HTMLModel",
          "state": {
            "_dom_classes": [],
            "_model_module": "@jupyter-widgets/controls",
            "_model_module_version": "1.5.0",
            "_model_name": "HTMLModel",
            "_view_count": null,
            "_view_module": "@jupyter-widgets/controls",
            "_view_module_version": "1.5.0",
            "_view_name": "HTMLView",
            "description": "",
            "description_tooltip": null,
            "layout": "IPY_MODEL_e3d95afa52c44684affcbe125a4a6582",
            "placeholder": "​",
            "style": "IPY_MODEL_31e9fc5387134e68870436d02f1752c9",
            "value": " 1821/1821 [00:00&lt;00:00, 25777.08 examples/s]"
          }
        },
        "10ca367557774eadbd71bfe630d0f51e": {
          "model_module": "@jupyter-widgets/base",
          "model_module_version": "1.2.0",
          "model_name": "LayoutModel",
          "state": {
            "_model_module": "@jupyter-widgets/base",
            "_model_module_version": "1.2.0",
            "_model_name": "LayoutModel",
            "_view_count": null,
            "_view_module": "@jupyter-widgets/base",
            "_view_module_version": "1.2.0",
            "_view_name": "LayoutView",
            "align_content": null,
            "align_items": null,
            "align_self": null,
            "border": null,
            "bottom": null,
            "display": null,
            "flex": null,
            "flex_flow": null,
            "grid_area": null,
            "grid_auto_columns": null,
            "grid_auto_flow": null,
            "grid_auto_rows": null,
            "grid_column": null,
            "grid_gap": null,
            "grid_row": null,
            "grid_template_areas": null,
            "grid_template_columns": null,
            "grid_template_rows": null,
            "height": null,
            "justify_content": null,
            "justify_items": null,
            "left": null,
            "margin": null,
            "max_height": null,
            "max_width": null,
            "min_height": null,
            "min_width": null,
            "object_fit": null,
            "object_position": null,
            "order": null,
            "overflow": null,
            "overflow_x": null,
            "overflow_y": null,
            "padding": null,
            "right": null,
            "top": null,
            "visibility": null,
            "width": null
          }
        },
        "123cf77379654da5a66a897e3c2711f7": {
          "model_module": "@jupyter-widgets/controls",
          "model_module_version": "1.5.0",
          "model_name": "HTMLModel",
          "state": {
            "_dom_classes": [],
            "_model_module": "@jupyter-widgets/controls",
            "_model_module_version": "1.5.0",
            "_model_name": "HTMLModel",
            "_view_count": null,
            "_view_module": "@jupyter-widgets/controls",
            "_view_module_version": "1.5.0",
            "_view_name": "HTMLView",
            "description": "",
            "description_tooltip": null,
            "layout": "IPY_MODEL_a4be5db2d7ec45f8bb83c45489c1c4ff",
            "placeholder": "​",
            "style": "IPY_MODEL_fd8f921d370c41dabb4ba467a86d6a9d",
            "value": " 72.8k/72.8k [00:00&lt;00:00, 136kB/s]"
          }
        },
        "13825de7e69e44fdb1e1b24b34ce56b2": {
          "model_module": "@jupyter-widgets/controls",
          "model_module_version": "1.5.0",
          "model_name": "HBoxModel",
          "state": {
            "_dom_classes": [],
            "_model_module": "@jupyter-widgets/controls",
            "_model_module_version": "1.5.0",
            "_model_name": "HBoxModel",
            "_view_count": null,
            "_view_module": "@jupyter-widgets/controls",
            "_view_module_version": "1.5.0",
            "_view_name": "HBoxView",
            "box_style": "",
            "children": [
              "IPY_MODEL_3da4ebb34e9047789cd8ff758cb18d9f",
              "IPY_MODEL_c6a49a4279b542dc99daa91685c373c2",
              "IPY_MODEL_9beb03182389477cafdb73b9c93b528c"
            ],
            "layout": "IPY_MODEL_2d0ea65e259f4050b48d42e86a0a4d71"
          }
        },
        "14c1506f33354a4f93a831f5171b630f": {
          "model_module": "@jupyter-widgets/controls",
          "model_module_version": "1.5.0",
          "model_name": "HTMLModel",
          "state": {
            "_dom_classes": [],
            "_model_module": "@jupyter-widgets/controls",
            "_model_module_version": "1.5.0",
            "_model_name": "HTMLModel",
            "_view_count": null,
            "_view_module": "@jupyter-widgets/controls",
            "_view_module_version": "1.5.0",
            "_view_name": "HTMLView",
            "description": "",
            "description_tooltip": null,
            "layout": "IPY_MODEL_e3147a7bd94e455a985365fef2aa61c0",
            "placeholder": "​",
            "style": "IPY_MODEL_370ca777f4ac46f7b251eb788bd20426",
            "value": " 35.3k/35.3k [00:00&lt;00:00, 2.27MB/s]"
          }
        },
        "14f0df72d9414710883f28c7fdcc9836": {
          "model_module": "@jupyter-widgets/controls",
          "model_module_version": "1.5.0",
          "model_name": "DescriptionStyleModel",
          "state": {
            "_model_module": "@jupyter-widgets/controls",
            "_model_module_version": "1.5.0",
            "_model_name": "DescriptionStyleModel",
            "_view_count": null,
            "_view_module": "@jupyter-widgets/base",
            "_view_module_version": "1.2.0",
            "_view_name": "StyleView",
            "description_width": ""
          }
        },
        "14f1337b004c4a98960807e973621bb2": {
          "model_module": "@jupyter-widgets/controls",
          "model_module_version": "1.5.0",
          "model_name": "HBoxModel",
          "state": {
            "_dom_classes": [],
            "_model_module": "@jupyter-widgets/controls",
            "_model_module_version": "1.5.0",
            "_model_name": "HBoxModel",
            "_view_count": null,
            "_view_module": "@jupyter-widgets/controls",
            "_view_module_version": "1.5.0",
            "_view_name": "HBoxView",
            "box_style": "",
            "children": [
              "IPY_MODEL_3ee219834f2d4399a7dc08820da15fd5",
              "IPY_MODEL_65b77893a3d849c28d39e0a86cbc737a",
              "IPY_MODEL_7d3733ba09234c12b1dafc6319fb7f6c"
            ],
            "layout": "IPY_MODEL_61fdeed54cac4d9e9789fbb51ae24bb4"
          }
        },
        "15c4afb2eadd4480b32561a9b9561b66": {
          "model_module": "@jupyter-widgets/controls",
          "model_module_version": "1.5.0",
          "model_name": "DescriptionStyleModel",
          "state": {
            "_model_module": "@jupyter-widgets/controls",
            "_model_module_version": "1.5.0",
            "_model_name": "DescriptionStyleModel",
            "_view_count": null,
            "_view_module": "@jupyter-widgets/base",
            "_view_module_version": "1.2.0",
            "_view_name": "StyleView",
            "description_width": ""
          }
        },
        "15dbcf49e4ea4545944cff6149a7060b": {
          "model_module": "@jupyter-widgets/controls",
          "model_module_version": "1.5.0",
          "model_name": "HTMLModel",
          "state": {
            "_dom_classes": [],
            "_model_module": "@jupyter-widgets/controls",
            "_model_module_version": "1.5.0",
            "_model_name": "HTMLModel",
            "_view_count": null,
            "_view_module": "@jupyter-widgets/controls",
            "_view_module_version": "1.5.0",
            "_view_name": "HTMLView",
            "description": "",
            "description_tooltip": null,
            "layout": "IPY_MODEL_0701b5fa25c2456fb430a797b2367a58",
            "placeholder": "​",
            "style": "IPY_MODEL_53279e2e935b490c90cf2ee63891b9de",
            "value": "Downloading data: 100%"
          }
        },
        "161ae2d5ba4446a1b9c14519c61e5d0d": {
          "model_module": "@jupyter-widgets/base",
          "model_module_version": "1.2.0",
          "model_name": "LayoutModel",
          "state": {
            "_model_module": "@jupyter-widgets/base",
            "_model_module_version": "1.2.0",
            "_model_name": "LayoutModel",
            "_view_count": null,
            "_view_module": "@jupyter-widgets/base",
            "_view_module_version": "1.2.0",
            "_view_name": "LayoutView",
            "align_content": null,
            "align_items": null,
            "align_self": null,
            "border": null,
            "bottom": null,
            "display": null,
            "flex": null,
            "flex_flow": null,
            "grid_area": null,
            "grid_auto_columns": null,
            "grid_auto_flow": null,
            "grid_auto_rows": null,
            "grid_column": null,
            "grid_gap": null,
            "grid_row": null,
            "grid_template_areas": null,
            "grid_template_columns": null,
            "grid_template_rows": null,
            "height": null,
            "justify_content": null,
            "justify_items": null,
            "left": null,
            "margin": null,
            "max_height": null,
            "max_width": null,
            "min_height": null,
            "min_width": null,
            "object_fit": null,
            "object_position": null,
            "order": null,
            "overflow": null,
            "overflow_x": null,
            "overflow_y": null,
            "padding": null,
            "right": null,
            "top": null,
            "visibility": null,
            "width": null
          }
        },
        "16c05d05e4cf4a7c8f36c1eac453ef38": {
          "model_module": "@jupyter-widgets/controls",
          "model_module_version": "1.5.0",
          "model_name": "LabelModel",
          "state": {
            "_dom_classes": [],
            "_model_module": "@jupyter-widgets/controls",
            "_model_module_version": "1.5.0",
            "_model_name": "LabelModel",
            "_view_count": null,
            "_view_module": "@jupyter-widgets/controls",
            "_view_module_version": "1.5.0",
            "_view_name": "LabelView",
            "description": "",
            "description_tooltip": null,
            "layout": "IPY_MODEL_c314ba991d254babbef8b47c7cbccd29",
            "placeholder": "​",
            "style": "IPY_MODEL_d457cb617d114a1ea1ac3cd43752d5cd",
            "value": "Token is valid (permission: write)."
          }
        },
        "171c561e05c3426d955e115bc3f43329": {
          "model_module": "@jupyter-widgets/controls",
          "model_module_version": "1.5.0",
          "model_name": "ProgressStyleModel",
          "state": {
            "_model_module": "@jupyter-widgets/controls",
            "_model_module_version": "1.5.0",
            "_model_name": "ProgressStyleModel",
            "_view_count": null,
            "_view_module": "@jupyter-widgets/base",
            "_view_module_version": "1.2.0",
            "_view_name": "StyleView",
            "bar_color": null,
            "description_width": ""
          }
        },
        "175aac9a69f7403f96c381e5bff7d27f": {
          "model_module": "@jupyter-widgets/base",
          "model_module_version": "1.2.0",
          "model_name": "LayoutModel",
          "state": {
            "_model_module": "@jupyter-widgets/base",
            "_model_module_version": "1.2.0",
            "_model_name": "LayoutModel",
            "_view_count": null,
            "_view_module": "@jupyter-widgets/base",
            "_view_module_version": "1.2.0",
            "_view_name": "LayoutView",
            "align_content": null,
            "align_items": null,
            "align_self": null,
            "border": null,
            "bottom": null,
            "display": null,
            "flex": null,
            "flex_flow": null,
            "grid_area": null,
            "grid_auto_columns": null,
            "grid_auto_flow": null,
            "grid_auto_rows": null,
            "grid_column": null,
            "grid_gap": null,
            "grid_row": null,
            "grid_template_areas": null,
            "grid_template_columns": null,
            "grid_template_rows": null,
            "height": null,
            "justify_content": null,
            "justify_items": null,
            "left": null,
            "margin": null,
            "max_height": null,
            "max_width": null,
            "min_height": null,
            "min_width": null,
            "object_fit": null,
            "object_position": null,
            "order": null,
            "overflow": null,
            "overflow_x": null,
            "overflow_y": null,
            "padding": null,
            "right": null,
            "top": null,
            "visibility": null,
            "width": null
          }
        },
        "17afd06a7f3c4639954aa1c233f91a7e": {
          "model_module": "@jupyter-widgets/controls",
          "model_module_version": "1.5.0",
          "model_name": "FloatProgressModel",
          "state": {
            "_dom_classes": [],
            "_model_module": "@jupyter-widgets/controls",
            "_model_module_version": "1.5.0",
            "_model_name": "FloatProgressModel",
            "_view_count": null,
            "_view_module": "@jupyter-widgets/controls",
            "_view_module_version": "1.5.0",
            "_view_name": "ProgressView",
            "bar_style": "success",
            "description": "",
            "description_tooltip": null,
            "layout": "IPY_MODEL_c9bc152d321a48a1aee4aa85faadcd31",
            "max": 72819,
            "min": 0,
            "orientation": "horizontal",
            "style": "IPY_MODEL_82ab9beda4704abeb035e3b93f8e387d",
            "value": 72819
          }
        },
        "18d5928f9cd7461987884d0cb15f2948": {
          "model_module": "@jupyter-widgets/base",
          "model_module_version": "1.2.0",
          "model_name": "LayoutModel",
          "state": {
            "_model_module": "@jupyter-widgets/base",
            "_model_module_version": "1.2.0",
            "_model_name": "LayoutModel",
            "_view_count": null,
            "_view_module": "@jupyter-widgets/base",
            "_view_module_version": "1.2.0",
            "_view_name": "LayoutView",
            "align_content": null,
            "align_items": null,
            "align_self": null,
            "border": null,
            "bottom": null,
            "display": null,
            "flex": null,
            "flex_flow": null,
            "grid_area": null,
            "grid_auto_columns": null,
            "grid_auto_flow": null,
            "grid_auto_rows": null,
            "grid_column": null,
            "grid_gap": null,
            "grid_row": null,
            "grid_template_areas": null,
            "grid_template_columns": null,
            "grid_template_rows": null,
            "height": null,
            "justify_content": null,
            "justify_items": null,
            "left": null,
            "margin": null,
            "max_height": null,
            "max_width": null,
            "min_height": null,
            "min_width": null,
            "object_fit": null,
            "object_position": null,
            "order": null,
            "overflow": null,
            "overflow_x": null,
            "overflow_y": null,
            "padding": null,
            "right": null,
            "top": null,
            "visibility": null,
            "width": null
          }
        },
        "197472b385914ce2b8a513b0e7aac24c": {
          "model_module": "@jupyter-widgets/controls",
          "model_module_version": "1.5.0",
          "model_name": "DescriptionStyleModel",
          "state": {
            "_model_module": "@jupyter-widgets/controls",
            "_model_module_version": "1.5.0",
            "_model_name": "DescriptionStyleModel",
            "_view_count": null,
            "_view_module": "@jupyter-widgets/base",
            "_view_module_version": "1.2.0",
            "_view_name": "StyleView",
            "description_width": ""
          }
        },
        "1dd2bf8b1ccb4203afce2e2ecda58ec7": {
          "model_module": "@jupyter-widgets/base",
          "model_module_version": "1.2.0",
          "model_name": "LayoutModel",
          "state": {
            "_model_module": "@jupyter-widgets/base",
            "_model_module_version": "1.2.0",
            "_model_name": "LayoutModel",
            "_view_count": null,
            "_view_module": "@jupyter-widgets/base",
            "_view_module_version": "1.2.0",
            "_view_name": "LayoutView",
            "align_content": null,
            "align_items": null,
            "align_self": null,
            "border": null,
            "bottom": null,
            "display": null,
            "flex": null,
            "flex_flow": null,
            "grid_area": null,
            "grid_auto_columns": null,
            "grid_auto_flow": null,
            "grid_auto_rows": null,
            "grid_column": null,
            "grid_gap": null,
            "grid_row": null,
            "grid_template_areas": null,
            "grid_template_columns": null,
            "grid_template_rows": null,
            "height": null,
            "justify_content": null,
            "justify_items": null,
            "left": null,
            "margin": null,
            "max_height": null,
            "max_width": null,
            "min_height": null,
            "min_width": null,
            "object_fit": null,
            "object_position": null,
            "order": null,
            "overflow": null,
            "overflow_x": null,
            "overflow_y": null,
            "padding": null,
            "right": null,
            "top": null,
            "visibility": null,
            "width": null
          }
        },
        "1ec6205ef95d4c24941c21f046097747": {
          "model_module": "@jupyter-widgets/base",
          "model_module_version": "1.2.0",
          "model_name": "LayoutModel",
          "state": {
            "_model_module": "@jupyter-widgets/base",
            "_model_module_version": "1.2.0",
            "_model_name": "LayoutModel",
            "_view_count": null,
            "_view_module": "@jupyter-widgets/base",
            "_view_module_version": "1.2.0",
            "_view_name": "LayoutView",
            "align_content": null,
            "align_items": null,
            "align_self": null,
            "border": null,
            "bottom": null,
            "display": null,
            "flex": null,
            "flex_flow": null,
            "grid_area": null,
            "grid_auto_columns": null,
            "grid_auto_flow": null,
            "grid_auto_rows": null,
            "grid_column": null,
            "grid_gap": null,
            "grid_row": null,
            "grid_template_areas": null,
            "grid_template_columns": null,
            "grid_template_rows": null,
            "height": null,
            "justify_content": null,
            "justify_items": null,
            "left": null,
            "margin": null,
            "max_height": null,
            "max_width": null,
            "min_height": null,
            "min_width": null,
            "object_fit": null,
            "object_position": null,
            "order": null,
            "overflow": null,
            "overflow_x": null,
            "overflow_y": null,
            "padding": null,
            "right": null,
            "top": null,
            "visibility": null,
            "width": null
          }
        },
        "208e0dadf4724d76a29f71220e7c2432": {
          "model_module": "@jupyter-widgets/base",
          "model_module_version": "1.2.0",
          "model_name": "LayoutModel",
          "state": {
            "_model_module": "@jupyter-widgets/base",
            "_model_module_version": "1.2.0",
            "_model_name": "LayoutModel",
            "_view_count": null,
            "_view_module": "@jupyter-widgets/base",
            "_view_module_version": "1.2.0",
            "_view_name": "LayoutView",
            "align_content": null,
            "align_items": null,
            "align_self": null,
            "border": null,
            "bottom": null,
            "display": null,
            "flex": null,
            "flex_flow": null,
            "grid_area": null,
            "grid_auto_columns": null,
            "grid_auto_flow": null,
            "grid_auto_rows": null,
            "grid_column": null,
            "grid_gap": null,
            "grid_row": null,
            "grid_template_areas": null,
            "grid_template_columns": null,
            "grid_template_rows": null,
            "height": null,
            "justify_content": null,
            "justify_items": null,
            "left": null,
            "margin": null,
            "max_height": null,
            "max_width": null,
            "min_height": null,
            "min_width": null,
            "object_fit": null,
            "object_position": null,
            "order": null,
            "overflow": null,
            "overflow_x": null,
            "overflow_y": null,
            "padding": null,
            "right": null,
            "top": null,
            "visibility": null,
            "width": null
          }
        },
        "2138576532f2423bb2f91157f0ed1657": {
          "model_module": "@jupyter-widgets/controls",
          "model_module_version": "1.5.0",
          "model_name": "HTMLModel",
          "state": {
            "_dom_classes": [],
            "_model_module": "@jupyter-widgets/controls",
            "_model_module_version": "1.5.0",
            "_model_name": "HTMLModel",
            "_view_count": null,
            "_view_module": "@jupyter-widgets/controls",
            "_view_module_version": "1.5.0",
            "_view_name": "HTMLView",
            "description": "",
            "description_tooltip": null,
            "layout": "IPY_MODEL_640d337288144eef9dfaa1f08c6e3937",
            "placeholder": "​",
            "style": "IPY_MODEL_58dd512d05dd4a3fb012332943bcdfad",
            "value": "merges.txt: 100%"
          }
        },
        "22d598fe6667421f922c61dc2591d30d": {
          "model_module": "@jupyter-widgets/base",
          "model_module_version": "1.2.0",
          "model_name": "LayoutModel",
          "state": {
            "_model_module": "@jupyter-widgets/base",
            "_model_module_version": "1.2.0",
            "_model_name": "LayoutModel",
            "_view_count": null,
            "_view_module": "@jupyter-widgets/base",
            "_view_module_version": "1.2.0",
            "_view_name": "LayoutView",
            "align_content": null,
            "align_items": null,
            "align_self": null,
            "border": null,
            "bottom": null,
            "display": null,
            "flex": null,
            "flex_flow": null,
            "grid_area": null,
            "grid_auto_columns": null,
            "grid_auto_flow": null,
            "grid_auto_rows": null,
            "grid_column": null,
            "grid_gap": null,
            "grid_row": null,
            "grid_template_areas": null,
            "grid_template_columns": null,
            "grid_template_rows": null,
            "height": null,
            "justify_content": null,
            "justify_items": null,
            "left": null,
            "margin": null,
            "max_height": null,
            "max_width": null,
            "min_height": null,
            "min_width": null,
            "object_fit": null,
            "object_position": null,
            "order": null,
            "overflow": null,
            "overflow_x": null,
            "overflow_y": null,
            "padding": null,
            "right": null,
            "top": null,
            "visibility": null,
            "width": null
          }
        },
        "249c9787032c4f329ddedc3697c49e8c": {
          "model_module": "@jupyter-widgets/base",
          "model_module_version": "1.2.0",
          "model_name": "LayoutModel",
          "state": {
            "_model_module": "@jupyter-widgets/base",
            "_model_module_version": "1.2.0",
            "_model_name": "LayoutModel",
            "_view_count": null,
            "_view_module": "@jupyter-widgets/base",
            "_view_module_version": "1.2.0",
            "_view_name": "LayoutView",
            "align_content": null,
            "align_items": null,
            "align_self": null,
            "border": null,
            "bottom": null,
            "display": null,
            "flex": null,
            "flex_flow": null,
            "grid_area": null,
            "grid_auto_columns": null,
            "grid_auto_flow": null,
            "grid_auto_rows": null,
            "grid_column": null,
            "grid_gap": null,
            "grid_row": null,
            "grid_template_areas": null,
            "grid_template_columns": null,
            "grid_template_rows": null,
            "height": null,
            "justify_content": null,
            "justify_items": null,
            "left": null,
            "margin": null,
            "max_height": null,
            "max_width": null,
            "min_height": null,
            "min_width": null,
            "object_fit": null,
            "object_position": null,
            "order": null,
            "overflow": null,
            "overflow_x": null,
            "overflow_y": null,
            "padding": null,
            "right": null,
            "top": null,
            "visibility": null,
            "width": null
          }
        },
        "255e25d714944313ba51a247f77dee2d": {
          "model_module": "@jupyter-widgets/controls",
          "model_module_version": "1.5.0",
          "model_name": "HTMLModel",
          "state": {
            "_dom_classes": [],
            "_model_module": "@jupyter-widgets/controls",
            "_model_module_version": "1.5.0",
            "_model_name": "HTMLModel",
            "_view_count": null,
            "_view_module": "@jupyter-widgets/controls",
            "_view_module_version": "1.5.0",
            "_view_name": "HTMLView",
            "description": "",
            "description_tooltip": null,
            "layout": "IPY_MODEL_89508370116540b88ededed3021190d0",
            "placeholder": "​",
            "style": "IPY_MODEL_29b5e88112ca4c9f9595b03dec2cdfec",
            "value": " 4.21k/? [00:00&lt;00:00, 290kB/s]"
          }
        },
        "284ef9fbd6f849259f88f9d0d8b2172b": {
          "model_module": "@jupyter-widgets/controls",
          "model_module_version": "1.5.0",
          "model_name": "HTMLModel",
          "state": {
            "_dom_classes": [],
            "_model_module": "@jupyter-widgets/controls",
            "_model_module_version": "1.5.0",
            "_model_name": "HTMLModel",
            "_view_count": null,
            "_view_module": "@jupyter-widgets/controls",
            "_view_module_version": "1.5.0",
            "_view_name": "HTMLView",
            "description": "",
            "description_tooltip": null,
            "layout": "IPY_MODEL_55431bd06c8b49db942fdd97b3612de8",
            "placeholder": "​",
            "style": "IPY_MODEL_4f7a4820f51f497390b881ff32752db7",
            "value": " 456k/456k [00:00&lt;00:00, 1.92MB/s]"
          }
        },
        "295d2c231f644e12932abed31df98f78": {
          "model_module": "@jupyter-widgets/base",
          "model_module_version": "1.2.0",
          "model_name": "LayoutModel",
          "state": {
            "_model_module": "@jupyter-widgets/base",
            "_model_module_version": "1.2.0",
            "_model_name": "LayoutModel",
            "_view_count": null,
            "_view_module": "@jupyter-widgets/base",
            "_view_module_version": "1.2.0",
            "_view_name": "LayoutView",
            "align_content": null,
            "align_items": null,
            "align_self": null,
            "border": null,
            "bottom": null,
            "display": null,
            "flex": null,
            "flex_flow": null,
            "grid_area": null,
            "grid_auto_columns": null,
            "grid_auto_flow": null,
            "grid_auto_rows": null,
            "grid_column": null,
            "grid_gap": null,
            "grid_row": null,
            "grid_template_areas": null,
            "grid_template_columns": null,
            "grid_template_rows": null,
            "height": null,
            "justify_content": null,
            "justify_items": null,
            "left": null,
            "margin": null,
            "max_height": null,
            "max_width": null,
            "min_height": null,
            "min_width": null,
            "object_fit": null,
            "object_position": null,
            "order": null,
            "overflow": null,
            "overflow_x": null,
            "overflow_y": null,
            "padding": null,
            "right": null,
            "top": null,
            "visibility": null,
            "width": null
          }
        },
        "2980c8d97aca482fbb6d3c6f6ead1ac1": {
          "model_module": "@jupyter-widgets/controls",
          "model_module_version": "1.5.0",
          "model_name": "DescriptionStyleModel",
          "state": {
            "_model_module": "@jupyter-widgets/controls",
            "_model_module_version": "1.5.0",
            "_model_name": "DescriptionStyleModel",
            "_view_count": null,
            "_view_module": "@jupyter-widgets/base",
            "_view_module_version": "1.2.0",
            "_view_name": "StyleView",
            "description_width": ""
          }
        },
        "29b5e88112ca4c9f9595b03dec2cdfec": {
          "model_module": "@jupyter-widgets/controls",
          "model_module_version": "1.5.0",
          "model_name": "DescriptionStyleModel",
          "state": {
            "_model_module": "@jupyter-widgets/controls",
            "_model_module_version": "1.5.0",
            "_model_name": "DescriptionStyleModel",
            "_view_count": null,
            "_view_module": "@jupyter-widgets/base",
            "_view_module_version": "1.2.0",
            "_view_name": "StyleView",
            "description_width": ""
          }
        },
        "2abc66af1122455da48a44b23666c8be": {
          "model_module": "@jupyter-widgets/controls",
          "model_module_version": "1.5.0",
          "model_name": "ProgressStyleModel",
          "state": {
            "_model_module": "@jupyter-widgets/controls",
            "_model_module_version": "1.5.0",
            "_model_name": "ProgressStyleModel",
            "_view_count": null,
            "_view_module": "@jupyter-widgets/base",
            "_view_module_version": "1.2.0",
            "_view_name": "StyleView",
            "bar_color": null,
            "description_width": ""
          }
        },
        "2d0ea65e259f4050b48d42e86a0a4d71": {
          "model_module": "@jupyter-widgets/base",
          "model_module_version": "1.2.0",
          "model_name": "LayoutModel",
          "state": {
            "_model_module": "@jupyter-widgets/base",
            "_model_module_version": "1.2.0",
            "_model_name": "LayoutModel",
            "_view_count": null,
            "_view_module": "@jupyter-widgets/base",
            "_view_module_version": "1.2.0",
            "_view_name": "LayoutView",
            "align_content": null,
            "align_items": null,
            "align_self": null,
            "border": null,
            "bottom": null,
            "display": null,
            "flex": null,
            "flex_flow": null,
            "grid_area": null,
            "grid_auto_columns": null,
            "grid_auto_flow": null,
            "grid_auto_rows": null,
            "grid_column": null,
            "grid_gap": null,
            "grid_row": null,
            "grid_template_areas": null,
            "grid_template_columns": null,
            "grid_template_rows": null,
            "height": null,
            "justify_content": null,
            "justify_items": null,
            "left": null,
            "margin": null,
            "max_height": null,
            "max_width": null,
            "min_height": null,
            "min_width": null,
            "object_fit": null,
            "object_position": null,
            "order": null,
            "overflow": null,
            "overflow_x": null,
            "overflow_y": null,
            "padding": null,
            "right": null,
            "top": null,
            "visibility": null,
            "width": null
          }
        },
        "3037614818da4e3d9fc034883db0b56f": {
          "model_module": "@jupyter-widgets/base",
          "model_module_version": "1.2.0",
          "model_name": "LayoutModel",
          "state": {
            "_model_module": "@jupyter-widgets/base",
            "_model_module_version": "1.2.0",
            "_model_name": "LayoutModel",
            "_view_count": null,
            "_view_module": "@jupyter-widgets/base",
            "_view_module_version": "1.2.0",
            "_view_name": "LayoutView",
            "align_content": null,
            "align_items": null,
            "align_self": null,
            "border": null,
            "bottom": null,
            "display": null,
            "flex": null,
            "flex_flow": null,
            "grid_area": null,
            "grid_auto_columns": null,
            "grid_auto_flow": null,
            "grid_auto_rows": null,
            "grid_column": null,
            "grid_gap": null,
            "grid_row": null,
            "grid_template_areas": null,
            "grid_template_columns": null,
            "grid_template_rows": null,
            "height": null,
            "justify_content": null,
            "justify_items": null,
            "left": null,
            "margin": null,
            "max_height": null,
            "max_width": null,
            "min_height": null,
            "min_width": null,
            "object_fit": null,
            "object_position": null,
            "order": null,
            "overflow": null,
            "overflow_x": null,
            "overflow_y": null,
            "padding": null,
            "right": null,
            "top": null,
            "visibility": null,
            "width": null
          }
        },
        "30c7ec995a46478397ed052742aa2d80": {
          "model_module": "@jupyter-widgets/controls",
          "model_module_version": "1.5.0",
          "model_name": "DescriptionStyleModel",
          "state": {
            "_model_module": "@jupyter-widgets/controls",
            "_model_module_version": "1.5.0",
            "_model_name": "DescriptionStyleModel",
            "_view_count": null,
            "_view_module": "@jupyter-widgets/base",
            "_view_module_version": "1.2.0",
            "_view_name": "StyleView",
            "description_width": ""
          }
        },
        "3164702194ac43f4aca01ae3177bfcc3": {
          "model_module": "@jupyter-widgets/controls",
          "model_module_version": "1.5.0",
          "model_name": "HBoxModel",
          "state": {
            "_dom_classes": [],
            "_model_module": "@jupyter-widgets/controls",
            "_model_module_version": "1.5.0",
            "_model_name": "HBoxModel",
            "_view_count": null,
            "_view_module": "@jupyter-widgets/controls",
            "_view_module_version": "1.5.0",
            "_view_name": "HBoxView",
            "box_style": "",
            "children": [
              "IPY_MODEL_43845b852dcc4d2c87e3cfc44f3ebd8c",
              "IPY_MODEL_8e7565b8b10f43b9a1b3aff7381b7e0c",
              "IPY_MODEL_0b2febb114af4f2b834a1c88b9eb81a8"
            ],
            "layout": "IPY_MODEL_701bb93a1e0d4f479cf33024f2291fa9"
          }
        },
        "31e9fc5387134e68870436d02f1752c9": {
          "model_module": "@jupyter-widgets/controls",
          "model_module_version": "1.5.0",
          "model_name": "DescriptionStyleModel",
          "state": {
            "_model_module": "@jupyter-widgets/controls",
            "_model_module_version": "1.5.0",
            "_model_name": "DescriptionStyleModel",
            "_view_count": null,
            "_view_module": "@jupyter-widgets/base",
            "_view_module_version": "1.2.0",
            "_view_name": "StyleView",
            "description_width": ""
          }
        },
        "32d6fde335de43acb28c79ff77671b9c": {
          "model_module": "@jupyter-widgets/base",
          "model_module_version": "1.2.0",
          "model_name": "LayoutModel",
          "state": {
            "_model_module": "@jupyter-widgets/base",
            "_model_module_version": "1.2.0",
            "_model_name": "LayoutModel",
            "_view_count": null,
            "_view_module": "@jupyter-widgets/base",
            "_view_module_version": "1.2.0",
            "_view_name": "LayoutView",
            "align_content": null,
            "align_items": null,
            "align_self": null,
            "border": null,
            "bottom": null,
            "display": null,
            "flex": null,
            "flex_flow": null,
            "grid_area": null,
            "grid_auto_columns": null,
            "grid_auto_flow": null,
            "grid_auto_rows": null,
            "grid_column": null,
            "grid_gap": null,
            "grid_row": null,
            "grid_template_areas": null,
            "grid_template_columns": null,
            "grid_template_rows": null,
            "height": null,
            "justify_content": null,
            "justify_items": null,
            "left": null,
            "margin": null,
            "max_height": null,
            "max_width": null,
            "min_height": null,
            "min_width": null,
            "object_fit": null,
            "object_position": null,
            "order": null,
            "overflow": null,
            "overflow_x": null,
            "overflow_y": null,
            "padding": null,
            "right": null,
            "top": null,
            "visibility": null,
            "width": null
          }
        },
        "3413da231f9e4dc48f2d2b1626c37c61": {
          "model_module": "@jupyter-widgets/base",
          "model_module_version": "1.2.0",
          "model_name": "LayoutModel",
          "state": {
            "_model_module": "@jupyter-widgets/base",
            "_model_module_version": "1.2.0",
            "_model_name": "LayoutModel",
            "_view_count": null,
            "_view_module": "@jupyter-widgets/base",
            "_view_module_version": "1.2.0",
            "_view_name": "LayoutView",
            "align_content": null,
            "align_items": null,
            "align_self": null,
            "border": null,
            "bottom": null,
            "display": null,
            "flex": null,
            "flex_flow": null,
            "grid_area": null,
            "grid_auto_columns": null,
            "grid_auto_flow": null,
            "grid_auto_rows": null,
            "grid_column": null,
            "grid_gap": null,
            "grid_row": null,
            "grid_template_areas": null,
            "grid_template_columns": null,
            "grid_template_rows": null,
            "height": null,
            "justify_content": null,
            "justify_items": null,
            "left": null,
            "margin": null,
            "max_height": null,
            "max_width": null,
            "min_height": null,
            "min_width": null,
            "object_fit": null,
            "object_position": null,
            "order": null,
            "overflow": null,
            "overflow_x": null,
            "overflow_y": null,
            "padding": null,
            "right": null,
            "top": null,
            "visibility": null,
            "width": null
          }
        },
        "34d0737c380a4a2a9e51663299a1b16b": {
          "model_module": "@jupyter-widgets/controls",
          "model_module_version": "1.5.0",
          "model_name": "DescriptionStyleModel",
          "state": {
            "_model_module": "@jupyter-widgets/controls",
            "_model_module_version": "1.5.0",
            "_model_name": "DescriptionStyleModel",
            "_view_count": null,
            "_view_module": "@jupyter-widgets/base",
            "_view_module_version": "1.2.0",
            "_view_name": "StyleView",
            "description_width": ""
          }
        },
        "3556cc25aa1145d1a7475c508e593385": {
          "model_module": "@jupyter-widgets/controls",
          "model_module_version": "1.5.0",
          "model_name": "HBoxModel",
          "state": {
            "_dom_classes": [],
            "_model_module": "@jupyter-widgets/controls",
            "_model_module_version": "1.5.0",
            "_model_name": "HBoxModel",
            "_view_count": null,
            "_view_module": "@jupyter-widgets/controls",
            "_view_module_version": "1.5.0",
            "_view_name": "HBoxView",
            "box_style": "",
            "children": [
              "IPY_MODEL_61c238367cbe4436b99904db918995c5",
              "IPY_MODEL_0b89c7d1c7474e15a08e4992470f705f",
              "IPY_MODEL_ec981c3e767f4160a6e3df3dcd61b326"
            ],
            "layout": "IPY_MODEL_b6c399a18b3c4c1e8715456820875fae"
          }
        },
        "35cfb2bdec0c4490ac4c6d7f11c83d74": {
          "model_module": "@jupyter-widgets/base",
          "model_module_version": "1.2.0",
          "model_name": "LayoutModel",
          "state": {
            "_model_module": "@jupyter-widgets/base",
            "_model_module_version": "1.2.0",
            "_model_name": "LayoutModel",
            "_view_count": null,
            "_view_module": "@jupyter-widgets/base",
            "_view_module_version": "1.2.0",
            "_view_name": "LayoutView",
            "align_content": null,
            "align_items": null,
            "align_self": null,
            "border": null,
            "bottom": null,
            "display": null,
            "flex": null,
            "flex_flow": null,
            "grid_area": null,
            "grid_auto_columns": null,
            "grid_auto_flow": null,
            "grid_auto_rows": null,
            "grid_column": null,
            "grid_gap": null,
            "grid_row": null,
            "grid_template_areas": null,
            "grid_template_columns": null,
            "grid_template_rows": null,
            "height": null,
            "justify_content": null,
            "justify_items": null,
            "left": null,
            "margin": null,
            "max_height": null,
            "max_width": null,
            "min_height": null,
            "min_width": null,
            "object_fit": null,
            "object_position": null,
            "order": null,
            "overflow": null,
            "overflow_x": null,
            "overflow_y": null,
            "padding": null,
            "right": null,
            "top": null,
            "visibility": null,
            "width": null
          }
        },
        "370ca777f4ac46f7b251eb788bd20426": {
          "model_module": "@jupyter-widgets/controls",
          "model_module_version": "1.5.0",
          "model_name": "DescriptionStyleModel",
          "state": {
            "_model_module": "@jupyter-widgets/controls",
            "_model_module_version": "1.5.0",
            "_model_name": "DescriptionStyleModel",
            "_view_count": null,
            "_view_module": "@jupyter-widgets/base",
            "_view_module_version": "1.2.0",
            "_view_name": "StyleView",
            "description_width": ""
          }
        },
        "3abfeff5ce604b0d9cea0915054477d7": {
          "model_module": "@jupyter-widgets/controls",
          "model_module_version": "1.5.0",
          "model_name": "ProgressStyleModel",
          "state": {
            "_model_module": "@jupyter-widgets/controls",
            "_model_module_version": "1.5.0",
            "_model_name": "ProgressStyleModel",
            "_view_count": null,
            "_view_module": "@jupyter-widgets/base",
            "_view_module_version": "1.2.0",
            "_view_name": "StyleView",
            "bar_color": null,
            "description_width": ""
          }
        },
        "3afe710b428146a28634240d1d2718b7": {
          "model_module": "@jupyter-widgets/controls",
          "model_module_version": "1.5.0",
          "model_name": "DescriptionStyleModel",
          "state": {
            "_model_module": "@jupyter-widgets/controls",
            "_model_module_version": "1.5.0",
            "_model_name": "DescriptionStyleModel",
            "_view_count": null,
            "_view_module": "@jupyter-widgets/base",
            "_view_module_version": "1.2.0",
            "_view_name": "StyleView",
            "description_width": ""
          }
        },
        "3c7aa1da33c44004a4a02f82447f70a7": {
          "model_module": "@jupyter-widgets/base",
          "model_module_version": "1.2.0",
          "model_name": "LayoutModel",
          "state": {
            "_model_module": "@jupyter-widgets/base",
            "_model_module_version": "1.2.0",
            "_model_name": "LayoutModel",
            "_view_count": null,
            "_view_module": "@jupyter-widgets/base",
            "_view_module_version": "1.2.0",
            "_view_name": "LayoutView",
            "align_content": null,
            "align_items": null,
            "align_self": null,
            "border": null,
            "bottom": null,
            "display": null,
            "flex": null,
            "flex_flow": null,
            "grid_area": null,
            "grid_auto_columns": null,
            "grid_auto_flow": null,
            "grid_auto_rows": null,
            "grid_column": null,
            "grid_gap": null,
            "grid_row": null,
            "grid_template_areas": null,
            "grid_template_columns": null,
            "grid_template_rows": null,
            "height": null,
            "justify_content": null,
            "justify_items": null,
            "left": null,
            "margin": null,
            "max_height": null,
            "max_width": null,
            "min_height": null,
            "min_width": null,
            "object_fit": null,
            "object_position": null,
            "order": null,
            "overflow": null,
            "overflow_x": null,
            "overflow_y": null,
            "padding": null,
            "right": null,
            "top": null,
            "visibility": null,
            "width": null
          }
        },
        "3d138cd844f24e839b02abe673cd666b": {
          "model_module": "@jupyter-widgets/controls",
          "model_module_version": "1.5.0",
          "model_name": "ProgressStyleModel",
          "state": {
            "_model_module": "@jupyter-widgets/controls",
            "_model_module_version": "1.5.0",
            "_model_name": "ProgressStyleModel",
            "_view_count": null,
            "_view_module": "@jupyter-widgets/base",
            "_view_module_version": "1.2.0",
            "_view_name": "StyleView",
            "bar_color": null,
            "description_width": ""
          }
        },
        "3da4ebb34e9047789cd8ff758cb18d9f": {
          "model_module": "@jupyter-widgets/controls",
          "model_module_version": "1.5.0",
          "model_name": "HTMLModel",
          "state": {
            "_dom_classes": [],
            "_model_module": "@jupyter-widgets/controls",
            "_model_module_version": "1.5.0",
            "_model_name": "HTMLModel",
            "_view_count": null,
            "_view_module": "@jupyter-widgets/controls",
            "_view_module_version": "1.5.0",
            "_view_name": "HTMLView",
            "description": "",
            "description_tooltip": null,
            "layout": "IPY_MODEL_66e7a28553c44fc49984134bf2a2b7d2",
            "placeholder": "​",
            "style": "IPY_MODEL_4ff040c7fb764b1cbe724b377f61ecfe",
            "value": "Downloading data: 100%"
          }
        },
        "3df228c2404d4053939f0690f2ede90d": {
          "model_module": "@jupyter-widgets/base",
          "model_module_version": "1.2.0",
          "model_name": "LayoutModel",
          "state": {
            "_model_module": "@jupyter-widgets/base",
            "_model_module_version": "1.2.0",
            "_model_name": "LayoutModel",
            "_view_count": null,
            "_view_module": "@jupyter-widgets/base",
            "_view_module_version": "1.2.0",
            "_view_name": "LayoutView",
            "align_content": null,
            "align_items": null,
            "align_self": null,
            "border": null,
            "bottom": null,
            "display": null,
            "flex": null,
            "flex_flow": null,
            "grid_area": null,
            "grid_auto_columns": null,
            "grid_auto_flow": null,
            "grid_auto_rows": null,
            "grid_column": null,
            "grid_gap": null,
            "grid_row": null,
            "grid_template_areas": null,
            "grid_template_columns": null,
            "grid_template_rows": null,
            "height": null,
            "justify_content": null,
            "justify_items": null,
            "left": null,
            "margin": null,
            "max_height": null,
            "max_width": null,
            "min_height": null,
            "min_width": null,
            "object_fit": null,
            "object_position": null,
            "order": null,
            "overflow": null,
            "overflow_x": null,
            "overflow_y": null,
            "padding": null,
            "right": null,
            "top": null,
            "visibility": null,
            "width": null
          }
        },
        "3e219b20c5c8464e8861cd1e6d0becb2": {
          "model_module": "@jupyter-widgets/controls",
          "model_module_version": "1.5.0",
          "model_name": "DescriptionStyleModel",
          "state": {
            "_model_module": "@jupyter-widgets/controls",
            "_model_module_version": "1.5.0",
            "_model_name": "DescriptionStyleModel",
            "_view_count": null,
            "_view_module": "@jupyter-widgets/base",
            "_view_module_version": "1.2.0",
            "_view_name": "StyleView",
            "description_width": ""
          }
        },
        "3ee219834f2d4399a7dc08820da15fd5": {
          "model_module": "@jupyter-widgets/controls",
          "model_module_version": "1.5.0",
          "model_name": "HTMLModel",
          "state": {
            "_dom_classes": [],
            "_model_module": "@jupyter-widgets/controls",
            "_model_module_version": "1.5.0",
            "_model_name": "HTMLModel",
            "_view_count": null,
            "_view_module": "@jupyter-widgets/controls",
            "_view_module_version": "1.5.0",
            "_view_name": "HTMLView",
            "description": "",
            "description_tooltip": null,
            "layout": "IPY_MODEL_40fc38bedd6f48b185845636948e33e1",
            "placeholder": "​",
            "style": "IPY_MODEL_8493e7c94f304137b91bd306126322a9",
            "value": "Generating train split: 100%"
          }
        },
        "3f0b43e1e09443b29f89391dacbeefd8": {
          "model_module": "@jupyter-widgets/controls",
          "model_module_version": "1.5.0",
          "model_name": "ProgressStyleModel",
          "state": {
            "_model_module": "@jupyter-widgets/controls",
            "_model_module_version": "1.5.0",
            "_model_name": "ProgressStyleModel",
            "_view_count": null,
            "_view_module": "@jupyter-widgets/base",
            "_view_module_version": "1.2.0",
            "_view_name": "StyleView",
            "bar_color": null,
            "description_width": ""
          }
        },
        "40a043df48a1449ea04027cb60ccee0a": {
          "model_module": "@jupyter-widgets/base",
          "model_module_version": "1.2.0",
          "model_name": "LayoutModel",
          "state": {
            "_model_module": "@jupyter-widgets/base",
            "_model_module_version": "1.2.0",
            "_model_name": "LayoutModel",
            "_view_count": null,
            "_view_module": "@jupyter-widgets/base",
            "_view_module_version": "1.2.0",
            "_view_name": "LayoutView",
            "align_content": null,
            "align_items": null,
            "align_self": null,
            "border": null,
            "bottom": null,
            "display": null,
            "flex": null,
            "flex_flow": null,
            "grid_area": null,
            "grid_auto_columns": null,
            "grid_auto_flow": null,
            "grid_auto_rows": null,
            "grid_column": null,
            "grid_gap": null,
            "grid_row": null,
            "grid_template_areas": null,
            "grid_template_columns": null,
            "grid_template_rows": null,
            "height": null,
            "justify_content": null,
            "justify_items": null,
            "left": null,
            "margin": null,
            "max_height": null,
            "max_width": null,
            "min_height": null,
            "min_width": null,
            "object_fit": null,
            "object_position": null,
            "order": null,
            "overflow": null,
            "overflow_x": null,
            "overflow_y": null,
            "padding": null,
            "right": null,
            "top": null,
            "visibility": null,
            "width": null
          }
        },
        "40fc38bedd6f48b185845636948e33e1": {
          "model_module": "@jupyter-widgets/base",
          "model_module_version": "1.2.0",
          "model_name": "LayoutModel",
          "state": {
            "_model_module": "@jupyter-widgets/base",
            "_model_module_version": "1.2.0",
            "_model_name": "LayoutModel",
            "_view_count": null,
            "_view_module": "@jupyter-widgets/base",
            "_view_module_version": "1.2.0",
            "_view_name": "LayoutView",
            "align_content": null,
            "align_items": null,
            "align_self": null,
            "border": null,
            "bottom": null,
            "display": null,
            "flex": null,
            "flex_flow": null,
            "grid_area": null,
            "grid_auto_columns": null,
            "grid_auto_flow": null,
            "grid_auto_rows": null,
            "grid_column": null,
            "grid_gap": null,
            "grid_row": null,
            "grid_template_areas": null,
            "grid_template_columns": null,
            "grid_template_rows": null,
            "height": null,
            "justify_content": null,
            "justify_items": null,
            "left": null,
            "margin": null,
            "max_height": null,
            "max_width": null,
            "min_height": null,
            "min_width": null,
            "object_fit": null,
            "object_position": null,
            "order": null,
            "overflow": null,
            "overflow_x": null,
            "overflow_y": null,
            "padding": null,
            "right": null,
            "top": null,
            "visibility": null,
            "width": null
          }
        },
        "411ce105bc7140ac904b1eacf31a529d": {
          "model_module": "@jupyter-widgets/controls",
          "model_module_version": "1.5.0",
          "model_name": "HTMLModel",
          "state": {
            "_dom_classes": [],
            "_model_module": "@jupyter-widgets/controls",
            "_model_module_version": "1.5.0",
            "_model_name": "HTMLModel",
            "_view_count": null,
            "_view_module": "@jupyter-widgets/controls",
            "_view_module_version": "1.5.0",
            "_view_name": "HTMLView",
            "description": "",
            "description_tooltip": null,
            "layout": "IPY_MODEL_08d4f1458d7b45a08a6329145514d34b",
            "placeholder": "​",
            "style": "IPY_MODEL_76e3b76bd3724815bb2eff127700632f",
            "value": " 67349/67349 [00:01&lt;00:00, 49165.15 examples/s]"
          }
        },
        "433b2e9391a64f8c8cd670a3e4829691": {
          "model_module": "@jupyter-widgets/controls",
          "model_module_version": "1.5.0",
          "model_name": "DescriptionStyleModel",
          "state": {
            "_model_module": "@jupyter-widgets/controls",
            "_model_module_version": "1.5.0",
            "_model_name": "DescriptionStyleModel",
            "_view_count": null,
            "_view_module": "@jupyter-widgets/base",
            "_view_module_version": "1.2.0",
            "_view_name": "StyleView",
            "description_width": ""
          }
        },
        "43845b852dcc4d2c87e3cfc44f3ebd8c": {
          "model_module": "@jupyter-widgets/controls",
          "model_module_version": "1.5.0",
          "model_name": "HTMLModel",
          "state": {
            "_dom_classes": [],
            "_model_module": "@jupyter-widgets/controls",
            "_model_module_version": "1.5.0",
            "_model_name": "HTMLModel",
            "_view_count": null,
            "_view_module": "@jupyter-widgets/controls",
            "_view_module_version": "1.5.0",
            "_view_name": "HTMLView",
            "description": "",
            "description_tooltip": null,
            "layout": "IPY_MODEL_cd8eb9c10200409db5a172348ecb334b",
            "placeholder": "​",
            "style": "IPY_MODEL_a6181c3ec687493bae295e8bc2beca8e",
            "value": "special_tokens_map.json: 100%"
          }
        },
        "461593ca1e524d7c9ae1ca1f8ebbb107": {
          "model_module": "@jupyter-widgets/controls",
          "model_module_version": "1.5.0",
          "model_name": "HTMLModel",
          "state": {
            "_dom_classes": [],
            "_model_module": "@jupyter-widgets/controls",
            "_model_module_version": "1.5.0",
            "_model_name": "HTMLModel",
            "_view_count": null,
            "_view_module": "@jupyter-widgets/controls",
            "_view_module_version": "1.5.0",
            "_view_name": "HTMLView",
            "description": "",
            "description_tooltip": null,
            "layout": "IPY_MODEL_6562ce4e80f04798b7ec4492493b6fe5",
            "placeholder": "​",
            "style": "IPY_MODEL_88b028fd82c34ce5addfd19954d7088e",
            "value": " 1821/1821 [00:00&lt;00:00, 93924.27 examples/s]"
          }
        },
        "4766b3f21eb14763ae3bbf23bdb9974e": {
          "model_module": "@jupyter-widgets/controls",
          "model_module_version": "1.5.0",
          "model_name": "HTMLModel",
          "state": {
            "_dom_classes": [],
            "_model_module": "@jupyter-widgets/controls",
            "_model_module_version": "1.5.0",
            "_model_name": "HTMLModel",
            "_view_count": null,
            "_view_module": "@jupyter-widgets/controls",
            "_view_module_version": "1.5.0",
            "_view_name": "HTMLView",
            "description": "",
            "description_tooltip": null,
            "layout": "IPY_MODEL_9441cb5090294b8ea192546490aa184d",
            "placeholder": "​",
            "style": "IPY_MODEL_14f0df72d9414710883f28c7fdcc9836",
            "value": "Downloading readme: 100%"
          }
        },
        "47782a07642f41a4bd8de16bebff5a38": {
          "model_module": "@jupyter-widgets/controls",
          "model_module_version": "1.5.0",
          "model_name": "ProgressStyleModel",
          "state": {
            "_model_module": "@jupyter-widgets/controls",
            "_model_module_version": "1.5.0",
            "_model_name": "ProgressStyleModel",
            "_view_count": null,
            "_view_module": "@jupyter-widgets/base",
            "_view_module_version": "1.2.0",
            "_view_name": "StyleView",
            "bar_color": null,
            "description_width": ""
          }
        },
        "477ede82bf6d4eeeac448809add6eeb9": {
          "model_module": "@jupyter-widgets/controls",
          "model_module_version": "1.5.0",
          "model_name": "ProgressStyleModel",
          "state": {
            "_model_module": "@jupyter-widgets/controls",
            "_model_module_version": "1.5.0",
            "_model_name": "ProgressStyleModel",
            "_view_count": null,
            "_view_module": "@jupyter-widgets/base",
            "_view_module_version": "1.2.0",
            "_view_name": "StyleView",
            "bar_color": null,
            "description_width": ""
          }
        },
        "48d566d1763c403394bceac83294c7bf": {
          "model_module": "@jupyter-widgets/controls",
          "model_module_version": "1.5.0",
          "model_name": "HBoxModel",
          "state": {
            "_dom_classes": [],
            "_model_module": "@jupyter-widgets/controls",
            "_model_module_version": "1.5.0",
            "_model_name": "HBoxModel",
            "_view_count": null,
            "_view_module": "@jupyter-widgets/controls",
            "_view_module_version": "1.5.0",
            "_view_name": "HBoxView",
            "box_style": "",
            "children": [
              "IPY_MODEL_8e583457cdca4ab5a6124359f742e877",
              "IPY_MODEL_a7bcd857f6e34cc0b6383c7fa57cb7b3",
              "IPY_MODEL_886a9a9f39b243d3a4e23064e168c9b2"
            ],
            "layout": "IPY_MODEL_4aa02cb82774499c94997980fe73fe2b"
          }
        },
        "4a73adeceb18494c8619476e174b7b8b": {
          "model_module": "@jupyter-widgets/controls",
          "model_module_version": "1.5.0",
          "model_name": "DescriptionStyleModel",
          "state": {
            "_model_module": "@jupyter-widgets/controls",
            "_model_module_version": "1.5.0",
            "_model_name": "DescriptionStyleModel",
            "_view_count": null,
            "_view_module": "@jupyter-widgets/base",
            "_view_module_version": "1.2.0",
            "_view_name": "StyleView",
            "description_width": ""
          }
        },
        "4a7cf6dc44d94cf2b144534af57a2aac": {
          "model_module": "@jupyter-widgets/controls",
          "model_module_version": "1.5.0",
          "model_name": "HTMLModel",
          "state": {
            "_dom_classes": [],
            "_model_module": "@jupyter-widgets/controls",
            "_model_module_version": "1.5.0",
            "_model_name": "HTMLModel",
            "_view_count": null,
            "_view_module": "@jupyter-widgets/controls",
            "_view_module_version": "1.5.0",
            "_view_name": "HTMLView",
            "description": "",
            "description_tooltip": null,
            "layout": "IPY_MODEL_57d36a48be704a2ab38af7dbfb6c443a",
            "placeholder": "​",
            "style": "IPY_MODEL_a4c5edbe5551435db833ae533255ecac",
            "value": "Map: 100%"
          }
        },
        "4aa02cb82774499c94997980fe73fe2b": {
          "model_module": "@jupyter-widgets/base",
          "model_module_version": "1.2.0",
          "model_name": "LayoutModel",
          "state": {
            "_model_module": "@jupyter-widgets/base",
            "_model_module_version": "1.2.0",
            "_model_name": "LayoutModel",
            "_view_count": null,
            "_view_module": "@jupyter-widgets/base",
            "_view_module_version": "1.2.0",
            "_view_name": "LayoutView",
            "align_content": null,
            "align_items": null,
            "align_self": null,
            "border": null,
            "bottom": null,
            "display": null,
            "flex": null,
            "flex_flow": null,
            "grid_area": null,
            "grid_auto_columns": null,
            "grid_auto_flow": null,
            "grid_auto_rows": null,
            "grid_column": null,
            "grid_gap": null,
            "grid_row": null,
            "grid_template_areas": null,
            "grid_template_columns": null,
            "grid_template_rows": null,
            "height": null,
            "justify_content": null,
            "justify_items": null,
            "left": null,
            "margin": null,
            "max_height": null,
            "max_width": null,
            "min_height": null,
            "min_width": null,
            "object_fit": null,
            "object_position": null,
            "order": null,
            "overflow": null,
            "overflow_x": null,
            "overflow_y": null,
            "padding": null,
            "right": null,
            "top": null,
            "visibility": null,
            "width": null
          }
        },
        "4b9c09b4d7d44f4fa4a0bd9f6a40aba7": {
          "model_module": "@jupyter-widgets/base",
          "model_module_version": "1.2.0",
          "model_name": "LayoutModel",
          "state": {
            "_model_module": "@jupyter-widgets/base",
            "_model_module_version": "1.2.0",
            "_model_name": "LayoutModel",
            "_view_count": null,
            "_view_module": "@jupyter-widgets/base",
            "_view_module_version": "1.2.0",
            "_view_name": "LayoutView",
            "align_content": null,
            "align_items": null,
            "align_self": null,
            "border": null,
            "bottom": null,
            "display": null,
            "flex": null,
            "flex_flow": null,
            "grid_area": null,
            "grid_auto_columns": null,
            "grid_auto_flow": null,
            "grid_auto_rows": null,
            "grid_column": null,
            "grid_gap": null,
            "grid_row": null,
            "grid_template_areas": null,
            "grid_template_columns": null,
            "grid_template_rows": null,
            "height": null,
            "justify_content": null,
            "justify_items": null,
            "left": null,
            "margin": null,
            "max_height": null,
            "max_width": null,
            "min_height": null,
            "min_width": null,
            "object_fit": null,
            "object_position": null,
            "order": null,
            "overflow": null,
            "overflow_x": null,
            "overflow_y": null,
            "padding": null,
            "right": null,
            "top": null,
            "visibility": null,
            "width": null
          }
        },
        "4d1ca4fd686841c4a43d874575001b2f": {
          "model_module": "@jupyter-widgets/controls",
          "model_module_version": "1.5.0",
          "model_name": "FloatProgressModel",
          "state": {
            "_dom_classes": [],
            "_model_module": "@jupyter-widgets/controls",
            "_model_module_version": "1.5.0",
            "_model_name": "FloatProgressModel",
            "_view_count": null,
            "_view_module": "@jupyter-widgets/controls",
            "_view_module_version": "1.5.0",
            "_view_name": "ProgressView",
            "bar_style": "success",
            "description": "",
            "description_tooltip": null,
            "layout": "IPY_MODEL_978880cd16014b39b2f83deb305abd58",
            "max": 1652,
            "min": 0,
            "orientation": "horizontal",
            "style": "IPY_MODEL_47782a07642f41a4bd8de16bebff5a38",
            "value": 1652
          }
        },
        "4d29ce11d52645418244d97c7c0c81fd": {
          "model_module": "@jupyter-widgets/base",
          "model_module_version": "1.2.0",
          "model_name": "LayoutModel",
          "state": {
            "_model_module": "@jupyter-widgets/base",
            "_model_module_version": "1.2.0",
            "_model_name": "LayoutModel",
            "_view_count": null,
            "_view_module": "@jupyter-widgets/base",
            "_view_module_version": "1.2.0",
            "_view_name": "LayoutView",
            "align_content": null,
            "align_items": null,
            "align_self": null,
            "border": null,
            "bottom": null,
            "display": null,
            "flex": null,
            "flex_flow": null,
            "grid_area": null,
            "grid_auto_columns": null,
            "grid_auto_flow": null,
            "grid_auto_rows": null,
            "grid_column": null,
            "grid_gap": null,
            "grid_row": null,
            "grid_template_areas": null,
            "grid_template_columns": null,
            "grid_template_rows": null,
            "height": null,
            "justify_content": null,
            "justify_items": null,
            "left": null,
            "margin": null,
            "max_height": null,
            "max_width": null,
            "min_height": null,
            "min_width": null,
            "object_fit": null,
            "object_position": null,
            "order": null,
            "overflow": null,
            "overflow_x": null,
            "overflow_y": null,
            "padding": null,
            "right": null,
            "top": null,
            "visibility": null,
            "width": null
          }
        },
        "4dcf79d3709443bcbd2ad98b93053e5f": {
          "model_module": "@jupyter-widgets/controls",
          "model_module_version": "1.5.0",
          "model_name": "DescriptionStyleModel",
          "state": {
            "_model_module": "@jupyter-widgets/controls",
            "_model_module_version": "1.5.0",
            "_model_name": "DescriptionStyleModel",
            "_view_count": null,
            "_view_module": "@jupyter-widgets/base",
            "_view_module_version": "1.2.0",
            "_view_name": "StyleView",
            "description_width": ""
          }
        },
        "4f7a4820f51f497390b881ff32752db7": {
          "model_module": "@jupyter-widgets/controls",
          "model_module_version": "1.5.0",
          "model_name": "DescriptionStyleModel",
          "state": {
            "_model_module": "@jupyter-widgets/controls",
            "_model_module_version": "1.5.0",
            "_model_name": "DescriptionStyleModel",
            "_view_count": null,
            "_view_module": "@jupyter-widgets/base",
            "_view_module_version": "1.2.0",
            "_view_name": "StyleView",
            "description_width": ""
          }
        },
        "4ff040c7fb764b1cbe724b377f61ecfe": {
          "model_module": "@jupyter-widgets/controls",
          "model_module_version": "1.5.0",
          "model_name": "DescriptionStyleModel",
          "state": {
            "_model_module": "@jupyter-widgets/controls",
            "_model_module_version": "1.5.0",
            "_model_name": "DescriptionStyleModel",
            "_view_count": null,
            "_view_module": "@jupyter-widgets/base",
            "_view_module_version": "1.2.0",
            "_view_name": "StyleView",
            "description_width": ""
          }
        },
        "50e1c9a1d2e3481d8a54aa40eeac0391": {
          "model_module": "@jupyter-widgets/controls",
          "model_module_version": "1.5.0",
          "model_name": "DescriptionStyleModel",
          "state": {
            "_model_module": "@jupyter-widgets/controls",
            "_model_module_version": "1.5.0",
            "_model_name": "DescriptionStyleModel",
            "_view_count": null,
            "_view_module": "@jupyter-widgets/base",
            "_view_module_version": "1.2.0",
            "_view_name": "StyleView",
            "description_width": ""
          }
        },
        "53279e2e935b490c90cf2ee63891b9de": {
          "model_module": "@jupyter-widgets/controls",
          "model_module_version": "1.5.0",
          "model_name": "DescriptionStyleModel",
          "state": {
            "_model_module": "@jupyter-widgets/controls",
            "_model_module_version": "1.5.0",
            "_model_name": "DescriptionStyleModel",
            "_view_count": null,
            "_view_module": "@jupyter-widgets/base",
            "_view_module_version": "1.2.0",
            "_view_name": "StyleView",
            "description_width": ""
          }
        },
        "53872d287c834d4da264ff63f42c8148": {
          "model_module": "@jupyter-widgets/controls",
          "model_module_version": "1.5.0",
          "model_name": "DescriptionStyleModel",
          "state": {
            "_model_module": "@jupyter-widgets/controls",
            "_model_module_version": "1.5.0",
            "_model_name": "DescriptionStyleModel",
            "_view_count": null,
            "_view_module": "@jupyter-widgets/base",
            "_view_module_version": "1.2.0",
            "_view_name": "StyleView",
            "description_width": ""
          }
        },
        "54f7b195fcd34d4b97c9f156778a1da2": {
          "model_module": "@jupyter-widgets/base",
          "model_module_version": "1.2.0",
          "model_name": "LayoutModel",
          "state": {
            "_model_module": "@jupyter-widgets/base",
            "_model_module_version": "1.2.0",
            "_model_name": "LayoutModel",
            "_view_count": null,
            "_view_module": "@jupyter-widgets/base",
            "_view_module_version": "1.2.0",
            "_view_name": "LayoutView",
            "align_content": null,
            "align_items": null,
            "align_self": null,
            "border": null,
            "bottom": null,
            "display": null,
            "flex": null,
            "flex_flow": null,
            "grid_area": null,
            "grid_auto_columns": null,
            "grid_auto_flow": null,
            "grid_auto_rows": null,
            "grid_column": null,
            "grid_gap": null,
            "grid_row": null,
            "grid_template_areas": null,
            "grid_template_columns": null,
            "grid_template_rows": null,
            "height": null,
            "justify_content": null,
            "justify_items": null,
            "left": null,
            "margin": null,
            "max_height": null,
            "max_width": null,
            "min_height": null,
            "min_width": null,
            "object_fit": null,
            "object_position": null,
            "order": null,
            "overflow": null,
            "overflow_x": null,
            "overflow_y": null,
            "padding": null,
            "right": null,
            "top": null,
            "visibility": null,
            "width": null
          }
        },
        "55431bd06c8b49db942fdd97b3612de8": {
          "model_module": "@jupyter-widgets/base",
          "model_module_version": "1.2.0",
          "model_name": "LayoutModel",
          "state": {
            "_model_module": "@jupyter-widgets/base",
            "_model_module_version": "1.2.0",
            "_model_name": "LayoutModel",
            "_view_count": null,
            "_view_module": "@jupyter-widgets/base",
            "_view_module_version": "1.2.0",
            "_view_name": "LayoutView",
            "align_content": null,
            "align_items": null,
            "align_self": null,
            "border": null,
            "bottom": null,
            "display": null,
            "flex": null,
            "flex_flow": null,
            "grid_area": null,
            "grid_auto_columns": null,
            "grid_auto_flow": null,
            "grid_auto_rows": null,
            "grid_column": null,
            "grid_gap": null,
            "grid_row": null,
            "grid_template_areas": null,
            "grid_template_columns": null,
            "grid_template_rows": null,
            "height": null,
            "justify_content": null,
            "justify_items": null,
            "left": null,
            "margin": null,
            "max_height": null,
            "max_width": null,
            "min_height": null,
            "min_width": null,
            "object_fit": null,
            "object_position": null,
            "order": null,
            "overflow": null,
            "overflow_x": null,
            "overflow_y": null,
            "padding": null,
            "right": null,
            "top": null,
            "visibility": null,
            "width": null
          }
        },
        "56a00f8340f84bc4a86a0e123ab6f3c8": {
          "model_module": "@jupyter-widgets/controls",
          "model_module_version": "1.5.0",
          "model_name": "HTMLModel",
          "state": {
            "_dom_classes": [],
            "_model_module": "@jupyter-widgets/controls",
            "_model_module_version": "1.5.0",
            "_model_name": "HTMLModel",
            "_view_count": null,
            "_view_module": "@jupyter-widgets/controls",
            "_view_module_version": "1.5.0",
            "_view_name": "HTMLView",
            "description": "",
            "description_tooltip": null,
            "layout": "IPY_MODEL_bcb5ae2b306c443e887bd92476510cd4",
            "placeholder": "​",
            "style": "IPY_MODEL_34d0737c380a4a2a9e51663299a1b16b",
            "value": " 456k/456k [00:00&lt;00:00, 26.3MB/s]"
          }
        },
        "56f7ea4660bb497b9f0798b7226fb2e3": {
          "model_module": "@jupyter-widgets/controls",
          "model_module_version": "1.5.0",
          "model_name": "ProgressStyleModel",
          "state": {
            "_model_module": "@jupyter-widgets/controls",
            "_model_module_version": "1.5.0",
            "_model_name": "ProgressStyleModel",
            "_view_count": null,
            "_view_module": "@jupyter-widgets/base",
            "_view_module_version": "1.2.0",
            "_view_name": "StyleView",
            "bar_color": null,
            "description_width": ""
          }
        },
        "57d36a48be704a2ab38af7dbfb6c443a": {
          "model_module": "@jupyter-widgets/base",
          "model_module_version": "1.2.0",
          "model_name": "LayoutModel",
          "state": {
            "_model_module": "@jupyter-widgets/base",
            "_model_module_version": "1.2.0",
            "_model_name": "LayoutModel",
            "_view_count": null,
            "_view_module": "@jupyter-widgets/base",
            "_view_module_version": "1.2.0",
            "_view_name": "LayoutView",
            "align_content": null,
            "align_items": null,
            "align_self": null,
            "border": null,
            "bottom": null,
            "display": null,
            "flex": null,
            "flex_flow": null,
            "grid_area": null,
            "grid_auto_columns": null,
            "grid_auto_flow": null,
            "grid_auto_rows": null,
            "grid_column": null,
            "grid_gap": null,
            "grid_row": null,
            "grid_template_areas": null,
            "grid_template_columns": null,
            "grid_template_rows": null,
            "height": null,
            "justify_content": null,
            "justify_items": null,
            "left": null,
            "margin": null,
            "max_height": null,
            "max_width": null,
            "min_height": null,
            "min_width": null,
            "object_fit": null,
            "object_position": null,
            "order": null,
            "overflow": null,
            "overflow_x": null,
            "overflow_y": null,
            "padding": null,
            "right": null,
            "top": null,
            "visibility": null,
            "width": null
          }
        },
        "58a5ad57ec784642b12635442e1d47c2": {
          "model_module": "@jupyter-widgets/controls",
          "model_module_version": "1.5.0",
          "model_name": "DescriptionStyleModel",
          "state": {
            "_model_module": "@jupyter-widgets/controls",
            "_model_module_version": "1.5.0",
            "_model_name": "DescriptionStyleModel",
            "_view_count": null,
            "_view_module": "@jupyter-widgets/base",
            "_view_module_version": "1.2.0",
            "_view_name": "StyleView",
            "description_width": ""
          }
        },
        "58dd512d05dd4a3fb012332943bcdfad": {
          "model_module": "@jupyter-widgets/controls",
          "model_module_version": "1.5.0",
          "model_name": "DescriptionStyleModel",
          "state": {
            "_model_module": "@jupyter-widgets/controls",
            "_model_module_version": "1.5.0",
            "_model_name": "DescriptionStyleModel",
            "_view_count": null,
            "_view_module": "@jupyter-widgets/base",
            "_view_module_version": "1.2.0",
            "_view_name": "StyleView",
            "description_width": ""
          }
        },
        "59d934fe91e14fde978507afa7d5036a": {
          "model_module": "@jupyter-widgets/base",
          "model_module_version": "1.2.0",
          "model_name": "LayoutModel",
          "state": {
            "_model_module": "@jupyter-widgets/base",
            "_model_module_version": "1.2.0",
            "_model_name": "LayoutModel",
            "_view_count": null,
            "_view_module": "@jupyter-widgets/base",
            "_view_module_version": "1.2.0",
            "_view_name": "LayoutView",
            "align_content": null,
            "align_items": null,
            "align_self": null,
            "border": null,
            "bottom": null,
            "display": null,
            "flex": null,
            "flex_flow": null,
            "grid_area": null,
            "grid_auto_columns": null,
            "grid_auto_flow": null,
            "grid_auto_rows": null,
            "grid_column": null,
            "grid_gap": null,
            "grid_row": null,
            "grid_template_areas": null,
            "grid_template_columns": null,
            "grid_template_rows": null,
            "height": null,
            "justify_content": null,
            "justify_items": null,
            "left": null,
            "margin": null,
            "max_height": null,
            "max_width": null,
            "min_height": null,
            "min_width": null,
            "object_fit": null,
            "object_position": null,
            "order": null,
            "overflow": null,
            "overflow_x": null,
            "overflow_y": null,
            "padding": null,
            "right": null,
            "top": null,
            "visibility": null,
            "width": null
          }
        },
        "5b2accb4b05d4fdca6e0acf110955d13": {
          "model_module": "@jupyter-widgets/controls",
          "model_module_version": "1.5.0",
          "model_name": "HBoxModel",
          "state": {
            "_dom_classes": [],
            "_model_module": "@jupyter-widgets/controls",
            "_model_module_version": "1.5.0",
            "_model_name": "HBoxModel",
            "_view_count": null,
            "_view_module": "@jupyter-widgets/controls",
            "_view_module_version": "1.5.0",
            "_view_name": "HBoxView",
            "box_style": "",
            "children": [
              "IPY_MODEL_15dbcf49e4ea4545944cff6149a7060b",
              "IPY_MODEL_17afd06a7f3c4639954aa1c233f91a7e",
              "IPY_MODEL_123cf77379654da5a66a897e3c2711f7"
            ],
            "layout": "IPY_MODEL_70b1282cae68426f9d2f2f900a8978be"
          }
        },
        "5c511a3d257d43ae8f4a96877b290492": {
          "model_module": "@jupyter-widgets/base",
          "model_module_version": "1.2.0",
          "model_name": "LayoutModel",
          "state": {
            "_model_module": "@jupyter-widgets/base",
            "_model_module_version": "1.2.0",
            "_model_name": "LayoutModel",
            "_view_count": null,
            "_view_module": "@jupyter-widgets/base",
            "_view_module_version": "1.2.0",
            "_view_name": "LayoutView",
            "align_content": null,
            "align_items": null,
            "align_self": null,
            "border": null,
            "bottom": null,
            "display": null,
            "flex": null,
            "flex_flow": null,
            "grid_area": null,
            "grid_auto_columns": null,
            "grid_auto_flow": null,
            "grid_auto_rows": null,
            "grid_column": null,
            "grid_gap": null,
            "grid_row": null,
            "grid_template_areas": null,
            "grid_template_columns": null,
            "grid_template_rows": null,
            "height": null,
            "justify_content": null,
            "justify_items": null,
            "left": null,
            "margin": null,
            "max_height": null,
            "max_width": null,
            "min_height": null,
            "min_width": null,
            "object_fit": null,
            "object_position": null,
            "order": null,
            "overflow": null,
            "overflow_x": null,
            "overflow_y": null,
            "padding": null,
            "right": null,
            "top": null,
            "visibility": null,
            "width": null
          }
        },
        "5cf0b18bc257451f9d0472cfe8e8570a": {
          "model_module": "@jupyter-widgets/base",
          "model_module_version": "1.2.0",
          "model_name": "LayoutModel",
          "state": {
            "_model_module": "@jupyter-widgets/base",
            "_model_module_version": "1.2.0",
            "_model_name": "LayoutModel",
            "_view_count": null,
            "_view_module": "@jupyter-widgets/base",
            "_view_module_version": "1.2.0",
            "_view_name": "LayoutView",
            "align_content": null,
            "align_items": null,
            "align_self": null,
            "border": null,
            "bottom": null,
            "display": null,
            "flex": null,
            "flex_flow": null,
            "grid_area": null,
            "grid_auto_columns": null,
            "grid_auto_flow": null,
            "grid_auto_rows": null,
            "grid_column": null,
            "grid_gap": null,
            "grid_row": null,
            "grid_template_areas": null,
            "grid_template_columns": null,
            "grid_template_rows": null,
            "height": null,
            "justify_content": null,
            "justify_items": null,
            "left": null,
            "margin": null,
            "max_height": null,
            "max_width": null,
            "min_height": null,
            "min_width": null,
            "object_fit": null,
            "object_position": null,
            "order": null,
            "overflow": null,
            "overflow_x": null,
            "overflow_y": null,
            "padding": null,
            "right": null,
            "top": null,
            "visibility": null,
            "width": null
          }
        },
        "5cf367d59ba54c96a9ae24a8cd524a2b": {
          "model_module": "@jupyter-widgets/base",
          "model_module_version": "1.2.0",
          "model_name": "LayoutModel",
          "state": {
            "_model_module": "@jupyter-widgets/base",
            "_model_module_version": "1.2.0",
            "_model_name": "LayoutModel",
            "_view_count": null,
            "_view_module": "@jupyter-widgets/base",
            "_view_module_version": "1.2.0",
            "_view_name": "LayoutView",
            "align_content": null,
            "align_items": null,
            "align_self": null,
            "border": null,
            "bottom": null,
            "display": null,
            "flex": null,
            "flex_flow": null,
            "grid_area": null,
            "grid_auto_columns": null,
            "grid_auto_flow": null,
            "grid_auto_rows": null,
            "grid_column": null,
            "grid_gap": null,
            "grid_row": null,
            "grid_template_areas": null,
            "grid_template_columns": null,
            "grid_template_rows": null,
            "height": null,
            "justify_content": null,
            "justify_items": null,
            "left": null,
            "margin": null,
            "max_height": null,
            "max_width": null,
            "min_height": null,
            "min_width": null,
            "object_fit": null,
            "object_position": null,
            "order": null,
            "overflow": null,
            "overflow_x": null,
            "overflow_y": null,
            "padding": null,
            "right": null,
            "top": null,
            "visibility": null,
            "width": null
          }
        },
        "5cfed66a92a74a2285ed2aeb6b2c0ac5": {
          "model_module": "@jupyter-widgets/controls",
          "model_module_version": "1.5.0",
          "model_name": "ProgressStyleModel",
          "state": {
            "_model_module": "@jupyter-widgets/controls",
            "_model_module_version": "1.5.0",
            "_model_name": "ProgressStyleModel",
            "_view_count": null,
            "_view_module": "@jupyter-widgets/base",
            "_view_module_version": "1.2.0",
            "_view_name": "StyleView",
            "bar_color": null,
            "description_width": ""
          }
        },
        "5de50e9247a640f392b5c6bc75e0a973": {
          "model_module": "@jupyter-widgets/controls",
          "model_module_version": "1.5.0",
          "model_name": "HBoxModel",
          "state": {
            "_dom_classes": [],
            "_model_module": "@jupyter-widgets/controls",
            "_model_module_version": "1.5.0",
            "_model_name": "HBoxModel",
            "_view_count": null,
            "_view_module": "@jupyter-widgets/controls",
            "_view_module_version": "1.5.0",
            "_view_name": "HBoxView",
            "box_style": "",
            "children": [
              "IPY_MODEL_671f92ed2235413f8879128a1b6795c7",
              "IPY_MODEL_87a9ba9ae982434ea871f8473304b6f3",
              "IPY_MODEL_db740aedfc8c4d80b7e903020a86a327"
            ],
            "layout": "IPY_MODEL_8cf288edeb4a494eb619d0865e0b21da"
          }
        },
        "5eedbfccbee54d43b41608896bc9b7ab": {
          "model_module": "@jupyter-widgets/base",
          "model_module_version": "1.2.0",
          "model_name": "LayoutModel",
          "state": {
            "_model_module": "@jupyter-widgets/base",
            "_model_module_version": "1.2.0",
            "_model_name": "LayoutModel",
            "_view_count": null,
            "_view_module": "@jupyter-widgets/base",
            "_view_module_version": "1.2.0",
            "_view_name": "LayoutView",
            "align_content": null,
            "align_items": null,
            "align_self": null,
            "border": null,
            "bottom": null,
            "display": null,
            "flex": null,
            "flex_flow": null,
            "grid_area": null,
            "grid_auto_columns": null,
            "grid_auto_flow": null,
            "grid_auto_rows": null,
            "grid_column": null,
            "grid_gap": null,
            "grid_row": null,
            "grid_template_areas": null,
            "grid_template_columns": null,
            "grid_template_rows": null,
            "height": null,
            "justify_content": null,
            "justify_items": null,
            "left": null,
            "margin": null,
            "max_height": null,
            "max_width": null,
            "min_height": null,
            "min_width": null,
            "object_fit": null,
            "object_position": null,
            "order": null,
            "overflow": null,
            "overflow_x": null,
            "overflow_y": null,
            "padding": null,
            "right": null,
            "top": null,
            "visibility": null,
            "width": null
          }
        },
        "5fdfc6034df24ac09e3085bae57ea2a0": {
          "model_module": "@jupyter-widgets/controls",
          "model_module_version": "1.5.0",
          "model_name": "FloatProgressModel",
          "state": {
            "_dom_classes": [],
            "_model_module": "@jupyter-widgets/controls",
            "_model_module_version": "1.5.0",
            "_model_name": "FloatProgressModel",
            "_view_count": null,
            "_view_module": "@jupyter-widgets/controls",
            "_view_module_version": "1.5.0",
            "_view_name": "ProgressView",
            "bar_style": "success",
            "description": "",
            "description_tooltip": null,
            "layout": "IPY_MODEL_afd5b314c15a4878a17815b464ee7aa2",
            "max": 772,
            "min": 0,
            "orientation": "horizontal",
            "style": "IPY_MODEL_c8e5cb2a72154108ba5c76a98d2cc14a",
            "value": 772
          }
        },
        "60bc05452d6a4e71b23af24cba3c7e38": {
          "model_module": "@jupyter-widgets/controls",
          "model_module_version": "1.5.0",
          "model_name": "HBoxModel",
          "state": {
            "_dom_classes": [],
            "_model_module": "@jupyter-widgets/controls",
            "_model_module_version": "1.5.0",
            "_model_name": "HBoxModel",
            "_view_count": null,
            "_view_module": "@jupyter-widgets/controls",
            "_view_module_version": "1.5.0",
            "_view_name": "HBoxView",
            "box_style": "",
            "children": [
              "IPY_MODEL_a701c33d17da476981d46f25535839da",
              "IPY_MODEL_eb79f4115de84ef494619a6c3dda7346",
              "IPY_MODEL_ef829a3ee4dd489f8a3c947d8ce7c452"
            ],
            "layout": "IPY_MODEL_a53ef8d95925430b8ac0d853820879ff"
          }
        },
        "61042a78bcdc469aa64004a2dc06f9d1": {
          "model_module": "@jupyter-widgets/base",
          "model_module_version": "1.2.0",
          "model_name": "LayoutModel",
          "state": {
            "_model_module": "@jupyter-widgets/base",
            "_model_module_version": "1.2.0",
            "_model_name": "LayoutModel",
            "_view_count": null,
            "_view_module": "@jupyter-widgets/base",
            "_view_module_version": "1.2.0",
            "_view_name": "LayoutView",
            "align_content": null,
            "align_items": null,
            "align_self": null,
            "border": null,
            "bottom": null,
            "display": null,
            "flex": null,
            "flex_flow": null,
            "grid_area": null,
            "grid_auto_columns": null,
            "grid_auto_flow": null,
            "grid_auto_rows": null,
            "grid_column": null,
            "grid_gap": null,
            "grid_row": null,
            "grid_template_areas": null,
            "grid_template_columns": null,
            "grid_template_rows": null,
            "height": null,
            "justify_content": null,
            "justify_items": null,
            "left": null,
            "margin": null,
            "max_height": null,
            "max_width": null,
            "min_height": null,
            "min_width": null,
            "object_fit": null,
            "object_position": null,
            "order": null,
            "overflow": null,
            "overflow_x": null,
            "overflow_y": null,
            "padding": null,
            "right": null,
            "top": null,
            "visibility": null,
            "width": null
          }
        },
        "6147740699854bef973a9abcbcec313e": {
          "model_module": "@jupyter-widgets/controls",
          "model_module_version": "1.5.0",
          "model_name": "HTMLModel",
          "state": {
            "_dom_classes": [],
            "_model_module": "@jupyter-widgets/controls",
            "_model_module_version": "1.5.0",
            "_model_name": "HTMLModel",
            "_view_count": null,
            "_view_module": "@jupyter-widgets/controls",
            "_view_module_version": "1.5.0",
            "_view_name": "HTMLView",
            "description": "",
            "description_tooltip": null,
            "layout": "IPY_MODEL_249c9787032c4f329ddedc3697c49e8c",
            "placeholder": "​",
            "style": "IPY_MODEL_53872d287c834d4da264ff63f42c8148",
            "value": "pytorch_model.bin: 100%"
          }
        },
        "61c238367cbe4436b99904db918995c5": {
          "model_module": "@jupyter-widgets/controls",
          "model_module_version": "1.5.0",
          "model_name": "HTMLModel",
          "state": {
            "_dom_classes": [],
            "_model_module": "@jupyter-widgets/controls",
            "_model_module_version": "1.5.0",
            "_model_name": "HTMLModel",
            "_view_count": null,
            "_view_module": "@jupyter-widgets/controls",
            "_view_module_version": "1.5.0",
            "_view_name": "HTMLView",
            "description": "",
            "description_tooltip": null,
            "layout": "IPY_MODEL_c69d8204cddd4ad59ddffe72a6cf7cc0",
            "placeholder": "​",
            "style": "IPY_MODEL_8e1496bf5bcf4e8099899fa7fffde28f",
            "value": "Generating validation split: 100%"
          }
        },
        "61e4ef79822e43cdb405355a9aa0d6ef": {
          "model_module": "@jupyter-widgets/base",
          "model_module_version": "1.2.0",
          "model_name": "LayoutModel",
          "state": {
            "_model_module": "@jupyter-widgets/base",
            "_model_module_version": "1.2.0",
            "_model_name": "LayoutModel",
            "_view_count": null,
            "_view_module": "@jupyter-widgets/base",
            "_view_module_version": "1.2.0",
            "_view_name": "LayoutView",
            "align_content": null,
            "align_items": null,
            "align_self": null,
            "border": null,
            "bottom": null,
            "display": null,
            "flex": null,
            "flex_flow": null,
            "grid_area": null,
            "grid_auto_columns": null,
            "grid_auto_flow": null,
            "grid_auto_rows": null,
            "grid_column": null,
            "grid_gap": null,
            "grid_row": null,
            "grid_template_areas": null,
            "grid_template_columns": null,
            "grid_template_rows": null,
            "height": null,
            "justify_content": null,
            "justify_items": null,
            "left": null,
            "margin": null,
            "max_height": null,
            "max_width": null,
            "min_height": null,
            "min_width": null,
            "object_fit": null,
            "object_position": null,
            "order": null,
            "overflow": null,
            "overflow_x": null,
            "overflow_y": null,
            "padding": null,
            "right": null,
            "top": null,
            "visibility": null,
            "width": null
          }
        },
        "61fdeed54cac4d9e9789fbb51ae24bb4": {
          "model_module": "@jupyter-widgets/base",
          "model_module_version": "1.2.0",
          "model_name": "LayoutModel",
          "state": {
            "_model_module": "@jupyter-widgets/base",
            "_model_module_version": "1.2.0",
            "_model_name": "LayoutModel",
            "_view_count": null,
            "_view_module": "@jupyter-widgets/base",
            "_view_module_version": "1.2.0",
            "_view_name": "LayoutView",
            "align_content": null,
            "align_items": null,
            "align_self": null,
            "border": null,
            "bottom": null,
            "display": null,
            "flex": null,
            "flex_flow": null,
            "grid_area": null,
            "grid_auto_columns": null,
            "grid_auto_flow": null,
            "grid_auto_rows": null,
            "grid_column": null,
            "grid_gap": null,
            "grid_row": null,
            "grid_template_areas": null,
            "grid_template_columns": null,
            "grid_template_rows": null,
            "height": null,
            "justify_content": null,
            "justify_items": null,
            "left": null,
            "margin": null,
            "max_height": null,
            "max_width": null,
            "min_height": null,
            "min_width": null,
            "object_fit": null,
            "object_position": null,
            "order": null,
            "overflow": null,
            "overflow_x": null,
            "overflow_y": null,
            "padding": null,
            "right": null,
            "top": null,
            "visibility": null,
            "width": null
          }
        },
        "62128a0618b64d6bbbda57b890fc17e4": {
          "model_module": "@jupyter-widgets/base",
          "model_module_version": "1.2.0",
          "model_name": "LayoutModel",
          "state": {
            "_model_module": "@jupyter-widgets/base",
            "_model_module_version": "1.2.0",
            "_model_name": "LayoutModel",
            "_view_count": null,
            "_view_module": "@jupyter-widgets/base",
            "_view_module_version": "1.2.0",
            "_view_name": "LayoutView",
            "align_content": null,
            "align_items": null,
            "align_self": null,
            "border": null,
            "bottom": null,
            "display": null,
            "flex": null,
            "flex_flow": null,
            "grid_area": null,
            "grid_auto_columns": null,
            "grid_auto_flow": null,
            "grid_auto_rows": null,
            "grid_column": null,
            "grid_gap": null,
            "grid_row": null,
            "grid_template_areas": null,
            "grid_template_columns": null,
            "grid_template_rows": null,
            "height": null,
            "justify_content": null,
            "justify_items": null,
            "left": null,
            "margin": null,
            "max_height": null,
            "max_width": null,
            "min_height": null,
            "min_width": null,
            "object_fit": null,
            "object_position": null,
            "order": null,
            "overflow": null,
            "overflow_x": null,
            "overflow_y": null,
            "padding": null,
            "right": null,
            "top": null,
            "visibility": null,
            "width": null
          }
        },
        "627c8e6344824699abb58321d7adbfaf": {
          "model_module": "@jupyter-widgets/controls",
          "model_module_version": "1.5.0",
          "model_name": "HTMLModel",
          "state": {
            "_dom_classes": [],
            "_model_module": "@jupyter-widgets/controls",
            "_model_module_version": "1.5.0",
            "_model_name": "HTMLModel",
            "_view_count": null,
            "_view_module": "@jupyter-widgets/controls",
            "_view_module_version": "1.5.0",
            "_view_name": "HTMLView",
            "description": "",
            "description_tooltip": null,
            "layout": "IPY_MODEL_aff90594d2e04db3992d03a2c8150987",
            "placeholder": "​",
            "style": "IPY_MODEL_50e1c9a1d2e3481d8a54aa40eeac0391",
            "value": " 148k/148k [00:00&lt;00:00, 166kB/s]"
          }
        },
        "63bc6690d2d0426eb37f9e64dd86f4e3": {
          "model_module": "@jupyter-widgets/controls",
          "model_module_version": "1.5.0",
          "model_name": "DescriptionStyleModel",
          "state": {
            "_model_module": "@jupyter-widgets/controls",
            "_model_module_version": "1.5.0",
            "_model_name": "DescriptionStyleModel",
            "_view_count": null,
            "_view_module": "@jupyter-widgets/base",
            "_view_module_version": "1.2.0",
            "_view_name": "StyleView",
            "description_width": ""
          }
        },
        "640d337288144eef9dfaa1f08c6e3937": {
          "model_module": "@jupyter-widgets/base",
          "model_module_version": "1.2.0",
          "model_name": "LayoutModel",
          "state": {
            "_model_module": "@jupyter-widgets/base",
            "_model_module_version": "1.2.0",
            "_model_name": "LayoutModel",
            "_view_count": null,
            "_view_module": "@jupyter-widgets/base",
            "_view_module_version": "1.2.0",
            "_view_name": "LayoutView",
            "align_content": null,
            "align_items": null,
            "align_self": null,
            "border": null,
            "bottom": null,
            "display": null,
            "flex": null,
            "flex_flow": null,
            "grid_area": null,
            "grid_auto_columns": null,
            "grid_auto_flow": null,
            "grid_auto_rows": null,
            "grid_column": null,
            "grid_gap": null,
            "grid_row": null,
            "grid_template_areas": null,
            "grid_template_columns": null,
            "grid_template_rows": null,
            "height": null,
            "justify_content": null,
            "justify_items": null,
            "left": null,
            "margin": null,
            "max_height": null,
            "max_width": null,
            "min_height": null,
            "min_width": null,
            "object_fit": null,
            "object_position": null,
            "order": null,
            "overflow": null,
            "overflow_x": null,
            "overflow_y": null,
            "padding": null,
            "right": null,
            "top": null,
            "visibility": null,
            "width": null
          }
        },
        "64cf50ff0902453e9c35574c5304a208": {
          "model_module": "@jupyter-widgets/controls",
          "model_module_version": "1.5.0",
          "model_name": "HTMLModel",
          "state": {
            "_dom_classes": [],
            "_model_module": "@jupyter-widgets/controls",
            "_model_module_version": "1.5.0",
            "_model_name": "HTMLModel",
            "_view_count": null,
            "_view_module": "@jupyter-widgets/controls",
            "_view_module_version": "1.5.0",
            "_view_name": "HTMLView",
            "description": "",
            "description_tooltip": null,
            "layout": "IPY_MODEL_208e0dadf4724d76a29f71220e7c2432",
            "placeholder": "​",
            "style": "IPY_MODEL_781239c163a64d1a9bfbca13de4310d2",
            "value": "special_tokens_map.json: 100%"
          }
        },
        "6562ce4e80f04798b7ec4492493b6fe5": {
          "model_module": "@jupyter-widgets/base",
          "model_module_version": "1.2.0",
          "model_name": "LayoutModel",
          "state": {
            "_model_module": "@jupyter-widgets/base",
            "_model_module_version": "1.2.0",
            "_model_name": "LayoutModel",
            "_view_count": null,
            "_view_module": "@jupyter-widgets/base",
            "_view_module_version": "1.2.0",
            "_view_name": "LayoutView",
            "align_content": null,
            "align_items": null,
            "align_self": null,
            "border": null,
            "bottom": null,
            "display": null,
            "flex": null,
            "flex_flow": null,
            "grid_area": null,
            "grid_auto_columns": null,
            "grid_auto_flow": null,
            "grid_auto_rows": null,
            "grid_column": null,
            "grid_gap": null,
            "grid_row": null,
            "grid_template_areas": null,
            "grid_template_columns": null,
            "grid_template_rows": null,
            "height": null,
            "justify_content": null,
            "justify_items": null,
            "left": null,
            "margin": null,
            "max_height": null,
            "max_width": null,
            "min_height": null,
            "min_width": null,
            "object_fit": null,
            "object_position": null,
            "order": null,
            "overflow": null,
            "overflow_x": null,
            "overflow_y": null,
            "padding": null,
            "right": null,
            "top": null,
            "visibility": null,
            "width": null
          }
        },
        "65aeb1709dac40cb8c3acff48d6bf8c7": {
          "model_module": "@jupyter-widgets/controls",
          "model_module_version": "1.5.0",
          "model_name": "VBoxModel",
          "state": {
            "_dom_classes": [],
            "_model_module": "@jupyter-widgets/controls",
            "_model_module_version": "1.5.0",
            "_model_name": "VBoxModel",
            "_view_count": null,
            "_view_module": "@jupyter-widgets/controls",
            "_view_module_version": "1.5.0",
            "_view_name": "VBoxView",
            "box_style": "",
            "children": [
              "IPY_MODEL_16c05d05e4cf4a7c8f36c1eac453ef38",
              "IPY_MODEL_7d71644a85264693a1bf9a1f63ce6e7a",
              "IPY_MODEL_92cf1f584e2f427aa711280b8b3856bc",
              "IPY_MODEL_8e184b5019be4893bb44b02d0cfe54eb"
            ],
            "layout": "IPY_MODEL_90863fa6255f4028979011cdab205911"
          }
        },
        "65b77893a3d849c28d39e0a86cbc737a": {
          "model_module": "@jupyter-widgets/controls",
          "model_module_version": "1.5.0",
          "model_name": "FloatProgressModel",
          "state": {
            "_dom_classes": [],
            "_model_module": "@jupyter-widgets/controls",
            "_model_module_version": "1.5.0",
            "_model_name": "FloatProgressModel",
            "_view_count": null,
            "_view_module": "@jupyter-widgets/controls",
            "_view_module_version": "1.5.0",
            "_view_name": "ProgressView",
            "bar_style": "success",
            "description": "",
            "description_tooltip": null,
            "layout": "IPY_MODEL_c740224fe93546be97a66fb3a191a70b",
            "max": 67349,
            "min": 0,
            "orientation": "horizontal",
            "style": "IPY_MODEL_82d3b8fdf67e472eab1203de92e1371d",
            "value": 67349
          }
        },
        "6612f24a50f84737984efbf9fc2dbed9": {
          "model_module": "@jupyter-widgets/controls",
          "model_module_version": "1.5.0",
          "model_name": "DescriptionStyleModel",
          "state": {
            "_model_module": "@jupyter-widgets/controls",
            "_model_module_version": "1.5.0",
            "_model_name": "DescriptionStyleModel",
            "_view_count": null,
            "_view_module": "@jupyter-widgets/base",
            "_view_module_version": "1.2.0",
            "_view_name": "StyleView",
            "description_width": ""
          }
        },
        "66e7a28553c44fc49984134bf2a2b7d2": {
          "model_module": "@jupyter-widgets/base",
          "model_module_version": "1.2.0",
          "model_name": "LayoutModel",
          "state": {
            "_model_module": "@jupyter-widgets/base",
            "_model_module_version": "1.2.0",
            "_model_name": "LayoutModel",
            "_view_count": null,
            "_view_module": "@jupyter-widgets/base",
            "_view_module_version": "1.2.0",
            "_view_name": "LayoutView",
            "align_content": null,
            "align_items": null,
            "align_self": null,
            "border": null,
            "bottom": null,
            "display": null,
            "flex": null,
            "flex_flow": null,
            "grid_area": null,
            "grid_auto_columns": null,
            "grid_auto_flow": null,
            "grid_auto_rows": null,
            "grid_column": null,
            "grid_gap": null,
            "grid_row": null,
            "grid_template_areas": null,
            "grid_template_columns": null,
            "grid_template_rows": null,
            "height": null,
            "justify_content": null,
            "justify_items": null,
            "left": null,
            "margin": null,
            "max_height": null,
            "max_width": null,
            "min_height": null,
            "min_width": null,
            "object_fit": null,
            "object_position": null,
            "order": null,
            "overflow": null,
            "overflow_x": null,
            "overflow_y": null,
            "padding": null,
            "right": null,
            "top": null,
            "visibility": null,
            "width": null
          }
        },
        "66e9400a54fc4293ad361dc7bf7fb02f": {
          "model_module": "@jupyter-widgets/controls",
          "model_module_version": "1.5.0",
          "model_name": "DescriptionStyleModel",
          "state": {
            "_model_module": "@jupyter-widgets/controls",
            "_model_module_version": "1.5.0",
            "_model_name": "DescriptionStyleModel",
            "_view_count": null,
            "_view_module": "@jupyter-widgets/base",
            "_view_module_version": "1.2.0",
            "_view_name": "StyleView",
            "description_width": ""
          }
        },
        "671f92ed2235413f8879128a1b6795c7": {
          "model_module": "@jupyter-widgets/controls",
          "model_module_version": "1.5.0",
          "model_name": "HTMLModel",
          "state": {
            "_dom_classes": [],
            "_model_module": "@jupyter-widgets/controls",
            "_model_module_version": "1.5.0",
            "_model_name": "HTMLModel",
            "_view_count": null,
            "_view_module": "@jupyter-widgets/controls",
            "_view_module_version": "1.5.0",
            "_view_name": "HTMLView",
            "description": "",
            "description_tooltip": null,
            "layout": "IPY_MODEL_5c511a3d257d43ae8f4a96877b290492",
            "placeholder": "​",
            "style": "IPY_MODEL_58a5ad57ec784642b12635442e1d47c2",
            "value": "vocab.json: 100%"
          }
        },
        "6826a773e53445e581915ade1ce38d4d": {
          "model_module": "@jupyter-widgets/base",
          "model_module_version": "1.2.0",
          "model_name": "LayoutModel",
          "state": {
            "_model_module": "@jupyter-widgets/base",
            "_model_module_version": "1.2.0",
            "_model_name": "LayoutModel",
            "_view_count": null,
            "_view_module": "@jupyter-widgets/base",
            "_view_module_version": "1.2.0",
            "_view_name": "LayoutView",
            "align_content": null,
            "align_items": null,
            "align_self": null,
            "border": null,
            "bottom": null,
            "display": null,
            "flex": null,
            "flex_flow": null,
            "grid_area": null,
            "grid_auto_columns": null,
            "grid_auto_flow": null,
            "grid_auto_rows": null,
            "grid_column": null,
            "grid_gap": null,
            "grid_row": null,
            "grid_template_areas": null,
            "grid_template_columns": null,
            "grid_template_rows": null,
            "height": null,
            "justify_content": null,
            "justify_items": null,
            "left": null,
            "margin": null,
            "max_height": null,
            "max_width": null,
            "min_height": null,
            "min_width": null,
            "object_fit": null,
            "object_position": null,
            "order": null,
            "overflow": null,
            "overflow_x": null,
            "overflow_y": null,
            "padding": null,
            "right": null,
            "top": null,
            "visibility": null,
            "width": null
          }
        },
        "6aad578766084abeab4f3e8ea6c174bf": {
          "model_module": "@jupyter-widgets/controls",
          "model_module_version": "1.5.0",
          "model_name": "ProgressStyleModel",
          "state": {
            "_model_module": "@jupyter-widgets/controls",
            "_model_module_version": "1.5.0",
            "_model_name": "ProgressStyleModel",
            "_view_count": null,
            "_view_module": "@jupyter-widgets/base",
            "_view_module_version": "1.2.0",
            "_view_name": "StyleView",
            "bar_color": null,
            "description_width": ""
          }
        },
        "6b8a5658df464265a9ea668589b81fce": {
          "model_module": "@jupyter-widgets/controls",
          "model_module_version": "1.5.0",
          "model_name": "HTMLModel",
          "state": {
            "_dom_classes": [],
            "_model_module": "@jupyter-widgets/controls",
            "_model_module_version": "1.5.0",
            "_model_name": "HTMLModel",
            "_view_count": null,
            "_view_module": "@jupyter-widgets/controls",
            "_view_module_version": "1.5.0",
            "_view_name": "HTMLView",
            "description": "",
            "description_tooltip": null,
            "layout": "IPY_MODEL_86344ab381e648f1be45b11a7645bb3b",
            "placeholder": "​",
            "style": "IPY_MODEL_be6552d4178f40ff98ccb1afacdf178d",
            "value": "\n<b>Pro Tip:</b> If you don't already have one, you can create a dedicated\n'notebooks' token with 'write' access, that you can then easily reuse for all\nnotebooks. </center>"
          }
        },
        "6bf1e17c628840a1b34afeff4aea1651": {
          "model_module": "@jupyter-widgets/base",
          "model_module_version": "1.2.0",
          "model_name": "LayoutModel",
          "state": {
            "_model_module": "@jupyter-widgets/base",
            "_model_module_version": "1.2.0",
            "_model_name": "LayoutModel",
            "_view_count": null,
            "_view_module": "@jupyter-widgets/base",
            "_view_module_version": "1.2.0",
            "_view_name": "LayoutView",
            "align_content": null,
            "align_items": null,
            "align_self": null,
            "border": null,
            "bottom": null,
            "display": null,
            "flex": null,
            "flex_flow": null,
            "grid_area": null,
            "grid_auto_columns": null,
            "grid_auto_flow": null,
            "grid_auto_rows": null,
            "grid_column": null,
            "grid_gap": null,
            "grid_row": null,
            "grid_template_areas": null,
            "grid_template_columns": null,
            "grid_template_rows": null,
            "height": null,
            "justify_content": null,
            "justify_items": null,
            "left": null,
            "margin": null,
            "max_height": null,
            "max_width": null,
            "min_height": null,
            "min_width": null,
            "object_fit": null,
            "object_position": null,
            "order": null,
            "overflow": null,
            "overflow_x": null,
            "overflow_y": null,
            "padding": null,
            "right": null,
            "top": null,
            "visibility": null,
            "width": null
          }
        },
        "6cf56192558241e5b9afd5ed6a9b6bb8": {
          "model_module": "@jupyter-widgets/base",
          "model_module_version": "1.2.0",
          "model_name": "LayoutModel",
          "state": {
            "_model_module": "@jupyter-widgets/base",
            "_model_module_version": "1.2.0",
            "_model_name": "LayoutModel",
            "_view_count": null,
            "_view_module": "@jupyter-widgets/base",
            "_view_module_version": "1.2.0",
            "_view_name": "LayoutView",
            "align_content": null,
            "align_items": null,
            "align_self": null,
            "border": null,
            "bottom": null,
            "display": null,
            "flex": null,
            "flex_flow": null,
            "grid_area": null,
            "grid_auto_columns": null,
            "grid_auto_flow": null,
            "grid_auto_rows": null,
            "grid_column": null,
            "grid_gap": null,
            "grid_row": null,
            "grid_template_areas": null,
            "grid_template_columns": null,
            "grid_template_rows": null,
            "height": null,
            "justify_content": null,
            "justify_items": null,
            "left": null,
            "margin": null,
            "max_height": null,
            "max_width": null,
            "min_height": null,
            "min_width": null,
            "object_fit": null,
            "object_position": null,
            "order": null,
            "overflow": null,
            "overflow_x": null,
            "overflow_y": null,
            "padding": null,
            "right": null,
            "top": null,
            "visibility": null,
            "width": null
          }
        },
        "6eba2872eb94464fbd90e05992a7daa0": {
          "model_module": "@jupyter-widgets/controls",
          "model_module_version": "1.5.0",
          "model_name": "ProgressStyleModel",
          "state": {
            "_model_module": "@jupyter-widgets/controls",
            "_model_module_version": "1.5.0",
            "_model_name": "ProgressStyleModel",
            "_view_count": null,
            "_view_module": "@jupyter-widgets/base",
            "_view_module_version": "1.2.0",
            "_view_name": "StyleView",
            "bar_color": null,
            "description_width": ""
          }
        },
        "6f325fcd67b14da1b4471b4c3e1e1af9": {
          "model_module": "@jupyter-widgets/controls",
          "model_module_version": "1.5.0",
          "model_name": "HTMLModel",
          "state": {
            "_dom_classes": [],
            "_model_module": "@jupyter-widgets/controls",
            "_model_module_version": "1.5.0",
            "_model_name": "HTMLModel",
            "_view_count": null,
            "_view_module": "@jupyter-widgets/controls",
            "_view_module_version": "1.5.0",
            "_view_name": "HTMLView",
            "description": "",
            "description_tooltip": null,
            "layout": "IPY_MODEL_8f79718a265648dca56ec1ca67e47c44",
            "placeholder": "​",
            "style": "IPY_MODEL_6612f24a50f84737984efbf9fc2dbed9",
            "value": " 1.22k/1.22k [00:00&lt;00:00, 114kB/s]"
          }
        },
        "6f35f346cb2844aab69f683099827329": {
          "model_module": "@jupyter-widgets/controls",
          "model_module_version": "1.5.0",
          "model_name": "HTMLModel",
          "state": {
            "_dom_classes": [],
            "_model_module": "@jupyter-widgets/controls",
            "_model_module_version": "1.5.0",
            "_model_name": "HTMLModel",
            "_view_count": null,
            "_view_module": "@jupyter-widgets/controls",
            "_view_module_version": "1.5.0",
            "_view_name": "HTMLView",
            "description": "",
            "description_tooltip": null,
            "layout": "IPY_MODEL_0ab9509f7c1e42cf8b842d0b037b6312",
            "placeholder": "​",
            "style": "IPY_MODEL_95ce9782a41844e69acafe4d00d4416c",
            "value": " 27.0/27.0 [00:00&lt;00:00, 2.20kB/s]"
          }
        },
        "701bb93a1e0d4f479cf33024f2291fa9": {
          "model_module": "@jupyter-widgets/base",
          "model_module_version": "1.2.0",
          "model_name": "LayoutModel",
          "state": {
            "_model_module": "@jupyter-widgets/base",
            "_model_module_version": "1.2.0",
            "_model_name": "LayoutModel",
            "_view_count": null,
            "_view_module": "@jupyter-widgets/base",
            "_view_module_version": "1.2.0",
            "_view_name": "LayoutView",
            "align_content": null,
            "align_items": null,
            "align_self": null,
            "border": null,
            "bottom": null,
            "display": null,
            "flex": null,
            "flex_flow": null,
            "grid_area": null,
            "grid_auto_columns": null,
            "grid_auto_flow": null,
            "grid_auto_rows": null,
            "grid_column": null,
            "grid_gap": null,
            "grid_row": null,
            "grid_template_areas": null,
            "grid_template_columns": null,
            "grid_template_rows": null,
            "height": null,
            "justify_content": null,
            "justify_items": null,
            "left": null,
            "margin": null,
            "max_height": null,
            "max_width": null,
            "min_height": null,
            "min_width": null,
            "object_fit": null,
            "object_position": null,
            "order": null,
            "overflow": null,
            "overflow_x": null,
            "overflow_y": null,
            "padding": null,
            "right": null,
            "top": null,
            "visibility": null,
            "width": null
          }
        },
        "70b1282cae68426f9d2f2f900a8978be": {
          "model_module": "@jupyter-widgets/base",
          "model_module_version": "1.2.0",
          "model_name": "LayoutModel",
          "state": {
            "_model_module": "@jupyter-widgets/base",
            "_model_module_version": "1.2.0",
            "_model_name": "LayoutModel",
            "_view_count": null,
            "_view_module": "@jupyter-widgets/base",
            "_view_module_version": "1.2.0",
            "_view_name": "LayoutView",
            "align_content": null,
            "align_items": null,
            "align_self": null,
            "border": null,
            "bottom": null,
            "display": null,
            "flex": null,
            "flex_flow": null,
            "grid_area": null,
            "grid_auto_columns": null,
            "grid_auto_flow": null,
            "grid_auto_rows": null,
            "grid_column": null,
            "grid_gap": null,
            "grid_row": null,
            "grid_template_areas": null,
            "grid_template_columns": null,
            "grid_template_rows": null,
            "height": null,
            "justify_content": null,
            "justify_items": null,
            "left": null,
            "margin": null,
            "max_height": null,
            "max_width": null,
            "min_height": null,
            "min_width": null,
            "object_fit": null,
            "object_position": null,
            "order": null,
            "overflow": null,
            "overflow_x": null,
            "overflow_y": null,
            "padding": null,
            "right": null,
            "top": null,
            "visibility": null,
            "width": null
          }
        },
        "71c70a8979bc416d9877ff009bed746a": {
          "model_module": "@jupyter-widgets/controls",
          "model_module_version": "1.5.0",
          "model_name": "HTMLModel",
          "state": {
            "_dom_classes": [],
            "_model_module": "@jupyter-widgets/controls",
            "_model_module_version": "1.5.0",
            "_model_name": "HTMLModel",
            "_view_count": null,
            "_view_module": "@jupyter-widgets/controls",
            "_view_module_version": "1.5.0",
            "_view_name": "HTMLView",
            "description": "",
            "description_tooltip": null,
            "layout": "IPY_MODEL_1dd2bf8b1ccb4203afce2e2ecda58ec7",
            "placeholder": "​",
            "style": "IPY_MODEL_d0325b942f634a12ae01d69aecf7f503",
            "value": "Map: 100%"
          }
        },
        "72ef1dc828f84e739bafbf96b6157736": {
          "model_module": "@jupyter-widgets/controls",
          "model_module_version": "1.5.0",
          "model_name": "HTMLModel",
          "state": {
            "_dom_classes": [],
            "_model_module": "@jupyter-widgets/controls",
            "_model_module_version": "1.5.0",
            "_model_name": "HTMLModel",
            "_view_count": null,
            "_view_module": "@jupyter-widgets/controls",
            "_view_module_version": "1.5.0",
            "_view_name": "HTMLView",
            "description": "",
            "description_tooltip": null,
            "layout": "IPY_MODEL_ca0be6d5029c4799bd9c8583f1776b43",
            "placeholder": "​",
            "style": "IPY_MODEL_8941b27e926d4dac9b23324c12b1c9da",
            "value": "Downloading data: 100%"
          }
        },
        "73a31513d96a482e8037d3bc4b689107": {
          "model_module": "@jupyter-widgets/controls",
          "model_module_version": "1.5.0",
          "model_name": "FloatProgressModel",
          "state": {
            "_dom_classes": [],
            "_model_module": "@jupyter-widgets/controls",
            "_model_module_version": "1.5.0",
            "_model_name": "FloatProgressModel",
            "_view_count": null,
            "_view_module": "@jupyter-widgets/controls",
            "_view_module_version": "1.5.0",
            "_view_name": "ProgressView",
            "bar_style": "success",
            "description": "",
            "description_tooltip": null,
            "layout": "IPY_MODEL_e57f079c527148a581b10a5756d18f34",
            "max": 1217,
            "min": 0,
            "orientation": "horizontal",
            "style": "IPY_MODEL_3f0b43e1e09443b29f89391dacbeefd8",
            "value": 1217
          }
        },
        "73e0b60e875c49ed81774942faec8e3a": {
          "model_module": "@jupyter-widgets/controls",
          "model_module_version": "1.5.0",
          "model_name": "HBoxModel",
          "state": {
            "_dom_classes": [],
            "_model_module": "@jupyter-widgets/controls",
            "_model_module_version": "1.5.0",
            "_model_name": "HBoxModel",
            "_view_count": null,
            "_view_module": "@jupyter-widgets/controls",
            "_view_module_version": "1.5.0",
            "_view_name": "HBoxView",
            "box_style": "",
            "children": [
              "IPY_MODEL_72ef1dc828f84e739bafbf96b6157736",
              "IPY_MODEL_f441917ec26942fd999b5e6bd293a9bc",
              "IPY_MODEL_627c8e6344824699abb58321d7adbfaf"
            ],
            "layout": "IPY_MODEL_a63bbffe40a241fd906ac5a6c598dde0"
          }
        },
        "740806e7ea234f82b434023a881bc073": {
          "model_module": "@jupyter-widgets/controls",
          "model_module_version": "1.5.0",
          "model_name": "HBoxModel",
          "state": {
            "_dom_classes": [],
            "_model_module": "@jupyter-widgets/controls",
            "_model_module_version": "1.5.0",
            "_model_name": "HBoxModel",
            "_view_count": null,
            "_view_module": "@jupyter-widgets/controls",
            "_view_module_version": "1.5.0",
            "_view_name": "HBoxView",
            "box_style": "",
            "children": [
              "IPY_MODEL_0b904d186b724a2e9cfa71a61351ae1e",
              "IPY_MODEL_8c45f4edaea54474b96f0869a04643b9",
              "IPY_MODEL_461593ca1e524d7c9ae1ca1f8ebbb107"
            ],
            "layout": "IPY_MODEL_c0abb3c2c21b4e54b55747d166a33516"
          }
        },
        "7450f856f9bf4a739784cfd9c2d8befd": {
          "model_module": "@jupyter-widgets/base",
          "model_module_version": "1.2.0",
          "model_name": "LayoutModel",
          "state": {
            "_model_module": "@jupyter-widgets/base",
            "_model_module_version": "1.2.0",
            "_model_name": "LayoutModel",
            "_view_count": null,
            "_view_module": "@jupyter-widgets/base",
            "_view_module_version": "1.2.0",
            "_view_name": "LayoutView",
            "align_content": null,
            "align_items": null,
            "align_self": null,
            "border": null,
            "bottom": null,
            "display": null,
            "flex": null,
            "flex_flow": null,
            "grid_area": null,
            "grid_auto_columns": null,
            "grid_auto_flow": null,
            "grid_auto_rows": null,
            "grid_column": null,
            "grid_gap": null,
            "grid_row": null,
            "grid_template_areas": null,
            "grid_template_columns": null,
            "grid_template_rows": null,
            "height": null,
            "justify_content": null,
            "justify_items": null,
            "left": null,
            "margin": null,
            "max_height": null,
            "max_width": null,
            "min_height": null,
            "min_width": null,
            "object_fit": null,
            "object_position": null,
            "order": null,
            "overflow": null,
            "overflow_x": null,
            "overflow_y": null,
            "padding": null,
            "right": null,
            "top": null,
            "visibility": null,
            "width": null
          }
        },
        "753e498303c5458b8ac84438fc6d643a": {
          "model_module": "@jupyter-widgets/controls",
          "model_module_version": "1.5.0",
          "model_name": "HTMLModel",
          "state": {
            "_dom_classes": [],
            "_model_module": "@jupyter-widgets/controls",
            "_model_module_version": "1.5.0",
            "_model_name": "HTMLModel",
            "_view_count": null,
            "_view_module": "@jupyter-widgets/controls",
            "_view_module_version": "1.5.0",
            "_view_name": "HTMLView",
            "description": "",
            "description_tooltip": null,
            "layout": "IPY_MODEL_ae693345a6034caf8be60f76d324c033",
            "placeholder": "​",
            "style": "IPY_MODEL_8219e6aee25c48fe9e941a71be79e300",
            "value": " 648M/648M [00:02&lt;00:00, 279MB/s]"
          }
        },
        "76e022bb4e784f1fb4cacb260872caf9": {
          "model_module": "@jupyter-widgets/controls",
          "model_module_version": "1.5.0",
          "model_name": "HBoxModel",
          "state": {
            "_dom_classes": [],
            "_model_module": "@jupyter-widgets/controls",
            "_model_module_version": "1.5.0",
            "_model_name": "HBoxModel",
            "_view_count": null,
            "_view_module": "@jupyter-widgets/controls",
            "_view_module_version": "1.5.0",
            "_view_name": "HBoxView",
            "box_style": "",
            "children": [
              "IPY_MODEL_cf3558ab970542319c66c8b7f07fe709",
              "IPY_MODEL_7f1e775bd35c4261982e1a5ec31fe012",
              "IPY_MODEL_8164b6cb0d134838bea0da62ea9e6fdb"
            ],
            "layout": "IPY_MODEL_4b9c09b4d7d44f4fa4a0bd9f6a40aba7"
          }
        },
        "76e3b76bd3724815bb2eff127700632f": {
          "model_module": "@jupyter-widgets/controls",
          "model_module_version": "1.5.0",
          "model_name": "DescriptionStyleModel",
          "state": {
            "_model_module": "@jupyter-widgets/controls",
            "_model_module_version": "1.5.0",
            "_model_name": "DescriptionStyleModel",
            "_view_count": null,
            "_view_module": "@jupyter-widgets/base",
            "_view_module_version": "1.2.0",
            "_view_name": "StyleView",
            "description_width": ""
          }
        },
        "781239c163a64d1a9bfbca13de4310d2": {
          "model_module": "@jupyter-widgets/controls",
          "model_module_version": "1.5.0",
          "model_name": "DescriptionStyleModel",
          "state": {
            "_model_module": "@jupyter-widgets/controls",
            "_model_module_version": "1.5.0",
            "_model_name": "DescriptionStyleModel",
            "_view_count": null,
            "_view_module": "@jupyter-widgets/base",
            "_view_module_version": "1.2.0",
            "_view_name": "StyleView",
            "description_width": ""
          }
        },
        "78ec31e861f1449baece3b65f58f0008": {
          "model_module": "@jupyter-widgets/controls",
          "model_module_version": "1.5.0",
          "model_name": "ProgressStyleModel",
          "state": {
            "_model_module": "@jupyter-widgets/controls",
            "_model_module_version": "1.5.0",
            "_model_name": "ProgressStyleModel",
            "_view_count": null,
            "_view_module": "@jupyter-widgets/base",
            "_view_module_version": "1.2.0",
            "_view_name": "StyleView",
            "bar_color": null,
            "description_width": ""
          }
        },
        "79e5a117c7a34c9f9efeb2907f57f13b": {
          "model_module": "@jupyter-widgets/controls",
          "model_module_version": "1.5.0",
          "model_name": "HBoxModel",
          "state": {
            "_dom_classes": [],
            "_model_module": "@jupyter-widgets/controls",
            "_model_module_version": "1.5.0",
            "_model_name": "HBoxModel",
            "_view_count": null,
            "_view_module": "@jupyter-widgets/controls",
            "_view_module_version": "1.5.0",
            "_view_name": "HBoxView",
            "box_style": "",
            "children": [
              "IPY_MODEL_f3d9e41a989a4e12a1af15c2047be16c",
              "IPY_MODEL_73a31513d96a482e8037d3bc4b689107",
              "IPY_MODEL_6f325fcd67b14da1b4471b4c3e1e1af9"
            ],
            "layout": "IPY_MODEL_5cf367d59ba54c96a9ae24a8cd524a2b"
          }
        },
        "7cd43b81abb146659c01adeb85fb738b": {
          "model_module": "@jupyter-widgets/controls",
          "model_module_version": "1.5.0",
          "model_name": "LabelModel",
          "state": {
            "_dom_classes": [],
            "_model_module": "@jupyter-widgets/controls",
            "_model_module_version": "1.5.0",
            "_model_name": "LabelModel",
            "_view_count": null,
            "_view_module": "@jupyter-widgets/controls",
            "_view_module_version": "1.5.0",
            "_view_name": "LabelView",
            "description": "",
            "description_tooltip": null,
            "layout": "IPY_MODEL_b0614165e3f54323810e1f3675b3ede9",
            "placeholder": "​",
            "style": "IPY_MODEL_2980c8d97aca482fbb6d3c6f6ead1ac1",
            "value": "Connecting..."
          }
        },
        "7d3733ba09234c12b1dafc6319fb7f6c": {
          "model_module": "@jupyter-widgets/controls",
          "model_module_version": "1.5.0",
          "model_name": "HTMLModel",
          "state": {
            "_dom_classes": [],
            "_model_module": "@jupyter-widgets/controls",
            "_model_module_version": "1.5.0",
            "_model_name": "HTMLModel",
            "_view_count": null,
            "_view_module": "@jupyter-widgets/controls",
            "_view_module_version": "1.5.0",
            "_view_name": "HTMLView",
            "description": "",
            "description_tooltip": null,
            "layout": "IPY_MODEL_6826a773e53445e581915ade1ce38d4d",
            "placeholder": "​",
            "style": "IPY_MODEL_15c4afb2eadd4480b32561a9b9561b66",
            "value": " 67349/67349 [00:00&lt;00:00, 758685.63 examples/s]"
          }
        },
        "7d71644a85264693a1bf9a1f63ce6e7a": {
          "model_module": "@jupyter-widgets/controls",
          "model_module_version": "1.5.0",
          "model_name": "LabelModel",
          "state": {
            "_dom_classes": [],
            "_model_module": "@jupyter-widgets/controls",
            "_model_module_version": "1.5.0",
            "_model_name": "LabelModel",
            "_view_count": null,
            "_view_module": "@jupyter-widgets/controls",
            "_view_module_version": "1.5.0",
            "_view_name": "LabelView",
            "description": "",
            "description_tooltip": null,
            "layout": "IPY_MODEL_175aac9a69f7403f96c381e5bff7d27f",
            "placeholder": "​",
            "style": "IPY_MODEL_d82a0bf64a404bd78abec3e408879ff3",
            "value": "Your token has been saved in your configured git credential helpers (store)."
          }
        },
        "7e184fff97e343d98fc796b4f8b2becb": {
          "model_module": "@jupyter-widgets/controls",
          "model_module_version": "1.5.0",
          "model_name": "PasswordModel",
          "state": {
            "_dom_classes": [],
            "_model_module": "@jupyter-widgets/controls",
            "_model_module_version": "1.5.0",
            "_model_name": "PasswordModel",
            "_view_count": null,
            "_view_module": "@jupyter-widgets/controls",
            "_view_module_version": "1.5.0",
            "_view_name": "PasswordView",
            "continuous_update": true,
            "description": "Token:",
            "description_tooltip": null,
            "disabled": false,
            "layout": "IPY_MODEL_4d29ce11d52645418244d97c7c0c81fd",
            "placeholder": "​",
            "style": "IPY_MODEL_f550c88ce6c749768709dc3b036ea74d",
            "value": ""
          }
        },
        "7f1e775bd35c4261982e1a5ec31fe012": {
          "model_module": "@jupyter-widgets/controls",
          "model_module_version": "1.5.0",
          "model_name": "FloatProgressModel",
          "state": {
            "_dom_classes": [],
            "_model_module": "@jupyter-widgets/controls",
            "_model_module_version": "1.5.0",
            "_model_name": "FloatProgressModel",
            "_view_count": null,
            "_view_module": "@jupyter-widgets/controls",
            "_view_module_version": "1.5.0",
            "_view_name": "ProgressView",
            "bar_style": "success",
            "description": "",
            "description_tooltip": null,
            "layout": "IPY_MODEL_40a043df48a1449ea04027cb60ccee0a",
            "max": 872,
            "min": 0,
            "orientation": "horizontal",
            "style": "IPY_MODEL_6aad578766084abeab4f3e8ea6c174bf",
            "value": 872
          }
        },
        "8164b6cb0d134838bea0da62ea9e6fdb": {
          "model_module": "@jupyter-widgets/controls",
          "model_module_version": "1.5.0",
          "model_name": "HTMLModel",
          "state": {
            "_dom_classes": [],
            "_model_module": "@jupyter-widgets/controls",
            "_model_module_version": "1.5.0",
            "_model_name": "HTMLModel",
            "_view_count": null,
            "_view_module": "@jupyter-widgets/controls",
            "_view_module_version": "1.5.0",
            "_view_name": "HTMLView",
            "description": "",
            "description_tooltip": null,
            "layout": "IPY_MODEL_95956e995ce64c368014de741a809def",
            "placeholder": "​",
            "style": "IPY_MODEL_4a73adeceb18494c8619476e174b7b8b",
            "value": " 872/872 [00:00&lt;00:00, 18702.26 examples/s]"
          }
        },
        "8219e6aee25c48fe9e941a71be79e300": {
          "model_module": "@jupyter-widgets/controls",
          "model_module_version": "1.5.0",
          "model_name": "DescriptionStyleModel",
          "state": {
            "_model_module": "@jupyter-widgets/controls",
            "_model_module_version": "1.5.0",
            "_model_name": "DescriptionStyleModel",
            "_view_count": null,
            "_view_module": "@jupyter-widgets/base",
            "_view_module_version": "1.2.0",
            "_view_name": "StyleView",
            "description_width": ""
          }
        },
        "82ab9beda4704abeb035e3b93f8e387d": {
          "model_module": "@jupyter-widgets/controls",
          "model_module_version": "1.5.0",
          "model_name": "ProgressStyleModel",
          "state": {
            "_model_module": "@jupyter-widgets/controls",
            "_model_module_version": "1.5.0",
            "_model_name": "ProgressStyleModel",
            "_view_count": null,
            "_view_module": "@jupyter-widgets/base",
            "_view_module_version": "1.2.0",
            "_view_name": "StyleView",
            "bar_color": null,
            "description_width": ""
          }
        },
        "82d3b8fdf67e472eab1203de92e1371d": {
          "model_module": "@jupyter-widgets/controls",
          "model_module_version": "1.5.0",
          "model_name": "ProgressStyleModel",
          "state": {
            "_model_module": "@jupyter-widgets/controls",
            "_model_module_version": "1.5.0",
            "_model_name": "ProgressStyleModel",
            "_view_count": null,
            "_view_module": "@jupyter-widgets/base",
            "_view_module_version": "1.2.0",
            "_view_name": "StyleView",
            "bar_color": null,
            "description_width": ""
          }
        },
        "83a3229fea864e97ad6481acd095ef77": {
          "model_module": "@jupyter-widgets/controls",
          "model_module_version": "1.5.0",
          "model_name": "DescriptionStyleModel",
          "state": {
            "_model_module": "@jupyter-widgets/controls",
            "_model_module_version": "1.5.0",
            "_model_name": "DescriptionStyleModel",
            "_view_count": null,
            "_view_module": "@jupyter-widgets/base",
            "_view_module_version": "1.2.0",
            "_view_name": "StyleView",
            "description_width": ""
          }
        },
        "8421bda6dea94db8bffd28f8ac219724": {
          "model_module": "@jupyter-widgets/controls",
          "model_module_version": "1.5.0",
          "model_name": "DescriptionStyleModel",
          "state": {
            "_model_module": "@jupyter-widgets/controls",
            "_model_module_version": "1.5.0",
            "_model_name": "DescriptionStyleModel",
            "_view_count": null,
            "_view_module": "@jupyter-widgets/base",
            "_view_module_version": "1.2.0",
            "_view_name": "StyleView",
            "description_width": ""
          }
        },
        "8493e7c94f304137b91bd306126322a9": {
          "model_module": "@jupyter-widgets/controls",
          "model_module_version": "1.5.0",
          "model_name": "DescriptionStyleModel",
          "state": {
            "_model_module": "@jupyter-widgets/controls",
            "_model_module_version": "1.5.0",
            "_model_name": "DescriptionStyleModel",
            "_view_count": null,
            "_view_module": "@jupyter-widgets/base",
            "_view_module_version": "1.2.0",
            "_view_name": "StyleView",
            "description_width": ""
          }
        },
        "86344ab381e648f1be45b11a7645bb3b": {
          "model_module": "@jupyter-widgets/base",
          "model_module_version": "1.2.0",
          "model_name": "LayoutModel",
          "state": {
            "_model_module": "@jupyter-widgets/base",
            "_model_module_version": "1.2.0",
            "_model_name": "LayoutModel",
            "_view_count": null,
            "_view_module": "@jupyter-widgets/base",
            "_view_module_version": "1.2.0",
            "_view_name": "LayoutView",
            "align_content": null,
            "align_items": null,
            "align_self": null,
            "border": null,
            "bottom": null,
            "display": null,
            "flex": null,
            "flex_flow": null,
            "grid_area": null,
            "grid_auto_columns": null,
            "grid_auto_flow": null,
            "grid_auto_rows": null,
            "grid_column": null,
            "grid_gap": null,
            "grid_row": null,
            "grid_template_areas": null,
            "grid_template_columns": null,
            "grid_template_rows": null,
            "height": null,
            "justify_content": null,
            "justify_items": null,
            "left": null,
            "margin": null,
            "max_height": null,
            "max_width": null,
            "min_height": null,
            "min_width": null,
            "object_fit": null,
            "object_position": null,
            "order": null,
            "overflow": null,
            "overflow_x": null,
            "overflow_y": null,
            "padding": null,
            "right": null,
            "top": null,
            "visibility": null,
            "width": null
          }
        },
        "875e43ba54e34fdea92cfacd468da428": {
          "model_module": "@jupyter-widgets/base",
          "model_module_version": "1.2.0",
          "model_name": "LayoutModel",
          "state": {
            "_model_module": "@jupyter-widgets/base",
            "_model_module_version": "1.2.0",
            "_model_name": "LayoutModel",
            "_view_count": null,
            "_view_module": "@jupyter-widgets/base",
            "_view_module_version": "1.2.0",
            "_view_name": "LayoutView",
            "align_content": null,
            "align_items": null,
            "align_self": null,
            "border": null,
            "bottom": null,
            "display": null,
            "flex": null,
            "flex_flow": null,
            "grid_area": null,
            "grid_auto_columns": null,
            "grid_auto_flow": null,
            "grid_auto_rows": null,
            "grid_column": null,
            "grid_gap": null,
            "grid_row": null,
            "grid_template_areas": null,
            "grid_template_columns": null,
            "grid_template_rows": null,
            "height": null,
            "justify_content": null,
            "justify_items": null,
            "left": null,
            "margin": null,
            "max_height": null,
            "max_width": null,
            "min_height": null,
            "min_width": null,
            "object_fit": null,
            "object_position": null,
            "order": null,
            "overflow": null,
            "overflow_x": null,
            "overflow_y": null,
            "padding": null,
            "right": null,
            "top": null,
            "visibility": null,
            "width": null
          }
        },
        "87a9ba9ae982434ea871f8473304b6f3": {
          "model_module": "@jupyter-widgets/controls",
          "model_module_version": "1.5.0",
          "model_name": "FloatProgressModel",
          "state": {
            "_dom_classes": [],
            "_model_module": "@jupyter-widgets/controls",
            "_model_module_version": "1.5.0",
            "_model_name": "FloatProgressModel",
            "_view_count": null,
            "_view_module": "@jupyter-widgets/controls",
            "_view_module_version": "1.5.0",
            "_view_name": "ProgressView",
            "bar_style": "success",
            "description": "",
            "description_tooltip": null,
            "layout": "IPY_MODEL_bf96238c5a69488bb02f9c51195d5ac6",
            "max": 898822,
            "min": 0,
            "orientation": "horizontal",
            "style": "IPY_MODEL_3abfeff5ce604b0d9cea0915054477d7",
            "value": 898822
          }
        },
        "87e5326accfb447c8e1e5170c535bf59": {
          "model_module": "@jupyter-widgets/controls",
          "model_module_version": "1.5.0",
          "model_name": "HTMLModel",
          "state": {
            "_dom_classes": [],
            "_model_module": "@jupyter-widgets/controls",
            "_model_module_version": "1.5.0",
            "_model_name": "HTMLModel",
            "_view_count": null,
            "_view_module": "@jupyter-widgets/controls",
            "_view_module_version": "1.5.0",
            "_view_name": "HTMLView",
            "description": "",
            "description_tooltip": null,
            "layout": "IPY_MODEL_97c2e4ea29584c7094814fa516eccfea",
            "placeholder": "​",
            "style": "IPY_MODEL_3afe710b428146a28634240d1d2718b7",
            "value": " 772/772 [00:00&lt;00:00, 65.4kB/s]"
          }
        },
        "886a9a9f39b243d3a4e23064e168c9b2": {
          "model_module": "@jupyter-widgets/controls",
          "model_module_version": "1.5.0",
          "model_name": "HTMLModel",
          "state": {
            "_dom_classes": [],
            "_model_module": "@jupyter-widgets/controls",
            "_model_module_version": "1.5.0",
            "_model_name": "HTMLModel",
            "_view_count": null,
            "_view_module": "@jupyter-widgets/controls",
            "_view_module_version": "1.5.0",
            "_view_name": "HTMLView",
            "description": "",
            "description_tooltip": null,
            "layout": "IPY_MODEL_7450f856f9bf4a739784cfd9c2d8befd",
            "placeholder": "​",
            "style": "IPY_MODEL_e8a9e336c6864211b85d2e911338a5db",
            "value": " 1.09k/1.09k [00:00&lt;00:00, 101kB/s]"
          }
        },
        "88b028fd82c34ce5addfd19954d7088e": {
          "model_module": "@jupyter-widgets/controls",
          "model_module_version": "1.5.0",
          "model_name": "DescriptionStyleModel",
          "state": {
            "_model_module": "@jupyter-widgets/controls",
            "_model_module_version": "1.5.0",
            "_model_name": "DescriptionStyleModel",
            "_view_count": null,
            "_view_module": "@jupyter-widgets/base",
            "_view_module_version": "1.2.0",
            "_view_name": "StyleView",
            "description_width": ""
          }
        },
        "89131bcc6db04ff3873299637446b244": {
          "model_module": "@jupyter-widgets/controls",
          "model_module_version": "1.5.0",
          "model_name": "DescriptionStyleModel",
          "state": {
            "_model_module": "@jupyter-widgets/controls",
            "_model_module_version": "1.5.0",
            "_model_name": "DescriptionStyleModel",
            "_view_count": null,
            "_view_module": "@jupyter-widgets/base",
            "_view_module_version": "1.2.0",
            "_view_name": "StyleView",
            "description_width": ""
          }
        },
        "8941b27e926d4dac9b23324c12b1c9da": {
          "model_module": "@jupyter-widgets/controls",
          "model_module_version": "1.5.0",
          "model_name": "DescriptionStyleModel",
          "state": {
            "_model_module": "@jupyter-widgets/controls",
            "_model_module_version": "1.5.0",
            "_model_name": "DescriptionStyleModel",
            "_view_count": null,
            "_view_module": "@jupyter-widgets/base",
            "_view_module_version": "1.2.0",
            "_view_name": "StyleView",
            "description_width": ""
          }
        },
        "89508370116540b88ededed3021190d0": {
          "model_module": "@jupyter-widgets/base",
          "model_module_version": "1.2.0",
          "model_name": "LayoutModel",
          "state": {
            "_model_module": "@jupyter-widgets/base",
            "_model_module_version": "1.2.0",
            "_model_name": "LayoutModel",
            "_view_count": null,
            "_view_module": "@jupyter-widgets/base",
            "_view_module_version": "1.2.0",
            "_view_name": "LayoutView",
            "align_content": null,
            "align_items": null,
            "align_self": null,
            "border": null,
            "bottom": null,
            "display": null,
            "flex": null,
            "flex_flow": null,
            "grid_area": null,
            "grid_auto_columns": null,
            "grid_auto_flow": null,
            "grid_auto_rows": null,
            "grid_column": null,
            "grid_gap": null,
            "grid_row": null,
            "grid_template_areas": null,
            "grid_template_columns": null,
            "grid_template_rows": null,
            "height": null,
            "justify_content": null,
            "justify_items": null,
            "left": null,
            "margin": null,
            "max_height": null,
            "max_width": null,
            "min_height": null,
            "min_width": null,
            "object_fit": null,
            "object_position": null,
            "order": null,
            "overflow": null,
            "overflow_x": null,
            "overflow_y": null,
            "padding": null,
            "right": null,
            "top": null,
            "visibility": null,
            "width": null
          }
        },
        "8b4f6dc3e61540efb5e454efdbefef68": {
          "model_module": "@jupyter-widgets/base",
          "model_module_version": "1.2.0",
          "model_name": "LayoutModel",
          "state": {
            "_model_module": "@jupyter-widgets/base",
            "_model_module_version": "1.2.0",
            "_model_name": "LayoutModel",
            "_view_count": null,
            "_view_module": "@jupyter-widgets/base",
            "_view_module_version": "1.2.0",
            "_view_name": "LayoutView",
            "align_content": null,
            "align_items": null,
            "align_self": null,
            "border": null,
            "bottom": null,
            "display": null,
            "flex": null,
            "flex_flow": null,
            "grid_area": null,
            "grid_auto_columns": null,
            "grid_auto_flow": null,
            "grid_auto_rows": null,
            "grid_column": null,
            "grid_gap": null,
            "grid_row": null,
            "grid_template_areas": null,
            "grid_template_columns": null,
            "grid_template_rows": null,
            "height": null,
            "justify_content": null,
            "justify_items": null,
            "left": null,
            "margin": null,
            "max_height": null,
            "max_width": null,
            "min_height": null,
            "min_width": null,
            "object_fit": null,
            "object_position": null,
            "order": null,
            "overflow": null,
            "overflow_x": null,
            "overflow_y": null,
            "padding": null,
            "right": null,
            "top": null,
            "visibility": null,
            "width": null
          }
        },
        "8c45f4edaea54474b96f0869a04643b9": {
          "model_module": "@jupyter-widgets/controls",
          "model_module_version": "1.5.0",
          "model_name": "FloatProgressModel",
          "state": {
            "_dom_classes": [],
            "_model_module": "@jupyter-widgets/controls",
            "_model_module_version": "1.5.0",
            "_model_name": "FloatProgressModel",
            "_view_count": null,
            "_view_module": "@jupyter-widgets/controls",
            "_view_module_version": "1.5.0",
            "_view_name": "ProgressView",
            "bar_style": "success",
            "description": "",
            "description_tooltip": null,
            "layout": "IPY_MODEL_59d934fe91e14fde978507afa7d5036a",
            "max": 1821,
            "min": 0,
            "orientation": "horizontal",
            "style": "IPY_MODEL_f94fe4707f1e4a499fb32665a4c61529",
            "value": 1821
          }
        },
        "8cf288edeb4a494eb619d0865e0b21da": {
          "model_module": "@jupyter-widgets/base",
          "model_module_version": "1.2.0",
          "model_name": "LayoutModel",
          "state": {
            "_model_module": "@jupyter-widgets/base",
            "_model_module_version": "1.2.0",
            "_model_name": "LayoutModel",
            "_view_count": null,
            "_view_module": "@jupyter-widgets/base",
            "_view_module_version": "1.2.0",
            "_view_name": "LayoutView",
            "align_content": null,
            "align_items": null,
            "align_self": null,
            "border": null,
            "bottom": null,
            "display": null,
            "flex": null,
            "flex_flow": null,
            "grid_area": null,
            "grid_auto_columns": null,
            "grid_auto_flow": null,
            "grid_auto_rows": null,
            "grid_column": null,
            "grid_gap": null,
            "grid_row": null,
            "grid_template_areas": null,
            "grid_template_columns": null,
            "grid_template_rows": null,
            "height": null,
            "justify_content": null,
            "justify_items": null,
            "left": null,
            "margin": null,
            "max_height": null,
            "max_width": null,
            "min_height": null,
            "min_width": null,
            "object_fit": null,
            "object_position": null,
            "order": null,
            "overflow": null,
            "overflow_x": null,
            "overflow_y": null,
            "padding": null,
            "right": null,
            "top": null,
            "visibility": null,
            "width": null
          }
        },
        "8d3fa3243f8b491a83404cdd3227e9a2": {
          "model_module": "@jupyter-widgets/base",
          "model_module_version": "1.2.0",
          "model_name": "LayoutModel",
          "state": {
            "_model_module": "@jupyter-widgets/base",
            "_model_module_version": "1.2.0",
            "_model_name": "LayoutModel",
            "_view_count": null,
            "_view_module": "@jupyter-widgets/base",
            "_view_module_version": "1.2.0",
            "_view_name": "LayoutView",
            "align_content": null,
            "align_items": null,
            "align_self": null,
            "border": null,
            "bottom": null,
            "display": null,
            "flex": null,
            "flex_flow": null,
            "grid_area": null,
            "grid_auto_columns": null,
            "grid_auto_flow": null,
            "grid_auto_rows": null,
            "grid_column": null,
            "grid_gap": null,
            "grid_row": null,
            "grid_template_areas": null,
            "grid_template_columns": null,
            "grid_template_rows": null,
            "height": null,
            "justify_content": null,
            "justify_items": null,
            "left": null,
            "margin": null,
            "max_height": null,
            "max_width": null,
            "min_height": null,
            "min_width": null,
            "object_fit": null,
            "object_position": null,
            "order": null,
            "overflow": null,
            "overflow_x": null,
            "overflow_y": null,
            "padding": null,
            "right": null,
            "top": null,
            "visibility": null,
            "width": null
          }
        },
        "8e1496bf5bcf4e8099899fa7fffde28f": {
          "model_module": "@jupyter-widgets/controls",
          "model_module_version": "1.5.0",
          "model_name": "DescriptionStyleModel",
          "state": {
            "_model_module": "@jupyter-widgets/controls",
            "_model_module_version": "1.5.0",
            "_model_name": "DescriptionStyleModel",
            "_view_count": null,
            "_view_module": "@jupyter-widgets/base",
            "_view_module_version": "1.2.0",
            "_view_name": "StyleView",
            "description_width": ""
          }
        },
        "8e184b5019be4893bb44b02d0cfe54eb": {
          "model_module": "@jupyter-widgets/controls",
          "model_module_version": "1.5.0",
          "model_name": "LabelModel",
          "state": {
            "_dom_classes": [],
            "_model_module": "@jupyter-widgets/controls",
            "_model_module_version": "1.5.0",
            "_model_name": "LabelModel",
            "_view_count": null,
            "_view_module": "@jupyter-widgets/controls",
            "_view_module_version": "1.5.0",
            "_view_name": "LabelView",
            "description": "",
            "description_tooltip": null,
            "layout": "IPY_MODEL_ce930f28aa6341ef8661122a1b20b85a",
            "placeholder": "​",
            "style": "IPY_MODEL_66e9400a54fc4293ad361dc7bf7fb02f",
            "value": "Login successful"
          }
        },
        "8e1c4d9fe14646f7ac3042aca26297b1": {
          "model_module": "@jupyter-widgets/controls",
          "model_module_version": "1.5.0",
          "model_name": "HBoxModel",
          "state": {
            "_dom_classes": [],
            "_model_module": "@jupyter-widgets/controls",
            "_model_module_version": "1.5.0",
            "_model_name": "HBoxModel",
            "_view_count": null,
            "_view_module": "@jupyter-widgets/controls",
            "_view_module_version": "1.5.0",
            "_view_name": "HBoxView",
            "box_style": "",
            "children": [
              "IPY_MODEL_eecb4a55363b4f71a543c0514dae3106",
              "IPY_MODEL_fe1c5241dc9c458da141246ba6976b80",
              "IPY_MODEL_753e498303c5458b8ac84438fc6d643a"
            ],
            "layout": "IPY_MODEL_e650245b4d744ae393f52703fe01c453"
          }
        },
        "8e583457cdca4ab5a6124359f742e877": {
          "model_module": "@jupyter-widgets/controls",
          "model_module_version": "1.5.0",
          "model_name": "HTMLModel",
          "state": {
            "_dom_classes": [],
            "_model_module": "@jupyter-widgets/controls",
            "_model_module_version": "1.5.0",
            "_model_name": "HTMLModel",
            "_view_count": null,
            "_view_module": "@jupyter-widgets/controls",
            "_view_module_version": "1.5.0",
            "_view_name": "HTMLView",
            "description": "",
            "description_tooltip": null,
            "layout": "IPY_MODEL_61e4ef79822e43cdb405355a9aa0d6ef",
            "placeholder": "​",
            "style": "IPY_MODEL_3e219b20c5c8464e8861cd1e6d0becb2",
            "value": "config.json: 100%"
          }
        },
        "8e7565b8b10f43b9a1b3aff7381b7e0c": {
          "model_module": "@jupyter-widgets/controls",
          "model_module_version": "1.5.0",
          "model_name": "FloatProgressModel",
          "state": {
            "_dom_classes": [],
            "_model_module": "@jupyter-widgets/controls",
            "_model_module_version": "1.5.0",
            "_model_name": "FloatProgressModel",
            "_view_count": null,
            "_view_module": "@jupyter-widgets/controls",
            "_view_module_version": "1.5.0",
            "_view_name": "ProgressView",
            "bar_style": "success",
            "description": "",
            "description_tooltip": null,
            "layout": "IPY_MODEL_e4f4885bfa7c4282beff25e78f3a0f11",
            "max": 772,
            "min": 0,
            "orientation": "horizontal",
            "style": "IPY_MODEL_3d138cd844f24e839b02abe673cd666b",
            "value": 772
          }
        },
        "8f203a1b633441cd9929ae6c603da4e7": {
          "model_module": "@jupyter-widgets/controls",
          "model_module_version": "1.5.0",
          "model_name": "ProgressStyleModel",
          "state": {
            "_model_module": "@jupyter-widgets/controls",
            "_model_module_version": "1.5.0",
            "_model_name": "ProgressStyleModel",
            "_view_count": null,
            "_view_module": "@jupyter-widgets/base",
            "_view_module_version": "1.2.0",
            "_view_name": "StyleView",
            "bar_color": null,
            "description_width": ""
          }
        },
        "8f59c441f3544d178147ba1c6975cb52": {
          "model_module": "@jupyter-widgets/base",
          "model_module_version": "1.2.0",
          "model_name": "LayoutModel",
          "state": {
            "_model_module": "@jupyter-widgets/base",
            "_model_module_version": "1.2.0",
            "_model_name": "LayoutModel",
            "_view_count": null,
            "_view_module": "@jupyter-widgets/base",
            "_view_module_version": "1.2.0",
            "_view_name": "LayoutView",
            "align_content": null,
            "align_items": null,
            "align_self": null,
            "border": null,
            "bottom": null,
            "display": null,
            "flex": null,
            "flex_flow": null,
            "grid_area": null,
            "grid_auto_columns": null,
            "grid_auto_flow": null,
            "grid_auto_rows": null,
            "grid_column": null,
            "grid_gap": null,
            "grid_row": null,
            "grid_template_areas": null,
            "grid_template_columns": null,
            "grid_template_rows": null,
            "height": null,
            "justify_content": null,
            "justify_items": null,
            "left": null,
            "margin": null,
            "max_height": null,
            "max_width": null,
            "min_height": null,
            "min_width": null,
            "object_fit": null,
            "object_position": null,
            "order": null,
            "overflow": null,
            "overflow_x": null,
            "overflow_y": null,
            "padding": null,
            "right": null,
            "top": null,
            "visibility": null,
            "width": null
          }
        },
        "8f79718a265648dca56ec1ca67e47c44": {
          "model_module": "@jupyter-widgets/base",
          "model_module_version": "1.2.0",
          "model_name": "LayoutModel",
          "state": {
            "_model_module": "@jupyter-widgets/base",
            "_model_module_version": "1.2.0",
            "_model_name": "LayoutModel",
            "_view_count": null,
            "_view_module": "@jupyter-widgets/base",
            "_view_module_version": "1.2.0",
            "_view_name": "LayoutView",
            "align_content": null,
            "align_items": null,
            "align_self": null,
            "border": null,
            "bottom": null,
            "display": null,
            "flex": null,
            "flex_flow": null,
            "grid_area": null,
            "grid_auto_columns": null,
            "grid_auto_flow": null,
            "grid_auto_rows": null,
            "grid_column": null,
            "grid_gap": null,
            "grid_row": null,
            "grid_template_areas": null,
            "grid_template_columns": null,
            "grid_template_rows": null,
            "height": null,
            "justify_content": null,
            "justify_items": null,
            "left": null,
            "margin": null,
            "max_height": null,
            "max_width": null,
            "min_height": null,
            "min_width": null,
            "object_fit": null,
            "object_position": null,
            "order": null,
            "overflow": null,
            "overflow_x": null,
            "overflow_y": null,
            "padding": null,
            "right": null,
            "top": null,
            "visibility": null,
            "width": null
          }
        },
        "9021eade7c84492ba3f4530689e157f9": {
          "model_module": "@jupyter-widgets/controls",
          "model_module_version": "1.5.0",
          "model_name": "DescriptionStyleModel",
          "state": {
            "_model_module": "@jupyter-widgets/controls",
            "_model_module_version": "1.5.0",
            "_model_name": "DescriptionStyleModel",
            "_view_count": null,
            "_view_module": "@jupyter-widgets/base",
            "_view_module_version": "1.2.0",
            "_view_name": "StyleView",
            "description_width": ""
          }
        },
        "90863fa6255f4028979011cdab205911": {
          "model_module": "@jupyter-widgets/base",
          "model_module_version": "1.2.0",
          "model_name": "LayoutModel",
          "state": {
            "_model_module": "@jupyter-widgets/base",
            "_model_module_version": "1.2.0",
            "_model_name": "LayoutModel",
            "_view_count": null,
            "_view_module": "@jupyter-widgets/base",
            "_view_module_version": "1.2.0",
            "_view_name": "LayoutView",
            "align_content": null,
            "align_items": "center",
            "align_self": null,
            "border": null,
            "bottom": null,
            "display": "flex",
            "flex": null,
            "flex_flow": "column",
            "grid_area": null,
            "grid_auto_columns": null,
            "grid_auto_flow": null,
            "grid_auto_rows": null,
            "grid_column": null,
            "grid_gap": null,
            "grid_row": null,
            "grid_template_areas": null,
            "grid_template_columns": null,
            "grid_template_rows": null,
            "height": null,
            "justify_content": null,
            "justify_items": null,
            "left": null,
            "margin": null,
            "max_height": null,
            "max_width": null,
            "min_height": null,
            "min_width": null,
            "object_fit": null,
            "object_position": null,
            "order": null,
            "overflow": null,
            "overflow_x": null,
            "overflow_y": null,
            "padding": null,
            "right": null,
            "top": null,
            "visibility": null,
            "width": "50%"
          }
        },
        "908646b8545840debe3d3bab1f955ded": {
          "model_module": "@jupyter-widgets/controls",
          "model_module_version": "1.5.0",
          "model_name": "HBoxModel",
          "state": {
            "_dom_classes": [],
            "_model_module": "@jupyter-widgets/controls",
            "_model_module_version": "1.5.0",
            "_model_name": "HBoxModel",
            "_view_count": null,
            "_view_module": "@jupyter-widgets/controls",
            "_view_module_version": "1.5.0",
            "_view_name": "HBoxView",
            "box_style": "",
            "children": [
              "IPY_MODEL_db7ab168c5c64e458b0e9820ad02fa0a",
              "IPY_MODEL_4d1ca4fd686841c4a43d874575001b2f",
              "IPY_MODEL_255e25d714944313ba51a247f77dee2d"
            ],
            "layout": "IPY_MODEL_35cfb2bdec0c4490ac4c6d7f11c83d74"
          }
        },
        "92cf1f584e2f427aa711280b8b3856bc": {
          "model_module": "@jupyter-widgets/controls",
          "model_module_version": "1.5.0",
          "model_name": "LabelModel",
          "state": {
            "_dom_classes": [],
            "_model_module": "@jupyter-widgets/controls",
            "_model_module_version": "1.5.0",
            "_model_name": "LabelModel",
            "_view_count": null,
            "_view_module": "@jupyter-widgets/controls",
            "_view_module_version": "1.5.0",
            "_view_name": "LabelView",
            "description": "",
            "description_tooltip": null,
            "layout": "IPY_MODEL_62128a0618b64d6bbbda57b890fc17e4",
            "placeholder": "​",
            "style": "IPY_MODEL_89131bcc6db04ff3873299637446b244",
            "value": "Your token has been saved to /root/.cache/huggingface/token"
          }
        },
        "9347132674b24e7aa9f85eda49e8dc6f": {
          "model_module": "@jupyter-widgets/controls",
          "model_module_version": "1.5.0",
          "model_name": "DescriptionStyleModel",
          "state": {
            "_model_module": "@jupyter-widgets/controls",
            "_model_module_version": "1.5.0",
            "_model_name": "DescriptionStyleModel",
            "_view_count": null,
            "_view_module": "@jupyter-widgets/base",
            "_view_module_version": "1.2.0",
            "_view_name": "StyleView",
            "description_width": ""
          }
        },
        "9441cb5090294b8ea192546490aa184d": {
          "model_module": "@jupyter-widgets/base",
          "model_module_version": "1.2.0",
          "model_name": "LayoutModel",
          "state": {
            "_model_module": "@jupyter-widgets/base",
            "_model_module_version": "1.2.0",
            "_model_name": "LayoutModel",
            "_view_count": null,
            "_view_module": "@jupyter-widgets/base",
            "_view_module_version": "1.2.0",
            "_view_name": "LayoutView",
            "align_content": null,
            "align_items": null,
            "align_self": null,
            "border": null,
            "bottom": null,
            "display": null,
            "flex": null,
            "flex_flow": null,
            "grid_area": null,
            "grid_auto_columns": null,
            "grid_auto_flow": null,
            "grid_auto_rows": null,
            "grid_column": null,
            "grid_gap": null,
            "grid_row": null,
            "grid_template_areas": null,
            "grid_template_columns": null,
            "grid_template_rows": null,
            "height": null,
            "justify_content": null,
            "justify_items": null,
            "left": null,
            "margin": null,
            "max_height": null,
            "max_width": null,
            "min_height": null,
            "min_width": null,
            "object_fit": null,
            "object_position": null,
            "order": null,
            "overflow": null,
            "overflow_x": null,
            "overflow_y": null,
            "padding": null,
            "right": null,
            "top": null,
            "visibility": null,
            "width": null
          }
        },
        "95956e995ce64c368014de741a809def": {
          "model_module": "@jupyter-widgets/base",
          "model_module_version": "1.2.0",
          "model_name": "LayoutModel",
          "state": {
            "_model_module": "@jupyter-widgets/base",
            "_model_module_version": "1.2.0",
            "_model_name": "LayoutModel",
            "_view_count": null,
            "_view_module": "@jupyter-widgets/base",
            "_view_module_version": "1.2.0",
            "_view_name": "LayoutView",
            "align_content": null,
            "align_items": null,
            "align_self": null,
            "border": null,
            "bottom": null,
            "display": null,
            "flex": null,
            "flex_flow": null,
            "grid_area": null,
            "grid_auto_columns": null,
            "grid_auto_flow": null,
            "grid_auto_rows": null,
            "grid_column": null,
            "grid_gap": null,
            "grid_row": null,
            "grid_template_areas": null,
            "grid_template_columns": null,
            "grid_template_rows": null,
            "height": null,
            "justify_content": null,
            "justify_items": null,
            "left": null,
            "margin": null,
            "max_height": null,
            "max_width": null,
            "min_height": null,
            "min_width": null,
            "object_fit": null,
            "object_position": null,
            "order": null,
            "overflow": null,
            "overflow_x": null,
            "overflow_y": null,
            "padding": null,
            "right": null,
            "top": null,
            "visibility": null,
            "width": null
          }
        },
        "95ce9782a41844e69acafe4d00d4416c": {
          "model_module": "@jupyter-widgets/controls",
          "model_module_version": "1.5.0",
          "model_name": "DescriptionStyleModel",
          "state": {
            "_model_module": "@jupyter-widgets/controls",
            "_model_module_version": "1.5.0",
            "_model_name": "DescriptionStyleModel",
            "_view_count": null,
            "_view_module": "@jupyter-widgets/base",
            "_view_module_version": "1.2.0",
            "_view_name": "StyleView",
            "description_width": ""
          }
        },
        "96153b0969e1429cac936888bd0d7827": {
          "model_module": "@jupyter-widgets/controls",
          "model_module_version": "1.5.0",
          "model_name": "HBoxModel",
          "state": {
            "_dom_classes": [],
            "_model_module": "@jupyter-widgets/controls",
            "_model_module_version": "1.5.0",
            "_model_name": "HBoxModel",
            "_view_count": null,
            "_view_module": "@jupyter-widgets/controls",
            "_view_module_version": "1.5.0",
            "_view_name": "HBoxView",
            "box_style": "",
            "children": [
              "IPY_MODEL_71c70a8979bc416d9877ff009bed746a",
              "IPY_MODEL_d8e652e973c4440b97c7b79330a6ff59",
              "IPY_MODEL_0f7c4f1b1a7f4990ba161c14ebb0ec15"
            ],
            "layout": "IPY_MODEL_9f99df91f86641f097e02ff7150f3911"
          }
        },
        "96ec4f9c9a5f405a9f5a1653c796737d": {
          "model_module": "@jupyter-widgets/controls",
          "model_module_version": "1.5.0",
          "model_name": "DescriptionStyleModel",
          "state": {
            "_model_module": "@jupyter-widgets/controls",
            "_model_module_version": "1.5.0",
            "_model_name": "DescriptionStyleModel",
            "_view_count": null,
            "_view_module": "@jupyter-widgets/base",
            "_view_module_version": "1.2.0",
            "_view_name": "StyleView",
            "description_width": ""
          }
        },
        "978880cd16014b39b2f83deb305abd58": {
          "model_module": "@jupyter-widgets/base",
          "model_module_version": "1.2.0",
          "model_name": "LayoutModel",
          "state": {
            "_model_module": "@jupyter-widgets/base",
            "_model_module_version": "1.2.0",
            "_model_name": "LayoutModel",
            "_view_count": null,
            "_view_module": "@jupyter-widgets/base",
            "_view_module_version": "1.2.0",
            "_view_name": "LayoutView",
            "align_content": null,
            "align_items": null,
            "align_self": null,
            "border": null,
            "bottom": null,
            "display": null,
            "flex": null,
            "flex_flow": null,
            "grid_area": null,
            "grid_auto_columns": null,
            "grid_auto_flow": null,
            "grid_auto_rows": null,
            "grid_column": null,
            "grid_gap": null,
            "grid_row": null,
            "grid_template_areas": null,
            "grid_template_columns": null,
            "grid_template_rows": null,
            "height": null,
            "justify_content": null,
            "justify_items": null,
            "left": null,
            "margin": null,
            "max_height": null,
            "max_width": null,
            "min_height": null,
            "min_width": null,
            "object_fit": null,
            "object_position": null,
            "order": null,
            "overflow": null,
            "overflow_x": null,
            "overflow_y": null,
            "padding": null,
            "right": null,
            "top": null,
            "visibility": null,
            "width": null
          }
        },
        "97c2e4ea29584c7094814fa516eccfea": {
          "model_module": "@jupyter-widgets/base",
          "model_module_version": "1.2.0",
          "model_name": "LayoutModel",
          "state": {
            "_model_module": "@jupyter-widgets/base",
            "_model_module_version": "1.2.0",
            "_model_name": "LayoutModel",
            "_view_count": null,
            "_view_module": "@jupyter-widgets/base",
            "_view_module_version": "1.2.0",
            "_view_name": "LayoutView",
            "align_content": null,
            "align_items": null,
            "align_self": null,
            "border": null,
            "bottom": null,
            "display": null,
            "flex": null,
            "flex_flow": null,
            "grid_area": null,
            "grid_auto_columns": null,
            "grid_auto_flow": null,
            "grid_auto_rows": null,
            "grid_column": null,
            "grid_gap": null,
            "grid_row": null,
            "grid_template_areas": null,
            "grid_template_columns": null,
            "grid_template_rows": null,
            "height": null,
            "justify_content": null,
            "justify_items": null,
            "left": null,
            "margin": null,
            "max_height": null,
            "max_width": null,
            "min_height": null,
            "min_width": null,
            "object_fit": null,
            "object_position": null,
            "order": null,
            "overflow": null,
            "overflow_x": null,
            "overflow_y": null,
            "padding": null,
            "right": null,
            "top": null,
            "visibility": null,
            "width": null
          }
        },
        "9beb03182389477cafdb73b9c93b528c": {
          "model_module": "@jupyter-widgets/controls",
          "model_module_version": "1.5.0",
          "model_name": "HTMLModel",
          "state": {
            "_dom_classes": [],
            "_model_module": "@jupyter-widgets/controls",
            "_model_module_version": "1.5.0",
            "_model_name": "HTMLModel",
            "_view_count": null,
            "_view_module": "@jupyter-widgets/controls",
            "_view_module_version": "1.5.0",
            "_view_name": "HTMLView",
            "description": "",
            "description_tooltip": null,
            "layout": "IPY_MODEL_1ec6205ef95d4c24941c21f046097747",
            "placeholder": "​",
            "style": "IPY_MODEL_c7f40de6e98248cc954eae613776b02a",
            "value": " 3.11M/3.11M [00:00&lt;00:00, 4.32MB/s]"
          }
        },
        "9f99df91f86641f097e02ff7150f3911": {
          "model_module": "@jupyter-widgets/base",
          "model_module_version": "1.2.0",
          "model_name": "LayoutModel",
          "state": {
            "_model_module": "@jupyter-widgets/base",
            "_model_module_version": "1.2.0",
            "_model_name": "LayoutModel",
            "_view_count": null,
            "_view_module": "@jupyter-widgets/base",
            "_view_module_version": "1.2.0",
            "_view_name": "LayoutView",
            "align_content": null,
            "align_items": null,
            "align_self": null,
            "border": null,
            "bottom": null,
            "display": null,
            "flex": null,
            "flex_flow": null,
            "grid_area": null,
            "grid_auto_columns": null,
            "grid_auto_flow": null,
            "grid_auto_rows": null,
            "grid_column": null,
            "grid_gap": null,
            "grid_row": null,
            "grid_template_areas": null,
            "grid_template_columns": null,
            "grid_template_rows": null,
            "height": null,
            "justify_content": null,
            "justify_items": null,
            "left": null,
            "margin": null,
            "max_height": null,
            "max_width": null,
            "min_height": null,
            "min_width": null,
            "object_fit": null,
            "object_position": null,
            "order": null,
            "overflow": null,
            "overflow_x": null,
            "overflow_y": null,
            "padding": null,
            "right": null,
            "top": null,
            "visibility": null,
            "width": null
          }
        },
        "a0b49aab16fc4f37ad55bb93a1fd418f": {
          "model_module": "@jupyter-widgets/controls",
          "model_module_version": "1.5.0",
          "model_name": "FloatProgressModel",
          "state": {
            "_dom_classes": [],
            "_model_module": "@jupyter-widgets/controls",
            "_model_module_version": "1.5.0",
            "_model_name": "FloatProgressModel",
            "_view_count": null,
            "_view_module": "@jupyter-widgets/controls",
            "_view_module_version": "1.5.0",
            "_view_name": "ProgressView",
            "bar_style": "success",
            "description": "",
            "description_tooltip": null,
            "layout": "IPY_MODEL_b12f4f536f74455e817ec019aab1fe37",
            "max": 1839633783,
            "min": 0,
            "orientation": "horizontal",
            "style": "IPY_MODEL_78ec31e861f1449baece3b65f58f0008",
            "value": 1839633783
          }
        },
        "a0c9fb05ddc74739b1acae1428a428ae": {
          "model_module": "@jupyter-widgets/base",
          "model_module_version": "1.2.0",
          "model_name": "LayoutModel",
          "state": {
            "_model_module": "@jupyter-widgets/base",
            "_model_module_version": "1.2.0",
            "_model_name": "LayoutModel",
            "_view_count": null,
            "_view_module": "@jupyter-widgets/base",
            "_view_module_version": "1.2.0",
            "_view_name": "LayoutView",
            "align_content": null,
            "align_items": null,
            "align_self": null,
            "border": null,
            "bottom": null,
            "display": null,
            "flex": null,
            "flex_flow": null,
            "grid_area": null,
            "grid_auto_columns": null,
            "grid_auto_flow": null,
            "grid_auto_rows": null,
            "grid_column": null,
            "grid_gap": null,
            "grid_row": null,
            "grid_template_areas": null,
            "grid_template_columns": null,
            "grid_template_rows": null,
            "height": null,
            "justify_content": null,
            "justify_items": null,
            "left": null,
            "margin": null,
            "max_height": null,
            "max_width": null,
            "min_height": null,
            "min_width": null,
            "object_fit": null,
            "object_position": null,
            "order": null,
            "overflow": null,
            "overflow_x": null,
            "overflow_y": null,
            "padding": null,
            "right": null,
            "top": null,
            "visibility": null,
            "width": null
          }
        },
        "a1b1a21e63564deeb5f7d5143a25cea8": {
          "model_module": "@jupyter-widgets/controls",
          "model_module_version": "1.5.0",
          "model_name": "HBoxModel",
          "state": {
            "_dom_classes": [],
            "_model_module": "@jupyter-widgets/controls",
            "_model_module_version": "1.5.0",
            "_model_name": "HBoxModel",
            "_view_count": null,
            "_view_module": "@jupyter-widgets/controls",
            "_view_module_version": "1.5.0",
            "_view_name": "HBoxView",
            "box_style": "",
            "children": [
              "IPY_MODEL_6147740699854bef973a9abcbcec313e",
              "IPY_MODEL_a0b49aab16fc4f37ad55bb93a1fd418f",
              "IPY_MODEL_c60a87b197924b5c98f643c7cefc7653"
            ],
            "layout": "IPY_MODEL_3df228c2404d4053939f0690f2ede90d"
          }
        },
        "a4be5db2d7ec45f8bb83c45489c1c4ff": {
          "model_module": "@jupyter-widgets/base",
          "model_module_version": "1.2.0",
          "model_name": "LayoutModel",
          "state": {
            "_model_module": "@jupyter-widgets/base",
            "_model_module_version": "1.2.0",
            "_model_name": "LayoutModel",
            "_view_count": null,
            "_view_module": "@jupyter-widgets/base",
            "_view_module_version": "1.2.0",
            "_view_name": "LayoutView",
            "align_content": null,
            "align_items": null,
            "align_self": null,
            "border": null,
            "bottom": null,
            "display": null,
            "flex": null,
            "flex_flow": null,
            "grid_area": null,
            "grid_auto_columns": null,
            "grid_auto_flow": null,
            "grid_auto_rows": null,
            "grid_column": null,
            "grid_gap": null,
            "grid_row": null,
            "grid_template_areas": null,
            "grid_template_columns": null,
            "grid_template_rows": null,
            "height": null,
            "justify_content": null,
            "justify_items": null,
            "left": null,
            "margin": null,
            "max_height": null,
            "max_width": null,
            "min_height": null,
            "min_width": null,
            "object_fit": null,
            "object_position": null,
            "order": null,
            "overflow": null,
            "overflow_x": null,
            "overflow_y": null,
            "padding": null,
            "right": null,
            "top": null,
            "visibility": null,
            "width": null
          }
        },
        "a4c5edbe5551435db833ae533255ecac": {
          "model_module": "@jupyter-widgets/controls",
          "model_module_version": "1.5.0",
          "model_name": "DescriptionStyleModel",
          "state": {
            "_model_module": "@jupyter-widgets/controls",
            "_model_module_version": "1.5.0",
            "_model_name": "DescriptionStyleModel",
            "_view_count": null,
            "_view_module": "@jupyter-widgets/base",
            "_view_module_version": "1.2.0",
            "_view_name": "StyleView",
            "description_width": ""
          }
        },
        "a53ef8d95925430b8ac0d853820879ff": {
          "model_module": "@jupyter-widgets/base",
          "model_module_version": "1.2.0",
          "model_name": "LayoutModel",
          "state": {
            "_model_module": "@jupyter-widgets/base",
            "_model_module_version": "1.2.0",
            "_model_name": "LayoutModel",
            "_view_count": null,
            "_view_module": "@jupyter-widgets/base",
            "_view_module_version": "1.2.0",
            "_view_name": "LayoutView",
            "align_content": null,
            "align_items": null,
            "align_self": null,
            "border": null,
            "bottom": null,
            "display": null,
            "flex": null,
            "flex_flow": null,
            "grid_area": null,
            "grid_auto_columns": null,
            "grid_auto_flow": null,
            "grid_auto_rows": null,
            "grid_column": null,
            "grid_gap": null,
            "grid_row": null,
            "grid_template_areas": null,
            "grid_template_columns": null,
            "grid_template_rows": null,
            "height": null,
            "justify_content": null,
            "justify_items": null,
            "left": null,
            "margin": null,
            "max_height": null,
            "max_width": null,
            "min_height": null,
            "min_width": null,
            "object_fit": null,
            "object_position": null,
            "order": null,
            "overflow": null,
            "overflow_x": null,
            "overflow_y": null,
            "padding": null,
            "right": null,
            "top": null,
            "visibility": null,
            "width": null
          }
        },
        "a5b13b61a9964e5a87a5c62d9210ffb0": {
          "model_module": "@jupyter-widgets/controls",
          "model_module_version": "1.5.0",
          "model_name": "DescriptionStyleModel",
          "state": {
            "_model_module": "@jupyter-widgets/controls",
            "_model_module_version": "1.5.0",
            "_model_name": "DescriptionStyleModel",
            "_view_count": null,
            "_view_module": "@jupyter-widgets/base",
            "_view_module_version": "1.2.0",
            "_view_name": "StyleView",
            "description_width": ""
          }
        },
        "a6181c3ec687493bae295e8bc2beca8e": {
          "model_module": "@jupyter-widgets/controls",
          "model_module_version": "1.5.0",
          "model_name": "DescriptionStyleModel",
          "state": {
            "_model_module": "@jupyter-widgets/controls",
            "_model_module_version": "1.5.0",
            "_model_name": "DescriptionStyleModel",
            "_view_count": null,
            "_view_module": "@jupyter-widgets/base",
            "_view_module_version": "1.2.0",
            "_view_name": "StyleView",
            "description_width": ""
          }
        },
        "a63bbffe40a241fd906ac5a6c598dde0": {
          "model_module": "@jupyter-widgets/base",
          "model_module_version": "1.2.0",
          "model_name": "LayoutModel",
          "state": {
            "_model_module": "@jupyter-widgets/base",
            "_model_module_version": "1.2.0",
            "_model_name": "LayoutModel",
            "_view_count": null,
            "_view_module": "@jupyter-widgets/base",
            "_view_module_version": "1.2.0",
            "_view_name": "LayoutView",
            "align_content": null,
            "align_items": null,
            "align_self": null,
            "border": null,
            "bottom": null,
            "display": null,
            "flex": null,
            "flex_flow": null,
            "grid_area": null,
            "grid_auto_columns": null,
            "grid_auto_flow": null,
            "grid_auto_rows": null,
            "grid_column": null,
            "grid_gap": null,
            "grid_row": null,
            "grid_template_areas": null,
            "grid_template_columns": null,
            "grid_template_rows": null,
            "height": null,
            "justify_content": null,
            "justify_items": null,
            "left": null,
            "margin": null,
            "max_height": null,
            "max_width": null,
            "min_height": null,
            "min_width": null,
            "object_fit": null,
            "object_position": null,
            "order": null,
            "overflow": null,
            "overflow_x": null,
            "overflow_y": null,
            "padding": null,
            "right": null,
            "top": null,
            "visibility": null,
            "width": null
          }
        },
        "a6e5b45fd17b43f0964131c5e6c7d321": {
          "model_module": "@jupyter-widgets/controls",
          "model_module_version": "1.5.0",
          "model_name": "HTMLModel",
          "state": {
            "_dom_classes": [],
            "_model_module": "@jupyter-widgets/controls",
            "_model_module_version": "1.5.0",
            "_model_name": "HTMLModel",
            "_view_count": null,
            "_view_module": "@jupyter-widgets/controls",
            "_view_module_version": "1.5.0",
            "_view_name": "HTMLView",
            "description": "",
            "description_tooltip": null,
            "layout": "IPY_MODEL_a70d8f3cd4194d90b2660744252ce752",
            "placeholder": "​",
            "style": "IPY_MODEL_a5b13b61a9964e5a87a5c62d9210ffb0",
            "value": "merges.txt: 100%"
          }
        },
        "a701c33d17da476981d46f25535839da": {
          "model_module": "@jupyter-widgets/controls",
          "model_module_version": "1.5.0",
          "model_name": "HTMLModel",
          "state": {
            "_dom_classes": [],
            "_model_module": "@jupyter-widgets/controls",
            "_model_module_version": "1.5.0",
            "_model_name": "HTMLModel",
            "_view_count": null,
            "_view_module": "@jupyter-widgets/controls",
            "_view_module_version": "1.5.0",
            "_view_name": "HTMLView",
            "description": "",
            "description_tooltip": null,
            "layout": "IPY_MODEL_bff65059965a42489f9afaea32e3ca68",
            "placeholder": "​",
            "style": "IPY_MODEL_197472b385914ce2b8a513b0e7aac24c",
            "value": "vocab.json: 100%"
          }
        },
        "a70d8f3cd4194d90b2660744252ce752": {
          "model_module": "@jupyter-widgets/base",
          "model_module_version": "1.2.0",
          "model_name": "LayoutModel",
          "state": {
            "_model_module": "@jupyter-widgets/base",
            "_model_module_version": "1.2.0",
            "_model_name": "LayoutModel",
            "_view_count": null,
            "_view_module": "@jupyter-widgets/base",
            "_view_module_version": "1.2.0",
            "_view_name": "LayoutView",
            "align_content": null,
            "align_items": null,
            "align_self": null,
            "border": null,
            "bottom": null,
            "display": null,
            "flex": null,
            "flex_flow": null,
            "grid_area": null,
            "grid_auto_columns": null,
            "grid_auto_flow": null,
            "grid_auto_rows": null,
            "grid_column": null,
            "grid_gap": null,
            "grid_row": null,
            "grid_template_areas": null,
            "grid_template_columns": null,
            "grid_template_rows": null,
            "height": null,
            "justify_content": null,
            "justify_items": null,
            "left": null,
            "margin": null,
            "max_height": null,
            "max_width": null,
            "min_height": null,
            "min_width": null,
            "object_fit": null,
            "object_position": null,
            "order": null,
            "overflow": null,
            "overflow_x": null,
            "overflow_y": null,
            "padding": null,
            "right": null,
            "top": null,
            "visibility": null,
            "width": null
          }
        },
        "a7bcd857f6e34cc0b6383c7fa57cb7b3": {
          "model_module": "@jupyter-widgets/controls",
          "model_module_version": "1.5.0",
          "model_name": "FloatProgressModel",
          "state": {
            "_dom_classes": [],
            "_model_module": "@jupyter-widgets/controls",
            "_model_module_version": "1.5.0",
            "_model_name": "FloatProgressModel",
            "_view_count": null,
            "_view_module": "@jupyter-widgets/controls",
            "_view_module_version": "1.5.0",
            "_view_name": "ProgressView",
            "bar_style": "success",
            "description": "",
            "description_tooltip": null,
            "layout": "IPY_MODEL_32d6fde335de43acb28c79ff77671b9c",
            "max": 1092,
            "min": 0,
            "orientation": "horizontal",
            "style": "IPY_MODEL_56f7ea4660bb497b9f0798b7226fb2e3",
            "value": 1092
          }
        },
        "a92d4b93ac4b46bf87b55df2b8b0a26e": {
          "model_module": "@jupyter-widgets/controls",
          "model_module_version": "1.5.0",
          "model_name": "ButtonModel",
          "state": {
            "_dom_classes": [],
            "_model_module": "@jupyter-widgets/controls",
            "_model_module_version": "1.5.0",
            "_model_name": "ButtonModel",
            "_view_count": null,
            "_view_module": "@jupyter-widgets/controls",
            "_view_module_version": "1.5.0",
            "_view_name": "ButtonView",
            "button_style": "",
            "description": "Login",
            "disabled": false,
            "icon": "",
            "layout": "IPY_MODEL_875e43ba54e34fdea92cfacd468da428",
            "style": "IPY_MODEL_befcac90f8b644789a79b3a2b6417cbe",
            "tooltip": ""
          }
        },
        "ae693345a6034caf8be60f76d324c033": {
          "model_module": "@jupyter-widgets/base",
          "model_module_version": "1.2.0",
          "model_name": "LayoutModel",
          "state": {
            "_model_module": "@jupyter-widgets/base",
            "_model_module_version": "1.2.0",
            "_model_name": "LayoutModel",
            "_view_count": null,
            "_view_module": "@jupyter-widgets/base",
            "_view_module_version": "1.2.0",
            "_view_name": "LayoutView",
            "align_content": null,
            "align_items": null,
            "align_self": null,
            "border": null,
            "bottom": null,
            "display": null,
            "flex": null,
            "flex_flow": null,
            "grid_area": null,
            "grid_auto_columns": null,
            "grid_auto_flow": null,
            "grid_auto_rows": null,
            "grid_column": null,
            "grid_gap": null,
            "grid_row": null,
            "grid_template_areas": null,
            "grid_template_columns": null,
            "grid_template_rows": null,
            "height": null,
            "justify_content": null,
            "justify_items": null,
            "left": null,
            "margin": null,
            "max_height": null,
            "max_width": null,
            "min_height": null,
            "min_width": null,
            "object_fit": null,
            "object_position": null,
            "order": null,
            "overflow": null,
            "overflow_x": null,
            "overflow_y": null,
            "padding": null,
            "right": null,
            "top": null,
            "visibility": null,
            "width": null
          }
        },
        "af24c14339c7420dae15b9eabdfaad6d": {
          "model_module": "@jupyter-widgets/controls",
          "model_module_version": "1.5.0",
          "model_name": "ProgressStyleModel",
          "state": {
            "_model_module": "@jupyter-widgets/controls",
            "_model_module_version": "1.5.0",
            "_model_name": "ProgressStyleModel",
            "_view_count": null,
            "_view_module": "@jupyter-widgets/base",
            "_view_module_version": "1.2.0",
            "_view_name": "StyleView",
            "bar_color": null,
            "description_width": ""
          }
        },
        "af4e6a908e274dccb98013ecdf5f1734": {
          "model_module": "@jupyter-widgets/controls",
          "model_module_version": "1.5.0",
          "model_name": "DescriptionStyleModel",
          "state": {
            "_model_module": "@jupyter-widgets/controls",
            "_model_module_version": "1.5.0",
            "_model_name": "DescriptionStyleModel",
            "_view_count": null,
            "_view_module": "@jupyter-widgets/base",
            "_view_module_version": "1.2.0",
            "_view_name": "StyleView",
            "description_width": ""
          }
        },
        "afd5b314c15a4878a17815b464ee7aa2": {
          "model_module": "@jupyter-widgets/base",
          "model_module_version": "1.2.0",
          "model_name": "LayoutModel",
          "state": {
            "_model_module": "@jupyter-widgets/base",
            "_model_module_version": "1.2.0",
            "_model_name": "LayoutModel",
            "_view_count": null,
            "_view_module": "@jupyter-widgets/base",
            "_view_module_version": "1.2.0",
            "_view_name": "LayoutView",
            "align_content": null,
            "align_items": null,
            "align_self": null,
            "border": null,
            "bottom": null,
            "display": null,
            "flex": null,
            "flex_flow": null,
            "grid_area": null,
            "grid_auto_columns": null,
            "grid_auto_flow": null,
            "grid_auto_rows": null,
            "grid_column": null,
            "grid_gap": null,
            "grid_row": null,
            "grid_template_areas": null,
            "grid_template_columns": null,
            "grid_template_rows": null,
            "height": null,
            "justify_content": null,
            "justify_items": null,
            "left": null,
            "margin": null,
            "max_height": null,
            "max_width": null,
            "min_height": null,
            "min_width": null,
            "object_fit": null,
            "object_position": null,
            "order": null,
            "overflow": null,
            "overflow_x": null,
            "overflow_y": null,
            "padding": null,
            "right": null,
            "top": null,
            "visibility": null,
            "width": null
          }
        },
        "afe23af3ad364b699690e1edce90f5b5": {
          "model_module": "@jupyter-widgets/base",
          "model_module_version": "1.2.0",
          "model_name": "LayoutModel",
          "state": {
            "_model_module": "@jupyter-widgets/base",
            "_model_module_version": "1.2.0",
            "_model_name": "LayoutModel",
            "_view_count": null,
            "_view_module": "@jupyter-widgets/base",
            "_view_module_version": "1.2.0",
            "_view_name": "LayoutView",
            "align_content": null,
            "align_items": null,
            "align_self": null,
            "border": null,
            "bottom": null,
            "display": null,
            "flex": null,
            "flex_flow": null,
            "grid_area": null,
            "grid_auto_columns": null,
            "grid_auto_flow": null,
            "grid_auto_rows": null,
            "grid_column": null,
            "grid_gap": null,
            "grid_row": null,
            "grid_template_areas": null,
            "grid_template_columns": null,
            "grid_template_rows": null,
            "height": null,
            "justify_content": null,
            "justify_items": null,
            "left": null,
            "margin": null,
            "max_height": null,
            "max_width": null,
            "min_height": null,
            "min_width": null,
            "object_fit": null,
            "object_position": null,
            "order": null,
            "overflow": null,
            "overflow_x": null,
            "overflow_y": null,
            "padding": null,
            "right": null,
            "top": null,
            "visibility": null,
            "width": null
          }
        },
        "afe508e5a18b48dd839070b3469c7a3f": {
          "model_module": "@jupyter-widgets/base",
          "model_module_version": "1.2.0",
          "model_name": "LayoutModel",
          "state": {
            "_model_module": "@jupyter-widgets/base",
            "_model_module_version": "1.2.0",
            "_model_name": "LayoutModel",
            "_view_count": null,
            "_view_module": "@jupyter-widgets/base",
            "_view_module_version": "1.2.0",
            "_view_name": "LayoutView",
            "align_content": null,
            "align_items": null,
            "align_self": null,
            "border": null,
            "bottom": null,
            "display": null,
            "flex": null,
            "flex_flow": null,
            "grid_area": null,
            "grid_auto_columns": null,
            "grid_auto_flow": null,
            "grid_auto_rows": null,
            "grid_column": null,
            "grid_gap": null,
            "grid_row": null,
            "grid_template_areas": null,
            "grid_template_columns": null,
            "grid_template_rows": null,
            "height": null,
            "justify_content": null,
            "justify_items": null,
            "left": null,
            "margin": null,
            "max_height": null,
            "max_width": null,
            "min_height": null,
            "min_width": null,
            "object_fit": null,
            "object_position": null,
            "order": null,
            "overflow": null,
            "overflow_x": null,
            "overflow_y": null,
            "padding": null,
            "right": null,
            "top": null,
            "visibility": null,
            "width": null
          }
        },
        "aff90594d2e04db3992d03a2c8150987": {
          "model_module": "@jupyter-widgets/base",
          "model_module_version": "1.2.0",
          "model_name": "LayoutModel",
          "state": {
            "_model_module": "@jupyter-widgets/base",
            "_model_module_version": "1.2.0",
            "_model_name": "LayoutModel",
            "_view_count": null,
            "_view_module": "@jupyter-widgets/base",
            "_view_module_version": "1.2.0",
            "_view_name": "LayoutView",
            "align_content": null,
            "align_items": null,
            "align_self": null,
            "border": null,
            "bottom": null,
            "display": null,
            "flex": null,
            "flex_flow": null,
            "grid_area": null,
            "grid_auto_columns": null,
            "grid_auto_flow": null,
            "grid_auto_rows": null,
            "grid_column": null,
            "grid_gap": null,
            "grid_row": null,
            "grid_template_areas": null,
            "grid_template_columns": null,
            "grid_template_rows": null,
            "height": null,
            "justify_content": null,
            "justify_items": null,
            "left": null,
            "margin": null,
            "max_height": null,
            "max_width": null,
            "min_height": null,
            "min_width": null,
            "object_fit": null,
            "object_position": null,
            "order": null,
            "overflow": null,
            "overflow_x": null,
            "overflow_y": null,
            "padding": null,
            "right": null,
            "top": null,
            "visibility": null,
            "width": null
          }
        },
        "b0614165e3f54323810e1f3675b3ede9": {
          "model_module": "@jupyter-widgets/base",
          "model_module_version": "1.2.0",
          "model_name": "LayoutModel",
          "state": {
            "_model_module": "@jupyter-widgets/base",
            "_model_module_version": "1.2.0",
            "_model_name": "LayoutModel",
            "_view_count": null,
            "_view_module": "@jupyter-widgets/base",
            "_view_module_version": "1.2.0",
            "_view_name": "LayoutView",
            "align_content": null,
            "align_items": null,
            "align_self": null,
            "border": null,
            "bottom": null,
            "display": null,
            "flex": null,
            "flex_flow": null,
            "grid_area": null,
            "grid_auto_columns": null,
            "grid_auto_flow": null,
            "grid_auto_rows": null,
            "grid_column": null,
            "grid_gap": null,
            "grid_row": null,
            "grid_template_areas": null,
            "grid_template_columns": null,
            "grid_template_rows": null,
            "height": null,
            "justify_content": null,
            "justify_items": null,
            "left": null,
            "margin": null,
            "max_height": null,
            "max_width": null,
            "min_height": null,
            "min_width": null,
            "object_fit": null,
            "object_position": null,
            "order": null,
            "overflow": null,
            "overflow_x": null,
            "overflow_y": null,
            "padding": null,
            "right": null,
            "top": null,
            "visibility": null,
            "width": null
          }
        },
        "b12f4f536f74455e817ec019aab1fe37": {
          "model_module": "@jupyter-widgets/base",
          "model_module_version": "1.2.0",
          "model_name": "LayoutModel",
          "state": {
            "_model_module": "@jupyter-widgets/base",
            "_model_module_version": "1.2.0",
            "_model_name": "LayoutModel",
            "_view_count": null,
            "_view_module": "@jupyter-widgets/base",
            "_view_module_version": "1.2.0",
            "_view_name": "LayoutView",
            "align_content": null,
            "align_items": null,
            "align_self": null,
            "border": null,
            "bottom": null,
            "display": null,
            "flex": null,
            "flex_flow": null,
            "grid_area": null,
            "grid_auto_columns": null,
            "grid_auto_flow": null,
            "grid_auto_rows": null,
            "grid_column": null,
            "grid_gap": null,
            "grid_row": null,
            "grid_template_areas": null,
            "grid_template_columns": null,
            "grid_template_rows": null,
            "height": null,
            "justify_content": null,
            "justify_items": null,
            "left": null,
            "margin": null,
            "max_height": null,
            "max_width": null,
            "min_height": null,
            "min_width": null,
            "object_fit": null,
            "object_position": null,
            "order": null,
            "overflow": null,
            "overflow_x": null,
            "overflow_y": null,
            "padding": null,
            "right": null,
            "top": null,
            "visibility": null,
            "width": null
          }
        },
        "b1b5abc4ada24781bb97b1ba436bc68c": {
          "model_module": "@jupyter-widgets/controls",
          "model_module_version": "1.5.0",
          "model_name": "DescriptionStyleModel",
          "state": {
            "_model_module": "@jupyter-widgets/controls",
            "_model_module_version": "1.5.0",
            "_model_name": "DescriptionStyleModel",
            "_view_count": null,
            "_view_module": "@jupyter-widgets/base",
            "_view_module_version": "1.2.0",
            "_view_name": "StyleView",
            "description_width": ""
          }
        },
        "b28d77eaa121420fa55c27de982cc90c": {
          "model_module": "@jupyter-widgets/base",
          "model_module_version": "1.2.0",
          "model_name": "LayoutModel",
          "state": {
            "_model_module": "@jupyter-widgets/base",
            "_model_module_version": "1.2.0",
            "_model_name": "LayoutModel",
            "_view_count": null,
            "_view_module": "@jupyter-widgets/base",
            "_view_module_version": "1.2.0",
            "_view_name": "LayoutView",
            "align_content": null,
            "align_items": null,
            "align_self": null,
            "border": null,
            "bottom": null,
            "display": null,
            "flex": null,
            "flex_flow": null,
            "grid_area": null,
            "grid_auto_columns": null,
            "grid_auto_flow": null,
            "grid_auto_rows": null,
            "grid_column": null,
            "grid_gap": null,
            "grid_row": null,
            "grid_template_areas": null,
            "grid_template_columns": null,
            "grid_template_rows": null,
            "height": null,
            "justify_content": null,
            "justify_items": null,
            "left": null,
            "margin": null,
            "max_height": null,
            "max_width": null,
            "min_height": null,
            "min_width": null,
            "object_fit": null,
            "object_position": null,
            "order": null,
            "overflow": null,
            "overflow_x": null,
            "overflow_y": null,
            "padding": null,
            "right": null,
            "top": null,
            "visibility": null,
            "width": null
          }
        },
        "b519349b4e0d4af5afe42c8d783b1fda": {
          "model_module": "@jupyter-widgets/controls",
          "model_module_version": "1.5.0",
          "model_name": "HTMLModel",
          "state": {
            "_dom_classes": [],
            "_model_module": "@jupyter-widgets/controls",
            "_model_module_version": "1.5.0",
            "_model_name": "HTMLModel",
            "_view_count": null,
            "_view_module": "@jupyter-widgets/controls",
            "_view_module_version": "1.5.0",
            "_view_name": "HTMLView",
            "description": "",
            "description_tooltip": null,
            "layout": "IPY_MODEL_ca6393fd366f4bc9a2e96f258c8e81e9",
            "placeholder": "​",
            "style": "IPY_MODEL_96ec4f9c9a5f405a9f5a1653c796737d",
            "value": "<center> <img\nsrc=https://huggingface.co/front/assets/huggingface_logo-noborder.svg\nalt='Hugging Face'> <br> Copy a token from <a\nhref=\"https://huggingface.co/settings/tokens\" target=\"_blank\">your Hugging Face\ntokens page</a> and paste it below. <br> Immediately click login after copying\nyour token or it might be stored in plain text in this notebook file. </center>"
          }
        },
        "b6c399a18b3c4c1e8715456820875fae": {
          "model_module": "@jupyter-widgets/base",
          "model_module_version": "1.2.0",
          "model_name": "LayoutModel",
          "state": {
            "_model_module": "@jupyter-widgets/base",
            "_model_module_version": "1.2.0",
            "_model_name": "LayoutModel",
            "_view_count": null,
            "_view_module": "@jupyter-widgets/base",
            "_view_module_version": "1.2.0",
            "_view_name": "LayoutView",
            "align_content": null,
            "align_items": null,
            "align_self": null,
            "border": null,
            "bottom": null,
            "display": null,
            "flex": null,
            "flex_flow": null,
            "grid_area": null,
            "grid_auto_columns": null,
            "grid_auto_flow": null,
            "grid_auto_rows": null,
            "grid_column": null,
            "grid_gap": null,
            "grid_row": null,
            "grid_template_areas": null,
            "grid_template_columns": null,
            "grid_template_rows": null,
            "height": null,
            "justify_content": null,
            "justify_items": null,
            "left": null,
            "margin": null,
            "max_height": null,
            "max_width": null,
            "min_height": null,
            "min_width": null,
            "object_fit": null,
            "object_position": null,
            "order": null,
            "overflow": null,
            "overflow_x": null,
            "overflow_y": null,
            "padding": null,
            "right": null,
            "top": null,
            "visibility": null,
            "width": null
          }
        },
        "b89ad4ceea834f35906fb2c2ad875f47": {
          "model_module": "@jupyter-widgets/controls",
          "model_module_version": "1.5.0",
          "model_name": "DescriptionStyleModel",
          "state": {
            "_model_module": "@jupyter-widgets/controls",
            "_model_module_version": "1.5.0",
            "_model_name": "DescriptionStyleModel",
            "_view_count": null,
            "_view_module": "@jupyter-widgets/base",
            "_view_module_version": "1.2.0",
            "_view_name": "StyleView",
            "description_width": ""
          }
        },
        "b975d8ff24084df1b1530cf647eb9ac2": {
          "model_module": "@jupyter-widgets/base",
          "model_module_version": "1.2.0",
          "model_name": "LayoutModel",
          "state": {
            "_model_module": "@jupyter-widgets/base",
            "_model_module_version": "1.2.0",
            "_model_name": "LayoutModel",
            "_view_count": null,
            "_view_module": "@jupyter-widgets/base",
            "_view_module_version": "1.2.0",
            "_view_name": "LayoutView",
            "align_content": null,
            "align_items": null,
            "align_self": null,
            "border": null,
            "bottom": null,
            "display": null,
            "flex": null,
            "flex_flow": null,
            "grid_area": null,
            "grid_auto_columns": null,
            "grid_auto_flow": null,
            "grid_auto_rows": null,
            "grid_column": null,
            "grid_gap": null,
            "grid_row": null,
            "grid_template_areas": null,
            "grid_template_columns": null,
            "grid_template_rows": null,
            "height": null,
            "justify_content": null,
            "justify_items": null,
            "left": null,
            "margin": null,
            "max_height": null,
            "max_width": null,
            "min_height": null,
            "min_width": null,
            "object_fit": null,
            "object_position": null,
            "order": null,
            "overflow": null,
            "overflow_x": null,
            "overflow_y": null,
            "padding": null,
            "right": null,
            "top": null,
            "visibility": null,
            "width": null
          }
        },
        "bc8fd27de9a24a159c3baa371e9c5bad": {
          "model_module": "@jupyter-widgets/controls",
          "model_module_version": "1.5.0",
          "model_name": "FloatProgressModel",
          "state": {
            "_dom_classes": [],
            "_model_module": "@jupyter-widgets/controls",
            "_model_module_version": "1.5.0",
            "_model_name": "FloatProgressModel",
            "_view_count": null,
            "_view_module": "@jupyter-widgets/controls",
            "_view_module_version": "1.5.0",
            "_view_name": "ProgressView",
            "bar_style": "success",
            "description": "",
            "description_tooltip": null,
            "layout": "IPY_MODEL_54f7b195fcd34d4b97c9f156778a1da2",
            "max": 456318,
            "min": 0,
            "orientation": "horizontal",
            "style": "IPY_MODEL_6eba2872eb94464fbd90e05992a7daa0",
            "value": 456318
          }
        },
        "bcb5ae2b306c443e887bd92476510cd4": {
          "model_module": "@jupyter-widgets/base",
          "model_module_version": "1.2.0",
          "model_name": "LayoutModel",
          "state": {
            "_model_module": "@jupyter-widgets/base",
            "_model_module_version": "1.2.0",
            "_model_name": "LayoutModel",
            "_view_count": null,
            "_view_module": "@jupyter-widgets/base",
            "_view_module_version": "1.2.0",
            "_view_name": "LayoutView",
            "align_content": null,
            "align_items": null,
            "align_self": null,
            "border": null,
            "bottom": null,
            "display": null,
            "flex": null,
            "flex_flow": null,
            "grid_area": null,
            "grid_auto_columns": null,
            "grid_auto_flow": null,
            "grid_auto_rows": null,
            "grid_column": null,
            "grid_gap": null,
            "grid_row": null,
            "grid_template_areas": null,
            "grid_template_columns": null,
            "grid_template_rows": null,
            "height": null,
            "justify_content": null,
            "justify_items": null,
            "left": null,
            "margin": null,
            "max_height": null,
            "max_width": null,
            "min_height": null,
            "min_width": null,
            "object_fit": null,
            "object_position": null,
            "order": null,
            "overflow": null,
            "overflow_x": null,
            "overflow_y": null,
            "padding": null,
            "right": null,
            "top": null,
            "visibility": null,
            "width": null
          }
        },
        "bd32aaf052014e56ac6c639b947e2e77": {
          "model_module": "@jupyter-widgets/base",
          "model_module_version": "1.2.0",
          "model_name": "LayoutModel",
          "state": {
            "_model_module": "@jupyter-widgets/base",
            "_model_module_version": "1.2.0",
            "_model_name": "LayoutModel",
            "_view_count": null,
            "_view_module": "@jupyter-widgets/base",
            "_view_module_version": "1.2.0",
            "_view_name": "LayoutView",
            "align_content": null,
            "align_items": null,
            "align_self": null,
            "border": null,
            "bottom": null,
            "display": null,
            "flex": null,
            "flex_flow": null,
            "grid_area": null,
            "grid_auto_columns": null,
            "grid_auto_flow": null,
            "grid_auto_rows": null,
            "grid_column": null,
            "grid_gap": null,
            "grid_row": null,
            "grid_template_areas": null,
            "grid_template_columns": null,
            "grid_template_rows": null,
            "height": null,
            "justify_content": null,
            "justify_items": null,
            "left": null,
            "margin": null,
            "max_height": null,
            "max_width": null,
            "min_height": null,
            "min_width": null,
            "object_fit": null,
            "object_position": null,
            "order": null,
            "overflow": null,
            "overflow_x": null,
            "overflow_y": null,
            "padding": null,
            "right": null,
            "top": null,
            "visibility": null,
            "width": null
          }
        },
        "be6552d4178f40ff98ccb1afacdf178d": {
          "model_module": "@jupyter-widgets/controls",
          "model_module_version": "1.5.0",
          "model_name": "DescriptionStyleModel",
          "state": {
            "_model_module": "@jupyter-widgets/controls",
            "_model_module_version": "1.5.0",
            "_model_name": "DescriptionStyleModel",
            "_view_count": null,
            "_view_module": "@jupyter-widgets/base",
            "_view_module_version": "1.2.0",
            "_view_name": "StyleView",
            "description_width": ""
          }
        },
        "befcac90f8b644789a79b3a2b6417cbe": {
          "model_module": "@jupyter-widgets/controls",
          "model_module_version": "1.5.0",
          "model_name": "ButtonStyleModel",
          "state": {
            "_model_module": "@jupyter-widgets/controls",
            "_model_module_version": "1.5.0",
            "_model_name": "ButtonStyleModel",
            "_view_count": null,
            "_view_module": "@jupyter-widgets/base",
            "_view_module_version": "1.2.0",
            "_view_name": "StyleView",
            "button_color": null,
            "font_weight": ""
          }
        },
        "bf96238c5a69488bb02f9c51195d5ac6": {
          "model_module": "@jupyter-widgets/base",
          "model_module_version": "1.2.0",
          "model_name": "LayoutModel",
          "state": {
            "_model_module": "@jupyter-widgets/base",
            "_model_module_version": "1.2.0",
            "_model_name": "LayoutModel",
            "_view_count": null,
            "_view_module": "@jupyter-widgets/base",
            "_view_module_version": "1.2.0",
            "_view_name": "LayoutView",
            "align_content": null,
            "align_items": null,
            "align_self": null,
            "border": null,
            "bottom": null,
            "display": null,
            "flex": null,
            "flex_flow": null,
            "grid_area": null,
            "grid_auto_columns": null,
            "grid_auto_flow": null,
            "grid_auto_rows": null,
            "grid_column": null,
            "grid_gap": null,
            "grid_row": null,
            "grid_template_areas": null,
            "grid_template_columns": null,
            "grid_template_rows": null,
            "height": null,
            "justify_content": null,
            "justify_items": null,
            "left": null,
            "margin": null,
            "max_height": null,
            "max_width": null,
            "min_height": null,
            "min_width": null,
            "object_fit": null,
            "object_position": null,
            "order": null,
            "overflow": null,
            "overflow_x": null,
            "overflow_y": null,
            "padding": null,
            "right": null,
            "top": null,
            "visibility": null,
            "width": null
          }
        },
        "bfd182d1bd554d9c973b7877b225e436": {
          "model_module": "@jupyter-widgets/base",
          "model_module_version": "1.2.0",
          "model_name": "LayoutModel",
          "state": {
            "_model_module": "@jupyter-widgets/base",
            "_model_module_version": "1.2.0",
            "_model_name": "LayoutModel",
            "_view_count": null,
            "_view_module": "@jupyter-widgets/base",
            "_view_module_version": "1.2.0",
            "_view_name": "LayoutView",
            "align_content": null,
            "align_items": null,
            "align_self": null,
            "border": null,
            "bottom": null,
            "display": null,
            "flex": null,
            "flex_flow": null,
            "grid_area": null,
            "grid_auto_columns": null,
            "grid_auto_flow": null,
            "grid_auto_rows": null,
            "grid_column": null,
            "grid_gap": null,
            "grid_row": null,
            "grid_template_areas": null,
            "grid_template_columns": null,
            "grid_template_rows": null,
            "height": null,
            "justify_content": null,
            "justify_items": null,
            "left": null,
            "margin": null,
            "max_height": null,
            "max_width": null,
            "min_height": null,
            "min_width": null,
            "object_fit": null,
            "object_position": null,
            "order": null,
            "overflow": null,
            "overflow_x": null,
            "overflow_y": null,
            "padding": null,
            "right": null,
            "top": null,
            "visibility": null,
            "width": null
          }
        },
        "bff65059965a42489f9afaea32e3ca68": {
          "model_module": "@jupyter-widgets/base",
          "model_module_version": "1.2.0",
          "model_name": "LayoutModel",
          "state": {
            "_model_module": "@jupyter-widgets/base",
            "_model_module_version": "1.2.0",
            "_model_name": "LayoutModel",
            "_view_count": null,
            "_view_module": "@jupyter-widgets/base",
            "_view_module_version": "1.2.0",
            "_view_name": "LayoutView",
            "align_content": null,
            "align_items": null,
            "align_self": null,
            "border": null,
            "bottom": null,
            "display": null,
            "flex": null,
            "flex_flow": null,
            "grid_area": null,
            "grid_auto_columns": null,
            "grid_auto_flow": null,
            "grid_auto_rows": null,
            "grid_column": null,
            "grid_gap": null,
            "grid_row": null,
            "grid_template_areas": null,
            "grid_template_columns": null,
            "grid_template_rows": null,
            "height": null,
            "justify_content": null,
            "justify_items": null,
            "left": null,
            "margin": null,
            "max_height": null,
            "max_width": null,
            "min_height": null,
            "min_width": null,
            "object_fit": null,
            "object_position": null,
            "order": null,
            "overflow": null,
            "overflow_x": null,
            "overflow_y": null,
            "padding": null,
            "right": null,
            "top": null,
            "visibility": null,
            "width": null
          }
        },
        "c0abb3c2c21b4e54b55747d166a33516": {
          "model_module": "@jupyter-widgets/base",
          "model_module_version": "1.2.0",
          "model_name": "LayoutModel",
          "state": {
            "_model_module": "@jupyter-widgets/base",
            "_model_module_version": "1.2.0",
            "_model_name": "LayoutModel",
            "_view_count": null,
            "_view_module": "@jupyter-widgets/base",
            "_view_module_version": "1.2.0",
            "_view_name": "LayoutView",
            "align_content": null,
            "align_items": null,
            "align_self": null,
            "border": null,
            "bottom": null,
            "display": null,
            "flex": null,
            "flex_flow": null,
            "grid_area": null,
            "grid_auto_columns": null,
            "grid_auto_flow": null,
            "grid_auto_rows": null,
            "grid_column": null,
            "grid_gap": null,
            "grid_row": null,
            "grid_template_areas": null,
            "grid_template_columns": null,
            "grid_template_rows": null,
            "height": null,
            "justify_content": null,
            "justify_items": null,
            "left": null,
            "margin": null,
            "max_height": null,
            "max_width": null,
            "min_height": null,
            "min_width": null,
            "object_fit": null,
            "object_position": null,
            "order": null,
            "overflow": null,
            "overflow_x": null,
            "overflow_y": null,
            "padding": null,
            "right": null,
            "top": null,
            "visibility": null,
            "width": null
          }
        },
        "c3129fe7f55044f38661d4ca46d3833f": {
          "model_module": "@jupyter-widgets/controls",
          "model_module_version": "1.5.0",
          "model_name": "FloatProgressModel",
          "state": {
            "_dom_classes": [],
            "_model_module": "@jupyter-widgets/controls",
            "_model_module_version": "1.5.0",
            "_model_name": "FloatProgressModel",
            "_view_count": null,
            "_view_module": "@jupyter-widgets/controls",
            "_view_module_version": "1.5.0",
            "_view_name": "ProgressView",
            "bar_style": "success",
            "description": "",
            "description_tooltip": null,
            "layout": "IPY_MODEL_161ae2d5ba4446a1b9c14519c61e5d0d",
            "max": 27,
            "min": 0,
            "orientation": "horizontal",
            "style": "IPY_MODEL_171c561e05c3426d955e115bc3f43329",
            "value": 27
          }
        },
        "c314ba991d254babbef8b47c7cbccd29": {
          "model_module": "@jupyter-widgets/base",
          "model_module_version": "1.2.0",
          "model_name": "LayoutModel",
          "state": {
            "_model_module": "@jupyter-widgets/base",
            "_model_module_version": "1.2.0",
            "_model_name": "LayoutModel",
            "_view_count": null,
            "_view_module": "@jupyter-widgets/base",
            "_view_module_version": "1.2.0",
            "_view_name": "LayoutView",
            "align_content": null,
            "align_items": null,
            "align_self": null,
            "border": null,
            "bottom": null,
            "display": null,
            "flex": null,
            "flex_flow": null,
            "grid_area": null,
            "grid_auto_columns": null,
            "grid_auto_flow": null,
            "grid_auto_rows": null,
            "grid_column": null,
            "grid_gap": null,
            "grid_row": null,
            "grid_template_areas": null,
            "grid_template_columns": null,
            "grid_template_rows": null,
            "height": null,
            "justify_content": null,
            "justify_items": null,
            "left": null,
            "margin": null,
            "max_height": null,
            "max_width": null,
            "min_height": null,
            "min_width": null,
            "object_fit": null,
            "object_position": null,
            "order": null,
            "overflow": null,
            "overflow_x": null,
            "overflow_y": null,
            "padding": null,
            "right": null,
            "top": null,
            "visibility": null,
            "width": null
          }
        },
        "c5d3885ed2e841c38b91e17ae8968f28": {
          "model_module": "@jupyter-widgets/controls",
          "model_module_version": "1.5.0",
          "model_name": "ProgressStyleModel",
          "state": {
            "_model_module": "@jupyter-widgets/controls",
            "_model_module_version": "1.5.0",
            "_model_name": "ProgressStyleModel",
            "_view_count": null,
            "_view_module": "@jupyter-widgets/base",
            "_view_module_version": "1.2.0",
            "_view_name": "StyleView",
            "bar_color": null,
            "description_width": ""
          }
        },
        "c60a87b197924b5c98f643c7cefc7653": {
          "model_module": "@jupyter-widgets/controls",
          "model_module_version": "1.5.0",
          "model_name": "HTMLModel",
          "state": {
            "_dom_classes": [],
            "_model_module": "@jupyter-widgets/controls",
            "_model_module_version": "1.5.0",
            "_model_name": "HTMLModel",
            "_view_count": null,
            "_view_module": "@jupyter-widgets/controls",
            "_view_module_version": "1.5.0",
            "_view_name": "HTMLView",
            "description": "",
            "description_tooltip": null,
            "layout": "IPY_MODEL_e442552df7024cb78e45ba65462c83c3",
            "placeholder": "​",
            "style": "IPY_MODEL_8421bda6dea94db8bffd28f8ac219724",
            "value": " 1.84G/1.84G [01:49&lt;00:00, 16.5MB/s]"
          }
        },
        "c69d8204cddd4ad59ddffe72a6cf7cc0": {
          "model_module": "@jupyter-widgets/base",
          "model_module_version": "1.2.0",
          "model_name": "LayoutModel",
          "state": {
            "_model_module": "@jupyter-widgets/base",
            "_model_module_version": "1.2.0",
            "_model_name": "LayoutModel",
            "_view_count": null,
            "_view_module": "@jupyter-widgets/base",
            "_view_module_version": "1.2.0",
            "_view_name": "LayoutView",
            "align_content": null,
            "align_items": null,
            "align_self": null,
            "border": null,
            "bottom": null,
            "display": null,
            "flex": null,
            "flex_flow": null,
            "grid_area": null,
            "grid_auto_columns": null,
            "grid_auto_flow": null,
            "grid_auto_rows": null,
            "grid_column": null,
            "grid_gap": null,
            "grid_row": null,
            "grid_template_areas": null,
            "grid_template_columns": null,
            "grid_template_rows": null,
            "height": null,
            "justify_content": null,
            "justify_items": null,
            "left": null,
            "margin": null,
            "max_height": null,
            "max_width": null,
            "min_height": null,
            "min_width": null,
            "object_fit": null,
            "object_position": null,
            "order": null,
            "overflow": null,
            "overflow_x": null,
            "overflow_y": null,
            "padding": null,
            "right": null,
            "top": null,
            "visibility": null,
            "width": null
          }
        },
        "c6a49a4279b542dc99daa91685c373c2": {
          "model_module": "@jupyter-widgets/controls",
          "model_module_version": "1.5.0",
          "model_name": "FloatProgressModel",
          "state": {
            "_dom_classes": [],
            "_model_module": "@jupyter-widgets/controls",
            "_model_module_version": "1.5.0",
            "_model_name": "FloatProgressModel",
            "_view_count": null,
            "_view_module": "@jupyter-widgets/controls",
            "_view_module_version": "1.5.0",
            "_view_name": "ProgressView",
            "bar_style": "success",
            "description": "",
            "description_tooltip": null,
            "layout": "IPY_MODEL_afe508e5a18b48dd839070b3469c7a3f",
            "max": 3110468,
            "min": 0,
            "orientation": "horizontal",
            "style": "IPY_MODEL_03edeeefb37a491285e45f73213a2756",
            "value": 3110468
          }
        },
        "c740224fe93546be97a66fb3a191a70b": {
          "model_module": "@jupyter-widgets/base",
          "model_module_version": "1.2.0",
          "model_name": "LayoutModel",
          "state": {
            "_model_module": "@jupyter-widgets/base",
            "_model_module_version": "1.2.0",
            "_model_name": "LayoutModel",
            "_view_count": null,
            "_view_module": "@jupyter-widgets/base",
            "_view_module_version": "1.2.0",
            "_view_name": "LayoutView",
            "align_content": null,
            "align_items": null,
            "align_self": null,
            "border": null,
            "bottom": null,
            "display": null,
            "flex": null,
            "flex_flow": null,
            "grid_area": null,
            "grid_auto_columns": null,
            "grid_auto_flow": null,
            "grid_auto_rows": null,
            "grid_column": null,
            "grid_gap": null,
            "grid_row": null,
            "grid_template_areas": null,
            "grid_template_columns": null,
            "grid_template_rows": null,
            "height": null,
            "justify_content": null,
            "justify_items": null,
            "left": null,
            "margin": null,
            "max_height": null,
            "max_width": null,
            "min_height": null,
            "min_width": null,
            "object_fit": null,
            "object_position": null,
            "order": null,
            "overflow": null,
            "overflow_x": null,
            "overflow_y": null,
            "padding": null,
            "right": null,
            "top": null,
            "visibility": null,
            "width": null
          }
        },
        "c7f40de6e98248cc954eae613776b02a": {
          "model_module": "@jupyter-widgets/controls",
          "model_module_version": "1.5.0",
          "model_name": "DescriptionStyleModel",
          "state": {
            "_model_module": "@jupyter-widgets/controls",
            "_model_module_version": "1.5.0",
            "_model_name": "DescriptionStyleModel",
            "_view_count": null,
            "_view_module": "@jupyter-widgets/base",
            "_view_module_version": "1.2.0",
            "_view_name": "StyleView",
            "description_width": ""
          }
        },
        "c8e5cb2a72154108ba5c76a98d2cc14a": {
          "model_module": "@jupyter-widgets/controls",
          "model_module_version": "1.5.0",
          "model_name": "ProgressStyleModel",
          "state": {
            "_model_module": "@jupyter-widgets/controls",
            "_model_module_version": "1.5.0",
            "_model_name": "ProgressStyleModel",
            "_view_count": null,
            "_view_module": "@jupyter-widgets/base",
            "_view_module_version": "1.2.0",
            "_view_name": "StyleView",
            "bar_color": null,
            "description_width": ""
          }
        },
        "c9bc152d321a48a1aee4aa85faadcd31": {
          "model_module": "@jupyter-widgets/base",
          "model_module_version": "1.2.0",
          "model_name": "LayoutModel",
          "state": {
            "_model_module": "@jupyter-widgets/base",
            "_model_module_version": "1.2.0",
            "_model_name": "LayoutModel",
            "_view_count": null,
            "_view_module": "@jupyter-widgets/base",
            "_view_module_version": "1.2.0",
            "_view_name": "LayoutView",
            "align_content": null,
            "align_items": null,
            "align_self": null,
            "border": null,
            "bottom": null,
            "display": null,
            "flex": null,
            "flex_flow": null,
            "grid_area": null,
            "grid_auto_columns": null,
            "grid_auto_flow": null,
            "grid_auto_rows": null,
            "grid_column": null,
            "grid_gap": null,
            "grid_row": null,
            "grid_template_areas": null,
            "grid_template_columns": null,
            "grid_template_rows": null,
            "height": null,
            "justify_content": null,
            "justify_items": null,
            "left": null,
            "margin": null,
            "max_height": null,
            "max_width": null,
            "min_height": null,
            "min_width": null,
            "object_fit": null,
            "object_position": null,
            "order": null,
            "overflow": null,
            "overflow_x": null,
            "overflow_y": null,
            "padding": null,
            "right": null,
            "top": null,
            "visibility": null,
            "width": null
          }
        },
        "ca0be6d5029c4799bd9c8583f1776b43": {
          "model_module": "@jupyter-widgets/base",
          "model_module_version": "1.2.0",
          "model_name": "LayoutModel",
          "state": {
            "_model_module": "@jupyter-widgets/base",
            "_model_module_version": "1.2.0",
            "_model_name": "LayoutModel",
            "_view_count": null,
            "_view_module": "@jupyter-widgets/base",
            "_view_module_version": "1.2.0",
            "_view_name": "LayoutView",
            "align_content": null,
            "align_items": null,
            "align_self": null,
            "border": null,
            "bottom": null,
            "display": null,
            "flex": null,
            "flex_flow": null,
            "grid_area": null,
            "grid_auto_columns": null,
            "grid_auto_flow": null,
            "grid_auto_rows": null,
            "grid_column": null,
            "grid_gap": null,
            "grid_row": null,
            "grid_template_areas": null,
            "grid_template_columns": null,
            "grid_template_rows": null,
            "height": null,
            "justify_content": null,
            "justify_items": null,
            "left": null,
            "margin": null,
            "max_height": null,
            "max_width": null,
            "min_height": null,
            "min_width": null,
            "object_fit": null,
            "object_position": null,
            "order": null,
            "overflow": null,
            "overflow_x": null,
            "overflow_y": null,
            "padding": null,
            "right": null,
            "top": null,
            "visibility": null,
            "width": null
          }
        },
        "ca6393fd366f4bc9a2e96f258c8e81e9": {
          "model_module": "@jupyter-widgets/base",
          "model_module_version": "1.2.0",
          "model_name": "LayoutModel",
          "state": {
            "_model_module": "@jupyter-widgets/base",
            "_model_module_version": "1.2.0",
            "_model_name": "LayoutModel",
            "_view_count": null,
            "_view_module": "@jupyter-widgets/base",
            "_view_module_version": "1.2.0",
            "_view_name": "LayoutView",
            "align_content": null,
            "align_items": null,
            "align_self": null,
            "border": null,
            "bottom": null,
            "display": null,
            "flex": null,
            "flex_flow": null,
            "grid_area": null,
            "grid_auto_columns": null,
            "grid_auto_flow": null,
            "grid_auto_rows": null,
            "grid_column": null,
            "grid_gap": null,
            "grid_row": null,
            "grid_template_areas": null,
            "grid_template_columns": null,
            "grid_template_rows": null,
            "height": null,
            "justify_content": null,
            "justify_items": null,
            "left": null,
            "margin": null,
            "max_height": null,
            "max_width": null,
            "min_height": null,
            "min_width": null,
            "object_fit": null,
            "object_position": null,
            "order": null,
            "overflow": null,
            "overflow_x": null,
            "overflow_y": null,
            "padding": null,
            "right": null,
            "top": null,
            "visibility": null,
            "width": null
          }
        },
        "cd8eb9c10200409db5a172348ecb334b": {
          "model_module": "@jupyter-widgets/base",
          "model_module_version": "1.2.0",
          "model_name": "LayoutModel",
          "state": {
            "_model_module": "@jupyter-widgets/base",
            "_model_module_version": "1.2.0",
            "_model_name": "LayoutModel",
            "_view_count": null,
            "_view_module": "@jupyter-widgets/base",
            "_view_module_version": "1.2.0",
            "_view_name": "LayoutView",
            "align_content": null,
            "align_items": null,
            "align_self": null,
            "border": null,
            "bottom": null,
            "display": null,
            "flex": null,
            "flex_flow": null,
            "grid_area": null,
            "grid_auto_columns": null,
            "grid_auto_flow": null,
            "grid_auto_rows": null,
            "grid_column": null,
            "grid_gap": null,
            "grid_row": null,
            "grid_template_areas": null,
            "grid_template_columns": null,
            "grid_template_rows": null,
            "height": null,
            "justify_content": null,
            "justify_items": null,
            "left": null,
            "margin": null,
            "max_height": null,
            "max_width": null,
            "min_height": null,
            "min_width": null,
            "object_fit": null,
            "object_position": null,
            "order": null,
            "overflow": null,
            "overflow_x": null,
            "overflow_y": null,
            "padding": null,
            "right": null,
            "top": null,
            "visibility": null,
            "width": null
          }
        },
        "ce930f28aa6341ef8661122a1b20b85a": {
          "model_module": "@jupyter-widgets/base",
          "model_module_version": "1.2.0",
          "model_name": "LayoutModel",
          "state": {
            "_model_module": "@jupyter-widgets/base",
            "_model_module_version": "1.2.0",
            "_model_name": "LayoutModel",
            "_view_count": null,
            "_view_module": "@jupyter-widgets/base",
            "_view_module_version": "1.2.0",
            "_view_name": "LayoutView",
            "align_content": null,
            "align_items": null,
            "align_self": null,
            "border": null,
            "bottom": null,
            "display": null,
            "flex": null,
            "flex_flow": null,
            "grid_area": null,
            "grid_auto_columns": null,
            "grid_auto_flow": null,
            "grid_auto_rows": null,
            "grid_column": null,
            "grid_gap": null,
            "grid_row": null,
            "grid_template_areas": null,
            "grid_template_columns": null,
            "grid_template_rows": null,
            "height": null,
            "justify_content": null,
            "justify_items": null,
            "left": null,
            "margin": null,
            "max_height": null,
            "max_width": null,
            "min_height": null,
            "min_width": null,
            "object_fit": null,
            "object_position": null,
            "order": null,
            "overflow": null,
            "overflow_x": null,
            "overflow_y": null,
            "padding": null,
            "right": null,
            "top": null,
            "visibility": null,
            "width": null
          }
        },
        "cf3558ab970542319c66c8b7f07fe709": {
          "model_module": "@jupyter-widgets/controls",
          "model_module_version": "1.5.0",
          "model_name": "HTMLModel",
          "state": {
            "_dom_classes": [],
            "_model_module": "@jupyter-widgets/controls",
            "_model_module_version": "1.5.0",
            "_model_name": "HTMLModel",
            "_view_count": null,
            "_view_module": "@jupyter-widgets/controls",
            "_view_module_version": "1.5.0",
            "_view_name": "HTMLView",
            "description": "",
            "description_tooltip": null,
            "layout": "IPY_MODEL_afe23af3ad364b699690e1edce90f5b5",
            "placeholder": "​",
            "style": "IPY_MODEL_433b2e9391a64f8c8cd670a3e4829691",
            "value": "Map: 100%"
          }
        },
        "d0325b942f634a12ae01d69aecf7f503": {
          "model_module": "@jupyter-widgets/controls",
          "model_module_version": "1.5.0",
          "model_name": "DescriptionStyleModel",
          "state": {
            "_model_module": "@jupyter-widgets/controls",
            "_model_module_version": "1.5.0",
            "_model_name": "DescriptionStyleModel",
            "_view_count": null,
            "_view_module": "@jupyter-widgets/base",
            "_view_module_version": "1.2.0",
            "_view_name": "StyleView",
            "description_width": ""
          }
        },
        "d32e2332d5f04b6c8a9a5330d66a981b": {
          "model_module": "@jupyter-widgets/controls",
          "model_module_version": "1.5.0",
          "model_name": "ProgressStyleModel",
          "state": {
            "_model_module": "@jupyter-widgets/controls",
            "_model_module_version": "1.5.0",
            "_model_name": "ProgressStyleModel",
            "_view_count": null,
            "_view_module": "@jupyter-widgets/base",
            "_view_module_version": "1.2.0",
            "_view_name": "StyleView",
            "bar_color": null,
            "description_width": ""
          }
        },
        "d457cb617d114a1ea1ac3cd43752d5cd": {
          "model_module": "@jupyter-widgets/controls",
          "model_module_version": "1.5.0",
          "model_name": "DescriptionStyleModel",
          "state": {
            "_model_module": "@jupyter-widgets/controls",
            "_model_module_version": "1.5.0",
            "_model_name": "DescriptionStyleModel",
            "_view_count": null,
            "_view_module": "@jupyter-widgets/base",
            "_view_module_version": "1.2.0",
            "_view_name": "StyleView",
            "description_width": ""
          }
        },
        "d46d6b320e344f1e8056e67d66ef4c5d": {
          "model_module": "@jupyter-widgets/controls",
          "model_module_version": "1.5.0",
          "model_name": "HBoxModel",
          "state": {
            "_dom_classes": [],
            "_model_module": "@jupyter-widgets/controls",
            "_model_module_version": "1.5.0",
            "_model_name": "HBoxModel",
            "_view_count": null,
            "_view_module": "@jupyter-widgets/controls",
            "_view_module_version": "1.5.0",
            "_view_name": "HBoxView",
            "box_style": "",
            "children": [
              "IPY_MODEL_00179b771d35489a9d1f846d48a79456",
              "IPY_MODEL_074d9372a6f045a6b1a84556428951b2",
              "IPY_MODEL_6f35f346cb2844aab69f683099827329"
            ],
            "layout": "IPY_MODEL_09369b7b00c34b3ea015a0c23e28185e"
          }
        },
        "d64d58b97416469c9158c4b07e4b1f88": {
          "model_module": "@jupyter-widgets/base",
          "model_module_version": "1.2.0",
          "model_name": "LayoutModel",
          "state": {
            "_model_module": "@jupyter-widgets/base",
            "_model_module_version": "1.2.0",
            "_model_name": "LayoutModel",
            "_view_count": null,
            "_view_module": "@jupyter-widgets/base",
            "_view_module_version": "1.2.0",
            "_view_name": "LayoutView",
            "align_content": null,
            "align_items": null,
            "align_self": null,
            "border": null,
            "bottom": null,
            "display": null,
            "flex": null,
            "flex_flow": null,
            "grid_area": null,
            "grid_auto_columns": null,
            "grid_auto_flow": null,
            "grid_auto_rows": null,
            "grid_column": null,
            "grid_gap": null,
            "grid_row": null,
            "grid_template_areas": null,
            "grid_template_columns": null,
            "grid_template_rows": null,
            "height": null,
            "justify_content": null,
            "justify_items": null,
            "left": null,
            "margin": null,
            "max_height": null,
            "max_width": null,
            "min_height": null,
            "min_width": null,
            "object_fit": null,
            "object_position": null,
            "order": null,
            "overflow": null,
            "overflow_x": null,
            "overflow_y": null,
            "padding": null,
            "right": null,
            "top": null,
            "visibility": null,
            "width": null
          }
        },
        "d8220fc994dd4348ae7f3db53e9b6c71": {
          "model_module": "@jupyter-widgets/base",
          "model_module_version": "1.2.0",
          "model_name": "LayoutModel",
          "state": {
            "_model_module": "@jupyter-widgets/base",
            "_model_module_version": "1.2.0",
            "_model_name": "LayoutModel",
            "_view_count": null,
            "_view_module": "@jupyter-widgets/base",
            "_view_module_version": "1.2.0",
            "_view_name": "LayoutView",
            "align_content": null,
            "align_items": null,
            "align_self": null,
            "border": null,
            "bottom": null,
            "display": null,
            "flex": null,
            "flex_flow": null,
            "grid_area": null,
            "grid_auto_columns": null,
            "grid_auto_flow": null,
            "grid_auto_rows": null,
            "grid_column": null,
            "grid_gap": null,
            "grid_row": null,
            "grid_template_areas": null,
            "grid_template_columns": null,
            "grid_template_rows": null,
            "height": null,
            "justify_content": null,
            "justify_items": null,
            "left": null,
            "margin": null,
            "max_height": null,
            "max_width": null,
            "min_height": null,
            "min_width": null,
            "object_fit": null,
            "object_position": null,
            "order": null,
            "overflow": null,
            "overflow_x": null,
            "overflow_y": null,
            "padding": null,
            "right": null,
            "top": null,
            "visibility": null,
            "width": null
          }
        },
        "d82a0bf64a404bd78abec3e408879ff3": {
          "model_module": "@jupyter-widgets/controls",
          "model_module_version": "1.5.0",
          "model_name": "DescriptionStyleModel",
          "state": {
            "_model_module": "@jupyter-widgets/controls",
            "_model_module_version": "1.5.0",
            "_model_name": "DescriptionStyleModel",
            "_view_count": null,
            "_view_module": "@jupyter-widgets/base",
            "_view_module_version": "1.2.0",
            "_view_name": "StyleView",
            "description_width": ""
          }
        },
        "d8e652e973c4440b97c7b79330a6ff59": {
          "model_module": "@jupyter-widgets/controls",
          "model_module_version": "1.5.0",
          "model_name": "FloatProgressModel",
          "state": {
            "_dom_classes": [],
            "_model_module": "@jupyter-widgets/controls",
            "_model_module_version": "1.5.0",
            "_model_name": "FloatProgressModel",
            "_view_count": null,
            "_view_module": "@jupyter-widgets/controls",
            "_view_module_version": "1.5.0",
            "_view_name": "ProgressView",
            "bar_style": "success",
            "description": "",
            "description_tooltip": null,
            "layout": "IPY_MODEL_d8220fc994dd4348ae7f3db53e9b6c71",
            "max": 1821,
            "min": 0,
            "orientation": "horizontal",
            "style": "IPY_MODEL_2abc66af1122455da48a44b23666c8be",
            "value": 1821
          }
        },
        "db740aedfc8c4d80b7e903020a86a327": {
          "model_module": "@jupyter-widgets/controls",
          "model_module_version": "1.5.0",
          "model_name": "HTMLModel",
          "state": {
            "_dom_classes": [],
            "_model_module": "@jupyter-widgets/controls",
            "_model_module_version": "1.5.0",
            "_model_name": "HTMLModel",
            "_view_count": null,
            "_view_module": "@jupyter-widgets/controls",
            "_view_module_version": "1.5.0",
            "_view_name": "HTMLView",
            "description": "",
            "description_tooltip": null,
            "layout": "IPY_MODEL_3c7aa1da33c44004a4a02f82447f70a7",
            "placeholder": "​",
            "style": "IPY_MODEL_30c7ec995a46478397ed052742aa2d80",
            "value": " 899k/899k [00:00&lt;00:00, 3.71MB/s]"
          }
        },
        "db7ab168c5c64e458b0e9820ad02fa0a": {
          "model_module": "@jupyter-widgets/controls",
          "model_module_version": "1.5.0",
          "model_name": "HTMLModel",
          "state": {
            "_dom_classes": [],
            "_model_module": "@jupyter-widgets/controls",
            "_model_module_version": "1.5.0",
            "_model_name": "HTMLModel",
            "_view_count": null,
            "_view_module": "@jupyter-widgets/controls",
            "_view_module_version": "1.5.0",
            "_view_name": "HTMLView",
            "description": "",
            "description_tooltip": null,
            "layout": "IPY_MODEL_5eedbfccbee54d43b41608896bc9b7ab",
            "placeholder": "​",
            "style": "IPY_MODEL_f1819a759d734bfd94d88fb2fa2f717b",
            "value": "Downloading builder script: "
          }
        },
        "dcff94c81c66445cadb2c4460d874f77": {
          "model_module": "@jupyter-widgets/controls",
          "model_module_version": "1.5.0",
          "model_name": "CheckboxModel",
          "state": {
            "_dom_classes": [],
            "_model_module": "@jupyter-widgets/controls",
            "_model_module_version": "1.5.0",
            "_model_name": "CheckboxModel",
            "_view_count": null,
            "_view_module": "@jupyter-widgets/controls",
            "_view_module_version": "1.5.0",
            "_view_name": "CheckboxView",
            "description": "Add token as git credential?",
            "description_tooltip": null,
            "disabled": false,
            "indent": true,
            "layout": "IPY_MODEL_61042a78bcdc469aa64004a2dc06f9d1",
            "style": "IPY_MODEL_4dcf79d3709443bcbd2ad98b93053e5f",
            "value": true
          }
        },
        "dd285285afae4a288d1c806e3077ac98": {
          "model_module": "@jupyter-widgets/controls",
          "model_module_version": "1.5.0",
          "model_name": "HBoxModel",
          "state": {
            "_dom_classes": [],
            "_model_module": "@jupyter-widgets/controls",
            "_model_module_version": "1.5.0",
            "_model_name": "HBoxModel",
            "_view_count": null,
            "_view_module": "@jupyter-widgets/controls",
            "_view_module_version": "1.5.0",
            "_view_name": "HBoxView",
            "box_style": "",
            "children": [
              "IPY_MODEL_078b17f60fe74ff18f0f814e9aab184a",
              "IPY_MODEL_c3129fe7f55044f38661d4ca46d3833f",
              "IPY_MODEL_ef853bd6a29e4a7f9297444478c785f6"
            ],
            "layout": "IPY_MODEL_6cf56192558241e5b9afd5ed6a9b6bb8"
          }
        },
        "dde79822e62e45d98965f997009c376a": {
          "model_module": "@jupyter-widgets/controls",
          "model_module_version": "1.5.0",
          "model_name": "HBoxModel",
          "state": {
            "_dom_classes": [],
            "_model_module": "@jupyter-widgets/controls",
            "_model_module_version": "1.5.0",
            "_model_name": "HBoxModel",
            "_view_count": null,
            "_view_module": "@jupyter-widgets/controls",
            "_view_module_version": "1.5.0",
            "_view_name": "HBoxView",
            "box_style": "",
            "children": [
              "IPY_MODEL_4a7cf6dc44d94cf2b144534af57a2aac",
              "IPY_MODEL_f8d5de2feffc4a73896701b585102e8d",
              "IPY_MODEL_411ce105bc7140ac904b1eacf31a529d"
            ],
            "layout": "IPY_MODEL_8d3fa3243f8b491a83404cdd3227e9a2"
          }
        },
        "dfa406263df2423492e83c306822045a": {
          "model_module": "@jupyter-widgets/base",
          "model_module_version": "1.2.0",
          "model_name": "LayoutModel",
          "state": {
            "_model_module": "@jupyter-widgets/base",
            "_model_module_version": "1.2.0",
            "_model_name": "LayoutModel",
            "_view_count": null,
            "_view_module": "@jupyter-widgets/base",
            "_view_module_version": "1.2.0",
            "_view_name": "LayoutView",
            "align_content": null,
            "align_items": null,
            "align_self": null,
            "border": null,
            "bottom": null,
            "display": null,
            "flex": null,
            "flex_flow": null,
            "grid_area": null,
            "grid_auto_columns": null,
            "grid_auto_flow": null,
            "grid_auto_rows": null,
            "grid_column": null,
            "grid_gap": null,
            "grid_row": null,
            "grid_template_areas": null,
            "grid_template_columns": null,
            "grid_template_rows": null,
            "height": null,
            "justify_content": null,
            "justify_items": null,
            "left": null,
            "margin": null,
            "max_height": null,
            "max_width": null,
            "min_height": null,
            "min_width": null,
            "object_fit": null,
            "object_position": null,
            "order": null,
            "overflow": null,
            "overflow_x": null,
            "overflow_y": null,
            "padding": null,
            "right": null,
            "top": null,
            "visibility": null,
            "width": null
          }
        },
        "e25ef403fdd64f8c856e20388424e7df": {
          "model_module": "@jupyter-widgets/controls",
          "model_module_version": "1.5.0",
          "model_name": "HBoxModel",
          "state": {
            "_dom_classes": [],
            "_model_module": "@jupyter-widgets/controls",
            "_model_module_version": "1.5.0",
            "_model_name": "HBoxModel",
            "_view_count": null,
            "_view_module": "@jupyter-widgets/controls",
            "_view_module_version": "1.5.0",
            "_view_name": "HBoxView",
            "box_style": "",
            "children": [
              "IPY_MODEL_64cf50ff0902453e9c35574c5304a208",
              "IPY_MODEL_5fdfc6034df24ac09e3085bae57ea2a0",
              "IPY_MODEL_87e5326accfb447c8e1e5170c535bf59"
            ],
            "layout": "IPY_MODEL_22d598fe6667421f922c61dc2591d30d"
          }
        },
        "e3147a7bd94e455a985365fef2aa61c0": {
          "model_module": "@jupyter-widgets/base",
          "model_module_version": "1.2.0",
          "model_name": "LayoutModel",
          "state": {
            "_model_module": "@jupyter-widgets/base",
            "_model_module_version": "1.2.0",
            "_model_name": "LayoutModel",
            "_view_count": null,
            "_view_module": "@jupyter-widgets/base",
            "_view_module_version": "1.2.0",
            "_view_name": "LayoutView",
            "align_content": null,
            "align_items": null,
            "align_self": null,
            "border": null,
            "bottom": null,
            "display": null,
            "flex": null,
            "flex_flow": null,
            "grid_area": null,
            "grid_auto_columns": null,
            "grid_auto_flow": null,
            "grid_auto_rows": null,
            "grid_column": null,
            "grid_gap": null,
            "grid_row": null,
            "grid_template_areas": null,
            "grid_template_columns": null,
            "grid_template_rows": null,
            "height": null,
            "justify_content": null,
            "justify_items": null,
            "left": null,
            "margin": null,
            "max_height": null,
            "max_width": null,
            "min_height": null,
            "min_width": null,
            "object_fit": null,
            "object_position": null,
            "order": null,
            "overflow": null,
            "overflow_x": null,
            "overflow_y": null,
            "padding": null,
            "right": null,
            "top": null,
            "visibility": null,
            "width": null
          }
        },
        "e3955a50236049428918cbbf4380307d": {
          "model_module": "@jupyter-widgets/base",
          "model_module_version": "1.2.0",
          "model_name": "LayoutModel",
          "state": {
            "_model_module": "@jupyter-widgets/base",
            "_model_module_version": "1.2.0",
            "_model_name": "LayoutModel",
            "_view_count": null,
            "_view_module": "@jupyter-widgets/base",
            "_view_module_version": "1.2.0",
            "_view_name": "LayoutView",
            "align_content": null,
            "align_items": null,
            "align_self": null,
            "border": null,
            "bottom": null,
            "display": null,
            "flex": null,
            "flex_flow": null,
            "grid_area": null,
            "grid_auto_columns": null,
            "grid_auto_flow": null,
            "grid_auto_rows": null,
            "grid_column": null,
            "grid_gap": null,
            "grid_row": null,
            "grid_template_areas": null,
            "grid_template_columns": null,
            "grid_template_rows": null,
            "height": null,
            "justify_content": null,
            "justify_items": null,
            "left": null,
            "margin": null,
            "max_height": null,
            "max_width": null,
            "min_height": null,
            "min_width": null,
            "object_fit": null,
            "object_position": null,
            "order": null,
            "overflow": null,
            "overflow_x": null,
            "overflow_y": null,
            "padding": null,
            "right": null,
            "top": null,
            "visibility": null,
            "width": null
          }
        },
        "e3d95afa52c44684affcbe125a4a6582": {
          "model_module": "@jupyter-widgets/base",
          "model_module_version": "1.2.0",
          "model_name": "LayoutModel",
          "state": {
            "_model_module": "@jupyter-widgets/base",
            "_model_module_version": "1.2.0",
            "_model_name": "LayoutModel",
            "_view_count": null,
            "_view_module": "@jupyter-widgets/base",
            "_view_module_version": "1.2.0",
            "_view_name": "LayoutView",
            "align_content": null,
            "align_items": null,
            "align_self": null,
            "border": null,
            "bottom": null,
            "display": null,
            "flex": null,
            "flex_flow": null,
            "grid_area": null,
            "grid_auto_columns": null,
            "grid_auto_flow": null,
            "grid_auto_rows": null,
            "grid_column": null,
            "grid_gap": null,
            "grid_row": null,
            "grid_template_areas": null,
            "grid_template_columns": null,
            "grid_template_rows": null,
            "height": null,
            "justify_content": null,
            "justify_items": null,
            "left": null,
            "margin": null,
            "max_height": null,
            "max_width": null,
            "min_height": null,
            "min_width": null,
            "object_fit": null,
            "object_position": null,
            "order": null,
            "overflow": null,
            "overflow_x": null,
            "overflow_y": null,
            "padding": null,
            "right": null,
            "top": null,
            "visibility": null,
            "width": null
          }
        },
        "e442552df7024cb78e45ba65462c83c3": {
          "model_module": "@jupyter-widgets/base",
          "model_module_version": "1.2.0",
          "model_name": "LayoutModel",
          "state": {
            "_model_module": "@jupyter-widgets/base",
            "_model_module_version": "1.2.0",
            "_model_name": "LayoutModel",
            "_view_count": null,
            "_view_module": "@jupyter-widgets/base",
            "_view_module_version": "1.2.0",
            "_view_name": "LayoutView",
            "align_content": null,
            "align_items": null,
            "align_self": null,
            "border": null,
            "bottom": null,
            "display": null,
            "flex": null,
            "flex_flow": null,
            "grid_area": null,
            "grid_auto_columns": null,
            "grid_auto_flow": null,
            "grid_auto_rows": null,
            "grid_column": null,
            "grid_gap": null,
            "grid_row": null,
            "grid_template_areas": null,
            "grid_template_columns": null,
            "grid_template_rows": null,
            "height": null,
            "justify_content": null,
            "justify_items": null,
            "left": null,
            "margin": null,
            "max_height": null,
            "max_width": null,
            "min_height": null,
            "min_width": null,
            "object_fit": null,
            "object_position": null,
            "order": null,
            "overflow": null,
            "overflow_x": null,
            "overflow_y": null,
            "padding": null,
            "right": null,
            "top": null,
            "visibility": null,
            "width": null
          }
        },
        "e46a9dea79d64131a07bd6be2244f9c4": {
          "model_module": "@jupyter-widgets/controls",
          "model_module_version": "1.5.0",
          "model_name": "HBoxModel",
          "state": {
            "_dom_classes": [],
            "_model_module": "@jupyter-widgets/controls",
            "_model_module_version": "1.5.0",
            "_model_name": "HBoxModel",
            "_view_count": null,
            "_view_module": "@jupyter-widgets/controls",
            "_view_module_version": "1.5.0",
            "_view_name": "HBoxView",
            "box_style": "",
            "children": [
              "IPY_MODEL_4766b3f21eb14763ae3bbf23bdb9974e",
              "IPY_MODEL_f2b0a9ca80be4987b594af665e8b3794",
              "IPY_MODEL_14c1506f33354a4f93a831f5171b630f"
            ],
            "layout": "IPY_MODEL_0b8f011ba03b4621b0a67b9c4f3b8ad5"
          }
        },
        "e4f4885bfa7c4282beff25e78f3a0f11": {
          "model_module": "@jupyter-widgets/base",
          "model_module_version": "1.2.0",
          "model_name": "LayoutModel",
          "state": {
            "_model_module": "@jupyter-widgets/base",
            "_model_module_version": "1.2.0",
            "_model_name": "LayoutModel",
            "_view_count": null,
            "_view_module": "@jupyter-widgets/base",
            "_view_module_version": "1.2.0",
            "_view_name": "LayoutView",
            "align_content": null,
            "align_items": null,
            "align_self": null,
            "border": null,
            "bottom": null,
            "display": null,
            "flex": null,
            "flex_flow": null,
            "grid_area": null,
            "grid_auto_columns": null,
            "grid_auto_flow": null,
            "grid_auto_rows": null,
            "grid_column": null,
            "grid_gap": null,
            "grid_row": null,
            "grid_template_areas": null,
            "grid_template_columns": null,
            "grid_template_rows": null,
            "height": null,
            "justify_content": null,
            "justify_items": null,
            "left": null,
            "margin": null,
            "max_height": null,
            "max_width": null,
            "min_height": null,
            "min_width": null,
            "object_fit": null,
            "object_position": null,
            "order": null,
            "overflow": null,
            "overflow_x": null,
            "overflow_y": null,
            "padding": null,
            "right": null,
            "top": null,
            "visibility": null,
            "width": null
          }
        },
        "e50c7ed29550431ea4565e6b09375fec": {
          "model_module": "@jupyter-widgets/base",
          "model_module_version": "1.2.0",
          "model_name": "LayoutModel",
          "state": {
            "_model_module": "@jupyter-widgets/base",
            "_model_module_version": "1.2.0",
            "_model_name": "LayoutModel",
            "_view_count": null,
            "_view_module": "@jupyter-widgets/base",
            "_view_module_version": "1.2.0",
            "_view_name": "LayoutView",
            "align_content": null,
            "align_items": null,
            "align_self": null,
            "border": null,
            "bottom": null,
            "display": null,
            "flex": null,
            "flex_flow": null,
            "grid_area": null,
            "grid_auto_columns": null,
            "grid_auto_flow": null,
            "grid_auto_rows": null,
            "grid_column": null,
            "grid_gap": null,
            "grid_row": null,
            "grid_template_areas": null,
            "grid_template_columns": null,
            "grid_template_rows": null,
            "height": null,
            "justify_content": null,
            "justify_items": null,
            "left": null,
            "margin": null,
            "max_height": null,
            "max_width": null,
            "min_height": null,
            "min_width": null,
            "object_fit": null,
            "object_position": null,
            "order": null,
            "overflow": null,
            "overflow_x": null,
            "overflow_y": null,
            "padding": null,
            "right": null,
            "top": null,
            "visibility": null,
            "width": null
          }
        },
        "e57f079c527148a581b10a5756d18f34": {
          "model_module": "@jupyter-widgets/base",
          "model_module_version": "1.2.0",
          "model_name": "LayoutModel",
          "state": {
            "_model_module": "@jupyter-widgets/base",
            "_model_module_version": "1.2.0",
            "_model_name": "LayoutModel",
            "_view_count": null,
            "_view_module": "@jupyter-widgets/base",
            "_view_module_version": "1.2.0",
            "_view_name": "LayoutView",
            "align_content": null,
            "align_items": null,
            "align_self": null,
            "border": null,
            "bottom": null,
            "display": null,
            "flex": null,
            "flex_flow": null,
            "grid_area": null,
            "grid_auto_columns": null,
            "grid_auto_flow": null,
            "grid_auto_rows": null,
            "grid_column": null,
            "grid_gap": null,
            "grid_row": null,
            "grid_template_areas": null,
            "grid_template_columns": null,
            "grid_template_rows": null,
            "height": null,
            "justify_content": null,
            "justify_items": null,
            "left": null,
            "margin": null,
            "max_height": null,
            "max_width": null,
            "min_height": null,
            "min_width": null,
            "object_fit": null,
            "object_position": null,
            "order": null,
            "overflow": null,
            "overflow_x": null,
            "overflow_y": null,
            "padding": null,
            "right": null,
            "top": null,
            "visibility": null,
            "width": null
          }
        },
        "e650245b4d744ae393f52703fe01c453": {
          "model_module": "@jupyter-widgets/base",
          "model_module_version": "1.2.0",
          "model_name": "LayoutModel",
          "state": {
            "_model_module": "@jupyter-widgets/base",
            "_model_module_version": "1.2.0",
            "_model_name": "LayoutModel",
            "_view_count": null,
            "_view_module": "@jupyter-widgets/base",
            "_view_module_version": "1.2.0",
            "_view_name": "LayoutView",
            "align_content": null,
            "align_items": null,
            "align_self": null,
            "border": null,
            "bottom": null,
            "display": null,
            "flex": null,
            "flex_flow": null,
            "grid_area": null,
            "grid_auto_columns": null,
            "grid_auto_flow": null,
            "grid_auto_rows": null,
            "grid_column": null,
            "grid_gap": null,
            "grid_row": null,
            "grid_template_areas": null,
            "grid_template_columns": null,
            "grid_template_rows": null,
            "height": null,
            "justify_content": null,
            "justify_items": null,
            "left": null,
            "margin": null,
            "max_height": null,
            "max_width": null,
            "min_height": null,
            "min_width": null,
            "object_fit": null,
            "object_position": null,
            "order": null,
            "overflow": null,
            "overflow_x": null,
            "overflow_y": null,
            "padding": null,
            "right": null,
            "top": null,
            "visibility": null,
            "width": null
          }
        },
        "e69a6270959e4a71b65dd6f9886f5648": {
          "model_module": "@jupyter-widgets/controls",
          "model_module_version": "1.5.0",
          "model_name": "DescriptionStyleModel",
          "state": {
            "_model_module": "@jupyter-widgets/controls",
            "_model_module_version": "1.5.0",
            "_model_name": "DescriptionStyleModel",
            "_view_count": null,
            "_view_module": "@jupyter-widgets/base",
            "_view_module_version": "1.2.0",
            "_view_name": "StyleView",
            "description_width": ""
          }
        },
        "e707975264844c768e3e17b94fd1699b": {
          "model_module": "@jupyter-widgets/controls",
          "model_module_version": "1.5.0",
          "model_name": "DescriptionStyleModel",
          "state": {
            "_model_module": "@jupyter-widgets/controls",
            "_model_module_version": "1.5.0",
            "_model_name": "DescriptionStyleModel",
            "_view_count": null,
            "_view_module": "@jupyter-widgets/base",
            "_view_module_version": "1.2.0",
            "_view_name": "StyleView",
            "description_width": ""
          }
        },
        "e74468672d6d44279181e7a380c85942": {
          "model_module": "@jupyter-widgets/base",
          "model_module_version": "1.2.0",
          "model_name": "LayoutModel",
          "state": {
            "_model_module": "@jupyter-widgets/base",
            "_model_module_version": "1.2.0",
            "_model_name": "LayoutModel",
            "_view_count": null,
            "_view_module": "@jupyter-widgets/base",
            "_view_module_version": "1.2.0",
            "_view_name": "LayoutView",
            "align_content": null,
            "align_items": null,
            "align_self": null,
            "border": null,
            "bottom": null,
            "display": null,
            "flex": null,
            "flex_flow": null,
            "grid_area": null,
            "grid_auto_columns": null,
            "grid_auto_flow": null,
            "grid_auto_rows": null,
            "grid_column": null,
            "grid_gap": null,
            "grid_row": null,
            "grid_template_areas": null,
            "grid_template_columns": null,
            "grid_template_rows": null,
            "height": null,
            "justify_content": null,
            "justify_items": null,
            "left": null,
            "margin": null,
            "max_height": null,
            "max_width": null,
            "min_height": null,
            "min_width": null,
            "object_fit": null,
            "object_position": null,
            "order": null,
            "overflow": null,
            "overflow_x": null,
            "overflow_y": null,
            "padding": null,
            "right": null,
            "top": null,
            "visibility": null,
            "width": null
          }
        },
        "e8a9e336c6864211b85d2e911338a5db": {
          "model_module": "@jupyter-widgets/controls",
          "model_module_version": "1.5.0",
          "model_name": "DescriptionStyleModel",
          "state": {
            "_model_module": "@jupyter-widgets/controls",
            "_model_module_version": "1.5.0",
            "_model_name": "DescriptionStyleModel",
            "_view_count": null,
            "_view_module": "@jupyter-widgets/base",
            "_view_module_version": "1.2.0",
            "_view_name": "StyleView",
            "description_width": ""
          }
        },
        "eb79f4115de84ef494619a6c3dda7346": {
          "model_module": "@jupyter-widgets/controls",
          "model_module_version": "1.5.0",
          "model_name": "FloatProgressModel",
          "state": {
            "_dom_classes": [],
            "_model_module": "@jupyter-widgets/controls",
            "_model_module_version": "1.5.0",
            "_model_name": "FloatProgressModel",
            "_view_count": null,
            "_view_module": "@jupyter-widgets/controls",
            "_view_module_version": "1.5.0",
            "_view_name": "ProgressView",
            "bar_style": "success",
            "description": "",
            "description_tooltip": null,
            "layout": "IPY_MODEL_b28d77eaa121420fa55c27de982cc90c",
            "max": 898822,
            "min": 0,
            "orientation": "horizontal",
            "style": "IPY_MODEL_af24c14339c7420dae15b9eabdfaad6d",
            "value": 898822
          }
        },
        "ec981c3e767f4160a6e3df3dcd61b326": {
          "model_module": "@jupyter-widgets/controls",
          "model_module_version": "1.5.0",
          "model_name": "HTMLModel",
          "state": {
            "_dom_classes": [],
            "_model_module": "@jupyter-widgets/controls",
            "_model_module_version": "1.5.0",
            "_model_name": "HTMLModel",
            "_view_count": null,
            "_view_module": "@jupyter-widgets/controls",
            "_view_module_version": "1.5.0",
            "_view_name": "HTMLView",
            "description": "",
            "description_tooltip": null,
            "layout": "IPY_MODEL_3037614818da4e3d9fc034883db0b56f",
            "placeholder": "​",
            "style": "IPY_MODEL_83a3229fea864e97ad6481acd095ef77",
            "value": " 872/872 [00:00&lt;00:00, 48305.26 examples/s]"
          }
        },
        "eecb4a55363b4f71a543c0514dae3106": {
          "model_module": "@jupyter-widgets/controls",
          "model_module_version": "1.5.0",
          "model_name": "HTMLModel",
          "state": {
            "_dom_classes": [],
            "_model_module": "@jupyter-widgets/controls",
            "_model_module_version": "1.5.0",
            "_model_name": "HTMLModel",
            "_view_count": null,
            "_view_module": "@jupyter-widgets/controls",
            "_view_module_version": "1.5.0",
            "_view_name": "HTMLView",
            "description": "",
            "description_tooltip": null,
            "layout": "IPY_MODEL_18d5928f9cd7461987884d0cb15f2948",
            "placeholder": "​",
            "style": "IPY_MODEL_b1b5abc4ada24781bb97b1ba436bc68c",
            "value": "pytorch_model.bin: 100%"
          }
        },
        "ef829a3ee4dd489f8a3c947d8ce7c452": {
          "model_module": "@jupyter-widgets/controls",
          "model_module_version": "1.5.0",
          "model_name": "HTMLModel",
          "state": {
            "_dom_classes": [],
            "_model_module": "@jupyter-widgets/controls",
            "_model_module_version": "1.5.0",
            "_model_name": "HTMLModel",
            "_view_count": null,
            "_view_module": "@jupyter-widgets/controls",
            "_view_module_version": "1.5.0",
            "_view_name": "HTMLView",
            "description": "",
            "description_tooltip": null,
            "layout": "IPY_MODEL_5cf0b18bc257451f9d0472cfe8e8570a",
            "placeholder": "​",
            "style": "IPY_MODEL_9021eade7c84492ba3f4530689e157f9",
            "value": " 899k/899k [00:00&lt;00:00, 39.0MB/s]"
          }
        },
        "ef853bd6a29e4a7f9297444478c785f6": {
          "model_module": "@jupyter-widgets/controls",
          "model_module_version": "1.5.0",
          "model_name": "HTMLModel",
          "state": {
            "_dom_classes": [],
            "_model_module": "@jupyter-widgets/controls",
            "_model_module_version": "1.5.0",
            "_model_name": "HTMLModel",
            "_view_count": null,
            "_view_module": "@jupyter-widgets/controls",
            "_view_module_version": "1.5.0",
            "_view_name": "HTMLView",
            "description": "",
            "description_tooltip": null,
            "layout": "IPY_MODEL_a0c9fb05ddc74739b1acae1428a428ae",
            "placeholder": "​",
            "style": "IPY_MODEL_af4e6a908e274dccb98013ecdf5f1734",
            "value": " 27.0/27.0 [00:00&lt;00:00, 1.56kB/s]"
          }
        },
        "f1819a759d734bfd94d88fb2fa2f717b": {
          "model_module": "@jupyter-widgets/controls",
          "model_module_version": "1.5.0",
          "model_name": "DescriptionStyleModel",
          "state": {
            "_model_module": "@jupyter-widgets/controls",
            "_model_module_version": "1.5.0",
            "_model_name": "DescriptionStyleModel",
            "_view_count": null,
            "_view_module": "@jupyter-widgets/base",
            "_view_module_version": "1.2.0",
            "_view_name": "StyleView",
            "description_width": ""
          }
        },
        "f24eccdeae5e45e9bc0da817ec12786f": {
          "model_module": "@jupyter-widgets/controls",
          "model_module_version": "1.5.0",
          "model_name": "HBoxModel",
          "state": {
            "_dom_classes": [],
            "_model_module": "@jupyter-widgets/controls",
            "_model_module_version": "1.5.0",
            "_model_name": "HBoxModel",
            "_view_count": null,
            "_view_module": "@jupyter-widgets/controls",
            "_view_module_version": "1.5.0",
            "_view_name": "HBoxView",
            "box_style": "",
            "children": [
              "IPY_MODEL_2138576532f2423bb2f91157f0ed1657",
              "IPY_MODEL_0d1ad79601444daeb23aa542d3695adc",
              "IPY_MODEL_284ef9fbd6f849259f88f9d0d8b2172b"
            ],
            "layout": "IPY_MODEL_6bf1e17c628840a1b34afeff4aea1651"
          }
        },
        "f2b0a9ca80be4987b594af665e8b3794": {
          "model_module": "@jupyter-widgets/controls",
          "model_module_version": "1.5.0",
          "model_name": "FloatProgressModel",
          "state": {
            "_dom_classes": [],
            "_model_module": "@jupyter-widgets/controls",
            "_model_module_version": "1.5.0",
            "_model_name": "FloatProgressModel",
            "_view_count": null,
            "_view_module": "@jupyter-widgets/controls",
            "_view_module_version": "1.5.0",
            "_view_name": "ProgressView",
            "bar_style": "success",
            "description": "",
            "description_tooltip": null,
            "layout": "IPY_MODEL_3413da231f9e4dc48f2d2b1626c37c61",
            "max": 35296,
            "min": 0,
            "orientation": "horizontal",
            "style": "IPY_MODEL_5cfed66a92a74a2285ed2aeb6b2c0ac5",
            "value": 35296
          }
        },
        "f3d9e41a989a4e12a1af15c2047be16c": {
          "model_module": "@jupyter-widgets/controls",
          "model_module_version": "1.5.0",
          "model_name": "HTMLModel",
          "state": {
            "_dom_classes": [],
            "_model_module": "@jupyter-widgets/controls",
            "_model_module_version": "1.5.0",
            "_model_name": "HTMLModel",
            "_view_count": null,
            "_view_module": "@jupyter-widgets/controls",
            "_view_module_version": "1.5.0",
            "_view_name": "HTMLView",
            "description": "",
            "description_tooltip": null,
            "layout": "IPY_MODEL_dfa406263df2423492e83c306822045a",
            "placeholder": "​",
            "style": "IPY_MODEL_9347132674b24e7aa9f85eda49e8dc6f",
            "value": "config.json: 100%"
          }
        },
        "f441917ec26942fd999b5e6bd293a9bc": {
          "model_module": "@jupyter-widgets/controls",
          "model_module_version": "1.5.0",
          "model_name": "FloatProgressModel",
          "state": {
            "_dom_classes": [],
            "_model_module": "@jupyter-widgets/controls",
            "_model_module_version": "1.5.0",
            "_model_name": "FloatProgressModel",
            "_view_count": null,
            "_view_module": "@jupyter-widgets/controls",
            "_view_module_version": "1.5.0",
            "_view_name": "ProgressView",
            "bar_style": "success",
            "description": "",
            "description_tooltip": null,
            "layout": "IPY_MODEL_b975d8ff24084df1b1530cf647eb9ac2",
            "max": 147793,
            "min": 0,
            "orientation": "horizontal",
            "style": "IPY_MODEL_c5d3885ed2e841c38b91e17ae8968f28",
            "value": 147793
          }
        },
        "f550c88ce6c749768709dc3b036ea74d": {
          "model_module": "@jupyter-widgets/controls",
          "model_module_version": "1.5.0",
          "model_name": "DescriptionStyleModel",
          "state": {
            "_model_module": "@jupyter-widgets/controls",
            "_model_module_version": "1.5.0",
            "_model_name": "DescriptionStyleModel",
            "_view_count": null,
            "_view_module": "@jupyter-widgets/base",
            "_view_module_version": "1.2.0",
            "_view_name": "StyleView",
            "description_width": ""
          }
        },
        "f8d5de2feffc4a73896701b585102e8d": {
          "model_module": "@jupyter-widgets/controls",
          "model_module_version": "1.5.0",
          "model_name": "FloatProgressModel",
          "state": {
            "_dom_classes": [],
            "_model_module": "@jupyter-widgets/controls",
            "_model_module_version": "1.5.0",
            "_model_name": "FloatProgressModel",
            "_view_count": null,
            "_view_module": "@jupyter-widgets/controls",
            "_view_module_version": "1.5.0",
            "_view_name": "ProgressView",
            "bar_style": "success",
            "description": "",
            "description_tooltip": null,
            "layout": "IPY_MODEL_bfd182d1bd554d9c973b7877b225e436",
            "max": 67349,
            "min": 0,
            "orientation": "horizontal",
            "style": "IPY_MODEL_007a4d62721c4b31a0912ba270cc5d4f",
            "value": 67349
          }
        },
        "f94fe4707f1e4a499fb32665a4c61529": {
          "model_module": "@jupyter-widgets/controls",
          "model_module_version": "1.5.0",
          "model_name": "ProgressStyleModel",
          "state": {
            "_model_module": "@jupyter-widgets/controls",
            "_model_module_version": "1.5.0",
            "_model_name": "ProgressStyleModel",
            "_view_count": null,
            "_view_module": "@jupyter-widgets/base",
            "_view_module_version": "1.2.0",
            "_view_name": "StyleView",
            "bar_color": null,
            "description_width": ""
          }
        },
        "fd8f921d370c41dabb4ba467a86d6a9d": {
          "model_module": "@jupyter-widgets/controls",
          "model_module_version": "1.5.0",
          "model_name": "DescriptionStyleModel",
          "state": {
            "_model_module": "@jupyter-widgets/controls",
            "_model_module_version": "1.5.0",
            "_model_name": "DescriptionStyleModel",
            "_view_count": null,
            "_view_module": "@jupyter-widgets/base",
            "_view_module_version": "1.2.0",
            "_view_name": "StyleView",
            "description_width": ""
          }
        },
        "fe1c5241dc9c458da141246ba6976b80": {
          "model_module": "@jupyter-widgets/controls",
          "model_module_version": "1.5.0",
          "model_name": "FloatProgressModel",
          "state": {
            "_dom_classes": [],
            "_model_module": "@jupyter-widgets/controls",
            "_model_module_version": "1.5.0",
            "_model_name": "FloatProgressModel",
            "_view_count": null,
            "_view_module": "@jupyter-widgets/controls",
            "_view_module_version": "1.5.0",
            "_view_name": "ProgressView",
            "bar_style": "success",
            "description": "",
            "description_tooltip": null,
            "layout": "IPY_MODEL_10ca367557774eadbd71bfe630d0f51e",
            "max": 647693783,
            "min": 0,
            "orientation": "horizontal",
            "style": "IPY_MODEL_477ede82bf6d4eeeac448809add6eeb9",
            "value": 647693783
          }
        }
      }
    }
  },
  "nbformat": 4,
  "nbformat_minor": 0
}
